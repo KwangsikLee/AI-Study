{
  "nbformat": 4,
  "nbformat_minor": 0,
  "metadata": {
    "colab": {
      "provenance": []
    },
    "kernelspec": {
      "name": "python3",
      "display_name": "Python 3"
    },
    "language_info": {
      "name": "python"
    }
  },
  "cells": [
    {
      "cell_type": "code",
      "source": [
        "# ✅ 크롬 & 드라이버 자동 설치\n",
        "!apt-get update > /dev/null\n",
        "!apt install -y wget unzip > /dev/null\n",
        "!wget -q https://dl.google.com/linux/direct/google-chrome-stable_current_amd64.deb\n",
        "!dpkg -i google-chrome-stable_current_amd64.deb || apt -fy install > /dev/null\n",
        "\n",
        "import re, json, urllib.request\n",
        "\n",
        "# 크롬 버전 확인\n",
        "chrome_version = !google-chrome --version\n",
        "chrome_version = re.search(r'(\\d+\\.\\d+\\.\\d+)', chrome_version[0]).group(1)\n",
        "\n",
        "# 드라이버 다운로드 URL 추출\n",
        "metadata_url = 'https://googlechromelabs.github.io/chrome-for-testing/last-known-good-versions-with-downloads.json'\n",
        "with urllib.request.urlopen(metadata_url) as url:\n",
        "    data = json.load(url)\n",
        "    matched = next(item for item in data['channels'].values() if chrome_version in item['version'])\n",
        "    driver_url = next(dl['url'] for dl in matched['downloads']['chromedriver'] if dl['platform'] == 'linux64')\n",
        "\n",
        "# 다운로드 및 압축 해제\n",
        "!wget -q \"$driver_url\" -O chromedriver_linux64.zip\n",
        "!unzip -o chromedriver_linux64.zip > /dev/null\n",
        "!mv chromedriver-linux64/chromedriver /usr/bin/chromedriver\n",
        "!chmod +x /usr/bin/chromedriver\n"
      ],
      "metadata": {
        "colab": {
          "base_uri": "https://localhost:8080/"
        },
        "id": "2GSymjLgbdgc",
        "outputId": "da20fd72-9ac7-4197-a357-da0a21dbb17b"
      },
      "execution_count": 6,
      "outputs": [
        {
          "output_type": "stream",
          "name": "stdout",
          "text": [
            "W: Skipping acquire of configured file 'main/source/Sources' as repository 'https://r2u.stat.illinois.edu/ubuntu jammy InRelease' does not seem to provide it (sources.list entry misspelt?)\n",
            "\n",
            "WARNING: apt does not have a stable CLI interface. Use with caution in scripts.\n",
            "\n",
            "(Reading database ... 126464 files and directories currently installed.)\n",
            "Preparing to unpack google-chrome-stable_current_amd64.deb ...\n",
            "Unpacking google-chrome-stable (138.0.7204.49-1) over (138.0.7204.49-1) ...\n",
            "Setting up google-chrome-stable (138.0.7204.49-1) ...\n",
            "Processing triggers for mailcap (3.70+nmu1ubuntu1) ...\n",
            "Processing triggers for man-db (2.10.2-1) ...\n"
          ]
        }
      ]
    },
    {
      "cell_type": "code",
      "execution_count": 7,
      "metadata": {
        "colab": {
          "base_uri": "https://localhost:8080/"
        },
        "id": "GOYSZIlgZX_4",
        "outputId": "cf918a96-9e8b-49f4-ce10-f934a091e636"
      },
      "outputs": [
        {
          "output_type": "stream",
          "name": "stdout",
          "text": [
            "페이지 내 albumDetail 함수 개수: 200\n",
            "   album_id                                          album_url\n",
            "0      4556  https://www.melon.com/album/detail.htm?albumId...\n",
            "1      4830  https://www.melon.com/album/detail.htm?albumId...\n",
            "2       457  https://www.melon.com/album/detail.htm?albumId...\n",
            "3      6543  https://www.melon.com/album/detail.htm?albumId...\n",
            "4      4986  https://www.melon.com/album/detail.htm?albumId...\n",
            "..      ...                                                ...\n",
            "79     7874  https://www.melon.com/album/detail.htm?albumId...\n",
            "80      709  https://www.melon.com/album/detail.htm?albumId...\n",
            "81     3260  https://www.melon.com/album/detail.htm?albumId...\n",
            "82      116  https://www.melon.com/album/detail.htm?albumId...\n",
            "83     4397  https://www.melon.com/album/detail.htm?albumId...\n",
            "\n",
            "[84 rows x 2 columns]\n"
          ]
        }
      ],
      "source": [
        "!pip install selenium > /dev/null\n",
        "from selenium import webdriver\n",
        "from selenium.webdriver.chrome.service import Service\n",
        "from selenium.webdriver.chrome.options import Options\n",
        "import re\n",
        "import pandas as pd\n",
        "import time\n",
        "\n",
        "# 크롬 설정 (headless 환경 가능)\n",
        "chrome_options = Options()\n",
        "chrome_options.add_argument('--headless')\n",
        "chrome_options.add_argument('--no-sandbox')\n",
        "chrome_options.add_argument('--disable-dev-shm-usage')\n",
        "chrome_options.add_argument(\"user-agent=Mozilla/5.0\")\n",
        "chrome_options.binary_location = \"/usr/bin/google-chrome\"\n",
        "\n",
        "# 드라이버 실행\n",
        "service = Service(\"/usr/bin/chromedriver\")\n",
        "driver = webdriver.Chrome(service=service, options=chrome_options)\n",
        "\n",
        "\n",
        "# 멜론 연도별 차트 URL\n",
        "url = \"https://www.melon.com/chart/age/index.htm?chartType=YE&chartGenre=KPOP&chartDate=2000\"\n",
        "driver.get(url)\n",
        "time.sleep(5)  # JS 렌더링 대기\n",
        "\n",
        "# 전체 페이지 소스를 문자열로 가져오기\n",
        "html = driver.page_source\n",
        "\n",
        "# ✅ 정규표현식으로 goAlbumDetail('123456') 형태 찾기\n",
        "#album_ids = re.findall(r\"goAlbumDetail\\('(\\d+)'\\)\", html)\n",
        "album_ids = list(set(re.findall(r\"goAlbumDetail\\('(\\d+)'\\)\", html)))  # 중복 제거\n",
        "\n",
        "\n",
        "print(\"페이지 내 albumDetail 함수 개수:\", len(re.findall(r\"goAlbumDetail\\('(\\d+)'\\)\", html)))\n",
        "\n",
        "\n",
        "# ✅ URL 생성\n",
        "album_urls = [f\"https://www.melon.com/album/detail.htm?albumId={aid}\" for aid in album_ids]\n",
        "\n",
        "# ✅ 결과 출력 및 저장\n",
        "df = pd.DataFrame({\n",
        "    'album_id': album_ids,\n",
        "    'album_url': album_urls\n",
        "})\n",
        "print(df)\n",
        "df.to_csv(\"melon_album_urls_1994.csv\", index=False)\n",
        "\n",
        "driver.quit()"
      ]
    },
    {
      "cell_type": "code",
      "source": [
        "from selenium import webdriver\n",
        "from selenium.webdriver.chrome.service import Service\n",
        "from selenium.webdriver.chrome.options import Options\n",
        "from selenium.webdriver.common.by import By\n",
        "import pandas as pd\n",
        "import time\n",
        "\n",
        "# ▶ 1. 앨범 URL 목록 로드\n",
        "album_df = pd.read_csv(\"/content/melon_album_urls_1994.csv\")\n",
        "album_urls = album_df['album_url'].tolist()\n",
        "\n",
        "# ▶ 2. 크롬 드라이버 설정\n",
        "chrome_options = Options()\n",
        "chrome_options.add_argument('--headless')\n",
        "chrome_options.add_argument('--no-sandbox')\n",
        "chrome_options.add_argument('--disable-dev-shm-usage')\n",
        "chrome_options.add_argument(\"user-agent=Mozilla/5.0\")\n",
        "chrome_options.binary_location = \"/usr/bin/google-chrome\"\n",
        "\n",
        "service = Service(\"/usr/bin/chromedriver\")\n",
        "driver = webdriver.Chrome(service=service, options=chrome_options)\n",
        "\n",
        "# ▶ 3. 결과 저장 리스트\n",
        "result = []\n",
        "\n",
        "for album_url in album_urls:\n",
        "    try:\n",
        "        driver.get(album_url)\n",
        "        time.sleep(2)\n",
        "\n",
        "        # 앨범명과 아티스트명\n",
        "        album_title = driver.find_element(By.CLASS_NAME, \"song_name\").text.replace(\"앨범명\", \"\").strip()\n",
        "        artist_name = driver.find_element(By.CLASS_NAME, \"artist\").text.strip()\n",
        "\n",
        "        # 수록곡 리스트\n",
        "        song_rows = driver.find_elements(By.CSS_SELECTOR, 'div#d_song_list table > tbody > tr')\n",
        "\n",
        "        for row in song_rows:\n",
        "            try:\n",
        "                title_tag = row.find_element(By.CSS_SELECTOR, 'div.ellipsis.rank01 a')\n",
        "                song_title = title_tag.text.strip()\n",
        "                song_href = title_tag.get_attribute('href')\n",
        "\n",
        "                # 곡 상세 페이지로 이동\n",
        "                driver.get(song_href)\n",
        "                time.sleep(2)\n",
        "\n",
        "                # 가사 추출\n",
        "                lyrics_element = driver.find_element(By.CSS_SELECTOR, 'div.lyric')\n",
        "                lyrics = lyrics_element.text.strip().replace('\\n', ' ')\n",
        "\n",
        "                result.append({\n",
        "                    \"album\": album_title,\n",
        "                    \"artist\": artist_name,\n",
        "                    \"title\": song_title,\n",
        "                    \"lyrics\": lyrics\n",
        "                })\n",
        "\n",
        "                driver.back()\n",
        "                time.sleep(1)\n",
        "            except Exception as e:\n",
        "                print(f\"⚠️ 곡 처리 실패: {e}\")\n",
        "                continue\n",
        "    except Exception as e:\n",
        "        print(f\"❌ 앨범 처리 실패: {e}\")\n",
        "        continue\n",
        "\n",
        "driver.quit()\n",
        "\n",
        "# ▶ 4. 결과 저장\n",
        "df_result = pd.DataFrame(result)\n",
        "df_result.to_csv(\"melon_lyrics_1994.csv\", index=False)\n",
        "print(\"✅ melon_lyrics_1994.csv 저장 완료\")\n"
      ],
      "metadata": {
        "colab": {
          "base_uri": "https://localhost:8080/"
        },
        "id": "61AEPLGCkdIa",
        "outputId": "f28ef146-b04f-4baa-cf3f-795b686cee5e"
      },
      "execution_count": 8,
      "outputs": [
        {
          "output_type": "stream",
          "name": "stdout",
          "text": [
            "✅ melon_lyrics_1994.csv 저장 완료\n"
          ]
        }
      ]
    },
    {
      "cell_type": "code",
      "source": [
        "# ▶ 환경 설치 (Colab 전용)\n",
        "!apt-get update > /dev/null\n",
        "!apt install -y wget unzip > /dev/null\n",
        "!wget -q https://dl.google.com/linux/direct/google-chrome-stable_current_amd64.deb\n",
        "!dpkg -i google-chrome-stable_current_amd64.deb || apt -fy install > /dev/null\n",
        "\n",
        "# ▶ 크롬 버전 확인 및 드라이버 자동 설치\n",
        "import re, json, urllib.request\n",
        "\n",
        "chrome_version = !google-chrome --version\n",
        "chrome_version = re.search(r'(\\d+\\.\\d+\\.\\d+)', chrome_version[0]).group(1)\n",
        "\n",
        "metadata_url = 'https://googlechromelabs.github.io/chrome-for-testing/last-known-good-versions-with-downloads.json'\n",
        "with urllib.request.urlopen(metadata_url) as url:\n",
        "    data = json.load(url)\n",
        "    matched = next(item for item in data['channels'].values() if chrome_version in item['version'])\n",
        "    driver_url = next(dl['url'] for dl in matched['downloads']['chromedriver'] if dl['platform'] == 'linux64')\n",
        "\n",
        "!wget -q \"$driver_url\" -O chromedriver_linux64.zip\n",
        "!unzip -o chromedriver_linux64.zip > /dev/null\n",
        "!mv chromedriver-linux64/chromedriver /usr/bin/chromedriver\n",
        "!chmod +x /usr/bin/chromedriver\n",
        "!pip install selenium > /dev/null"
      ],
      "metadata": {
        "colab": {
          "base_uri": "https://localhost:8080/"
        },
        "id": "i_2CKXOon-6W",
        "outputId": "dd39689a-993a-4a75-cf43-3396de4ac63a"
      },
      "execution_count": 9,
      "outputs": [
        {
          "output_type": "stream",
          "name": "stdout",
          "text": [
            "W: Skipping acquire of configured file 'main/source/Sources' as repository 'https://r2u.stat.illinois.edu/ubuntu jammy InRelease' does not seem to provide it (sources.list entry misspelt?)\n",
            "\n",
            "WARNING: apt does not have a stable CLI interface. Use with caution in scripts.\n",
            "\n",
            "(Reading database ... 126464 files and directories currently installed.)\n",
            "Preparing to unpack google-chrome-stable_current_amd64.deb ...\n",
            "Unpacking google-chrome-stable (138.0.7204.49-1) over (138.0.7204.49-1) ...\n",
            "Setting up google-chrome-stable (138.0.7204.49-1) ...\n",
            "Processing triggers for mailcap (3.70+nmu1ubuntu1) ...\n",
            "Processing triggers for man-db (2.10.2-1) ...\n"
          ]
        }
      ]
    },
    {
      "cell_type": "code",
      "source": [
        "from selenium import webdriver\n",
        "from selenium.webdriver.chrome.options import Options\n",
        "from selenium.webdriver.chrome.service import Service\n",
        "from selenium.webdriver.common.by import By\n",
        "import pandas as pd\n",
        "import time\n",
        "import re\n",
        "\n",
        "# ▶ 2. 크롬 드라이버 설정\n",
        "chrome_options = Options()\n",
        "chrome_options.add_argument('--headless')\n",
        "chrome_options.add_argument('--no-sandbox')\n",
        "chrome_options.add_argument('--disable-dev-shm-usage')\n",
        "chrome_options.add_argument(\"user-agent=Mozilla/5.0\")\n",
        "chrome_options.binary_location = \"/usr/bin/google-chrome\"\n",
        "\n",
        "service = Service(\"/usr/bin/chromedriver\")\n",
        "driver = webdriver.Chrome(service=service, options=chrome_options)\n",
        "\n",
        "# ▶ 대상 앨범 URL\n",
        "album_url = \"https://www.melon.com/album/detail.htm?albumId=3933\"\n",
        "album_id = re.search(r'albumId=(\\d+)', album_url).group(1)\n",
        "\n",
        "driver.get(album_url)\n",
        "time.sleep(3)\n",
        "\n",
        "# ▶ 앨범명 / 아티스트명 추출\n",
        "album_title = driver.find_element(By.CLASS_NAME, \"song_name\").text.replace(\"앨범명\", \"\").strip()\n",
        "artist_name = driver.find_element(By.CLASS_NAME, \"artist\").text.strip()\n",
        "\n",
        "# ▶ 곡 ID 추출 (goSongDetail)\n",
        "html = driver.page_source\n",
        "song_ids = re.findall(r\"goSongDetail\\('(\\d+)'\\)\", html)\n",
        "print(f\"🎶 추출된 곡 수: {len(song_ids)}\")\n",
        "\n",
        "# ▶ 곡별 수집\n",
        "result = []\n",
        "for song_id in song_ids:\n",
        "    try:\n",
        "        song_url = f\"https://www.melon.com/song/detail.htm?songId={song_id}\"\n",
        "        driver.get(song_url)\n",
        "        time.sleep(2)\n",
        "\n",
        "        # 곡 제목\n",
        "        title = driver.find_element(By.CSS_SELECTOR, 'div.song_name').text.replace(\"곡명\", \"\").strip()\n",
        "\n",
        "        # 가사\n",
        "        lyrics_tags = driver.find_elements(By.CSS_SELECTOR, 'div.lyric')\n",
        "        lyrics = lyrics_tags[0].text.strip().replace('\\n', ' ') if lyrics_tags else \"\"\n",
        "\n",
        "        result.append({\n",
        "            \"albumid\": album_id,\n",
        "            \"songid\": song_id,\n",
        "            \"album\": album_title,\n",
        "            \"artist\": artist_name,\n",
        "            \"title\": title,\n",
        "            \"lyrics\": lyrics\n",
        "        })\n",
        "    except Exception as e:\n",
        "        print(f\"⚠️ 오류 (songId={song_id}):\", e)\n",
        "        continue\n",
        "\n",
        "driver.quit()\n",
        "\n",
        "# ▶ CSV 저장\n",
        "df = pd.DataFrame(result)\n",
        "df.to_csv(\"melon_lyrics_3933.csv\", index=False)\n",
        "print(\"✅ melon_lyrics_3933.csv 저장 완료!\")\n"
      ],
      "metadata": {
        "colab": {
          "base_uri": "https://localhost:8080/"
        },
        "id": "UEBOHpKXmVMh",
        "outputId": "b669925f-21e3-479c-b111-81aba6c407d8"
      },
      "execution_count": 10,
      "outputs": [
        {
          "output_type": "stream",
          "name": "stdout",
          "text": [
            "🎶 추출된 곡 수: 20\n",
            "✅ melon_lyrics_3933.csv 저장 완료!\n"
          ]
        }
      ]
    }
  ]
}