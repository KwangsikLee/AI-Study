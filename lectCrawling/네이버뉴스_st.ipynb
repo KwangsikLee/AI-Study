{
  "nbformat": 4,
  "nbformat_minor": 0,
  "metadata": {
    "colab": {
      "provenance": []
    },
    "kernelspec": {
      "name": "python3",
      "display_name": "Python 3"
    },
    "language_info": {
      "name": "python"
    }
  },
  "cells": [
    {
      "cell_type": "code",
      "source": [
        "\n",
        "\n",
        "# 구글 코랩용 뉴스 크롤링 + 워드클라우드 예제\n",
        "\n",
        "# 워드클라우드 관련 라이브러리 설치 (코랩에서 한 번만 실행)\n",
        "!pip install wordcloud konlpy\n",
        "\n",
        "# 1. 필수 라이브러리 설치\n",
        "!pip install streamlit -q\n",
        "\n",
        "# 나눔고딕 폰트 설치 및 설정\n",
        "!apt-get update -qq\n",
        "!apt-get install fonts-nanum -qq\n",
        "!fc-cache -fv\n",
        "!rm ~/.cache/matplotlib -rf\n"
      ],
      "metadata": {
        "colab": {
          "base_uri": "https://localhost:8080/"
        },
        "id": "BsmLnZT_IDud",
        "outputId": "f5c27eab-47e8-4b03-d0de-0a0661b3c805"
      },
      "execution_count": 9,
      "outputs": [
        {
          "output_type": "stream",
          "name": "stdout",
          "text": [
            "Requirement already satisfied: wordcloud in /usr/local/lib/python3.11/dist-packages (1.9.4)\n",
            "Requirement already satisfied: konlpy in /usr/local/lib/python3.11/dist-packages (0.6.0)\n",
            "Requirement already satisfied: numpy>=1.6.1 in /usr/local/lib/python3.11/dist-packages (from wordcloud) (2.0.2)\n",
            "Requirement already satisfied: pillow in /usr/local/lib/python3.11/dist-packages (from wordcloud) (11.2.1)\n",
            "Requirement already satisfied: matplotlib in /usr/local/lib/python3.11/dist-packages (from wordcloud) (3.10.0)\n",
            "Requirement already satisfied: JPype1>=0.7.0 in /usr/local/lib/python3.11/dist-packages (from konlpy) (1.5.2)\n",
            "Requirement already satisfied: lxml>=4.1.0 in /usr/local/lib/python3.11/dist-packages (from konlpy) (5.4.0)\n",
            "Requirement already satisfied: packaging in /usr/local/lib/python3.11/dist-packages (from JPype1>=0.7.0->konlpy) (24.2)\n",
            "Requirement already satisfied: contourpy>=1.0.1 in /usr/local/lib/python3.11/dist-packages (from matplotlib->wordcloud) (1.3.2)\n",
            "Requirement already satisfied: cycler>=0.10 in /usr/local/lib/python3.11/dist-packages (from matplotlib->wordcloud) (0.12.1)\n",
            "Requirement already satisfied: fonttools>=4.22.0 in /usr/local/lib/python3.11/dist-packages (from matplotlib->wordcloud) (4.58.4)\n",
            "Requirement already satisfied: kiwisolver>=1.3.1 in /usr/local/lib/python3.11/dist-packages (from matplotlib->wordcloud) (1.4.8)\n",
            "Requirement already satisfied: pyparsing>=2.3.1 in /usr/local/lib/python3.11/dist-packages (from matplotlib->wordcloud) (3.2.3)\n",
            "Requirement already satisfied: python-dateutil>=2.7 in /usr/local/lib/python3.11/dist-packages (from matplotlib->wordcloud) (2.9.0.post0)\n",
            "Requirement already satisfied: six>=1.5 in /usr/local/lib/python3.11/dist-packages (from python-dateutil>=2.7->matplotlib->wordcloud) (1.17.0)\n",
            "W: Skipping acquire of configured file 'main/source/Sources' as repository 'https://r2u.stat.illinois.edu/ubuntu jammy InRelease' does not seem to provide it (sources.list entry misspelt?)\n",
            "/usr/share/fonts: caching, new cache contents: 0 fonts, 1 dirs\n",
            "/usr/share/fonts/truetype: caching, new cache contents: 0 fonts, 3 dirs\n",
            "/usr/share/fonts/truetype/humor-sans: caching, new cache contents: 1 fonts, 0 dirs\n",
            "/usr/share/fonts/truetype/liberation: caching, new cache contents: 16 fonts, 0 dirs\n",
            "/usr/share/fonts/truetype/nanum: caching, new cache contents: 12 fonts, 0 dirs\n",
            "/usr/local/share/fonts: caching, new cache contents: 0 fonts, 0 dirs\n",
            "/root/.local/share/fonts: skipping, no such directory\n",
            "/root/.fonts: skipping, no such directory\n",
            "/usr/share/fonts/truetype: skipping, looped directory detected\n",
            "/usr/share/fonts/truetype/humor-sans: skipping, looped directory detected\n",
            "/usr/share/fonts/truetype/liberation: skipping, looped directory detected\n",
            "/usr/share/fonts/truetype/nanum: skipping, looped directory detected\n",
            "/var/cache/fontconfig: cleaning cache directory\n",
            "/root/.cache/fontconfig: not cleaning non-existent cache directory\n",
            "/root/.fontconfig: not cleaning non-existent cache directory\n",
            "fc-cache: succeeded\n"
          ]
        }
      ]
    },
    {
      "cell_type": "code",
      "source": [
        "# streamlit 화일명\n",
        "%%writefile news_graph.py\n",
        "\n",
        "# 필요한 라이브러리 임포트\n",
        "import requests\n",
        "from bs4 import BeautifulSoup\n",
        "import time\n",
        "import pandas as pd\n",
        "from datetime import datetime\n",
        "import matplotlib.pyplot as plt\n",
        "import seaborn as sns\n",
        "import matplotlib.font_manager as fm\n",
        "\n",
        "# 폰트 설정\n",
        "font_path = '/usr/share/fonts/truetype/nanum/NanumGothic.ttf'\n",
        "fontprop = fm.FontProperties(fname=font_path, size=10)\n",
        "plt.rcParams['font.family'] = 'NanumGothic'\n",
        "plt.rcParams['axes.unicode_minus'] = False"
      ],
      "metadata": {
        "id": "lhAQGN9z6A8l",
        "colab": {
          "base_uri": "https://localhost:8080/"
        },
        "outputId": "d17543a0-7b1b-4b8f-a743-940891e2408d"
      },
      "execution_count": 10,
      "outputs": [
        {
          "output_type": "stream",
          "name": "stdout",
          "text": [
            "Overwriting news_graph.py\n"
          ]
        }
      ]
    },
    {
      "cell_type": "markdown",
      "source": [],
      "metadata": {
        "id": "p1GV3ELNlkvK"
      }
    },
    {
      "cell_type": "markdown",
      "source": [
        "# 코드시작"
      ],
      "metadata": {
        "id": "CQMr3ufzlhd2"
      }
    },
    {
      "cell_type": "code",
      "source": [
        "%%writefile news_graph.py\n",
        "\n",
        "import requests\n",
        "from bs4 import BeautifulSoup\n",
        "import time\n",
        "import pandas as pd\n",
        "from datetime import datetime\n",
        "import matplotlib.pyplot as plt\n",
        "import seaborn as sns\n",
        "import matplotlib.font_manager as fm\n",
        "import streamlit as st # Import streamlit\n",
        "\n",
        "# 폰트 설정\n",
        "font_path = '/usr/share/fonts/truetype/nanum/NanumGothic.ttf'\n",
        "fontprop = fm.FontProperties(fname=font_path, size=10)\n",
        "plt.rcParams['font.family'] = 'NanumGothic'\n",
        "plt.rcParams['axes.unicode_minus'] = False\n",
        "\n",
        "\n",
        "def crawl_naver_news():\n",
        "    \"\"\"네이버 뉴스 메인 페이지에서 헤드라인을 크롤링하는 함수\"\"\"\n",
        "\n",
        "    st.write(\" 네이버 뉴스 크롤링을 시작합니다...\") # Use st.write instead of print\n",
        "\n",
        "    # 웹 페이지 URL\n",
        "    url = \"https://news.naver.com\"\n",
        "\n",
        "    # 헤더 설정 (코랩 환경에 맞게 조정)\n",
        "    headers = {\n",
        "        'User-Agent': 'Mozilla/5.0 (X11; Linux x86_64) AppleWebKit/537.36 (KHTML, like Gecko) Chrome/91.0.4472.124 Safari/537.36'\n",
        "    }\n",
        "\n",
        "    try:\n",
        "        # 웹 페이지 요청\n",
        "        response = requests.get(url, headers=headers, timeout=10)\n",
        "        response.raise_for_status()\n",
        "\n",
        "        # HTML 파싱\n",
        "        soup = BeautifulSoup(response.text, 'html.parser')\n",
        "\n",
        "        # 뉴스 헤드라인 추출\n",
        "        headlines = []\n",
        "\n",
        "        # 여러 가지 방법으로 뉴스 헤드라인 찾기\n",
        "        selectors = [\n",
        "            'a.cjs_news_link',\n",
        "            'a[href*=\"/article/\"]',\n",
        "            '.hdline_article_tit',\n",
        "            '.cluster_text_headline'\n",
        "        ]\n",
        "\n",
        "        for selector in selectors:\n",
        "            items = soup.select(selector)\n",
        "            if items:\n",
        "                for item in items[:10]:\n",
        "                    title = item.get_text().strip()\n",
        "                    if title and len(title) > 10:\n",
        "                        headlines.append(title)\n",
        "                break\n",
        "\n",
        "        # 결과 출력\n",
        "        st.write(f\"\\n 총 {len(headlines)}개의 뉴스 헤드라인을 찾았습니다!\") # Use st.write\n",
        "        st.write(\"=\" * 60) # Use st.write\n",
        "\n",
        "        for i, headline in enumerate(headlines[:10], 1):\n",
        "            st.write(f\"{i:2d}. {headline}\") # Use st.write\n",
        "\n",
        "        st.write(\"=\" * 60) # Use st.write\n",
        "\n",
        "        return headlines\n",
        "\n",
        "    except requests.RequestException as e:\n",
        "        st.error(f\" 네트워크 오류: {e}\") # Use st.error for errors\n",
        "        return []\n",
        "    except Exception as e:\n",
        "        st.error(f\" 크롤링 오류: {e}\") # Use st.error\n",
        "        return []\n",
        "\n",
        "\n",
        "def create_news_dataframe(headlines):\n",
        "    \"\"\"뉴스 헤드라인을 데이터프레임으로 변환\"\"\"\n",
        "\n",
        "    if not headlines:\n",
        "        st.write(\" 분석할 헤드라인이 없습니다.\") # Use st.write\n",
        "        return None\n",
        "\n",
        "    # 데이터프레임 생성\n",
        "    df = pd.DataFrame({\n",
        "        '순번': range(1, len(headlines) + 1),\n",
        "        '헤드라인': headlines,\n",
        "        '글자수': [len(headline) for headline in headlines],\n",
        "        '크롤링시간': [datetime.now().strftime('%Y-%m-%d %H:%M:%S')] * len(headlines)\n",
        "    })\n",
        "\n",
        "    st.write(\"\\n 뉴스 데이터 분석:\") # Use st.write\n",
        "    st.write(f\"총 뉴스 개수: {len(df)}\") # Use st.write\n",
        "    st.write(f\"평균 글자수: {df['글자수'].mean():.1f}\") # Use st.write\n",
        "    st.write(f\"최대 글자수: {df['글자수'].max()}\") # Use st.write\n",
        "    st.write(f\"최소 글자수: {df['글자수'].min()}\") # Use st.write\n",
        "\n",
        "    return df\n",
        "\n",
        "def visualize_news_data(df):\n",
        "    \"\"\"뉴스 데이터 시각화\"\"\"\n",
        "\n",
        "    if df is None or df.empty:\n",
        "        st.write(\" 시각화할 데이터가 없습니다.\") # Use st.write\n",
        "        return\n",
        "\n",
        "    # 그래프 스타일 설정\n",
        "    plt.style.use('default')\n",
        "    fig, axes = plt.subplots(1, 3, figsize=(20, 5))\n",
        "\n",
        "    # 1. 헤드라인 글자수 분포 (히스토그램)\n",
        "    axes[0].hist(df['글자수'], bins=10, color='skyblue', alpha=0.7, edgecolor='black')\n",
        "    axes[0].set_title('News Headline Length Distribution', fontsize=14, fontweight='bold')\n",
        "    axes[0].set_xlabel('Number of Characters')\n",
        "    axes[0].set_ylabel('Frequency')\n",
        "    axes[0].grid(True, alpha=0.3)\n",
        "\n",
        "    # 2. 헤드라인별 글자수 (라인 그래프)\n",
        "    axes[1].plot(df['순번'], df['글자수'], marker='o', color='lightcoral', alpha=0.7)\n",
        "    axes[1].set_title('Character Count by Headline (Line)', fontsize=14, fontweight='bold')\n",
        "    axes[1].set_xlabel('Headline Number')\n",
        "    axes[1].set_ylabel('Number of Characters')\n",
        "    axes[1].grid(True, alpha=0.3)\n",
        "\n",
        "    # 3. 헤드라인별 글자수 (파이 그래프)\n",
        "    total_chars = df['글자수'].sum()\n",
        "    sizes = df['글자수'] / total_chars\n",
        "    labels = [f'Headline {i}' for i in df['순번']]\n",
        "\n",
        "    axes[2].pie(sizes, labels=labels, autopct='%1.1f%%', startangle=90)\n",
        "    axes[2].set_title('Proportion of Total Characters by Headline', fontsize=14, fontweight='bold')\n",
        "    axes[2].axis('equal')\n",
        "\n",
        "    plt.tight_layout()\n",
        "    st.pyplot(fig) # Display the matplotlib figure in Streamlit\n",
        "\n",
        "\n",
        "# Streamlit 앱의 메인 로직\n",
        "st.title(\"네이버 뉴스 헤드라인 분석\") # Set a title for the Streamlit app\n",
        "\n",
        "st.write(\" 구글 코랩 웹 크롤링 실습을 시작합니다!\")\n",
        "st.write(\"=\" * 70)\n",
        "\n",
        "# 2. 실제 웹사이트 크롤링\n",
        "headlines = crawl_naver_news()\n",
        "\n",
        "# 4. 데이터 분석\n",
        "if headlines:\n",
        "    df = create_news_dataframe(headlines)\n",
        "\n",
        "    if df is not None:\n",
        "        st.write(\"\\n 데이터프레임 미리보기:\")\n",
        "        st.dataframe(df.head()) # Use st.dataframe to display the dataframe\n",
        "\n",
        "        # 5. 시각화\n",
        "        visualize_news_data(df)\n",
        "\n",
        "        # 6. CSV 파일로 저장 (코랩에서 다운로드 가능)\n",
        "        df.to_csv('news_headlines.csv', index=False, encoding='utf-8')\n",
        "        st.write(\"\\n 'news_headlines.csv' 파일로 저장되었습니다!\")\n",
        "        st.write(\"   (코랩 왼쪽 파일 탭에서 다운로드 가능)\")\n",
        "\n",
        "st.write(\"\\n 크롤링 실습이 완료되었습니다!\")"
      ],
      "metadata": {
        "id": "ulnRHTvy6DGD",
        "colab": {
          "base_uri": "https://localhost:8080/"
        },
        "outputId": "b5baed44-c1a3-4795-e4ba-9a7dc32fb6c6"
      },
      "execution_count": 11,
      "outputs": [
        {
          "output_type": "stream",
          "name": "stdout",
          "text": [
            "Overwriting news_graph.py\n"
          ]
        }
      ]
    },
    {
      "cell_type": "code",
      "execution_count": 13,
      "metadata": {
        "colab": {
          "base_uri": "https://localhost:8080/"
        },
        "id": "_WVnaiLLmARr",
        "outputId": "827d1512-86b8-4e5d-ef46-c10fe0265b07"
      },
      "outputs": [
        {
          "output_type": "stream",
          "name": "stderr",
          "text": [
            "2025-06-30 05:15:47.486 Thread 'MainThread': missing ScriptRunContext! This warning can be ignored when running in bare mode.\n",
            "2025-06-30 05:15:47.491 Thread 'MainThread': missing ScriptRunContext! This warning can be ignored when running in bare mode.\n",
            "2025-06-30 05:15:47.494 Thread 'MainThread': missing ScriptRunContext! This warning can be ignored when running in bare mode.\n"
          ]
        },
        {
          "output_type": "stream",
          "name": "stdout",
          "text": [
            " 구글 코랩 웹 크롤링 실습을 시작합니다!\n",
            "======================================================================\n",
            "\n",
            "======================================================================\n"
          ]
        },
        {
          "output_type": "stream",
          "name": "stderr",
          "text": [
            "2025-06-30 05:15:48.910 Thread 'MainThread': missing ScriptRunContext! This warning can be ignored when running in bare mode.\n",
            "2025-06-30 05:15:48.916 Thread 'MainThread': missing ScriptRunContext! This warning can be ignored when running in bare mode.\n",
            "2025-06-30 05:15:48.919 Thread 'MainThread': missing ScriptRunContext! This warning can be ignored when running in bare mode.\n",
            "2025-06-30 05:15:48.922 Thread 'MainThread': missing ScriptRunContext! This warning can be ignored when running in bare mode.\n",
            "2025-06-30 05:15:48.927 Thread 'MainThread': missing ScriptRunContext! This warning can be ignored when running in bare mode.\n",
            "2025-06-30 05:15:48.935 Thread 'MainThread': missing ScriptRunContext! This warning can be ignored when running in bare mode.\n",
            "2025-06-30 05:15:48.948 Thread 'MainThread': missing ScriptRunContext! This warning can be ignored when running in bare mode.\n",
            "2025-06-30 05:15:48.949 Thread 'MainThread': missing ScriptRunContext! This warning can be ignored when running in bare mode.\n",
            "2025-06-30 05:15:48.952 Thread 'MainThread': missing ScriptRunContext! This warning can be ignored when running in bare mode.\n",
            "2025-06-30 05:15:48.955 Thread 'MainThread': missing ScriptRunContext! This warning can be ignored when running in bare mode.\n",
            "2025-06-30 05:15:48.957 Thread 'MainThread': missing ScriptRunContext! This warning can be ignored when running in bare mode.\n",
            "2025-06-30 05:15:48.959 Thread 'MainThread': missing ScriptRunContext! This warning can be ignored when running in bare mode.\n",
            "2025-06-30 05:15:48.978 Thread 'MainThread': missing ScriptRunContext! This warning can be ignored when running in bare mode.\n",
            "2025-06-30 05:15:48.991 Thread 'MainThread': missing ScriptRunContext! This warning can be ignored when running in bare mode.\n",
            "2025-06-30 05:15:48.996 Thread 'MainThread': missing ScriptRunContext! This warning can be ignored when running in bare mode.\n",
            "2025-06-30 05:15:49.003 Thread 'MainThread': missing ScriptRunContext! This warning can be ignored when running in bare mode.\n",
            "2025-06-30 05:15:49.006 Thread 'MainThread': missing ScriptRunContext! This warning can be ignored when running in bare mode.\n",
            "2025-06-30 05:15:49.009 Thread 'MainThread': missing ScriptRunContext! This warning can be ignored when running in bare mode.\n",
            "2025-06-30 05:15:49.014 Thread 'MainThread': missing ScriptRunContext! This warning can be ignored when running in bare mode.\n",
            "2025-06-30 05:15:49.019 Thread 'MainThread': missing ScriptRunContext! This warning can be ignored when running in bare mode.\n",
            "2025-06-30 05:15:49.022 Thread 'MainThread': missing ScriptRunContext! This warning can be ignored when running in bare mode.\n",
            "2025-06-30 05:15:49.028 Thread 'MainThread': missing ScriptRunContext! This warning can be ignored when running in bare mode.\n",
            "2025-06-30 05:15:49.033 Thread 'MainThread': missing ScriptRunContext! This warning can be ignored when running in bare mode.\n",
            "2025-06-30 05:15:49.040 Thread 'MainThread': missing ScriptRunContext! This warning can be ignored when running in bare mode.\n",
            "2025-06-30 05:15:49.043 Thread 'MainThread': missing ScriptRunContext! This warning can be ignored when running in bare mode.\n",
            "2025-06-30 05:15:49.054 Thread 'MainThread': missing ScriptRunContext! This warning can be ignored when running in bare mode.\n",
            "2025-06-30 05:15:49.055 Thread 'MainThread': missing ScriptRunContext! This warning can be ignored when running in bare mode.\n",
            "2025-06-30 05:15:49.060 Thread 'MainThread': missing ScriptRunContext! This warning can be ignored when running in bare mode.\n",
            "2025-06-30 05:15:49.061 Thread 'MainThread': missing ScriptRunContext! This warning can be ignored when running in bare mode.\n",
            "2025-06-30 05:15:49.062 Thread 'MainThread': missing ScriptRunContext! This warning can be ignored when running in bare mode.\n",
            "2025-06-30 05:15:49.062 Thread 'MainThread': missing ScriptRunContext! This warning can be ignored when running in bare mode.\n",
            "2025-06-30 05:15:49.063 Thread 'MainThread': missing ScriptRunContext! This warning can be ignored when running in bare mode.\n",
            "2025-06-30 05:15:49.068 Thread 'MainThread': missing ScriptRunContext! This warning can be ignored when running in bare mode.\n",
            "2025-06-30 05:15:49.075 Thread 'MainThread': missing ScriptRunContext! This warning can be ignored when running in bare mode.\n",
            "2025-06-30 05:15:49.077 Thread 'MainThread': missing ScriptRunContext! This warning can be ignored when running in bare mode.\n",
            "2025-06-30 05:15:49.085 Thread 'MainThread': missing ScriptRunContext! This warning can be ignored when running in bare mode.\n",
            "2025-06-30 05:15:49.091 Thread 'MainThread': missing ScriptRunContext! This warning can be ignored when running in bare mode.\n",
            "2025-06-30 05:15:49.092 Thread 'MainThread': missing ScriptRunContext! This warning can be ignored when running in bare mode.\n",
            "2025-06-30 05:15:49.093 Thread 'MainThread': missing ScriptRunContext! This warning can be ignored when running in bare mode.\n",
            "2025-06-30 05:15:49.099 Thread 'MainThread': missing ScriptRunContext! This warning can be ignored when running in bare mode.\n",
            "2025-06-30 05:15:49.110 Thread 'MainThread': missing ScriptRunContext! This warning can be ignored when running in bare mode.\n",
            "2025-06-30 05:15:49.111 Thread 'MainThread': missing ScriptRunContext! This warning can be ignored when running in bare mode.\n",
            "2025-06-30 05:15:49.112 Thread 'MainThread': missing ScriptRunContext! This warning can be ignored when running in bare mode.\n",
            "2025-06-30 05:15:49.113 Thread 'MainThread': missing ScriptRunContext! This warning can be ignored when running in bare mode.\n",
            "2025-06-30 05:15:49.116 Thread 'MainThread': missing ScriptRunContext! This warning can be ignored when running in bare mode.\n",
            "2025-06-30 05:15:49.117 Thread 'MainThread': missing ScriptRunContext! This warning can be ignored when running in bare mode.\n",
            "2025-06-30 05:15:49.118 Thread 'MainThread': missing ScriptRunContext! This warning can be ignored when running in bare mode.\n",
            "2025-06-30 05:15:49.123 Thread 'MainThread': missing ScriptRunContext! This warning can be ignored when running in bare mode.\n",
            "2025-06-30 05:15:49.127 Thread 'MainThread': missing ScriptRunContext! This warning can be ignored when running in bare mode.\n",
            "2025-06-30 05:15:49.128 Thread 'MainThread': missing ScriptRunContext! This warning can be ignored when running in bare mode.\n",
            "2025-06-30 05:15:49.129 Thread 'MainThread': missing ScriptRunContext! This warning can be ignored when running in bare mode.\n",
            "2025-06-30 05:15:49.135 Thread 'MainThread': missing ScriptRunContext! This warning can be ignored when running in bare mode.\n",
            "2025-06-30 05:15:49.136 Thread 'MainThread': missing ScriptRunContext! This warning can be ignored when running in bare mode.\n",
            "2025-06-30 05:15:49.141 Thread 'MainThread': missing ScriptRunContext! This warning can be ignored when running in bare mode.\n"
          ]
        },
        {
          "output_type": "stream",
          "name": "stdout",
          "text": [
            "\n",
            " 데이터프레임 미리보기:\n",
            "   순번                                               헤드라인  글자수  \\\n",
            "0   1         문화유산 ‘성북동 별서’ 화재…소방, 대응 1단계 발령\\n\\n\\n\\n세계일보   38   \n",
            "1   2  서울 성북구 소재 문화유산 '성북동 별서' 화재, 대응 1단계\\n\\n\\n\\nSBS ...   52   \n",
            "2   3         문화유산 '성북동 별서' 화재…소방, 대응 1단계 발령\\n\\n\\n\\n한국경제   38   \n",
            "3   4        한국 3대 정원 ‘성북동 별서’서 화재…소방당국 진화 중\\n\\n\\n\\n서울경제   39   \n",
            "4   5           서울 성북구 소재 문화유산 ‘성북동 별서’에서 화재\\n\\n\\n\\n매일경제   36   \n",
            "\n",
            "                 크롤링시간  \n",
            "0  2025-06-30 05:15:49  \n",
            "1  2025-06-30 05:15:49  \n",
            "2  2025-06-30 05:15:49  \n",
            "3  2025-06-30 05:15:49  \n",
            "4  2025-06-30 05:15:49  \n"
          ]
        },
        {
          "output_type": "stream",
          "name": "stderr",
          "text": [
            "2025-06-30 05:15:50.342 Thread 'MainThread': missing ScriptRunContext! This warning can be ignored when running in bare mode.\n",
            "2025-06-30 05:15:51.889 Thread 'MainThread': missing ScriptRunContext! This warning can be ignored when running in bare mode.\n",
            "2025-06-30 05:15:51.890 Thread 'MainThread': missing ScriptRunContext! This warning can be ignored when running in bare mode.\n",
            "2025-06-30 05:15:51.891 Thread 'MainThread': missing ScriptRunContext! This warning can be ignored when running in bare mode.\n"
          ]
        },
        {
          "output_type": "stream",
          "name": "stdout",
          "text": [
            "\n",
            " 'news_headlines.csv' 파일로 저장되었습니다!\n",
            "   (코랩 왼쪽 파일 탭에서 다운로드 가능)\n",
            "\n",
            " 크롤링 실습이 완료되었습니다!\n"
          ]
        }
      ],
      "source": [
        "\n",
        "from news_graph import crawl_naver_news, create_news_dataframe, visualize_news_data\n",
        "\n",
        "# 메인 실행 함수\n",
        "def main():\n",
        "    \"\"\"메인 실행 함수\"\"\"\n",
        "\n",
        "    print(\" 구글 코랩 웹 크롤링 실습을 시작합니다!\")\n",
        "    print(\"=\" * 70)\n",
        "\n",
        "    # 1. 기초 개념 데모\n",
        "    #demo_web_scraping_basics()\n",
        "\n",
        "    print(\"\\n\" + \"=\"*70)\n",
        "\n",
        "    # 2. 실제 웹사이트 크롤링\n",
        "    headlines = crawl_naver_news()\n",
        "\n",
        "    # 3. 간단한 테스트 사이트 크롤링\n",
        "    #crawl_simple_news_site()\n",
        "\n",
        "    # 4. 데이터 분석\n",
        "    if headlines:\n",
        "        df = create_news_dataframe(headlines)\n",
        "\n",
        "        if df is not None:\n",
        "            print(\"\\n 데이터프레임 미리보기:\")\n",
        "            print(df.head())\n",
        "\n",
        "            # 5. 시각화\n",
        "            visualize_news_data(df)\n",
        "\n",
        "            # 6. CSV 파일로 저장 (코랩에서 다운로드 가능)\n",
        "            df.to_csv('news_headlines.csv', index=False, encoding='utf-8')\n",
        "            print(\"\\n 'news_headlines.csv' 파일로 저장되었습니다!\")\n",
        "            print(\"   (코랩 왼쪽 파일 탭에서 다운로드 가능)\")\n",
        "\n",
        "    print(\"\\n 크롤링 실습이 완료되었습니다!\")\n",
        "\n",
        "\n",
        "\n",
        "# 코랩에서 바로 실행\n",
        "if __name__ == \"__main__\":\n",
        "    main()"
      ]
    },
    {
      "cell_type": "code",
      "source": [
        "!wget -q -O - ipv4.icanhazip.com"
      ],
      "metadata": {
        "id": "EMdJTylEyDjd"
      },
      "execution_count": null,
      "outputs": []
    },
    {
      "cell_type": "code",
      "source": [
        "!streamlit run news_graph.py & npx localtunnel --port 8501"
      ],
      "metadata": {
        "id": "RdnZ1fsH07QR"
      },
      "execution_count": null,
      "outputs": []
    }
  ]
}