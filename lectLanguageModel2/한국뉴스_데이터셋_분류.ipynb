{
  "nbformat": 4,
  "nbformat_minor": 0,
  "metadata": {
    "colab": {
      "provenance": []
    },
    "kernelspec": {
      "name": "python3",
      "display_name": "Python 3"
    },
    "language_info": {
      "name": "python"
    }
  },
  "cells": [
    {
      "cell_type": "markdown",
      "source": [
        "https://klue-benchmark.com\n",
        "\n",
        "**연합뉴스 주제 분류**\n",
        "\n",
        "**카테고리: 7개 (정치, 경제, 사회, 생활문화, 세계, IT과학, 스포츠)**\n",
        "\n"
      ],
      "metadata": {
        "id": "E2zWOCuTGY89"
      }
    },
    {
      "cell_type": "code",
      "execution_count": null,
      "metadata": {
        "id": "T39yXGUBEquW"
      },
      "outputs": [],
      "source": [
        "# KLUE 데이터셋에서 뉴스 주제 분류 데이터 로드\n",
        "print(\"KLUE 데이터셋 다운로드 중...\")\n",
        "dataset = load_dataset(\"klue\", \"ynat\")"
      ]
    },
    {
      "cell_type": "code",
      "source": [
        "# 테스트할 뉴스 제목들\n",
        "test_news_titles = [\n",
        "    \"삼성전자 신형 스마트폰 출시, AI 기능 대폭 강화\",\n",
        "    \"코스피 3000선 돌파, 외국인 매수세 지속\",\n",
        "    \"정부 부동산 정책 발표, 집값 안정화 기대\",\n",
        "    \"손흥민 월드컵 예선 결승골, 16강 진출 확정\",\n",
        "    \"BTS 신곡 빌보드 1위, K팝 위상 다시 한번 입증\",\n",
        "    \"코로나19 신규 확진자 급증, 방역 지침 강화\",\n",
        "    \"북한 미사일 발사, 한미일 공조 강화 논의\",\n",
        "    \"넷플릭스 한국 드라마 제작 투자 확대\",\n",
        "    \"전기차 배터리 기술 혁신, 주행거리 2배 증가\",\n",
        "    \"대학 입시 제도 개편안 발표, 학생부 비중 확대\"\n",
        "]"
      ],
      "metadata": {
        "id": "JxcWALBFHktq"
      },
      "execution_count": null,
      "outputs": []
    }
  ]
}