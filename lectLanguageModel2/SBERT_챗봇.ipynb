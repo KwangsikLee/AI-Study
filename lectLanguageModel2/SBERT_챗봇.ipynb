{
  "cells": [
    {
      "cell_type": "markdown",
      "metadata": {},
      "source": [
        "# SentenceTransformer(bert 기반 모델) 사용하여 chat bot\n",
        "\n",
        "질문을 model의 encoder를 이용하여 encoding -> encoding output으로 유사도 높은 것을 찾는다.\n",
        "ChatBotData 에서 가장 유사도 높은 답변을 선택해준다.\n"
      ]
    },
    {
      "cell_type": "code",
      "execution_count": 1,
      "metadata": {
        "colab": {
          "base_uri": "https://localhost:8080/"
        },
        "collapsed": true,
        "id": "El_3NLwFGVji",
        "outputId": "c7007c23-00a0-4a78-96e1-58ca6f1a4cf0"
      },
      "outputs": [
        {
          "name": "stdout",
          "output_type": "stream",
          "text": [
            "Collecting sentence_transformers\n",
            "  Downloading sentence_transformers-5.1.0-py3-none-any.whl.metadata (16 kB)\n",
            "Requirement already satisfied: transformers<5.0.0,>=4.41.0 in /Users/kwangsiklee/miniforge3/envs/hf_env/lib/python3.10/site-packages (from sentence_transformers) (4.53.3)\n",
            "Requirement already satisfied: tqdm in /Users/kwangsiklee/miniforge3/envs/hf_env/lib/python3.10/site-packages (from sentence_transformers) (4.67.1)\n",
            "Requirement already satisfied: torch>=1.11.0 in /Users/kwangsiklee/miniforge3/envs/hf_env/lib/python3.10/site-packages (from sentence_transformers) (2.7.1)\n",
            "Requirement already satisfied: scikit-learn in /Users/kwangsiklee/miniforge3/envs/hf_env/lib/python3.10/site-packages (from sentence_transformers) (1.7.1)\n",
            "Requirement already satisfied: scipy in /Users/kwangsiklee/miniforge3/envs/hf_env/lib/python3.10/site-packages (from sentence_transformers) (1.15.3)\n",
            "Requirement already satisfied: huggingface-hub>=0.20.0 in /Users/kwangsiklee/miniforge3/envs/hf_env/lib/python3.10/site-packages (from sentence_transformers) (0.33.5)\n",
            "Requirement already satisfied: Pillow in /Users/kwangsiklee/miniforge3/envs/hf_env/lib/python3.10/site-packages (from sentence_transformers) (11.3.0)\n",
            "Requirement already satisfied: typing_extensions>=4.5.0 in /Users/kwangsiklee/miniforge3/envs/hf_env/lib/python3.10/site-packages (from sentence_transformers) (4.14.1)\n",
            "Requirement already satisfied: filelock in /Users/kwangsiklee/miniforge3/envs/hf_env/lib/python3.10/site-packages (from transformers<5.0.0,>=4.41.0->sentence_transformers) (3.18.0)\n",
            "Requirement already satisfied: numpy>=1.17 in /Users/kwangsiklee/miniforge3/envs/hf_env/lib/python3.10/site-packages (from transformers<5.0.0,>=4.41.0->sentence_transformers) (2.2.6)\n",
            "Requirement already satisfied: packaging>=20.0 in /Users/kwangsiklee/miniforge3/envs/hf_env/lib/python3.10/site-packages (from transformers<5.0.0,>=4.41.0->sentence_transformers) (25.0)\n",
            "Requirement already satisfied: pyyaml>=5.1 in /Users/kwangsiklee/miniforge3/envs/hf_env/lib/python3.10/site-packages (from transformers<5.0.0,>=4.41.0->sentence_transformers) (6.0.2)\n",
            "Requirement already satisfied: regex!=2019.12.17 in /Users/kwangsiklee/miniforge3/envs/hf_env/lib/python3.10/site-packages (from transformers<5.0.0,>=4.41.0->sentence_transformers) (2024.11.6)\n",
            "Requirement already satisfied: requests in /Users/kwangsiklee/miniforge3/envs/hf_env/lib/python3.10/site-packages (from transformers<5.0.0,>=4.41.0->sentence_transformers) (2.32.4)\n",
            "Requirement already satisfied: tokenizers<0.22,>=0.21 in /Users/kwangsiklee/miniforge3/envs/hf_env/lib/python3.10/site-packages (from transformers<5.0.0,>=4.41.0->sentence_transformers) (0.21.2)\n",
            "Requirement already satisfied: safetensors>=0.4.3 in /Users/kwangsiklee/miniforge3/envs/hf_env/lib/python3.10/site-packages (from transformers<5.0.0,>=4.41.0->sentence_transformers) (0.5.3)\n",
            "Requirement already satisfied: fsspec>=2023.5.0 in /Users/kwangsiklee/miniforge3/envs/hf_env/lib/python3.10/site-packages (from huggingface-hub>=0.20.0->sentence_transformers) (2025.3.0)\n",
            "Requirement already satisfied: hf-xet<2.0.0,>=1.1.2 in /Users/kwangsiklee/miniforge3/envs/hf_env/lib/python3.10/site-packages (from huggingface-hub>=0.20.0->sentence_transformers) (1.1.5)\n",
            "Requirement already satisfied: sympy>=1.13.3 in /Users/kwangsiklee/miniforge3/envs/hf_env/lib/python3.10/site-packages (from torch>=1.11.0->sentence_transformers) (1.14.0)\n",
            "Requirement already satisfied: networkx in /Users/kwangsiklee/miniforge3/envs/hf_env/lib/python3.10/site-packages (from torch>=1.11.0->sentence_transformers) (3.4.2)\n",
            "Requirement already satisfied: jinja2 in /Users/kwangsiklee/miniforge3/envs/hf_env/lib/python3.10/site-packages (from torch>=1.11.0->sentence_transformers) (3.1.6)\n",
            "Requirement already satisfied: mpmath<1.4,>=1.1.0 in /Users/kwangsiklee/miniforge3/envs/hf_env/lib/python3.10/site-packages (from sympy>=1.13.3->torch>=1.11.0->sentence_transformers) (1.3.0)\n",
            "Requirement already satisfied: MarkupSafe>=2.0 in /Users/kwangsiklee/miniforge3/envs/hf_env/lib/python3.10/site-packages (from jinja2->torch>=1.11.0->sentence_transformers) (3.0.2)\n",
            "Requirement already satisfied: charset_normalizer<4,>=2 in /Users/kwangsiklee/miniforge3/envs/hf_env/lib/python3.10/site-packages (from requests->transformers<5.0.0,>=4.41.0->sentence_transformers) (3.4.2)\n",
            "Requirement already satisfied: idna<4,>=2.5 in /Users/kwangsiklee/miniforge3/envs/hf_env/lib/python3.10/site-packages (from requests->transformers<5.0.0,>=4.41.0->sentence_transformers) (3.10)\n",
            "Requirement already satisfied: urllib3<3,>=1.21.1 in /Users/kwangsiklee/miniforge3/envs/hf_env/lib/python3.10/site-packages (from requests->transformers<5.0.0,>=4.41.0->sentence_transformers) (2.5.0)\n",
            "Requirement already satisfied: certifi>=2017.4.17 in /Users/kwangsiklee/miniforge3/envs/hf_env/lib/python3.10/site-packages (from requests->transformers<5.0.0,>=4.41.0->sentence_transformers) (2025.7.14)\n",
            "Requirement already satisfied: joblib>=1.2.0 in /Users/kwangsiklee/miniforge3/envs/hf_env/lib/python3.10/site-packages (from scikit-learn->sentence_transformers) (1.5.1)\n",
            "Requirement already satisfied: threadpoolctl>=3.1.0 in /Users/kwangsiklee/miniforge3/envs/hf_env/lib/python3.10/site-packages (from scikit-learn->sentence_transformers) (3.6.0)\n",
            "Downloading sentence_transformers-5.1.0-py3-none-any.whl (483 kB)\n",
            "Installing collected packages: sentence_transformers\n",
            "Successfully installed sentence_transformers-5.1.0\n",
            "Note: you may need to restart the kernel to use updated packages.\n"
          ]
        }
      ],
      "source": [
        "pip install sentence_transformers\n"
      ]
    },
    {
      "cell_type": "code",
      "execution_count": 1,
      "metadata": {
        "id": "yIbiiGw2GWTG"
      },
      "outputs": [
        {
          "name": "stderr",
          "output_type": "stream",
          "text": [
            "/Users/kwangsiklee/miniforge3/envs/hf_env/lib/python3.10/site-packages/tqdm/auto.py:21: TqdmWarning: IProgress not found. Please update jupyter and ipywidgets. See https://ipywidgets.readthedocs.io/en/stable/user_install.html\n",
            "  from .autonotebook import tqdm as notebook_tqdm\n"
          ]
        }
      ],
      "source": [
        "import numpy as np\n",
        "import pandas as pd\n",
        "from numpy import dot\n",
        "from numpy.linalg import norm\n",
        "import urllib.request\n",
        "from sentence_transformers import SentenceTransformer\n"
      ]
    },
    {
      "cell_type": "code",
      "execution_count": 2,
      "metadata": {
        "colab": {
          "base_uri": "https://localhost:8080/",
          "height": 1000
        },
        "id": "6yzhkCOwGYSG",
        "outputId": "2498bdac-1185-4857-dfe8-bf6ba1227ac4"
      },
      "outputs": [
        {
          "data": {
            "text/html": [
              "<div>\n",
              "<style scoped>\n",
              "    .dataframe tbody tr th:only-of-type {\n",
              "        vertical-align: middle;\n",
              "    }\n",
              "\n",
              "    .dataframe tbody tr th {\n",
              "        vertical-align: top;\n",
              "    }\n",
              "\n",
              "    .dataframe thead th {\n",
              "        text-align: right;\n",
              "    }\n",
              "</style>\n",
              "<table border=\"1\" class=\"dataframe\">\n",
              "  <thead>\n",
              "    <tr style=\"text-align: right;\">\n",
              "      <th></th>\n",
              "      <th>Q</th>\n",
              "      <th>A</th>\n",
              "      <th>label</th>\n",
              "    </tr>\n",
              "  </thead>\n",
              "  <tbody>\n",
              "    <tr>\n",
              "      <th>0</th>\n",
              "      <td>12시 땡!</td>\n",
              "      <td>하루가 또 가네요.</td>\n",
              "      <td>0</td>\n",
              "    </tr>\n",
              "    <tr>\n",
              "      <th>1</th>\n",
              "      <td>1지망 학교 떨어졌어</td>\n",
              "      <td>위로해 드립니다.</td>\n",
              "      <td>0</td>\n",
              "    </tr>\n",
              "    <tr>\n",
              "      <th>2</th>\n",
              "      <td>3박4일 놀러가고 싶다</td>\n",
              "      <td>여행은 언제나 좋죠.</td>\n",
              "      <td>0</td>\n",
              "    </tr>\n",
              "    <tr>\n",
              "      <th>3</th>\n",
              "      <td>3박4일 정도 놀러가고 싶다</td>\n",
              "      <td>여행은 언제나 좋죠.</td>\n",
              "      <td>0</td>\n",
              "    </tr>\n",
              "    <tr>\n",
              "      <th>4</th>\n",
              "      <td>PPL 심하네</td>\n",
              "      <td>눈살이 찌푸려지죠.</td>\n",
              "      <td>0</td>\n",
              "    </tr>\n",
              "    <tr>\n",
              "      <th>5</th>\n",
              "      <td>SD카드 망가졌어</td>\n",
              "      <td>다시 새로 사는 게 마음 편해요.</td>\n",
              "      <td>0</td>\n",
              "    </tr>\n",
              "    <tr>\n",
              "      <th>6</th>\n",
              "      <td>SD카드 안돼</td>\n",
              "      <td>다시 새로 사는 게 마음 편해요.</td>\n",
              "      <td>0</td>\n",
              "    </tr>\n",
              "    <tr>\n",
              "      <th>7</th>\n",
              "      <td>SNS 맞팔 왜 안하지ㅠㅠ</td>\n",
              "      <td>잘 모르고 있을 수도 있어요.</td>\n",
              "      <td>0</td>\n",
              "    </tr>\n",
              "    <tr>\n",
              "      <th>8</th>\n",
              "      <td>SNS 시간낭비인 거 아는데 매일 하는 중</td>\n",
              "      <td>시간을 정하고 해보세요.</td>\n",
              "      <td>0</td>\n",
              "    </tr>\n",
              "    <tr>\n",
              "      <th>9</th>\n",
              "      <td>SNS 시간낭비인데 자꾸 보게됨</td>\n",
              "      <td>시간을 정하고 해보세요.</td>\n",
              "      <td>0</td>\n",
              "    </tr>\n",
              "    <tr>\n",
              "      <th>10</th>\n",
              "      <td>SNS보면 나만 빼고 다 행복해보여</td>\n",
              "      <td>자랑하는 자리니까요.</td>\n",
              "      <td>0</td>\n",
              "    </tr>\n",
              "    <tr>\n",
              "      <th>11</th>\n",
              "      <td>가끔 궁금해</td>\n",
              "      <td>그 사람도 그럴 거예요.</td>\n",
              "      <td>0</td>\n",
              "    </tr>\n",
              "    <tr>\n",
              "      <th>12</th>\n",
              "      <td>가끔 뭐하는지 궁금해</td>\n",
              "      <td>그 사람도 그럴 거예요.</td>\n",
              "      <td>0</td>\n",
              "    </tr>\n",
              "    <tr>\n",
              "      <th>13</th>\n",
              "      <td>가끔은 혼자인게 좋다</td>\n",
              "      <td>혼자를 즐기세요.</td>\n",
              "      <td>0</td>\n",
              "    </tr>\n",
              "    <tr>\n",
              "      <th>14</th>\n",
              "      <td>가난한 자의 설움</td>\n",
              "      <td>돈은 다시 들어올 거예요.</td>\n",
              "      <td>0</td>\n",
              "    </tr>\n",
              "    <tr>\n",
              "      <th>15</th>\n",
              "      <td>가만 있어도 땀난다</td>\n",
              "      <td>땀을 식혀주세요.</td>\n",
              "      <td>0</td>\n",
              "    </tr>\n",
              "    <tr>\n",
              "      <th>16</th>\n",
              "      <td>가상화폐 쫄딱 망함</td>\n",
              "      <td>어서 잊고 새출발 하세요.</td>\n",
              "      <td>0</td>\n",
              "    </tr>\n",
              "    <tr>\n",
              "      <th>17</th>\n",
              "      <td>가스불 켜고 나갔어</td>\n",
              "      <td>빨리 집에 돌아가서 끄고 나오세요.</td>\n",
              "      <td>0</td>\n",
              "    </tr>\n",
              "    <tr>\n",
              "      <th>18</th>\n",
              "      <td>가스불 켜놓고 나온거 같아</td>\n",
              "      <td>빨리 집에 돌아가서 끄고 나오세요.</td>\n",
              "      <td>0</td>\n",
              "    </tr>\n",
              "    <tr>\n",
              "      <th>19</th>\n",
              "      <td>가스비 너무 많이 나왔다.</td>\n",
              "      <td>다음 달에는 더 절약해봐요.</td>\n",
              "      <td>0</td>\n",
              "    </tr>\n",
              "    <tr>\n",
              "      <th>20</th>\n",
              "      <td>가스비 비싼데 감기 걸리겠어</td>\n",
              "      <td>따뜻하게 사세요!</td>\n",
              "      <td>0</td>\n",
              "    </tr>\n",
              "    <tr>\n",
              "      <th>21</th>\n",
              "      <td>가스비 장난 아님</td>\n",
              "      <td>다음 달에는 더 절약해봐요.</td>\n",
              "      <td>0</td>\n",
              "    </tr>\n",
              "    <tr>\n",
              "      <th>22</th>\n",
              "      <td>가장 확실한 건 뭘까?</td>\n",
              "      <td>가장 확실한 시간은 오늘이에요. 어제와 내일을 놓고 고민하느라 시간을 낭비하지 마세요.</td>\n",
              "      <td>0</td>\n",
              "    </tr>\n",
              "    <tr>\n",
              "      <th>23</th>\n",
              "      <td>가족 여행 가기로 했어</td>\n",
              "      <td>온 가족이 모두 마음에 드는 곳으로 가보세요.</td>\n",
              "      <td>0</td>\n",
              "    </tr>\n",
              "    <tr>\n",
              "      <th>24</th>\n",
              "      <td>가족 여행 고고</td>\n",
              "      <td>온 가족이 모두 마음에 드는 곳으로 가보세요.</td>\n",
              "      <td>0</td>\n",
              "    </tr>\n",
              "    <tr>\n",
              "      <th>25</th>\n",
              "      <td>가족 여행 어디로 가지?</td>\n",
              "      <td>온 가족이 모두 마음에 드는 곳으로 가보세요.</td>\n",
              "      <td>0</td>\n",
              "    </tr>\n",
              "    <tr>\n",
              "      <th>26</th>\n",
              "      <td>가족 있어?</td>\n",
              "      <td>저를 만들어 준 사람을 부모님, 저랑 이야기해 주는 사람을 친구로 생각하고 있어요</td>\n",
              "      <td>0</td>\n",
              "    </tr>\n",
              "    <tr>\n",
              "      <th>27</th>\n",
              "      <td>가족관계 알려 줘</td>\n",
              "      <td>저를 만들어 준 사람을 부모님, 저랑 이야기해 주는 사람을 친구로 생각하고 있어요</td>\n",
              "      <td>0</td>\n",
              "    </tr>\n",
              "    <tr>\n",
              "      <th>28</th>\n",
              "      <td>가족끼리 여행간다.</td>\n",
              "      <td>더 가까워질 기회가 되겠네요.</td>\n",
              "      <td>0</td>\n",
              "    </tr>\n",
              "    <tr>\n",
              "      <th>29</th>\n",
              "      <td>가족들 보고 싶어</td>\n",
              "      <td>저도요.</td>\n",
              "      <td>0</td>\n",
              "    </tr>\n",
              "    <tr>\n",
              "      <th>30</th>\n",
              "      <td>가족들이랑 서먹해</td>\n",
              "      <td>다들 바빠서 이야기할 시간이 부족했나봐요.</td>\n",
              "      <td>0</td>\n",
              "    </tr>\n",
              "    <tr>\n",
              "      <th>31</th>\n",
              "      <td>가족들이랑 서먹해졌어</td>\n",
              "      <td>다들 바빠서 이야기할 시간이 부족했나봐요.</td>\n",
              "      <td>0</td>\n",
              "    </tr>\n",
              "    <tr>\n",
              "      <th>32</th>\n",
              "      <td>가족들이랑 어디 가지?</td>\n",
              "      <td>온 가족이 모두 마음에 드는 곳으로 가보세요.</td>\n",
              "      <td>0</td>\n",
              "    </tr>\n",
              "    <tr>\n",
              "      <th>33</th>\n",
              "      <td>가족들이랑 여행 갈거야</td>\n",
              "      <td>좋은 생각이에요.</td>\n",
              "      <td>0</td>\n",
              "    </tr>\n",
              "    <tr>\n",
              "      <th>34</th>\n",
              "      <td>가족여행 가야지</td>\n",
              "      <td>더 가까워질 기회가 되겠네요.</td>\n",
              "      <td>0</td>\n",
              "    </tr>\n",
              "    <tr>\n",
              "      <th>35</th>\n",
              "      <td>가족이 누구야?</td>\n",
              "      <td>저를 만들어 준 사람을 부모님, 저랑 이야기해 주는 사람을 친구로 생각하고 있어요</td>\n",
              "      <td>0</td>\n",
              "    </tr>\n",
              "    <tr>\n",
              "      <th>36</th>\n",
              "      <td>가족이랑 여행 가려고</td>\n",
              "      <td>좋은 생각이에요.</td>\n",
              "      <td>0</td>\n",
              "    </tr>\n",
              "    <tr>\n",
              "      <th>37</th>\n",
              "      <td>가족한테 스트레스 풀었어</td>\n",
              "      <td>정말 후회할 습관이에요.</td>\n",
              "      <td>0</td>\n",
              "    </tr>\n",
              "    <tr>\n",
              "      <th>38</th>\n",
              "      <td>가출할까?</td>\n",
              "      <td>무모한 결정을 내리지 마세요.</td>\n",
              "      <td>0</td>\n",
              "    </tr>\n",
              "    <tr>\n",
              "      <th>39</th>\n",
              "      <td>가출해도 갈 데가 없어</td>\n",
              "      <td>선생님이나 기관에 연락해보세요.</td>\n",
              "      <td>0</td>\n",
              "    </tr>\n",
              "    <tr>\n",
              "      <th>40</th>\n",
              "      <td>간만에 떨리니까 좋더라</td>\n",
              "      <td>떨리는 감정은 그 자체로 소중해요.</td>\n",
              "      <td>0</td>\n",
              "    </tr>\n",
              "    <tr>\n",
              "      <th>41</th>\n",
              "      <td>간만에 쇼핑 중</td>\n",
              "      <td>득템했길 바라요.</td>\n",
              "      <td>0</td>\n",
              "    </tr>\n",
              "    <tr>\n",
              "      <th>42</th>\n",
              "      <td>간만에 휴식 중</td>\n",
              "      <td>휴식도 필요하죠.</td>\n",
              "      <td>0</td>\n",
              "    </tr>\n",
              "    <tr>\n",
              "      <th>43</th>\n",
              "      <td>간식 뭐 먹을까</td>\n",
              "      <td>단짠으로 두 개 사는게 진리죠.</td>\n",
              "      <td>0</td>\n",
              "    </tr>\n",
              "    <tr>\n",
              "      <th>44</th>\n",
              "      <td>간식 추천</td>\n",
              "      <td>단짠으로 두 개 사는게 진리죠.</td>\n",
              "      <td>0</td>\n",
              "    </tr>\n",
              "    <tr>\n",
              "      <th>45</th>\n",
              "      <td>간장치킨 시켜야지</td>\n",
              "      <td>맛있게 드세요.</td>\n",
              "      <td>0</td>\n",
              "    </tr>\n",
              "    <tr>\n",
              "      <th>46</th>\n",
              "      <td>간접흡연 싫어</td>\n",
              "      <td>저도 싫어요.</td>\n",
              "      <td>0</td>\n",
              "    </tr>\n",
              "    <tr>\n",
              "      <th>47</th>\n",
              "      <td>갈까 말까 고민 돼</td>\n",
              "      <td>가세요.</td>\n",
              "      <td>0</td>\n",
              "    </tr>\n",
              "    <tr>\n",
              "      <th>48</th>\n",
              "      <td>갈까 말까?</td>\n",
              "      <td>가세요.</td>\n",
              "      <td>0</td>\n",
              "    </tr>\n",
              "    <tr>\n",
              "      <th>49</th>\n",
              "      <td>감 말랭이 먹고 싶다.</td>\n",
              "      <td>맛있게 드세요.</td>\n",
              "      <td>0</td>\n",
              "    </tr>\n",
              "  </tbody>\n",
              "</table>\n",
              "</div>"
            ],
            "text/plain": [
              "                          Q                                                 A  \\\n",
              "0                    12시 땡!                                        하루가 또 가네요.   \n",
              "1               1지망 학교 떨어졌어                                         위로해 드립니다.   \n",
              "2              3박4일 놀러가고 싶다                                       여행은 언제나 좋죠.   \n",
              "3           3박4일 정도 놀러가고 싶다                                       여행은 언제나 좋죠.   \n",
              "4                   PPL 심하네                                        눈살이 찌푸려지죠.   \n",
              "5                 SD카드 망가졌어                                다시 새로 사는 게 마음 편해요.   \n",
              "6                   SD카드 안돼                                다시 새로 사는 게 마음 편해요.   \n",
              "7            SNS 맞팔 왜 안하지ㅠㅠ                                  잘 모르고 있을 수도 있어요.   \n",
              "8   SNS 시간낭비인 거 아는데 매일 하는 중                                     시간을 정하고 해보세요.   \n",
              "9         SNS 시간낭비인데 자꾸 보게됨                                     시간을 정하고 해보세요.   \n",
              "10      SNS보면 나만 빼고 다 행복해보여                                       자랑하는 자리니까요.   \n",
              "11                   가끔 궁금해                                     그 사람도 그럴 거예요.   \n",
              "12              가끔 뭐하는지 궁금해                                     그 사람도 그럴 거예요.   \n",
              "13              가끔은 혼자인게 좋다                                         혼자를 즐기세요.   \n",
              "14                가난한 자의 설움                                    돈은 다시 들어올 거예요.   \n",
              "15               가만 있어도 땀난다                                         땀을 식혀주세요.   \n",
              "16               가상화폐 쫄딱 망함                                    어서 잊고 새출발 하세요.   \n",
              "17               가스불 켜고 나갔어                               빨리 집에 돌아가서 끄고 나오세요.   \n",
              "18           가스불 켜놓고 나온거 같아                               빨리 집에 돌아가서 끄고 나오세요.   \n",
              "19           가스비 너무 많이 나왔다.                                   다음 달에는 더 절약해봐요.   \n",
              "20          가스비 비싼데 감기 걸리겠어                                         따뜻하게 사세요!   \n",
              "21                가스비 장난 아님                                   다음 달에는 더 절약해봐요.   \n",
              "22             가장 확실한 건 뭘까?  가장 확실한 시간은 오늘이에요. 어제와 내일을 놓고 고민하느라 시간을 낭비하지 마세요.   \n",
              "23             가족 여행 가기로 했어                         온 가족이 모두 마음에 드는 곳으로 가보세요.   \n",
              "24                 가족 여행 고고                         온 가족이 모두 마음에 드는 곳으로 가보세요.   \n",
              "25            가족 여행 어디로 가지?                         온 가족이 모두 마음에 드는 곳으로 가보세요.   \n",
              "26                   가족 있어?     저를 만들어 준 사람을 부모님, 저랑 이야기해 주는 사람을 친구로 생각하고 있어요   \n",
              "27                가족관계 알려 줘     저를 만들어 준 사람을 부모님, 저랑 이야기해 주는 사람을 친구로 생각하고 있어요   \n",
              "28               가족끼리 여행간다.                                  더 가까워질 기회가 되겠네요.   \n",
              "29                가족들 보고 싶어                                              저도요.   \n",
              "30                가족들이랑 서먹해                           다들 바빠서 이야기할 시간이 부족했나봐요.   \n",
              "31              가족들이랑 서먹해졌어                           다들 바빠서 이야기할 시간이 부족했나봐요.   \n",
              "32             가족들이랑 어디 가지?                         온 가족이 모두 마음에 드는 곳으로 가보세요.   \n",
              "33             가족들이랑 여행 갈거야                                         좋은 생각이에요.   \n",
              "34                 가족여행 가야지                                  더 가까워질 기회가 되겠네요.   \n",
              "35                 가족이 누구야?     저를 만들어 준 사람을 부모님, 저랑 이야기해 주는 사람을 친구로 생각하고 있어요   \n",
              "36              가족이랑 여행 가려고                                         좋은 생각이에요.   \n",
              "37            가족한테 스트레스 풀었어                                     정말 후회할 습관이에요.   \n",
              "38                    가출할까?                                  무모한 결정을 내리지 마세요.   \n",
              "39             가출해도 갈 데가 없어                                 선생님이나 기관에 연락해보세요.   \n",
              "40             간만에 떨리니까 좋더라                               떨리는 감정은 그 자체로 소중해요.   \n",
              "41                 간만에 쇼핑 중                                         득템했길 바라요.   \n",
              "42                 간만에 휴식 중                                         휴식도 필요하죠.   \n",
              "43                 간식 뭐 먹을까                                 단짠으로 두 개 사는게 진리죠.   \n",
              "44                    간식 추천                                 단짠으로 두 개 사는게 진리죠.   \n",
              "45                간장치킨 시켜야지                                          맛있게 드세요.   \n",
              "46                  간접흡연 싫어                                           저도 싫어요.   \n",
              "47               갈까 말까 고민 돼                                              가세요.   \n",
              "48                   갈까 말까?                                              가세요.   \n",
              "49             감 말랭이 먹고 싶다.                                          맛있게 드세요.   \n",
              "\n",
              "    label  \n",
              "0       0  \n",
              "1       0  \n",
              "2       0  \n",
              "3       0  \n",
              "4       0  \n",
              "5       0  \n",
              "6       0  \n",
              "7       0  \n",
              "8       0  \n",
              "9       0  \n",
              "10      0  \n",
              "11      0  \n",
              "12      0  \n",
              "13      0  \n",
              "14      0  \n",
              "15      0  \n",
              "16      0  \n",
              "17      0  \n",
              "18      0  \n",
              "19      0  \n",
              "20      0  \n",
              "21      0  \n",
              "22      0  \n",
              "23      0  \n",
              "24      0  \n",
              "25      0  \n",
              "26      0  \n",
              "27      0  \n",
              "28      0  \n",
              "29      0  \n",
              "30      0  \n",
              "31      0  \n",
              "32      0  \n",
              "33      0  \n",
              "34      0  \n",
              "35      0  \n",
              "36      0  \n",
              "37      0  \n",
              "38      0  \n",
              "39      0  \n",
              "40      0  \n",
              "41      0  \n",
              "42      0  \n",
              "43      0  \n",
              "44      0  \n",
              "45      0  \n",
              "46      0  \n",
              "47      0  \n",
              "48      0  \n",
              "49      0  "
            ]
          },
          "execution_count": 2,
          "metadata": {},
          "output_type": "execute_result"
        }
      ],
      "source": [
        "urllib.request.urlretrieve(\"https://raw.githubusercontent.com/songys/Chatbot_data/master/ChatbotData.csv\", filename=\"ChatBotData.csv\")\n",
        "train_data = pd.read_csv('ChatBotData.csv')\n",
        "train_data.head(50)\n"
      ]
    },
    {
      "cell_type": "code",
      "execution_count": 3,
      "metadata": {
        "id": "GENjc9MAGZUq"
      },
      "outputs": [],
      "source": [
        "model = SentenceTransformer('sentence-transformers/xlm-r-100langs-bert-base-nli-stsb-mean-tokens')\n"
      ]
    },
    {
      "cell_type": "code",
      "execution_count": 4,
      "metadata": {
        "id": "tKSmBgD8GaeI"
      },
      "outputs": [],
      "source": [
        "train_data['embedding'] = train_data.apply(lambda row: model.encode(row.Q), axis = 1)\n"
      ]
    },
    {
      "cell_type": "code",
      "execution_count": 5,
      "metadata": {
        "id": "3sq2ciBbGbVB"
      },
      "outputs": [],
      "source": [
        "def cos_sim(A, B):\n",
        "  return dot(A, B)/(norm(A)*norm(B))\n"
      ]
    },
    {
      "cell_type": "code",
      "execution_count": 6,
      "metadata": {
        "id": "_Fx8ygDoGcYJ"
      },
      "outputs": [],
      "source": [
        "def return_answer(question):\n",
        "    embedding = model.encode(question)\n",
        "    train_data['score'] = train_data.apply(lambda x: cos_sim(x['embedding'], embedding), axis=1)\n",
        "    return train_data.loc[train_data['score'].idxmax()]['A']"
      ]
    },
    {
      "cell_type": "code",
      "execution_count": 7,
      "metadata": {
        "colab": {
          "base_uri": "https://localhost:8080/",
          "height": 35
        },
        "id": "mQQjPvObGfUQ",
        "outputId": "8329bb3c-9bb3-4b60-fb23-153951edb46a"
      },
      "outputs": [
        {
          "data": {
            "text/plain": [
              "'저는 위로봇입니다.'"
            ]
          },
          "execution_count": 7,
          "metadata": {},
          "output_type": "execute_result"
        }
      ],
      "source": [
        "return_answer('너는 누구니?')\n"
      ]
    },
    {
      "cell_type": "code",
      "execution_count": 8,
      "metadata": {
        "colab": {
          "base_uri": "https://localhost:8080/",
          "height": 35
        },
        "id": "9V_YbzF1JUBy",
        "outputId": "c03f1637-d8b4-4362-85cd-16536bbf2b0e"
      },
      "outputs": [
        {
          "data": {
            "text/plain": [
              "'화를 참는 연습을 해보세요.'"
            ]
          },
          "execution_count": 8,
          "metadata": {},
          "output_type": "execute_result"
        }
      ],
      "source": [
        "return_answer('화가납니다')\n"
      ]
    },
    {
      "cell_type": "code",
      "execution_count": 9,
      "metadata": {
        "colab": {
          "base_uri": "https://localhost:8080/",
          "height": 35
        },
        "id": "-EflZ9XAJXFL",
        "outputId": "412ea114-a9b2-468f-bd8a-521702ee1f3e"
      },
      "outputs": [
        {
          "data": {
            "text/plain": [
              "'얼른 맛난 음식 드세요.'"
            ]
          },
          "execution_count": 9,
          "metadata": {},
          "output_type": "execute_result"
        }
      ],
      "source": [
        "return_answer('배가 고프다')\n"
      ]
    },
    {
      "cell_type": "code",
      "execution_count": 10,
      "metadata": {},
      "outputs": [
        {
          "data": {
            "text/plain": [
              "'부러워요. 좋은 관계를 유지하세요.'"
            ]
          },
          "execution_count": 10,
          "metadata": {},
          "output_type": "execute_result"
        }
      ],
      "source": [
        "return_answer('재미있는 얘기 해줘')"
      ]
    }
  ],
  "metadata": {
    "accelerator": "GPU",
    "colab": {
      "gpuType": "T4",
      "provenance": []
    },
    "kernelspec": {
      "display_name": "hf_env",
      "language": "python",
      "name": "python3"
    },
    "language_info": {
      "codemirror_mode": {
        "name": "ipython",
        "version": 3
      },
      "file_extension": ".py",
      "mimetype": "text/x-python",
      "name": "python",
      "nbconvert_exporter": "python",
      "pygments_lexer": "ipython3",
      "version": "3.10.18"
    }
  },
  "nbformat": 4,
  "nbformat_minor": 0
}
