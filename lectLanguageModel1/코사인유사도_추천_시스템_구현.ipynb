{
 "cells": [
  {
   "cell_type": "code",
   "execution_count": 3,
   "metadata": {
    "colab": {
     "base_uri": "https://localhost:8080/",
     "height": 352
    },
    "id": "lVzlPFhT0Jh-",
    "outputId": "19f7182a-4045-450b-ccdc-7ea7aab8d21a"
   },
   "outputs": [
    {
     "data": {
      "text/html": [
       "<div>\n",
       "<style scoped>\n",
       "    .dataframe tbody tr th:only-of-type {\n",
       "        vertical-align: middle;\n",
       "    }\n",
       "\n",
       "    .dataframe tbody tr th {\n",
       "        vertical-align: top;\n",
       "    }\n",
       "\n",
       "    .dataframe thead th {\n",
       "        text-align: right;\n",
       "    }\n",
       "</style>\n",
       "<table border=\"1\" class=\"dataframe\">\n",
       "  <thead>\n",
       "    <tr style=\"text-align: right;\">\n",
       "      <th></th>\n",
       "      <th>adult</th>\n",
       "      <th>belongs_to_collection</th>\n",
       "      <th>budget</th>\n",
       "      <th>genres</th>\n",
       "      <th>homepage</th>\n",
       "      <th>id</th>\n",
       "      <th>imdb_id</th>\n",
       "      <th>original_language</th>\n",
       "      <th>original_title</th>\n",
       "      <th>overview</th>\n",
       "      <th>...</th>\n",
       "      <th>release_date</th>\n",
       "      <th>revenue</th>\n",
       "      <th>runtime</th>\n",
       "      <th>spoken_languages</th>\n",
       "      <th>status</th>\n",
       "      <th>tagline</th>\n",
       "      <th>title</th>\n",
       "      <th>video</th>\n",
       "      <th>vote_average</th>\n",
       "      <th>vote_count</th>\n",
       "    </tr>\n",
       "  </thead>\n",
       "  <tbody>\n",
       "    <tr>\n",
       "      <th>0</th>\n",
       "      <td>FALSE</td>\n",
       "      <td>{'id': 10194, 'name': 'Toy Story Collection', ...</td>\n",
       "      <td>30000000</td>\n",
       "      <td>[{'id': 16, 'name': 'Animation'}, {'id': 35, '...</td>\n",
       "      <td>http://toystory.disney.com/toy-story</td>\n",
       "      <td>862</td>\n",
       "      <td>tt0114709</td>\n",
       "      <td>en</td>\n",
       "      <td>Toy Story</td>\n",
       "      <td>Led by Woody, Andy's toys live happily in his ...</td>\n",
       "      <td>...</td>\n",
       "      <td>1995-10-30</td>\n",
       "      <td>373554033.0</td>\n",
       "      <td>81.0</td>\n",
       "      <td>[{'iso_639_1': 'en', 'name': 'English'}]</td>\n",
       "      <td>Released</td>\n",
       "      <td>NaN</td>\n",
       "      <td>Toy Story</td>\n",
       "      <td>False</td>\n",
       "      <td>7.7</td>\n",
       "      <td>5415.0</td>\n",
       "    </tr>\n",
       "    <tr>\n",
       "      <th>1</th>\n",
       "      <td>FALSE</td>\n",
       "      <td>NaN</td>\n",
       "      <td>65000000</td>\n",
       "      <td>[{'id': 12, 'name': 'Adventure'}, {'id': 14, '...</td>\n",
       "      <td>NaN</td>\n",
       "      <td>8844</td>\n",
       "      <td>tt0113497</td>\n",
       "      <td>en</td>\n",
       "      <td>Jumanji</td>\n",
       "      <td>When siblings Judy and Peter discover an encha...</td>\n",
       "      <td>...</td>\n",
       "      <td>1995-12-15</td>\n",
       "      <td>262797249.0</td>\n",
       "      <td>104.0</td>\n",
       "      <td>[{'iso_639_1': 'en', 'name': 'English'}, {'iso...</td>\n",
       "      <td>Released</td>\n",
       "      <td>Roll the dice and unleash the excitement!</td>\n",
       "      <td>Jumanji</td>\n",
       "      <td>False</td>\n",
       "      <td>6.9</td>\n",
       "      <td>2413.0</td>\n",
       "    </tr>\n",
       "  </tbody>\n",
       "</table>\n",
       "<p>2 rows × 24 columns</p>\n",
       "</div>"
      ],
      "text/plain": [
       "   adult                              belongs_to_collection    budget  \\\n",
       "0  FALSE  {'id': 10194, 'name': 'Toy Story Collection', ...  30000000   \n",
       "1  FALSE                                                NaN  65000000   \n",
       "\n",
       "                                              genres  \\\n",
       "0  [{'id': 16, 'name': 'Animation'}, {'id': 35, '...   \n",
       "1  [{'id': 12, 'name': 'Adventure'}, {'id': 14, '...   \n",
       "\n",
       "                               homepage    id    imdb_id original_language  \\\n",
       "0  http://toystory.disney.com/toy-story   862  tt0114709                en   \n",
       "1                                   NaN  8844  tt0113497                en   \n",
       "\n",
       "  original_title                                           overview  ...  \\\n",
       "0      Toy Story  Led by Woody, Andy's toys live happily in his ...  ...   \n",
       "1        Jumanji  When siblings Judy and Peter discover an encha...  ...   \n",
       "\n",
       "  release_date      revenue runtime  \\\n",
       "0   1995-10-30  373554033.0    81.0   \n",
       "1   1995-12-15  262797249.0   104.0   \n",
       "\n",
       "                                    spoken_languages    status  \\\n",
       "0           [{'iso_639_1': 'en', 'name': 'English'}]  Released   \n",
       "1  [{'iso_639_1': 'en', 'name': 'English'}, {'iso...  Released   \n",
       "\n",
       "                                     tagline      title  video vote_average  \\\n",
       "0                                        NaN  Toy Story  False          7.7   \n",
       "1  Roll the dice and unleash the excitement!    Jumanji  False          6.9   \n",
       "\n",
       "  vote_count  \n",
       "0     5415.0  \n",
       "1     2413.0  \n",
       "\n",
       "[2 rows x 24 columns]"
      ]
     },
     "execution_count": 3,
     "metadata": {},
     "output_type": "execute_result"
    }
   ],
   "source": [
    "import pandas as pd\n",
    "from sklearn.feature_extraction.text import TfidfVectorizer\n",
    "from sklearn.metrics.pairwise import cosine_similarity\n",
    "\n",
    "data = pd.read_csv('./movies_metadata.csv', low_memory=False, on_bad_lines='skip')\n",
    "data.head(2)"
   ]
  },
  {
   "cell_type": "code",
   "execution_count": 4,
   "metadata": {
    "id": "U21m_8F40MlF"
   },
   "outputs": [],
   "source": [
    "# 상위 2만개의 샘플을 data에 저장\n",
    "data = data.head(20000)\n"
   ]
  },
  {
   "cell_type": "code",
   "execution_count": 5,
   "metadata": {
    "colab": {
     "base_uri": "https://localhost:8080/"
    },
    "id": "8BFZCHg60NfB",
    "outputId": "4892d389-1bcb-4633-ae7c-635722e214ff"
   },
   "outputs": [
    {
     "name": "stdout",
     "output_type": "stream",
     "text": [
      "overview 열의 결측값의 수: 138\n"
     ]
    }
   ],
   "source": [
    "# overview 열에 존재하는 모든 결측값을 전부 카운트하여 출력\n",
    "print('overview 열의 결측값의 수:',data['overview'].isnull().sum())\n"
   ]
  },
  {
   "cell_type": "markdown",
   "metadata": {},
   "source": [
    "## Collection 처리"
   ]
  },
  {
   "cell_type": "code",
   "execution_count": 57,
   "metadata": {},
   "outputs": [
    {
     "name": "stdout",
     "output_type": "stream",
     "text": [
      "Exception: malformed node or string on line 1: <ast.Name object at 0x15147e740>\n"
     ]
    }
   ],
   "source": [
    "data['belongs_to_collection'] = data['belongs_to_collection'].fillna('{}')\n",
    "\n",
    "def extract_dict_value(json_str, key='name'):\n",
    "    \"\"\"딕셔너리 문자열에서 특정 키의 값을 추출하는 범용 함수\"\"\"\n",
    "    import ast\n",
    "    try:\n",
    "        if json_str and json_str.strip() != '{}':\n",
    "            # Python 딕셔너리 문자열을 실제 딕셔너리로 변환\n",
    "            dict_data = ast.literal_eval(json_str)\n",
    "            # 딕셔너리인지 확인\n",
    "            if isinstance(dict_data, dict):\n",
    "                return dict_data.get(key, '')\n",
    "            # 리스트인 경우 (예: genres, spoken_languages 등)\n",
    "            elif isinstance(dict_data, list) and dict_data:\n",
    "                # 첫 번째 항목이 딕셔너리인 경우\n",
    "                if isinstance(dict_data[0], dict):\n",
    "                    return dict_data[0].get(key, '')\n",
    "            return ''\n",
    "        return ''\n",
    "    except Exception as e:\n",
    "        print(f\"Exception: {e}\")\n",
    "        return ''\n",
    "\n",
    "def extract_list_dict_values(json_str, key='name', separator=' '):\n",
    "    \"\"\"딕셔너리 리스트에서 특정 키의 모든 값을 추출하여 합치는 함수\"\"\"\n",
    "    import ast\n",
    "    try:\n",
    "        if json_str and json_str.strip() != '[]' and json_str.strip() != '{}':\n",
    "            dict_data = ast.literal_eval(json_str)\n",
    "            if isinstance(dict_data, list):\n",
    "                values = [item.get(key, '') for item in dict_data if isinstance(item, dict)]\n",
    "                return separator.join(filter(None, values))  # 빈 문자열 제외\n",
    "            return ''\n",
    "        return ''\n",
    "    except Exception as e:\n",
    "        print(f\"Exception: {e}\")\n",
    "        return ''\n",
    "\n",
    "\n",
    "# 다양한 컬럼에 적용\n",
    "data['collection_title'] = data[\"belongs_to_collection\"].map(lambda x: extract_list_dict_values(x, 'name'))\n",
    "\n",
    "# genres 컬럼에서 name 추출 (리스트 형태)\n",
    "data['genres_names'] = data[\"genres\"].fillna('[]').map(lambda x: extract_list_dict_values(x, 'name'))\n",
    "\n",
    "# spoken_languages 컬럼에서 name 추출 (리스트 형태)  \n",
    "data['languages'] = data[\"spoken_languages\"].fillna('[]').map(lambda x: extract_list_dict_values(x, 'name'))\n",
    "\n",
    "# production_companies 컬럼에서 name 추출 (있다면)\n",
    "if 'production_companies' in data.columns:\n",
    "    data['companies'] = data[\"production_companies\"].fillna('[]').map(lambda x: extract_list_dict_values(x, 'name'))"
   ]
  },
  {
   "cell_type": "code",
   "execution_count": 6,
   "metadata": {
    "id": "C3-gz9pr0PCq"
   },
   "outputs": [],
   "source": [
    "# 결측값을 빈 값으로 대체\n",
    "data['overview'] = data['overview'].fillna('')\n"
   ]
  },
  {
   "cell_type": "code",
   "execution_count": null,
   "metadata": {},
   "outputs": [],
   "source": [
    "W_GENRES   = 2.0\n",
    "W_OVERVIEW = 1.0\n",
    "W_ACTORS   = 1.5\n",
    "W_DIRECTOR = 1.2\n",
    "W_KEYWORDS = 1.8\n",
    "W_COLLECTION = 3.0\n",
    "\n",
    "def build_weighted_text(row):\n",
    "    # 리스트 필드는 공백으로 합침\n",
    "    actors   = \" \".join(row.get(\"actors\", []) or [])\n",
    "    keywords = \" \".join(row.get(\"keywords\", []) or [])\n",
    "    genres   = row.get(\"genres\", \"\") or \"\"\n",
    "    overview = row.get(\"overview\", \"\") or \"\"\n",
    "    director = row.get(\"director\", \"\") or \"\"\n",
    "    # 단순 반복 대신, 가중치만큼 토큰을 복제해서 넣는 방식(간단하고 효과적)\n",
    "    # ex) W=2.0이면 2번 반복, 1.5면 1번 반복 + 나머지는 확률적으로 더해도 되지만 여기선 반올림\n",
    "    def repeat(text, w):\n",
    "        n = max(1, int(round(w)))\n",
    "        return (\" \" + text) * n if text else \"\"\n",
    "    \n",
    "    return (repeat(genres, W_GENRES) +\n",
    "            repeat(overview, W_OVERVIEW) +\n",
    "            repeat(actors, W_ACTORS) +\n",
    "            repeat(director, W_DIRECTOR) +\n",
    "            repeat(keywords, W_KEYWORDS)).strip()\n",
    "\n",
    "data['raw_text'] = "
   ]
  },
  {
   "cell_type": "code",
   "execution_count": null,
   "metadata": {
    "colab": {
     "base_uri": "https://localhost:8080/"
    },
    "id": "nVWyr3-40P-m",
    "outputId": "40bd8979-0050-43c2-e008-953dafb56d8f"
   },
   "outputs": [
    {
     "name": "stdout",
     "output_type": "stream",
     "text": [
      "TF-IDF 행렬의 크기(shape) : (20000, 47487)\n"
     ]
    }
   ],
   "source": [
    "tfidf = TfidfVectorizer(stop_words='english collection')\n",
    "tfidf_matrix = tfidf.fit_transform(data['overview'])\n",
    "print('TF-IDF 행렬의 크기(shape) :',tfidf_matrix.shape)\n"
   ]
  },
  {
   "cell_type": "code",
   "execution_count": 8,
   "metadata": {
    "colab": {
     "base_uri": "https://localhost:8080/"
    },
    "id": "nWCQfosD0Q-z",
    "outputId": "16444428-a3f3-40f5-9a38-933d8899b697"
   },
   "outputs": [
    {
     "name": "stdout",
     "output_type": "stream",
     "text": [
      "코사인 유사도 연산 결과 : (20000, 20000)\n"
     ]
    }
   ],
   "source": [
    "cosine_sim = cosine_similarity(tfidf_matrix, tfidf_matrix)\n",
    "print('코사인 유사도 연산 결과 :',cosine_sim.shape)\n"
   ]
  },
  {
   "cell_type": "code",
   "execution_count": 9,
   "metadata": {
    "colab": {
     "base_uri": "https://localhost:8080/"
    },
    "id": "T5kMpM0Q0SO6",
    "outputId": "8cdab8b2-0cd2-4002-bec8-f6d5db68a627"
   },
   "outputs": [
    {
     "name": "stdout",
     "output_type": "stream",
     "text": [
      "4\n"
     ]
    }
   ],
   "source": [
    "title_to_index = dict(zip(data['title'], data.index))\n",
    "\n",
    "# 영화 제목 Father of the Bride Part II의 인덱스를 리턴\n",
    "idx = title_to_index['Father of the Bride Part II']\n",
    "print(idx)\n"
   ]
  },
  {
   "cell_type": "code",
   "execution_count": null,
   "metadata": {
    "id": "gbYYfEn00TTP"
   },
   "outputs": [],
   "source": [
    "def get_recommendations(title, cosine_sim=cosine_sim):\n",
    "    # 선택한 영화의 타이틀로부터 해당 영화의 인덱스를 받아온다.\n",
    "    idx = title_to_index[title]\n",
    "\n",
    "    # 해당 영화와 모든 영화와의 유사도를 가져온다.\n",
    "    sim_scores = list(enumerate(cosine_sim[idx]))\n",
    "\n",
    "    # 유사도에 따라 영화들을 정렬한다.\n",
    "    sim_scores = sorted(sim_scores, key=lambda x: x[1], reverse=True)\n",
    "\n",
    "    # 가장 유사한 10개의 영화를 받아온다.\n",
    "    sim_scores = sim_scores[1:11]\n",
    "\n",
    "    # 가장 유사한 10개의 영화의 인덱스를 얻는다.\n",
    "    movie_indices = [idx[0] for idx in sim_scores]\n",
    "    \n",
    "    # 제목과 유사도 점수의 쌍으로 리턴 (numpy.float을 float로 변환)\n",
    "    results = []\n",
    "    for i, (movie_idx, score) in enumerate(sim_scores):\n",
    "        title = data['title'].iloc[movie_idx]\n",
    "        results.append((title, float(score)))\n",
    "    \n",
    "    return results"
   ]
  },
  {
   "cell_type": "code",
   "execution_count": 38,
   "metadata": {
    "colab": {
     "base_uri": "https://localhost:8080/",
     "height": 397
    },
    "id": "ILbiANJK0Utu",
    "outputId": "f0a30b81-4d69-454e-acca-7579bf9c67e6"
   },
   "outputs": [
    {
     "data": {
      "text/plain": [
       "[('Toy Story 3', np.float64(0.5258229300737998)),\n",
       " ('Toy Story 2', np.float64(0.46263882186410815)),\n",
       " ('The 40 Year Old Virgin', np.float64(0.27955411504881333)),\n",
       " ('The Champ', np.float64(0.2006858906698556)),\n",
       " ('Rebel Without a Cause', np.float64(0.1827296872275654)),\n",
       " ('For Your Consideration', np.float64(0.15689199223985256)),\n",
       " ('Condorman', np.float64(0.15273436907628185)),\n",
       " ('Man on the Moon', np.float64(0.14319886672359)),\n",
       " ('Malice', np.float64(0.13751067912693812)),\n",
       " ('Factory Girl', np.float64(0.13360661610274202))]"
      ]
     },
     "execution_count": 38,
     "metadata": {},
     "output_type": "execute_result"
    }
   ],
   "source": [
    "# get_recommendations('The Dark Knight Rises')\n",
    "get_recommendations('Toy Story')\n"
   ]
  }
 ],
 "metadata": {
  "colab": {
   "provenance": []
  },
  "kernelspec": {
   "display_name": "hf_env",
   "language": "python",
   "name": "python3"
  },
  "language_info": {
   "codemirror_mode": {
    "name": "ipython",
    "version": 3
   },
   "file_extension": ".py",
   "mimetype": "text/x-python",
   "name": "python",
   "nbconvert_exporter": "python",
   "pygments_lexer": "ipython3",
   "version": "3.10.18"
  }
 },
 "nbformat": 4,
 "nbformat_minor": 0
}
