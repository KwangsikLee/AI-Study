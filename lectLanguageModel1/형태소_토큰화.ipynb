{
 "cells": [
  {
   "cell_type": "code",
   "execution_count": null,
   "metadata": {
    "colab": {
     "base_uri": "https://localhost:8080/"
    },
    "id": "9dS5RhNbzrvK",
    "outputId": "7c769ab6-3dac-403a-d6f6-d9488e3da3f9"
   },
   "outputs": [],
   "source": [
    "# MeCab 설치 (macOS)\n",
    "!brew install mecab mecab-ko mecab-ko-dic\n",
    "!pip install mecab-python3"
   ]
  },
  {
   "cell_type": "code",
   "execution_count": 1,
   "metadata": {
    "colab": {
     "base_uri": "https://localhost:8080/"
    },
    "id": "Ne1lIbDu1NvW",
    "outputId": "efedd263-907c-4b4f-dc48-31585a9cfc02"
   },
   "outputs": [
    {
     "name": "stdout",
     "output_type": "stream",
     "text": [
      "MeCab 분석 결과:\n",
      "사과\tNNG,*,F,사과,*,*,*,*\n",
      "의\tJKG,*,F,의,*,*,*,*\n",
      "놀라운\tVA+ETM,*,T,놀라운,Inflect,VA,ETM,놀랍/VA/*+ᆫ/ETM/*\n",
      "효능\tNNG,*,T,효능,*,*,*,*\n",
      "이\tVCP,*,F,이,*,*,*,*\n",
      "라는\tETM,*,T,라는,*,*,*,*\n",
      "글\tNNG,*,T,글,*,*,*,*\n",
      "을\tJKO,*,T,을,*,*,*,*\n",
      "봤\tVV+EP,*,T,봤,Inflect,VV,EP,보/VV/*+았/EP/*\n",
      "어\tEF,*,F,어,*,*,*,*\n",
      ".\tSF,*,*,*,*,*,*,*\n",
      "그래서\tMAJ,*,F,그래서,*,*,*,*\n",
      "오늘\tMAG,성분부사|시간부사,T,오늘,*,*,*,*\n",
      "사과\tNNG,*,F,사과,*,*,*,*\n",
      "를\tJKO,*,T,를,*,*,*,*\n",
      "먹\tVV,*,T,먹,*,*,*,*\n",
      "으려고\tEC,*,F,으려고,*,*,*,*\n",
      "했\tVX+EP,*,T,했,Inflect,VX,EP,하/VX/*+았/EP/*\n",
      "는데\tEC,*,F,는데,*,*,*,*\n",
      "사과\tNNG,*,F,사과,*,*,*,*\n",
      "가\tJKS,*,F,가,*,*,*,*\n",
      "썩\tVV,*,T,썩,*,*,*,*\n",
      "어서\tEC,*,F,어서,*,*,*,*\n",
      "슈퍼\tNNG,장소,F,슈퍼,*,*,*,*\n",
      "에\tJKB,*,F,에,*,*,*,*\n",
      "가\tVV,*,F,가,*,*,*,*\n",
      "서\tEC,*,F,서,*,*,*,*\n",
      "사과\tNNG,*,F,사과,*,*,*,*\n",
      "랑\tJKB,*,T,랑,*,*,*,*\n",
      "오렌지\tNNG,*,F,오렌지,*,*,*,*\n",
      "사\tVV+EC,*,F,사,Inflect,VV,EC,사/VV/*+아/EC/*\n",
      "왔\tVX+EP,*,T,왔,Inflect,VX,EP,오/VX/*+았/EP/*\n",
      "어\tEC,*,F,어,*,*,*,*\n",
      "EOS\n",
      "\n",
      "\n",
      "형태소 목록: ['사과', '의', '놀라운', '효능', '이', '라는', '글', '을', '봤', '어', '.', '그래서', '오늘', '사과', '를', '먹', '으려고', '했', '는데', '사과', '가', '썩', '어서', '슈퍼', '에', '가', '서', '사과', '랑', '오렌지', '사', '왔', '어']\n"
     ]
    }
   ],
   "source": [
    "import MeCab\n",
    "\n",
    "# MeCab 한국어 사전 경로 지정\n",
    "tagger = MeCab.Tagger('-d /usr/local/lib/mecab/dic/mecab-ko-dic')\n",
    "\n",
    "kor_text = \"사과의 놀라운 효능이라는 글을 봤어. 그래서 오늘 사과를 먹으려고 했는데 사과가 썩어서 슈퍼에 가서 사과랑 오렌지 사왔어\"\n",
    "\n",
    "# 형태소 분석\n",
    "result = tagger.parse(kor_text)\n",
    "print(\"MeCab 분석 결과:\")\n",
    "print(result)\n",
    "\n",
    "# 형태소만 추출\n",
    "morphs = []\n",
    "lines = result.strip().split('\\n')\n",
    "for line in lines:\n",
    "    if line and line != 'EOS':\n",
    "        parts = line.split('\\t')\n",
    "        if len(parts) >= 2:\n",
    "            morphs.append(parts[0])\n",
    "\n",
    "print(\"\\n형태소 목록:\", morphs)"
   ]
  },
  {
   "cell_type": "code",
   "execution_count": 8,
   "metadata": {
    "colab": {
     "base_uri": "https://localhost:8080/"
    },
    "id": "x4CUt5WA2c7g",
    "outputId": "b9212487-74c6-4b0c-cf82-6a2592ae9ae8"
   },
   "outputs": [
    {
     "name": "stdout",
     "output_type": "stream",
     "text": [
      "형태소 분석 결과: ['파이썬', '을', '이용', '한', '자연어', '처리', '는', '재미있습니다', '!']\n"
     ]
    }
   ],
   "source": [
    "# KoNLPy Okt 형태소 분석기\n",
    "\n",
    "\n",
    "\n",
    "from konlpy.tag import Okt\n",
    "\n",
    "text = \"파이썬을 이용한 자연어 처리는 재미있습니다!\"\n",
    "okt = Okt()\n",
    "tokens = okt.morphs(text)\n",
    "print(\"형태소 분석 결과:\", tokens)\n"
   ]
  },
  {
   "cell_type": "code",
   "execution_count": 2,
   "metadata": {},
   "outputs": [
    {
     "name": "stdout",
     "output_type": "stream",
     "text": [
      "Okt 형태소 분석: ['파이썬', '을', '이용', '한', '자연어', '처리', '는', '재미있습니다', '!']\n",
      "MeCab 형태소 분석: ['파이썬', '을', '이용', '한', '자연어', '처리', '는', '재미있', '습니다', '!']\n"
     ]
    }
   ],
   "source": [
    "# KoNLPy와 MeCab 비교\n",
    "from konlpy.tag import Okt\n",
    "# import MeCab\n",
    "\n",
    "text = \"파이썬을 이용한 자연어 처리는 재미있습니다!\"\n",
    "\n",
    "# Okt 사용\n",
    "okt = Okt()\n",
    "okt_tokens = okt.morphs(text)\n",
    "print(\"Okt 형태소 분석:\", okt_tokens)\n",
    "\n",
    "# MeCab 사용  \n",
    "tagger = MeCab.Tagger('-d /usr/local/lib/mecab/dic/mecab-ko-dic')\n",
    "result = tagger.parse(text)\n",
    "\n",
    "# MeCab 형태소만 추출\n",
    "mecab_tokens = []\n",
    "lines = result.strip().split('\\n')\n",
    "for line in lines:\n",
    "    if line and line != 'EOS':\n",
    "        parts = line.split('\\t')\n",
    "        if len(parts) >= 2:\n",
    "            mecab_tokens.append(parts[0])\n",
    "\n",
    "print(\"MeCab 형태소 분석:\", mecab_tokens)"
   ]
  }
 ],
 "metadata": {
  "colab": {
   "provenance": []
  },
  "kernelspec": {
   "display_name": "hf_env",
   "language": "python",
   "name": "python3"
  },
  "language_info": {
   "codemirror_mode": {
    "name": "ipython",
    "version": 3
   },
   "file_extension": ".py",
   "mimetype": "text/x-python",
   "name": "python",
   "nbconvert_exporter": "python",
   "pygments_lexer": "ipython3",
   "version": "3.10.18"
  }
 },
 "nbformat": 4,
 "nbformat_minor": 0
}
