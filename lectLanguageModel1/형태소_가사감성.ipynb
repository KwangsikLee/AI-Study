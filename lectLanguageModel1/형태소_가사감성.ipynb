{
  "cells": [
    {
      "cell_type": "code",
      "execution_count": 1,
      "metadata": {
        "colab": {
          "base_uri": "https://localhost:8080/"
        },
        "id": "x5G0Ln4UJmE6",
        "outputId": "9c507843-13ae-4435-f96b-3299a5113183"
      },
      "outputs": [
        {
          "name": "stdout",
          "output_type": "stream",
          "text": [
            "\r0% [Working]\r            \rHit:1 https://developer.download.nvidia.com/compute/cuda/repos/ubuntu2204/x86_64  InRelease\n",
            "\r0% [Waiting for headers] [Waiting for headers] [Connected to cloud.r-project.or\r                                                                               \rHit:2 https://cloud.r-project.org/bin/linux/ubuntu jammy-cran40/ InRelease\n",
            "\r0% [Waiting for headers] [Waiting for headers] [Connected to r2u.stat.illinois.\r                                                                               \rHit:3 http://security.ubuntu.com/ubuntu jammy-security InRelease\n",
            "Hit:4 http://archive.ubuntu.com/ubuntu jammy InRelease\n",
            "Hit:5 https://r2u.stat.illinois.edu/ubuntu jammy InRelease\n",
            "Hit:6 http://archive.ubuntu.com/ubuntu jammy-updates InRelease\n",
            "Hit:7 http://archive.ubuntu.com/ubuntu jammy-backports InRelease\n",
            "Hit:8 https://ppa.launchpadcontent.net/deadsnakes/ppa/ubuntu jammy InRelease\n",
            "Hit:9 https://ppa.launchpadcontent.net/graphics-drivers/ppa/ubuntu jammy InRelease\n",
            "Hit:10 https://ppa.launchpadcontent.net/ubuntugis/ppa/ubuntu jammy InRelease\n",
            "Reading package lists... Done\n",
            "W: Skipping acquire of configured file 'main/source/Sources' as repository 'https://r2u.stat.illinois.edu/ubuntu jammy InRelease' does not seem to provide it (sources.list entry misspelt?)\n",
            "Requirement already satisfied: pip in /usr/local/lib/python3.11/dist-packages (25.2)\n",
            "Requirement already satisfied: setuptools in /usr/local/lib/python3.11/dist-packages (80.9.0)\n",
            "Requirement already satisfied: wheel in /usr/local/lib/python3.11/dist-packages (0.45.1)\n"
          ]
        }
      ],
      "source": [
        "# [1] 환경 준비\n",
        "!apt-get update\n",
        "!apt-get install -y openjdk-8-jdk fonts-nanum > /dev/null\n",
        "!pip install --upgrade pip setuptools wheel\n",
        "!pip install JPype1==1.4.1 konlpy scikit-learn --quiet"
      ]
    },
    {
      "cell_type": "code",
      "execution_count": 2,
      "metadata": {
        "colab": {
          "base_uri": "https://localhost:8080/"
        },
        "id": "xhNyTbgdJM_9",
        "outputId": "d4755d09-6ddf-474b-df9f-d80299dccfb5"
      },
      "outputs": [
        {
          "name": "stdout",
          "output_type": "stream",
          "text": [
            "형태소 분석 결과 예시: ['행복했던 기억 이 가득해', '너 와의 이별 이 너무 아파']\n"
          ]
        }
      ],
      "source": [
        "\n",
        "\n",
        "# [2] 예시 가사 데이터 만들기 (10개 샘플)\n",
        "lyrics = [\n",
        "    \"행복했던 기억이 가득해\",        # 긍정(1)\n",
        "    \"너와의 이별이 너무 아파\",        # 부정(0)\n",
        "    \"사랑은 다시 찾아올 거야\",       # 긍정(1)\n",
        "    \"외로운 밤 혼자 울고 있어\",      # 부정(0)\n",
        "    \"햇살처럼 눈부신 하루야\",        # 긍정(1)\n",
        "    \"추억만이 남아 나를 괴롭혀\",     # 부정(0)\n",
        "    \"새로운 시작이 설레여\",         # 긍정(1)\n",
        "    \"상처뿐인 기억들이 떠올라\",      # 부정(0)\n",
        "    \"희망을 안고 달려가\",            # 긍정(1)\n",
        "    \"어둠 속에 방황하는 나\"          # 부정(0)\n",
        "]\n",
        "labels = [1, 0, 1, 0, 1, 0, 1, 0, 1, 0]  # 1=긍정, 0=부정\n",
        "\n",
        "# [3] 형태소 분석(명사+형태소)\n",
        "from konlpy.tag import Okt\n",
        "\n",
        "okt = Okt()\n",
        "def tokenize(text):\n",
        "    # 형태소 분해(명사+형태소 결합)\n",
        "    return ' '.join(okt.morphs(text))\n",
        "\n",
        "tokens = [tokenize(lyric) for lyric in lyrics]\n",
        "print(\"형태소 분석 결과 예시:\", tokens[:2])\n"
      ]
    },
    {
      "cell_type": "code",
      "execution_count": 3,
      "metadata": {},
      "outputs": [
        {
          "name": "stdout",
          "output_type": "stream",
          "text": [
            "\n",
            "[감성분석 결과]\n",
            "\n",
            "              precision    recall  f1-score   support\n",
            "\n",
            "          부정       0.50      1.00      0.67         1\n",
            "          긍정       0.00      0.00      0.00         1\n",
            "\n",
            "    accuracy                           0.50         2\n",
            "   macro avg       0.25      0.50      0.33         2\n",
            "weighted avg       0.25      0.50      0.33         2\n",
            "\n",
            "\"이별의 슬픔이 내 마음을 적셔\" => 부정\n",
            "\"희망찬 내일이 기다리고 있어\" => 부정\n"
          ]
        },
        {
          "name": "stderr",
          "output_type": "stream",
          "text": [
            "/Users/kwangsiklee/miniforge3/envs/hf_env/lib/python3.10/site-packages/sklearn/metrics/_classification.py:1731: UndefinedMetricWarning: Precision is ill-defined and being set to 0.0 in labels with no predicted samples. Use `zero_division` parameter to control this behavior.\n",
            "  _warn_prf(average, modifier, f\"{metric.capitalize()} is\", result.shape[0])\n",
            "/Users/kwangsiklee/miniforge3/envs/hf_env/lib/python3.10/site-packages/sklearn/metrics/_classification.py:1731: UndefinedMetricWarning: Precision is ill-defined and being set to 0.0 in labels with no predicted samples. Use `zero_division` parameter to control this behavior.\n",
            "  _warn_prf(average, modifier, f\"{metric.capitalize()} is\", result.shape[0])\n",
            "/Users/kwangsiklee/miniforge3/envs/hf_env/lib/python3.10/site-packages/sklearn/metrics/_classification.py:1731: UndefinedMetricWarning: Precision is ill-defined and being set to 0.0 in labels with no predicted samples. Use `zero_division` parameter to control this behavior.\n",
            "  _warn_prf(average, modifier, f\"{metric.capitalize()} is\", result.shape[0])\n"
          ]
        }
      ],
      "source": [
        "\n",
        "# [4] 벡터화(CountVectorizer) + 감성 분류(나이브 베이즈)\n",
        "from sklearn.feature_extraction.text import CountVectorizer\n",
        "from sklearn.naive_bayes import MultinomialNB\n",
        "from sklearn.model_selection import train_test_split\n",
        "from sklearn.metrics import classification_report\n",
        "\n",
        "vectorizer = CountVectorizer()\n",
        "X_vec = vectorizer.fit_transform(tokens)\n",
        "X_train, X_test, y_train, y_test = train_test_split(X_vec, labels, test_size=0.2, random_state=42)\n",
        "\n",
        "clf = MultinomialNB()\n",
        "clf.fit(X_train, y_train)\n",
        "pred = clf.predict(X_test)\n",
        "\n",
        "print(\"\\n[감성분석 결과]\\n\")\n",
        "print(classification_report(y_test, pred, target_names=[\"부정\", \"긍정\"]))\n",
        "\n",
        "# [5] 새로운 가사 감성 예측\n",
        "test_lyrics = [\n",
        "    \"이별의 슬픔이 내 마음을 적셔\",\n",
        "    \"희망찬 내일이 기다리고 있어\"\n",
        "]\n",
        "test_tokens = [tokenize(l) for l in test_lyrics]\n",
        "test_vec = vectorizer.transform(test_tokens)\n",
        "preds = clf.predict(test_vec)\n",
        "for lyric, label in zip(test_lyrics, preds):\n",
        "    print(f'\"{lyric}\" => {\"긍정\" if label==1 else \"부정\"}')\n"
      ]
    }
  ],
  "metadata": {
    "colab": {
      "provenance": []
    },
    "kernelspec": {
      "display_name": "hf_env",
      "language": "python",
      "name": "python3"
    },
    "language_info": {
      "codemirror_mode": {
        "name": "ipython",
        "version": 3
      },
      "file_extension": ".py",
      "mimetype": "text/x-python",
      "name": "python",
      "nbconvert_exporter": "python",
      "pygments_lexer": "ipython3",
      "version": "3.10.18"
    }
  },
  "nbformat": 4,
  "nbformat_minor": 0
}
