{
  "cells": [
    {
      "cell_type": "code",
      "execution_count": 2,
      "metadata": {
        "colab": {
          "base_uri": "https://localhost:8080/"
        },
        "id": "UXyuzY2C1K9z",
        "outputId": "024ac02a-d7db-47e6-a084-2da1c530e5d0"
      },
      "outputs": [],
      "source": [
        "# 설치\n",
        "!pip -q install konlpy mecab-python3 emoji\n"
      ]
    },
    {
      "cell_type": "code",
      "execution_count": 3,
      "metadata": {},
      "outputs": [
        {
          "name": "stdout",
          "output_type": "stream",
          "text": [
            "정규화 결과:\n",
            "['와 ㅋㅋ 오늘 공연 미쳤다 EMOJI EMOJI EMOJI', '비가 와서 집콕... ㅠㅠ 커피라도 마셔야지 EMOJI', '헐ㅋㅋ 어제 경기 ㄹㅇ 레전드;; 대박이다!', '하하하 이것도 웃기네 ㅎㅎ EMOJI EMOJI']\n",
            "\n",
            "상위 토큰 15개: [('EMOJI', 6), ('ㅋㅋ', 2), ('다', 2), ('와', 1), ('오늘', 1), ('공연', 1), ('미쳤', 1), ('비', 1), ('가', 1), ('와서', 1), ('집', 1), ('콕', 1), ('.', 1), ('..', 1), ('ㅠㅠ', 1)]\n"
          ]
        },
        {
          "name": "stderr",
          "output_type": "stream",
          "text": [
            "WARNING: A restricted method in java.lang.System has been called\n",
            "WARNING: java.lang.System::load has been called by org.jpype.JPypeContext in an unnamed module (file:/Users/kwangsiklee/miniforge3/envs/hf_env/lib/python3.10/site-packages/org.jpype.jar)\n",
            "WARNING: Use --enable-native-access=ALL-UNNAMED to avoid a warning for callers in this module\n",
            "WARNING: Restricted methods will be blocked in a future release unless native access is enabled\n",
            "\n"
          ]
        }
      ],
      "source": [
        "\n",
        "import re, emoji, collections\n",
        "from konlpy.tag import Okt\n",
        "tokenizer_name=\"okt\"; okt=Okt(); mecab=None\n",
        "try:\n",
        "    from konlpy.tag import Mecab\n",
        "    mecab=Mecab(); tokenizer_name=\"mecab\"\n",
        "except: print(\"[알림] Mecab 사용 불가 → Okt로 진행\")\n",
        "\n",
        "SENTS = [\n",
        "    \"와 ㅋㅋㅋㅋ 오늘 공연 미쳤다 🔥🔥🔥\",\n",
        "    \"비가 와서 집콕... ㅠㅠ 커피라도 마셔야지 ☕️\",\n",
        "    \"헐ㅋㅋ 어제 경기 ㄹㅇ 레전드;; 대박이다!!!\",\n",
        "    \"하하하 이것도 웃기네 ㅎㅎㅎ 😂😂\",\n",
        "]\n",
        "\n",
        "# 의성·의태·반복 문자 패턴 사전\n",
        "PATTERNS = {\n",
        "    r\"(ㅋ)\\1{1,}\": \"ㅋㅋ\",   # ㅋ 반복 → ㅋㅋ\n",
        "    r\"(ㅎ)\\1{1,}\": \"ㅎㅎ\",   # ㅎ 반복 → ㅎㅎ\n",
        "    r\"(ㅠ)\\1{1,}\": \"ㅠㅠ\",   # ㅠ 반복 → ㅠㅠ\n",
        "    r\"(ㅜ)\\1{1,}\": \"ㅜㅜ\",   # ㅜ 반복 → ㅜㅜ\n",
        "    r\"(!)\\1{1,}\": \"!\",      # ! 반복 → !\n",
        "    r\"([?])\\1{1,}\": \"?\",    # ? 반복 → ?\n",
        "}\n",
        "\n",
        "def normalize(text):\n",
        "    s = text\n",
        "    for pat, rep in PATTERNS.items():\n",
        "        s = re.sub(pat, rep, s)\n",
        "    s = emoji.replace_emoji(s, replace=\" EMOJI \")  # 이모지는 토큰 'EMOJI'로\n",
        "    s = re.sub(r\"\\s+\", \" \", s).strip()\n",
        "    return s\n",
        "\n",
        "def morphs(text):\n",
        "    if tokenizer_name==\"mecab\": return mecab.morphs(text)\n",
        "    else: return okt.morphs(text, stem=True)\n",
        "\n",
        "normed = [normalize(x) for x in SENTS]\n",
        "print(\"정규화 결과:\", normed, sep=\"\\n\")\n",
        "\n",
        "# 토큰화 + 빈도\n",
        "from collections import Counter\n",
        "cnt = Counter()\n",
        "for s in normed: cnt.update(morphs(s))\n",
        "print(\"\\n상위 토큰 15개:\", cnt.most_common(15))\n"
      ]
    }
  ],
  "metadata": {
    "colab": {
      "provenance": []
    },
    "kernelspec": {
      "display_name": "hf_env",
      "language": "python",
      "name": "python3"
    },
    "language_info": {
      "codemirror_mode": {
        "name": "ipython",
        "version": 3
      },
      "file_extension": ".py",
      "mimetype": "text/x-python",
      "name": "python",
      "nbconvert_exporter": "python",
      "pygments_lexer": "ipython3",
      "version": "3.10.18"
    }
  },
  "nbformat": 4,
  "nbformat_minor": 0
}
