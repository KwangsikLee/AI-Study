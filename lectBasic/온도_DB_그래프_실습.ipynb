{
  "nbformat": 4,
  "nbformat_minor": 0,
  "metadata": {
    "colab": {
      "provenance": [],
      "collapsed_sections": [
        "u9XWYHNsF_A_",
        "zWn85_gTGHR-",
        "4ySwJz9NGLyl",
        "_IvF-rnDGQFp",
        "P5LFwnI2Gbz2"
      ]
    },
    "kernelspec": {
      "name": "python3",
      "display_name": "Python 3"
    },
    "language_info": {
      "name": "python"
    }
  },
  "cells": [
    {
      "cell_type": "code",
      "execution_count": 1,
      "metadata": {
        "colab": {
          "base_uri": "https://localhost:8080/"
        },
        "collapsed": true,
        "id": "AtbhCHBnEeRN",
        "outputId": "70d43f7d-87b4-4a57-f417-824d1197136b"
      },
      "outputs": [
        {
          "output_type": "stream",
          "name": "stdout",
          "text": [
            "W: Skipping acquire of configured file 'main/source/Sources' as repository 'https://r2u.stat.illinois.edu/ubuntu jammy InRelease' does not seem to provide it (sources.list entry misspelt?)\n",
            "/usr/share/fonts: caching, new cache contents: 0 fonts, 1 dirs\n",
            "/usr/share/fonts/truetype: caching, new cache contents: 0 fonts, 3 dirs\n",
            "/usr/share/fonts/truetype/humor-sans: caching, new cache contents: 1 fonts, 0 dirs\n",
            "/usr/share/fonts/truetype/liberation: caching, new cache contents: 16 fonts, 0 dirs\n",
            "/usr/share/fonts/truetype/nanum: caching, new cache contents: 12 fonts, 0 dirs\n",
            "/usr/local/share/fonts: caching, new cache contents: 0 fonts, 0 dirs\n",
            "/root/.local/share/fonts: skipping, no such directory\n",
            "/root/.fonts: skipping, no such directory\n",
            "/usr/share/fonts/truetype: skipping, looped directory detected\n",
            "/usr/share/fonts/truetype/humor-sans: skipping, looped directory detected\n",
            "/usr/share/fonts/truetype/liberation: skipping, looped directory detected\n",
            "/usr/share/fonts/truetype/nanum: skipping, looped directory detected\n",
            "/var/cache/fontconfig: cleaning cache directory\n",
            "/root/.cache/fontconfig: not cleaning non-existent cache directory\n",
            "/root/.fontconfig: not cleaning non-existent cache directory\n",
            "fc-cache: succeeded\n"
          ]
        }
      ],
      "source": [
        "# 나눔고딕 폰트 설치 및 설정\n",
        "!apt-get update -qq\n",
        "!apt-get install fonts-nanum -qq\n",
        "!fc-cache -fv\n",
        "!rm ~/.cache/matplotlib -rf\n"
      ]
    },
    {
      "cell_type": "code",
      "source": [
        "import pandas as pd\n",
        "import matplotlib.pyplot as plt\n",
        "import numpy as np\n",
        "from datetime import datetime\n",
        "import matplotlib.font_manager as fm\n",
        "import warnings\n",
        "import sqlite3\n",
        "from datetime import datetime, timedelta\n",
        "import seaborn as sns\n",
        "warnings.filterwarnings('ignore')\n",
        "\n",
        "# 폰트 설정\n",
        "font_path = '/usr/share/fonts/truetype/nanum/NanumGothic.ttf'\n",
        "fontprop = fm.FontProperties(fname=font_path, size=10)\n",
        "plt.rcParams['font.family'] = 'NanumGothic'\n",
        "plt.rcParams['axes.unicode_minus'] = False"
      ],
      "metadata": {
        "id": "Wq9TCjzhEooS"
      },
      "execution_count": 2,
      "outputs": []
    },
    {
      "cell_type": "markdown",
      "source": [
        "# 1 ) CSV 생성"
      ],
      "metadata": {
        "id": "u9XWYHNsF_A_"
      }
    },
    {
      "cell_type": "code",
      "source": [
        "# 온도 데이터 분석 - 2개월치 온도 데이터 처리\n",
        "\n",
        "\n",
        "\n",
        "print(\"=\" * 60)\n",
        "print(\"🌡️  온도 데이터 분석 수업\")\n",
        "print(\"=\" * 60)\n",
        "\n",
        "# ============================================================================\n",
        "# 1단계: 샘플 온도 데이터 생성 (실제 수업에서는 CSV 파일을 업로드)\n",
        "# ============================================================================\n",
        "\n",
        "def create_sample_temperature_data():\n",
        "    \"\"\"2개월치 온도 데이터 생성 (11월, 12월)\"\"\"\n",
        "    print(\"\\n1️⃣  샘플 온도 데이터 생성 중...\")\n",
        "\n",
        "    # 2024년 11월 1일부터 12월 31일까지\n",
        "    start_date = datetime(2024, 11, 1)\n",
        "    end_date = datetime(2024, 12, 31)\n",
        "\n",
        "    # 날짜 리스트 생성\n",
        "    dates = []\n",
        "    current_date = start_date\n",
        "    while current_date <= end_date:\n",
        "        dates.append(current_date)\n",
        "        current_date += timedelta(days=1)\n",
        "\n",
        "    # 온도 데이터 생성 (현실적인 패턴)\n",
        "    temperatures = []\n",
        "    for i, date in enumerate(dates):\n",
        "        # 계절적 변화 (11월에서 12월로 갈수록 추워짐)\n",
        "        base_temp = 15 - (i / len(dates)) * 10  # 15도에서 5도로 감소\n",
        "\n",
        "        # 일일 변동 추가 (랜덤 노이즈)\n",
        "        daily_variation = np.random.normal(0, 3)\n",
        "\n",
        "        # 최종 온도 (소수점 1자리)\n",
        "        temp = round(base_temp + daily_variation, 1)\n",
        "        temperatures.append(temp)\n",
        "\n",
        "    # DataFrame 생성\n",
        "    df = pd.DataFrame({\n",
        "        'date': [d.strftime('%Y-%m-%d') for d in dates],\n",
        "        'temperature': temperatures,\n",
        "        'month': [d.month for d in dates],\n",
        "        'day': [d.day for d in dates]\n",
        "    })\n",
        "\n",
        "    # CSV 파일로 저장\n",
        "    df.to_csv('temperature_data.csv', index=False, encoding='utf-8')\n",
        "    print(f\"✅ 샘플 데이터 생성 완료! 총 {len(df)}일치 데이터\")\n",
        "    print(f\"📅 기간: {dates[0].strftime('%Y-%m-%d')} ~ {dates[-1].strftime('%Y-%m-%d')}\")\n",
        "\n",
        "    return df\n",
        "\n",
        "# 샘플 데이터 생성\n",
        "sample_df = create_sample_temperature_data()\n",
        "\n",
        "\n",
        "\n",
        "\n"
      ],
      "metadata": {
        "colab": {
          "base_uri": "https://localhost:8080/"
        },
        "collapsed": true,
        "id": "G4gekTvsE3PD",
        "outputId": "f6097c4d-2ded-49d8-edf9-a99f5d379d35"
      },
      "execution_count": 3,
      "outputs": [
        {
          "output_type": "stream",
          "name": "stdout",
          "text": [
            "============================================================\n",
            "🌡️  온도 데이터 분석 수업\n",
            "============================================================\n",
            "\n",
            "1️⃣  샘플 온도 데이터 생성 중...\n",
            "✅ 샘플 데이터 생성 완료! 총 61일치 데이터\n",
            "📅 기간: 2024-11-01 ~ 2024-12-31\n"
          ]
        }
      ]
    },
    {
      "cell_type": "markdown",
      "source": [
        "# 2) CSV Read\n"
      ],
      "metadata": {
        "id": "zWn85_gTGHR-"
      }
    },
    {
      "cell_type": "code",
      "source": [
        "# ============================================================================\n",
        "# 2단계: CSV 파일 읽기\n",
        "# ============================================================================\n",
        "\n",
        "def read_temperature_csv(filename='temperature_data.csv'):\n",
        "    \"\"\"CSV 파일에서 온도 데이터 읽기\"\"\"\n",
        "    print(f\"\\n2️⃣  CSV 파일 읽기: {filename}\")\n",
        "\n",
        "    try:\n",
        "        # CSV 파일 읽기\n",
        "        df = pd.read_csv(filename)\n",
        "\n",
        "        # 데이터 정보 출력\n",
        "        print(f\"✅ 파일 읽기 성공!\")\n",
        "        print(f\"📊 데이터 형태: {df.shape}\")\n",
        "        print(f\"📋 컬럼: {list(df.columns)}\")\n",
        "\n",
        "        # 처음 5행 출력\n",
        "        print(\"\\n📋 데이터 미리보기:\")\n",
        "        print(df.head())\n",
        "\n",
        "        # 기본 통계 정보\n",
        "        print(\"\\n📈 온도 기본 통계:\")\n",
        "        print(df['temperature'].describe())\n",
        "\n",
        "        return df\n",
        "\n",
        "    except FileNotFoundError:\n",
        "        print(f\"❌ 파일을 찾을 수 없습니다: {filename}\")\n",
        "        return None\n",
        "    except Exception as e:\n",
        "        print(f\"❌ 파일 읽기 오류: {e}\")\n",
        "        return None\n",
        "\n",
        "# CSV 파일 읽기\n",
        "df = read_temperature_csv()\n"
      ],
      "metadata": {
        "colab": {
          "base_uri": "https://localhost:8080/"
        },
        "id": "waaS8gEVF41x",
        "outputId": "d660dcf4-7000-407e-ec49-068d0c8f696e"
      },
      "execution_count": 4,
      "outputs": [
        {
          "output_type": "stream",
          "name": "stdout",
          "text": [
            "\n",
            "2️⃣  CSV 파일 읽기: temperature_data.csv\n",
            "✅ 파일 읽기 성공!\n",
            "📊 데이터 형태: (61, 4)\n",
            "📋 컬럼: ['date', 'temperature', 'month', 'day']\n",
            "\n",
            "📋 데이터 미리보기:\n",
            "         date  temperature  month  day\n",
            "0  2024-11-01         19.6     11    1\n",
            "1  2024-11-02         15.2     11    2\n",
            "2  2024-11-03         17.4     11    3\n",
            "3  2024-11-04         10.7     11    4\n",
            "4  2024-11-05         14.0     11    5\n",
            "\n",
            "📈 온도 기본 통계:\n",
            "count    61.000000\n",
            "mean     10.460656\n",
            "std       4.949858\n",
            "min      -0.200000\n",
            "25%       7.000000\n",
            "50%       9.800000\n",
            "75%      14.500000\n",
            "max      22.100000\n",
            "Name: temperature, dtype: float64\n"
          ]
        }
      ]
    },
    {
      "cell_type": "markdown",
      "source": [
        "# 3) DB 생성 및 저장"
      ],
      "metadata": {
        "id": "4ySwJz9NGLyl"
      }
    },
    {
      "cell_type": "code",
      "source": [
        "# ============================================================================\n",
        "# 3단계: SQLite 데이터베이스 생성 및 데이터 저장\n",
        "# ============================================================================\n",
        "\n",
        "def create_temperature_database(df, db_name='temperature.db'):\n",
        "    \"\"\"SQLite 데이터베이스 생성 및 데이터 저장\"\"\"\n",
        "    print(f\"\\n3️⃣  SQLite 데이터베이스 생성: {db_name}\")\n",
        "\n",
        "    try:\n",
        "        # 데이터베이스 연결\n",
        "        conn = sqlite3.connect(db_name)\n",
        "        cur = conn.cursor()\n",
        "\n",
        "        # 테이블 삭제 (이미 존재하는 경우)\n",
        "        cur.execute(\"DROP TABLE IF EXISTS temperature_data\")\n",
        "\n",
        "        # 테이블 생성\n",
        "        cur.execute('''\n",
        "            CREATE TABLE temperature_data (\n",
        "                id INTEGER PRIMARY KEY AUTOINCREMENT,\n",
        "                date TEXT NOT NULL,\n",
        "                temperature REAL NOT NULL,\n",
        "                month INTEGER NOT NULL,\n",
        "                day INTEGER NOT NULL,\n",
        "                created_at TIMESTAMP DEFAULT CURRENT_TIMESTAMP\n",
        "            )\n",
        "        ''')\n",
        "\n",
        "        print(\"✅ 테이블 생성 완료!\")\n",
        "\n",
        "        # 데이터 삽입\n",
        "        print(\"📥 데이터 삽입 중...\")\n",
        "        for _, row in df.iterrows():\n",
        "            cur.execute('''\n",
        "                INSERT INTO temperature_data (date, temperature, month, day)\n",
        "                VALUES (?, ?, ?, ?)\n",
        "            ''', (row['date'], row['temperature'], row['month'], row['day']))\n",
        "\n",
        "        # 변경사항 저장\n",
        "        conn.commit()\n",
        "\n",
        "        # 삽입된 데이터 확인\n",
        "        cur.execute(\"SELECT COUNT(*) FROM temperature_data\")\n",
        "        count = cur.fetchone()[0]\n",
        "        print(f\"✅ 데이터 삽입 완료! 총 {count}개 레코드\")\n",
        "\n",
        "        # 샘플 데이터 조회\n",
        "        print(\"\\n📋 데이터베이스에서 처음 5개 레코드:\")\n",
        "        cur.execute(\"SELECT * FROM temperature_data LIMIT 5\")\n",
        "        for row in cur.fetchall():\n",
        "            print(f\"ID: {row[0]}, 날짜: {row[1]}, 온도: {row[2]}°C, 월: {row[3]}\")\n",
        "\n",
        "        conn.close()\n",
        "        print(f\"✅ 데이터베이스 '{db_name}' 생성 완료!\")\n",
        "\n",
        "        return True\n",
        "\n",
        "    except Exception as e:\n",
        "        print(f\"❌ 데이터베이스 생성 오류: {e}\")\n",
        "        return False\n",
        "\n",
        "# 데이터베이스 생성\n",
        "create_temperature_database(df)\n"
      ],
      "metadata": {
        "colab": {
          "base_uri": "https://localhost:8080/"
        },
        "id": "JEk35bRSF2vy",
        "outputId": "a0e5784a-005a-4674-a20b-03f3169b3b26"
      },
      "execution_count": 5,
      "outputs": [
        {
          "output_type": "stream",
          "name": "stdout",
          "text": [
            "\n",
            "3️⃣  SQLite 데이터베이스 생성: temperature.db\n",
            "✅ 테이블 생성 완료!\n",
            "📥 데이터 삽입 중...\n",
            "✅ 데이터 삽입 완료! 총 61개 레코드\n",
            "\n",
            "📋 데이터베이스에서 처음 5개 레코드:\n",
            "ID: 1, 날짜: 2024-11-01, 온도: 19.6°C, 월: 11\n",
            "ID: 2, 날짜: 2024-11-02, 온도: 15.2°C, 월: 11\n",
            "ID: 3, 날짜: 2024-11-03, 온도: 17.4°C, 월: 11\n",
            "ID: 4, 날짜: 2024-11-04, 온도: 10.7°C, 월: 11\n",
            "ID: 5, 날짜: 2024-11-05, 온도: 14.0°C, 월: 11\n",
            "✅ 데이터베이스 'temperature.db' 생성 완료!\n"
          ]
        },
        {
          "output_type": "execute_result",
          "data": {
            "text/plain": [
              "True"
            ]
          },
          "metadata": {},
          "execution_count": 5
        }
      ]
    },
    {
      "cell_type": "markdown",
      "source": [
        "# 4) DB 조회 및 분석"
      ],
      "metadata": {
        "id": "_IvF-rnDGQFp"
      }
    },
    {
      "cell_type": "code",
      "source": [
        "# ============================================================================\n",
        "# 4단계: 데이터베이스에서 데이터 조회 및 분석\n",
        "# ============================================================================\n",
        "\n",
        "def analyze_temperature_data(db_name='temperature.db'):\n",
        "    \"\"\"데이터베이스에서 온도 데이터 분석\"\"\"\n",
        "    print(f\"\\n4️⃣  온도 데이터 분석\")\n",
        "\n",
        "    conn = sqlite3.connect(db_name)\n",
        "\n",
        "    # 전체 통계\n",
        "    query1 = \"\"\"\n",
        "        SELECT\n",
        "            COUNT(*) as total_days,\n",
        "            ROUND(AVG(temperature), 1) as avg_temp,\n",
        "            MIN(temperature) as min_temp,\n",
        "            MAX(temperature) as max_temp\n",
        "        FROM temperature_data\n",
        "    \"\"\"\n",
        "\n",
        "    result1 = pd.read_sql_query(query1, conn)\n",
        "    print(\"📊 전체 기간 통계:\")\n",
        "    print(f\"   총 일수: {result1['total_days'].iloc[0]}일\")\n",
        "    print(f\"   평균 온도: {result1['avg_temp'].iloc[0]}°C\")\n",
        "    print(f\"   최저 온도: {result1['min_temp'].iloc[0]}°C\")\n",
        "    print(f\"   최고 온도: {result1['max_temp'].iloc[0]}°C\")\n",
        "\n",
        "    # 월별 통계\n",
        "    query2 = \"\"\"\n",
        "        SELECT\n",
        "            month,\n",
        "            COUNT(*) as days,\n",
        "            ROUND(AVG(temperature), 1) as avg_temp,\n",
        "            MIN(temperature) as min_temp,\n",
        "            MAX(temperature) as max_temp\n",
        "        FROM temperature_data\n",
        "        GROUP BY month\n",
        "        ORDER BY month\n",
        "    \"\"\"\n",
        "\n",
        "    monthly_stats = pd.read_sql_query(query2, conn)\n",
        "    print(\"\\n📅 월별 통계:\")\n",
        "    for _, row in monthly_stats.iterrows():\n",
        "        month_name = \"11월\" if row['month'] == 11 else \"12월\"\n",
        "        print(f\"   {month_name}: 평균 {row['avg_temp']}°C (최저 {row['min_temp']}°C, 최고 {row['max_temp']}°C)\")\n",
        "\n",
        "    # 온도 구간별 일수\n",
        "    query3 = \"\"\"\n",
        "        SELECT\n",
        "            CASE\n",
        "                WHEN temperature < 0 THEN '영하'\n",
        "                WHEN temperature < 10 THEN '0-10도'\n",
        "                WHEN temperature < 20 THEN '10-20도'\n",
        "                ELSE '20도 이상'\n",
        "            END as temp_range,\n",
        "            COUNT(*) as days\n",
        "        FROM temperature_data\n",
        "        GROUP BY temp_range\n",
        "        ORDER BY\n",
        "            CASE\n",
        "                WHEN temperature < 0 THEN 1\n",
        "                WHEN temperature < 10 THEN 2\n",
        "                WHEN temperature < 20 THEN 3\n",
        "                ELSE 4\n",
        "            END\n",
        "    \"\"\"\n",
        "\n",
        "    temp_ranges = pd.read_sql_query(query3, conn)\n",
        "    print(\"\\n🌡️  온도 구간별 일수:\")\n",
        "    for _, row in temp_ranges.iterrows():\n",
        "        print(f\"   {row['temp_range']}: {row['days']}일\")\n",
        "\n",
        "    conn.close()\n",
        "\n",
        "    return monthly_stats, temp_ranges\n",
        "\n",
        "# 데이터 분석 실행\n",
        "monthly_stats, temp_ranges = analyze_temperature_data()\n",
        "\n",
        "\n"
      ],
      "metadata": {
        "colab": {
          "base_uri": "https://localhost:8080/"
        },
        "id": "43Xhn0BhF0Jm",
        "outputId": "261af7eb-d6fb-485f-9ac4-4ef9003db931"
      },
      "execution_count": 6,
      "outputs": [
        {
          "output_type": "stream",
          "name": "stdout",
          "text": [
            "\n",
            "4️⃣  온도 데이터 분석\n",
            "📊 전체 기간 통계:\n",
            "   총 일수: 61일\n",
            "   평균 온도: 10.5°C\n",
            "   최저 온도: -0.2°C\n",
            "   최고 온도: 22.1°C\n",
            "\n",
            "📅 월별 통계:\n",
            "   11월: 평균 13.6°C (최저 3.8°C, 최고 22.1°C)\n",
            "   12월: 평균 7.5°C (최저 -0.2°C, 최고 14.5°C)\n",
            "\n",
            "🌡️  온도 구간별 일수:\n",
            "   영하: 1일\n",
            "   0-10도: 31일\n",
            "   10-20도: 28일\n",
            "   20도 이상: 1일\n"
          ]
        }
      ]
    },
    {
      "cell_type": "markdown",
      "source": [
        "# 5) 그래프 표현"
      ],
      "metadata": {
        "id": "XYut8NSsGkwQ"
      }
    },
    {
      "cell_type": "code",
      "source": [
        "# ============================================================================\n",
        "# 5단계: 막대 그래프 생성\n",
        "# ============================================================================\n",
        "\n",
        "def create_temperature_charts(db_name='temperature.db'):\n",
        "    \"\"\"다양한 온도 막대 그래프 생성\"\"\"\n",
        "    print(f\"\\n5️⃣  온도 막대 그래프 생성\")\n",
        "\n",
        "    conn = sqlite3.connect(db_name)\n",
        "\n",
        "    # 전체 데이터 조회\n",
        "    df = pd.read_sql_query(\"SELECT * FROM temperature_data\", conn)\n",
        "\n",
        "    # 월별 평균 온도 조회\n",
        "    monthly_avg = pd.read_sql_query(\"\"\"\n",
        "        SELECT\n",
        "            month,\n",
        "            ROUND(AVG(temperature), 1) as avg_temp,\n",
        "            COUNT(*) as days\n",
        "        FROM temperature_data\n",
        "        GROUP BY month\n",
        "        ORDER BY month\n",
        "    \"\"\", conn)\n",
        "\n",
        "    # 온도 구간별 일수 조회\n",
        "    temp_ranges = pd.read_sql_query(\"\"\"\n",
        "        SELECT\n",
        "            CASE\n",
        "                WHEN temperature < 0 THEN '영하'\n",
        "                WHEN temperature < 10 THEN '0-10도'\n",
        "                WHEN temperature < 20 THEN '10-20도'\n",
        "                ELSE '20도 이상'\n",
        "            END as temp_range,\n",
        "            COUNT(*) as days\n",
        "        FROM temperature_data\n",
        "        GROUP BY temp_range\n",
        "        ORDER BY\n",
        "            CASE\n",
        "                WHEN temperature < 0 THEN 1\n",
        "                WHEN temperature < 10 THEN 2\n",
        "                WHEN temperature < 20 THEN 3\n",
        "                ELSE 4\n",
        "            END\n",
        "    \"\"\", conn)\n",
        "\n",
        "    conn.close()\n",
        "\n",
        "    # 그래프 생성\n",
        "    fig, axes = plt.subplots(2, 2, figsize=(15, 12))\n",
        "    fig.suptitle('2개월 온도 데이터 분석 결과', fontsize=16, fontweight='bold')\n",
        "\n",
        "    # 1. 월별 평균 온도\n",
        "    ax1 = axes[0, 0]\n",
        "    months = ['11월', '12월']\n",
        "    bars1 = ax1.bar(months, monthly_avg['avg_temp'],\n",
        "                    color=['#FF6B6B', '#4ECDC4'], alpha=0.8, edgecolor='black')\n",
        "    ax1.set_title('월별 평균 온도', fontweight='bold')\n",
        "    ax1.set_ylabel('온도 (°C)')\n",
        "    ax1.grid(axis='y', alpha=0.3)\n",
        "\n",
        "    # 막대 위에 값 표시\n",
        "    for bar, temp in zip(bars1, monthly_avg['avg_temp']):\n",
        "        ax1.text(bar.get_x() + bar.get_width()/2, bar.get_height() + 0.2,\n",
        "                f'{temp}°C', ha='center', va='bottom', fontweight='bold')\n",
        "\n",
        "    # 2. 온도 구간별 일수\n",
        "    ax2 = axes[0, 1]\n",
        "    colors = ['#E3F2FD', '#BBDEFB', '#90CAF9', '#64B5F6']\n",
        "    bars2 = ax2.bar(temp_ranges['temp_range'], temp_ranges['days'],\n",
        "                    color=colors, alpha=0.8, edgecolor='black')\n",
        "    ax2.set_title('온도 구간별 일수', fontweight='bold')\n",
        "    ax2.set_ylabel('일수')\n",
        "    ax2.grid(axis='y', alpha=0.3)\n",
        "\n",
        "    # 막대 위에 값 표시\n",
        "    for bar, days in zip(bars2, temp_ranges['days']):\n",
        "        ax2.text(bar.get_x() + bar.get_width()/2, bar.get_height() + 0.5,\n",
        "                f'{days}일', ha='center', va='bottom', fontweight='bold')\n",
        "\n",
        "    # 3. 일별 온도 추이 (막대그래프)\n",
        "    ax3 = axes[1, 0]\n",
        "    # 최근 14일 데이터만 표시 (너무 많으면 복잡함)\n",
        "    recent_df = df.tail(14)\n",
        "    bars3 = ax3.bar(range(len(recent_df)), recent_df['temperature'],\n",
        "                    color='skyblue', alpha=0.7, edgecolor='navy')\n",
        "    ax3.set_title('최근 14일 온도 (막대그래프)', fontweight='bold')\n",
        "    ax3.set_ylabel('온도 (°C)')\n",
        "    ax3.set_xlabel('날짜')\n",
        "    ax3.set_xticks(range(len(recent_df)))\n",
        "    ax3.set_xticklabels([d.split('-')[2] for d in recent_df['date']], rotation=45)\n",
        "    ax3.grid(axis='y', alpha=0.3)\n",
        "\n",
        "    # 4. 월별 최고/최저 온도 비교\n",
        "    ax4 = axes[1, 1]\n",
        "    monthly_minmax = pd.read_sql_query(\"\"\"\n",
        "        SELECT\n",
        "            month,\n",
        "            MIN(temperature) as min_temp,\n",
        "            MAX(temperature) as max_temp\n",
        "        FROM temperature_data\n",
        "        GROUP BY month\n",
        "        ORDER BY month\n",
        "    \"\"\", sqlite3.connect('temperature.db'))\n",
        "\n",
        "    x = np.arange(len(months))\n",
        "    width = 0.35\n",
        "\n",
        "    bars4_min = ax4.bar(x - width/2, monthly_minmax['min_temp'], width,\n",
        "                       label='최저온도', color='lightblue', alpha=0.8, edgecolor='blue')\n",
        "    bars4_max = ax4.bar(x + width/2, monthly_minmax['max_temp'], width,\n",
        "                       label='최고온도', color='lightcoral', alpha=0.8, edgecolor='red')\n",
        "\n",
        "    ax4.set_title('월별 최고/최저 온도', fontweight='bold')\n",
        "    ax4.set_ylabel('온도 (°C)')\n",
        "    ax4.set_xticks(x)\n",
        "    ax4.set_xticklabels(months)\n",
        "    ax4.legend()\n",
        "    ax4.grid(axis='y', alpha=0.3)\n",
        "\n",
        "    # 막대 위에 값 표시\n",
        "    for bar, temp in zip(bars4_min, monthly_minmax['min_temp']):\n",
        "        ax4.text(bar.get_x() + bar.get_width()/2, bar.get_height() + 0.2,\n",
        "                f'{temp}°C', ha='center', va='bottom', fontsize=9)\n",
        "\n",
        "    for bar, temp in zip(bars4_max, monthly_minmax['max_temp']):\n",
        "        ax4.text(bar.get_x() + bar.get_width()/2, bar.get_height() + 0.2,\n",
        "                f'{temp}°C', ha='center', va='bottom', fontsize=9)\n",
        "\n",
        "    plt.tight_layout()\n",
        "    plt.show()\n",
        "\n",
        "    print(\"✅ 막대 그래프 생성 완료!\")\n",
        "\n",
        "# 막대 그래프 생성\n",
        "create_temperature_charts()\n"
      ],
      "metadata": {
        "colab": {
          "base_uri": "https://localhost:8080/",
          "height": 1000
        },
        "id": "8_Z6DD_UFwM6",
        "outputId": "4a2d8861-8b74-44a3-e4a3-0fbc50622173"
      },
      "execution_count": 7,
      "outputs": [
        {
          "output_type": "stream",
          "name": "stdout",
          "text": [
            "\n",
            "5️⃣  온도 막대 그래프 생성\n"
          ]
        },
        {
          "output_type": "display_data",
          "data": {
            "text/plain": [
              "<Figure size 1500x1200 with 4 Axes>"
            ],
            "image/png": "[encoded data removed]"
          },
          "metadata": {}
        },
        {
          "output_type": "stream",
          "name": "stdout",
          "text": [
            "✅ 막대 그래프 생성 완료!\n"
          ]
        }
      ]
    },
    {
      "cell_type": "markdown",
      "source": [
        "# 6) 분석"
      ],
      "metadata": {
        "id": "P5LFwnI2Gbz2"
      }
    },
    {
      "cell_type": "code",
      "source": [
        "# ============================================================================\n",
        "# 6단계:  분석 및\n",
        "# ============================================================================\n",
        "\n",
        "def additional_analysis(db_name='temperature.db'):\n",
        "    \"\"\"추가적인 온도 데이터 분석\"\"\"\n",
        "    print(f\"\\n6️⃣  추가 분석 및 인사이트\")\n",
        "\n",
        "    conn = sqlite3.connect(db_name)\n",
        "\n",
        "    # 가장 추운 날과 더운 날\n",
        "    query_extreme = \"\"\"\n",
        "        SELECT\n",
        "            date, temperature,\n",
        "            CASE\n",
        "                WHEN temperature = (SELECT MIN(temperature) FROM temperature_data) THEN '가장 추운 날'\n",
        "                WHEN temperature = (SELECT MAX(temperature) FROM temperature_data) THEN '가장 더운 날'\n",
        "            END as type\n",
        "        FROM temperature_data\n",
        "        WHERE temperature = (SELECT MIN(temperature) FROM temperature_data)\n",
        "           OR temperature = (SELECT MAX(temperature) FROM temperature_data)\n",
        "        ORDER BY temperature\n",
        "    \"\"\"\n",
        "\n",
        "    extreme_days = pd.read_sql_query(query_extreme, conn)\n",
        "    print(\"🌡️  극값 날짜:\")\n",
        "    for _, row in extreme_days.iterrows():\n",
        "        print(f\"   {row['type']}: {row['date']} ({row['temperature']}°C)\")\n",
        "\n",
        "    # 온도 변화 트렌드\n",
        "    query_trend = \"\"\"\n",
        "        SELECT\n",
        "            date, temperature,\n",
        "            LAG(temperature) OVER (ORDER BY date) as prev_temp,\n",
        "            temperature - LAG(temperature) OVER (ORDER BY date) as temp_change\n",
        "        FROM temperature_data\n",
        "        ORDER BY date\n",
        "    \"\"\"\n",
        "\n",
        "    trend_data = pd.read_sql_query(query_trend, conn)\n",
        "\n",
        "    # 가장 큰 온도 변화\n",
        "    max_increase = trend_data.loc[trend_data['temp_change'].idxmax()]\n",
        "    max_decrease = trend_data.loc[trend_data['temp_change'].idxmin()]\n",
        "\n",
        "    print(f\"\\n📈 온도 변화:\")\n",
        "    print(f\"   가장 큰 상승: {max_increase['date']} ({max_increase['temp_change']:+.1f}°C)\")\n",
        "    print(f\"   가장 큰 하강: {max_decrease['date']} ({max_decrease['temp_change']:+.1f}°C)\")\n",
        "\n",
        "    conn.close()\n",
        "\n",
        "# 추가 분석 실행\n",
        "additional_analysis()"
      ],
      "metadata": {
        "colab": {
          "base_uri": "https://localhost:8080/"
        },
        "id": "7y0_ZqApFoTG",
        "outputId": "9a852535-f0ae-46b2-989d-dd1a8447dfd1"
      },
      "execution_count": 8,
      "outputs": [
        {
          "output_type": "stream",
          "name": "stdout",
          "text": [
            "\n",
            "6️⃣  추가 분석 및 인사이트\n",
            "🌡️  극값 날짜:\n",
            "   가장 추운 날: 2024-12-27 (-0.2°C)\n",
            "   가장 더운 날: 2024-11-14 (22.1°C)\n",
            "\n",
            "📈 온도 변화:\n",
            "   가장 큰 상승: 2024-11-30 (+12.0°C)\n",
            "   가장 큰 하강: 2024-11-24 (-11.6°C)\n"
          ]
        }
      ]
    }
  ]
}