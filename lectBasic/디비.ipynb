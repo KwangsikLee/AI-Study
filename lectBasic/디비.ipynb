{
  "cells": [
    {
      "cell_type": "code",
      "execution_count": 2,
      "metadata": {
        "id": "6CTzg58RZ8rK"
      },
      "outputs": [],
      "source": [
        "import sqlite3"
      ]
    },
    {
      "cell_type": "code",
      "execution_count": 3,
      "metadata": {
        "id": "0zMrueBBbrnF"
      },
      "outputs": [],
      "source": [
        "friend_data = list(tuple())\n",
        "friend_data.append(('김상욱', 22, '010-4545-6767', '서울특별시 종로구 세종대로 종로 1가'))\n",
        "friend_data.append(('최지훈', 20, '010-7896-1234', '​전라북도 전주시 덕진구 석소로 77, 101동 101호(인후동1가, 대우아파트)'))\n",
        "friend_data.append(('Dr.Bae', 67, '010-8452-5678', '​전라북도 전주시 덕진구 석소2길 21-1(우아동2가)'))\n",
        "friend_data.append(('강서혁', 27, '010-1414-6767', '경상남도 의령군 화정면 화정로 41-6'))\n",
        "friend_data.append(('유민규', 21, '010-6497-6497', '서울특별시 동작구 흑석한강로 2(흑석동)'))"
      ]
    },
    {
      "cell_type": "markdown",
      "metadata": {
        "id": "EKdw-TBAdOaw"
      },
      "source": [
        "## **테이블 생성 및 데이터 삽입**"
      ]
    },
    {
      "cell_type": "code",
      "execution_count": 4,
      "metadata": {
        "colab": {
          "base_uri": "https://localhost:8080/"
        },
        "id": "y-wr8Tz-uKUy",
        "outputId": "306efd9e-c16e-4819-886f-42b47be6ae9d"
      },
      "outputs": [
        {
          "name": "stdout",
          "output_type": "stream",
          "text": [
            "Drive already mounted at /content/drive; to attempt to forcibly remount, call drive.mount(\"/content/drive\", force_remount=True).\n"
          ]
        }
      ],
      "source": [
        "from google.colab import drive\n",
        "drive.mount('/content/drive')"
      ]
    },
    {
      "cell_type": "code",
      "execution_count": null,
      "metadata": {
        "id": "LErKuZM3awgZ"
      },
      "outputs": [],
      "source": [
        "#테이블 생성 및 데이터 삽입\n",
        "\n",
        "conn = sqlite3.connect('db/friend.db')\n",
        "\n",
        "# db 쿼리를 조작하기 위한 커서 객체 생성\n",
        "cur = conn.cursor()\n",
        "\n",
        "# 테이블 생성\n",
        "cur.execute(\"\"\"CREATE TABLE IF NOT EXISTS friend_data(\n",
        "  id INTEGER PRIMARY KEY AUTOINCREMENT,\n",
        "  name TEXT,\n",
        "  age INTEGER,\n",
        "  number TEXT,\n",
        "  address TEXT\n",
        "  )\"\"\")\n",
        "\n",
        "cur.executemany('INSERT INTO friend_data (name, age, number, address) VALUES (?, ?, ?, ?)', friend_data)\n",
        "conn.commit()\n",
        "\n",
        "# 마지막엔 무조건 close() 메소드로 db연결을 해제해야 한다.\n",
        "conn.close()"
      ]
    },
    {
      "cell_type": "markdown",
      "metadata": {
        "id": "nc8ON_8AdS9X"
      },
      "source": [
        "## **데이터 조회**"
      ]
    },
    {
      "cell_type": "code",
      "execution_count": null,
      "metadata": {
        "colab": {
          "base_uri": "https://localhost:8080/"
        },
        "id": "PDG7__HcdSeY",
        "outputId": "43c69101-388e-4437-c8a1-d1f504199dfd"
      },
      "outputs": [
        {
          "name": "stdout",
          "output_type": "stream",
          "text": [
            "(1, '김상욱', 22, '010-4545-6767', '서울특별시 종로구 세종대로 종로 1가')\n",
            "(2, '최지훈', 20, '010-7896-1234', '\\u200b전라북도 전주시 덕진구 석소로 77, 101동 101호(인후동1가, 대우아파트)')\n",
            "(3, 'Dr.Bae', 67, '010-8452-5678', '\\u200b전라북도 전주시 덕진구 석소2길 21-1(우아동2가)')\n",
            "(4, '강서혁', 27, '010-1414-6767', '경상남도 의령군 화정면 화정로 41-6')\n",
            "(5, '유민규', 21, '010-6497-6497', '서울특별시 동작구 흑석한강로 2(흑석동)')\n"
          ]
        }
      ],
      "source": [
        "#데이터 조회\n",
        "\n",
        "conn = sqlite3.connect(\"db/friend.db\")\n",
        "\n",
        "cur = conn.cursor()\n",
        "cur.execute(\"SELECT * FROM friend_data\")\n",
        "\n",
        "friends = cur.fetchall()\n",
        "\n",
        "for friend in friends:\n",
        "  print(friend)\n",
        "\n",
        "conn.close()"
      ]
    },
    {
      "cell_type": "markdown",
      "metadata": {
        "id": "85j9Owr8m0Km"
      },
      "source": [
        "## **데이터 수정**"
      ]
    },
    {
      "cell_type": "code",
      "execution_count": null,
      "metadata": {
        "colab": {
          "base_uri": "https://localhost:8080/"
        },
        "id": "ofQrFELOm1-l",
        "outputId": "5c27fa3a-dbd2-4f42-9a81-07d629bc5476"
      },
      "outputs": [
        {
          "name": "stdout",
          "output_type": "stream",
          "text": [
            "(2, '최지훈', 20, '010-1234-5678', '\\u200b전라북도 전주시 덕진구 석소로 77, 101동 101호(인후동1가, 대우아파트)')\n"
          ]
        }
      ],
      "source": [
        "#데이터 수정\n",
        "\n",
        "conn = sqlite3.connect(\"db/friend.db\")\n",
        "\n",
        "cur = conn.cursor()\n",
        "cur.execute(\"UPDATE friend_data SET number=? WHERE name=?\", ('010-1234-5678', '최지훈'))\n",
        "\n",
        "cur.execute(\"SELECT * FROM friend_data WHERE name=?\", ('최지훈', ))\n",
        "friend = cur.fetchone()\n",
        "\n",
        "print(friend)\n",
        "\n",
        "conn.commit()\n",
        "conn.close()"
      ]
    },
    {
      "cell_type": "markdown",
      "metadata": {
        "id": "Lv4R4-e3oEib"
      },
      "source": [
        "## **데이터 삭제**"
      ]
    },
    {
      "cell_type": "code",
      "execution_count": null,
      "metadata": {
        "colab": {
          "base_uri": "https://localhost:8080/"
        },
        "id": "DsPIyjbuoEGD",
        "outputId": "0904d9a8-feb2-47bc-8e44-7eb8e78c49e7"
      },
      "outputs": [
        {
          "name": "stdout",
          "output_type": "stream",
          "text": [
            "(1, '김상욱', 22, '010-4545-6767', '서울특별시 종로구 세종대로 종로 1가')\n",
            "(2, '최지훈', 20, '010-1234-5678', '\\u200b전라북도 전주시 덕진구 석소로 77, 101동 101호(인후동1가, 대우아파트)')\n",
            "(4, '강서혁', 27, '010-1414-6767', '경상남도 의령군 화정면 화정로 41-6')\n",
            "(5, '유민규', 21, '010-6497-6497', '서울특별시 동작구 흑석한강로 2(흑석동)')\n"
          ]
        }
      ],
      "source": [
        "#데이터 수정\n",
        "\n",
        "conn = sqlite3.connect(\"db/friend.db\")\n",
        "\n",
        "cur = conn.cursor()\n",
        "cur.execute(\"DELETE FROM friend_data WHERE name=?\", ('Dr.Bae', ))\n",
        "\n",
        "cur.execute(\"SELECT * FROM friend_data\")\n",
        "friends = cur.fetchall()\n",
        "\n",
        "for friend in friends:\n",
        "  print(friend)\n",
        "\n",
        "conn.commit()\n",
        "conn.close()"
      ]
    },
    {
      "cell_type": "code",
      "execution_count": null,
      "metadata": {
        "colab": {
          "base_uri": "https://localhost:8080/",
          "height": 244
        },
        "id": "QgT4uZjqE7Hy",
        "outputId": "e5281a5a-c550-4731-b88c-82886d17e648"
      },
      "outputs": [
        {
          "data": {
            "application/vnd.google.colaboratory.intrinsic+json": {
              "summary": "{\n  \"name\": \"frame\",\n  \"rows\": 4,\n  \"fields\": [\n    {\n      \"column\": \"id\",\n      \"properties\": {\n        \"dtype\": \"number\",\n        \"std\": 1,\n        \"min\": 1,\n        \"max\": 5,\n        \"num_unique_values\": 4,\n        \"samples\": [\n          2,\n          5,\n          1\n        ],\n        \"semantic_type\": \"\",\n        \"description\": \"\"\n      }\n    },\n    {\n      \"column\": \"name\",\n      \"properties\": {\n        \"dtype\": \"string\",\n        \"num_unique_values\": 4,\n        \"samples\": [\n          \"\\ucd5c\\uc9c0\\ud6c8\",\n          \"\\uc720\\ubbfc\\uaddc\",\n          \"\\uae40\\uc0c1\\uc6b1\"\n        ],\n        \"semantic_type\": \"\",\n        \"description\": \"\"\n      }\n    },\n    {\n      \"column\": \"age\",\n      \"properties\": {\n        \"dtype\": \"number\",\n        \"std\": 3,\n        \"min\": 20,\n        \"max\": 27,\n        \"num_unique_values\": 4,\n        \"samples\": [\n          20,\n          21,\n          22\n        ],\n        \"semantic_type\": \"\",\n        \"description\": \"\"\n      }\n    },\n    {\n      \"column\": \"number\",\n      \"properties\": {\n        \"dtype\": \"string\",\n        \"num_unique_values\": 4,\n        \"samples\": [\n          \"010-1234-5678\",\n          \"010-6497-6497\",\n          \"010-4545-6767\"\n        ],\n        \"semantic_type\": \"\",\n        \"description\": \"\"\n      }\n    },\n    {\n      \"column\": \"address\",\n      \"properties\": {\n        \"dtype\": \"string\",\n        \"num_unique_values\": 4,\n        \"samples\": [\n          \"\\u200b\\uc804\\ub77c\\ubd81\\ub3c4 \\uc804\\uc8fc\\uc2dc \\ub355\\uc9c4\\uad6c \\uc11d\\uc18c\\ub85c 77, 101\\ub3d9 101\\ud638(\\uc778\\ud6c4\\ub3d91\\uac00, \\ub300\\uc6b0\\uc544\\ud30c\\ud2b8)\",\n          \"\\uc11c\\uc6b8\\ud2b9\\ubcc4\\uc2dc \\ub3d9\\uc791\\uad6c \\ud751\\uc11d\\ud55c\\uac15\\ub85c 2(\\ud751\\uc11d\\ub3d9)\",\n          \"\\uc11c\\uc6b8\\ud2b9\\ubcc4\\uc2dc \\uc885\\ub85c\\uad6c \\uc138\\uc885\\ub300\\ub85c \\uc885\\ub85c 1\\uac00\"\n        ],\n        \"semantic_type\": \"\",\n        \"description\": \"\"\n      }\n    }\n  ]\n}",
              "type": "dataframe",
              "variable_name": "frame"
            },
            "text/html": [
              "\n",
              "  <div id=\"df-a139e456-15cb-48a8-8915-1921f34e49ba\" class=\"colab-df-container\">\n",
              "    <div>\n",
              "<style scoped>\n",
              "    .dataframe tbody tr th:only-of-type {\n",
              "        vertical-align: middle;\n",
              "    }\n",
              "\n",
              "    .dataframe tbody tr th {\n",
              "        vertical-align: top;\n",
              "    }\n",
              "\n",
              "    .dataframe thead th {\n",
              "        text-align: right;\n",
              "    }\n",
              "</style>\n",
              "<table border=\"1\" class=\"dataframe\">\n",
              "  <thead>\n",
              "    <tr style=\"text-align: right;\">\n",
              "      <th></th>\n",
              "      <th>id</th>\n",
              "      <th>name</th>\n",
              "      <th>age</th>\n",
              "      <th>number</th>\n",
              "      <th>address</th>\n",
              "    </tr>\n",
              "  </thead>\n",
              "  <tbody>\n",
              "    <tr>\n",
              "      <th>0</th>\n",
              "      <td>1</td>\n",
              "      <td>김상욱</td>\n",
              "      <td>22</td>\n",
              "      <td>010-4545-6767</td>\n",
              "      <td>서울특별시 종로구 세종대로 종로 1가</td>\n",
              "    </tr>\n",
              "    <tr>\n",
              "      <th>1</th>\n",
              "      <td>2</td>\n",
              "      <td>최지훈</td>\n",
              "      <td>20</td>\n",
              "      <td>010-1234-5678</td>\n",
              "      <td>​전라북도 전주시 덕진구 석소로 77, 101동 101호(인후동1가, 대우아파트)</td>\n",
              "    </tr>\n",
              "    <tr>\n",
              "      <th>2</th>\n",
              "      <td>4</td>\n",
              "      <td>강서혁</td>\n",
              "      <td>27</td>\n",
              "      <td>010-1414-6767</td>\n",
              "      <td>경상남도 의령군 화정면 화정로 41-6</td>\n",
              "    </tr>\n",
              "    <tr>\n",
              "      <th>3</th>\n",
              "      <td>5</td>\n",
              "      <td>유민규</td>\n",
              "      <td>21</td>\n",
              "      <td>010-6497-6497</td>\n",
              "      <td>서울특별시 동작구 흑석한강로 2(흑석동)</td>\n",
              "    </tr>\n",
              "  </tbody>\n",
              "</table>\n",
              "</div>\n",
              "    <div class=\"colab-df-buttons\">\n",
              "\n",
              "  <div class=\"colab-df-container\">\n",
              "    <button class=\"colab-df-convert\" onclick=\"convertToInteractive('df-a139e456-15cb-48a8-8915-1921f34e49ba')\"\n",
              "            title=\"Convert this dataframe to an interactive table.\"\n",
              "            style=\"display:none;\">\n",
              "\n",
              "  <svg xmlns=\"http://www.w3.org/2000/svg\" height=\"24px\" viewBox=\"0 -960 960 960\">\n",
              "    <path d=\"M120-120v-720h720v720H120Zm60-500h600v-160H180v160Zm220 220h160v-160H400v160Zm0 220h160v-160H400v160ZM180-400h160v-160H180v160Zm440 0h160v-160H620v160ZM180-180h160v-160H180v160Zm440 0h160v-160H620v160Z\"/>\n",
              "  </svg>\n",
              "    </button>\n",
              "\n",
              "  <style>\n",
              "    .colab-df-container {\n",
              "      display:flex;\n",
              "      gap: 12px;\n",
              "    }\n",
              "\n",
              "    .colab-df-convert {\n",
              "      background-color: #E8F0FE;\n",
              "      border: none;\n",
              "      border-radius: 50%;\n",
              "      cursor: pointer;\n",
              "      display: none;\n",
              "      fill: #1967D2;\n",
              "      height: 32px;\n",
              "      padding: 0 0 0 0;\n",
              "      width: 32px;\n",
              "    }\n",
              "\n",
              "    .colab-df-convert:hover {\n",
              "      background-color: #E2EBFA;\n",
              "      box-shadow: 0px 1px 2px rgba(60, 64, 67, 0.3), 0px 1px 3px 1px rgba(60, 64, 67, 0.15);\n",
              "      fill: #174EA6;\n",
              "    }\n",
              "\n",
              "    .colab-df-buttons div {\n",
              "      margin-bottom: 4px;\n",
              "    }\n",
              "\n",
              "    [theme=dark] .colab-df-convert {\n",
              "      background-color: #3B4455;\n",
              "      fill: #D2E3FC;\n",
              "    }\n",
              "\n",
              "    [theme=dark] .colab-df-convert:hover {\n",
              "      background-color: #434B5C;\n",
              "      box-shadow: 0px 1px 3px 1px rgba(0, 0, 0, 0.15);\n",
              "      filter: drop-shadow(0px 1px 2px rgba(0, 0, 0, 0.3));\n",
              "      fill: #FFFFFF;\n",
              "    }\n",
              "  </style>\n",
              "\n",
              "    <script>\n",
              "      const buttonEl =\n",
              "        document.querySelector('#df-a139e456-15cb-48a8-8915-1921f34e49ba button.colab-df-convert');\n",
              "      buttonEl.style.display =\n",
              "        google.colab.kernel.accessAllowed ? 'block' : 'none';\n",
              "\n",
              "      async function convertToInteractive(key) {\n",
              "        const element = document.querySelector('#df-a139e456-15cb-48a8-8915-1921f34e49ba');\n",
              "        const dataTable =\n",
              "          await google.colab.kernel.invokeFunction('convertToInteractive',\n",
              "                                                    [key], {});\n",
              "        if (!dataTable) return;\n",
              "\n",
              "        const docLinkHtml = 'Like what you see? Visit the ' +\n",
              "          '<a target=\"_blank\" href=https://colab.research.google.com/notebooks/data_table.ipynb>data table notebook</a>'\n",
              "          + ' to learn more about interactive tables.';\n",
              "        element.innerHTML = '';\n",
              "        dataTable['output_type'] = 'display_data';\n",
              "        await google.colab.output.renderOutput(dataTable, element);\n",
              "        const docLink = document.createElement('div');\n",
              "        docLink.innerHTML = docLinkHtml;\n",
              "        element.appendChild(docLink);\n",
              "      }\n",
              "    </script>\n",
              "  </div>\n",
              "\n",
              "\n",
              "    <div id=\"df-f1a84af0-c44f-4fe9-b3b4-5124d0e4e631\">\n",
              "      <button class=\"colab-df-quickchart\" onclick=\"quickchart('df-f1a84af0-c44f-4fe9-b3b4-5124d0e4e631')\"\n",
              "                title=\"Suggest charts\"\n",
              "                style=\"display:none;\">\n",
              "\n",
              "<svg xmlns=\"http://www.w3.org/2000/svg\" height=\"24px\"viewBox=\"0 0 24 24\"\n",
              "     width=\"24px\">\n",
              "    <g>\n",
              "        <path d=\"M19 3H5c-1.1 0-2 .9-2 2v14c0 1.1.9 2 2 2h14c1.1 0 2-.9 2-2V5c0-1.1-.9-2-2-2zM9 17H7v-7h2v7zm4 0h-2V7h2v10zm4 0h-2v-4h2v4z\"/>\n",
              "    </g>\n",
              "</svg>\n",
              "      </button>\n",
              "\n",
              "<style>\n",
              "  .colab-df-quickchart {\n",
              "      --bg-color: #E8F0FE;\n",
              "      --fill-color: #1967D2;\n",
              "      --hover-bg-color: #E2EBFA;\n",
              "      --hover-fill-color: #174EA6;\n",
              "      --disabled-fill-color: #AAA;\n",
              "      --disabled-bg-color: #DDD;\n",
              "  }\n",
              "\n",
              "  [theme=dark] .colab-df-quickchart {\n",
              "      --bg-color: #3B4455;\n",
              "      --fill-color: #D2E3FC;\n",
              "      --hover-bg-color: #434B5C;\n",
              "      --hover-fill-color: #FFFFFF;\n",
              "      --disabled-bg-color: #3B4455;\n",
              "      --disabled-fill-color: #666;\n",
              "  }\n",
              "\n",
              "  .colab-df-quickchart {\n",
              "    background-color: var(--bg-color);\n",
              "    border: none;\n",
              "    border-radius: 50%;\n",
              "    cursor: pointer;\n",
              "    display: none;\n",
              "    fill: var(--fill-color);\n",
              "    height: 32px;\n",
              "    padding: 0;\n",
              "    width: 32px;\n",
              "  }\n",
              "\n",
              "  .colab-df-quickchart:hover {\n",
              "    background-color: var(--hover-bg-color);\n",
              "    box-shadow: 0 1px 2px rgba(60, 64, 67, 0.3), 0 1px 3px 1px rgba(60, 64, 67, 0.15);\n",
              "    fill: var(--button-hover-fill-color);\n",
              "  }\n",
              "\n",
              "  .colab-df-quickchart-complete:disabled,\n",
              "  .colab-df-quickchart-complete:disabled:hover {\n",
              "    background-color: var(--disabled-bg-color);\n",
              "    fill: var(--disabled-fill-color);\n",
              "    box-shadow: none;\n",
              "  }\n",
              "\n",
              "  .colab-df-spinner {\n",
              "    border: 2px solid var(--fill-color);\n",
              "    border-color: transparent;\n",
              "    border-bottom-color: var(--fill-color);\n",
              "    animation:\n",
              "      spin 1s steps(1) infinite;\n",
              "  }\n",
              "\n",
              "  @keyframes spin {\n",
              "    0% {\n",
              "      border-color: transparent;\n",
              "      border-bottom-color: var(--fill-color);\n",
              "      border-left-color: var(--fill-color);\n",
              "    }\n",
              "    20% {\n",
              "      border-color: transparent;\n",
              "      border-left-color: var(--fill-color);\n",
              "      border-top-color: var(--fill-color);\n",
              "    }\n",
              "    30% {\n",
              "      border-color: transparent;\n",
              "      border-left-color: var(--fill-color);\n",
              "      border-top-color: var(--fill-color);\n",
              "      border-right-color: var(--fill-color);\n",
              "    }\n",
              "    40% {\n",
              "      border-color: transparent;\n",
              "      border-right-color: var(--fill-color);\n",
              "      border-top-color: var(--fill-color);\n",
              "    }\n",
              "    60% {\n",
              "      border-color: transparent;\n",
              "      border-right-color: var(--fill-color);\n",
              "    }\n",
              "    80% {\n",
              "      border-color: transparent;\n",
              "      border-right-color: var(--fill-color);\n",
              "      border-bottom-color: var(--fill-color);\n",
              "    }\n",
              "    90% {\n",
              "      border-color: transparent;\n",
              "      border-bottom-color: var(--fill-color);\n",
              "    }\n",
              "  }\n",
              "</style>\n",
              "\n",
              "      <script>\n",
              "        async function quickchart(key) {\n",
              "          const quickchartButtonEl =\n",
              "            document.querySelector('#' + key + ' button');\n",
              "          quickchartButtonEl.disabled = true;  // To prevent multiple clicks.\n",
              "          quickchartButtonEl.classList.add('colab-df-spinner');\n",
              "          try {\n",
              "            const charts = await google.colab.kernel.invokeFunction(\n",
              "                'suggestCharts', [key], {});\n",
              "          } catch (error) {\n",
              "            console.error('Error during call to suggestCharts:', error);\n",
              "          }\n",
              "          quickchartButtonEl.classList.remove('colab-df-spinner');\n",
              "          quickchartButtonEl.classList.add('colab-df-quickchart-complete');\n",
              "        }\n",
              "        (() => {\n",
              "          let quickchartButtonEl =\n",
              "            document.querySelector('#df-f1a84af0-c44f-4fe9-b3b4-5124d0e4e631 button');\n",
              "          quickchartButtonEl.style.display =\n",
              "            google.colab.kernel.accessAllowed ? 'block' : 'none';\n",
              "        })();\n",
              "      </script>\n",
              "    </div>\n",
              "\n",
              "  <div id=\"id_fd87b1f8-b07a-4ced-bce0-8efcb1dd856c\">\n",
              "    <style>\n",
              "      .colab-df-generate {\n",
              "        background-color: #E8F0FE;\n",
              "        border: none;\n",
              "        border-radius: 50%;\n",
              "        cursor: pointer;\n",
              "        display: none;\n",
              "        fill: #1967D2;\n",
              "        height: 32px;\n",
              "        padding: 0 0 0 0;\n",
              "        width: 32px;\n",
              "      }\n",
              "\n",
              "      .colab-df-generate:hover {\n",
              "        background-color: #E2EBFA;\n",
              "        box-shadow: 0px 1px 2px rgba(60, 64, 67, 0.3), 0px 1px 3px 1px rgba(60, 64, 67, 0.15);\n",
              "        fill: #174EA6;\n",
              "      }\n",
              "\n",
              "      [theme=dark] .colab-df-generate {\n",
              "        background-color: #3B4455;\n",
              "        fill: #D2E3FC;\n",
              "      }\n",
              "\n",
              "      [theme=dark] .colab-df-generate:hover {\n",
              "        background-color: #434B5C;\n",
              "        box-shadow: 0px 1px 3px 1px rgba(0, 0, 0, 0.15);\n",
              "        filter: drop-shadow(0px 1px 2px rgba(0, 0, 0, 0.3));\n",
              "        fill: #FFFFFF;\n",
              "      }\n",
              "    </style>\n",
              "    <button class=\"colab-df-generate\" onclick=\"generateWithVariable('frame')\"\n",
              "            title=\"Generate code using this dataframe.\"\n",
              "            style=\"display:none;\">\n",
              "\n",
              "  <svg xmlns=\"http://www.w3.org/2000/svg\" height=\"24px\"viewBox=\"0 0 24 24\"\n",
              "       width=\"24px\">\n",
              "    <path d=\"M7,19H8.4L18.45,9,17,7.55,7,17.6ZM5,21V16.75L18.45,3.32a2,2,0,0,1,2.83,0l1.4,1.43a1.91,1.91,0,0,1,.58,1.4,1.91,1.91,0,0,1-.58,1.4L9.25,21ZM18.45,9,17,7.55Zm-12,3A5.31,5.31,0,0,0,4.9,8.1,5.31,5.31,0,0,0,1,6.5,5.31,5.31,0,0,0,4.9,4.9,5.31,5.31,0,0,0,6.5,1,5.31,5.31,0,0,0,8.1,4.9,5.31,5.31,0,0,0,12,6.5,5.46,5.46,0,0,0,6.5,12Z\"/>\n",
              "  </svg>\n",
              "    </button>\n",
              "    <script>\n",
              "      (() => {\n",
              "      const buttonEl =\n",
              "        document.querySelector('#id_fd87b1f8-b07a-4ced-bce0-8efcb1dd856c button.colab-df-generate');\n",
              "      buttonEl.style.display =\n",
              "        google.colab.kernel.accessAllowed ? 'block' : 'none';\n",
              "\n",
              "      buttonEl.onclick = () => {\n",
              "        google.colab.notebook.generateWithVariable('frame');\n",
              "      }\n",
              "      })();\n",
              "    </script>\n",
              "  </div>\n",
              "\n",
              "    </div>\n",
              "  </div>\n"
            ],
            "text/plain": [
              "   id name  age         number                                        address\n",
              "0   1  김상욱   22  010-4545-6767                           서울특별시 종로구 세종대로 종로 1가\n",
              "1   2  최지훈   20  010-1234-5678  ​전라북도 전주시 덕진구 석소로 77, 101동 101호(인후동1가, 대우아파트)\n",
              "2   4  강서혁   27  010-1414-6767                          경상남도 의령군 화정면 화정로 41-6\n",
              "3   5  유민규   21  010-6497-6497                         서울특별시 동작구 흑석한강로 2(흑석동)"
            ]
          },
          "execution_count": 9,
          "metadata": {},
          "output_type": "execute_result"
        }
      ],
      "source": [
        "import pandas as pd\n",
        "\n",
        "conn = sqlite3.connect('db/friend.db')\n",
        "cur = conn.cursor()\n",
        "\n",
        "cur.execute(\"SELECT * FROM friend_data\")\n",
        "\n",
        "friends = cur.fetchall()\n",
        "\n",
        "# 테이블 컬럼명 가져오기\n",
        "column_name = [column[0] for column in cur.description]\n",
        "\n",
        "frame = pd.DataFrame.from_records(data=friends, columns=column_name)\n",
        "\n",
        "conn.close()\n",
        "\n",
        "frame"
      ]
    }
  ],
  "metadata": {
    "colab": {
      "provenance": []
    },
    "kernelspec": {
      "display_name": "Python 3",
      "name": "python3"
    },
    "language_info": {
      "name": "python"
    }
  },
  "nbformat": 4,
  "nbformat_minor": 0
}
