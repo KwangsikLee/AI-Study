{
  "nbformat": 4,
  "nbformat_minor": 0,
  "metadata": {
    "colab": {
      "provenance": [],
      "machine_shape": "hm",
      "gpuType": "V6E1"
    },
    "kernelspec": {
      "name": "python3",
      "display_name": "Python 3"
    },
    "language_info": {
      "name": "python"
    },
    "accelerator": "TPU"
  },
  "cells": [
    {
      "cell_type": "code",
      "execution_count": 1,
      "metadata": {
        "colab": {
          "base_uri": "https://localhost:8080/",
          "height": 1000
        },
        "id": "FN_4Mb1laaMX",
        "outputId": "e1d483c0-5fc2-4483-d511-1a64cb8a183c"
      },
      "outputs": [
        {
          "output_type": "stream",
          "name": "stdout",
          "text": [
            "사용 중인 디바이스: cpu\n"
          ]
        },
        {
          "output_type": "stream",
          "name": "stderr",
          "text": [
            "100%|██████████| 170M/170M [00:06<00:00, 25.4MB/s]\n"
          ]
        },
        {
          "output_type": "stream",
          "name": "stdout",
          "text": [
            "디퓨전 모델 훈련 시작...\n",
            "Epoch 0, Batch 0, Loss: 1.2647\n",
            "Epoch 0, Batch 100, Loss: 0.1993\n",
            "Epoch 0, Batch 200, Loss: 0.1498\n",
            "Epoch 0, Batch 300, Loss: 0.1144\n",
            "Epoch 0, Batch 400, Loss: 0.0810\n",
            "Epoch 0, Batch 500, Loss: 0.0831\n",
            "Epoch 0, Batch 600, Loss: 0.0781\n",
            "Epoch 0, Batch 700, Loss: 0.0550\n",
            "Epoch 0 완료, 평균 손실: 0.1335\n",
            "샘플 이미지 생성 중...\n"
          ]
        },
        {
          "output_type": "stream",
          "name": "stderr",
          "text": [
            "샘플링 진행중: 1000it [00:11, 86.16it/s]\n",
            "/tmp/ipython-input-4137142644.py:300: UserWarning: Glyph 49368 (\\N{HANGUL SYLLABLE SAEM}) missing from font(s) DejaVu Sans.\n",
            "  plt.tight_layout()\n",
            "/tmp/ipython-input-4137142644.py:300: UserWarning: Glyph 54540 (\\N{HANGUL SYLLABLE PEUL}) missing from font(s) DejaVu Sans.\n",
            "  plt.tight_layout()\n",
            "/usr/local/lib/python3.12/dist-packages/IPython/core/pylabtools.py:151: UserWarning: Glyph 49368 (\\N{HANGUL SYLLABLE SAEM}) missing from font(s) DejaVu Sans.\n",
            "  fig.canvas.print_figure(bytes_io, **kw)\n",
            "/usr/local/lib/python3.12/dist-packages/IPython/core/pylabtools.py:151: UserWarning: Glyph 54540 (\\N{HANGUL SYLLABLE PEUL}) missing from font(s) DejaVu Sans.\n",
            "  fig.canvas.print_figure(bytes_io, **kw)\n"
          ]
        },
        {
          "output_type": "display_data",
          "data": {
            "text/plain": [
              "<Figure size 1000x200 with 5 Axes>"
            ],
            "image/png": "[encoded data removed]"
          },
          "metadata": {}
        },
        {
          "output_type": "stream",
          "name": "stdout",
          "text": [
            "Epoch 1, Batch 0, Loss: 0.1082\n",
            "Epoch 1, Batch 100, Loss: 0.0977\n",
            "Epoch 1, Batch 200, Loss: 0.0790\n",
            "Epoch 1, Batch 300, Loss: 0.0615\n",
            "Epoch 1, Batch 400, Loss: 0.0589\n",
            "Epoch 1, Batch 500, Loss: 0.0948\n",
            "Epoch 1, Batch 600, Loss: 0.0878\n",
            "Epoch 1, Batch 700, Loss: 0.0664\n",
            "Epoch 1 완료, 평균 손실: 0.0810\n",
            "Epoch 2, Batch 0, Loss: 0.0731\n",
            "Epoch 2, Batch 100, Loss: 0.0714\n",
            "Epoch 2, Batch 200, Loss: 0.0952\n",
            "Epoch 2, Batch 300, Loss: 0.0843\n",
            "Epoch 2, Batch 400, Loss: 0.0989\n",
            "Epoch 2, Batch 500, Loss: 0.0824\n",
            "Epoch 2, Batch 600, Loss: 0.0888\n",
            "Epoch 2, Batch 700, Loss: 0.0850\n",
            "Epoch 2 완료, 평균 손실: 0.0761\n",
            "Epoch 3, Batch 0, Loss: 0.0996\n",
            "Epoch 3, Batch 100, Loss: 0.0748\n",
            "Epoch 3, Batch 200, Loss: 0.0622\n",
            "Epoch 3, Batch 300, Loss: 0.0596\n",
            "Epoch 3, Batch 400, Loss: 0.0734\n",
            "Epoch 3, Batch 500, Loss: 0.0705\n",
            "Epoch 3, Batch 600, Loss: 0.0868\n",
            "Epoch 3, Batch 700, Loss: 0.0667\n",
            "Epoch 3 완료, 평균 손실: 0.0722\n",
            "Epoch 4, Batch 0, Loss: 0.0681\n",
            "Epoch 4, Batch 100, Loss: 0.0561\n",
            "Epoch 4, Batch 200, Loss: 0.0818\n",
            "Epoch 4, Batch 300, Loss: 0.0723\n",
            "Epoch 4, Batch 400, Loss: 0.0589\n",
            "Epoch 4, Batch 500, Loss: 0.0705\n",
            "Epoch 4, Batch 600, Loss: 0.0575\n",
            "Epoch 4, Batch 700, Loss: 0.0851\n",
            "Epoch 4 완료, 평균 손실: 0.0702\n",
            "Epoch 5, Batch 0, Loss: 0.0707\n",
            "Epoch 5, Batch 100, Loss: 0.0656\n",
            "Epoch 5, Batch 200, Loss: 0.0887\n",
            "Epoch 5, Batch 300, Loss: 0.0637\n",
            "Epoch 5, Batch 400, Loss: 0.0670\n",
            "Epoch 5, Batch 500, Loss: 0.0909\n",
            "Epoch 5, Batch 600, Loss: 0.0588\n",
            "Epoch 5, Batch 700, Loss: 0.0548\n",
            "Epoch 5 완료, 평균 손실: 0.0692\n",
            "샘플 이미지 생성 중...\n"
          ]
        },
        {
          "output_type": "stream",
          "name": "stderr",
          "text": [
            "샘플링 진행중: 1000it [00:11, 84.92it/s]\n"
          ]
        },
        {
          "output_type": "display_data",
          "data": {
            "text/plain": [
              "<Figure size 1000x200 with 5 Axes>"
            ],
            "image/png": "[encoded data removed]"
          },
          "metadata": {}
        },
        {
          "output_type": "stream",
          "name": "stdout",
          "text": [
            "Epoch 6, Batch 0, Loss: 0.0694\n",
            "Epoch 6, Batch 100, Loss: 0.0593\n",
            "Epoch 6, Batch 200, Loss: 0.0860\n",
            "Epoch 6, Batch 300, Loss: 0.0936\n",
            "Epoch 6, Batch 400, Loss: 0.0875\n",
            "Epoch 6, Batch 500, Loss: 0.0551\n",
            "Epoch 6, Batch 600, Loss: 0.0654\n",
            "Epoch 6, Batch 700, Loss: 0.0585\n",
            "Epoch 6 완료, 평균 손실: 0.0680\n",
            "Epoch 7, Batch 0, Loss: 0.0706\n",
            "Epoch 7, Batch 100, Loss: 0.0778\n",
            "Epoch 7, Batch 200, Loss: 0.0520\n",
            "Epoch 7, Batch 300, Loss: 0.0681\n",
            "Epoch 7, Batch 400, Loss: 0.0664\n",
            "Epoch 7, Batch 500, Loss: 0.0554\n",
            "Epoch 7, Batch 600, Loss: 0.0755\n",
            "Epoch 7, Batch 700, Loss: 0.0475\n",
            "Epoch 7 완료, 평균 손실: 0.0669\n",
            "Epoch 8, Batch 0, Loss: 0.0674\n",
            "Epoch 8, Batch 100, Loss: 0.0690\n",
            "Epoch 8, Batch 200, Loss: 0.0668\n",
            "Epoch 8, Batch 300, Loss: 0.0545\n",
            "Epoch 8, Batch 400, Loss: 0.0691\n",
            "Epoch 8, Batch 500, Loss: 0.0668\n",
            "Epoch 8, Batch 600, Loss: 0.0687\n",
            "Epoch 8, Batch 700, Loss: 0.0655\n",
            "Epoch 8 완료, 평균 손실: 0.0654\n",
            "Epoch 9, Batch 0, Loss: 0.0584\n",
            "Epoch 9, Batch 100, Loss: 0.0505\n",
            "Epoch 9, Batch 200, Loss: 0.0796\n",
            "Epoch 9, Batch 300, Loss: 0.0599\n",
            "Epoch 9, Batch 400, Loss: 0.0629\n",
            "Epoch 9, Batch 500, Loss: 0.0690\n",
            "Epoch 9, Batch 600, Loss: 0.0557\n",
            "Epoch 9, Batch 700, Loss: 0.0739\n",
            "Epoch 9 완료, 평균 손실: 0.0651\n",
            "Epoch 10, Batch 0, Loss: 0.0632\n",
            "Epoch 10, Batch 100, Loss: 0.0747\n",
            "Epoch 10, Batch 200, Loss: 0.0557\n",
            "Epoch 10, Batch 300, Loss: 0.0591\n",
            "Epoch 10, Batch 400, Loss: 0.0561\n",
            "Epoch 10, Batch 500, Loss: 0.0749\n",
            "Epoch 10, Batch 600, Loss: 0.0571\n",
            "Epoch 10, Batch 700, Loss: 0.0760\n",
            "Epoch 10 완료, 평균 손실: 0.0646\n",
            "샘플 이미지 생성 중...\n"
          ]
        },
        {
          "output_type": "stream",
          "name": "stderr",
          "text": [
            "샘플링 진행중: 1000it [00:11, 85.91it/s]\n"
          ]
        },
        {
          "output_type": "display_data",
          "data": {
            "text/plain": [
              "<Figure size 1000x200 with 5 Axes>"
            ],
            "image/png": "[encoded data removed]"
          },
          "metadata": {}
        },
        {
          "output_type": "stream",
          "name": "stdout",
          "text": [
            "Epoch 11, Batch 0, Loss: 0.0504\n",
            "Epoch 11, Batch 100, Loss: 0.0588\n",
            "Epoch 11, Batch 200, Loss: 0.0529\n",
            "Epoch 11, Batch 300, Loss: 0.0658\n",
            "Epoch 11, Batch 400, Loss: 0.0708\n",
            "Epoch 11, Batch 500, Loss: 0.0663\n",
            "Epoch 11, Batch 600, Loss: 0.0544\n",
            "Epoch 11, Batch 700, Loss: 0.0472\n",
            "Epoch 11 완료, 평균 손실: 0.0641\n",
            "Epoch 12, Batch 0, Loss: 0.0550\n",
            "Epoch 12, Batch 100, Loss: 0.0554\n",
            "Epoch 12, Batch 200, Loss: 0.0672\n",
            "Epoch 12, Batch 300, Loss: 0.0518\n",
            "Epoch 12, Batch 400, Loss: 0.0581\n",
            "Epoch 12, Batch 500, Loss: 0.0654\n",
            "Epoch 12, Batch 600, Loss: 0.0528\n",
            "Epoch 12, Batch 700, Loss: 0.0511\n",
            "Epoch 12 완료, 평균 손실: 0.0634\n",
            "Epoch 13, Batch 0, Loss: 0.0532\n",
            "Epoch 13, Batch 100, Loss: 0.0490\n",
            "Epoch 13, Batch 200, Loss: 0.0788\n",
            "Epoch 13, Batch 300, Loss: 0.0857\n",
            "Epoch 13, Batch 400, Loss: 0.0675\n",
            "Epoch 13, Batch 500, Loss: 0.0772\n",
            "Epoch 13, Batch 600, Loss: 0.0567\n",
            "Epoch 13, Batch 700, Loss: 0.0638\n",
            "Epoch 13 완료, 평균 손실: 0.0630\n",
            "Epoch 14, Batch 0, Loss: 0.0867\n",
            "Epoch 14, Batch 100, Loss: 0.0568\n",
            "Epoch 14, Batch 200, Loss: 0.0734\n",
            "Epoch 14, Batch 300, Loss: 0.0573\n",
            "Epoch 14, Batch 400, Loss: 0.0487\n",
            "Epoch 14, Batch 500, Loss: 0.0695\n",
            "Epoch 14, Batch 600, Loss: 0.0774\n",
            "Epoch 14, Batch 700, Loss: 0.0445\n",
            "Epoch 14 완료, 평균 손실: 0.0628\n",
            "Epoch 15, Batch 0, Loss: 0.0531\n",
            "Epoch 15, Batch 100, Loss: 0.0683\n",
            "Epoch 15, Batch 200, Loss: 0.0650\n",
            "Epoch 15, Batch 300, Loss: 0.0644\n",
            "Epoch 15, Batch 400, Loss: 0.0725\n",
            "Epoch 15, Batch 500, Loss: 0.0413\n",
            "Epoch 15, Batch 600, Loss: 0.0632\n",
            "Epoch 15, Batch 700, Loss: 0.0630\n",
            "Epoch 15 완료, 평균 손실: 0.0623\n",
            "샘플 이미지 생성 중...\n"
          ]
        },
        {
          "output_type": "stream",
          "name": "stderr",
          "text": [
            "샘플링 진행중: 1000it [00:11, 89.76it/s]\n"
          ]
        },
        {
          "output_type": "display_data",
          "data": {
            "text/plain": [
              "<Figure size 1000x200 with 5 Axes>"
            ],
            "image/png": "[encoded data removed]"
          },
          "metadata": {}
        },
        {
          "output_type": "stream",
          "name": "stdout",
          "text": [
            "Epoch 16, Batch 0, Loss: 0.0532\n",
            "Epoch 16, Batch 100, Loss: 0.0698\n",
            "Epoch 16, Batch 200, Loss: 0.0559\n",
            "Epoch 16, Batch 300, Loss: 0.0743\n",
            "Epoch 16, Batch 400, Loss: 0.0473\n",
            "Epoch 16, Batch 500, Loss: 0.0554\n",
            "Epoch 16, Batch 600, Loss: 0.0683\n",
            "Epoch 16, Batch 700, Loss: 0.0733\n",
            "Epoch 16 완료, 평균 손실: 0.0619\n",
            "Epoch 17, Batch 0, Loss: 0.0850\n",
            "Epoch 17, Batch 100, Loss: 0.0594\n",
            "Epoch 17, Batch 200, Loss: 0.0389\n",
            "Epoch 17, Batch 300, Loss: 0.0468\n",
            "Epoch 17, Batch 400, Loss: 0.0674\n",
            "Epoch 17, Batch 500, Loss: 0.0637\n",
            "Epoch 17, Batch 600, Loss: 0.0725\n",
            "Epoch 17, Batch 700, Loss: 0.0767\n",
            "Epoch 17 완료, 평균 손실: 0.0616\n",
            "Epoch 18, Batch 0, Loss: 0.0633\n",
            "Epoch 18, Batch 100, Loss: 0.0749\n",
            "Epoch 18, Batch 200, Loss: 0.0721\n",
            "Epoch 18, Batch 300, Loss: 0.0657\n",
            "Epoch 18, Batch 400, Loss: 0.0435\n",
            "Epoch 18, Batch 500, Loss: 0.0520\n",
            "Epoch 18, Batch 600, Loss: 0.0683\n",
            "Epoch 18, Batch 700, Loss: 0.0662\n",
            "Epoch 18 완료, 평균 손실: 0.0615\n",
            "Epoch 19, Batch 0, Loss: 0.0741\n",
            "Epoch 19, Batch 100, Loss: 0.0751\n",
            "Epoch 19, Batch 200, Loss: 0.0735\n",
            "Epoch 19, Batch 300, Loss: 0.0502\n",
            "Epoch 19, Batch 400, Loss: 0.0721\n",
            "Epoch 19, Batch 500, Loss: 0.0569\n",
            "Epoch 19, Batch 600, Loss: 0.0660\n",
            "Epoch 19, Batch 700, Loss: 0.0690\n",
            "Epoch 19 완료, 평균 손실: 0.0613\n",
            "Epoch 20, Batch 0, Loss: 0.0443\n",
            "Epoch 20, Batch 100, Loss: 0.0667\n",
            "Epoch 20, Batch 200, Loss: 0.0514\n",
            "Epoch 20, Batch 300, Loss: 0.0646\n",
            "Epoch 20, Batch 400, Loss: 0.0535\n",
            "Epoch 20, Batch 500, Loss: 0.0505\n",
            "Epoch 20, Batch 600, Loss: 0.0791\n",
            "Epoch 20, Batch 700, Loss: 0.0623\n",
            "Epoch 20 완료, 평균 손실: 0.0610\n",
            "샘플 이미지 생성 중...\n"
          ]
        },
        {
          "output_type": "stream",
          "name": "stderr",
          "text": [
            "샘플링 진행중: 1000it [00:12, 78.61it/s]\n"
          ]
        },
        {
          "output_type": "display_data",
          "data": {
            "text/plain": [
              "<Figure size 1000x200 with 5 Axes>"
            ],
            "image/png": "[encoded data removed]"
          },
          "metadata": {}
        },
        {
          "output_type": "stream",
          "name": "stdout",
          "text": [
            "Epoch 21, Batch 0, Loss: 0.0552\n",
            "Epoch 21, Batch 100, Loss: 0.0706\n",
            "Epoch 21, Batch 200, Loss: 0.0554\n",
            "Epoch 21, Batch 300, Loss: 0.0777\n",
            "Epoch 21, Batch 400, Loss: 0.0645\n",
            "Epoch 21, Batch 500, Loss: 0.0733\n",
            "Epoch 21, Batch 600, Loss: 0.0726\n",
            "Epoch 21, Batch 700, Loss: 0.0738\n",
            "Epoch 21 완료, 평균 손실: 0.0616\n",
            "Epoch 22, Batch 0, Loss: 0.0406\n",
            "Epoch 22, Batch 100, Loss: 0.0576\n",
            "Epoch 22, Batch 200, Loss: 0.0562\n",
            "Epoch 22, Batch 300, Loss: 0.0691\n",
            "Epoch 22, Batch 400, Loss: 0.0783\n",
            "Epoch 22, Batch 500, Loss: 0.0674\n",
            "Epoch 22, Batch 600, Loss: 0.0501\n",
            "Epoch 22, Batch 700, Loss: 0.0513\n",
            "Epoch 22 완료, 평균 손실: 0.0612\n",
            "Epoch 23, Batch 0, Loss: 0.0698\n",
            "Epoch 23, Batch 100, Loss: 0.0628\n",
            "Epoch 23, Batch 200, Loss: 0.0597\n",
            "Epoch 23, Batch 300, Loss: 0.0444\n",
            "Epoch 23, Batch 400, Loss: 0.0749\n",
            "Epoch 23, Batch 500, Loss: 0.0528\n",
            "Epoch 23, Batch 600, Loss: 0.0662\n",
            "Epoch 23, Batch 700, Loss: 0.0522\n",
            "Epoch 23 완료, 평균 손실: 0.0607\n",
            "Epoch 24, Batch 0, Loss: 0.0714\n",
            "Epoch 24, Batch 100, Loss: 0.0834\n",
            "Epoch 24, Batch 200, Loss: 0.0664\n",
            "Epoch 24, Batch 300, Loss: 0.0685\n",
            "Epoch 24, Batch 400, Loss: 0.0773\n",
            "Epoch 24, Batch 500, Loss: 0.0613\n",
            "Epoch 24, Batch 600, Loss: 0.0600\n",
            "Epoch 24, Batch 700, Loss: 0.0682\n",
            "Epoch 24 완료, 평균 손실: 0.0611\n",
            "Epoch 25, Batch 0, Loss: 0.0752\n",
            "Epoch 25, Batch 100, Loss: 0.0441\n",
            "Epoch 25, Batch 200, Loss: 0.0650\n",
            "Epoch 25, Batch 300, Loss: 0.0649\n",
            "Epoch 25, Batch 400, Loss: 0.0753\n",
            "Epoch 25, Batch 500, Loss: 0.0560\n",
            "Epoch 25, Batch 600, Loss: 0.0406\n",
            "Epoch 25, Batch 700, Loss: 0.0504\n",
            "Epoch 25 완료, 평균 손실: 0.0611\n",
            "샘플 이미지 생성 중...\n"
          ]
        },
        {
          "output_type": "stream",
          "name": "stderr",
          "text": [
            "샘플링 진행중: 1000it [00:11, 84.51it/s]\n"
          ]
        },
        {
          "output_type": "display_data",
          "data": {
            "text/plain": [
              "<Figure size 1000x200 with 5 Axes>"
            ],
            "image/png": "[encoded data removed]"
          },
          "metadata": {}
        },
        {
          "output_type": "stream",
          "name": "stdout",
          "text": [
            "Epoch 26, Batch 0, Loss: 0.0682\n",
            "Epoch 26, Batch 100, Loss: 0.0610\n",
            "Epoch 26, Batch 200, Loss: 0.0603\n",
            "Epoch 26, Batch 300, Loss: 0.0603\n",
            "Epoch 26, Batch 400, Loss: 0.0767\n",
            "Epoch 26, Batch 500, Loss: 0.0520\n",
            "Epoch 26, Batch 600, Loss: 0.0423\n",
            "Epoch 26, Batch 700, Loss: 0.0589\n",
            "Epoch 26 완료, 평균 손실: 0.0603\n",
            "Epoch 27, Batch 0, Loss: 0.0657\n",
            "Epoch 27, Batch 100, Loss: 0.0611\n",
            "Epoch 27, Batch 200, Loss: 0.0521\n",
            "Epoch 27, Batch 300, Loss: 0.0667\n",
            "Epoch 27, Batch 400, Loss: 0.0582\n",
            "Epoch 27, Batch 500, Loss: 0.0698\n",
            "Epoch 27, Batch 600, Loss: 0.0608\n",
            "Epoch 27, Batch 700, Loss: 0.0613\n",
            "Epoch 27 완료, 평균 손실: 0.0607\n",
            "Epoch 28, Batch 0, Loss: 0.0618\n",
            "Epoch 28, Batch 100, Loss: 0.0741\n",
            "Epoch 28, Batch 200, Loss: 0.0542\n",
            "Epoch 28, Batch 300, Loss: 0.0627\n",
            "Epoch 28, Batch 400, Loss: 0.0746\n",
            "Epoch 28, Batch 500, Loss: 0.0651\n",
            "Epoch 28, Batch 600, Loss: 0.0689\n",
            "Epoch 28, Batch 700, Loss: 0.0520\n",
            "Epoch 28 완료, 평균 손실: 0.0602\n",
            "Epoch 29, Batch 0, Loss: 0.0665\n",
            "Epoch 29, Batch 100, Loss: 0.0840\n",
            "Epoch 29, Batch 200, Loss: 0.0569\n",
            "Epoch 29, Batch 300, Loss: 0.0549\n",
            "Epoch 29, Batch 400, Loss: 0.0655\n",
            "Epoch 29, Batch 500, Loss: 0.0609\n",
            "Epoch 29, Batch 600, Loss: 0.0575\n",
            "Epoch 29, Batch 700, Loss: 0.0485\n",
            "Epoch 29 완료, 평균 손실: 0.0604\n",
            "훈련 완료!\n",
            "\n",
            "=== 텍스트에서 이미지 생성 테스트 ===\n",
            "텍스트에서 이미지 생성 중...\n",
            "텍스트: 'airplane' → 클래스: airplane (인덱스: 0)\n"
          ]
        },
        {
          "output_type": "stream",
          "name": "stderr",
          "text": [
            "샘플링 진행중: 1000it [00:09, 108.00it/s]\n"
          ]
        },
        {
          "output_type": "stream",
          "name": "stdout",
          "text": [
            "텍스트: 'car' → 클래스: automobile (인덱스: 1)\n"
          ]
        },
        {
          "output_type": "stream",
          "name": "stderr",
          "text": [
            "샘플링 진행중: 1000it [00:09, 103.89it/s]\n"
          ]
        },
        {
          "output_type": "stream",
          "name": "stdout",
          "text": [
            "텍스트: 'cat' → 클래스: cat (인덱스: 3)\n"
          ]
        },
        {
          "output_type": "stream",
          "name": "stderr",
          "text": [
            "샘플링 진행중: 1000it [00:09, 107.77it/s]\n"
          ]
        },
        {
          "output_type": "stream",
          "name": "stdout",
          "text": [
            "텍스트: 'dog' → 클래스: dog (인덱스: 5)\n"
          ]
        },
        {
          "output_type": "stream",
          "name": "stderr",
          "text": [
            "샘플링 진행중: 1000it [00:08, 112.86it/s]\n"
          ]
        },
        {
          "output_type": "stream",
          "name": "stdout",
          "text": [
            "텍스트: 'bird' → 클래스: bird (인덱스: 2)\n"
          ]
        },
        {
          "output_type": "stream",
          "name": "stderr",
          "text": [
            "샘플링 진행중: 1000it [00:08, 113.26it/s]\n",
            "/tmp/ipython-input-4137142644.py:300: UserWarning: Glyph 53581 (\\N{HANGUL SYLLABLE TEG}) missing from font(s) DejaVu Sans.\n",
            "  plt.tight_layout()\n",
            "/tmp/ipython-input-4137142644.py:300: UserWarning: Glyph 49828 (\\N{HANGUL SYLLABLE SEU}) missing from font(s) DejaVu Sans.\n",
            "  plt.tight_layout()\n",
            "/tmp/ipython-input-4137142644.py:300: UserWarning: Glyph 53944 (\\N{HANGUL SYLLABLE TEU}) missing from font(s) DejaVu Sans.\n",
            "  plt.tight_layout()\n",
            "/tmp/ipython-input-4137142644.py:300: UserWarning: Glyph 50640 (\\N{HANGUL SYLLABLE E}) missing from font(s) DejaVu Sans.\n",
            "  plt.tight_layout()\n",
            "/tmp/ipython-input-4137142644.py:300: UserWarning: Glyph 49436 (\\N{HANGUL SYLLABLE SEO}) missing from font(s) DejaVu Sans.\n",
            "  plt.tight_layout()\n",
            "/tmp/ipython-input-4137142644.py:300: UserWarning: Glyph 49373 (\\N{HANGUL SYLLABLE SAENG}) missing from font(s) DejaVu Sans.\n",
            "  plt.tight_layout()\n",
            "/tmp/ipython-input-4137142644.py:300: UserWarning: Glyph 49457 (\\N{HANGUL SYLLABLE SEONG}) missing from font(s) DejaVu Sans.\n",
            "  plt.tight_layout()\n",
            "/tmp/ipython-input-4137142644.py:300: UserWarning: Glyph 46108 (\\N{HANGUL SYLLABLE DOEN}) missing from font(s) DejaVu Sans.\n",
            "  plt.tight_layout()\n",
            "/tmp/ipython-input-4137142644.py:300: UserWarning: Glyph 51060 (\\N{HANGUL SYLLABLE I}) missing from font(s) DejaVu Sans.\n",
            "  plt.tight_layout()\n",
            "/tmp/ipython-input-4137142644.py:300: UserWarning: Glyph 48120 (\\N{HANGUL SYLLABLE MI}) missing from font(s) DejaVu Sans.\n",
            "  plt.tight_layout()\n",
            "/tmp/ipython-input-4137142644.py:300: UserWarning: Glyph 51648 (\\N{HANGUL SYLLABLE JI}) missing from font(s) DejaVu Sans.\n",
            "  plt.tight_layout()\n",
            "/usr/local/lib/python3.12/dist-packages/IPython/core/pylabtools.py:151: UserWarning: Glyph 53581 (\\N{HANGUL SYLLABLE TEG}) missing from font(s) DejaVu Sans.\n",
            "  fig.canvas.print_figure(bytes_io, **kw)\n",
            "/usr/local/lib/python3.12/dist-packages/IPython/core/pylabtools.py:151: UserWarning: Glyph 49828 (\\N{HANGUL SYLLABLE SEU}) missing from font(s) DejaVu Sans.\n",
            "  fig.canvas.print_figure(bytes_io, **kw)\n",
            "/usr/local/lib/python3.12/dist-packages/IPython/core/pylabtools.py:151: UserWarning: Glyph 53944 (\\N{HANGUL SYLLABLE TEU}) missing from font(s) DejaVu Sans.\n",
            "  fig.canvas.print_figure(bytes_io, **kw)\n",
            "/usr/local/lib/python3.12/dist-packages/IPython/core/pylabtools.py:151: UserWarning: Glyph 50640 (\\N{HANGUL SYLLABLE E}) missing from font(s) DejaVu Sans.\n",
            "  fig.canvas.print_figure(bytes_io, **kw)\n",
            "/usr/local/lib/python3.12/dist-packages/IPython/core/pylabtools.py:151: UserWarning: Glyph 49436 (\\N{HANGUL SYLLABLE SEO}) missing from font(s) DejaVu Sans.\n",
            "  fig.canvas.print_figure(bytes_io, **kw)\n",
            "/usr/local/lib/python3.12/dist-packages/IPython/core/pylabtools.py:151: UserWarning: Glyph 49373 (\\N{HANGUL SYLLABLE SAENG}) missing from font(s) DejaVu Sans.\n",
            "  fig.canvas.print_figure(bytes_io, **kw)\n",
            "/usr/local/lib/python3.12/dist-packages/IPython/core/pylabtools.py:151: UserWarning: Glyph 49457 (\\N{HANGUL SYLLABLE SEONG}) missing from font(s) DejaVu Sans.\n",
            "  fig.canvas.print_figure(bytes_io, **kw)\n",
            "/usr/local/lib/python3.12/dist-packages/IPython/core/pylabtools.py:151: UserWarning: Glyph 46108 (\\N{HANGUL SYLLABLE DOEN}) missing from font(s) DejaVu Sans.\n",
            "  fig.canvas.print_figure(bytes_io, **kw)\n",
            "/usr/local/lib/python3.12/dist-packages/IPython/core/pylabtools.py:151: UserWarning: Glyph 51060 (\\N{HANGUL SYLLABLE I}) missing from font(s) DejaVu Sans.\n",
            "  fig.canvas.print_figure(bytes_io, **kw)\n",
            "/usr/local/lib/python3.12/dist-packages/IPython/core/pylabtools.py:151: UserWarning: Glyph 48120 (\\N{HANGUL SYLLABLE MI}) missing from font(s) DejaVu Sans.\n",
            "  fig.canvas.print_figure(bytes_io, **kw)\n",
            "/usr/local/lib/python3.12/dist-packages/IPython/core/pylabtools.py:151: UserWarning: Glyph 51648 (\\N{HANGUL SYLLABLE JI}) missing from font(s) DejaVu Sans.\n",
            "  fig.canvas.print_figure(bytes_io, **kw)\n"
          ]
        },
        {
          "output_type": "display_data",
          "data": {
            "text/plain": [
              "<Figure size 1000x400 with 10 Axes>"
            ],
            "image/png": "[encoded data removed]"
          },
          "metadata": {}
        },
        {
          "output_type": "stream",
          "name": "stdout",
          "text": [
            "텍스트에서 이미지 생성 중...\n",
            "텍스트: '비행기' → 클래스: airplane (인덱스: 0)\n"
          ]
        },
        {
          "output_type": "stream",
          "name": "stderr",
          "text": [
            "샘플링 진행중: 1000it [00:08, 111.71it/s]\n"
          ]
        },
        {
          "output_type": "stream",
          "name": "stdout",
          "text": [
            "텍스트: '자동차' → 클래스: automobile (인덱스: 1)\n"
          ]
        },
        {
          "output_type": "stream",
          "name": "stderr",
          "text": [
            "샘플링 진행중: 1000it [00:08, 111.55it/s]\n"
          ]
        },
        {
          "output_type": "stream",
          "name": "stdout",
          "text": [
            "텍스트: '고양이' → 클래스: cat (인덱스: 3)\n"
          ]
        },
        {
          "output_type": "stream",
          "name": "stderr",
          "text": [
            "샘플링 진행중: 1000it [00:08, 111.48it/s]\n"
          ]
        },
        {
          "output_type": "stream",
          "name": "stdout",
          "text": [
            "텍스트: '개' → 클래스: dog (인덱스: 5)\n"
          ]
        },
        {
          "output_type": "stream",
          "name": "stderr",
          "text": [
            "샘플링 진행중: 1000it [00:08, 111.20it/s]\n"
          ]
        },
        {
          "output_type": "stream",
          "name": "stdout",
          "text": [
            "텍스트: '새' → 클래스: bird (인덱스: 2)\n"
          ]
        },
        {
          "output_type": "stream",
          "name": "stderr",
          "text": [
            "샘플링 진행중: 1000it [00:08, 111.45it/s]\n",
            "/tmp/ipython-input-4137142644.py:300: UserWarning: Glyph 48708 (\\N{HANGUL SYLLABLE BI}) missing from font(s) DejaVu Sans.\n",
            "  plt.tight_layout()\n",
            "/tmp/ipython-input-4137142644.py:300: UserWarning: Glyph 54665 (\\N{HANGUL SYLLABLE HAENG}) missing from font(s) DejaVu Sans.\n",
            "  plt.tight_layout()\n",
            "/tmp/ipython-input-4137142644.py:300: UserWarning: Glyph 44592 (\\N{HANGUL SYLLABLE GI}) missing from font(s) DejaVu Sans.\n",
            "  plt.tight_layout()\n",
            "/tmp/ipython-input-4137142644.py:300: UserWarning: Glyph 51088 (\\N{HANGUL SYLLABLE JA}) missing from font(s) DejaVu Sans.\n",
            "  plt.tight_layout()\n",
            "/tmp/ipython-input-4137142644.py:300: UserWarning: Glyph 46041 (\\N{HANGUL SYLLABLE DONG}) missing from font(s) DejaVu Sans.\n",
            "  plt.tight_layout()\n",
            "/tmp/ipython-input-4137142644.py:300: UserWarning: Glyph 52264 (\\N{HANGUL SYLLABLE CA}) missing from font(s) DejaVu Sans.\n",
            "  plt.tight_layout()\n",
            "/tmp/ipython-input-4137142644.py:300: UserWarning: Glyph 44256 (\\N{HANGUL SYLLABLE GO}) missing from font(s) DejaVu Sans.\n",
            "  plt.tight_layout()\n",
            "/tmp/ipython-input-4137142644.py:300: UserWarning: Glyph 50577 (\\N{HANGUL SYLLABLE YANG}) missing from font(s) DejaVu Sans.\n",
            "  plt.tight_layout()\n",
            "/tmp/ipython-input-4137142644.py:300: UserWarning: Glyph 44060 (\\N{HANGUL SYLLABLE GAE}) missing from font(s) DejaVu Sans.\n",
            "  plt.tight_layout()\n",
            "/tmp/ipython-input-4137142644.py:300: UserWarning: Glyph 49352 (\\N{HANGUL SYLLABLE SAE}) missing from font(s) DejaVu Sans.\n",
            "  plt.tight_layout()\n",
            "/usr/local/lib/python3.12/dist-packages/IPython/core/pylabtools.py:151: UserWarning: Glyph 48708 (\\N{HANGUL SYLLABLE BI}) missing from font(s) DejaVu Sans.\n",
            "  fig.canvas.print_figure(bytes_io, **kw)\n",
            "/usr/local/lib/python3.12/dist-packages/IPython/core/pylabtools.py:151: UserWarning: Glyph 54665 (\\N{HANGUL SYLLABLE HAENG}) missing from font(s) DejaVu Sans.\n",
            "  fig.canvas.print_figure(bytes_io, **kw)\n",
            "/usr/local/lib/python3.12/dist-packages/IPython/core/pylabtools.py:151: UserWarning: Glyph 44592 (\\N{HANGUL SYLLABLE GI}) missing from font(s) DejaVu Sans.\n",
            "  fig.canvas.print_figure(bytes_io, **kw)\n",
            "/usr/local/lib/python3.12/dist-packages/IPython/core/pylabtools.py:151: UserWarning: Glyph 51088 (\\N{HANGUL SYLLABLE JA}) missing from font(s) DejaVu Sans.\n",
            "  fig.canvas.print_figure(bytes_io, **kw)\n",
            "/usr/local/lib/python3.12/dist-packages/IPython/core/pylabtools.py:151: UserWarning: Glyph 46041 (\\N{HANGUL SYLLABLE DONG}) missing from font(s) DejaVu Sans.\n",
            "  fig.canvas.print_figure(bytes_io, **kw)\n",
            "/usr/local/lib/python3.12/dist-packages/IPython/core/pylabtools.py:151: UserWarning: Glyph 52264 (\\N{HANGUL SYLLABLE CA}) missing from font(s) DejaVu Sans.\n",
            "  fig.canvas.print_figure(bytes_io, **kw)\n",
            "/usr/local/lib/python3.12/dist-packages/IPython/core/pylabtools.py:151: UserWarning: Glyph 44256 (\\N{HANGUL SYLLABLE GO}) missing from font(s) DejaVu Sans.\n",
            "  fig.canvas.print_figure(bytes_io, **kw)\n",
            "/usr/local/lib/python3.12/dist-packages/IPython/core/pylabtools.py:151: UserWarning: Glyph 50577 (\\N{HANGUL SYLLABLE YANG}) missing from font(s) DejaVu Sans.\n",
            "  fig.canvas.print_figure(bytes_io, **kw)\n",
            "/usr/local/lib/python3.12/dist-packages/IPython/core/pylabtools.py:151: UserWarning: Glyph 44060 (\\N{HANGUL SYLLABLE GAE}) missing from font(s) DejaVu Sans.\n",
            "  fig.canvas.print_figure(bytes_io, **kw)\n",
            "/usr/local/lib/python3.12/dist-packages/IPython/core/pylabtools.py:151: UserWarning: Glyph 49352 (\\N{HANGUL SYLLABLE SAE}) missing from font(s) DejaVu Sans.\n",
            "  fig.canvas.print_figure(bytes_io, **kw)\n"
          ]
        },
        {
          "output_type": "display_data",
          "data": {
            "text/plain": [
              "<Figure size 1000x400 with 10 Axes>"
            ],
            "image/png": "[encoded data removed]"
          },
          "metadata": {}
        },
        {
          "output_type": "stream",
          "name": "stdout",
          "text": [
            "텍스트에서 이미지 생성 중...\n",
            "텍스트: 'plane' → 클래스: airplane (인덱스: 0)\n"
          ]
        },
        {
          "output_type": "stream",
          "name": "stderr",
          "text": [
            "샘플링 진행중: 1000it [00:06, 149.37it/s]\n"
          ]
        },
        {
          "output_type": "stream",
          "name": "stdout",
          "text": [
            "텍스트: 'vehicle' → 클래스: automobile (인덱스: 1)\n"
          ]
        },
        {
          "output_type": "stream",
          "name": "stderr",
          "text": [
            "샘플링 진행중: 1000it [00:06, 149.35it/s]\n"
          ]
        },
        {
          "output_type": "stream",
          "name": "stdout",
          "text": [
            "텍스트: 'kitten' → 클래스: cat (인덱스: 3)\n"
          ]
        },
        {
          "output_type": "stream",
          "name": "stderr",
          "text": [
            "샘플링 진행중: 1000it [00:06, 149.75it/s]\n"
          ]
        },
        {
          "output_type": "stream",
          "name": "stdout",
          "text": [
            "텍스트: 'puppy' → 클래스: dog (인덱스: 5)\n"
          ]
        },
        {
          "output_type": "stream",
          "name": "stderr",
          "text": [
            "샘플링 진행중: 1000it [00:06, 149.80it/s]\n"
          ]
        },
        {
          "output_type": "stream",
          "name": "stdout",
          "text": [
            "텍스트: 'aircraft' → 클래스: airplane (인덱스: 0)\n"
          ]
        },
        {
          "output_type": "stream",
          "name": "stderr",
          "text": [
            "샘플링 진행중: 1000it [00:06, 150.41it/s]\n"
          ]
        },
        {
          "output_type": "display_data",
          "data": {
            "text/plain": [
              "<Figure size 1000x200 with 5 Axes>"
            ],
            "image/png": "[encoded data removed]"
          },
          "metadata": {}
        },
        {
          "output_type": "stream",
          "name": "stdout",
          "text": [
            "모든 테스트 완료!\n"
          ]
        }
      ],
      "source": [
        "# 텍스트 가이드 간단 디퓨전 모델\n",
        "# Google Colab에서 실행 가능\n",
        "\n",
        "import torch\n",
        "import torch.nn as nn\n",
        "import torch.optim as optim\n",
        "import torchvision\n",
        "import torchvision.transforms as transforms\n",
        "from torch.utils.data import DataLoader\n",
        "import matplotlib.pyplot as plt\n",
        "import numpy as np\n",
        "from IPython.display import clear_output\n",
        "import math\n",
        "from tqdm import tqdm\n",
        "\n",
        "# GPU 설정\n",
        "device = torch.device('cuda' if torch.cuda.is_available() else 'cpu')\n",
        "print(f\"사용 중인 디바이스: {device}\")\n",
        "\n",
        "# 하이퍼파라미터\n",
        "BATCH_SIZE = 64\n",
        "LEARNING_RATE = 1e-4\n",
        "EPOCHS = 30\n",
        "IMAGE_SIZE = 32\n",
        "NUM_TIMESTEPS = 1000\n",
        "NUM_CLASSES = 10\n",
        "\n",
        "# 데이터 로더 설정 (CIFAR-10 사용)\n",
        "transform = transforms.Compose([\n",
        "    transforms.Resize(IMAGE_SIZE),\n",
        "    transforms.ToTensor(),\n",
        "    transforms.Normalize((0.5, 0.5, 0.5), (0.5, 0.5, 0.5))\n",
        "])\n",
        "\n",
        "train_dataset = torchvision.datasets.CIFAR10(\n",
        "    root='./data', train=True, download=True, transform=transform\n",
        ")\n",
        "train_loader = DataLoader(train_dataset, batch_size=BATCH_SIZE, shuffle=True)\n",
        "\n",
        "# CIFAR-10 클래스 이름\n",
        "CIFAR10_CLASSES = [\n",
        "    'airplane', 'automobile', 'bird', 'cat', 'deer',\n",
        "    'dog', 'frog', 'horse', 'ship', 'truck'\n",
        "]\n",
        "\n",
        "# 노이즈 스케줄링 함수\n",
        "def cosine_beta_schedule(timesteps, s=0.008):\n",
        "    \"\"\"\n",
        "    cosine schedule as proposed in https://arxiv.org/abs/2102.09672\n",
        "    \"\"\"\n",
        "    steps = timesteps + 1\n",
        "    x = torch.linspace(0, timesteps, steps)\n",
        "    alphas_cumprod = torch.cos(((x / timesteps) + s) / (1 + s) * math.pi * 0.5) ** 2\n",
        "    alphas_cumprod = alphas_cumprod / alphas_cumprod[0]\n",
        "    betas = 1 - (alphas_cumprod[1:] / alphas_cumprod[:-1])\n",
        "    return torch.clip(betas, 0.0001, 0.9999)\n",
        "\n",
        "# 노이즈 스케줄 생성\n",
        "betas = cosine_beta_schedule(NUM_TIMESTEPS)\n",
        "alphas = 1.0 - betas\n",
        "alphas_cumprod = torch.cumprod(alphas, dim=0)\n",
        "alphas_cumprod_prev = torch.cat([torch.tensor([1.0]), alphas_cumprod[:-1]])\n",
        "\n",
        "# 계산 효율성을 위한 사전 계산된 값들\n",
        "sqrt_alphas_cumprod = torch.sqrt(alphas_cumprod)\n",
        "sqrt_one_minus_alphas_cumprod = torch.sqrt(1.0 - alphas_cumprod)\n",
        "sqrt_recip_alphas = torch.sqrt(1.0 / alphas)\n",
        "posterior_variance = betas * (1.0 - alphas_cumprod_prev) / (1.0 - alphas_cumprod)\n",
        "\n",
        "# 시간 임베딩 클래스\n",
        "class TimeEmbedding(nn.Module):\n",
        "    def __init__(self, dim):\n",
        "        super().__init__()\n",
        "        self.dim = dim\n",
        "\n",
        "    def forward(self, time):\n",
        "        device = time.device\n",
        "        half_dim = self.dim // 2\n",
        "        embeddings = math.log(10000) / (half_dim - 1)\n",
        "        embeddings = torch.exp(torch.arange(half_dim, device=device) * -embeddings)\n",
        "        embeddings = time[:, None] * embeddings[None, :]\n",
        "        embeddings = torch.cat((embeddings.sin(), embeddings.cos()), dim=-1)\n",
        "        return embeddings\n",
        "\n",
        "# 간단한 UNet 블록\n",
        "class ResidualBlock(nn.Module):\n",
        "    def __init__(self, in_channels, out_channels, time_emb_dim, class_emb_dim):\n",
        "        super().__init__()\n",
        "        self.time_mlp = nn.Linear(time_emb_dim, out_channels)\n",
        "        self.class_mlp = nn.Linear(class_emb_dim, out_channels)\n",
        "\n",
        "        self.conv1 = nn.Conv2d(in_channels, out_channels, 3, padding=1)\n",
        "        self.conv2 = nn.Conv2d(out_channels, out_channels, 3, padding=1)\n",
        "        self.norm1 = nn.GroupNorm(8, out_channels)\n",
        "        self.norm2 = nn.GroupNorm(8, out_channels)\n",
        "        self.activation = nn.SiLU()\n",
        "\n",
        "        self.residual_conv = nn.Conv2d(in_channels, out_channels, 1) if in_channels != out_channels else nn.Identity()\n",
        "\n",
        "    def forward(self, x, time_emb, class_emb):\n",
        "        residual = self.residual_conv(x)\n",
        "\n",
        "        x = self.conv1(x)\n",
        "        x = self.norm1(x)\n",
        "        x = self.activation(x)\n",
        "\n",
        "        # 시간과 클래스 조건 추가\n",
        "        time_emb = self.time_mlp(time_emb)\n",
        "        class_emb = self.class_mlp(class_emb)\n",
        "        emb = time_emb + class_emb\n",
        "        x = x + emb[:, :, None, None]\n",
        "\n",
        "        x = self.conv2(x)\n",
        "        x = self.norm2(x)\n",
        "        x = self.activation(x)\n",
        "\n",
        "        return x + residual\n",
        "\n",
        "# 간단한 UNet 모델\n",
        "class SimpleUNet(nn.Module):\n",
        "    def __init__(self, in_channels=3, num_classes=10):\n",
        "        super().__init__()\n",
        "\n",
        "        # 시간 임베딩\n",
        "        time_emb_dim = 128\n",
        "        self.time_embedding = TimeEmbedding(time_emb_dim)\n",
        "\n",
        "        # 클래스 임베딩\n",
        "        class_emb_dim = 128\n",
        "        self.class_embedding = nn.Embedding(num_classes, class_emb_dim)\n",
        "\n",
        "        # 다운샘플링\n",
        "        self.down1 = ResidualBlock(in_channels, 64, time_emb_dim, class_emb_dim)\n",
        "        self.down2 = ResidualBlock(64, 128, time_emb_dim, class_emb_dim)\n",
        "        self.down3 = ResidualBlock(128, 256, time_emb_dim, class_emb_dim)\n",
        "\n",
        "        # 중간층\n",
        "        self.middle = ResidualBlock(256, 256, time_emb_dim, class_emb_dim)\n",
        "\n",
        "        # 업샘플링\n",
        "        self.up3 = ResidualBlock(256 + 256, 128, time_emb_dim, class_emb_dim)\n",
        "        self.up2 = ResidualBlock(128 + 128, 64, time_emb_dim, class_emb_dim)\n",
        "        self.up1 = ResidualBlock(64 + 64, 64, time_emb_dim, class_emb_dim)\n",
        "\n",
        "        # 출력층\n",
        "        self.output = nn.Conv2d(64, in_channels, 1)\n",
        "\n",
        "        # 풀링 및 업샘플링\n",
        "        self.pool = nn.MaxPool2d(2)\n",
        "        self.upsample = nn.Upsample(scale_factor=2, mode='bilinear', align_corners=False)\n",
        "\n",
        "    def forward(self, x, timestep, class_labels):\n",
        "        # 시간과 클래스 임베딩\n",
        "        time_emb = self.time_embedding(timestep)\n",
        "        class_emb = self.class_embedding(class_labels)\n",
        "\n",
        "        # 다운샘플링\n",
        "        d1 = self.down1(x, time_emb, class_emb)\n",
        "        d1_pool = self.pool(d1)\n",
        "\n",
        "        d2 = self.down2(d1_pool, time_emb, class_emb)\n",
        "        d2_pool = self.pool(d2)\n",
        "\n",
        "        d3 = self.down3(d2_pool, time_emb, class_emb)\n",
        "        d3_pool = self.pool(d3)\n",
        "\n",
        "        # 중간층\n",
        "        middle = self.middle(d3_pool, time_emb, class_emb)\n",
        "\n",
        "        # 업샘플링 (스킵 연결 포함)\n",
        "        u3 = self.upsample(middle)\n",
        "        u3 = torch.cat([u3, d3], dim=1)\n",
        "        u3 = self.up3(u3, time_emb, class_emb)\n",
        "\n",
        "        u2 = self.upsample(u3)\n",
        "        u2 = torch.cat([u2, d2], dim=1)\n",
        "        u2 = self.up2(u2, time_emb, class_emb)\n",
        "\n",
        "        u1 = self.upsample(u2)\n",
        "        u1 = torch.cat([u1, d1], dim=1)\n",
        "        u1 = self.up1(u1, time_emb, class_emb)\n",
        "\n",
        "        # 출력\n",
        "        output = self.output(u1)\n",
        "        return output\n",
        "\n",
        "# 모델 초기화\n",
        "model = SimpleUNet().to(device)\n",
        "optimizer = optim.Adam(model.parameters(), lr=LEARNING_RATE)\n",
        "\n",
        "# 노이즈 추가 함수\n",
        "def q_sample(x_start, t, noise=None):\n",
        "    if noise is None:\n",
        "        noise = torch.randn_like(x_start)\n",
        "\n",
        "    sqrt_alphas_cumprod_t = sqrt_alphas_cumprod[t].reshape(-1, 1, 1, 1)\n",
        "    sqrt_one_minus_alphas_cumprod_t = sqrt_one_minus_alphas_cumprod[t].reshape(-1, 1, 1, 1)\n",
        "\n",
        "    return sqrt_alphas_cumprod_t * x_start + sqrt_one_minus_alphas_cumprod_t * noise\n",
        "\n",
        "# 손실 함수\n",
        "def p_losses(model, x_start, t, class_labels, noise=None):\n",
        "    if noise is None:\n",
        "        noise = torch.randn_like(x_start)\n",
        "\n",
        "    x_noisy = q_sample(x_start=x_start, t=t, noise=noise)\n",
        "    predicted_noise = model(x_noisy, t, class_labels)\n",
        "\n",
        "    loss = nn.functional.mse_loss(noise, predicted_noise)\n",
        "    return loss\n",
        "\n",
        "# 샘플링 함수 (DDPM)\n",
        "@torch.no_grad()\n",
        "def p_sample(model, x, t, class_labels):\n",
        "    betas_t = betas[t].reshape(-1, 1, 1, 1)\n",
        "    sqrt_one_minus_alphas_cumprod_t = sqrt_one_minus_alphas_cumprod[t].reshape(-1, 1, 1, 1)\n",
        "    sqrt_recip_alphas_t = sqrt_recip_alphas[t].reshape(-1, 1, 1, 1)\n",
        "\n",
        "    # 모델이 예측한 노이즈\n",
        "    predicted_noise = model(x, t, class_labels)\n",
        "\n",
        "    # 평균 계산\n",
        "    model_mean = sqrt_recip_alphas_t * (x - betas_t * predicted_noise / sqrt_one_minus_alphas_cumprod_t)\n",
        "\n",
        "    if t[0] == 0:\n",
        "        return model_mean\n",
        "    else:\n",
        "        posterior_variance_t = posterior_variance[t].reshape(-1, 1, 1, 1)\n",
        "        noise = torch.randn_like(x)\n",
        "        return model_mean + torch.sqrt(posterior_variance_t) * noise\n",
        "\n",
        "@torch.no_grad()\n",
        "def p_sample_loop(model, shape, class_labels):\n",
        "    device = next(model.parameters()).device\n",
        "\n",
        "    b = shape[0]\n",
        "    img = torch.randn(shape, device=device)\n",
        "\n",
        "    for i in tqdm(reversed(range(0, NUM_TIMESTEPS)), desc='샘플링 진행중'):\n",
        "        t = torch.full((b,), i, device=device, dtype=torch.long)\n",
        "        img = p_sample(model, img, t, class_labels)\n",
        "\n",
        "    return img\n",
        "\n",
        "# 텍스트에서 클래스로 변환\n",
        "def text_to_class(text_prompt):\n",
        "    \"\"\"텍스트 프롬프트를 CIFAR-10 클래스로 매핑\"\"\"\n",
        "    text_lower = text_prompt.lower().strip()\n",
        "\n",
        "    # 직접 매칭\n",
        "    if text_lower in CIFAR10_CLASSES:\n",
        "        return CIFAR10_CLASSES.index(text_lower)\n",
        "\n",
        "    # 유사 단어 매칭\n",
        "    similarity_map = {\n",
        "        'plane': 0, 'aircraft': 0, '비행기': 0,\n",
        "        'car': 1, 'vehicle': 1, '자동차': 1,\n",
        "        'bird': 2, '새': 2,\n",
        "        'cat': 3, 'kitten': 3, '고양이': 3,\n",
        "        'deer': 4, '사슴': 4,\n",
        "        'dog': 5, 'puppy': 5, '개': 5,\n",
        "        'frog': 6, '개구리': 6,\n",
        "        'horse': 7, '말': 7,\n",
        "        'ship': 8, 'boat': 8, '배': 8,\n",
        "        'truck': 9, 'lorry': 9, '트럭': 9\n",
        "    }\n",
        "\n",
        "    return similarity_map.get(text_lower, 0)  # 기본값은 airplane\n",
        "\n",
        "# 이미지 시각화 함수\n",
        "def visualize_samples(images, prompts=None, title=\"생성된 이미지\"):\n",
        "    # 이미지를 [-1, 1]에서 [0, 1]로 변환\n",
        "    images = (images + 1) / 2\n",
        "    images = torch.clamp(images, 0, 1)\n",
        "\n",
        "    n = len(images)\n",
        "    cols = min(5, n)\n",
        "    rows = (n + cols - 1) // cols\n",
        "\n",
        "    fig, axes = plt.subplots(rows, cols, figsize=(2*cols, 2*rows))\n",
        "\n",
        "    # Ensure axes is always a flattened array of Axes objects\n",
        "    if not isinstance(axes, np.ndarray):\n",
        "        axes = np.array([axes])\n",
        "    elif axes.ndim == 2:\n",
        "        axes = axes.flatten()\n",
        "\n",
        "    for i in range(n):\n",
        "        img = images[i].cpu().permute(1, 2, 0).numpy()\n",
        "        axes[i].imshow(img)\n",
        "        if prompts:\n",
        "            axes[i].set_title(f'\"{prompts[i]}\"')\n",
        "        axes[i].axis('off')\n",
        "\n",
        "    # 빈 서브플롯 숨기기\n",
        "    for i in range(n, len(axes)):\n",
        "        axes[i].axis('off')\n",
        "\n",
        "    plt.suptitle(title)\n",
        "    plt.tight_layout()\n",
        "    plt.show()\n",
        "\n",
        "# 훈련 함수\n",
        "def train_diffusion():\n",
        "    print(\"디퓨전 모델 훈련 시작...\")\n",
        "\n",
        "    model.train()\n",
        "    for epoch in range(EPOCHS):\n",
        "        epoch_loss = 0\n",
        "\n",
        "        for batch_idx, (images, labels) in enumerate(train_loader):\n",
        "            images = images.to(device)\n",
        "            labels = labels.to(device)\n",
        "\n",
        "            # 랜덤 타임스텝 선택\n",
        "            t = torch.randint(0, NUM_TIMESTEPS, (images.shape[0],), device=device).long()\n",
        "\n",
        "            # 손실 계산\n",
        "            loss = p_losses(model, images, t, labels)\n",
        "\n",
        "            # 역전파\n",
        "            optimizer.zero_grad()\n",
        "            loss.backward()\n",
        "            optimizer.step()\n",
        "\n",
        "            epoch_loss += loss.item()\n",
        "\n",
        "            if batch_idx % 100 == 0:\n",
        "                print(f'Epoch {epoch}, Batch {batch_idx}, Loss: {loss.item():.4f}')\n",
        "\n",
        "        avg_loss = epoch_loss / len(train_loader)\n",
        "        print(f'Epoch {epoch} 완료, 평균 손실: {avg_loss:.4f}')\n",
        "\n",
        "        # 몇 에포크마다 샘플 생성\n",
        "        if epoch % 5 == 0:\n",
        "            print(\"샘플 이미지 생성 중...\")\n",
        "            model.eval()\n",
        "\n",
        "            # 각 클래스별로 1개씩 생성\n",
        "            class_labels = torch.arange(5, device=device)  # 처음 5개 클래스\n",
        "            samples = p_sample_loop(model, (5, 3, IMAGE_SIZE, IMAGE_SIZE), class_labels)\n",
        "\n",
        "            class_names = [CIFAR10_CLASSES[i] for i in class_labels.cpu().numpy()]\n",
        "            visualize_samples(samples, class_names, f\"Epoch {epoch} 샘플\")\n",
        "\n",
        "            model.train()\n",
        "\n",
        "    print(\"훈련 완료!\")\n",
        "\n",
        "# 텍스트에서 이미지 생성\n",
        "def generate_from_text(text_prompts, num_samples=1):\n",
        "    \"\"\"텍스트 프롬프트에서 이미지 생성\"\"\"\n",
        "    model.eval()\n",
        "\n",
        "    print(\"텍스트에서 이미지 생성 중...\")\n",
        "\n",
        "    all_images = []\n",
        "    all_prompts = []\n",
        "\n",
        "    for prompt in text_prompts:\n",
        "        class_idx = text_to_class(prompt)\n",
        "        class_name = CIFAR10_CLASSES[class_idx]\n",
        "        print(f\"텍스트: '{prompt}' → 클래스: {class_name} (인덱스: {class_idx})\")\n",
        "\n",
        "        class_labels = torch.full((num_samples,), class_idx, device=device)\n",
        "        samples = p_sample_loop(model, (num_samples, 3, IMAGE_SIZE, IMAGE_SIZE), class_labels)\n",
        "\n",
        "        for i in range(num_samples):\n",
        "            all_images.append(samples[i])\n",
        "            all_prompts.append(f\"{prompt} → {class_name}\")\n",
        "\n",
        "    visualize_samples(torch.stack(all_images), all_prompts, \"텍스트에서 생성된 이미지\")\n",
        "\n",
        "# 실행 예시\n",
        "if __name__ == \"__main__\":\n",
        "    # 1. 모델 훈련 (빠른 테스트를 위해 에포크 수를 줄일 수 있음)\n",
        "    train_diffusion()\n",
        "\n",
        "    # 2. 텍스트에서 이미지 생성 테스트\n",
        "    print(\"\\n=== 텍스트에서 이미지 생성 테스트 ===\")\n",
        "\n",
        "    # 영어 텍스트 프롬프트\n",
        "    english_prompts = [\"airplane\", \"car\", \"cat\", \"dog\", \"bird\"]\n",
        "    generate_from_text(english_prompts, num_samples=2)\n",
        "\n",
        "    # 한글 텍스트 프롬프트\n",
        "    korean_prompts = [\"비행기\", \"자동차\", \"고양이\", \"개\", \"새\"]\n",
        "    generate_from_text(korean_prompts, num_samples=2)\n",
        "\n",
        "    # 유사 단어 테스트\n",
        "    similar_prompts = [\"plane\", \"vehicle\", \"kitten\", \"puppy\", \"aircraft\"]\n",
        "    generate_from_text(similar_prompts, num_samples=1)\n",
        "\n",
        "    print(\"모든 테스트 완료!\")"
      ]
    }
  ]
}