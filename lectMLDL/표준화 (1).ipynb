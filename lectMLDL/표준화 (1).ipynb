{
  "cells": [
    {
      "cell_type": "markdown",
      "metadata": {
        "id": "C8EHBuqi78Gj"
      },
      "source": [
        "# 표준화 (Standardization)"
      ]
    },
    {
      "cell_type": "markdown",
      "metadata": {
        "id": "H37LGPws7_t5"
      },
      "source": [
        "표준화는 데이터의 평균을 0 분산 및 표준편차를 1로 만들어 줍니다.\n",
        "\n",
        "표준화를 하는 이유\n",
        "\n",
        "서로 다른 통계 데이터들을 비교하기 용이하기 때문입니다.\n",
        "\n",
        "표준화를 하면 평균은 0, 분산과 표준편차는 1로 만들어 데이터의 분포를\n",
        " 단순화 시키고, 비교를 용이"
      ]
    },
    {
      "cell_type": "code",
      "execution_count": null,
      "metadata": {
        "id": "Nq1Vif0C720S"
      },
      "outputs": [],
      "source": [
        "from sklearn.datasets import load_iris\n"
      ]
    },
    {
      "cell_type": "code",
      "execution_count": null,
      "metadata": {
        "id": "FlvgjnkU8iw7"
      },
      "outputs": [],
      "source": [
        "import pandas as pd\n",
        "import matplotlib.pyplot as plt\n",
        "import seaborn as sns"
      ]
    },
    {
      "cell_type": "code",
      "execution_count": null,
      "metadata": {
        "id": "uBFd9C2r8ErQ"
      },
      "outputs": [],
      "source": [
        "\n",
        "iris = load_iris()\n"
      ]
    },
    {
      "cell_type": "code",
      "execution_count": null,
      "metadata": {
        "colab": {
          "base_uri": "https://localhost:8080/",
          "height": 206
        },
        "id": "6rNsc1a08G3h",
        "outputId": "3ac22676-7623-4e5e-91c3-4db5adfe21cf"
      },
      "outputs": [],
      "source": [
        "# 코드를 입력해 주세요\n",
        "df = pd.DataFrame(iris['data'], columns=iris['feature_names'])\n",
        "df['target'] = iris['target']\n",
        "df.head()\n"
      ]
    },
    {
      "cell_type": "code",
      "execution_count": null,
      "metadata": {
        "id": "42u2xrWt8Ijb"
      },
      "outputs": [],
      "source": [
        "X = df.iloc[:, 0]"
      ]
    },
    {
      "cell_type": "markdown",
      "metadata": {
        "id": "pGZ87lO08LM7"
      },
      "source": [
        "표준화 코드"
      ]
    },
    {
      "cell_type": "code",
      "execution_count": null,
      "metadata": {
        "id": "spE0nmmU8Ma0"
      },
      "outputs": [],
      "source": [
        "X_ = (X - X.mean()) / X.std()"
      ]
    },
    {
      "cell_type": "code",
      "execution_count": null,
      "metadata": {
        "colab": {
          "base_uri": "https://localhost:8080/",
          "height": 968
        },
        "id": "VS762Jne8OZz",
        "outputId": "d2808ac2-2b94-4f0f-9f11-39945ba4347d"
      },
      "outputs": [],
      "source": [
        "plt.figure(figsize=(12, 6))\n",
        "plt.subplot(1, 2, 1)\n",
        "sns.distplot(X, bins=5, color='b')\n",
        "plt.title('Original', fontsize=16)\n",
        "\n",
        "plt.subplot(1, 2, 2)\n",
        "sns.distplot(X_, bins=5, color='r')\n",
        "plt.title('Standardization', fontsize=16)\n",
        "plt.show()\n"
      ]
    },
    {
      "cell_type": "markdown",
      "metadata": {
        "id": "PYsACD4S8PwQ"
      },
      "source": [
        "분포"
      ]
    },
    {
      "cell_type": "code",
      "execution_count": null,
      "metadata": {
        "colab": {
          "base_uri": "https://localhost:8080/",
          "height": 566
        },
        "id": "8ju51wbB8Qsv",
        "outputId": "a93ea223-44e7-4f92-b029-c5f9d4f03822"
      },
      "outputs": [],
      "source": [
        "plt.figure(figsize=(12, 6))\n",
        "plt.subplot(1, 2, 1)\n",
        "sns.scatterplot(x=df['sepal length (cm)'], y=df['sepal width (cm)'], hue=df['target'], palette='Set1')\n",
        "plt.title('Sepal', fontsize=16)\n",
        "\n",
        "plt.subplot(1, 2, 2)\n",
        "sns.scatterplot(x=df['petal length (cm)'], y=df['petal width (cm)'], hue=df['target'], palette='Set1')\n",
        "plt.title('Petal', fontsize=16)\n",
        "plt.show()"
      ]
    },
    {
      "cell_type": "markdown",
      "metadata": {
        "id": "lr-xQgSy9LCe"
      },
      "source": [
        "# 정규화 (Normalization)"
      ]
    },
    {
      "cell_type": "markdown",
      "metadata": {
        "id": "DmrHIIpN9OA0"
      },
      "source": [
        "정규화 (Normalization)\n",
        "정규화 (Normalization)도 표준화와 마찬가지로 데이터의 스케일을 조정합니다.\n",
        "\n",
        "정규화가 표준화와 다른 가장 큰 특징은 모든 데이터가 0 ~ 1 사이의 값을 가집니다.\n",
        "\n",
        "즉, 최대값은 1, 최소값은 0으로 데이터의 범위를 조정합니다."
      ]
    },
    {
      "cell_type": "code",
      "execution_count": null,
      "metadata": {
        "id": "0pM1TD-B9Pwf"
      },
      "outputs": [],
      "source": [
        "X = df.iloc[:, 0]"
      ]
    },
    {
      "cell_type": "code",
      "execution_count": null,
      "metadata": {
        "id": "dxuVjyyu9RgG"
      },
      "outputs": [],
      "source": [
        "X_ = (X - X.min()) / (X.max() - X.min())"
      ]
    },
    {
      "cell_type": "code",
      "execution_count": null,
      "metadata": {
        "colab": {
          "base_uri": "https://localhost:8080/",
          "height": 968
        },
        "id": "Y-xOYXGG9U3L",
        "outputId": "3bb6891c-58c6-4e1a-f136-2a8836a616a8"
      },
      "outputs": [],
      "source": [
        "plt.figure(figsize=(12, 6))\n",
        "plt.subplot(1, 2, 1)\n",
        "sns.distplot(X, bins=5, color='b')\n",
        "plt.title('Original', fontsize=16)\n",
        "\n",
        "plt.subplot(1, 2, 2)\n",
        "sns.distplot(X_, bins=5, color='r')\n",
        "plt.title('Normalization', fontsize=16)\n",
        "plt.show()\n"
      ]
    },
    {
      "cell_type": "markdown",
      "metadata": {
        "id": "adOZ64Up9fAk"
      },
      "source": [
        "# MinMaxScaler"
      ]
    },
    {
      "cell_type": "code",
      "execution_count": null,
      "metadata": {
        "id": "i90Y65Aj9gVO"
      },
      "outputs": [],
      "source": [
        "from sklearn.preprocessing import MinMaxScaler\n"
      ]
    },
    {
      "cell_type": "code",
      "execution_count": null,
      "metadata": {
        "id": "RqUk1UkN9iM1"
      },
      "outputs": [],
      "source": [
        "minmax_scaler = MinMaxScaler()"
      ]
    },
    {
      "cell_type": "markdown",
      "metadata": {
        "id": "IQRHYIz69kjE"
      },
      "source": [
        "feature 4개를 모두 변환\n",
        "\n",
        "변환된 결과는 scaled_data2에 대입"
      ]
    },
    {
      "cell_type": "code",
      "execution_count": null,
      "metadata": {
        "id": "aOyDb-6O9nFO"
      },
      "outputs": [],
      "source": [
        "scaled_data2 = minmax_scaler.fit_transform(df.drop('target', axis=1))"
      ]
    },
    {
      "cell_type": "code",
      "execution_count": null,
      "metadata": {
        "colab": {
          "base_uri": "https://localhost:8080/"
        },
        "id": "-lqgoOac9oBd",
        "outputId": "d4a87a53-ec65-4c90-d574-7a29b9473d44"
      },
      "outputs": [],
      "source": [
        "scaled_data2[:5]\n"
      ]
    },
    {
      "cell_type": "code",
      "execution_count": null,
      "metadata": {
        "colab": {
          "base_uri": "https://localhost:8080/"
        },
        "id": "ZgItnxPd9pek",
        "outputId": "87802368-1e40-41b0-9587-7215bcbeab52"
      },
      "outputs": [],
      "source": [
        "scaled_data2.min(), scaled_data2.max()"
      ]
    },
    {
      "cell_type": "markdown",
      "metadata": {
        "id": "iwJeE45n9qvB"
      },
      "source": [
        "Scale 전, 후 비교"
      ]
    },
    {
      "cell_type": "code",
      "execution_count": null,
      "metadata": {
        "colab": {
          "base_uri": "https://localhost:8080/",
          "height": 566
        },
        "id": "oPNfYQPb9sA5",
        "outputId": "5c49cd48-f27a-4d6a-b97c-d199a66402ba"
      },
      "outputs": [],
      "source": [
        "plt.figure(figsize=(12, 6))\n",
        "plt.subplot(1, 2, 1)\n",
        "sns.scatterplot(x=df['sepal length (cm)'], y=df['sepal width (cm)'], hue=df['target'], palette='Set1')\n",
        "plt.title('Sepal (Original)', fontsize=16)\n",
        "\n",
        "plt.subplot(1, 2, 2)\n",
        "sns.scatterplot(x=scaled_data2[:, 0], y=scaled_data2[:, 1], hue=df['target'], palette='Set1')\n",
        "plt.title('Sepal (Scaled)', fontsize=16)\n",
        "plt.show()"
      ]
    },
    {
      "cell_type": "code",
      "execution_count": null,
      "metadata": {
        "colab": {
          "base_uri": "https://localhost:8080/",
          "height": 566
        },
        "id": "vgFQ1o9Z9tU5",
        "outputId": "e0d3cb8a-c27b-42b4-dee3-05eb3372f6c0"
      },
      "outputs": [],
      "source": [
        "plt.figure(figsize=(12, 6))\n",
        "plt.subplot(1, 2, 1)\n",
        "sns.scatterplot(x=df['petal length (cm)'], y=df['petal width (cm)'], hue=df['target'], palette='Set1')\n",
        "plt.title('Petal (Original)', fontsize=16)\n",
        "\n",
        "plt.subplot(1, 2, 2)\n",
        "sns.scatterplot(x=scaled_data2[:, 2], y=scaled_data2[:, 3], hue=df['target'], palette='Set1')\n",
        "plt.title('Petal (Scaled)', fontsize=16)\n",
        "plt.show()"
      ]
    }
  ],
  "metadata": {
    "colab": {
      "provenance": []
    },
    "kernelspec": {
      "display_name": "Python 3",
      "language": "python",
      "name": "python3"
    },
    "language_info": {
      "codemirror_mode": {
        "name": "ipython",
        "version": 3
      },
      "file_extension": ".py",
      "mimetype": "text/x-python",
      "name": "python",
      "nbconvert_exporter": "python",
      "pygments_lexer": "ipython3",
      "version": "3.11.13"
    }
  },
  "nbformat": 4,
  "nbformat_minor": 0
}
