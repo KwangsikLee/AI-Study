{
  "cells": [
    {
      "cell_type": "markdown",
      "metadata": {
        "id": "f_-nQdj623w4"
      },
      "source": [
        "LangGraph 스트리밍"
      ]
    },
    {
      "cell_type": "markdown",
      "metadata": {
        "id": "-Io7xP7ke07m"
      },
      "source": [
        "StateGraph의 stream 메서드\n",
        "\n",
        "stream 메서드는 단일 입력에 대한 그래프 단계를 스트리밍하는 기능을 제공합니다.\n",
        "\n",
        "**매개변수**\n",
        "\n",
        "input (Union[dict[str, Any], Any]): 그래프에 대한 입력\n",
        "\n",
        "config (Optional[RunnableConfig]): 실행 구성\n",
        "\n",
        "stream_mode (Optional[Union[StreamMode, list[StreamMode]]]): 출력 스트리밍 모드\n",
        "\n",
        "output_keys (Optional[Union[str, Sequence[str]]]): 스트리밍할 키\n",
        "\n",
        "interrupt_before (Optional[Union[All, Sequence[str]]]): 실행 전에 중단할 노드\n",
        "\n",
        "interrupt_after (Optional[Union[All, Sequence[str]]]): 실행 후에 중단할 노드\n",
        "\n",
        "debug (Optional[bool]): 디버그 정보 출력 여부\n",
        "\n",
        "subgraphs (bool): 하위 그래프 스트리밍 여부\n",
        "\n",
        "\n",
        "**반환값**\n",
        "\n",
        "\n",
        "Iterator[Union[dict[str, Any], Any]]: 그래프의 각 단계 출력.\n",
        "출력 형태는 stream_mode에 따라 다름\n",
        "\n",
        "\n",
        "**주요 기능**\n",
        "\n",
        "\n",
        "1. 입력된 설정에 따라 그래프 실행을 스트리밍 방식으로 처리\n",
        "\n",
        "2. 다양한 스트리밍 모드 지원 (values, updates, debug)\n",
        "\n",
        "3. 콜백 관리 및 오류 처리\n",
        "\n",
        "4. 재귀 제한 및 중단 조건 처리\n",
        "\n",
        "\n",
        "**스트리밍 모드**\n",
        "\n",
        "values: 각 단계의 현재 상태 값 출력\n",
        "\n",
        "updates: 각 단계의 상태 업데이트만 출력\n",
        "\n",
        "debug: 각 단계의 디버그 이벤트 출력"
      ]
    },
    {
      "cell_type": "code",
      "execution_count": null,
      "metadata": {
        "colab": {
          "base_uri": "https://localhost:8080/"
        },
        "id": "JLyaCEAmHBvl",
        "outputId": "8db65270-6ace-4e1c-9b0a-2e19bf03cda9"
      },
      "outputs": [],
      "source": [
        "!pip -q install langchain langchain-openai langchain-community duckduckgo-search gradio langgraph langchain-teddynote\n"
      ]
    },
    {
      "cell_type": "code",
      "execution_count": null,
      "metadata": {
        "id": "o4Pb1VmgHKE1"
      },
      "outputs": [],
      "source": [
        "from typing import Annotated, List, Dict\n",
        "from typing_extensions import TypedDict\n",
        "\n",
        "from langchain_core.tools import tool\n",
        "from langchain_openai import ChatOpenAI\n",
        "from langgraph.checkpoint.memory import MemorySaver\n",
        "from langgraph.graph import StateGraph, START, END\n",
        "from langgraph.graph.message import add_messages\n",
        "from langgraph.prebuilt import ToolNode, tools_condition\n",
        "from langchain_teddynote.graphs import visualize_graph\n",
        "from langchain_teddynote.tools import GoogleNews\n",
        "\n",
        "\n",
        "import os\n",
        "\n",
        "# OpenAI API 키 설정 (사용자가 입력해야 함)\n",
        "# from google.colab import userdata\n",
        "\n",
        "# api_key=userdata.get('api_key')\n",
        "# api_key2=userdata.get('api_key2')\n",
        "# api_key3=userdata.get('api_key3')\n",
        "# os.environ[\"OPENAI_API_KEY\"] = api_key\n",
        "# os.environ[\"LANGCHAIN_API_KEY\"] = api_key2\n",
        "# os.environ[\"TAVILY_API_KEY\"] = api_key3\n",
        "\n",
        "from dotenv import load_dotenv\n",
        "\n",
        "load_dotenv()\n",
        "# OpenAI API 클라이언트 생성\n",
        "OPENAPI_KEY = os.getenv(\"OPENAI_API_KEY\")\n",
        "LangSmith_KEY = os.getenv(\"LANGCHAIN_API_KEY\")\n",
        "TAVILY_API_KEY = os.getenv(\"TAVILY_API_KEY\")\n",
        "\n",
        "# 2) LangSmith 연동 필수 환경변수\n",
        "os.environ[\"LANGCHAIN_TRACING_V2\"] = \"true\"      # 트레이싱 활성화\n",
        "os.environ[\"LANGSMITH_ENDPOINT\"]   = \"https://api.smith.langchain.com\"  # 기본값\n",
        "os.environ[\"LANGSMITH_PROJECT\"]    = \"langgraph_4\"\n",
        "\n",
        "from langchain_teddynote.tools.tavily import TavilySearch\n",
        "import os\n"
      ]
    },
    {
      "cell_type": "code",
      "execution_count": 3,
      "metadata": {
        "colab": {
          "base_uri": "https://localhost:8080/",
          "height": 266
        },
        "id": "tldE8mwNHOYh",
        "outputId": "d6824826-a3d5-467b-8b6a-a8a6a1072957"
      },
      "outputs": [
        {
          "data": {
            "image/png": "[encoded data removed]",
            "text/plain": [
              "<IPython.core.display.Image object>"
            ]
          },
          "metadata": {},
          "output_type": "display_data"
        }
      ],
      "source": [
        "\n",
        "########## 1. 상태 정의 ##########\n",
        "# 상태 정의\n",
        "class State(TypedDict):\n",
        "    # 메시지 목록 주석 추가\n",
        "    messages: Annotated[list, add_messages]\n",
        "    dummy_data: Annotated[str, \"dummy\"]\n",
        "\n",
        "\n",
        "########## 2. 도구 정의 및 바인딩 ##########\n",
        "# 도구 초기화\n",
        "# 키워드로 뉴스 검색하는 도구 생성\n",
        "news_tool = GoogleNews()\n",
        "\n",
        "\n",
        "@tool\n",
        "def search_keyword(query: str) -> List[Dict[str, str]]:\n",
        "    \"\"\"Look up news by keyword\"\"\"\n",
        "    news_tool = GoogleNews()\n",
        "    return news_tool.search_by_keyword(query, k=5)\n",
        "\n",
        "\n",
        "tools = [search_keyword]\n",
        "\n",
        "# LLM 초기화\n",
        "llm = ChatOpenAI(model=\"gpt-4o-mini\")\n",
        "\n",
        "# 도구와 LLM 결합\n",
        "llm_with_tools = llm.bind_tools(tools)\n",
        "\n",
        "\n",
        "########## 3. 노드 추가 ##########\n",
        "# 챗봇 함수 정의\n",
        "def chatbot(state: State):\n",
        "    # 메시지 호출 및 반환\n",
        "    return {\n",
        "        \"messages\": [llm_with_tools.invoke(state[\"messages\"])],\n",
        "        \"dummy_data\": \"[chatbot] 호출, dummy data\",  # 테스트를 위하여 더미 데이터를 추가합니다.\n",
        "    }\n",
        "\n",
        "\n",
        "# 상태 그래프 생성\n",
        "graph_builder = StateGraph(State)\n",
        "\n",
        "# 챗봇 노드 추가\n",
        "graph_builder.add_node(\"chatbot\", chatbot)\n",
        "\n",
        "\n",
        "# 도구 노드 생성 및 추가\n",
        "tool_node = ToolNode(tools=tools)\n",
        "\n",
        "# 도구 노드 추가\n",
        "graph_builder.add_node(\"tools\", tool_node)\n",
        "\n",
        "# 조건부 엣지\n",
        "graph_builder.add_conditional_edges(\n",
        "    \"chatbot\",\n",
        "    tools_condition,\n",
        ")\n",
        "\n",
        "########## 4. 엣지 추가 ##########\n",
        "\n",
        "# tools > chatbot\n",
        "graph_builder.add_edge(\"tools\", \"chatbot\")\n",
        "\n",
        "# START > chatbot\n",
        "graph_builder.add_edge(START, \"chatbot\")\n",
        "\n",
        "# chatbot > END\n",
        "graph_builder.add_edge(\"chatbot\", END)\n",
        "\n",
        "########## 5. 그래프 컴파일 ##########\n",
        "\n",
        "# 그래프 빌더 컴파일\n",
        "graph = graph_builder.compile()\n",
        "\n",
        "########## 6. 그래프 시각화 ##########\n",
        "# 그래프 시각화\n",
        "visualize_graph(graph)"
      ]
    },
    {
      "cell_type": "code",
      "execution_count": 4,
      "metadata": {
        "id": "Ghxm6urkHQuB"
      },
      "outputs": [],
      "source": [
        "from langchain_core.runnables import RunnableConfig\n",
        "\n",
        "# 질문\n",
        "question = \"2024년 노벨 문학상 관련 뉴스를 알려주세요.\"\n",
        "\n",
        "# 초기 입력 상태를 정의\n",
        "input = State(dummy_data=\"테스트 문자열\", messages=[(\"user\", question)])\n",
        "\n",
        "# config 설정\n",
        "config = RunnableConfig(\n",
        "    recursion_limit=10,  # 최대 10개의 노드까지 방문. 그 이상은 RecursionError 발생\n",
        "    configurable={\"thread_id\": \"1\"},  # 스레드 ID 설정\n",
        "    tags=[\"my-tag\"],  # Tag\n",
        ")\n"
      ]
    },
    {
      "cell_type": "code",
      "execution_count": 5,
      "metadata": {
        "colab": {
          "base_uri": "https://localhost:8080/"
        },
        "id": "LuIjecOaHQfc",
        "outputId": "9086f69d-b85e-40b7-987e-cd3d35bb1803"
      },
      "outputs": [
        {
          "name": "stdout",
          "output_type": "stream",
          "text": [
            "\n",
            "[ chatbot ]\n",
            "\n",
            "==================================\u001b[1m Ai Message \u001b[0m==================================\n",
            "Tool Calls:\n",
            "  search_keyword (call_GdOKaWNLDH92Od9oXblzh0JC)\n",
            " Call ID: call_GdOKaWNLDH92Od9oXblzh0JC\n",
            "  Args:\n",
            "    query: 2024 노벨 문학상\n",
            "\n",
            "[ tools ]\n",
            "\n",
            "=================================\u001b[1m Tool Message \u001b[0m=================================\n",
            "Name: search_keyword\n",
            "\n",
            "[{\"url\": \"https://news.google.com/rss/articles/CBMiTkFVX3lxTE1WR2QxeXktVFlQVWE2NUgwVjM4SWJfX0JZVk1Tdm5abWxfQk5NV1FxVmQybnIycF91SmdzNHlaQTBsWEczQ1FuUWFIZUJJdw?oc=5\", \"content\": \"[1만호 100대 사건]〈96〉한강, 한국인 최초 노벨문학상 수상 - 전자신문\"}, {\"url\": \"https://news.google.com/rss/articles/CBMiW0FVX3lxTE5CbDJEWU1nZUxVTkZmS3lHTTRycEVPZ2lpRUFPYVlwVVYwbGNKaTdnbWpkS25wY2tZU1pEa0JkZFltQnNRX05teHp5WWd4VXpWbFl3TTNNQVpqZzjSAWBBVV95cUxPTU01d0ZUbWtnX1p6S2FZOFJiZGQwcGYzZWRvZFFIOTlxOUR2SGdaejFqdEI3enVCLXRDc2o5YTVnUUdic1lrNVg5SS1adlBhUUx0MHRZaXVlMk43cGF5WXI?oc=5\", \"content\": \"한강, 한국 첫 노벨문학상…\\\"어두운 밤에도 우릴 잇는 건 언어\\\"(종합2보) - 연합뉴스\"}, {\"url\": \"https://news.google.com/rss/articles/CBMioAFBVV95cUxNSC1MaVZoMmVGZWktR1NaMDV0OFhLUUxZTXY5TEJyWGdvRnp4WG5JYk9OZkxuMGJXZDQ1cnlwZXBiV0hXX3AtUUhRN1IzeVdZZi1BYjhGbFI1Zk1pOXUzX1llRzRGZmJHbXRKM0RBM2RfSnBoVTA0aTlKSlpPVGJ4N0R5cmg5VDNyOEdMRjFfUkhwUVBLOFBqVGtyeHREZTRw?oc=5\", \"content\": \"아시아 여성 최초 노벨문학상 수상🏅 전세계가 주목한 작가 한강은 누구? - www .oiv .int.\"}, {\"url\": \"https://news.google.com/rss/articles/CBMiYkFVX3lxTE1KOVBHOWdDMTBWYm10bGllVGNPSzhtdXNlSl9Sd25hd2hyTmgzZzJtSVNxeHVuSDdJVGJaX3VaMnlndU5lQkZkLXFpVFpLcXREc1E0dDFoVHBZTU1iNGhDOGFn?oc=5\", \"content\": \"코리아넷뉴스 - 한강, 노벨문학상 수상 후 첫 산문집 '빛과 실' 24일 출간 | Kocis - 국제문화홍보정책실\"}, {\"url\": \"https://news.google.com/rss/articles/CBMibEFVX3lxTE9saEhrVVp3RWFCR1B4SWlDVGhtQ2ItcWRXTFdkd05TOXVUMnNqbjBHRVZHV3NKTng0U3A4Zl8yMVFNenZpZ0N5UUtSX2p2RDBvY2k3TjJpQTZDemo1cUhrTjBzUlJYMlVMbWZZQQ?oc=5\", \"content\": \"한강, “언어는 우리를 잇는 실”...‘노벨문학상 수상 강연’ 전문 - 재외동포신문\"}]\n",
            "\n",
            "[ chatbot ]\n",
            "\n",
            "==================================\u001b[1m Ai Message \u001b[0m==================================\n",
            "\n",
            "2024년 노벨 문학상과 관련된 최근 뉴스는 다음과 같습니다.\n",
            "\n",
            "1. **한국인 최초 노벨문학상 수상**: 한강 작가가 한국인으로는 처음으로 노벨 문학상을 수상했습니다. 그녀는 \"어두운 밤에도 우릴 잇는 건 언어\"라는 메시지를 전했습니다. [자세히 보기](https://news.google.com/rss/articles/CBMiW0FVX3lxTE5CbDJEWU1nZUxVTkZmS3lHTTRycEVPZ2lpRUFPYVlwVVYwbGNKaTdnbWpkS25wY2tZU1pEa0JkZFltQnNRX05teHp5WWd4VXpWbFl3TTNNQVpqZzjSAWBBVV95cUxPTU01d0ZUbWtnX1p6S2FZOFJiZGQwcGYzZWRvZFFIOTlxOUR2SGdaejFqdEI3enVCLXRDc2o5YTVnUUdic1lrNVg5SS1adlBhUUx0MHRZaXVlMk43cGF5WXI?oc=5)\n",
            "\n",
            "2. **세계가 주목하는 작가 한강**: 한강 작가는 아시아 여성 최초로 노벨문학상을 수상한 작가로, 최근 전세계의 주목을 받고 있습니다. [자세히 보기](https://news.google.com/rss/articles/CBMioAFBVV95cUxNSC1MaVZoMmVGZWktR1NaMDV0OFhLUUxZTXY5TEJyWGdvRnp4WG5JYk9OZkxuMGJXZDQ1cnlwZXBiV0hXX3AtUUhRN1IzeVdZZi1BYjhGbFI1Zk1pOXUzX1llRzRGZmJHbXRKM0RBM2RfSnBoVTA0aTlKSlpPVGJ4N0R5cmg5VDNyOEdMRjFfUkhwUVBLOFBqVGtyeHREZTRw?oc=5)\n",
            "\n",
            "3. **한강의 새로운 저서**: 노벨 문학상 수상 이후 한강의 첫 산문집 '빛과 실'이 24일 출간될 예정입니다. [자세히 보기](https://news.google.com/rss/articles/CBMiYkFVX3lxTE1KOVBHOWdDMTBWYm10bGllVGNPSzhtdXNlSl9Sd25hd2hyTmgzZzJtSVNxeHVuSDdJVGJaX3VaMnlndU5lQkZkLXFpVFpLcXREc1E0dDFoVHBZTU1iNGhDOGFn?oc=5)\n",
            "\n",
            "4. **노벨문학상 수상 강연**: 한강이 \"언어는 우리를 잇는 실\"이라는 주제로 강연을 했습니다. [자세히 보기](https://news.google.com/rss/articles/CBMibEFVX3lxTE9saEhrVVp3RWFCR1B4SWlDVGhtQ2ItcWRXTFdkd05TOXVUMnNqbjBHRVZHV3NKTng0U3A4Zl8yMVFNenZpZ0N5UUtSX2p2RDBvY2k3TjJpQTZDemo1cUhrTjBzUlJYMlVMbWZZQQ?oc=5)\n",
            "\n",
            "이와 같은 뉴스들이 2024년 노벨 문학상 수상 관련하여 보도되고 있습니다.\n"
          ]
        }
      ],
      "source": [
        "for event in graph.stream(input=input, config=config):\n",
        "    for key, value in event.items():\n",
        "        print(f\"\\n[ {key} ]\\n\")\n",
        "        # value 에 messages 가 존재하는 경우\n",
        "        if \"messages\" in value:\n",
        "            messages = value[\"messages\"]\n",
        "            # 가장 최근 메시지 1개만 출력합니다.\n",
        "            value[\"messages\"][-1].pretty_print()\n"
      ]
    },
    {
      "cell_type": "code",
      "execution_count": 6,
      "metadata": {
        "colab": {
          "base_uri": "https://localhost:8080/"
        },
        "id": "37o7bf0mHTc9",
        "outputId": "90ad52b3-ef89-4ff2-e934-61e97ca313bd"
      },
      "outputs": [
        {
          "name": "stdout",
          "output_type": "stream",
          "text": [
            "['messages', 'dummy_data', '__start__', '__pregel_tasks', 'branch:to:chatbot', 'branch:to:tools']\n"
          ]
        }
      ],
      "source": [
        "# channels 에 정의된 키 목록을 출력합니다.\n",
        "print(list(graph.channels.keys()))\n"
      ]
    },
    {
      "cell_type": "code",
      "execution_count": 7,
      "metadata": {
        "colab": {
          "base_uri": "https://localhost:8080/"
        },
        "id": "98HnvfMOHVDh",
        "outputId": "27a4ad2c-5bdc-4af9-d2eb-e527c27f1439"
      },
      "outputs": [
        {
          "name": "stdout",
          "output_type": "stream",
          "text": [
            "\n",
            "[ chatbot ]\n",
            "\n",
            "dict_keys(['dummy_data'])\n",
            "[chatbot] 호출, dummy data\n",
            "\n",
            "[ tools ]\n",
            "\n",
            "\n",
            "[ chatbot ]\n",
            "\n",
            "dict_keys(['dummy_data'])\n",
            "[chatbot] 호출, dummy data\n"
          ]
        }
      ],
      "source": [
        "# 질문\n",
        "question = \"2024년 노벨 문학상 관련 뉴스를 알려주세요.\"\n",
        "\n",
        "# 초기 입력 State 를 정의\n",
        "input = State(dummy_data=\"테스트 문자열\", messages=[(\"user\", question)])\n",
        "\n",
        "# config 설정\n",
        "config = RunnableConfig(\n",
        "    recursion_limit=10,  # 최대 10개의 노드까지 방문. 그 이상은 RecursionError 발생\n",
        "    configurable={\"thread_id\": \"1\"},  # 스레드 ID 설정\n",
        "    tags=[\"my-rag\"],  # Tag\n",
        ")\n",
        "\n",
        "for event in graph.stream(\n",
        "    input=input,\n",
        "    config=config,\n",
        "    output_keys=[\"dummy_data\"],  # messages 를 추가해 보세요!\n",
        "):\n",
        "    for key, value in event.items():\n",
        "        # key 는 노드 이름\n",
        "        print(f\"\\n[ {key} ]\\n\")\n",
        "\n",
        "        # dummy_data 가 존재하는 경우\n",
        "        if value:\n",
        "            # value 는 노드의 출력값\n",
        "            print(value.keys())\n",
        "            # dummy_data key 가 존재하는 경우\n",
        "            if \"dummy_data\" in value:\n",
        "                print(value[\"dummy_data\"])\n"
      ]
    },
    {
      "cell_type": "code",
      "execution_count": 8,
      "metadata": {
        "colab": {
          "base_uri": "https://localhost:8080/"
        },
        "id": "OeIEI4h5HWam",
        "outputId": "6818cb23-3c14-4644-99a6-9201de5d5f06"
      },
      "outputs": [
        {
          "name": "stdout",
          "output_type": "stream",
          "text": [
            "\n",
            "[ chatbot ]\n",
            "\n",
            "\n",
            "\n",
            "[ tools ]\n",
            "\n",
            "[{\"url\": \"https://news.google.com/rss/articles/CBMiTkFVX3lxTE1WR2QxeXktVFlQVWE2NUgwVjM4SWJfX0JZVk1Tdm5abWxfQk5NV1FxVmQybnIycF91SmdzNHlaQTBsWEczQ1FuUWFIZUJJdw?oc=5\", \"content\": \"[1만호 100대 사건]〈96〉한강, 한국인 최초 노벨문학상 수상 - 전자신문\"}, {\"url\": \"https://news.google.com/rss/articles/CBMioAFBVV95cUxNSC1MaVZoMmVGZWktR1NaMDV0OFhLUUxZTXY5TEJyWGdvRnp4WG5JYk9OZkxuMGJXZDQ1cnlwZXBiV0hXX3AtUUhRN1IzeVdZZi1BYjhGbFI1Zk1pOXUzX1llRzRGZmJHbXRKM0RBM2RfSnBoVTA0aTlKSlpPVGJ4N0R5cmg5VDNyOEdMRjFfUkhwUVBLOFBqVGtyeHREZTRw?oc=5\", \"content\": \"아시아 여성 최초 노벨문학상 수상🏅 전세계가 주목한 작가 한강은 누구? - www .oiv .int.\"}, {\"url\": \"https://news.google.com/rss/articles/CBMibEFVX3lxTE9saEhrVVp3RWFCR1B4SWlDVGhtQ2ItcWRXTFdkd05TOXVUMnNqbjBHRVZHV3NKTng0U3A4Zl8yMVFNenZpZ0N5UUtSX2p2RDBvY2k3TjJpQTZDemo1cUhrTjBzUlJYMlVMbWZZQQ?oc=5\", \"content\": \"한강, “언어는 우리를 잇는 실”...‘노벨문학상 수상 강연’ 전문 - 재외동포신문\"}, {\"url\": \"https://news.google.com/rss/articles/CBMickFVX3lxTE1uTEo1X21rV25oM0V3c2xpSmpWdTRoQmZ4cWV5WWVKSldPYmZOSFhPcVd0ZUgwdkxoeUdpX2VQQVpLaFZ0QVBRbkdFUzFraVExRE1tcnZlaDZEaHdFM0djVkp1TG83WWc1Yjd0eDgxZldHdw?oc=5\", \"content\": \"노벨문학상 한강의 언어들, 어디서 헤엄쳐 왔나 - 한겨레\"}, {\"url\": \"https://news.google.com/rss/articles/CBMiaEFVX3lxTE4xVV96b1c5cjZNWHl5VFd3aGZkcDNoSDN0Vmp6a3RNVVl2VG1FOW96RTFOUnpBYkR2OEx3VGRsS3RaQTdvQ3FkcmFRQmd5UmtMd1labGFQS2J6YmpKZ1p4S2xXTUVXQjVS0gFsQVVfeXFMTlctOUd6VTVQRXF6dWpTNnJ2S1d1dndJdGFGN2I1Yjl1bEhVNU03UmpSNUtONFZZZ045bmNZMGgxX3NlQjJydGwzUnpwamR6V0hSTWVFbEVKWVA5b3JxQ1NQWmNfVXRhR1AyZ2lG?oc=5\", \"content\": \"2024 노벨문학상의 주인공, ‘한강’의 대표 문장 6 - 덴 매거진\"}]\n",
            "\n",
            "[ chatbot ]\n",
            "\n",
            "2024년 노벨 문학상에 관한 여러 뉴스 기사가 있습니다. 다음은 주요 내용입니다:\n",
            "\n",
            "1. **[한강, 한국인 최초 노벨문학상 수상](https://news.google.com/rss/articles/CBMiTkFVX3lxTE1WR2QxeXktVFlQVWE2NUgwVjM4SWJfX0JZVk1Tdm5abWxfQk5NV1FxVmQybnIycF91SmdzNHlaQTBsWEczQ1FuUWFIZUJJdw?oc=5)** - 한강이 한국인 최초로 노벨문학상을 수상했다는 소식입니다. (전자신문)\n",
            "\n",
            "2. **[아시아 여성 최초 노벨문학상 수상, 한강은 누구?](https://news.google.com/rss/articles/CBMioAFBVV95cUxNSC1MaVZoMmVGZWktR1NaMDV0OFhLUUxZTXY5TEJyWGdvRnp4WG5JYk9OZkxuMGJXZDQ1cnlwZXBiV0hXX3AtUUhRN1IzeVdZZi1BYjhGbFI1Zk1pOXUzX1llRzRGZmJHbXRKM0RBM2RfSnBoVTA0aTlKSlpPVGJ4N0R5cmg5VDNyOEdMRjFfUkhwUVBLOFBqVGtyeHREZTRw?oc=5)** - 한강이 아시아 여성으로서는 최초로 노벨문학상을 수상한 것을 기념하는 기사입니다. (OIV)\n",
            "\n",
            "3. **[한강의 ‘노벨문학상 수상 강연’ 전문](https://news.google.com/rss/articles/CBMibEFVX3lxTE9saEhrVVp3RWFCR1B4SWlDVGhtQ2ItcWRXTFdkd05TOXVUMnNqbjBHRVZHV3NKTng0U3A4Zl8yMVFNenZpZ0N5UUtSX2p2RDBvY2k3TjJpQTZDemo1cUhrTjBzUlJYMlVMbWZZQQ?oc=5)** - 한강이 수상 강연에서 언어의 중요성에 대해 이야기한 내용을 다룬 기사입니다. (재외동포신문)\n",
            "\n",
            "4. **[한강의 언어들, 어디서 헤엄쳐 왔나](https://news.google.com/rss/articles/CBMickFVX3lxTE1uTEo1X21rV25oM0V3c2xpSmpWdTRoQmZ4cWV5WWVKSldPYmZOSFhPcVd0ZUgwdkxoeUdpX2VQQVpLaFZ0QVBRbkdFUzFraVExRE1tcnZlaDZEaHdFM0djVkp1TG83WWc1Yjd0eDgxZldHdw?oc=5)** - 한강의 작품 세계와 언어에 대한 깊이 있는 토론이 담긴 기사입니다. (한겨레)\n",
            "\n",
            "5. **[2024 노벨문학상의 주인공, ‘한강’의 대표 문장 6](https://news.google.com/rss/articles/CBMiaEFVX3lxTE4xVV96b1c5cjZNWHl5VFd3aGZkcDNoSDN0Vmp6a3RNVVl2VG1FOW96RTFOUnpBYkR2OEx3VGRsS3RaQTdvQ3FkcmFRQmd5UmtMd1labGFQS2J6YmpKZ1p4S2xXTUVXQjVS0gFsQVVfeXFMTlctOUd6VTVQRXF6dWpTNnJ2S1d1dndJdGFGN2I1Yjl1bEhVNU03UmpSNUtONFZZZ045bmNZMGgxX3NlQjJydGwzUnpwamR6V0hSTWVFbEVKWVA5b3JxQ1NQWmNfVXRhR1AyZ2lG?oc=5)** - 한강의 대표적인 문장을 소개하는 기사입니다. (덴 매거진)\n",
            "\n",
            "이 기사들을 통해 한강 작가와 2024년 노벨 문학상에 대한 다양한 관점을 얻을 수 있습니다.\n"
          ]
        }
      ],
      "source": [
        "# 질문\n",
        "question = \"2024년 노벨 문학상 관련 뉴스를 알려주세요.\"\n",
        "\n",
        "# 초기 입력 State 를 정의\n",
        "input = State(dummy_data=\"테스트 문자열\", messages=[(\"user\", question)])\n",
        "\n",
        "# config 설정\n",
        "config = RunnableConfig(\n",
        "    recursion_limit=10,  # 최대 10개의 노드까지 방문. 그 이상은 RecursionError 발생\n",
        "    configurable={\"thread_id\": \"1\"},  # 스레드 ID 설정\n",
        "    tags=[\"my-rag\"],  # Tag\n",
        ")\n",
        "\n",
        "for event in graph.stream(\n",
        "    input=input,\n",
        "    config=config,\n",
        "    output_keys=[\"messages\"],  # messages 만 출력\n",
        "):\n",
        "    for key, value in event.items():\n",
        "        # messages 가 존재하는 경우\n",
        "        if value and \"messages\" in value:\n",
        "            # key 는 노드 이름\n",
        "            print(f\"\\n[ {key} ]\\n\")\n",
        "            # messages 의 마지막 요소의 content 를 출력합니다.\n",
        "            print(value[\"messages\"][-1].content)\n"
      ]
    },
    {
      "cell_type": "code",
      "execution_count": 9,
      "metadata": {
        "colab": {
          "base_uri": "https://localhost:8080/"
        },
        "id": "SO3M5QxtHYPk",
        "outputId": "f3964ce7-d893-4e83-bf61-e468ef079e7a"
      },
      "outputs": [
        {
          "name": "stdout",
          "output_type": "stream",
          "text": [
            "\n",
            "[ messages ]\n",
            "\n",
            "메시지 개수: 1\n",
            "\n",
            "[ dummy_data ]\n",
            "\n",
            "==============================  단계  ==============================\n",
            "\n",
            "[ messages ]\n",
            "\n",
            "메시지 개수: 2\n",
            "\n",
            "[ dummy_data ]\n",
            "\n",
            "==============================  단계  ==============================\n",
            "\n",
            "[ messages ]\n",
            "\n",
            "메시지 개수: 3\n",
            "\n",
            "[ dummy_data ]\n",
            "\n",
            "==============================  단계  ==============================\n",
            "\n",
            "[ messages ]\n",
            "\n",
            "메시지 개수: 4\n",
            "\n",
            "[ dummy_data ]\n",
            "\n",
            "==============================  단계  ==============================\n"
          ]
        }
      ],
      "source": [
        "# 질문\n",
        "question = \"2024년 노벨 문학상 관련 뉴스를 알려주세요.\"\n",
        "\n",
        "# 초기 입력 State 를 정의\n",
        "input = State(dummy_data=\"테스트 문자열\", messages=[(\"user\", question)])\n",
        "\n",
        "# config 설정\n",
        "config = RunnableConfig(\n",
        "    recursion_limit=10,  # 최대 10개의 노드까지 방문. 그 이상은 RecursionError 발생\n",
        "    configurable={\"thread_id\": \"1\"},  # 스레드 ID 설정\n",
        "    tags=[\"my-rag\"],  # Tag\n",
        ")\n",
        "\n",
        "# values 모드로 스트리밍 출력\n",
        "for event in graph.stream(\n",
        "    input=input,\n",
        "    stream_mode=\"values\",  # 기본값\n",
        "):\n",
        "    for key, value in event.items():\n",
        "        # key 는 state 의 key 값\n",
        "        print(f\"\\n[ {key} ]\\n\")\n",
        "        if key == \"messages\":\n",
        "            print(f\"메시지 개수: {len(value)}\")\n",
        "            # print(value)\n",
        "    print(\"===\" * 10, \" 단계 \", \"===\" * 10)\n"
      ]
    },
    {
      "cell_type": "code",
      "execution_count": 10,
      "metadata": {
        "colab": {
          "base_uri": "https://localhost:8080/"
        },
        "id": "NQXi29wlHZ3E",
        "outputId": "3f9151d9-5cb7-4848-d67f-366dc6e47f99"
      },
      "outputs": [
        {
          "name": "stdout",
          "output_type": "stream",
          "text": [
            "\n",
            "[ chatbot ]\n",
            "\n",
            "dict_keys(['messages', 'dummy_data'])\n",
            "메시지 개수: 1\n",
            "==============================  단계  ==============================\n",
            "\n",
            "[ tools ]\n",
            "\n",
            "dict_keys(['messages'])\n",
            "메시지 개수: 1\n",
            "==============================  단계  ==============================\n",
            "\n",
            "[ chatbot ]\n",
            "\n",
            "dict_keys(['messages', 'dummy_data'])\n",
            "메시지 개수: 1\n",
            "==============================  단계  ==============================\n"
          ]
        }
      ],
      "source": [
        "# 질문\n",
        "question = \"2024년 노벨 문학상 관련 뉴스를 알려주세요.\"\n",
        "\n",
        "# 초기 입력 State 를 정의\n",
        "input = State(dummy_data=\"테스트 문자열\", messages=[(\"user\", question)])\n",
        "\n",
        "# config 설정\n",
        "config = RunnableConfig(\n",
        "    recursion_limit=10,  # 최대 10개의 노드까지 방문. 그 이상은 RecursionError 발생\n",
        "    configurable={\"thread_id\": \"1\"},  # 스레드 ID 설정\n",
        "    tags=[\"my-rag\"],  # Tag\n",
        ")\n",
        "\n",
        "# updates 모드로 스트리밍 출력\n",
        "for event in graph.stream(\n",
        "    input=input,\n",
        "    stream_mode=\"updates\",  # 기본값\n",
        "):\n",
        "    for key, value in event.items():\n",
        "        # key 는 노드 이름\n",
        "        print(f\"\\n[ {key} ]\\n\")\n",
        "\n",
        "        # value 는 노드의 출력값\n",
        "        print(value.keys())\n",
        "\n",
        "        # value 에는 state 가 dict 형태로 저장(values 의 key 값)\n",
        "        if \"messages\" in value:\n",
        "            print(f\"메시지 개수: {len(value['messages'])}\")\n",
        "            # print(value[\"messages\"])\n",
        "    print(\"===\" * 10, \" 단계 \", \"===\" * 10)\n"
      ]
    },
    {
      "cell_type": "code",
      "execution_count": 11,
      "metadata": {
        "colab": {
          "base_uri": "https://localhost:8080/"
        },
        "id": "ChgSNsp5Hbfo",
        "outputId": "5f71cf3d-02ef-4f4e-e3fc-66fb606ae0b1"
      },
      "outputs": [
        {
          "name": "stdout",
          "output_type": "stream",
          "text": [
            "\n",
            "[chatbot]\n",
            "\n",
            "dict_keys(['messages', 'dummy_data'])\n",
            "[AIMessage(content='', additional_kwargs={'tool_calls': [{'id': 'call_7rmdNynsFuCIpqDvNy6rcW1s', 'function': {'arguments': '{\"query\":\"2024년 노벨 문학상\"}', 'name': 'search_keyword'}, 'type': 'function'}], 'refusal': None}, response_metadata={'token_usage': {'completion_tokens': 21, 'prompt_tokens': 57, 'total_tokens': 78, 'completion_tokens_details': {'accepted_prediction_tokens': 0, 'audio_tokens': 0, 'reasoning_tokens': 0, 'rejected_prediction_tokens': 0}, 'prompt_tokens_details': {'audio_tokens': 0, 'cached_tokens': 0}}, 'model_name': 'gpt-4o-mini-2024-07-18', 'system_fingerprint': 'fp_560af6e559', 'id': 'chatcmpl-CBy0FPmlp4KmljCh6D2B4xVT1qXPc', 'service_tier': 'default', 'finish_reason': 'tool_calls', 'logprobs': None}, id='run--02713e1f-3f08-46f1-8e7c-8b906b3163e4-0', tool_calls=[{'name': 'search_keyword', 'args': {'query': '2024년 노벨 문학상'}, 'id': 'call_7rmdNynsFuCIpqDvNy6rcW1s', 'type': 'tool_call'}], usage_metadata={'input_tokens': 57, 'output_tokens': 21, 'total_tokens': 78, 'input_token_details': {'audio': 0, 'cache_read': 0}, 'output_token_details': {'audio': 0, 'reasoning': 0}})]\n",
            "메시지 개수: 1\n",
            "==============================  단계  ==============================\n",
            "\n",
            "[__interrupt__]\n",
            "\n",
            "==============================  단계  ==============================\n"
          ]
        }
      ],
      "source": [
        "# 질문\n",
        "question = \"2024년 노벨 문학상 관련 뉴스를 알려주세요.\"\n",
        "\n",
        "# 초기 입력 State 를 정의\n",
        "input = State(dummy_data=\"테스트 문자열\", messages=[(\"user\", question)])\n",
        "\n",
        "# config 설정\n",
        "config = RunnableConfig(\n",
        "    recursion_limit=10,  # 최대 10개의 노드까지 방문. 그 이상은 RecursionError 발생\n",
        "    configurable={\"thread_id\": \"1\"},  # 스레드 ID 설정\n",
        "    tags=[\"my-rag\"],  # Tag\n",
        ")\n",
        "\n",
        "for event in graph.stream(\n",
        "    input=input,\n",
        "    config=config,\n",
        "    stream_mode=\"updates\",  # 기본값\n",
        "    interrupt_before=[\"tools\"],  # tools 노드 이전에 스트리밍 중단\n",
        "):\n",
        "    for key, value in event.items():\n",
        "        # key 는 노드 이름\n",
        "        print(f\"\\n[{key}]\\n\")\n",
        "\n",
        "        # value 는 노드의 출력값\n",
        "        if isinstance(value, dict):\n",
        "            print(value.keys())\n",
        "            if \"messages\" in value:\n",
        "                print(value[\"messages\"])\n",
        "\n",
        "        # value 에는 state 가 dict 형태로 저장(values 의 key 값)\n",
        "        if \"messages\" in value:\n",
        "            print(f\"메시지 개수: {len(value['messages'])}\")\n",
        "    print(\"===\" * 10, \" 단계 \", \"===\" * 10)\n"
      ]
    },
    {
      "cell_type": "code",
      "execution_count": 12,
      "metadata": {
        "colab": {
          "base_uri": "https://localhost:8080/"
        },
        "id": "nJo77RRMHdAd",
        "outputId": "ed7e26b7-32fa-4bb1-9b1b-bb32b8bc867b"
      },
      "outputs": [
        {
          "name": "stdout",
          "output_type": "stream",
          "text": [
            "\n",
            "[__interrupt__]\n",
            "\n",
            "dict_keys(['messages', 'dummy_data'])\n",
            "[AIMessage(content='', additional_kwargs={'tool_calls': [{'id': 'call_PALZ54N2SUEBgu3ScRmkTVZg', 'function': {'arguments': '{\"query\":\"2024년 노벨 문학상\"}', 'name': 'search_keyword'}, 'type': 'function'}], 'refusal': None}, response_metadata={'token_usage': {'completion_tokens': 21, 'prompt_tokens': 57, 'total_tokens': 78, 'completion_tokens_details': {'accepted_prediction_tokens': 0, 'audio_tokens': 0, 'reasoning_tokens': 0, 'rejected_prediction_tokens': 0}, 'prompt_tokens_details': {'audio_tokens': 0, 'cached_tokens': 0}}, 'model_name': 'gpt-4o-mini-2024-07-18', 'system_fingerprint': 'fp_560af6e559', 'id': 'chatcmpl-CBy0GDvytvAp0063wW3M5YHN3jZwB', 'service_tier': 'default', 'finish_reason': 'tool_calls', 'logprobs': None}, id='run--db63cfb1-c94c-4f84-bfe9-938672fee27e-0', tool_calls=[{'name': 'search_keyword', 'args': {'query': '2024년 노벨 문학상'}, 'id': 'call_PALZ54N2SUEBgu3ScRmkTVZg', 'type': 'tool_call'}], usage_metadata={'input_tokens': 57, 'output_tokens': 21, 'total_tokens': 78, 'input_token_details': {'audio': 0, 'cache_read': 0}, 'output_token_details': {'audio': 0, 'reasoning': 0}})]\n",
            "메시지 개수: 1\n",
            "\n",
            "[__interrupt__]\n",
            "\n",
            "dict_keys(['messages'])\n",
            "[ToolMessage(content='[{\"url\": \"https://news.google.com/rss/articles/CBMiTkFVX3lxTE1WR2QxeXktVFlQVWE2NUgwVjM4SWJfX0JZVk1Tdm5abWxfQk5NV1FxVmQybnIycF91SmdzNHlaQTBsWEczQ1FuUWFIZUJJdw?oc=5\", \"content\": \"[1만호 100대 사건]〈96〉한강, 한국인 최초 노벨문학상 수상 - 전자신문\"}, {\"url\": \"https://news.google.com/rss/articles/CBMioAFBVV95cUxNSC1MaVZoMmVGZWktR1NaMDV0OFhLUUxZTXY5TEJyWGdvRnp4WG5JYk9OZkxuMGJXZDQ1cnlwZXBiV0hXX3AtUUhRN1IzeVdZZi1BYjhGbFI1Zk1pOXUzX1llRzRGZmJHbXRKM0RBM2RfSnBoVTA0aTlKSlpPVGJ4N0R5cmg5VDNyOEdMRjFfUkhwUVBLOFBqVGtyeHREZTRw?oc=5\", \"content\": \"아시아 여성 최초 노벨문학상 수상🏅 전세계가 주목한 작가 한강은 누구? - www .oiv .int.\"}, {\"url\": \"https://news.google.com/rss/articles/CBMibEFVX3lxTE9saEhrVVp3RWFCR1B4SWlDVGhtQ2ItcWRXTFdkd05TOXVUMnNqbjBHRVZHV3NKTng0U3A4Zl8yMVFNenZpZ0N5UUtSX2p2RDBvY2k3TjJpQTZDemo1cUhrTjBzUlJYMlVMbWZZQQ?oc=5\", \"content\": \"한강, “언어는 우리를 잇는 실”...‘노벨문학상 수상 강연’ 전문 - 재외동포신문\"}, {\"url\": \"https://news.google.com/rss/articles/CBMickFVX3lxTE1uTEo1X21rV25oM0V3c2xpSmpWdTRoQmZ4cWV5WWVKSldPYmZOSFhPcVd0ZUgwdkxoeUdpX2VQQVpLaFZ0QVBRbkdFUzFraVExRE1tcnZlaDZEaHdFM0djVkp1TG83WWc1Yjd0eDgxZldHdw?oc=5\", \"content\": \"노벨문학상 한강의 언어들, 어디서 헤엄쳐 왔나 - 한겨레\"}, {\"url\": \"https://news.google.com/rss/articles/CBMiaEFVX3lxTE4xVV96b1c5cjZNWHl5VFd3aGZkcDNoSDN0Vmp6a3RNVVl2VG1FOW96RTFOUnpBYkR2OEx3VGRsS3RaQTdvQ3FkcmFRQmd5UmtMd1labGFQS2J6YmpKZ1p4S2xXTUVXQjVS0gFsQVVfeXFMTlctOUd6VTVQRXF6dWpTNnJ2S1d1dndJdGFGN2I1Yjl1bEhVNU03UmpSNUtONFZZZ045bmNZMGgxX3NlQjJydGwzUnpwamR6V0hSTWVFbEVKWVA5b3JxQ1NQWmNfVXRhR1AyZ2lG?oc=5\", \"content\": \"2024 노벨문학상의 주인공, ‘한강’의 대표 문장 6 - 덴 매거진\"}]', name='search_keyword', id='9dc7086d-958d-48a4-80de-142a3971a083', tool_call_id='call_PALZ54N2SUEBgu3ScRmkTVZg')]\n",
            "메시지 개수: 1\n",
            "\n",
            "[__interrupt__]\n",
            "\n"
          ]
        }
      ],
      "source": [
        "# 질문\n",
        "question = \"2024년 노벨 문학상 관련 뉴스를 알려주세요.\"\n",
        "\n",
        "# 초기 입력 State 를 정의\n",
        "input = State(dummy_data=\"테스트 문자열\", messages=[(\"user\", question)])\n",
        "\n",
        "# config 설정\n",
        "config = RunnableConfig(\n",
        "    recursion_limit=10,  # 최대 10개의 노드까지 방문. 그 이상은 RecursionError 발생\n",
        "    configurable={\"thread_id\": \"1\"},  # 스레드 ID 설정\n",
        "    tags=[\"my-rag\"],  # Tag\n",
        ")\n",
        "\n",
        "for event in graph.stream(\n",
        "    input=input,\n",
        "    config=config,\n",
        "    stream_mode=\"updates\",\n",
        "    interrupt_after=[\"tools\"],  # tools 실행 후 interrupt\n",
        "):\n",
        "    for value in event.values():\n",
        "        # key 는 노드 이름\n",
        "        print(f\"\\n[{key}]\\n\")\n",
        "\n",
        "        if isinstance(value, dict):\n",
        "            # value 는 노드의 출력값\n",
        "            print(value.keys())\n",
        "            if \"messages\" in value:\n",
        "                print(value[\"messages\"])\n",
        "\n",
        "        # value 에는 state 가 dict 형태로 저장(values 의 key 값)\n",
        "        if \"messages\" in value:\n",
        "            print(f\"메시지 개수: {len(value['messages'])}\")\n"
      ]
    }
  ],
  "metadata": {
    "colab": {
      "provenance": []
    },
    "kernelspec": {
      "display_name": "Python 3",
      "name": "python3"
    },
    "language_info": {
      "name": "python"
    }
  },
  "nbformat": 4,
  "nbformat_minor": 0
}
