{
  "cells": [
    {
      "cell_type": "markdown",
      "metadata": {
        "id": "f4iKqi8pL2Mq"
      },
      "source": [
        "**Human-in-the-loop**"
      ]
    },
    {
      "cell_type": "code",
      "execution_count": null,
      "metadata": {
        "colab": {
          "base_uri": "https://localhost:8080/"
        },
        "id": "FoFVoyhyLY8A",
        "outputId": "0c62e484-75f3-4363-de03-83eea5a07eec"
      },
      "outputs": [],
      "source": [
        "!pip -q install langchain langchain-openai langchain-community duckduckgo-search gradio langgraph langchain-teddynote\n"
      ]
    },
    {
      "cell_type": "code",
      "execution_count": 3,
      "metadata": {
        "id": "uF2dbpzMLfQX"
      },
      "outputs": [],
      "source": [
        "from typing import Annotated, List, Dict\n",
        "from typing_extensions import TypedDict\n",
        "\n",
        "from langchain_core.tools import tool\n",
        "from langchain_openai import ChatOpenAI\n",
        "from langgraph.checkpoint.memory import MemorySaver\n",
        "from langgraph.graph import StateGraph, START, END\n",
        "from langgraph.graph.message import add_messages\n",
        "from langgraph.prebuilt import ToolNode, tools_condition\n",
        "from langchain_teddynote.graphs import visualize_graph\n",
        "from langchain_teddynote.tools import GoogleNews\n",
        "\n",
        "import os"
      ]
    },
    {
      "cell_type": "code",
      "execution_count": null,
      "metadata": {
        "id": "Sm4sPtvDLdJ9"
      },
      "outputs": [],
      "source": [
        "# OpenAI API 키 설정 (사용자가 입력해야 함)\n",
        "# from google.colab import userdata\n",
        "\n",
        "# api_key=userdata.get('api_key')\n",
        "# api_key2=userdata.get('api_key2')\n",
        "# api_key3=userdata.get('api_key3')\n",
        "# os.environ[\"OPENAI_API_KEY\"] = api_key\n",
        "# os.environ[\"LANGCHAIN_API_KEY\"] = api_key2\n",
        "# os.environ[\"TAVILY_API_KEY\"] = api_key3\n",
        "\n",
        "from dotenv import load_dotenv\n",
        "\n",
        "load_dotenv()\n",
        "# OpenAI API 클라이언트 생성\n",
        "OPENAPI_KEY = os.getenv(\"OPENAI_API_KEY\")\n",
        "LangSmith_KEY = os.getenv(\"LANGCHAIN_API_KEY\")\n",
        "TAVILY_API_KEY = os.getenv(\"TAVILY_API_KEY\")\n",
        "\n",
        "# 2) LangSmith 연동 필수 환경변수\n",
        "os.environ[\"LANGCHAIN_TRACING_V2\"] = \"true\"      # 트레이싱 활성화\n",
        "os.environ[\"LANGSMITH_ENDPOINT\"]   = \"https://api.smith.langchain.com\"  # 기본값\n",
        "os.environ[\"LANGSMITH_PROJECT\"]    = \"langgraph_5\"\n",
        "\n",
        "\n",
        "from langchain_teddynote.tools.tavily import TavilySearch\n",
        "import os\n",
        "\n",
        "# Set the Tavily API key as an environment variable\n",
        "os.environ[\"TAVILY_API_KEY\"] = TAVILY_API_KEY"
      ]
    },
    {
      "cell_type": "code",
      "execution_count": 5,
      "metadata": {
        "id": "D-AaP-jXLkpy"
      },
      "outputs": [],
      "source": [
        "########## 1. 상태 정의 ##########\n",
        "# 상태 정의\n",
        "class State(TypedDict):\n",
        "    # 메시지 목록 주석 추가\n",
        "    messages: Annotated[list, add_messages]\n",
        "\n",
        "\n",
        "########## 2. 도구 정의 및 바인딩 ##########\n",
        "# 도구 초기화\n",
        "# 키워드로 뉴스 검색하는 도구 생성\n",
        "news_tool = GoogleNews()\n",
        "\n",
        "\n",
        "@tool\n",
        "def search_keyword(query: str) -> List[Dict[str, str]]:\n",
        "    \"\"\"Look up news by keyword\"\"\"\n",
        "    news_tool = GoogleNews()\n",
        "    return news_tool.search_by_keyword(query, k=5)\n",
        "\n",
        "\n",
        "tools = [search_keyword]\n",
        "\n",
        "# LLM 초기화\n",
        "llm = ChatOpenAI(model=\"gpt-4o-mini\")\n",
        "\n",
        "# 도구와 LLM 결합\n",
        "llm_with_tools = llm.bind_tools(tools)\n",
        "\n",
        "\n",
        "########## 3. 노드 추가 ##########\n",
        "# 챗봇 함수 정의\n",
        "def chatbot(state: State):\n",
        "    # 메시지 호출 및 반환\n",
        "    return {\"messages\": [llm_with_tools.invoke(state[\"messages\"])]}\n",
        "\n",
        "\n",
        "# 상태 그래프 생성\n",
        "graph_builder = StateGraph(State)\n",
        "\n",
        "# 챗봇 노드 추가\n",
        "graph_builder.add_node(\"chatbot\", chatbot)\n",
        "\n",
        "\n",
        "# 도구 노드 생성 및 추가\n",
        "tool_node = ToolNode(tools=tools)\n",
        "\n",
        "# 도구 노드 추가\n",
        "graph_builder.add_node(\"tools\", tool_node)\n",
        "\n",
        "# 조건부 엣지\n",
        "graph_builder.add_conditional_edges(\n",
        "    \"chatbot\",\n",
        "    tools_condition,\n",
        ")\n",
        "\n",
        "########## 4. 엣지 추가 ##########\n",
        "\n",
        "# tools > chatbot\n",
        "graph_builder.add_edge(\"tools\", \"chatbot\")\n",
        "\n",
        "# START > chatbot\n",
        "graph_builder.add_edge(START, \"chatbot\")\n",
        "\n",
        "# chatbot > END\n",
        "graph_builder.add_edge(\"chatbot\", END)\n",
        "\n",
        "########## 5. MemorySaver 추가 ##########\n",
        "\n",
        "# 메모리 저장소 초기화\n",
        "memory = MemorySaver()"
      ]
    },
    {
      "cell_type": "code",
      "execution_count": 6,
      "metadata": {
        "id": "V0PH72FQLl5C"
      },
      "outputs": [],
      "source": [
        "########## 6. interrupt_before 추가 ##########\n",
        "\n",
        "# 그래프 빌더 컴파일\n",
        "graph = graph_builder.compile(checkpointer=memory)\n"
      ]
    },
    {
      "cell_type": "code",
      "execution_count": 7,
      "metadata": {
        "colab": {
          "base_uri": "https://localhost:8080/",
          "height": 266
        },
        "id": "KSCJnYdiLm72",
        "outputId": "fac77f83-dc63-45ee-8f70-f1135a7490c6"
      },
      "outputs": [
        {
          "data": {
            "image/png": "[encoded data removed]",
            "text/plain": [
              "<IPython.core.display.Image object>"
            ]
          },
          "metadata": {},
          "output_type": "display_data"
        }
      ],
      "source": [
        "########## 7. 그래프 시각화 ##########\n",
        "# 그래프 시각화\n",
        "visualize_graph(graph)\n"
      ]
    },
    {
      "cell_type": "code",
      "execution_count": 8,
      "metadata": {
        "colab": {
          "base_uri": "https://localhost:8080/"
        },
        "id": "stvwmMndLn_f",
        "outputId": "441b0648-55da-4316-f9f4-c1dffdfc5fa5"
      },
      "outputs": [
        {
          "name": "stdout",
          "output_type": "stream",
          "text": [
            "\n",
            "[messages]\n",
            "\n",
            "================================\u001b[1m Human Message \u001b[0m=================================\n",
            "\n",
            "AI 관련 최신 뉴스를 알려주세요.\n",
            "\n",
            "[messages]\n",
            "\n",
            "================================\u001b[1m Human Message \u001b[0m=================================\n",
            "\n",
            "AI 관련 최신 뉴스를 알려주세요.\n",
            "==================================\u001b[1m Ai Message \u001b[0m==================================\n",
            "Tool Calls:\n",
            "  search_keyword (call_tvrub7IcwxoAsDChg24Is64Z)\n",
            " Call ID: call_tvrub7IcwxoAsDChg24Is64Z\n",
            "  Args:\n",
            "    query: AI\n"
          ]
        }
      ],
      "source": [
        "from langchain_teddynote.messages import pretty_print_messages\n",
        "from langchain_core.runnables import RunnableConfig\n",
        "\n",
        "# 질문\n",
        "question = \"AI 관련 최신 뉴스를 알려주세요.\"\n",
        "\n",
        "# 초기 입력 State 를 정의\n",
        "input = State(messages=[(\"user\", question)])\n",
        "\n",
        "# config 설정\n",
        "config = RunnableConfig(\n",
        "    recursion_limit=10,  # 최대 10개의 노드까지 방문. 그 이상은 RecursionError 발생\n",
        "    configurable={\"thread_id\": \"1\"},  # 스레드 ID 설정\n",
        "    tags=[\"my-rag\"],  # Tag\n",
        ")\n",
        "\n",
        "for event in graph.stream(\n",
        "    input=input,\n",
        "    config=config,\n",
        "    stream_mode=\"values\",\n",
        "    interrupt_before=[\"tools\"],  # tools 실행 전 interrupt(tools 노드 실행 전 중단)\n",
        "):\n",
        "    for key, value in event.items():\n",
        "        # key 는 노드 이름\n",
        "        print(f\"\\n[{key}]\\n\")\n",
        "\n",
        "        # value 는 노드의 출력값\n",
        "        # print(value)\n",
        "        pretty_print_messages(value)\n",
        "\n",
        "        # value 에는 state 가 dict 형태로 저장(values 의 key 값)\n",
        "        if \"messages\" in value:\n",
        "            print(f\"메시지 개수: {len(value['messages'])}\")\n"
      ]
    },
    {
      "cell_type": "code",
      "execution_count": 9,
      "metadata": {
        "colab": {
          "base_uri": "https://localhost:8080/"
        },
        "id": "pfvEUcnuLphA",
        "outputId": "b13c45d7-ce97-4720-8dfd-f7e561c91a6c"
      },
      "outputs": [
        {
          "data": {
            "text/plain": [
              "('tools',)"
            ]
          },
          "execution_count": 9,
          "metadata": {},
          "output_type": "execute_result"
        }
      ],
      "source": [
        "# 그래프 상태 스냅샷 생성\n",
        "snapshot = graph.get_state(config)\n",
        "\n",
        "# 다음 스냅샷 상태\n",
        "snapshot.next\n"
      ]
    },
    {
      "cell_type": "code",
      "execution_count": 10,
      "metadata": {
        "colab": {
          "base_uri": "https://localhost:8080/"
        },
        "id": "wPRIZxleLq5_",
        "outputId": "d6e5469c-ffdd-4927-946e-fa2f7ea8eb35"
      },
      "outputs": [
        {
          "name": "stdout",
          "output_type": "stream",
          "text": [
            "    \u001b[96mindex [0]\u001b[0m\n",
            "        \u001b[94mname\u001b[0m: \"search_keyword\"\n",
            "        \u001b[94margs\u001b[0m: {\"query\": \"AI\"}\n",
            "        \u001b[94mid\u001b[0m: \"call_tvrub7IcwxoAsDChg24Is64Z\"\n",
            "        \u001b[94mtype\u001b[0m: \"tool_call\"\n"
          ]
        }
      ],
      "source": [
        "from langchain_teddynote.messages import display_message_tree\n",
        "\n",
        "# 메시지 스냅샷에서 마지막 메시지 추출\n",
        "existing_message = snapshot.values[\"messages\"][-1]\n",
        "\n",
        "# 메시지 트리 표시\n",
        "display_message_tree(existing_message.tool_calls)\n"
      ]
    },
    {
      "cell_type": "code",
      "execution_count": 11,
      "metadata": {
        "colab": {
          "base_uri": "https://localhost:8080/"
        },
        "id": "0xhpHWoQLsJs",
        "outputId": "2d6a090a-26e6-4915-fb1f-d754cfd0d1c1"
      },
      "outputs": [
        {
          "name": "stdout",
          "output_type": "stream",
          "text": [
            "==================================\u001b[1m Ai Message \u001b[0m==================================\n",
            "Tool Calls:\n",
            "  search_keyword (call_tvrub7IcwxoAsDChg24Is64Z)\n",
            " Call ID: call_tvrub7IcwxoAsDChg24Is64Z\n",
            "  Args:\n",
            "    query: AI\n",
            "=================================\u001b[1m Tool Message \u001b[0m=================================\n",
            "Name: search_keyword\n",
            "\n",
            "[{\"url\": \"https://news.google.com/rss/articles/CBMiVkFVX3lxTE1vT3NVaDQwbVI1S2ZZdXJhZWdrUWs0dDZtREhTMTJub01ISFAwYlNJSC1vTXM3c3N1WHp2VEVsRms4aFF2YXJ3bFF2U0tLaHZZYVNacWp3?oc=5\", \"content\": \"AI는 인간 통제 안에 있는 '도구'일까 - 지디넷코리아\"}, {\"url\": \"https://news.google.com/rss/articles/CBMiakFVX3lxTE9wVVVoQ2o0clEzZHJVNnlwNTJDbXNTSE90ekpjaDNtcERrNmxiSG1UMVdkSU1TamI0bEpTNEQ0cWZhenA0M0NodXNlSEpNQzVWZEdQTU5iRFhSeVR5TFhhQ1BxakFsMEJyMFE?oc=5\", \"content\": \"애플, 이번에는 로봇공학 수석 AI 연구원 추가 이탈 - AI타임스\"}, {\"url\": \"https://news.google.com/rss/articles/CBMiTkFVX3lxTFBjY2ZzN2VaS2tlN2NmNjJBV2NrN0hDd1pTVXlrUTNqTXJzQUNzeVRZMlVNWUxCZHdta1pGamxsU0x0elBSSFBXd0Yyd2ZmZw?oc=5\", \"content\": \"[IFA 2025]삼성전자, 현실이 된 '미래 AI 홈' 구현 - 전자신문\"}, {\"url\": \"https://news.google.com/rss/articles/CBMigwFBVV95cUxPLXoybVlweWlHN3M0QUpCZFgtc0lHM2VxN1UxaGphS3NYdi1ReDdSUkxxNGVfRWxGV2xvb1FOZlJTY1hmZFVQeTNWTmVNZ2cwV3ktSllnUDMyczVfaHNsTkVwNy1mWHFOSmpkY083b3lfXzhmSjdUU2xKbjZWMkVFa0Z5Y9IBlwFBVV95cUxON01SOTl3R2tCMHItd29GeDRvMUNDZE1HZFkzSTUwRWwtbHF0TmFiRmVpQkNUMzdpS3kyQi1tUHA2OTN6TDF6SWI5STNFeWZDaDRwVXUtYkVmZXR0ZG40OWJTMk9tZDNNWkl1VkRQbnFIRENJMVVRRFZtRVRPMUVVWmdmdXpycDdpWEVpdXg3NVBscldJV19N?oc=5\", \"content\": \"“AI 가전은 뉴노멀”… IFA서 ‘AI 디테일’ 확장에 사활 건 기업들 - 조선일보\"}, {\"url\": \"https://news.google.com/rss/articles/CBMiU0FVX3lxTE1oTUNQNHVmc19iemM4MEpoR09WVGVBSHNUYi0zcWJOb1RrYnUtdWRISThkN3kwVkl2aEJQek5kb3JWZWd0M19seElod19CZGo1SkNF?oc=5\", \"content\": \"삼성전자, IFA에서 미래의 일상 'AI홈' 선보여 - 네이트\"}]\n",
            "==================================\u001b[1m Ai Message \u001b[0m==================================\n",
            "\n",
            "최신 AI 관련 뉴스는 다음과 같습니다:\n",
            "\n",
            "1. [AI는 인간 통제 안에 있는 '도구'일까](https://news.google.com/rss/articles/CBMiVkFVX3lxTE1vT3NVaDQwbVI1S2ZZdXJhZWdrUWs0dDZtREhTMTJub01ISFAwYlNJSC1vTXM3c3N1WHp2VEVsRms4aFF2YXJ3bFF2U0tLaHZZYVNacWp3?oc=5) - 지디넷코리아\n",
            "2. [애플, 이번에는 로봇공학 수석 AI 연구원 추가 이탈](https://news.google.com/rss/articles/CBMiakFVX3lxTE9wVVVoQ2o0clEzZHJVNnlwNTJDbXNTSE90ekpjaDNtcERrNmxiSG1UMVdkSU1TamI0bEpTNEQ0cWZhenA0M0NodXNlSEpNQzVWZEdQTU5iRFhSeVR5TFhhQ1BxakFsMEJyMFE?oc=5) - AI타임스\n",
            "3. [삼성전자, 현실이 된 '미래 AI 홈' 구현](https://news.google.com/rss/articles/CBMiTkFVX3lxTFBjY2ZzN2VaS2tlN2NmNjJBV2NrN0hDd1pTVXlrUTNqTXJzQUNzeVRZMlVNWUxCZHdta1pGamxsU0x0elBSSFBXd0Yyd2ZmZw?oc=5) - 전자신문\n",
            "4. [“AI 가전은 뉴노멀”… IFA서 ‘AI 디테일’ 확장에 사활 건 기업들](https://news.google.com/rss/articles/CBMigwFBVV95cUxPLXoybVlweWlHN3M0QUpCZFgtc0lHM2VxN1UxaGphS3NYdi1ReDdSUkxxNGVfRWxGV2xvb1FOZlJTY1hmZFVQeTNWTmVNZ2cwV3ktSllnUDMyczVfaHNsTkVwNy1mWHFOSmpkY083b3lfXzhmSjdUU2xKbjZWMkVFa0Z5Y9IBlwFBVV95cUxON01SOTl3R2tCMHItd29GeDRvMUNDZE1HZFkzSTUwRWwtbHF0TmFiRmVpQkNUMzdpS3kyQi1tUHA2OTN6TDF6SWI5STNFeWZDaDRwVXUtYkVmZXR0ZG40OWJTMk9tZDNNWkl1VkRQbnFIRENJMVVRRFZtRVRPMUVVWmdmdXpycDdpWEVpdXg3NVBscldJV19N?oc=5) - 조선일보\n",
            "5. [삼성전자, IFA에서 미래의 일상 'AI홈' 선보여](https://news.google.com/rss/articles/CBMiU0FVX3lxTE1oTUNQNHVmc19iemM4MEpoR09WVGVBSHNUYi0zcWJOb1RrYnUtdWRISThkN3kwVkl2aEJQek5kb3JWZWd0M19seElod19CZGo1SkNF?oc=5) - 네이트\n",
            "\n",
            "관심 있는 기사 링크를 클릭하시면 더 자세한 내용을 보실 수 있습니다.\n"
          ]
        }
      ],
      "source": [
        "# `None`는 현재 상태에 아무것도 추가하지 않음\n",
        "events = graph.stream(None, config, stream_mode=\"values\")\n",
        "\n",
        "# 이벤트 반복 처리\n",
        "for event in events:\n",
        "    # 메시지가 이벤트에 포함된 경우\n",
        "    if \"messages\" in event:\n",
        "        # 마지막 메시지의 예쁜 출력\n",
        "        event[\"messages\"][-1].pretty_print()\n"
      ]
    },
    {
      "cell_type": "code",
      "execution_count": 12,
      "metadata": {
        "colab": {
          "base_uri": "https://localhost:8080/"
        },
        "id": "gsjvJGBgLtuc",
        "outputId": "8252f648-81f6-4161-8287-5e174e715ebe"
      },
      "outputs": [
        {
          "name": "stdout",
          "output_type": "stream",
          "text": [
            "메시지 수:  4 다음 노드:  ()\n",
            "--------------------------------------------------------------------------------\n",
            "메시지 수:  3 다음 노드:  ('chatbot',)\n",
            "--------------------------------------------------------------------------------\n",
            "메시지 수:  2 다음 노드:  ('tools',)\n",
            "--------------------------------------------------------------------------------\n",
            "메시지 수:  1 다음 노드:  ('chatbot',)\n",
            "--------------------------------------------------------------------------------\n",
            "메시지 수:  0 다음 노드:  ('__start__',)\n",
            "--------------------------------------------------------------------------------\n"
          ]
        }
      ],
      "source": [
        "to_replay = None\n",
        "\n",
        "# 상태 기록 가져오기\n",
        "for state in graph.get_state_history(config):\n",
        "    # 메시지 수 및 다음 상태 출력\n",
        "    print(\"메시지 수: \", len(state.values[\"messages\"]), \"다음 노드: \", state.next)\n",
        "    print(\"-\" * 80)\n",
        "    # 특정 상태 선택 기준: 채팅 메시지 수\n",
        "    if len(state.values[\"messages\"]) == 3:\n",
        "        to_replay = state\n"
      ]
    },
    {
      "cell_type": "code",
      "execution_count": 13,
      "metadata": {
        "colab": {
          "base_uri": "https://localhost:8080/"
        },
        "id": "gekpyvNLLvBv",
        "outputId": "6c6b4951-6fbd-46c4-f0c0-2c0de536a331"
      },
      "outputs": [
        {
          "name": "stdout",
          "output_type": "stream",
          "text": [
            "('chatbot',)\n",
            "{'configurable': {'thread_id': '1', 'checkpoint_ns': '', 'checkpoint_id': '1f089611-144c-6bc6-8002-7f44f8bd4be6'}}\n"
          ]
        }
      ],
      "source": [
        "# 다음 항목의 다음 요소 출력\n",
        "print(to_replay.next)\n",
        "\n",
        "# 다음 항목의 설정 정보 출력\n",
        "print(to_replay.config)\n"
      ]
    },
    {
      "cell_type": "code",
      "execution_count": 14,
      "metadata": {
        "colab": {
          "base_uri": "https://localhost:8080/"
        },
        "id": "TePPlnFlLwMd",
        "outputId": "c8554b2e-9ea2-4db7-f745-e84f7a0c8ad3"
      },
      "outputs": [
        {
          "data": {
            "text/plain": [
              "{'configurable': {'thread_id': '1',\n",
              "  'checkpoint_ns': '',\n",
              "  'checkpoint_id': '1f089611-144c-6bc6-8002-7f44f8bd4be6'}}"
            ]
          },
          "execution_count": 14,
          "metadata": {},
          "output_type": "execute_result"
        }
      ],
      "source": [
        "to_replay.config\n"
      ]
    },
    {
      "cell_type": "code",
      "execution_count": 18,
      "metadata": {
        "colab": {
          "base_uri": "https://localhost:8080/"
        },
        "id": "d-YQTGNELxZh",
        "outputId": "8c5f5539-f6ef-4584-d78a-8a52e56c7d58"
      },
      "outputs": [
        {
          "name": "stdout",
          "output_type": "stream",
          "text": [
            "=================================\u001b[1m Tool Message \u001b[0m=================================\n",
            "Name: search_keyword\n",
            "\n",
            "[{\"url\": \"https://news.google.com/rss/articles/CBMiVkFVX3lxTE1vT3NVaDQwbVI1S2ZZdXJhZWdrUWs0dDZtREhTMTJub01ISFAwYlNJSC1vTXM3c3N1WHp2VEVsRms4aFF2YXJ3bFF2U0tLaHZZYVNacWp3?oc=5\", \"content\": \"AI는 인간 통제 안에 있는 '도구'일까 - 지디넷코리아\"}, {\"url\": \"https://news.google.com/rss/articles/CBMiakFVX3lxTE9wVVVoQ2o0clEzZHJVNnlwNTJDbXNTSE90ekpjaDNtcERrNmxiSG1UMVdkSU1TamI0bEpTNEQ0cWZhenA0M0NodXNlSEpNQzVWZEdQTU5iRFhSeVR5TFhhQ1BxakFsMEJyMFE?oc=5\", \"content\": \"애플, 이번에는 로봇공학 수석 AI 연구원 추가 이탈 - AI타임스\"}, {\"url\": \"https://news.google.com/rss/articles/CBMiTkFVX3lxTFBjY2ZzN2VaS2tlN2NmNjJBV2NrN0hDd1pTVXlrUTNqTXJzQUNzeVRZMlVNWUxCZHdta1pGamxsU0x0elBSSFBXd0Yyd2ZmZw?oc=5\", \"content\": \"[IFA 2025]삼성전자, 현실이 된 '미래 AI 홈' 구현 - 전자신문\"}, {\"url\": \"https://news.google.com/rss/articles/CBMigwFBVV95cUxPLXoybVlweWlHN3M0QUpCZFgtc0lHM2VxN1UxaGphS3NYdi1ReDdSUkxxNGVfRWxGV2xvb1FOZlJTY1hmZFVQeTNWTmVNZ2cwV3ktSllnUDMyczVfaHNsTkVwNy1mWHFOSmpkY083b3lfXzhmSjdUU2xKbjZWMkVFa0Z5Y9IBlwFBVV95cUxON01SOTl3R2tCMHItd29GeDRvMUNDZE1HZFkzSTUwRWwtbHF0TmFiRmVpQkNUMzdpS3kyQi1tUHA2OTN6TDF6SWI5STNFeWZDaDRwVXUtYkVmZXR0ZG40OWJTMk9tZDNNWkl1VkRQbnFIRENJMVVRRFZtRVRPMUVVWmdmdXpycDdpWEVpdXg3NVBscldJV19N?oc=5\", \"content\": \"“AI 가전은 뉴노멀”… IFA서 ‘AI 디테일’ 확장에 사활 건 기업들 - 조선일보\"}, {\"url\": \"https://news.google.com/rss/articles/CBMiU0FVX3lxTE1oTUNQNHVmc19iemM4MEpoR09WVGVBSHNUYi0zcWJOb1RrYnUtdWRISThkN3kwVkl2aEJQek5kb3JWZWd0M19seElod19CZGo1SkNF?oc=5\", \"content\": \"삼성전자, IFA에서 미래의 일상 'AI홈' 선보여 - 네이트\"}]\n",
            "==================================\u001b[1m Ai Message \u001b[0m==================================\n",
            "\n",
            "다음은 AI와 관련된 최신 뉴스입니다:\n",
            "\n",
            "1. **[AI는 인간 통제 안에 있는 '도구'일까 - 지디넷코리아](https://news.google.com/rss/articles/CBMiVkFVX3lxTE1vT3NVaDQwbVI1S2ZZdXJhZWdrUWs0dDZtREhTMTJub01ISFAwYlNJSC1vTXM3c3N1WHp2VEVsRms4aFF2YXJ3bFF2U0tLaHZZYVNacWp3?oc=5)**\n",
            "   \n",
            "2. **[애플, 이번에는 로봇공학 수석 AI 연구원 추가 이탈 - AI타임스](https://news.google.com/rss/articles/CBMiakFVX3lxTE9wVVVoQ2o0clEzZHJVNnlwNTJDbXNTSE90ekpjaDNtcERrNmxiSG1UMVdkSU1TamI0bEpTNEQ0cWZhenA0M0NodXNlSEpNQzVWZEdQTU5iRFhSeVR5TFhhQ1BxakFsMEJyMFE?oc=5)**\n",
            "\n",
            "3. **[IFA 2025]삼성전자, 현실이 된 '미래 AI 홈' 구현 - 전자신문](https://news.google.com/rss/articles/CBMiTkFVX3lxTFBjY2ZzN2VaS2tlN2NmNjJBV2NrN0hDd1pTVXlrUTNqTXJzQUNzeVRZMlVNWUxCZHdta1pGamxsU0x0elBSSFBXd0Yyd2ZmZw?oc=5)**\n",
            "\n",
            "4. **[“AI 가전은 뉴노멀”… IFA서 ‘AI 디테일’ 확장에 사활 건 기업들 - 조선일보](https://news.google.com/rss/articles/CBMigwFBVV95cUxPLXoybVlweWlHN3M0QUpCZFgtc0lHM2VxN1UxaGphS3NYdi1ReDdSUkxxNGVfRWxGV2xvb1FOZlJTY1hmZFVQeTNWTmVNZ2cwV3ktSllnUDMyczVfaHNsTkVwNy1mWHFOSmpkY083b3lfXzhmSjdUU2xKbjZWMkVFa0Z5Y9IBlwFBVV95cUxON01SOTl3R2tCMHItd29GeDRvMUNDZE1HZFkzSTUwRWwtbHF0TmFiRmVpQkNUMzdpS3kyQi1tUHA2OTN6TDF6SWI5STNFeWZDaDRwVXUtYkVmZXR0ZG40OWJTMk9tZDNNWkl1VkRQbnFIRENJMVVRRFZtRVRPMUVVWmdmdXpycDdpWEVpdXg3NVBscldJV19N?oc=5)**\n",
            "\n",
            "5. **[삼성전자, IFA에서 미래의 일상 'AI홈' 선보여 - 네이트](https://news.google.com/rss/articles/CBMiU0FVX3lxTE1oTUNQNHVmc19iemM4MEpoR09WVGVBSHNUYi0zcWJOb1RrYnUtdWRISThkN3kwVkl2aEJQek5kb3JWZWd0M19seElod19CZGo1SkNF?oc=5)**\n",
            "\n",
            "이 소식들을 통해 AI 관련 동향을 확인하실 수 있습니다.\n"
          ]
        }
      ],
      "source": [
        "# `to_replay.config`는 `checkpoint_id`는 체크포인터에 저장된 상태에 해당\n",
        "for event in graph.stream(None, to_replay.config, stream_mode=\"values\"):\n",
        "    # 메시지가 이벤트에 포함된 경우\n",
        "    if \"messages\" in event:\n",
        "        # 마지막 메시지 출력\n",
        "        event[\"messages\"][-1].pretty_print()\n"
      ]
    }
  ],
  "metadata": {
    "colab": {
      "provenance": []
    },
    "kernelspec": {
      "display_name": "Python 3",
      "name": "python3"
    },
    "language_info": {
      "name": "python"
    }
  },
  "nbformat": 4,
  "nbformat_minor": 0
}
