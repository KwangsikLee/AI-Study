{
 "cells": [
  {
   "cell_type": "code",
   "execution_count": null,
   "metadata": {
    "colab": {
     "base_uri": "https://localhost:8080/"
    },
    "id": "MjCh2HadWVWY",
    "outputId": "749254ef-cc20-48ca-af32-465376afd8e7"
   },
   "outputs": [],
   "source": [
    "!pip install openai langsmith langchain_community PyPDF2 pandas matplotlib --upgrade\n",
    "!pip install pandas==2.2.2\n",
    "!pip install langchain-huggingface"
   ]
  },
  {
   "cell_type": "code",
   "execution_count": 1,
   "metadata": {
    "id": "TE1P1mVIU7j0"
   },
   "outputs": [],
   "source": [
    "import os\n",
    "import re\n",
    "import PyPDF2\n",
    "import pandas as pd\n",
    "import matplotlib.pyplot as plt\n",
    "from openai import OpenAI\n",
    "from IPython.display import display\n",
    "from openai import OpenAI\n",
    "from langsmith import Client\n",
    "from langsmith.evaluation import evaluate, LangChainStringEvaluator\n",
    "from langsmith.schemas import Example\n",
    "\n"
   ]
  },
  {
   "cell_type": "code",
   "execution_count": 2,
   "metadata": {
    "id": "G-fdXHq0U8nV"
   },
   "outputs": [],
   "source": [
    "# OpenAI API 키 설정 (사용자가 입력해야 함)\n",
    "# from google.colab import userdata\n",
    "# api_key=userdata.get('api_key')\n",
    "# os.environ[\"OPENAI_API_KEY\"] = api_key\n",
    "# api_key2=userdata.get('api_key2')\n",
    "# os.environ[\"LANGCHAIN_API_KEY\"] = api_key2\n",
    "\n",
    "from dotenv import load_dotenv\n",
    "\n",
    "load_dotenv()\n",
    "# OpenAI API 클라이언트 생성\n",
    "OPENAPI_KEY = os.getenv(\"OPENAI_API_KEY\")\n",
    "LangSmith_KEY = os.getenv(\"LANGCHAIN_API_KEY\")\n",
    "\n",
    "# 2) LangSmith 연동 필수 환경변수\n",
    "os.environ[\"LANGCHAIN_TRACING_V2\"] = \"true\"      # 트레이싱 활성화\n",
    "os.environ[\"LANGSMITH_ENDPOINT\"]   = \"https://api.smith.langchain.com\"  # 기본값\n",
    "os.environ[\"LANGSMITH_PROJECT\"]    = \"RAG_EV_pdf_ex\"                 # 수업용 프로젝트명\n",
    "\n",
    "\n"
   ]
  },
  {
   "cell_type": "code",
   "execution_count": 5,
   "metadata": {
    "colab": {
     "base_uri": "https://localhost:8080/",
     "height": 1000
    },
    "id": "9cVyJRaKNzk8",
    "outputId": "a07857ce-38f8-4144-fd07-721169f78be0"
   },
   "outputs": [],
   "source": [
    "from langsmith import Client\n",
    "from langsmith.evaluation import evaluate, LangChainStringEvaluator\n",
    "from langsmith.schemas import Example\n",
    "from langchain.schema import Document\n",
    "\n",
    "\n",
    "client = OpenAI(api_key=os.environ[\"OPENAI_API_KEY\"])\n",
    "ls_client = Client()\n",
    "\n",
    "\n",
    "# ============================================\n",
    "# 3. PDF 읽기\n",
    "# ============================================\n",
    "# pdf_path = \"/content/SPRi AI Brief_8월호_산업동향_F.pdf\"\n",
    "pdf_path = \"./SPRi AI Brief_8월호_산업동향_F.pdf\"\n",
    "\n",
    "def extract_text_from_pdf(pdf_path):\n",
    "    text = \"\"\n",
    "    with open(pdf_path, \"rb\") as f:\n",
    "        reader = PyPDF2.PdfReader(f)\n",
    "        for page in reader.pages:\n",
    "            text += page.extract_text() + \"\\n\"\n",
    "    return text\n",
    "\n",
    "# document_text = extract_text_from_pdf(pdf_path)\n",
    "# print(\"✅ 문서 길이:\", len(document_text))\n"
   ]
  },
  {
   "cell_type": "code",
   "execution_count": 3,
   "metadata": {},
   "outputs": [],
   "source": [
    "# 패키지 전체 리로드 (더 확실함)\n",
    "import sys\n",
    "import importlib\n",
    "\n",
    "import sys\n",
    "import os\n",
    "sys.path.insert(0, os.path.abspath('..'))\n",
    "\n",
    "## 패키지 전체 리로드 (더 확실함)\n",
    "# import sys\n",
    "# import importlib\n",
    "# if 'a_my_rag_module' in sys.modules:\n",
    "#     importlib.reload(sys.modules['a_my_rag_module'])\n"
   ]
  },
  {
   "cell_type": "code",
   "execution_count": null,
   "metadata": {},
   "outputs": [
    {
     "name": "stderr",
     "output_type": "stream",
     "text": [
      "WARNING: A restricted method in java.lang.System has been called\n",
      "WARNING: java.lang.System::load has been called by org.jpype.JPypeContext in an unnamed module (file:/Users/kwangsiklee/miniforge3/envs/langchain/lib/python3.10/site-packages/org.jpype.jar)\n",
      "WARNING: Use --enable-native-access=ALL-UNNAMED to avoid a warning for callers in this module\n",
      "WARNING: Restricted methods will be blocked in a future release unless native access is enabled\n",
      "\n"
     ]
    },
    {
     "name": "stdout",
     "output_type": "stream",
     "text": [
      "생성된 청크 수: 191\n",
      "3. 임베딩 모델 로드 및 벡터 스토어 생성 중...\n",
      "Loading embedding model: jhgan/ko-sroberta-multitask (~300MB)\n",
      "임베딩 및 벡터 스토어 생성 중... (모델: ko-sroberta-multitask)\n",
      "✅ 벡터 스토어 저장 완료: ./faiss_indexes/pdf_ev_ex1_ko-sroberta-multitask\n",
      "4. Reranker 모델 로드 중...\n",
      "5. 고급 하이브리드 검색기 생성 중...\n",
      "Loading reranker: cross-encoder/ms-marco-MiniLM-L-6-v2 (~80MB)\n"
     ]
    }
   ],
   "source": [
    "import sys\n",
    "import os\n",
    "from a_my_rag_module.embedding import VectorStoreManager\n",
    "from a_my_rag_module.retriever import AdvancedHybridRetriever\n",
    "from a_my_rag_module.pdf_loader import PDFProcessor\n",
    "from a_my_rag_module.splitter import KoreanTextSplitter\n",
    "\n",
    "# a_my_rag_module를 사용하기 위해 프로젝트 루트 경로를 sys.path에 추가\n",
    "project_root = os.path.abspath(os.path.join(os.getcwd(), '..'))\n",
    "if project_root not in sys.path:\n",
    "    sys.path.insert(0, project_root)\n",
    "\n",
    "\n",
    "pdf = PDFProcessor()\n",
    "documents = pdf.process_pdf(pdf_path)\n",
    "\n",
    "# ========== 4-1. 텍스트 분할 ==========\n",
    "text_splitter = KoreanTextSplitter(\n",
    "    chunk_size=300,\n",
    "    chunk_overlap=50\n",
    ")\n",
    "\n",
    "\n",
    "chunks = text_splitter.split_documents(documents=documents)\n",
    "print(f\"생성된 청크 수: {len(chunks)}\")\n",
    "\n",
    "# 3. 임베딩 모델 로드 및 벡터 스토어 생성\n",
    "print(\"3. 임베딩 모델 로드 및 벡터 스토어 생성 중...\")\n",
    "vector_manager = VectorStoreManager(save_directory=\"./faiss_indexes\")  # 저장할 디렉토리 지정\n",
    "\n",
    "vector_store = vector_manager.auto_save_after_creation(\n",
    "    documents=chunks,\n",
    "    index_name=\"pdf_ev_ex1\"\n",
    ")\n"
   ]
  },
  {
   "cell_type": "markdown",
   "metadata": {},
   "source": [
    "### load from db file"
   ]
  },
  {
   "cell_type": "code",
   "execution_count": 26,
   "metadata": {},
   "outputs": [
    {
     "name": "stdout",
     "output_type": "stream",
     "text": [
      "\n",
      "=== 6. 새로운 매니저로 인덱스 로드 테스트 ===\n",
      "Loading embedding model: jhgan/ko-sroberta-multitask (~300MB)\n",
      "✅ 벡터 스토어 로드 완료: pdf_ev_ex1_ko-sroberta-multitask (생성일: 2025-09-01T23:45:57.429892, 문서수: 191)\n"
     ]
    }
   ],
   "source": [
    "print(\"\\n=== 6. 새로운 매니저로 인덱스 로드 테스트 ===\")\n",
    "new_manager = VectorStoreManager(save_directory=\"./faiss_indexes\")\n",
    "\n",
    "# 저장된 인덱스 로드\n",
    "load_result = new_manager.load_vector_store(\n",
    "    index_name=\"pdf_ev_ex1\",\n",
    "    model_key=\"ko-sroberta-multitask\"\n",
    ")\n",
    "print(load_result)\n",
    "\n",
    "vector_store = new_manager.current_vector_store"
   ]
  },
  {
   "cell_type": "code",
   "execution_count": 29,
   "metadata": {},
   "outputs": [
    {
     "name": "stdout",
     "output_type": "stream",
     "text": [
      "4. Reranker 모델 로드 중...\n",
      "5. 고급 하이브리드 검색기 생성 중...\n",
      "Loading reranker: cross-encoder/ms-marco-MiniLM-L-6-v2 (~80MB)\n"
     ]
    }
   ],
   "source": [
    "\n",
    "\n",
    "# 4. Reranker 로드\n",
    "print(\"4. Reranker 모델 로드 중...\")\n",
    "\n",
    "# 5. 고급 검색기 생성\n",
    "print(\"5. 고급 하이브리드 검색기 생성 중...\")\n",
    "retriever = AdvancedHybridRetriever(\n",
    "    chunks, vector_store\n",
    ")\n"
   ]
  },
  {
   "cell_type": "code",
   "execution_count": 30,
   "metadata": {},
   "outputs": [
    {
     "name": "stdout",
     "output_type": "stream",
     "text": [
      "Reranked 15 documents to top 5 with model: cross-encoder-ms-marco\n",
      "------------\n",
      "Contents 동일한 뉴스 기사에 대하여 AI 사용을 밝히면 인간과 LLM 모두 평가 하락 n 미국 프린스턴 와 워싱턴 등의 연구진이 2025년 7월 2일 AI 사용 여부와 저자의 인구통계학적 특성이 뉴스 기사 품질의 판단에 미치는 영향을 조사한 연구 결과를 공개 연구진은 1,970명의 참가자를 AI 사용 여부 저자 인종(아시아인, 흑인, 백인) 저자 성별(남성, 여성, 논바이너리)의 3개 독립 변수에 따라 18개 시험 조건 중 하나에 무작위로 배정 인간이 작성한 동일한 뉴스 기사를 읽고 평가한 결과, AI를 사용했다고 밝힌 contents 동일하다 뉴스 기사 대하 사용 밝히다 인간 llm 모두 평가 하락 미국 프린스턴 오다 워싱턴 구진 사용 여부 저자 인구 통계학 특성 뉴스 기사 품질 판단 미치다 영향 조사 연구 결과 공개 구진 명의 참가자 사용 여부 저자 인종 아시아 흑인 백인 저자 성별 남성 여성 바이너리 독립 변수 따르다 시험 조건 하나 무작위 배정 인간 작성 동일하다 뉴스 기사 읽다 평가 결과 사용 하다 밝히다 사용 뉴스 기사 저자 동일하다 밝히다 인간 평가 구진 여부 결과 contents 대하 llm 모두 하락 미국 프린스턴 오다 워싱턴 인구 통계학 특성 품질 판단 미치다 영향 조사 연구 공개 명의 참가자 인종 아시아 흑인 백인 성별 남성 여성 바이너리 독립 변수 따르다 시험 조건 하나 무작위 배정 작성 읽다 하다\n",
      "------------\n",
      "AI 검색, 어니 와 딥시크 모델 기반으로 다양한 입출력 형태를 지원 n 중국의 대표적인 검색엔진 기업 바이두(Baidu)가 2025년 7월 2일 AI Day 행사를 열고 10년 만에 최대 규모로 검색 플랫폼을 개편한다고 발표 수십 자까지만 입력할 수 있었던 기존 검색창을 스마트 검색 박스(Smart Search Box) 로 전환해, 1,000자가 넘는 중국어 텍스트 입력을 지원 검색 화면에 AI 글쓰기, AI 그림 그리기, AI 읽기 등 다양한 기능을 통합하는 한편, 사진, 음성, 동영상 등 다양한 형태의 입력을 지원(예 풍경 검색 오다 시크 모델 기반 다양하다 입출력 형태 지원 중국 대표 검색 엔진 기업 바이두 baidu 가다 day 행사 열다 최대 규모 검색 플랫폼 개편 하다 발표 수십 입력 하다 있다 기존 검색 스마트 검색 박스 smart search box 전환 하다 자가 넘다 중국어 텍스트 입력 지원 검색 화면 글쓰기 그림 그리기 읽다 다양하다 기능 통합 하다 한편 사진 음성 동영상 다양하다 형태 입력 지원 풍경 검색 하다 다양하다 지원 입력 형태 오다 시크 모델 기반 입출력 중국 대표 엔진 기업 바이두 baidu 가다 day 행사 열다 최대 규모 플랫폼 개편 발표 수십 있다 기존 스마트 박스 smart search box 전환 자가 넘다 중국어 텍스트 화면 글쓰기 그림 그리기 읽다 기능 통합 한편 사진 음성 동영상 풍경\n",
      "------------\n",
      "정책 법제 기업 산업 기술 연구 인력 교육 9 바이두, 10년 만에 AI 기반으로 검색 서비스 대폭 개편 n 바이두가 AI 기반으로 검색 서비스를 대폭 개편해 검색창을 스마트 검색 박스 로 전환하여 다양한 입출력 형태를 지원하고 단순한 링크를 넘어 풍부하고 구조화된 답변을 제공한다고 발표 n 바이두는 동영상과 오디오를 동시에 생성하는 AI 모델 뮤즈스티머 제품군과 뮤즈스티머 기반의 영상 제작 플랫폼 휘샹 도 공개 KEY Contents 바이두 AI 검색, 어니 와 딥시크 모델 기반으로 다양한 입출력 형태를 지원 n 중국의 대표적인 정책 법제 기업 산업 기술 연구 인력 교육 바이두 기반 검색 서비스 대폭 개편 바이두 기반 검색 서비스 대폭 개편 하다 검색 스마트 검색 박스 전환 하다 다양하다 입출력 형태 지원 단순하다 링크 넘다 풍부하다 구조 되다 답변 제공 발표 바이두 동영상 오디오 동시 성하다 모델 뮤즈 스티 제품군 뮤즈 스티 기반 영상 제작 플랫폼 휘샹 공개 key contents 바이두 검색 오다 시크 모델 기반 다양하다 입출력 형태 지원 중국 대표 검색 바이두 기반 서비스 대폭 개편 하다 다양하다 입출력 형태 지원 모델 뮤즈 스티 정책 법제 기업 산업 기술 연구 인력 교육 스마트 박스 전환 단순하다 링크 넘다 풍부하다 구조 되다 답변 제공 발표 동영상 오디오 동시 성하다 제품군 영상 제작 플랫폼 휘샹 공개 key contents 오다 시크 중국 대표\n",
      "------------\n",
      "컴퓨팅 자원과 모델 성능이 빠르게 향상되고 있으며, 추론 능력의 발전으로 자율적 행동이 가능한 LLM 기반 AI 에이전트도 출현 (혁신 촉발) 생성 AI 관련 특허는 컴퓨터뿐 아니라 의료, 물류 등 다양한 분야에서 기술 발전을 위한 토대로서의 영향력을 보여주며, 생성 AI는 연구 관련 프로세스 자체를 혁신하여 발명 방법을 발명(Invention of a method of invention) 하는 잠재력을 발휘 n 그러나 생성 AI는 다른 범용 기술처럼 생산성이 오히려 둔화하는 생산성 역설 현상을 보일 수 있으며, 생산성 향상이 컴퓨팅 자원 모델 성능 빠르다 향상 되다 있다 추론 능력 발전 자율 행동 가능하다 llm 기반 에이전트 출현 혁신 촉발 관련 특허 컴퓨터 아니다 의료 물류 다양하다 분야 기술 발전 토대 로서 영향력 보여주다 늘다 연구 관련 프로세스 자체 혁신 하다 발명 방법 발명 invention method invention 하다 잠재력 발휘 늘다 다른 범용 기술 생산 오히려 둔화 하다 생산 역설 현상 보이다 있다 생산 향상 하다 생산 향상 있다 발전 혁신 관련 기술 늘다 발명 invention 컴퓨팅 자원 모델 성능 빠르다 되다 추론 능력 자율 행동 가능하다 llm 기반 에이전트 출현 촉발 특허 컴퓨터 아니다 의료 물류 다양하다 분야 토대 로서 영향력 보여주다 연구 프로세스 자체 방법 method 잠재력 발휘 다른 범용 오히려 둔화 역설 현상 보이다\n",
      "------------\n",
      "기술 솔루션으로 빠르게 전환할 수 있도록 지원할 계획 n (데이터 개방) 방대한 고품질 데이터에 크게 의존하는 AI 개발 특성을 고려해 대만의 소버린 (Sovereign) AI 기반을 강화할 수 있도록 정부 데이터의 개방을 추진 AI 모델에 대만 언어와 문화를 반영하기 위해 중앙집중식 관리와 공유를 위한 주권 AI 훈련 코퍼스 를 구축하고 정부 기관이 저작권을 소유한 데이터를 플랫폼에서 단계적으로 공개할 계획 n (인재 양성) AI 분야의 전문 교육기관과 협력해 인재 양성 목표, 인재 유형, 관련 교육과정을 제시하는 AI 인재 기술 솔루션 빠르다 전환 하다 있다 지원 하다 계획 데이터 개방 방대하다 품질 데이터 크게 의존 하다 개발 특성 고려 하다 대만 버리다 sovereign 기반 강화하다 있다 정부 데이터 개방 추진 모델 대만 언어 문화 반영 하다 위해 중앙 집중 관리 공유 주권 훈련 코퍼스 구축 정부 기관 저작권 소유 데이터 플랫폼 단계 공개 하다 계획 인재 양성 분야 전문 교육 기관 협력 하다 인재 양성 목표 인재 유형 관련 교육과정 제시 하다 인재 하다 데이터 인재 있다 계획 개방 대만 정부 기관 양성 기술 솔루션 빠르다 전환 지원 방대하다 품질 크게 의존 개발 특성 고려 버리다 sovereign 기반 강화하다 추진 모델 언어 문화 반영 위해 중앙 집중 관리 공유 주권 훈련 코퍼스 구축 저작권 소유 플랫폼 단계 공개 분야 전문 교육 협력 목표 유형 관련 교육과정 제시\n"
     ]
    }
   ],
   "source": [
    "\n",
    "question = \"대만에서 AI 관련 뉴스 알려줘\"\n",
    "# res = retriever.search_by_keyword(question)\n",
    "res = retriever.advanced_search(question, method=\"hybrid\",use_rerank= True)\n",
    "\n",
    "for doc in res:\n",
    "    print(\"------------\")\n",
    "    if doc.metadata.get('searchable_content') is not None :\n",
    "        print(doc.metadata.get('searchable_content'))"
   ]
  },
  {
   "cell_type": "code",
   "execution_count": 31,
   "metadata": {},
   "outputs": [
    {
     "name": "stdout",
     "output_type": "stream",
     "text": [
      "context len: 22519\n"
     ]
    }
   ],
   "source": [
    "# 전체 뉴스 요약\n",
    "context = \"\\n\".join([doc.page_content for doc in chunks[:100]])\n",
    "print(f\"context len: {len(context)}\")\n",
    "\n",
    "document_text = context"
   ]
  },
  {
   "cell_type": "code",
   "execution_count": null,
   "metadata": {},
   "outputs": [
    {
     "name": "stdout",
     "output_type": "stream",
     "text": [
      "📌 생성된 질문: ['1. **추론형 질문**: 대만 디지털발전부의 AI 산업 발전 정책이 민간 주도의 건전한 AI 산업 발전에 미치는 영향은 무엇일까요?', '2. **단순 factual 질문**: 대만 디지털발전부가 보고한 AI 산업 발전 정책의 5대 핵심 도구는 무엇인가요?', '3. **조건형 질문**: 만약 대만 디지털발전부가 AI 스타트업에 대한 자금 지원을 늘린다면, AI 산업의 발전 속도는 어떻게 변할 가능성이 있을까요?']\n"
     ]
    },
    {
     "data": {
      "text/html": [
       "<div>\n",
       "<style scoped>\n",
       "    .dataframe tbody tr th:only-of-type {\n",
       "        vertical-align: middle;\n",
       "    }\n",
       "\n",
       "    .dataframe tbody tr th {\n",
       "        vertical-align: top;\n",
       "    }\n",
       "\n",
       "    .dataframe thead th {\n",
       "        text-align: right;\n",
       "    }\n",
       "</style>\n",
       "<table border=\"1\" class=\"dataframe\">\n",
       "  <thead>\n",
       "    <tr style=\"text-align: right;\">\n",
       "      <th></th>\n",
       "      <th>질문</th>\n",
       "      <th>답변</th>\n",
       "      <th>관련성</th>\n",
       "      <th>정확성</th>\n",
       "      <th>논리성</th>\n",
       "      <th>간결성</th>\n",
       "      <th>총평</th>\n",
       "    </tr>\n",
       "  </thead>\n",
       "  <tbody>\n",
       "    <tr>\n",
       "      <th>0</th>\n",
       "      <td>1. **추론형 질문**: 대만 디지털발전부의 AI 산업 발전 정책이 민간 주도의 ...</td>\n",
       "      <td>대만 디지털발전부의 AI 산업 발전 정책은 민간 주도의 건전한 AI 산업 발전에 여...</td>\n",
       "      <td>5</td>\n",
       "      <td>5</td>\n",
       "      <td>5</td>\n",
       "      <td>4</td>\n",
       "      <td></td>\n",
       "    </tr>\n",
       "    <tr>\n",
       "      <th>1</th>\n",
       "      <td>2. **단순 factual 질문**: 대만 디지털발전부가 보고한 AI 산업 발전 ...</td>\n",
       "      <td>대만 디지털발전부가 보고한 AI 산업 발전 정책의 5대 핵심 도구는 다음과 같습니다...</td>\n",
       "      <td>5</td>\n",
       "      <td>1</td>\n",
       "      <td>3</td>\n",
       "      <td>4</td>\n",
       "      <td></td>\n",
       "    </tr>\n",
       "    <tr>\n",
       "      <th>2</th>\n",
       "      <td>3. **조건형 질문**: 만약 대만 디지털발전부가 AI 스타트업에 대한 자금 지원...</td>\n",
       "      <td>대만 디지털발전부가 AI 스타트업에 대한 자금 지원을 늘린다면, AI 산업의 발전 ...</td>\n",
       "      <td>5</td>\n",
       "      <td>5</td>\n",
       "      <td>5</td>\n",
       "      <td>4</td>\n",
       "      <td></td>\n",
       "    </tr>\n",
       "  </tbody>\n",
       "</table>\n",
       "</div>"
      ],
      "text/plain": [
       "                                                  질문  \\\n",
       "0  1. **추론형 질문**: 대만 디지털발전부의 AI 산업 발전 정책이 민간 주도의 ...   \n",
       "1  2. **단순 factual 질문**: 대만 디지털발전부가 보고한 AI 산업 발전 ...   \n",
       "2  3. **조건형 질문**: 만약 대만 디지털발전부가 AI 스타트업에 대한 자금 지원...   \n",
       "\n",
       "                                                  답변  관련성  정확성  논리성  간결성 총평  \n",
       "0  대만 디지털발전부의 AI 산업 발전 정책은 민간 주도의 건전한 AI 산업 발전에 여...    5    5    5    4     \n",
       "1  대만 디지털발전부가 보고한 AI 산업 발전 정책의 5대 핵심 도구는 다음과 같습니다...    5    1    3    4     \n",
       "2  대만 디지털발전부가 AI 스타트업에 대한 자금 지원을 늘린다면, AI 산업의 발전 ...    5    5    5    4     "
      ]
     },
     "metadata": {},
     "output_type": "display_data"
    },
    {
     "name": "stderr",
     "output_type": "stream",
     "text": [
      "/Users/kwangsiklee/miniforge3/envs/langchain/lib/python3.10/site-packages/IPython/core/pylabtools.py:170: UserWarning: Glyph 51216 (\\N{HANGUL SYLLABLE JEOM}) missing from font(s) DejaVu Sans.\n",
      "  fig.canvas.print_figure(bytes_io, **kw)\n",
      "/Users/kwangsiklee/miniforge3/envs/langchain/lib/python3.10/site-packages/IPython/core/pylabtools.py:170: UserWarning: Glyph 49688 (\\N{HANGUL SYLLABLE SU}) missing from font(s) DejaVu Sans.\n",
      "  fig.canvas.print_figure(bytes_io, **kw)\n",
      "/Users/kwangsiklee/miniforge3/envs/langchain/lib/python3.10/site-packages/IPython/core/pylabtools.py:170: UserWarning: Glyph 54217 (\\N{HANGUL SYLLABLE PYEONG}) missing from font(s) DejaVu Sans.\n",
      "  fig.canvas.print_figure(bytes_io, **kw)\n",
      "/Users/kwangsiklee/miniforge3/envs/langchain/lib/python3.10/site-packages/IPython/core/pylabtools.py:170: UserWarning: Glyph 44512 (\\N{HANGUL SYLLABLE GYUN}) missing from font(s) DejaVu Sans.\n",
      "  fig.canvas.print_figure(bytes_io, **kw)\n",
      "/Users/kwangsiklee/miniforge3/envs/langchain/lib/python3.10/site-packages/IPython/core/pylabtools.py:170: UserWarning: Glyph 44032 (\\N{HANGUL SYLLABLE GA}) missing from font(s) DejaVu Sans.\n",
      "  fig.canvas.print_figure(bytes_io, **kw)\n",
      "/Users/kwangsiklee/miniforge3/envs/langchain/lib/python3.10/site-packages/IPython/core/pylabtools.py:170: UserWarning: Glyph 44288 (\\N{HANGUL SYLLABLE GWAN}) missing from font(s) DejaVu Sans.\n",
      "  fig.canvas.print_figure(bytes_io, **kw)\n",
      "/Users/kwangsiklee/miniforge3/envs/langchain/lib/python3.10/site-packages/IPython/core/pylabtools.py:170: UserWarning: Glyph 47144 (\\N{HANGUL SYLLABLE RYEON}) missing from font(s) DejaVu Sans.\n",
      "  fig.canvas.print_figure(bytes_io, **kw)\n",
      "/Users/kwangsiklee/miniforge3/envs/langchain/lib/python3.10/site-packages/IPython/core/pylabtools.py:170: UserWarning: Glyph 49457 (\\N{HANGUL SYLLABLE SEONG}) missing from font(s) DejaVu Sans.\n",
      "  fig.canvas.print_figure(bytes_io, **kw)\n",
      "/Users/kwangsiklee/miniforge3/envs/langchain/lib/python3.10/site-packages/IPython/core/pylabtools.py:170: UserWarning: Glyph 51221 (\\N{HANGUL SYLLABLE JEONG}) missing from font(s) DejaVu Sans.\n",
      "  fig.canvas.print_figure(bytes_io, **kw)\n",
      "/Users/kwangsiklee/miniforge3/envs/langchain/lib/python3.10/site-packages/IPython/core/pylabtools.py:170: UserWarning: Glyph 54869 (\\N{HANGUL SYLLABLE HWAG}) missing from font(s) DejaVu Sans.\n",
      "  fig.canvas.print_figure(bytes_io, **kw)\n",
      "/Users/kwangsiklee/miniforge3/envs/langchain/lib/python3.10/site-packages/IPython/core/pylabtools.py:170: UserWarning: Glyph 45436 (\\N{HANGUL SYLLABLE NON}) missing from font(s) DejaVu Sans.\n",
      "  fig.canvas.print_figure(bytes_io, **kw)\n",
      "/Users/kwangsiklee/miniforge3/envs/langchain/lib/python3.10/site-packages/IPython/core/pylabtools.py:170: UserWarning: Glyph 47532 (\\N{HANGUL SYLLABLE RI}) missing from font(s) DejaVu Sans.\n",
      "  fig.canvas.print_figure(bytes_io, **kw)\n",
      "/Users/kwangsiklee/miniforge3/envs/langchain/lib/python3.10/site-packages/IPython/core/pylabtools.py:170: UserWarning: Glyph 44036 (\\N{HANGUL SYLLABLE GAN}) missing from font(s) DejaVu Sans.\n",
      "  fig.canvas.print_figure(bytes_io, **kw)\n",
      "/Users/kwangsiklee/miniforge3/envs/langchain/lib/python3.10/site-packages/IPython/core/pylabtools.py:170: UserWarning: Glyph 44208 (\\N{HANGUL SYLLABLE GYEOL}) missing from font(s) DejaVu Sans.\n",
      "  fig.canvas.print_figure(bytes_io, **kw)\n"
     ]
    },
    {
     "data": {
      "image/png": "[encoded data removed]",
      "text/plain": [
       "<Figure size 600x400 with 1 Axes>"
      ]
     },
     "metadata": {},
     "output_type": "display_data"
    },
    {
     "ename": "OSError",
     "evalue": "Cannot save file into a non-existent directory: '/content'",
     "output_type": "error",
     "traceback": [
      "\u001b[0;31m---------------------------------------------------------------------------\u001b[0m",
      "\u001b[0;31mOSError\u001b[0m                                   Traceback (most recent call last)",
      "Cell \u001b[0;32mIn[26], line 126\u001b[0m\n\u001b[1;32m    121\u001b[0m plt\u001b[38;5;241m.\u001b[39mshow()\n\u001b[1;32m    123\u001b[0m \u001b[38;5;66;03m# ============================================\u001b[39;00m\n\u001b[1;32m    124\u001b[0m \u001b[38;5;66;03m# 10. CSV 저장 (선택 사항)\u001b[39;00m\n\u001b[1;32m    125\u001b[0m \u001b[38;5;66;03m# ============================================\u001b[39;00m\n\u001b[0;32m--> 126\u001b[0m \u001b[43mdf\u001b[49m\u001b[38;5;241;43m.\u001b[39;49m\u001b[43mto_csv\u001b[49m\u001b[43m(\u001b[49m\u001b[38;5;124;43m\"\u001b[39;49m\u001b[38;5;124;43m/content/evaluation_results.csv\u001b[39;49m\u001b[38;5;124;43m\"\u001b[39;49m\u001b[43m,\u001b[49m\u001b[43m \u001b[49m\u001b[43mindex\u001b[49m\u001b[38;5;241;43m=\u001b[39;49m\u001b[38;5;28;43;01mFalse\u001b[39;49;00m\u001b[43m,\u001b[49m\u001b[43m \u001b[49m\u001b[43mencoding\u001b[49m\u001b[38;5;241;43m=\u001b[39;49m\u001b[38;5;124;43m\"\u001b[39;49m\u001b[38;5;124;43mutf-8-sig\u001b[39;49m\u001b[38;5;124;43m\"\u001b[39;49m\u001b[43m)\u001b[49m\n\u001b[1;32m    127\u001b[0m \u001b[38;5;28mprint\u001b[39m(\u001b[38;5;124m\"\u001b[39m\u001b[38;5;124m📂 결과가 evaluation_results.csv 로 저장되었습니다.\u001b[39m\u001b[38;5;124m\"\u001b[39m)\n",
      "File \u001b[0;32m~/miniforge3/envs/langchain/lib/python3.10/site-packages/pandas/util/_decorators.py:333\u001b[0m, in \u001b[0;36mdeprecate_nonkeyword_arguments.<locals>.decorate.<locals>.wrapper\u001b[0;34m(*args, **kwargs)\u001b[0m\n\u001b[1;32m    327\u001b[0m \u001b[38;5;28;01mif\u001b[39;00m \u001b[38;5;28mlen\u001b[39m(args) \u001b[38;5;241m>\u001b[39m num_allow_args:\n\u001b[1;32m    328\u001b[0m     warnings\u001b[38;5;241m.\u001b[39mwarn(\n\u001b[1;32m    329\u001b[0m         msg\u001b[38;5;241m.\u001b[39mformat(arguments\u001b[38;5;241m=\u001b[39m_format_argument_list(allow_args)),\n\u001b[1;32m    330\u001b[0m         \u001b[38;5;167;01mFutureWarning\u001b[39;00m,\n\u001b[1;32m    331\u001b[0m         stacklevel\u001b[38;5;241m=\u001b[39mfind_stack_level(),\n\u001b[1;32m    332\u001b[0m     )\n\u001b[0;32m--> 333\u001b[0m \u001b[38;5;28;01mreturn\u001b[39;00m \u001b[43mfunc\u001b[49m\u001b[43m(\u001b[49m\u001b[38;5;241;43m*\u001b[39;49m\u001b[43margs\u001b[49m\u001b[43m,\u001b[49m\u001b[43m \u001b[49m\u001b[38;5;241;43m*\u001b[39;49m\u001b[38;5;241;43m*\u001b[39;49m\u001b[43mkwargs\u001b[49m\u001b[43m)\u001b[49m\n",
      "File \u001b[0;32m~/miniforge3/envs/langchain/lib/python3.10/site-packages/pandas/core/generic.py:3986\u001b[0m, in \u001b[0;36mNDFrame.to_csv\u001b[0;34m(self, path_or_buf, sep, na_rep, float_format, columns, header, index, index_label, mode, encoding, compression, quoting, quotechar, lineterminator, chunksize, date_format, doublequote, escapechar, decimal, errors, storage_options)\u001b[0m\n\u001b[1;32m   3975\u001b[0m df \u001b[38;5;241m=\u001b[39m \u001b[38;5;28mself\u001b[39m \u001b[38;5;28;01mif\u001b[39;00m \u001b[38;5;28misinstance\u001b[39m(\u001b[38;5;28mself\u001b[39m, ABCDataFrame) \u001b[38;5;28;01melse\u001b[39;00m \u001b[38;5;28mself\u001b[39m\u001b[38;5;241m.\u001b[39mto_frame()\n\u001b[1;32m   3977\u001b[0m formatter \u001b[38;5;241m=\u001b[39m DataFrameFormatter(\n\u001b[1;32m   3978\u001b[0m     frame\u001b[38;5;241m=\u001b[39mdf,\n\u001b[1;32m   3979\u001b[0m     header\u001b[38;5;241m=\u001b[39mheader,\n\u001b[0;32m   (...)\u001b[0m\n\u001b[1;32m   3983\u001b[0m     decimal\u001b[38;5;241m=\u001b[39mdecimal,\n\u001b[1;32m   3984\u001b[0m )\n\u001b[0;32m-> 3986\u001b[0m \u001b[38;5;28;01mreturn\u001b[39;00m \u001b[43mDataFrameRenderer\u001b[49m\u001b[43m(\u001b[49m\u001b[43mformatter\u001b[49m\u001b[43m)\u001b[49m\u001b[38;5;241;43m.\u001b[39;49m\u001b[43mto_csv\u001b[49m\u001b[43m(\u001b[49m\n\u001b[1;32m   3987\u001b[0m \u001b[43m    \u001b[49m\u001b[43mpath_or_buf\u001b[49m\u001b[43m,\u001b[49m\n\u001b[1;32m   3988\u001b[0m \u001b[43m    \u001b[49m\u001b[43mlineterminator\u001b[49m\u001b[38;5;241;43m=\u001b[39;49m\u001b[43mlineterminator\u001b[49m\u001b[43m,\u001b[49m\n\u001b[1;32m   3989\u001b[0m \u001b[43m    \u001b[49m\u001b[43msep\u001b[49m\u001b[38;5;241;43m=\u001b[39;49m\u001b[43msep\u001b[49m\u001b[43m,\u001b[49m\n\u001b[1;32m   3990\u001b[0m \u001b[43m    \u001b[49m\u001b[43mencoding\u001b[49m\u001b[38;5;241;43m=\u001b[39;49m\u001b[43mencoding\u001b[49m\u001b[43m,\u001b[49m\n\u001b[1;32m   3991\u001b[0m \u001b[43m    \u001b[49m\u001b[43merrors\u001b[49m\u001b[38;5;241;43m=\u001b[39;49m\u001b[43merrors\u001b[49m\u001b[43m,\u001b[49m\n\u001b[1;32m   3992\u001b[0m \u001b[43m    \u001b[49m\u001b[43mcompression\u001b[49m\u001b[38;5;241;43m=\u001b[39;49m\u001b[43mcompression\u001b[49m\u001b[43m,\u001b[49m\n\u001b[1;32m   3993\u001b[0m \u001b[43m    \u001b[49m\u001b[43mquoting\u001b[49m\u001b[38;5;241;43m=\u001b[39;49m\u001b[43mquoting\u001b[49m\u001b[43m,\u001b[49m\n\u001b[1;32m   3994\u001b[0m \u001b[43m    \u001b[49m\u001b[43mcolumns\u001b[49m\u001b[38;5;241;43m=\u001b[39;49m\u001b[43mcolumns\u001b[49m\u001b[43m,\u001b[49m\n\u001b[1;32m   3995\u001b[0m \u001b[43m    \u001b[49m\u001b[43mindex_label\u001b[49m\u001b[38;5;241;43m=\u001b[39;49m\u001b[43mindex_label\u001b[49m\u001b[43m,\u001b[49m\n\u001b[1;32m   3996\u001b[0m \u001b[43m    \u001b[49m\u001b[43mmode\u001b[49m\u001b[38;5;241;43m=\u001b[39;49m\u001b[43mmode\u001b[49m\u001b[43m,\u001b[49m\n\u001b[1;32m   3997\u001b[0m \u001b[43m    \u001b[49m\u001b[43mchunksize\u001b[49m\u001b[38;5;241;43m=\u001b[39;49m\u001b[43mchunksize\u001b[49m\u001b[43m,\u001b[49m\n\u001b[1;32m   3998\u001b[0m \u001b[43m    \u001b[49m\u001b[43mquotechar\u001b[49m\u001b[38;5;241;43m=\u001b[39;49m\u001b[43mquotechar\u001b[49m\u001b[43m,\u001b[49m\n\u001b[1;32m   3999\u001b[0m \u001b[43m    \u001b[49m\u001b[43mdate_format\u001b[49m\u001b[38;5;241;43m=\u001b[39;49m\u001b[43mdate_format\u001b[49m\u001b[43m,\u001b[49m\n\u001b[1;32m   4000\u001b[0m \u001b[43m    \u001b[49m\u001b[43mdoublequote\u001b[49m\u001b[38;5;241;43m=\u001b[39;49m\u001b[43mdoublequote\u001b[49m\u001b[43m,\u001b[49m\n\u001b[1;32m   4001\u001b[0m \u001b[43m    \u001b[49m\u001b[43mescapechar\u001b[49m\u001b[38;5;241;43m=\u001b[39;49m\u001b[43mescapechar\u001b[49m\u001b[43m,\u001b[49m\n\u001b[1;32m   4002\u001b[0m \u001b[43m    \u001b[49m\u001b[43mstorage_options\u001b[49m\u001b[38;5;241;43m=\u001b[39;49m\u001b[43mstorage_options\u001b[49m\u001b[43m,\u001b[49m\n\u001b[1;32m   4003\u001b[0m \u001b[43m\u001b[49m\u001b[43m)\u001b[49m\n",
      "File \u001b[0;32m~/miniforge3/envs/langchain/lib/python3.10/site-packages/pandas/io/formats/format.py:1014\u001b[0m, in \u001b[0;36mDataFrameRenderer.to_csv\u001b[0;34m(self, path_or_buf, encoding, sep, columns, index_label, mode, compression, quoting, quotechar, lineterminator, chunksize, date_format, doublequote, escapechar, errors, storage_options)\u001b[0m\n\u001b[1;32m    993\u001b[0m     created_buffer \u001b[38;5;241m=\u001b[39m \u001b[38;5;28;01mFalse\u001b[39;00m\n\u001b[1;32m    995\u001b[0m csv_formatter \u001b[38;5;241m=\u001b[39m CSVFormatter(\n\u001b[1;32m    996\u001b[0m     path_or_buf\u001b[38;5;241m=\u001b[39mpath_or_buf,\n\u001b[1;32m    997\u001b[0m     lineterminator\u001b[38;5;241m=\u001b[39mlineterminator,\n\u001b[0;32m   (...)\u001b[0m\n\u001b[1;32m   1012\u001b[0m     formatter\u001b[38;5;241m=\u001b[39m\u001b[38;5;28mself\u001b[39m\u001b[38;5;241m.\u001b[39mfmt,\n\u001b[1;32m   1013\u001b[0m )\n\u001b[0;32m-> 1014\u001b[0m \u001b[43mcsv_formatter\u001b[49m\u001b[38;5;241;43m.\u001b[39;49m\u001b[43msave\u001b[49m\u001b[43m(\u001b[49m\u001b[43m)\u001b[49m\n\u001b[1;32m   1016\u001b[0m \u001b[38;5;28;01mif\u001b[39;00m created_buffer:\n\u001b[1;32m   1017\u001b[0m     \u001b[38;5;28;01massert\u001b[39;00m \u001b[38;5;28misinstance\u001b[39m(path_or_buf, StringIO)\n",
      "File \u001b[0;32m~/miniforge3/envs/langchain/lib/python3.10/site-packages/pandas/io/formats/csvs.py:251\u001b[0m, in \u001b[0;36mCSVFormatter.save\u001b[0;34m(self)\u001b[0m\n\u001b[1;32m    247\u001b[0m \u001b[38;5;250m\u001b[39m\u001b[38;5;124;03m\"\"\"\u001b[39;00m\n\u001b[1;32m    248\u001b[0m \u001b[38;5;124;03mCreate the writer & save.\u001b[39;00m\n\u001b[1;32m    249\u001b[0m \u001b[38;5;124;03m\"\"\"\u001b[39;00m\n\u001b[1;32m    250\u001b[0m \u001b[38;5;66;03m# apply compression and byte/text conversion\u001b[39;00m\n\u001b[0;32m--> 251\u001b[0m \u001b[38;5;28;01mwith\u001b[39;00m \u001b[43mget_handle\u001b[49m\u001b[43m(\u001b[49m\n\u001b[1;32m    252\u001b[0m \u001b[43m    \u001b[49m\u001b[38;5;28;43mself\u001b[39;49m\u001b[38;5;241;43m.\u001b[39;49m\u001b[43mfilepath_or_buffer\u001b[49m\u001b[43m,\u001b[49m\n\u001b[1;32m    253\u001b[0m \u001b[43m    \u001b[49m\u001b[38;5;28;43mself\u001b[39;49m\u001b[38;5;241;43m.\u001b[39;49m\u001b[43mmode\u001b[49m\u001b[43m,\u001b[49m\n\u001b[1;32m    254\u001b[0m \u001b[43m    \u001b[49m\u001b[43mencoding\u001b[49m\u001b[38;5;241;43m=\u001b[39;49m\u001b[38;5;28;43mself\u001b[39;49m\u001b[38;5;241;43m.\u001b[39;49m\u001b[43mencoding\u001b[49m\u001b[43m,\u001b[49m\n\u001b[1;32m    255\u001b[0m \u001b[43m    \u001b[49m\u001b[43merrors\u001b[49m\u001b[38;5;241;43m=\u001b[39;49m\u001b[38;5;28;43mself\u001b[39;49m\u001b[38;5;241;43m.\u001b[39;49m\u001b[43merrors\u001b[49m\u001b[43m,\u001b[49m\n\u001b[1;32m    256\u001b[0m \u001b[43m    \u001b[49m\u001b[43mcompression\u001b[49m\u001b[38;5;241;43m=\u001b[39;49m\u001b[38;5;28;43mself\u001b[39;49m\u001b[38;5;241;43m.\u001b[39;49m\u001b[43mcompression\u001b[49m\u001b[43m,\u001b[49m\n\u001b[1;32m    257\u001b[0m \u001b[43m    \u001b[49m\u001b[43mstorage_options\u001b[49m\u001b[38;5;241;43m=\u001b[39;49m\u001b[38;5;28;43mself\u001b[39;49m\u001b[38;5;241;43m.\u001b[39;49m\u001b[43mstorage_options\u001b[49m\u001b[43m,\u001b[49m\n\u001b[1;32m    258\u001b[0m \u001b[43m\u001b[49m\u001b[43m)\u001b[49m \u001b[38;5;28;01mas\u001b[39;00m handles:\n\u001b[1;32m    259\u001b[0m     \u001b[38;5;66;03m# Note: self.encoding is irrelevant here\u001b[39;00m\n\u001b[1;32m    260\u001b[0m     \u001b[38;5;28mself\u001b[39m\u001b[38;5;241m.\u001b[39mwriter \u001b[38;5;241m=\u001b[39m csvlib\u001b[38;5;241m.\u001b[39mwriter(\n\u001b[1;32m    261\u001b[0m         handles\u001b[38;5;241m.\u001b[39mhandle,\n\u001b[1;32m    262\u001b[0m         lineterminator\u001b[38;5;241m=\u001b[39m\u001b[38;5;28mself\u001b[39m\u001b[38;5;241m.\u001b[39mlineterminator,\n\u001b[0;32m   (...)\u001b[0m\n\u001b[1;32m    267\u001b[0m         quotechar\u001b[38;5;241m=\u001b[39m\u001b[38;5;28mself\u001b[39m\u001b[38;5;241m.\u001b[39mquotechar,\n\u001b[1;32m    268\u001b[0m     )\n\u001b[1;32m    270\u001b[0m     \u001b[38;5;28mself\u001b[39m\u001b[38;5;241m.\u001b[39m_save()\n",
      "File \u001b[0;32m~/miniforge3/envs/langchain/lib/python3.10/site-packages/pandas/io/common.py:749\u001b[0m, in \u001b[0;36mget_handle\u001b[0;34m(path_or_buf, mode, encoding, compression, memory_map, is_text, errors, storage_options)\u001b[0m\n\u001b[1;32m    747\u001b[0m \u001b[38;5;66;03m# Only for write methods\u001b[39;00m\n\u001b[1;32m    748\u001b[0m \u001b[38;5;28;01mif\u001b[39;00m \u001b[38;5;124m\"\u001b[39m\u001b[38;5;124mr\u001b[39m\u001b[38;5;124m\"\u001b[39m \u001b[38;5;129;01mnot\u001b[39;00m \u001b[38;5;129;01min\u001b[39;00m mode \u001b[38;5;129;01mand\u001b[39;00m is_path:\n\u001b[0;32m--> 749\u001b[0m     \u001b[43mcheck_parent_directory\u001b[49m\u001b[43m(\u001b[49m\u001b[38;5;28;43mstr\u001b[39;49m\u001b[43m(\u001b[49m\u001b[43mhandle\u001b[49m\u001b[43m)\u001b[49m\u001b[43m)\u001b[49m\n\u001b[1;32m    751\u001b[0m \u001b[38;5;28;01mif\u001b[39;00m compression:\n\u001b[1;32m    752\u001b[0m     \u001b[38;5;28;01mif\u001b[39;00m compression \u001b[38;5;241m!=\u001b[39m \u001b[38;5;124m\"\u001b[39m\u001b[38;5;124mzstd\u001b[39m\u001b[38;5;124m\"\u001b[39m:\n\u001b[1;32m    753\u001b[0m         \u001b[38;5;66;03m# compression libraries do not like an explicit text-mode\u001b[39;00m\n",
      "File \u001b[0;32m~/miniforge3/envs/langchain/lib/python3.10/site-packages/pandas/io/common.py:616\u001b[0m, in \u001b[0;36mcheck_parent_directory\u001b[0;34m(path)\u001b[0m\n\u001b[1;32m    614\u001b[0m parent \u001b[38;5;241m=\u001b[39m Path(path)\u001b[38;5;241m.\u001b[39mparent\n\u001b[1;32m    615\u001b[0m \u001b[38;5;28;01mif\u001b[39;00m \u001b[38;5;129;01mnot\u001b[39;00m parent\u001b[38;5;241m.\u001b[39mis_dir():\n\u001b[0;32m--> 616\u001b[0m     \u001b[38;5;28;01mraise\u001b[39;00m \u001b[38;5;167;01mOSError\u001b[39;00m(\u001b[38;5;124mrf\u001b[39m\u001b[38;5;124m\"\u001b[39m\u001b[38;5;124mCannot save file into a non-existent directory: \u001b[39m\u001b[38;5;124m'\u001b[39m\u001b[38;5;132;01m{\u001b[39;00mparent\u001b[38;5;132;01m}\u001b[39;00m\u001b[38;5;124m'\u001b[39m\u001b[38;5;124m\"\u001b[39m)\n",
      "\u001b[0;31mOSError\u001b[0m: Cannot save file into a non-existent directory: '/content'"
     ]
    }
   ],
   "source": [
    "\n",
    "# ============================================\n",
    "# 4. 질문 생성\n",
    "# ============================================\n",
    "def generate_questions(text, n=3):\n",
    "    prompt = f\"\"\"\n",
    "    문서를 참고해서 다양한 질문 {n}개를 생성하라.\n",
    "    - 추론형\n",
    "    - 단순 factual\n",
    "    - 조건형 (만약 ~라면?)\n",
    "\n",
    "    문서 내용:\n",
    "    {text[:1500]}\n",
    "    \"\"\"\n",
    "    resp = client.chat.completions.create(\n",
    "        model=\"gpt-4o-mini\",\n",
    "        messages=[{\"role\":\"user\",\"content\":prompt}],\n",
    "        temperature=0.7\n",
    "    )\n",
    "    return [q for q in resp.choices[0].message.content.split(\"\\n\") if q.strip()]\n",
    "\n",
    "questions = generate_questions(document_text, n=3)\n",
    "print(\"📌 생성된 질문:\", questions)\n",
    "\n",
    "# ============================================\n",
    "# 5. 답변 생성\n",
    "# ============================================\n",
    "def answer_question(question, context):\n",
    "    prompt = f\"\"\"\n",
    "    다음 문서를 기반으로 질문에 답하라.\n",
    "\n",
    "    문서 일부:\n",
    "    {context[:2000]}\n",
    "\n",
    "    질문: {question}\n",
    "    \"\"\"\n",
    "    resp = client.chat.completions.create(\n",
    "        model=\"gpt-4o-mini\",\n",
    "        messages=[{\"role\":\"user\",\"content\":prompt}],\n",
    "        temperature=0.5\n",
    "    )\n",
    "    return resp.choices[0].message.content\n",
    "\n",
    "# ============================================\n",
    "# 6. 평가 (LLM-as-Judge)\n",
    "# ============================================\n",
    "def judge_answer(question, answer, reference_text):\n",
    "    eval_prompt = f\"\"\"\n",
    "    너는 LLM-as-Judge 평가자이다.\n",
    "    아래 질문과 답변을 평가하라.\n",
    "\n",
    "    문서 일부:\n",
    "    {reference_text[:1000]}\n",
    "\n",
    "    질문: {question}\n",
    "    답변: {answer}\n",
    "\n",
    "    평가 기준:\n",
    "    - 관련성 (1~5)\n",
    "    - 정확성 (1~5)\n",
    "    - 논리성 (1~5)\n",
    "    - 간결성 (1~5)\n",
    "\n",
    "    출력 형식:\n",
    "    관련성: x\n",
    "    정확성: x\n",
    "    논리성: x\n",
    "    간결성: x\n",
    "    총평: 간단 코멘트\n",
    "    \"\"\"\n",
    "    resp = client.chat.completions.create(\n",
    "        model=\"gpt-4o-mini\",\n",
    "        messages=[{\"role\":\"user\",\"content\":eval_prompt}],\n",
    "        temperature=0\n",
    "    )\n",
    "    return resp.choices[0].message.content\n",
    "\n",
    "# ============================================\n",
    "# 7. 실행 및 DataFrame 생성\n",
    "# ============================================\n",
    "records = []\n",
    "for q in questions:\n",
    "    ans = answer_question(q, document_text)\n",
    "    eval_text = judge_answer(q, ans, document_text)\n",
    "\n",
    "    scores = {\"질문\": q, \"답변\": ans, \"관련성\":0,\"정확성\":0,\"논리성\":0,\"간결성\":0,\"총평\":\"\"}\n",
    "    for line in eval_text.split(\"\\n\"):\n",
    "        if \"관련성\" in line:\n",
    "            match = re.search(r\"\\d+\", line)\n",
    "            if match: scores[\"관련성\"] = int(match.group())\n",
    "        elif \"정확성\" in line:\n",
    "            match = re.search(r\"\\d+\", line)\n",
    "            if match: scores[\"정확성\"] = int(match.group())\n",
    "        elif \"논리성\" in line:\n",
    "            match = re.search(r\"\\d+\", line)\n",
    "            if match: scores[\"논리성\"] = int(match.group())\n",
    "        elif \"간결성\" in line:\n",
    "            match = re.search(r\"\\d+\", line)\n",
    "            if match: scores[\"간결성\"] = int(match.group())\n",
    "        elif \"총평\" in line:\n",
    "            scores[\"총평\"] = line.split(\":\",1)[-1].strip()\n",
    "\n",
    "    records.append(scores)\n",
    "\n",
    "df = pd.DataFrame(records)\n",
    "\n",
    "# ============================================\n",
    "# 8. DataFrame 출력\n",
    "# ============================================\n",
    "display(df)\n",
    "\n",
    "# ============================================\n",
    "# 9. 시각화\n",
    "# ============================================\n",
    "mean_scores = df[[\"관련성\",\"정확성\",\"논리성\",\"간결성\"]].mean()\n",
    "\n",
    "plt.figure(figsize=(6,4))\n",
    "mean_scores.plot(kind=\"bar\", color=\"skyblue\")\n",
    "plt.title(\"LLM-as-Judge 평균 평가 점수\")\n",
    "plt.ylabel(\"점수 (1~5)\")\n",
    "plt.ylim(0,5)\n",
    "plt.show()\n"
   ]
  },
  {
   "cell_type": "code",
   "execution_count": 27,
   "metadata": {},
   "outputs": [
    {
     "name": "stdout",
     "output_type": "stream",
     "text": [
      "📂 결과가 evaluation_results.csv 로 저장되었습니다.\n"
     ]
    }
   ],
   "source": [
    "\n",
    "# ============================================\n",
    "# 10. CSV 저장 (선택 사항)\n",
    "# ============================================\n",
    "df.to_csv(\"./evaluation_results.csv\", index=False, encoding=\"utf-8-sig\")\n",
    "print(\"📂 결과가 evaluation_results.csv 로 저장되었습니다.\")"
   ]
  }
 ],
 "metadata": {
  "accelerator": "GPU",
  "colab": {
   "gpuType": "L4",
   "machine_shape": "hm",
   "provenance": []
  },
  "kernelspec": {
   "display_name": "langchain",
   "language": "python",
   "name": "python3"
  },
  "language_info": {
   "codemirror_mode": {
    "name": "ipython",
    "version": 3
   },
   "file_extension": ".py",
   "mimetype": "text/x-python",
   "name": "python",
   "nbconvert_exporter": "python",
   "pygments_lexer": "ipython3",
   "version": "3.10.18"
  }
 },
 "nbformat": 4,
 "nbformat_minor": 0
}
