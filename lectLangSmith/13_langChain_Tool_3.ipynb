{
  "cells": [
    {
      "cell_type": "markdown",
      "metadata": {},
      "source": [
        "# IMAGE GENERATION prompt\n",
        "\n",
        "## with DALL-E API"
      ]
    },
    {
      "cell_type": "code",
      "execution_count": null,
      "metadata": {
        "colab": {
          "base_uri": "https://localhost:8080/"
        },
        "id": "NcCYI_7nA4wN",
        "outputId": "b65376a8-3d47-4003-9269-b768043c8fb7"
      },
      "outputs": [],
      "source": [
        "!pip install openai langsmith langchain_community langchain_openai --upgrade"
      ]
    },
    {
      "cell_type": "code",
      "execution_count": null,
      "metadata": {
        "id": "Uc1CChpoAUjw"
      },
      "outputs": [],
      "source": [
        "import os\n",
        "# OpenAI API 키 설정 (사용자가 입력해야 함)\n",
        "# from google.colab import userdata\n",
        "# api_key=userdata.get('api_key')\n",
        "# os.environ[\"OPENAI_API_KEY\"] = api_key\n",
        "# api_key2=userdata.get('api_key2')\n",
        "# os.environ[\"LANGCHAIN_API_KEY\"] = api_key2\n",
        "\n",
        "from dotenv import load_dotenv\n",
        "\n",
        "load_dotenv()\n",
        "# OpenAI API 클라이언트 생성\n",
        "OPENAPI_KEY = os.getenv(\"OPENAI_API_KEY\")\n",
        "LangSmith_KEY = os.getenv(\"LANGCHAIN_API_KEY\")\n",
        "\n",
        "# 2) LangSmith 연동 필수 환경변수\n",
        "os.environ[\"LANGCHAIN_TRACING_V2\"] = \"true\"      # 트레이싱 활성화\n",
        "os.environ[\"LANGSMITH_ENDPOINT\"]   = \"https://api.smith.langchain.com\"  # 기본값\n",
        "os.environ[\"LANGSMITH_PROJECT\"]    = \"RAG_Tools_DALLE\"                 # 수업용 프로젝트명"
      ]
    },
    {
      "cell_type": "code",
      "execution_count": 10,
      "metadata": {
        "colab": {
          "base_uri": "https://localhost:8080/"
        },
        "id": "RKY-2phX_-NL",
        "outputId": "216e695b-ae78-45b2-d377-1609ab104d92"
      },
      "outputs": [
        {
          "name": "stdout",
          "output_type": "stream",
          "text": [
            "Create a neo-classical painting depicting a group of people in a grand, classical setting, all intently focused on their smartphones. The scene should feature ornate architectural elements, such as marble columns and intricate ceiling details, reminiscent of classical art. The individuals should be dressed in elegant, period-specific attire, blending the opulence of classical fashion with the modernity of technology. Their expressions should convey a mix of curiosity and distraction as they interact with their devices, contrasting the timeless beauty of the surroundings with the contemporary nature of their gadgets. Soft, natural light should illuminate the scene, highlighting the juxtaposition of old-world elegance and modern digital obsession. The overall color palette should feature rich, warm tones, evoking a sense of nostalgia while accentuating the absurdity of the situation.\n"
          ]
        }
      ],
      "source": [
        "from langchain_core.output_parsers import StrOutputParser\n",
        "from langchain_core.prompts import PromptTemplate\n",
        "from langchain_openai import ChatOpenAI\n",
        "\n",
        "# ChatOpenAI 모델 초기화\n",
        "llm = ChatOpenAI(model=\"gpt-4o-mini\", temperature=0.9, max_tokens=1000)\n",
        "\n",
        "# DALL-E 이미지 생성을 위한 프롬프트 템플릿 정의\n",
        "prompt = PromptTemplate.from_template(\n",
        "    \"Generate a detailed IMAGE GENERATION prompt for DALL-E based on the following description. \"\n",
        "    \"Return only the prompt, no intro, no explanation, no chatty, no markdown, no code block, no nothing. Just the prompt\"\n",
        "    \"Output should be less than 1000 characters. Write in English only.\"\n",
        "    \"Image Description: \\n{image_desc}\",\n",
        ")\n",
        "\n",
        "# 프롬프트, LLM, 출력 파서를 연결하는 체인 생성\n",
        "chain = prompt | llm | StrOutputParser()\n",
        "\n",
        "# 체인 실행\n",
        "image_prompt = chain.invoke(\n",
        "    {\"image_desc\": \"스마트폰을 바라보는 사람들을 풍자한 neo-classicism painting\"}\n",
        ")\n",
        "\n",
        "# 이미지 프롬프트 출력\n",
        "print(image_prompt)\n"
      ]
    },
    {
      "cell_type": "code",
      "execution_count": 11,
      "metadata": {
        "colab": {
          "base_uri": "https://localhost:8080/",
          "height": 34
        },
        "id": "e_2CLj7AAB3A",
        "outputId": "613290f7-b9c1-4d04-e482-b2cbb30980c4"
      },
      "outputs": [
        {
          "data": {
            "text/html": [
              "<img src=\"https://oaidalleapiprodscus.blob.core.windows.net/private/org-gR5qydFBW0GIZb0euoaONvIt/user-fGOvPmgGVTaZVLZTxiIGcgtd/img-xaaJLP0CeySNpCBSh22V4OYs.png?st=2025-09-02T01%3A45%3A00Z&se=2025-09-02T03%3A45%3A00Z&sp=r&sv=2024-08-04&sr=b&rscd=inline&rsct=image/png&skoid=b1a0ae1f-618f-4548-84fd-8b16cacd5485&sktid=a48cca56-e6da-484e-a814-9c849652bcb3&skt=2025-09-01T13%3A40%3A13Z&ske=2025-09-02T13%3A40%3A13Z&sks=b&skv=2024-08-04&sig=zK/1Ve4wyPfOWIkO5WocUxx3hsDTd4i/F7gpdGGAHbY%3D\" width=\"500\"/>"
            ],
            "text/plain": [
              "<IPython.core.display.Image object>"
            ]
          },
          "execution_count": 11,
          "metadata": {},
          "output_type": "execute_result"
        }
      ],
      "source": [
        "# DALL-E API 래퍼 가져오기\n",
        "from langchain_community.utilities.dalle_image_generator import DallEAPIWrapper\n",
        "from IPython.display import Image\n",
        "\n",
        "# DALL-E API 래퍼 초기화\n",
        "# model: 사용할 DALL-E 모델 버전\n",
        "# size: 생성할 이미지 크기\n",
        "# quality: 이미지 품질\n",
        "# n: 생성할 이미지 수\n",
        "dalle = DallEAPIWrapper(model=\"dall-e-3\", size=\"1024x1024\", quality=\"standard\", n=1)\n",
        "\n",
        "# 질문\n",
        "query = \"스마트폰을 바라보는 사람들을 풍자한 neo-classicism painting\"\n",
        "\n",
        "# 이미지 생성 및 URL 받기\n",
        "# chain.invoke()를 사용하여 이미지 설명을 DALL-E 프롬프트로 변환\n",
        "# dalle.run()을 사용하여 실제 이미지 생성\n",
        "image_url = dalle.run(chain.invoke({\"image_desc\": query}))\n",
        "\n",
        "# 생성된 이미지를 표시합니다.\n",
        "Image(url=image_url, width=500)\n"
      ]
    }
  ],
  "metadata": {
    "accelerator": "GPU",
    "colab": {
      "gpuType": "A100",
      "machine_shape": "hm",
      "provenance": []
    },
    "kernelspec": {
      "display_name": "Python 3",
      "name": "python3"
    },
    "language_info": {
      "name": "python"
    }
  },
  "nbformat": 4,
  "nbformat_minor": 0
}
