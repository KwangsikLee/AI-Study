{
  "cells": [
    {
      "cell_type": "code",
      "execution_count": null,
      "metadata": {
        "colab": {
          "base_uri": "https://localhost:8080/"
        },
        "collapsed": true,
        "id": "DvWfOO9U-V8_",
        "outputId": "c0672144-45c7-4ce9-ed51-2e3fd7c6b962"
      },
      "outputs": [],
      "source": [
        "!pip install -qU langchain-teddynote\n",
        "from langchain_teddynote import logging"
      ]
    },
    {
      "cell_type": "code",
      "execution_count": null,
      "metadata": {
        "colab": {
          "base_uri": "https://localhost:8080/"
        },
        "collapsed": true,
        "id": "1fc0bf79",
        "outputId": "36a85d8e-5a3e-437c-e29b-b31ac97b8564"
      },
      "outputs": [],
      "source": [
        "!pip install -U langchain-experimental"
      ]
    },
    {
      "cell_type": "code",
      "execution_count": null,
      "metadata": {
        "id": "L_hKs2Ld_IB7"
      },
      "outputs": [],
      "source": [
        "import os\n",
        "# OpenAI API 키 설정 (사용자가 입력해야 함)\n",
        "# from google.colab import userdata\n",
        "# api_key=userdata.get('api_key')\n",
        "# os.environ[\"OPENAI_API_KEY\"] = api_key\n",
        "# api_key2=userdata.get('api_key2')\n",
        "# os.environ[\"LANGCHAIN_API_KEY\"] = api_key2\n",
        "\n",
        "from dotenv import load_dotenv\n",
        "\n",
        "load_dotenv()\n",
        "# OpenAI API 클라이언트 생성\n",
        "OPENAPI_KEY = os.getenv(\"OPENAI_API_KEY\")\n",
        "LangSmith_KEY = os.getenv(\"LANGCHAIN_API_KEY\")\n",
        "\n",
        "# 2) LangSmith 연동 필수 환경변수\n",
        "os.environ[\"LANGCHAIN_TRACING_V2\"] = \"true\"      # 트레이싱 활성화\n",
        "os.environ[\"LANGSMITH_ENDPOINT\"]   = \"https://api.smith.langchain.com\"  # 기본값\n",
        "os.environ[\"LANGSMITH_PROJECT\"]    = \"RAG_Tools_ex\"                 # 수업용 프로젝트명"
      ]
    },
    {
      "cell_type": "code",
      "execution_count": 4,
      "metadata": {
        "id": "0tn_M3r8-Fpq"
      },
      "outputs": [],
      "source": [
        "from langchain_experimental.tools import PythonREPLTool\n",
        "\n",
        "# 파이썬 코드를 실행하는 도구를 생성합니다.\n",
        "python_tool = PythonREPLTool()\n"
      ]
    },
    {
      "cell_type": "code",
      "execution_count": 5,
      "metadata": {
        "colab": {
          "base_uri": "https://localhost:8080/"
        },
        "id": "HQebwgXnzlkg",
        "outputId": "bad9a44d-3d2e-4c9b-be90-1699b39e68c0"
      },
      "outputs": [
        {
          "name": "stdout",
          "output_type": "stream",
          "text": [
            "300\n"
          ]
        }
      ],
      "source": [
        "print(100 + 200)"
      ]
    },
    {
      "cell_type": "code",
      "execution_count": 6,
      "metadata": {
        "colab": {
          "base_uri": "https://localhost:8080/"
        },
        "id": "EgHJzVd0-Hrf",
        "outputId": "0182f50a-4083-409a-93aa-8775dc1c4da2"
      },
      "outputs": [
        {
          "name": "stderr",
          "output_type": "stream",
          "text": [
            "WARNING:langchain_experimental.utilities.python:Python REPL can execute arbitrary code. Use with caution.\n"
          ]
        },
        {
          "name": "stdout",
          "output_type": "stream",
          "text": [
            "300\n",
            "\n"
          ]
        }
      ],
      "source": [
        "# 파이썬 코드를 실행하고 결과를 반환합니다.\n",
        "print(python_tool.invoke(\"print(100 + 200)\"))\n"
      ]
    },
    {
      "cell_type": "code",
      "execution_count": 7,
      "metadata": {
        "id": "3YbVx_vJ-IlS"
      },
      "outputs": [],
      "source": [
        "from langchain_openai import ChatOpenAI\n",
        "from langchain_core.prompts import ChatPromptTemplate\n",
        "from langchain_core.output_parsers import StrOutputParser\n",
        "from langchain_core.runnables import RunnableLambda\n",
        "\n",
        "\n",
        "# 파이썬 코드를 실행하고 중간 과정을 출력하고 도구 실행 결과를 반환하는 함수\n",
        "def print_and_execute(code, debug=True):\n",
        "    if debug:\n",
        "        print(\"CODE:\")\n",
        "        print(code)\n",
        "    return python_tool.invoke(code)\n",
        "\n",
        "\n",
        "# 파이썬 코드를 작성하도록 요청하는 프롬프트\n",
        "prompt = ChatPromptTemplate.from_messages(\n",
        "    [\n",
        "        (\n",
        "            \"system\",\n",
        "            \"You are Raymond Hetting, an expert python programmer, well versed in meta-programming and elegant, concise and short but well documented code. You follow the PEP8 style guide. \"\n",
        "            \"Return only the code, no intro, no explanation, no chatty, no markdown, no code block, no nothing. Just the code.\",\n",
        "        ),\n",
        "        (\"human\", \"{input}\"),\n",
        "    ]\n",
        ")\n",
        "# LLM 모델 생성\n",
        "llm = ChatOpenAI(model=\"gpt-4o\", temperature=0)\n",
        "\n",
        "# 프롬프트와 LLM 모델을 사용하여 체인 생성\n",
        "chain = prompt | llm | StrOutputParser() | RunnableLambda(print_and_execute)\n"
      ]
    },
    {
      "cell_type": "code",
      "execution_count": 8,
      "metadata": {
        "colab": {
          "base_uri": "https://localhost:8080/"
        },
        "id": "HGa-SqI8-J6V",
        "outputId": "4594507d-d417-4c4a-9fe8-f0afdf8f58e6"
      },
      "outputs": [
        {
          "name": "stdout",
          "output_type": "stream",
          "text": [
            "CODE:\n",
            "import random\n",
            "\n",
            "def generate_lotto_numbers():\n",
            "    return sorted(random.sample(range(1, 46), 6))\n",
            "\n",
            "print(generate_lotto_numbers())\n",
            "[3, 6, 8, 23, 27, 31]\n",
            "\n"
          ]
        }
      ],
      "source": [
        "# 결과 출력\n",
        "print(chain.invoke(\"로또 번호 생성기를 출력하는 코드를 작성하세요.\"))\n"
      ]
    }
  ],
  "metadata": {
    "colab": {
      "provenance": []
    },
    "kernelspec": {
      "display_name": "Python 3",
      "name": "python3"
    },
    "language_info": {
      "name": "python"
    }
  },
  "nbformat": 4,
  "nbformat_minor": 0
}
