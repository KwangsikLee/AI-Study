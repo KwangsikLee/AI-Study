{
  "cells": [
    {
      "cell_type": "code",
      "execution_count": null,
      "metadata": {
        "colab": {
          "base_uri": "https://localhost:8080/"
        },
        "id": "mL_9nrdh9hpb",
        "outputId": "4121acc0-2f7d-42f7-83cb-97fc1548bbcb"
      },
      "outputs": [],
      "source": [
        "!pip install -qU langchain-teddynote\n"
      ]
    },
    {
      "cell_type": "code",
      "execution_count": 2,
      "metadata": {
        "id": "vf3kRmqb9mm5"
      },
      "outputs": [],
      "source": [
        "from langchain_teddynote.tools import GoogleNews\n",
        "\n",
        "# 도구 생성\n",
        "news_tool = GoogleNews()\n"
      ]
    },
    {
      "cell_type": "code",
      "execution_count": 3,
      "metadata": {
        "colab": {
          "base_uri": "https://localhost:8080/"
        },
        "id": "5D_SlMty9nnU",
        "outputId": "4695c162-da5c-4dab-9dec-b04536e25c37"
      },
      "outputs": [
        {
          "data": {
            "text/plain": [
              "[{'url': 'https://news.google.com/rss/articles/CBMiigFBVV95cUxPZFB4ck02TG5zR3FkTjV5QVA4M2FTWjlGRGtTZXN5T29iVjFFVjAzQ1pFenRxaFNGbC1NMkMxbVBRanlESjVldHRFdk1GWlFUQm95dmI0Z0ZLam00LVNhbEE1Rnh5ZFdzRDYxME9mS2ZSY1dRRFZYMW8yYVhwMVRhQnRKc180am1feGfSAZ4BQVVfeXFMT2FRYmJ2N3dLVEhTcmRKMHI1TGtwd2FNd0FLTENKZ3BIQW1jTkppM0VzRV9pWUNCaFFNRVViX2JRUUJBZlJKRnJfbWlLR1QxTDFwSHRUS3BpeDlTY0lZR2sydUsyS3VaWUYycEl5elhFOXZIWUFaempwNEVYa1ZOc0dDMnVzTUxiMzVTRG5fWmFCRmRwb21FZEFQNFdBbGc?oc=5',\n",
              "  'content': '김정은 전용열차 ‘태양호’엔… 박격포, 벤츠 칸도 갖췄다 - 조선일보'},\n",
              " {'url': 'https://news.google.com/rss/articles/CBMiWkFVX3lxTE5rYVEwXzVrbElRUmVZM2M0eDN3NUVjYjI2NTB6d1ZWakVpM0ZySUZZM3d1Y00xUnRqejYzOUZaWGpzN0JsMXNUN28xbmFQUWlvcHQzd1o3MlpIUdIBX0FVX3lxTE12LTA2cGY3d09RY3VwT1Y4dnhxUW8wYUVRUW11RUxoTTkzSE1QMUd3Mlc5S0M1YUZrS3dNbllNMWtXWjBRRmZhM2JSbmR2NFlJbC0zcHM4eE0zMHk5dG40?oc=5',\n",
              "  'content': 'CCTV 본 법사위원들 “윤석열, 구치소 제왕처럼 군림···속옷 차림 저항 맞다” - 경향신문'},\n",
              " {'url': 'https://news.google.com/rss/articles/CBMiakFVX3lxTE9jemU4Yml0Z3NMTU93bDNCbG0zVmhTT3ZHVGpaN3ZmYmRpdTBPSzVzUHYxVTM0eFRnT0dJbW5NVW00Q08yZUkwMkhNR0tRM3AybWdOSGJXYXpkMnkycjJMYWNWSWJvYlVZdGc?oc=5',\n",
              "  'content': '‘한복 대 상복’ 첫날부터 갈라진 여야…내주 권성동 체포안 충돌 - 한겨레'},\n",
              " {'url': 'https://news.google.com/rss/articles/CBMiUkFVX3lxTE5FNjFTeC1rc0pXd2IwN3hQZFRWX19Kbmg0bjZhY21QaC0ybmNYOFJUVkZxbkhRNzc4ZDJvRkwyeDRtNW8yUmJuaXgwakFZRWp4NFE?oc=5',\n",
              "  'content': '윤석열 영치금 3억원 모금…변호사비·치료비로 지출 - 노컷뉴스'},\n",
              " {'url': 'https://news.google.com/rss/articles/CBMiWkFVX3lxTE5XcVV1dUdTdmNpQm5lVldQX3hKbS05M1ltMjgzcmZzSlczMGJUdFY4UjNjbm40LVprNWV3eVZhVGhmc3lVSGNBZkZvVkVSdlVzVGhKb2NHLWo0d9IBX0FVX3lxTE5WSXd4bi12RGpqcEF1QmdiRTM4UXZYXzNtV0VwQ194QWNzemdLYjdnVXQwdXdmMGlaVU1RQk9GV2ptTDUxRDhXMDRwWXFkOTN2b1l3Q0ZRWHAweHJCWHFZ?oc=5',\n",
              "  'content': '상하이협력기구 “이란 공습, 미국·이스라엘 규탄” - 경향신문'}]"
            ]
          },
          "execution_count": 3,
          "metadata": {},
          "output_type": "execute_result"
        }
      ],
      "source": [
        "# 최신 뉴스 검색\n",
        "news_tool.search_latest(k=5)\n"
      ]
    },
    {
      "cell_type": "code",
      "execution_count": 4,
      "metadata": {
        "id": "o7RrGSHF94vJ"
      },
      "outputs": [],
      "source": [
        "from langchain_teddynote.tools import GoogleNews\n",
        "from langchain.tools import tool\n",
        "from typing import List, Dict\n",
        "\n",
        "\n",
        "# 키워드로 뉴스 검색하는 도구 생성\n",
        "@tool\n",
        "def search_keyword(query: str) -> List[Dict[str, str]]:\n",
        "    \"\"\"Look up news by keyword\"\"\"\n",
        "    print(query)\n",
        "    news_tool = GoogleNews()\n",
        "    return news_tool.search_by_keyword(query, k=5)\n"
      ]
    },
    {
      "cell_type": "code",
      "execution_count": 5,
      "metadata": {
        "colab": {
          "base_uri": "https://localhost:8080/"
        },
        "id": "mnHTuzP896Fw",
        "outputId": "ebd8df11-d14b-45bc-8abe-2ec338ff5be2"
      },
      "outputs": [
        {
          "name": "stdout",
          "output_type": "stream",
          "text": [
            "AI 투자\n"
          ]
        },
        {
          "data": {
            "text/plain": [
              "[{'url': 'https://news.google.com/rss/articles/CBMiVkFVX3lxTE9sTFEtYVNFY2VQU1pEc01EbVgyTklEdnpvMXBtcF9mMjF2TUcwU2lNYVJBRjdSRzJSaHJzNlVqSlBROWp3UXZpS01vUmV6VG0tUk10aXdR?oc=5',\n",
              "  'content': \"메타, 19조원 투자한 스케일 AI와 '삐거덕' - 지디넷코리아\"},\n",
              " {'url': 'https://news.google.com/rss/articles/CBMic0FVX3lxTE1rbWVuMWwtR1AwajhSVmh4WXVzaEFpT0pULWNNZ2xhbERuVnkzbkNsQUlzOENoRHI5ajU4TnNqQ3JHNk42czdOa0hKRmUwTkE5S05EZUlHRW82bmhUamZIWEdYRWtBblQ3bVhkOEI2VlVWT1E?oc=5',\n",
              "  'content': '“20조원 투자했는데” 메타-스케일AI ‘삐그덕’ - 마켓인'},\n",
              " {'url': 'https://news.google.com/rss/articles/CBMiU0FVX3lxTE1hbnhaTFpkc000MFZEZF9TeFVXVVQ0OW1SN1EwSjRQMmZLUzZuNUc0ZW1JT25lM0xQR2h4NjR4cXhJcXhnU3pnd2h2OVdQVXMteDhF0gFYQVVfeXFMTlJ6bFkwSGV0bEgzcElBa2g1QkxtZkVGaDRBS1d1VFl1QTBQbDBuTzkwVXRuLXFsZUw5Nm1sUTZYTWRWSHZIYXBVdHpWT2FYZ0Y3eS1KNHJQeA?oc=5',\n",
              "  'content': '20조원 투자 사실은 왕 영입 목적…스케일AI 출신 메타 떠나고 - SBS Biz'},\n",
              " {'url': 'https://news.google.com/rss/articles/CBMiaEFVX3lxTE92Tm9DaU03N25VLTJnMHVJUXpwdlFwSkhLalJQRDRUMjdZcGdMcGZybFh5Nlk2WFZ0TWFnQ1Jsc2tISndsRUw2dUUzMHFySmVSQzJqNVRzUVRuWTlTVHI4Z09IOWoyS2pu0gFsQVVfeXFMTmZVSkxKd0k5b1RKSGtFNWNHdXVoSUZibDdKLXdVdmZIYzVRZmlKZjBLMnlITHpqTWlsU01SR0g1RExONHpGaWZqSm1Ec3BraEVEaWZOdlpwTXJKTWl6czZnOW1LREhmelZpQ2pH?oc=5',\n",
              "  'content': '프렌들리AI, 캡스톤파트너스 주도로 275억 투자 유치 - 블로터'},\n",
              " {'url': 'https://news.google.com/rss/articles/CBMiakFVX3lxTE0yclBkbjJkZWZsOEZBNGVqYUFoTHFxSEE2VW8tTVVGcURIakJmZ1g3QVpQTndxaUtpeElOakpqSlptRnZmMURYajU5dXhPclg1aUJIVkdxNllkbjRiTDA1YVdxS2dVMnhHaHc?oc=5',\n",
              "  'content': '중국, 과도한 AI 투자에 경고...캠브리콘 주가 11% 급락 - AI타임스'}]"
            ]
          },
          "execution_count": 5,
          "metadata": {},
          "output_type": "execute_result"
        }
      ],
      "source": [
        "# 실행 결과\n",
        "search_keyword.invoke({\"query\": \"AI 투자\"})\n"
      ]
    }
  ],
  "metadata": {
    "colab": {
      "provenance": []
    },
    "kernelspec": {
      "display_name": "langchain",
      "language": "python",
      "name": "python3"
    },
    "language_info": {
      "name": "python",
      "version": "3.10.18"
    }
  },
  "nbformat": 4,
  "nbformat_minor": 0
}
