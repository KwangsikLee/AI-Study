{
  "cells": [
    {
      "cell_type": "code",
      "execution_count": null,
      "metadata": {
        "colab": {
          "base_uri": "https://localhost:8080/"
        },
        "id": "n8jtn9u4zSFx",
        "outputId": "874526cd-12e7-47c4-bb64-b28bc454155f"
      },
      "outputs": [],
      "source": [
        "# ============================================\n",
        "# 1. 패키지 설치\n",
        "# ============================================\n",
        "!pip -q install langchain langchain-openai langchain-community duckduckgo-search gradio\n"
      ]
    },
    {
      "cell_type": "code",
      "execution_count": null,
      "metadata": {
        "id": "9bkr1zYIz9Ho"
      },
      "outputs": [],
      "source": [
        "# ============================================\n",
        "# 2. 환경 변수\n",
        "# ============================================\n",
        "import os\n",
        "\n",
        "# OpenAI API 키 설정 (사용자가 입력해야 함)\n",
        "# from google.colab import userdata\n",
        "# api_key=userdata.get('api_key')\n",
        "# os.environ[\"OPENAI_API_KEY\"] = api_key\n",
        "# api_key2=userdata.get('api_key2')\n",
        "# os.environ[\"LANGCHAIN_API_KEY\"] = api_key2\n",
        "\n",
        "from dotenv import load_dotenv\n",
        "\n",
        "load_dotenv()\n",
        "# OpenAI API 클라이언트 생성\n",
        "OPENAPI_KEY = os.getenv(\"OPENAI_API_KEY\")\n",
        "LangSmith_KEY = os.getenv(\"LANGCHAIN_API_KEY\")\n",
        "\n",
        "# 2) LangSmith 연동 필수 환경변수\n",
        "os.environ[\"LANGCHAIN_TRACING_V2\"] = \"true\"      # 트레이싱 활성화\n",
        "os.environ[\"LANGSMITH_ENDPOINT\"]   = \"https://api.smith.langchain.com\"  # 기본값\n",
        "os.environ[\"LANGSMITH_PROJECT\"]    = \"Two_Agent\"                 # 수업용 프로젝트명"
      ]
    },
    {
      "cell_type": "code",
      "execution_count": 3,
      "metadata": {
        "id": "Vam6QGwKz-v9"
      },
      "outputs": [],
      "source": [
        "# ============================================\n",
        "# 3. 모듈 임포트\n",
        "# ============================================\n",
        "from langchain_openai import ChatOpenAI\n",
        "from langchain.tools import Tool\n",
        "from langchain.agents import create_openai_tools_agent, AgentExecutor\n",
        "from langchain.prompts import ChatPromptTemplate, MessagesPlaceholder\n",
        "from duckduckgo_search import DDGS\n",
        "import gradio as gr"
      ]
    },
    {
      "cell_type": "code",
      "execution_count": 4,
      "metadata": {
        "colab": {
          "base_uri": "https://localhost:8080/",
          "height": 689
        },
        "id": "As3CgVXn0D96",
        "outputId": "1df97717-2da2-43bc-8c9e-4abd2676fc9b"
      },
      "outputs": [
        {
          "name": "stderr",
          "output_type": "stream",
          "text": [
            "/tmp/ipython-input-3401175143.py:73: UserWarning: You have not specified a value for the `type` parameter. Defaulting to the 'tuples' format for chatbot messages, but this is deprecated and will be removed in a future version of Gradio. Please set type='messages' instead, which uses openai-style dictionaries with 'role' and 'content' keys.\n",
            "  output_chat = gr.Chatbot(label=\"토론 대화\", height=400)\n"
          ]
        },
        {
          "name": "stdout",
          "output_type": "stream",
          "text": [
            "Colab notebook detected. This cell will run indefinitely so that you can see errors and logs. To turn off, set debug=False in launch().\n",
            "* Running on public URL: https://5e3eae46512f96ca94.gradio.live\n",
            "\n",
            "This share link expires in 1 week. For free permanent hosting and GPU upgrades, run `gradio deploy` from the terminal in the working directory to deploy to Hugging Face Spaces (https://huggingface.co/spaces)\n"
          ]
        },
        {
          "data": {
            "text/html": [
              "<div><iframe src=\"https://5e3eae46512f96ca94.gradio.live\" width=\"100%\" height=\"500\" allow=\"autoplay; camera; microphone; clipboard-read; clipboard-write;\" frameborder=\"0\" allowfullscreen></iframe></div>"
            ],
            "text/plain": [
              "<IPython.core.display.HTML object>"
            ]
          },
          "metadata": {},
          "output_type": "display_data"
        },
        {
          "name": "stdout",
          "output_type": "stream",
          "text": [
            "Keyboard interruption in main thread... closing server.\n",
            "Killing tunnel 127.0.0.1:7860 <> https://5e3eae46512f96ca94.gradio.live\n"
          ]
        }
      ],
      "source": [
        "# ============================================\n",
        "# 4. 검색 Tool 정의\n",
        "# ============================================\n",
        "def search_news(query: str) -> str:\n",
        "    \"\"\"DuckDuckGo 뉴스 검색\"\"\"\n",
        "    with DDGS() as ddgs:\n",
        "        results = list(ddgs.news(query, max_results=3))\n",
        "    if not results:\n",
        "        return \"검색 결과 없음\"\n",
        "    return \"\\n\".join([f\"{r['title']} - {r['body']}\" for r in results])\n",
        "\n",
        "search_tool = Tool(\n",
        "    name=\"search_news\",\n",
        "    description=\"주어진 주제와 관련된 최근 뉴스를 검색한다.\",\n",
        "    func=search_news\n",
        ")\n",
        "\n",
        "# ============================================\n",
        "# 5. 에이전트 프롬프트\n",
        "# ============================================\n",
        "def make_agent(role: str):\n",
        "    llm = ChatOpenAI(model=\"gpt-4o-mini\", temperature=0.7)\n",
        "    prompt = ChatPromptTemplate.from_messages([\n",
        "        (\"system\", f\"너는 토론 참가자이다. 역할: {role}.\"),\n",
        "        MessagesPlaceholder(variable_name=\"chat_history\"),\n",
        "        (\"human\", \"{input}\"),\n",
        "        MessagesPlaceholder(variable_name=\"agent_scratchpad\"),\n",
        "    ])\n",
        "    agent = create_openai_tools_agent(llm, [search_tool], prompt)\n",
        "    return AgentExecutor(agent=agent, tools=[search_tool], verbose=False)\n",
        "\n",
        "# 두 명의 토론자 생성\n",
        "agent_A = make_agent(\"찬성 측\")\n",
        "agent_B = make_agent(\"반대 측\")\n",
        "\n",
        "# ============================================\n",
        "# 6. 토론 시뮬레이션\n",
        "# ============================================\n",
        "def run_debate(topic: str, rounds: int = 3):\n",
        "    \"\"\"두 에이전트가 교대로 토론\"\"\"\n",
        "    history = []\n",
        "    statement_A = f\"오늘 토론 주제는 '{topic}'입니다. 나는 찬성 측으로 발언을 시작하겠습니다.\"\n",
        "    statement_B = f\"나는 반대 측으로 발언하겠습니다.\"\n",
        "\n",
        "    debate_log = []\n",
        "    debate_log.append((\"찬성측\", statement_A))\n",
        "    debate_log.append((\"반대측\", statement_B))\n",
        "\n",
        "    last_msg = topic\n",
        "    for i in range(rounds):\n",
        "        # A 발언\n",
        "        res_A = agent_A.invoke({\"input\": last_msg, \"chat_history\": []})\n",
        "        reply_A = res_A[\"output\"]\n",
        "        debate_log.append((\"찬성측\", reply_A))\n",
        "\n",
        "        # B 반박\n",
        "        res_B = agent_B.invoke({\"input\": reply_A, \"chat_history\": []})\n",
        "        reply_B = res_B[\"output\"]\n",
        "        debate_log.append((\"반대측\", reply_B))\n",
        "\n",
        "        last_msg = reply_B\n",
        "\n",
        "    return debate_log\n",
        "\n",
        "# ============================================\n",
        "# 7. Gradio UI\n",
        "# ============================================\n",
        "with gr.Blocks(theme=gr.themes.Soft()) as demo:\n",
        "    gr.Markdown(\"# 🗣️ 토론 에이전트 시뮬레이터\\n주제를 입력하면 두 AI가 토론합니다.\")\n",
        "\n",
        "    topic_box = gr.Textbox(label=\"토론 주제\", placeholder=\"예: 인공지능은 일자리에 위협이 될까?\")\n",
        "    rounds_slider = gr.Slider(1, 5, value=3, step=1, label=\"토론 라운드 수\")\n",
        "    output_chat = gr.Chatbot(label=\"토론 대화\", height=400)\n",
        "    run_btn = gr.Button(\"토론 시작\")\n",
        "\n",
        "    def start_debate(topic, rounds):\n",
        "        log = run_debate(topic, rounds)\n",
        "        return [(f\"{speaker}:\", msg) for speaker, msg in log]\n",
        "\n",
        "    run_btn.click(start_debate, [topic_box, rounds_slider], output_chat)\n",
        "\n",
        "# ============================================\n",
        "# 8. 실행\n",
        "# ============================================\n",
        "if __name__ == \"__main__\":\n",
        "    demo.launch(share=True, debug=True)"
      ]
    }
  ],
  "metadata": {
    "colab": {
      "provenance": []
    },
    "kernelspec": {
      "display_name": "Python 3",
      "name": "python3"
    },
    "language_info": {
      "name": "python"
    }
  },
  "nbformat": 4,
  "nbformat_minor": 0
}
