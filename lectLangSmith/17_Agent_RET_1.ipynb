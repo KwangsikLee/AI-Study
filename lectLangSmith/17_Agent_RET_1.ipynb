{
  "cells": [
    {
      "cell_type": "code",
      "execution_count": null,
      "metadata": {
        "colab": {
          "base_uri": "https://localhost:8080/"
        },
        "id": "TvfnkR8hwvIU",
        "outputId": "09cf5517-7698-4dfd-a09b-f6bb95524a1c"
      },
      "outputs": [],
      "source": [
        "!pip -q install langchain langchain-openai langchain-community chromadb gradio"
      ]
    },
    {
      "cell_type": "code",
      "execution_count": null,
      "metadata": {
        "id": "6sJmME_lw-a3"
      },
      "outputs": [],
      "source": [
        "import os\n",
        "\n",
        "# OpenAI API 키 설정 (사용자가 입력해야 함)\n",
        "# from google.colab import userdata\n",
        "# api_key=userdata.get('api_key')\n",
        "# os.environ[\"OPENAI_API_KEY\"] = api_key\n",
        "# api_key2=userdata.get('api_key2')\n",
        "# os.environ[\"LANGCHAIN_API_KEY\"] = api_key2\n",
        "\n",
        "from dotenv import load_dotenv\n",
        "\n",
        "load_dotenv()\n",
        "# OpenAI API 클라이언트 생성\n",
        "OPENAPI_KEY = os.getenv(\"OPENAI_API_KEY\")\n",
        "LangSmith_KEY = os.getenv(\"LANGCHAIN_API_KEY\")\n",
        "\n",
        "# 2) LangSmith 연동 필수 환경변수\n",
        "os.environ[\"LANGCHAIN_TRACING_V2\"] = \"true\"      # 트레이싱 활성화\n",
        "os.environ[\"LANGSMITH_ENDPOINT\"]   = \"https://api.smith.langchain.com\"  # 기본값\n",
        "os.environ[\"LANGSMITH_PROJECT\"]    = \"AGENT_ret_1\"                 # 수업용 프로젝트명"
      ]
    },
    {
      "cell_type": "code",
      "execution_count": 5,
      "metadata": {
        "colab": {
          "base_uri": "https://localhost:8080/"
        },
        "id": "iQBJFUvJw7gs",
        "outputId": "0b6f4daa-58d7-43a4-8e5b-8fd791c05932"
      },
      "outputs": [
        {
          "name": "stdout",
          "output_type": "stream",
          "text": [
            "\n",
            "\n",
            "\u001b[1m> Entering new AgentExecutor chain...\u001b[0m\n",
            "\u001b[32;1m\u001b[1;3m\n",
            "Invoking: `news_search` with `삼성전자`\n",
            "\n",
            "\n",
            "\u001b[0m"
          ]
        },
        {
          "name": "stderr",
          "output_type": "stream",
          "text": [
            "/tmp/ipython-input-4105117717.py:32: LangChainDeprecationWarning: The method `BaseRetriever.get_relevant_documents` was deprecated in langchain-core 0.1.46 and will be removed in 1.0. Use :meth:`~invoke` instead.\n",
            "  docs = retriever.get_relevant_documents(query)\n"
          ]
        },
        {
          "name": "stdout",
          "output_type": "stream",
          "text": [
            "\u001b[36;1m\u001b[1;3m삼성전자가 반도체 시장에서 매출 1위를 기록했다. 이는 회사의 기술력과 시장 점유율을 반영하는 성과로, 글로벌 경쟁에서의 우위를 나타낸다. 앞으로도 삼성전자는 지속적인 혁신과 투자로 반도체 분야에서의 리더십을 강화할 계획이다.\u001b[0m\u001b[32;1m\u001b[1;3m최근 삼성전자는 반도체 시장에서 매출 1위를 기록했습니다. 이는 회사의 기술력과 시장 점유율을 반영하는 성과로, 글로벌 경쟁에서의 우위를 나타냅니다. 앞으로도 삼성전자는 지속적인 혁신과 투자로 반도체 분야에서의 리더십을 강화할 계획이라고 합니다.\u001b[0m\n",
            "\n",
            "\u001b[1m> Finished chain.\u001b[0m\n",
            "최근 삼성전자는 반도체 시장에서 매출 1위를 기록했습니다. 이는 회사의 기술력과 시장 점유율을 반영하는 성과로, 글로벌 경쟁에서의 우위를 나타냅니다. 앞으로도 삼성전자는 지속적인 혁신과 투자로 반도체 분야에서의 리더십을 강화할 계획이라고 합니다.\n"
          ]
        }
      ],
      "source": [
        "# ============================================\n",
        "# 3. 모듈 임포트\n",
        "# ============================================\n",
        "from langchain_openai import ChatOpenAI, OpenAIEmbeddings\n",
        "from langchain.vectorstores import Chroma\n",
        "from langchain.schema import Document\n",
        "from langchain.tools import Tool\n",
        "from langchain.agents import create_openai_tools_agent, AgentExecutor\n",
        "from langchain.prompts import ChatPromptTemplate, MessagesPlaceholder\n",
        "from langchain_core.messages import HumanMessage, AIMessage # Import necessary message types\n",
        "\n",
        "# ============================================\n",
        "# 4. 뉴스 기사 데이터 (샘플)\n",
        "# ============================================\n",
        "news_articles = [\n",
        "    Document(page_content=\"삼성전자가 반도체 시장에서 매출 1위를 기록했다.\"),\n",
        "    Document(page_content=\"현대자동차는 전기차 신모델을 출시하며 글로벌 시장을 공략하고 있다.\"),\n",
        "    Document(page_content=\"카카오가 새로운 AI 챗봇 서비스를 공개했다.\"),\n",
        "]\n",
        "\n",
        "# ============================================\n",
        "# 5. 임베딩 + 벡터스토어\n",
        "# ============================================\n",
        "embeddings = OpenAIEmbeddings(model=\"text-embedding-3-small\")\n",
        "vectorstore = Chroma.from_documents(news_articles, embeddings)\n",
        "retriever = vectorstore.as_retriever(search_kwargs={\"k\": 2})\n",
        "\n",
        "# ============================================\n",
        "# 6. Retriever Tool 정의 (뉴스 요약)\n",
        "# ============================================\n",
        "def search_and_summarize(query: str) -> str:\n",
        "    docs = retriever.get_relevant_documents(query)\n",
        "    context = \"\\n\".join([d.page_content for d in docs])\n",
        "    llm = ChatOpenAI(model=\"gpt-4o-mini\", temperature=0)\n",
        "    prompt = f\"다음 뉴스 기사를 참고하여 '{query}'에 대해 3문장으로 요약해줘:\\n{context}\"\n",
        "    return llm.invoke(prompt).content\n",
        "\n",
        "news_tool = Tool(\n",
        "    name=\"news_search\",\n",
        "    description=\"한국 뉴스 기사를 검색하고 요약한다.\",\n",
        "    func=search_and_summarize\n",
        ")\n",
        "\n",
        "# ============================================\n",
        "# 7. Agent 설정\n",
        "# ============================================\n",
        "llm = ChatOpenAI(model=\"gpt-4o-mini\", temperature=0)\n",
        "tools = [news_tool]\n",
        "\n",
        "prompt = ChatPromptTemplate.from_messages([\n",
        "    (\"system\", \"너는 한국 경제 뉴스를 분석하는 전문가이다.\"),\n",
        "    MessagesPlaceholder(variable_name=\"chat_history\"),\n",
        "    (\"human\", \"{input}\"),\n",
        "    MessagesPlaceholder(variable_name=\"agent_scratchpad\")\n",
        "])\n",
        "\n",
        "agent = create_openai_tools_agent(llm, tools, prompt)\n",
        "agent_executor = AgentExecutor(agent=agent, tools=tools, verbose=True)\n",
        "\n",
        "# ============================================\n",
        "# 8. 실행 예시\n",
        "# ============================================\n",
        "print(agent_executor.invoke({\"input\": \"삼성전자 소식 알려줘\", \"chat_history\": []})[\"output\"])"
      ]
    }
  ],
  "metadata": {
    "colab": {
      "provenance": []
    },
    "kernelspec": {
      "display_name": "Python 3",
      "name": "python3"
    },
    "language_info": {
      "name": "python"
    }
  },
  "nbformat": 4,
  "nbformat_minor": 0
}
