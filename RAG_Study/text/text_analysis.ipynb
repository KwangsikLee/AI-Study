{
 "cells": [
  {
   "cell_type": "markdown",
   "id": "4068dead",
   "metadata": {},
   "source": [
    "# Text 처리 정리\n",
    "\n",
    "## 형태소 분석\n",
    "mecab or Okt\n",
    "\n",
    "## Text Tokenizer\n",
    "\n",
    "unigram\n",
    "\n",
    "### Text 유사도 측정\n",
    "TF-IDF\n",
    "  - TfidfVectorizer\n",
    "\n",
    "코사인 유사도\n",
    "cosine_sim = cosine_similarity(tfidf_matrix, tfidf_matrix) \n"
   ]
  }
 ],
 "metadata": {
  "language_info": {
   "name": "python"
  }
 },
 "nbformat": 4,
 "nbformat_minor": 5
}
