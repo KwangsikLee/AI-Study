{
 "cells": [
  {
   "cell_type": "code",
   "execution_count": 2,
   "id": "4283a150",
   "metadata": {},
   "outputs": [
    {
     "name": "stdout",
     "output_type": "stream",
     "text": [
      "a: tensor([1., 2., 3., 4.])\n",
      "b: tensor([2., 3., 4., 5.])\n",
      "a + b: tensor([3., 5., 7., 9.])\n",
      "a - b: tensor([-1., -1., -1., -1.])\n",
      "a * b: tensor([ 2.,  6., 12., 20.])\n",
      "a / b: tensor([0.5000, 0.6667, 0.7500, 0.8000])\n"
     ]
    }
   ],
   "source": [
    "\n",
    "import torch\n",
    "\n",
    "# 텐서 생성\n",
    "a = torch.tensor([1.0, 2.0, 3.0, 4.0])\n",
    "b = torch.tensor([2.0, 3.0, 4.0, 5.0])\n",
    "\n",
    "print(\"a:\", a)\n",
    "print(\"b:\", b)\n",
    "\n",
    "# 덧셈\n",
    "add_result = a + b\n",
    "print(\"a + b:\", add_result)  # [3.0, 5.0, 7.0, 9.0]\n",
    "\n",
    "# 뺄셈\n",
    "sub_result = a - b\n",
    "print(\"a - b:\", sub_result)  # [-1.0, -1.0, -1.0, -1.0]\n",
    "\n",
    "# 곱셈 (element-wise)\n",
    "mul_result = a * b\n",
    "print(\"a * b:\", mul_result)  # [2.0, 6.0, 12.0, 20.0]\n",
    "\n",
    "# 나눗셈\n",
    "div_result = a / b\n",
    "print(\"a / b:\", div_result)  # [0.5, 0.6667, 0.75, 0.8]"
   ]
  },
  {
   "cell_type": "code",
   "execution_count": 3,
   "id": "4876e2a9",
   "metadata": {},
   "outputs": [
    {
     "name": "stdout",
     "output_type": "stream",
     "text": [
      "x: tensor([-2., -1.,  0.,  1.,  2.])\n",
      "abs(x): tensor([2., 1., 0., 1., 2.])\n",
      "sqrt: tensor([1., 2., 3., 4.])\n"
     ]
    }
   ],
   "source": [
    "x = torch.tensor([-2.0, -1.0, 0.0, 1.0, 2.0])\n",
    "print(\"x:\", x)\n",
    "\n",
    "# 절댓값\n",
    "abs_result = torch.abs(x)\n",
    "print(\"abs(x):\", abs_result)  # [2.0, 1.0, 0.0, 1.0, 2.0]\n",
    "\n",
    "# 제곱근\n",
    "sqrt_input = torch.tensor([1.0, 4.0, 9.0, 16.0])\n",
    "sqrt_result = torch.sqrt(sqrt_input)\n",
    "print(\"sqrt:\", sqrt_result)  # [1.0, 2.0, 3.0, 4.0]"
   ]
  }
 ],
 "metadata": {
  "kernelspec": {
   "display_name": "llmenv",
   "language": "python",
   "name": "python3"
  },
  "language_info": {
   "codemirror_mode": {
    "name": "ipython",
    "version": 3
   },
   "file_extension": ".py",
   "mimetype": "text/x-python",
   "name": "python",
   "nbconvert_exporter": "python",
   "pygments_lexer": "ipython3",
   "version": "3.11.13"
  }
 },
 "nbformat": 4,
 "nbformat_minor": 5
}
