{
  "cells": [
    {
      "cell_type": "code",
      "execution_count": 1,
      "metadata": {
        "colab": {
          "base_uri": "https://localhost:8080/"
        },
        "id": "9ALyVJbPKA84",
        "outputId": "cc40a079-c55f-4e2c-915c-e4e1a542a2c8"
      },
      "outputs": [
        {
          "name": "stdout",
          "output_type": "stream",
          "text": [
            "W: Skipping acquire of configured file 'main/source/Sources' as repository 'https://r2u.stat.illinois.edu/ubuntu jammy InRelease' does not seem to provide it (sources.list entry misspelt?)\n",
            "/usr/share/fonts: caching, new cache contents: 0 fonts, 1 dirs\n",
            "/usr/share/fonts/truetype: caching, new cache contents: 0 fonts, 3 dirs\n",
            "/usr/share/fonts/truetype/humor-sans: caching, new cache contents: 1 fonts, 0 dirs\n",
            "/usr/share/fonts/truetype/liberation: caching, new cache contents: 16 fonts, 0 dirs\n",
            "/usr/share/fonts/truetype/nanum: caching, new cache contents: 12 fonts, 0 dirs\n",
            "/usr/local/share/fonts: caching, new cache contents: 0 fonts, 0 dirs\n",
            "/root/.local/share/fonts: skipping, no such directory\n",
            "/root/.fonts: skipping, no such directory\n",
            "/usr/share/fonts/truetype: skipping, looped directory detected\n",
            "/usr/share/fonts/truetype/humor-sans: skipping, looped directory detected\n",
            "/usr/share/fonts/truetype/liberation: skipping, looped directory detected\n",
            "/usr/share/fonts/truetype/nanum: skipping, looped directory detected\n",
            "/var/cache/fontconfig: cleaning cache directory\n",
            "/root/.cache/fontconfig: not cleaning non-existent cache directory\n",
            "/root/.fontconfig: not cleaning non-existent cache directory\n",
            "fc-cache: succeeded\n"
          ]
        }
      ],
      "source": [
        "# 나눔고딕 폰트 설치 및 설정\n",
        "!apt-get update -qq\n",
        "!apt-get install fonts-nanum -qq\n",
        "!fc-cache -fv\n",
        "!rm ~/.cache/matplotlib -rf"
      ]
    },
    {
      "cell_type": "code",
      "execution_count": 1,
      "metadata": {
        "id": "uYz7Ha_hKFD-"
      },
      "outputs": [],
      "source": [
        "import tensorflow as tf\n",
        "import matplotlib.pyplot as plt\n",
        "import matplotlib.font_manager as fm\n",
        "\n",
        "# 폰트 설정\n",
        "font_path = '/usr/share/fonts/truetype/nanum/NanumGothic.ttf'\n",
        "fontprop = fm.FontProperties(fname=font_path, size=10)\n",
        "plt.rcParams['font.family'] = 'NanumGothic'\n",
        "plt.rcParams['axes.unicode_minus'] = False\n"
      ]
    },
    {
      "cell_type": "code",
      "execution_count": 2,
      "metadata": {
        "colab": {
          "base_uri": "https://localhost:8080/",
          "height": 297
        },
        "id": "yP604LT2J4Je",
        "outputId": "a4375f18-50b1-457d-fda2-3e694f2add62"
      },
      "outputs": [
        {
          "name": "stderr",
          "output_type": "stream",
          "text": [
            "2025-07-23 16:33:27.313561: I metal_plugin/src/device/metal_device.cc:1154] Metal device set to: Apple M3 Pro\n",
            "2025-07-23 16:33:27.313713: I metal_plugin/src/device/metal_device.cc:296] systemMemory: 18.00 GB\n",
            "2025-07-23 16:33:27.313728: I metal_plugin/src/device/metal_device.cc:313] maxCacheSize: 6.00 GB\n",
            "2025-07-23 16:33:27.313921: I tensorflow/core/common_runtime/pluggable_device/pluggable_device_factory.cc:305] Could not identify NUMA node of platform GPU ID 0, defaulting to 0. Your kernel may not have been built with NUMA support.\n",
            "2025-07-23 16:33:27.313938: I tensorflow/core/common_runtime/pluggable_device/pluggable_device_factory.cc:271] Created TensorFlow device (/job:localhost/replica:0/task:0/device:GPU:0 with 0 MB memory) -> physical PluggableDevice (device: 0, name: METAL, pci bus id: <undefined>)\n",
            "findfont: Font family 'NanumGothic' not found.\n",
            "findfont: Font family 'NanumGothic' not found.\n",
            "findfont: Font family 'NanumGothic' not found.\n",
            "findfont: Font family 'NanumGothic' not found.\n",
            "findfont: Font family 'NanumGothic' not found.\n",
            "findfont: Font family 'NanumGothic' not found.\n",
            "findfont: Font family 'NanumGothic' not found.\n",
            "findfont: Font family 'NanumGothic' not found.\n",
            "findfont: Font family 'NanumGothic' not found.\n",
            "findfont: Font family 'NanumGothic' not found.\n",
            "/Users/kwangsiklee/miniforge3/envs/llmenv/lib/python3.11/site-packages/IPython/core/pylabtools.py:170: UserWarning: Glyph 50896 (\\N{HANGUL SYLLABLE WEON}) missing from font(s) DejaVu Sans.\n",
            "  fig.canvas.print_figure(bytes_io, **kw)\n",
            "/Users/kwangsiklee/miniforge3/envs/llmenv/lib/python3.11/site-packages/IPython/core/pylabtools.py:170: UserWarning: Glyph 48376 (\\N{HANGUL SYLLABLE BON}) missing from font(s) DejaVu Sans.\n",
            "  fig.canvas.print_figure(bytes_io, **kw)\n",
            "findfont: Font family 'NanumGothic' not found.\n",
            "findfont: Font family 'NanumGothic' not found.\n",
            "findfont: Font family 'NanumGothic' not found.\n",
            "findfont: Font family 'NanumGothic' not found.\n",
            "findfont: Font family 'NanumGothic' not found.\n",
            "findfont: Font family 'NanumGothic' not found.\n",
            "findfont: Font family 'NanumGothic' not found.\n",
            "/Users/kwangsiklee/miniforge3/envs/llmenv/lib/python3.11/site-packages/IPython/core/pylabtools.py:170: UserWarning: Glyph 51473 (\\N{HANGUL SYLLABLE JUNG}) missing from font(s) DejaVu Sans.\n",
            "  fig.canvas.print_figure(bytes_io, **kw)\n",
            "/Users/kwangsiklee/miniforge3/envs/llmenv/lib/python3.11/site-packages/IPython/core/pylabtools.py:170: UserWarning: Glyph 50521 (\\N{HANGUL SYLLABLE ANG}) missing from font(s) DejaVu Sans.\n",
            "  fig.canvas.print_figure(bytes_io, **kw)\n",
            "/Users/kwangsiklee/miniforge3/envs/llmenv/lib/python3.11/site-packages/IPython/core/pylabtools.py:170: UserWarning: Glyph 53356 (\\N{HANGUL SYLLABLE KEU}) missing from font(s) DejaVu Sans.\n",
            "  fig.canvas.print_figure(bytes_io, **kw)\n",
            "/Users/kwangsiklee/miniforge3/envs/llmenv/lib/python3.11/site-packages/IPython/core/pylabtools.py:170: UserWarning: Glyph 47213 (\\N{HANGUL SYLLABLE ROB}) missing from font(s) DejaVu Sans.\n",
            "  fig.canvas.print_figure(bytes_io, **kw)\n",
            "findfont: Font family 'NanumGothic' not found.\n",
            "/Users/kwangsiklee/miniforge3/envs/llmenv/lib/python3.11/site-packages/IPython/core/pylabtools.py:170: UserWarning: Glyph 51649 (\\N{HANGUL SYLLABLE JIG}) missing from font(s) DejaVu Sans.\n",
            "  fig.canvas.print_figure(bytes_io, **kw)\n",
            "/Users/kwangsiklee/miniforge3/envs/llmenv/lib/python3.11/site-packages/IPython/core/pylabtools.py:170: UserWarning: Glyph 51217 (\\N{HANGUL SYLLABLE JEOB}) missing from font(s) DejaVu Sans.\n",
            "  fig.canvas.print_figure(bytes_io, **kw)\n",
            "/Users/kwangsiklee/miniforge3/envs/llmenv/lib/python3.11/site-packages/IPython/core/pylabtools.py:170: UserWarning: Glyph 49836 (\\N{HANGUL SYLLABLE SEUL}) missing from font(s) DejaVu Sans.\n",
            "  fig.canvas.print_figure(bytes_io, **kw)\n",
            "/Users/kwangsiklee/miniforge3/envs/llmenv/lib/python3.11/site-packages/IPython/core/pylabtools.py:170: UserWarning: Glyph 46972 (\\N{HANGUL SYLLABLE RA}) missing from font(s) DejaVu Sans.\n",
            "  fig.canvas.print_figure(bytes_io, **kw)\n",
            "/Users/kwangsiklee/miniforge3/envs/llmenv/lib/python3.11/site-packages/IPython/core/pylabtools.py:170: UserWarning: Glyph 51060 (\\N{HANGUL SYLLABLE I}) missing from font(s) DejaVu Sans.\n",
            "  fig.canvas.print_figure(bytes_io, **kw)\n",
            "/Users/kwangsiklee/miniforge3/envs/llmenv/lib/python3.11/site-packages/IPython/core/pylabtools.py:170: UserWarning: Glyph 49828 (\\N{HANGUL SYLLABLE SEU}) missing from font(s) DejaVu Sans.\n",
            "  fig.canvas.print_figure(bytes_io, **kw)\n",
            "findfont: Font family 'NanumGothic' not found.\n",
            "/Users/kwangsiklee/miniforge3/envs/llmenv/lib/python3.11/site-packages/IPython/core/pylabtools.py:170: UserWarning: Glyph 47004 (\\N{HANGUL SYLLABLE RAEN}) missing from font(s) DejaVu Sans.\n",
            "  fig.canvas.print_figure(bytes_io, **kw)\n",
            "/Users/kwangsiklee/miniforge3/envs/llmenv/lib/python3.11/site-packages/IPython/core/pylabtools.py:170: UserWarning: Glyph 45924 (\\N{HANGUL SYLLABLE DEOM}) missing from font(s) DejaVu Sans.\n",
            "  fig.canvas.print_figure(bytes_io, **kw)\n",
            "findfont: Font family 'NanumGothic' not found.\n",
            "/Users/kwangsiklee/miniforge3/envs/llmenv/lib/python3.11/site-packages/IPython/core/pylabtools.py:170: UserWarning: Glyph 48120 (\\N{HANGUL SYLLABLE MI}) missing from font(s) DejaVu Sans.\n",
            "  fig.canvas.print_figure(bytes_io, **kw)\n",
            "/Users/kwangsiklee/miniforge3/envs/llmenv/lib/python3.11/site-packages/IPython/core/pylabtools.py:170: UserWarning: Glyph 51648 (\\N{HANGUL SYLLABLE JI}) missing from font(s) DejaVu Sans.\n",
            "  fig.canvas.print_figure(bytes_io, **kw)\n",
            "/Users/kwangsiklee/miniforge3/envs/llmenv/lib/python3.11/site-packages/IPython/core/pylabtools.py:170: UserWarning: Glyph 49892 (\\N{HANGUL SYLLABLE SIL}) missing from font(s) DejaVu Sans.\n",
            "  fig.canvas.print_figure(bytes_io, **kw)\n",
            "/Users/kwangsiklee/miniforge3/envs/llmenv/lib/python3.11/site-packages/IPython/core/pylabtools.py:170: UserWarning: Glyph 49845 (\\N{HANGUL SYLLABLE SEUB}) missing from font(s) DejaVu Sans.\n",
            "  fig.canvas.print_figure(bytes_io, **kw)\n",
            "findfont: Font family 'NanumGothic' not found.\n",
            "findfont: Font family 'NanumGothic' not found.\n",
            "findfont: Font family 'NanumGothic' not found.\n",
            "findfont: Font family 'NanumGothic' not found.\n",
            "findfont: Font family 'NanumGothic' not found.\n",
            "findfont: Font family 'NanumGothic' not found.\n",
            "findfont: Font family 'NanumGothic' not found.\n",
            "findfont: Font family 'NanumGothic' not found.\n",
            "findfont: Font family 'NanumGothic' not found.\n",
            "findfont: Font family 'NanumGothic' not found.\n",
            "findfont: Font family 'NanumGothic' not found.\n",
            "findfont: Font family 'NanumGothic' not found.\n",
            "findfont: Font family 'NanumGothic' not found.\n",
            "findfont: Font family 'NanumGothic' not found.\n",
            "findfont: Font family 'NanumGothic' not found.\n",
            "findfont: Font family 'NanumGothic' not found.\n",
            "findfont: Font family 'NanumGothic' not found.\n",
            "findfont: Font family 'NanumGothic' not found.\n",
            "findfont: Font family 'NanumGothic' not found.\n",
            "findfont: Font family 'NanumGothic' not found.\n",
            "findfont: Font family 'NanumGothic' not found.\n",
            "findfont: Font family 'NanumGothic' not found.\n",
            "findfont: Font family 'NanumGothic' not found.\n",
            "findfont: Font family 'NanumGothic' not found.\n",
            "findfont: Font family 'NanumGothic' not found.\n"
          ]
        },
        {
          "data": {
            "image/png": "[encoded data removed]",
            "text/plain": [
              "<Figure size 1500x300 with 4 Axes>"
            ]
          },
          "metadata": {},
          "output_type": "display_data"
        }
      ],
      "source": [
        "\n",
        "\n",
        "# CIFAR-10에서 샘플 이미지 한 장 가져오기\n",
        "(x_train, _), _ = tf.keras.datasets.cifar10.load_data()\n",
        "img = x_train[0]                    # (32, 32, 3)\n",
        "img = tf.convert_to_tensor(img)\n",
        "\n",
        "plt.figure(figsize=(15,3))\n",
        "\n",
        "# 1. 원본 이미지 출력\n",
        "plt.subplot(1,4,1)\n",
        "plt.imshow(img.numpy().astype('uint8'))\n",
        "plt.title('원본')\n",
        "plt.axis('off')\n",
        "\n",
        "# 2. 중앙 크롭 (중앙 16x16만 추출)\n",
        "h, w = img.shape[0], img.shape[1]\n",
        "crop1 = tf.image.central_crop(img, central_fraction=0.5)  # 중앙 50% 크롭\n",
        "plt.subplot(1,4,2)\n",
        "plt.imshow(crop1.numpy().astype('uint8'))\n",
        "plt.title('중앙 크롭')\n",
        "plt.axis('off')\n",
        "\n",
        "# 3. 직접 좌상단 (10:26, 10:26) 사각형 크롭 (16x16)\n",
        "crop2 = img[8:24, 8:24, :]\n",
        "plt.subplot(1,4,3)\n",
        "plt.imshow(crop2.numpy().astype('uint8'))\n",
        "plt.title('직접 슬라이스')\n",
        "plt.axis('off')\n",
        "\n",
        "# 4. 랜덤 크롭 (무작위 16x16 영역)\n",
        "crop3 = tf.image.random_crop(img, size=[16, 16, 3])\n",
        "plt.subplot(1,4,4)\n",
        "plt.imshow(crop3.numpy().astype('uint8'))\n",
        "plt.title('랜덤 크롭')\n",
        "plt.axis('off')\n",
        "\n",
        "plt.suptitle(\"TensorFlow 이미지 크롭 실습\")\n",
        "plt.show()\n"
      ]
    }
  ],
  "metadata": {
    "colab": {
      "provenance": []
    },
    "kernelspec": {
      "display_name": "llmenv",
      "language": "python",
      "name": "python3"
    },
    "language_info": {
      "codemirror_mode": {
        "name": "ipython",
        "version": 3
      },
      "file_extension": ".py",
      "mimetype": "text/x-python",
      "name": "python",
      "nbconvert_exporter": "python",
      "pygments_lexer": "ipython3",
      "version": "3.11.13"
    }
  },
  "nbformat": 4,
  "nbformat_minor": 0
}
