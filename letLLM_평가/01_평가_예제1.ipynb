{
  "cells": [
    {
      "cell_type": "markdown",
      "metadata": {},
      "source": [
        "# 모델 평가 지표\n",
        "\n",
        "## bleu & rouge"
      ]
    },
    {
      "cell_type": "code",
      "execution_count": 3,
      "metadata": {
        "colab": {
          "base_uri": "https://localhost:8080/"
        },
        "id": "yke1-jFfSmhw",
        "outputId": "6fe9b9e9-9efc-4e89-88d8-a850ae2964ca"
      },
      "outputs": [
        {
          "name": "stdout",
          "output_type": "stream",
          "text": [
            "  Preparing metadata (setup.py) ... \u001b[?25l\u001b[?25hdone\n",
            "  Building wheel for rouge_score (setup.py) ... \u001b[?25l\u001b[?25hdone\n",
            "Accuracy (단순 매칭): 0.0\n",
            "BLEU Score: {'bleu': 0.0, 'precisions': [0.75, 0.4, 0.1875, 0.0], 'brevity_penalty': 1.0, 'length_ratio': 1.0909090909090908, 'translation_length': 24, 'reference_length': 22}\n",
            "ROUGE Score: {'rouge1': np.float64(0.9318181818181818), 'rouge2': np.float64(0.6083333333333333), 'rougeL': np.float64(0.6413419913419913), 'rougeLsum': np.float64(0.6413419913419913)}\n"
          ]
        }
      ],
      "source": [
        "# 1. 필요한 패키지 설치\n",
        "!pip install evaluate rouge_score -q\n",
        "\n",
        "# 2. 평가용 라이브러리 불러오기\n",
        "import evaluate\n",
        "\n",
        "# 성능 지표 로더\n",
        "accuracy = evaluate.load(\"accuracy\")\n",
        "bleu = evaluate.load(\"bleu\")\n",
        "rouge = evaluate.load(\"rouge\")\n",
        "\n",
        "# 3. 샘플 데이터\n",
        "predictions = [\n",
        "    \"The capital of France is Paris\",\n",
        "    \"The largest planet is Jupiter\",\n",
        "    \"The CEO of Tesla is Elon Musk\",\n",
        "    \"Water freezes at 0 degrees Celsius\"\n",
        "]\n",
        "\n",
        "references = [\n",
        "    \"Paris is the capital of France\",\n",
        "    \"Jupiter is the largest planet\",\n",
        "    \"Elon Musk is the CEO of Tesla\",\n",
        "    \"Water freezes at 0°C\"\n",
        "]\n",
        "\n",
        "# 4. Accuracy (Exact Match 기반)\n",
        "exact_matches = [int(p.lower() == r.lower()) for p, r in zip(predictions, references)]\n",
        "print(\"Accuracy (단순 매칭):\", sum(exact_matches)/len(exact_matches))\n",
        "\n",
        "# 5. BLEU Score\n",
        "bleu_score = bleu.compute(predictions=predictions, references=[[r] for r in references])\n",
        "print(\"BLEU Score:\", bleu_score)\n",
        "\n",
        "# 6. ROUGE Score\n",
        "rouge_score = rouge.compute(predictions=predictions, references=references)\n",
        "print(\"ROUGE Score:\", rouge_score)\n"
      ]
    },
    {
      "cell_type": "code",
      "execution_count": null,
      "metadata": {
        "id": "ONk2aK2xSzDG"
      },
      "outputs": [],
      "source": []
    }
  ],
  "metadata": {
    "colab": {
      "provenance": []
    },
    "kernelspec": {
      "display_name": "Python 3",
      "name": "python3"
    },
    "language_info": {
      "name": "python"
    }
  },
  "nbformat": 4,
  "nbformat_minor": 0
}
