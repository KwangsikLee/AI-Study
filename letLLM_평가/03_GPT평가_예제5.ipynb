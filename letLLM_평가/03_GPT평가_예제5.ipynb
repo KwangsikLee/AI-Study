{
  "cells": [
    {
      "cell_type": "code",
      "execution_count": null,
      "metadata": {
        "id": "n79Uq9UqWvOy"
      },
      "outputs": [],
      "source": [
        "# 1. 설치\n",
        "!pip install openai -q\n",
        "\n",
        "# 2. 라이브러리 불러오기\n",
        "from openai import OpenAI\n",
        "import os\n",
        "from dotenv import load_dotenv\n",
        "\n",
        "load_dotenv()\n",
        "# OpenAI API 클라이언트 생성\n",
        "API_KEY = os.getenv(\"OPENAI_API_KEY\")\n",
        "\n",
        "client = OpenAI(api_key=API_KEY)  # <- 본인 API 키 입력\n"
      ]
    },
    {
      "cell_type": "code",
      "execution_count": 5,
      "metadata": {
        "colab": {
          "base_uri": "https://localhost:8080/"
        },
        "id": "i2C8jMDCWfuO",
        "outputId": "e9852281-a21c-47e5-eee9-187ac0c434ec"
      },
      "outputs": [
        {
          "name": "stdout",
          "output_type": "stream",
          "text": [
            "🔍 GPT 평가 결과:\n",
            "점수: 3/5  \n",
            "이유: 두 요약 모두 인공지능에 대한 정의를 제공하지만, 참조 요약은 인공지능을 \"기계가 보여주는 지능\"으로 구체적으로 설명하고, \"지능적 에이전트의 연구 분야\"라는 추가 정보를 포함하고 있습니다. 반면, 모델 요약은 인공지능을 \"동물과 기계가 모두 가지는 지능\"으로 설명하며, 환경 인식에 초점을 맞추고 있어 중요한 차이가 있습니다. 따라서 부분적으로 맞지만 중요한 차이가 있다고 평가했습니다.\n"
          ]
        }
      ],
      "source": [
        "\n",
        "# 3. 샘플 데이터 (한국어)\n",
        "document = \"\"\"\n",
        "인공지능(AI)은 기계가 보여주는 지능으로,\n",
        "인간이나 동물이 가진 자연 지능과는 구별됩니다.\n",
        "AI는 환경을 인식하고 목표를 달성하기 위해\n",
        "행동하는 지능적 에이전트의 연구로 정의됩니다.\n",
        "\"\"\"\n",
        "reference_summary = \"인공지능은 기계가 보여주는 지능으로, 지능적 에이전트의 연구 분야이다.\"\n",
        "model_summary = \"인공지능은 동물과 기계가 모두 가지는 지능으로, 환경을 인식한다.\"\n",
        "\n",
        "# 4. GPT 평가 프롬프트 (한글 버전)\n",
        "prompt = f\"\"\"\n",
        "당신은 평가자입니다. 다음 두 요약을 비교해 주세요.\n",
        "\n",
        "📌 참조 요약:\n",
        "{reference_summary}\n",
        "\n",
        "📌 모델 요약:\n",
        "{model_summary}\n",
        "\n",
        "평가 기준 (0~5점):\n",
        "- 5점 = 완벽하게 일치\n",
        "- 4점 = 거의 일치하나 사소한 차이 있음\n",
        "- 3점 = 부분적으로 맞지만 중요한 차이가 있음\n",
        "- 2점 = 대부분 틀렸지만 일부 관련성 있음\n",
        "- 1점 = 거의 틀림\n",
        "- 0점 = 전혀 관련 없음\n",
        "\n",
        "출력 형식:\n",
        "점수: X/5\n",
        "이유: 간단한 설명\n",
        "\"\"\"\n",
        "\n",
        "# 5. GPT API 호출\n",
        "response = client.chat.completions.create(\n",
        "    model=\"gpt-4o-mini\",\n",
        "    messages=[{\"role\": \"user\", \"content\": prompt}],\n",
        "    temperature=0\n",
        ")\n",
        "\n",
        "print(\"🔍 GPT 평가 결과:\")\n",
        "print(response.choices[0].message.content)\n"
      ]
    },
    {
      "cell_type": "code",
      "execution_count": null,
      "metadata": {},
      "outputs": [],
      "source": []
    }
  ],
  "metadata": {
    "colab": {
      "provenance": []
    },
    "kernelspec": {
      "display_name": "Python 3",
      "name": "python3"
    },
    "language_info": {
      "name": "python"
    }
  },
  "nbformat": 4,
  "nbformat_minor": 0
}
