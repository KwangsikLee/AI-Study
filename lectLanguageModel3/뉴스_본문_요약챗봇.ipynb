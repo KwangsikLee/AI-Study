{
  "cells": [
    {
      "cell_type": "markdown",
      "metadata": {},
      "source": [
        "# 뉴스 크롤링 후 뉴스 요약\n",
        "\n",
        "## gogamza/kobart-summarization 모델 사용"
      ]
    },
    {
      "cell_type": "code",
      "execution_count": 2,
      "metadata": {
        "id": "UoJx_hLvAExj"
      },
      "outputs": [],
      "source": [
        "# =========================================\n",
        "# 0. 필수 라이브러리 설치\n",
        "# =========================================\n",
        "!pip install -q transformers datasets sentencepiece accelerate\n",
        "!pip install -q requests beautifulsoup4\n"
      ]
    },
    {
      "cell_type": "code",
      "execution_count": 3,
      "metadata": {
        "colab": {
          "base_uri": "https://localhost:8080/",
          "height": 970
        },
        "id": "SZOUrsbUwKEb",
        "outputId": "e5faf924-475d-4e11-fe80-714de65ee55e"
      },
      "outputs": [
        {
          "name": "stderr",
          "output_type": "stream",
          "text": [
            "You passed `num_labels=3` which is incompatible to the `id2label` map of length `2`.\n",
            "You passed `num_labels=3` which is incompatible to the `id2label` map of length `2`.\n"
          ]
        },
        {
          "name": "stdout",
          "output_type": "stream",
          "text": [
            "CUDA available: False\n"
          ]
        },
        {
          "name": "stderr",
          "output_type": "stream",
          "text": [
            "You passed `num_labels=3` which is incompatible to the `id2label` map of length `2`.\n",
            "Device set to use cpu\n",
            "Your max_length is set to 128, but your input_length is only 31. Since this is a summarization task, where outputs shorter than the input are typically wanted, you might consider decreasing max_length manually, e.g. summarizer('...', max_length=15)\n"
          ]
        },
        {
          "name": "stdout",
          "output_type": "stream",
          "text": [
            " 원문 기사:\n",
            " (서울=뉴스1) 사진공동취재단 = 이창용 한국은행 총재가 23일 서울 중구 한국은행에서 열린 금융통화위원회를 주재하고 있다. 2024.5.23/뉴스1 ...\n",
            "\n"
          ]
        },
        {
          "name": "stderr",
          "output_type": "stream",
          "text": [
            "Both `max_new_tokens` (=256) and `max_length`(=128) seem to have been set. `max_new_tokens` will take precedence. Please refer to the documentation for more information. (https://huggingface.co/docs/transformers/main/en/main_classes/text_generation)\n"
          ]
        },
        {
          "name": "stdout",
          "output_type": "stream",
          "text": [
            " 요약 결과:\n",
            " 이창용 한국은행 총재가 23일 서울 중구 한국은행 총재가 23일 서울 중구 한국은행에서 열린 금융통화위원회를 주재하고 있다. 2024.5.23/2024.5.23   2024.5.23/뉴스1\n",
            "\n",
            "네이버 뉴스 URL 입력 (종료하려면 quit): https://n.news.naver.com/mnews/article/138/0002202976\n",
            "\n",
            "[원문 일부]\n",
            " AI 역량 인식 현황은 아태 평균 밑돌아\n",
            "\n",
            "\n",
            "\n",
            "\n",
            "\n",
            "\n",
            "\n",
            "\n",
            "'AI 구현을 위한 전략적 계획 수립' 보고서 이미지 [ⓒ 델 테크놀로지스·IDC]\n",
            "[디지털데일리 이나연 기자] 한국 기업들의 인공지능(AI) 도입 수준이 아시아·태평양 지역 평균을 웃도는 것으로 나타났다.\n",
            "델 테크놀로지스는 글로벌 시장조사기관 IDC와 함께 아태 지역의 엔터프라이즈 AI 도입 동향을 심층 분석한 보고서를 19일 발표했다.\n",
            "이 보고서에 따르면 한국 기업의 32%는 AI를 다양한 직무에 도입했거나 AI 역량을 경쟁우위의 핵심으로 인식했다. 이는 아태 지역 평균인  ...\n",
            "\n"
          ]
        },
        {
          "name": "stderr",
          "output_type": "stream",
          "text": [
            "Both `max_new_tokens` (=256) and `max_length`(=128) seem to have been set. `max_new_tokens` will take precedence. Please refer to the documentation for more information. (https://huggingface.co/docs/transformers/main/en/main_classes/text_generation)\n"
          ]
        },
        {
          "name": "stdout",
          "output_type": "stream",
          "text": [
            " 요약 결과: 글로벌 시장조사기관 IDC와 함께 아태 지역의 엔터프라이즈 AI 도입 동향을 심층 분석한 보고서를 19일 발표한 보고서에 따르면 한국 기업의 32%는 AI를 다양한 직무에 도입했거나 AI 역량을 경쟁우위의 핵심으로 인식했다. 이는 이는 아태 지역 평균인 24%를 크게 앞서는 수치언더반면 AI 역량에 대한 인식은 정반대였다.\n"
          ]
        },
        {
          "ename": "KeyboardInterrupt",
          "evalue": "Interrupted by user",
          "output_type": "error",
          "traceback": [
            "\u001b[0;31m---------------------------------------------------------------------------\u001b[0m",
            "\u001b[0;31mKeyboardInterrupt\u001b[0m                         Traceback (most recent call last)",
            "\u001b[0;32m/tmp/ipython-input-844586958.py\u001b[0m in \u001b[0;36m<cell line: 0>\u001b[0;34m()\u001b[0m\n\u001b[1;32m     73\u001b[0m \u001b[0;31m# =========================================\u001b[0m\u001b[0;34m\u001b[0m\u001b[0;34m\u001b[0m\u001b[0m\n\u001b[1;32m     74\u001b[0m \u001b[0;32mwhile\u001b[0m \u001b[0;32mTrue\u001b[0m\u001b[0;34m:\u001b[0m\u001b[0;34m\u001b[0m\u001b[0;34m\u001b[0m\u001b[0m\n\u001b[0;32m---> 75\u001b[0;31m     \u001b[0mnews_url\u001b[0m \u001b[0;34m=\u001b[0m \u001b[0minput\u001b[0m\u001b[0;34m(\u001b[0m\u001b[0;34m\"\\n네이버 뉴스 URL 입력 (종료하려면 quit): \"\u001b[0m\u001b[0;34m)\u001b[0m\u001b[0;34m\u001b[0m\u001b[0;34m\u001b[0m\u001b[0m\n\u001b[0m\u001b[1;32m     76\u001b[0m     \u001b[0;32mif\u001b[0m \u001b[0mnews_url\u001b[0m\u001b[0;34m.\u001b[0m\u001b[0mlower\u001b[0m\u001b[0;34m(\u001b[0m\u001b[0;34m)\u001b[0m \u001b[0;32min\u001b[0m \u001b[0;34m[\u001b[0m\u001b[0;34m\"quit\"\u001b[0m\u001b[0;34m,\u001b[0m \u001b[0;34m\"exit\"\u001b[0m\u001b[0;34m]\u001b[0m\u001b[0;34m:\u001b[0m\u001b[0;34m\u001b[0m\u001b[0;34m\u001b[0m\u001b[0m\n\u001b[1;32m     77\u001b[0m         \u001b[0;32mbreak\u001b[0m\u001b[0;34m\u001b[0m\u001b[0;34m\u001b[0m\u001b[0m\n",
            "\u001b[0;32m/usr/local/lib/python3.11/dist-packages/ipykernel/kernelbase.py\u001b[0m in \u001b[0;36mraw_input\u001b[0;34m(self, prompt)\u001b[0m\n\u001b[1;32m   1175\u001b[0m                 \u001b[0;34m\"raw_input was called, but this frontend does not support input requests.\"\u001b[0m\u001b[0;34m\u001b[0m\u001b[0;34m\u001b[0m\u001b[0m\n\u001b[1;32m   1176\u001b[0m             )\n\u001b[0;32m-> 1177\u001b[0;31m         return self._input_request(\n\u001b[0m\u001b[1;32m   1178\u001b[0m             \u001b[0mstr\u001b[0m\u001b[0;34m(\u001b[0m\u001b[0mprompt\u001b[0m\u001b[0;34m)\u001b[0m\u001b[0;34m,\u001b[0m\u001b[0;34m\u001b[0m\u001b[0;34m\u001b[0m\u001b[0m\n\u001b[1;32m   1179\u001b[0m             \u001b[0mself\u001b[0m\u001b[0;34m.\u001b[0m\u001b[0m_parent_ident\u001b[0m\u001b[0;34m[\u001b[0m\u001b[0;34m\"shell\"\u001b[0m\u001b[0;34m]\u001b[0m\u001b[0;34m,\u001b[0m\u001b[0;34m\u001b[0m\u001b[0;34m\u001b[0m\u001b[0m\n",
            "\u001b[0;32m/usr/local/lib/python3.11/dist-packages/ipykernel/kernelbase.py\u001b[0m in \u001b[0;36m_input_request\u001b[0;34m(self, prompt, ident, parent, password)\u001b[0m\n\u001b[1;32m   1217\u001b[0m             \u001b[0;32mexcept\u001b[0m \u001b[0mKeyboardInterrupt\u001b[0m\u001b[0;34m:\u001b[0m\u001b[0;34m\u001b[0m\u001b[0;34m\u001b[0m\u001b[0m\n\u001b[1;32m   1218\u001b[0m                 \u001b[0;31m# re-raise KeyboardInterrupt, to truncate traceback\u001b[0m\u001b[0;34m\u001b[0m\u001b[0;34m\u001b[0m\u001b[0m\n\u001b[0;32m-> 1219\u001b[0;31m                 \u001b[0;32mraise\u001b[0m \u001b[0mKeyboardInterrupt\u001b[0m\u001b[0;34m(\u001b[0m\u001b[0;34m\"Interrupted by user\"\u001b[0m\u001b[0;34m)\u001b[0m \u001b[0;32mfrom\u001b[0m \u001b[0;32mNone\u001b[0m\u001b[0;34m\u001b[0m\u001b[0;34m\u001b[0m\u001b[0m\n\u001b[0m\u001b[1;32m   1220\u001b[0m             \u001b[0;32mexcept\u001b[0m \u001b[0mException\u001b[0m\u001b[0;34m:\u001b[0m\u001b[0;34m\u001b[0m\u001b[0;34m\u001b[0m\u001b[0m\n\u001b[1;32m   1221\u001b[0m                 \u001b[0mself\u001b[0m\u001b[0;34m.\u001b[0m\u001b[0mlog\u001b[0m\u001b[0;34m.\u001b[0m\u001b[0mwarning\u001b[0m\u001b[0;34m(\u001b[0m\u001b[0;34m\"Invalid Message:\"\u001b[0m\u001b[0;34m,\u001b[0m \u001b[0mexc_info\u001b[0m\u001b[0;34m=\u001b[0m\u001b[0;32mTrue\u001b[0m\u001b[0;34m)\u001b[0m\u001b[0;34m\u001b[0m\u001b[0;34m\u001b[0m\u001b[0m\n",
            "\u001b[0;31mKeyboardInterrupt\u001b[0m: Interrupted by user"
          ]
        }
      ],
      "source": [
        "\n",
        "import torch\n",
        "import requests\n",
        "from bs4 import BeautifulSoup\n",
        "from transformers import AutoTokenizer, AutoModelForSeq2SeqLM, pipeline\n",
        "\n",
        "# GPU 사용 여부 확인\n",
        "device = 0 if torch.cuda.is_available() else -1\n",
        "print(\"CUDA available:\", torch.cuda.is_available())\n",
        "\n",
        "# =========================================\n",
        "# 1. 네이버 뉴스 본문 크롤링 함수\n",
        "# =========================================\n",
        "def get_naver_news(url: str) -> str:\n",
        "    headers = {\"User-Agent\": \"Mozilla/5.0\"}\n",
        "    res = requests.get(url, headers=headers)\n",
        "    res.encoding = \"utf-8\"\n",
        "\n",
        "    soup = BeautifulSoup(res.text, \"html.parser\")\n",
        "\n",
        "    # 네이버 뉴스 본문 추출 (주의 >> 기사 링크 마다 div id가 조금 다름)\n",
        "    article = soup.select_one(\"#dic_area\")  # 최신 네이버 뉴스 본문\n",
        "    if article is None:\n",
        "        article = soup.select_one(\"div.article_body\")  # 구형 구조 대응\n",
        "\n",
        "    if article:\n",
        "        text = article.get_text(separator=\"\\n\")\n",
        "        return text.strip()\n",
        "    else:\n",
        "        return \" 기사를 찾을 수 없습니다.\"\n",
        "\n",
        "# =========================================\n",
        "# 2. KoBART 요약 모델 로드\n",
        "# =========================================\n",
        "model_name = \"gogamza/kobart-summarization\"\n",
        "\n",
        "tokenizer = AutoTokenizer.from_pretrained(model_name)\n",
        "model = AutoModelForSeq2SeqLM.from_pretrained(model_name)\n",
        "\n",
        "summarizer = pipeline(\n",
        "    \"summarization\",\n",
        "    model=model,\n",
        "    tokenizer=tokenizer,\n",
        "    device=device\n",
        ")\n",
        "\n",
        "# =========================================\n",
        "# 3. 뉴스 요약 함수\n",
        "# =========================================\n",
        "def summarize_news(article: str, max_len: int = 128) -> str:\n",
        "    if not article or article.startswith(\"❌\"):\n",
        "        return article\n",
        "\n",
        "    summary = summarizer(\n",
        "        article,\n",
        "        max_length=max_len,\n",
        "        min_length=40,\n",
        "        do_sample=False\n",
        "    )\n",
        "    return summary[0][\"summary_text\"]\n",
        "\n",
        "# =========================================\n",
        "# 4. 테스트 (네이버 뉴스 URL 입력)\n",
        "# =========================================\n",
        "# 예시: 네이버 뉴스 정치/경제 기사 하나 붙여보기\n",
        "url = \"https://n.news.naver.com/mnews/article/421/0007556575\"  # 원하는 뉴스 링크 입력\n",
        "article_text = get_naver_news(url)\n",
        "\n",
        "print(\" 원문 기사:\\n\", article_text[:500], \"...\\n\")\n",
        "print(\" 요약 결과:\\n\", summarize_news(article_text))\n",
        "\n",
        "# =========================================\n",
        "# 5. 대화형 뉴스 요약 챗봇\n",
        "# =========================================\n",
        "while True:\n",
        "    news_url = input(\"\\n네이버 뉴스 URL 입력 (종료하려면 quit): \")\n",
        "    if news_url.lower() in [\"quit\", \"exit\"]:\n",
        "        break\n",
        "\n",
        "    text = get_naver_news(news_url)\n",
        "    print(\"\\n[원문 일부]\\n\", text[:300], \"...\\n\")\n",
        "    print(\" 요약 결과:\", summarize_news(text))\n"
      ]
    }
  ],
  "metadata": {
    "colab": {
      "provenance": []
    },
    "kernelspec": {
      "display_name": "Python 3",
      "name": "python3"
    },
    "language_info": {
      "name": "python"
    }
  },
  "nbformat": 4,
  "nbformat_minor": 0
}
