{
  "cells": [
    {
      "cell_type": "code",
      "execution_count": null,
      "metadata": {
        "colab": {
          "base_uri": "https://localhost:8080/"
        },
        "collapsed": true,
        "id": "XjRZUdQRY7rv",
        "outputId": "1d23624e-1705-4d6c-c263-7ec8a6cb46c5"
      },
      "outputs": [],
      "source": [
        "!pip install transformers\n",
        "!pip install datasets"
      ]
    },
    {
      "cell_type": "code",
      "execution_count": null,
      "metadata": {
        "id": "XD_FOjzQZLoa"
      },
      "outputs": [],
      "source": [
        "\n",
        "# 데이터 로드를 위함\n",
        "from datasets import load_dataset\n",
        "\n",
        "# 기본 파이썬 패키지\n",
        "import pandas as pd\n",
        "import numpy as np\n",
        "import datetime\n",
        "from torch.optim import AdamW\n",
        "from tqdm import tqdm\n",
        "\n",
        "# GPT 사용을 위함\n",
        "import torch\n",
        "from transformers import AutoTokenizer, AutoModelForSequenceClassification\n",
        "from torch.utils.data import TensorDataset, DataLoader, RandomSampler, SequentialSampler\n",
        "\n",
        "# 전처리 및 평가 지표\n",
        "from sklearn.model_selection import train_test_split\n",
        "from sklearn.metrics import f1_score, roc_auc_score, accuracy_score\n"
      ]
    },
    {
      "cell_type": "code",
      "execution_count": null,
      "metadata": {
        "colab": {
          "base_uri": "https://localhost:8080/"
        },
        "id": "rxP3qRlCZOZw",
        "outputId": "7f8aa41a-96f2-4ad2-9de4-8308340965bd"
      },
      "outputs": [],
      "source": [
        "!wget https://raw.githubusercontent.com/ukairia777/finance_sentiment_corpus/main/finance_data.csv\n"
      ]
    },
    {
      "cell_type": "code",
      "execution_count": null,
      "metadata": {
        "colab": {
          "base_uri": "https://localhost:8080/"
        },
        "id": "7IIqs_loZPh5",
        "outputId": "7ff655bd-88dc-4e50-9a1e-ec129b594ac9"
      },
      "outputs": [],
      "source": [
        "df = pd.read_csv('finance_data.csv')\n",
        "print('샘플의 개수 :', len(df))\n"
      ]
    },
    {
      "cell_type": "code",
      "execution_count": null,
      "metadata": {
        "colab": {
          "base_uri": "https://localhost:8080/",
          "height": 206
        },
        "id": "tZOoVWRxZQmF",
        "outputId": "015d13ce-e533-4160-d8a2-6a7869127d55"
      },
      "outputs": [],
      "source": [
        "df.head()\n"
      ]
    },
    {
      "cell_type": "code",
      "execution_count": null,
      "metadata": {
        "colab": {
          "base_uri": "https://localhost:8080/",
          "height": 209
        },
        "id": "aIHXBvoKZRv_",
        "outputId": "e88df385-6f7e-4c8b-d1d8-3423ebc9f287"
      },
      "outputs": [],
      "source": [
        "df['labels'].value_counts()\n"
      ]
    },
    {
      "cell_type": "code",
      "execution_count": null,
      "metadata": {
        "colab": {
          "base_uri": "https://localhost:8080/",
          "height": 262
        },
        "id": "YDYnRpNOZTcb",
        "outputId": "399dd779-356f-49df-a09f-a9700d628015"
      },
      "outputs": [],
      "source": [
        "df['labels'] = df['labels'].replace(['neutral', 'positive', 'negative'],[0, 1, 2])\n",
        "df.head()\n"
      ]
    },
    {
      "cell_type": "code",
      "execution_count": null,
      "metadata": {
        "id": "M7tqmNMwZUh2"
      },
      "outputs": [],
      "source": [
        "df.to_csv('finance_data.csv', index=False, encoding='utf-8-sig')\n"
      ]
    },
    {
      "cell_type": "code",
      "execution_count": null,
      "metadata": {
        "colab": {
          "base_uri": "https://localhost:8080/",
          "height": 49,
          "referenced_widgets": [
            "3441d1a679ef48c0b8b9b2648bc9052e",
            "8425367ecb0a42b58e0fa770a5f44bc9",
            "4ffd77671b0f4132a64537dd42c3b4b7",
            "6992981425e64d75887f94245c2968c1",
            "e935adb1064f481f87a77516427871b8",
            "11724522eb904a0f958d908f0ba4dcd2",
            "4c593da6787b43b1aa9f2e74fffe742e",
            "191eff21100a4df688bce72520371a4e",
            "e4fb8bd0d1a1437a8a8297962419cdff",
            "d747c85b796e4392bb9e5ff7b0231277",
            "fb461a225c18463f8f2248ac4c200eee"
          ]
        },
        "id": "M5VbpC90ZVp6",
        "outputId": "8c3e09e6-31d5-45d4-816c-7ae7737733f5"
      },
      "outputs": [],
      "source": [
        "all_data = load_dataset(\n",
        "        \"csv\",\n",
        "        data_files={\n",
        "            \"train\": \"finance_data.csv\",\n",
        "        },\n",
        "    )\n"
      ]
    },
    {
      "cell_type": "code",
      "execution_count": null,
      "metadata": {
        "id": "TPZXqHd0ZXT5"
      },
      "outputs": [],
      "source": [
        "cs = all_data['train'].train_test_split(0.2, seed=777)\n",
        "train_cs = cs[\"train\"]\n",
        "test_cs = cs[\"test\"]\n"
      ]
    },
    {
      "cell_type": "code",
      "execution_count": null,
      "metadata": {
        "colab": {
          "base_uri": "https://localhost:8080/"
        },
        "id": "bEqKqh-xZYr1",
        "outputId": "3ef550ff-0358-411b-93e6-919226f584ed"
      },
      "outputs": [],
      "source": [
        "train_cs\n"
      ]
    },
    {
      "cell_type": "code",
      "execution_count": null,
      "metadata": {
        "id": "J2pG6MDFZbKG"
      },
      "outputs": [],
      "source": [
        "# 훈련 데이터를 다시 8:2로 분리 후 훈련 데이터와 검증 데이터로 저장\n",
        "cs = train_cs.train_test_split(0.2, seed=777)\n",
        "train_cs = cs[\"train\"]\n",
        "valid_cs = cs[\"test\"]\n"
      ]
    },
    {
      "cell_type": "markdown",
      "metadata": {},
      "source": [
        "### Training DatasSet 추가"
      ]
    },
    {
      "cell_type": "code",
      "execution_count": null,
      "metadata": {},
      "outputs": [],
      "source": [
        "from datasets import Dataset, concatenate_datasets\n",
        "\n",
        "# 새 데이터\n",
        "new_data = {\"kor_sentence\": [\"경북 청도 열차사고로 사망 2명중상 4명경상 1명\",\n",
        "                            \"속보경북 청도서 무궁화호 열차가 선로 노동자 덮쳐2명 사망5명 부상\"],\n",
        "            \"sentence\": [\"\", \"\"],\n",
        "            \"labels\": [2, 2]}\n",
        "\n",
        "new_dataset = Dataset.from_dict(new_data)\n",
        "\n",
        "# 합치기\n",
        "train_cs = concatenate_datasets([train_cs, new_dataset])\n",
        "\n",
        "\n",
        "added_sentence = [\n",
        "    \"경북 청도 열차사고로 사망 2명중상 4명경상 1명\",\n",
        "    \"속보경북 청도서 무궁화호 열차가 선로 노동자 덮쳐2명 사망5명 부상\"\n",
        "]\n",
        "train_cs\n",
        "\n",
        "print('두번째 샘플 출력 :', train_cs['kor_sentence'][3101])\n",
        "print('두번째 샘플의 레이블 출력 :', train_cs['labels'][3101])\n",
        "train_cs"
      ]
    },
    {
      "cell_type": "code",
      "execution_count": null,
      "metadata": {
        "colab": {
          "base_uri": "https://localhost:8080/"
        },
        "id": "p4T9XyFSZcIG",
        "outputId": "c10c8d58-7f58-448a-a75e-26f8878518cb"
      },
      "outputs": [],
      "source": [
        "# 훈련 데이터\n",
        "train_cs\n"
      ]
    },
    {
      "cell_type": "code",
      "execution_count": null,
      "metadata": {
        "colab": {
          "base_uri": "https://localhost:8080/"
        },
        "id": "A3z6AFWUZexI",
        "outputId": "e9c81f7d-7e45-408d-b6a2-0a325b74982c"
      },
      "outputs": [],
      "source": [
        "# 검증 데이터\n",
        "valid_cs\n"
      ]
    },
    {
      "cell_type": "code",
      "execution_count": null,
      "metadata": {
        "colab": {
          "base_uri": "https://localhost:8080/"
        },
        "id": "aCbtIRKVZg1h",
        "outputId": "0c6eb2a5-1a1f-41d6-b3dd-48f3e58eea7f"
      },
      "outputs": [],
      "source": [
        "# 테스트 데이터\n",
        "test_cs\n"
      ]
    },
    {
      "cell_type": "code",
      "execution_count": null,
      "metadata": {
        "colab": {
          "base_uri": "https://localhost:8080/"
        },
        "id": "0S4r8OC0ZjJ7",
        "outputId": "951d42dd-9ebc-4497-a250-690068ce77db"
      },
      "outputs": [],
      "source": [
        "print('두번째 샘플 출력 :', train_cs['kor_sentence'][1])\n",
        "print('두번째 샘플의 레이블 출력 :', train_cs['labels'][1])\n"
      ]
    },
    {
      "cell_type": "markdown",
      "metadata": {
        "id": "Xrh3mv_oZlQg"
      },
      "source": [
        "# 데이터 전처리"
      ]
    },
    {
      "cell_type": "code",
      "execution_count": null,
      "metadata": {
        "id": "9TB9QRkyZmZz"
      },
      "outputs": [],
      "source": [
        "# 훈련 데이터, 검증 데이터, 테스트 데이터\n",
        "train_sentences = list(train_cs['kor_sentence'])\n",
        "validation_sentences = list(valid_cs['kor_sentence'])\n",
        "test_sentences = list(test_cs['kor_sentence'])\n"
      ]
    },
    {
      "cell_type": "code",
      "execution_count": null,
      "metadata": {
        "id": "Nb-k9Px9ZoVW"
      },
      "outputs": [],
      "source": [
        "train_labels = train_cs['labels']\n",
        "validation_labels = valid_cs['labels']\n",
        "test_labels = test_cs['labels']\n"
      ]
    },
    {
      "cell_type": "code",
      "execution_count": null,
      "metadata": {
        "colab": {
          "base_uri": "https://localhost:8080/"
        },
        "id": "NhCDV4hbZphN",
        "outputId": "7de1f1eb-d0b9-4597-c33e-4768c88c1999"
      },
      "outputs": [],
      "source": [
        "test_sentences[:5]\n"
      ]
    },
    {
      "cell_type": "code",
      "execution_count": null,
      "metadata": {
        "colab": {
          "base_uri": "https://localhost:8080/"
        },
        "id": "VUepfPveZrlu",
        "outputId": "2510f62f-35e6-47c5-b013-89c0896e3060"
      },
      "outputs": [],
      "source": [
        "test_labels[:5]\n"
      ]
    },
    {
      "cell_type": "markdown",
      "metadata": {
        "id": "O7Sc9xT0Zw5j"
      },
      "source": [
        "# GPT 토크나이저를 이용한 전처리"
      ]
    },
    {
      "cell_type": "code",
      "execution_count": null,
      "metadata": {
        "id": "U7ap369wZyRa"
      },
      "outputs": [],
      "source": []
    },
    {
      "cell_type": "code",
      "execution_count": null,
      "metadata": {
        "colab": {
          "base_uri": "https://localhost:8080/",
          "height": 190,
          "referenced_widgets": [
            "05847539f05745719c37b40f9efda58e",
            "7f95efb047054bb6acbb6bd1a27865ca",
            "1f2e517fbbe84a8f926c83cbce3bd787",
            "40b2881e97ec419488967c9297be194c",
            "baf7846e02154a409923beecb9fb9d06",
            "96c1027352c64974bc87c1ee3c822912",
            "e07453f3e12444069fe92a060bbff6ba",
            "efbd9245ecfd4d83bb562588acb1e29d",
            "3b3f6b61ad8c43cda907a0e9a8a0b211",
            "093dd3918f52475e803669766157c7e8",
            "8070aa48445945cd9d7c1599aca38d68",
            "c8ddf2d90cd748f286b9b4ac52d62019",
            "523e713dd06c4d519081e61dffd778b6",
            "80123eb327bb46fab0035c696864e441",
            "3dd7fd11ce4c46fdade28fdd58244580",
            "5a2fd56acbb342b483539272a2a7240e",
            "51b67fcef8564477a7f8bc190b72d8cc",
            "d6c6284f616445b9a2a835eb98949ac0",
            "7b0cb1b684ea4b6ab5b4e90e649cb85d",
            "80cd7c5a9ec5432e8012a3171a19d972",
            "0e98b8181a6943b4b623dc4b1af1b1be",
            "588ecda294614b70a3be48a534c462fb"
          ]
        },
        "id": "pLY5JyxcZzaz",
        "outputId": "417ca870-6997-400a-c0b2-b6163606f78a"
      },
      "outputs": [],
      "source": [
        "# 한국어 GPT 중 하나인 'skt/kogpt2-base-v2'를 사용.\n",
        "tokenizer = AutoTokenizer.from_pretrained('skt/kogpt2-base-v2')\n"
      ]
    },
    {
      "cell_type": "code",
      "execution_count": null,
      "metadata": {
        "id": "0mQqyfe9Z0u6"
      },
      "outputs": [],
      "source": [
        "def pad_sequences(sequences, maxlen=None, dtype='int32', padding='pre',\n",
        "                  truncating='pre', value=0.0):\n",
        "    \"\"\"\n",
        "    시퀀스들을 동일한 길이로 패딩하는 함수\n",
        "\n",
        "    Args:\n",
        "        sequences: 패딩할 시퀀스들의 리스트\n",
        "        maxlen: 최대 시퀀스 길이. None이면 가장 긴 시퀀스 길이 사용\n",
        "        dtype: 출력 배열의 데이터 타입\n",
        "        padding: 'pre' (앞쪽 패딩) 또는 'post' (뒤쪽 패딩)\n",
        "        truncating: 'pre' (앞쪽 자르기) 또는 'post' (뒤쪽 자르기)\n",
        "        value: 패딩에 사용할 값\n",
        "\n",
        "    Returns:\n",
        "        패딩된 numpy 배열\n",
        "    \"\"\"\n",
        "    if not sequences:\n",
        "        return np.array([])\n",
        "\n",
        "    # 최대 길이 결정\n",
        "    if maxlen is None:\n",
        "        maxlen = max(len(seq) for seq in sequences)\n",
        "\n",
        "    # 결과 배열 초기화\n",
        "    if dtype == 'long':\n",
        "        result = np.full((len(sequences), maxlen), value, dtype=np.int64)\n",
        "    else:\n",
        "        result = np.full((len(sequences), maxlen), value, dtype=dtype)\n",
        "\n",
        "    for i, seq in enumerate(sequences):\n",
        "        if len(seq) == 0:\n",
        "            continue\n",
        "\n",
        "        # 시퀀스가 maxlen보다 긴 경우 자르기\n",
        "        if len(seq) > maxlen:\n",
        "            if truncating == 'pre':\n",
        "                seq = seq[-maxlen:]  # 앞쪽 자르기\n",
        "            else:  # truncating == 'post'\n",
        "                seq = seq[:maxlen]   # 뒤쪽 자르기\n",
        "\n",
        "        # 패딩 적용\n",
        "        if padding == 'pre':\n",
        "            # 앞쪽 패딩: 뒤쪽부터 채우기\n",
        "            result[i, -len(seq):] = seq\n",
        "        else:  # padding == 'post'\n",
        "            # 뒤쪽 패딩: 앞쪽부터 채우기\n",
        "            result[i, :len(seq)] = seq\n",
        "\n",
        "    return result\n"
      ]
    },
    {
      "cell_type": "code",
      "execution_count": null,
      "metadata": {
        "id": "knbLmpSQZ2m8"
      },
      "outputs": [],
      "source": [
        "# 최대 길이는 128\n",
        "max_len = 128\n",
        "\n",
        "def data_to_tensor (sentences, labels, MAX_LEN):\n",
        "  # 정수 인코딩 과정. 각 텍스트를 토큰화한 후에 Vocabulary에 맵핑되는 정수 시퀀스로 변환한다.\n",
        "  # ex) ['안녕하세요'] ==> ['안', '녕', '하세요'] ==> [231, 52, 45]\n",
        "  tokenized_texts = [tokenizer.tokenize(sent) for sent in sentences]\n",
        "  input_ids = [tokenizer.convert_tokens_to_ids(x) for x in tokenized_texts]\n",
        "\n",
        "  # pad_sequences는 패딩을 위한 모듈. 주어진 최대 길이를 위해서 뒤에서 패딩 토큰의 번호로 채워준다.\n",
        "  # ex) [231, 52, 45] ==> [231, 52, 45, 패딩 토큰, 패딩 토큰, 패딩 토큰]\n",
        "  pad_token = tokenizer.encode('<pad>')[0]\n",
        "  input_ids = pad_sequences(input_ids, maxlen=MAX_LEN, value=pad_token, dtype=\"long\", truncating=\"post\", padding=\"post\")\n",
        "\n",
        "  attention_masks = []\n",
        "\n",
        "  for seq in input_ids:\n",
        "      seq_mask = [float(i != pad_token) for i in seq]\n",
        "      attention_masks.append(seq_mask)\n",
        "\n",
        "  tensor_inputs = torch.tensor(input_ids)\n",
        "  tensor_labels = torch.tensor(labels)\n",
        "  tensor_masks = torch.tensor(attention_masks)\n",
        "\n",
        "  return tensor_inputs, tensor_labels, tensor_masks\n"
      ]
    },
    {
      "cell_type": "code",
      "execution_count": null,
      "metadata": {
        "id": "7y-uwqwcZ3wE"
      },
      "outputs": [],
      "source": [
        "# 학습 데이터, 검증 데이터, 테스트 데이터에 대해서\n",
        "# 정수 인코딩 결과, 레이블, 어텐션 마스크를 각각 inputs, labels, masks에 저장.\n",
        "train_inputs, train_labels, train_masks = data_to_tensor(train_sentences, train_labels, max_len)\n",
        "validation_inputs, validation_labels, validation_masks = data_to_tensor(validation_sentences, validation_labels, max_len)\n",
        "test_inputs, test_labels, test_masks = data_to_tensor(test_sentences, test_labels, max_len)\n"
      ]
    },
    {
      "cell_type": "code",
      "execution_count": null,
      "metadata": {
        "colab": {
          "base_uri": "https://localhost:8080/"
        },
        "id": "nqVv6zTWZ45t",
        "outputId": "1497d6f3-d18e-4f10-a032-6d3e3893e259"
      },
      "outputs": [],
      "source": [
        "# 첫 번째 샘플의 정수 인코딩 결과\n",
        "sample_input = test_inputs[0]\n",
        "sample_label = test_labels[0]\n",
        "sample_mask = test_masks[0]\n",
        "\n",
        "print(\"정수 인코딩 결과:\", sample_input)\n",
        "print(\"-\" * 20)\n",
        "\n",
        "# 원본 문장 복원\n",
        "decoded_text = tokenizer.decode(sample_input)\n",
        "print(\"원본 문장 복원 결과:\", decoded_text)\n",
        "print(\"-\" * 20)\n",
        "\n",
        "# 어텐션 마스크\n",
        "print(\"어텐션 마스크:\", sample_mask)\n",
        "print(\"-\" * 20)\n",
        "\n",
        "# 샘플의 길이\n",
        "print(\"샘플의 길이:\", len(sample_input))\n",
        "print(\"-\" * 20)\n",
        "\n",
        "# 레이블\n",
        "print(\"레이블:\", sample_label)\n"
      ]
    },
    {
      "cell_type": "markdown",
      "metadata": {
        "id": "9WWupKhgZ68F"
      },
      "source": [
        "# 데이터의 배치화"
      ]
    },
    {
      "cell_type": "code",
      "execution_count": null,
      "metadata": {
        "id": "jrR44jm6Z7w1"
      },
      "outputs": [],
      "source": [
        "batch_size = 32\n",
        "\n",
        "train_data = TensorDataset(train_inputs, train_masks, train_labels)\n",
        "train_sampler = RandomSampler(train_data)\n",
        "train_dataloader = DataLoader(train_data, sampler=train_sampler, batch_size=batch_size)\n"
      ]
    },
    {
      "cell_type": "code",
      "execution_count": null,
      "metadata": {
        "id": "SZ6ROEJGZ98C"
      },
      "outputs": [],
      "source": [
        "validation_data = TensorDataset(validation_inputs, validation_masks, validation_labels)\n",
        "validation_sampler = SequentialSampler(validation_data)\n",
        "validation_dataloader = DataLoader(validation_data, sampler=validation_sampler, batch_size=batch_size)\n"
      ]
    },
    {
      "cell_type": "code",
      "execution_count": null,
      "metadata": {
        "id": "DdNOJ9HkZ-9g"
      },
      "outputs": [],
      "source": [
        "test_data = TensorDataset(test_inputs, test_masks, test_labels)\n",
        "test_sampler = RandomSampler(test_data)\n",
        "test_dataloader = DataLoader(test_data, sampler=test_sampler, batch_size=batch_size)\n"
      ]
    },
    {
      "cell_type": "code",
      "execution_count": null,
      "metadata": {
        "colab": {
          "base_uri": "https://localhost:8080/"
        },
        "id": "rI92qgzRaAot",
        "outputId": "3dcbc087-5bdc-4357-f1df-5da8aed15550"
      },
      "outputs": [],
      "source": [
        "if torch.cuda.is_available():\n",
        "    device = torch.device(\"cuda\")\n",
        "    print('There are %d GPU(s) available.' % torch.cuda.device_count())\n",
        "    print('We will use the GPU:', torch.cuda.get_device_name(0))\n",
        "else:\n",
        "    device = torch.device(\"cpu\")\n",
        "    print('No GPU available, using the CPU instead.')\n"
      ]
    },
    {
      "cell_type": "markdown",
      "metadata": {
        "id": "AWDhnldEaCNW"
      },
      "source": [
        "# 모델 로드"
      ]
    },
    {
      "cell_type": "code",
      "execution_count": null,
      "metadata": {
        "colab": {
          "base_uri": "https://localhost:8080/",
          "height": 607,
          "referenced_widgets": [
            "2041bc3ca7764b7aaae8ee1a8c422d1a",
            "4ba3148f7a6349fba85d21c9d497bd5d",
            "6ec53ed3c0464cbb9345f1192a8aa98e",
            "b6dfa533200446c2995c59c43b365a32",
            "07d9a0616d7545f9ad1083c668c19e16",
            "3225f5e87e164bc1ad28b87d616d29d5",
            "7d9e40fcda2843a7b2112f06adc8433d",
            "114b4dd39a784d649932ebaf0be89782",
            "d921abeadb1f49a0a66d9a827c9f974e",
            "7a38d901d0a249ceb6dae797d2d8c49b",
            "061ea6ce64ec4e30950c665e3fecebf3",
            "31c597d4edd64dfcadb6ffdba3de8784",
            "e6622fe377614dba9ce8df968c071a66",
            "94d9cb7e98194c68bea59d5e3e44dd0c",
            "994ae7877d4946458bef1cc4453ec258",
            "0b321e7b6f024248b375d61e60049edb",
            "041a4cf6552f4cd1baa109c4d3666f26",
            "4d9edcbb4fcd4151a0955750f90d86ac",
            "659b62a80a1f4f498d2adac436b2f4c9",
            "c931a6e1ffea4b228a4927bf4af719e6",
            "ba5a72f09fef4d1b8d43bd32a2745be4",
            "c1b0f484bcdd417fac4241c505e7fbb0"
          ]
        },
        "id": "ltHVV6XeaDER",
        "outputId": "6d79ab2c-eaf2-45b7-ff2c-ba178e6aadc7"
      },
      "outputs": [],
      "source": [
        "num_labels = 3\n",
        "\n",
        "model = AutoModelForSequenceClassification.from_pretrained(\"skt/kogpt2-base-v2\", num_labels=num_labels)\n",
        "model.cuda()\n"
      ]
    },
    {
      "cell_type": "markdown",
      "metadata": {
        "id": "pCH8Q86EaFK0"
      },
      "source": [
        "# 모델 학습"
      ]
    },
    {
      "cell_type": "code",
      "execution_count": null,
      "metadata": {
        "id": "AjEwH2braHDX"
      },
      "outputs": [],
      "source": [
        "# 몇 번의 에포크(전체 데이터에 대한 학습 횟수)를 할 것인지 선택\n",
        "epochs = 3\n",
        "\n",
        "# 옵티마이저 선택\n",
        "optimizer = AdamW(model.parameters(), lr = 2e-5)\n"
      ]
    },
    {
      "cell_type": "code",
      "execution_count": null,
      "metadata": {
        "id": "zTVax1p-aIUY"
      },
      "outputs": [],
      "source": [
        "def metrics(predictions, labels):\n",
        "    # predictions: 모델이 예측한 결과값들의 리스트 또는 배열\n",
        "    # labels: 실제 정답 레이블들의 리스트 또는 배열\n",
        "\n",
        "    # 예측값과 실제 레이블을 별도의 변수에 할당\n",
        "    y_pred = predictions\n",
        "    y_true = labels\n",
        "\n",
        "    # 사용 가능한 메트릭들을 계산\n",
        "\n",
        "    # 정확도 (Accuracy)\n",
        "    # 전체 예측 중에서 올바르게 예측한 비율\n",
        "    accuracy = accuracy_score(y_true, y_pred)\n",
        "\n",
        "    # 매크로 평균 F1 점수 (Macro-averaged F1 Score)\n",
        "    # 클래스별로 F1 점수를 계산한 후, 그 평균을 구함\n",
        "    # zero_division=0 옵션은 분모가 0일 경우 0을 반환하도록 설정\n",
        "    f1_macro_average = f1_score(y_true=y_true, y_pred=y_pred, average='macro', zero_division=0)\n",
        "\n",
        "    # 마이크로 평균 F1 점수 (Micro-averaged F1 Score)\n",
        "    # 전체 데이터에 대해 단일 F1 점수를 계산\n",
        "    # 클래스 불균형이 심한 경우에 적합\n",
        "    f1_micro_average = f1_score(y_true=y_true, y_pred=y_pred, average='micro', zero_division=0)\n",
        "\n",
        "    # 가중 평균 F1 점수 (Weighted-averaged F1 Score)\n",
        "    # 각 클래스의 F1 점수에 해당 클래스의 샘플 수를 가중치로 곱한 후 평균을 구함\n",
        "    f1_weighted_average = f1_score(y_true=y_true, y_pred=y_pred, average='weighted', zero_division=0)\n",
        "\n",
        "    # 계산된 메트릭 결과를 딕셔너리 형태로 리턴\n",
        "    metrics = {'accuracy': accuracy,\n",
        "               'f1_macro': f1_macro_average,\n",
        "               'f1_micro': f1_micro_average,\n",
        "               'f1_weighted': f1_weighted_average}\n",
        "    return metrics\n"
      ]
    },
    {
      "cell_type": "code",
      "execution_count": null,
      "metadata": {
        "id": "BROQTxitaJss"
      },
      "outputs": [],
      "source": [
        "def train_epoch(model, train_dataloader, optimizer, device):\n",
        "    \"\"\"\n",
        "    하나의 에포크 동안 모델을 학습시키는 함수입니다.\n",
        "\n",
        "    Parameters:\n",
        "    model (torch.nn.Module): 학습시킬 모델 객체.\n",
        "    train_dataloader (torch.utils.data.DataLoader): 학습 데이터셋의 DataLoader.\n",
        "    optimizer (torch.optim.Optimizer): 최적화 알고리즘을 구현하는 객체.\n",
        "    device (torch.device): 학습에 사용할 장치(CPU 또는 CUDA).\n",
        "\n",
        "    Returns:\n",
        "    float: 평균 학습 손실값.\n",
        "    \"\"\"\n",
        "\n",
        "    total_train_loss = 0  # 학습 손실을 누적할 변수 초기화\n",
        "    model.train()  # 모델을 학습 모드로 설정\n",
        "\n",
        "    # 학습 데이터로더를 순회하며 배치 단위로 학습\n",
        "    for step, batch in tqdm(enumerate(train_dataloader), desc=\"Training Batch\"):\n",
        "        batch = tuple(t.to(device) for t in batch)  # DataLoader에서 배치를 받아 각 텐서를 지정된 장치로 이동\n",
        "        b_input_ids, b_input_mask, b_labels = batch  # 배치에서 입력 ID, 마스크, 라벨 추출\n",
        "\n",
        "        # 모델에 배치를 전달하여 손실값 계산\n",
        "        outputs = model(b_input_ids, token_type_ids=None, attention_mask=b_input_mask, labels=b_labels)\n",
        "\n",
        "        # 손실값 추출\n",
        "        loss = outputs.loss\n",
        "\n",
        "        optimizer.zero_grad()  # 기울기(gradient) 초기화\n",
        "        loss.backward()  # 역전파를 통해 기울기(gradient) 계산\n",
        "        optimizer.step()  # 매개변수 업데이트\n",
        "\n",
        "        total_train_loss += loss.item()  # 총 손실에 더함\n",
        "\n",
        "    avg_train_loss = total_train_loss / len(train_dataloader)  # 평균 학습 손실 계산\n",
        "\n",
        "    return avg_train_loss  # 평균 학습 손실 반환\n"
      ]
    },
    {
      "cell_type": "code",
      "execution_count": null,
      "metadata": {
        "id": "pkbuRn6qaK-s"
      },
      "outputs": [],
      "source": [
        "def evaluate(model, validation_dataloader, device):\n",
        "    \"\"\"\n",
        "    모델을 사용하여 검증 데이터셋에 대한 평가를 수행하는 함수입니다.\n",
        "\n",
        "    Parameters:\n",
        "    model (torch.nn.Module): 평가할 모델 객체.\n",
        "    validation_dataloader (torch.utils.data.DataLoader): 검증 데이터셋의 DataLoader.\n",
        "    device (torch.device): 평가에 사용할 장치(CPU 또는 CUDA).\n",
        "\n",
        "    Returns:\n",
        "    float: 평균 검증 손실값.\n",
        "    dict: 다양한 평가 지표(metrics)에 대한 값들을 담은 사전.\n",
        "    \"\"\"\n",
        "\n",
        "    model.eval()  # 모델을 평가 모드로 설정\n",
        "\n",
        "    total_eval_loss = 0  # 검증 손실을 누적할 변수 초기화\n",
        "    predictions, true_labels = [], []  # 예측값과 실제 라벨값을 저장할 리스트 초기화\n",
        "\n",
        "    # 검증 데이터로더를 순회하며 배치 단위로 평가\n",
        "    for batch in validation_dataloader:\n",
        "        batch = tuple(t.to(device) for t in batch)  # 배치 데이터를 디바이스로 이동\n",
        "        b_input_ids, b_input_mask, b_labels = batch  # 배치에서 입력 ID, 마스크, 라벨 추출\n",
        "\n",
        "        with torch.no_grad():  # 기울기(gradient) 계산을 수행하지 않음\n",
        "            outputs = model(b_input_ids, token_type_ids=None, attention_mask=b_input_mask, labels=b_labels)\n",
        "\n",
        "        # 모델 출력에서 손실값 추출\n",
        "        if outputs.loss is not None:\n",
        "            loss = outputs.loss\n",
        "            total_eval_loss += loss.item()  # 총 손실에 더함\n",
        "\n",
        "        logits = outputs.logits.detach().cpu().numpy()  # 모델 예측값(로짓)을 numpy 배열로 변환\n",
        "        label_ids = b_labels.to('cpu').numpy()  # 실제 라벨값을 numpy 배열로 변환\n",
        "\n",
        "        # 3개의 값 중 가장 큰 값을 예측한 인덱스로 결정 (예시: logits = [3.513, -0.309, -2.111] ==> 예측: 0)\n",
        "        predictions.extend(np.argmax(logits, axis=1).flatten()) # 예측된 클래스를 리스트에 추가\n",
        "        true_labels.extend(label_ids.flatten()) # 실제 레이블 값을 리스트에 추가\n",
        "\n",
        "    eval_metrics = metrics(predictions, true_labels)\n",
        "\n",
        "    return total_eval_loss / len(validation_dataloader), eval_metrics\n"
      ]
    },
    {
      "cell_type": "code",
      "execution_count": null,
      "metadata": {
        "colab": {
          "base_uri": "https://localhost:8080/",
          "height": 1000
        },
        "id": "99MnUNy9aMjs",
        "outputId": "c8fcf2c3-192c-413f-db24-fc00291461a0"
      },
      "outputs": [],
      "source": [
        "# 최소 검증 손실 초기화\n",
        "min_val_loss = float('inf')\n",
        "\n",
        "# 메인 학습 & 평가 루프\n",
        "for epoch_i in range(0, epochs):\n",
        "    print('======== Epoch {:} / {:} ========'.format(epoch_i + 1, epochs))\n",
        "\n",
        "    # 학습 단계\n",
        "    train_epoch(model, train_dataloader, optimizer, device)\n",
        "\n",
        "    print(\"\\nRunning Validation...\")\n",
        "    # 검증 단계\n",
        "    avg_val_loss, eval_metrics = evaluate(model, validation_dataloader, device)\n",
        "    print(\"  Validation Loss: {0:.2f}\".format(avg_val_loss))\n",
        "    print(\"  Accuracy: {0:.2f}\".format(eval_metrics['accuracy']))\n",
        "    print(\"  F1 Macro: {0:.2f}\".format(eval_metrics['f1_macro']))\n",
        "    print(\"  F1 Micro: {0:.2f}\".format(eval_metrics['f1_micro']))\n",
        "    print(\"  F1 Weighted: {0:.2f}\".format(eval_metrics['f1_weighted']))\n",
        "\n",
        "    # 검증 손실이 현재까지의 최소값보다 작은 경우 체크포인트 저장\n",
        "    if avg_val_loss < min_val_loss:\n",
        "        print(f\"Validation loss decreased ({min_val_loss:.2f} --> {avg_val_loss:.2f}).  Saving model ...\")\n",
        "        # 베스트 모델 저장\n",
        "        torch.save(model.state_dict(), 'model_checkpoint.pt')\n",
        "        # 최소 검증 손실 업데이트\n",
        "        min_val_loss = avg_val_loss\n"
      ]
    },
    {
      "cell_type": "markdown",
      "metadata": {
        "id": "LJHbStJSaOth"
      },
      "source": [
        "# 모델 로드 및 평가"
      ]
    },
    {
      "cell_type": "code",
      "execution_count": null,
      "metadata": {
        "colab": {
          "base_uri": "https://localhost:8080/"
        },
        "id": "01FS475eaPwf",
        "outputId": "0deca632-6fbd-49cc-81b8-26a8dfe40be0"
      },
      "outputs": [],
      "source": [
        "# 베스트 모델 로드\n",
        "model.load_state_dict(torch.load(\"model_checkpoint.pt\"))\n",
        "\n",
        "avg_val_loss, eval_metrics = evaluate(model, test_dataloader, device)\n",
        "print(\"  Test Loss: {0:.2f}\".format(avg_val_loss))\n",
        "print(\"  Accuracy: {0:.2f}\".format(eval_metrics['accuracy']))\n",
        "print(\"  F1 Macro: {0:.2f}\".format(eval_metrics['f1_macro']))\n",
        "print(\"  F1 Micro: {0:.2f}\".format(eval_metrics['f1_micro']))\n",
        "print(\"  F1 Weighted: {0:.2f}\".format(eval_metrics['f1_weighted']))\n"
      ]
    },
    {
      "cell_type": "markdown",
      "metadata": {
        "id": "Fr_c6DF5aSY5"
      },
      "source": [
        "# 추론"
      ]
    },
    {
      "cell_type": "code",
      "execution_count": null,
      "metadata": {
        "colab": {
          "base_uri": "https://localhost:8080/"
        },
        "id": "6GbTe0RzaT9F",
        "outputId": "87fb3e8f-1b0e-434a-d80b-32d35c44954a"
      },
      "outputs": [],
      "source": [
        "from transformers import pipeline\n",
        "\n",
        "pipe = pipeline(\"text-classification\", model=model.cuda(), tokenizer=tokenizer, device=0, max_length=512, return_all_scores=True, function_to_apply='softmax')\n"
      ]
    },
    {
      "cell_type": "code",
      "execution_count": null,
      "metadata": {
        "colab": {
          "base_uri": "https://localhost:8080/"
        },
        "id": "gcjTfaC9aU_Z",
        "outputId": "4a132918-08b5-4312-ae99-606ea98fcf95"
      },
      "outputs": [],
      "source": [
        "result = pipe('SK하이닉스가 매출이 급성장하였다')\n",
        "print(result)\n"
      ]
    },
    {
      "cell_type": "code",
      "execution_count": null,
      "metadata": {
        "colab": {
          "base_uri": "https://localhost:8080/"
        },
        "id": "QNZz6fTZaWP3",
        "outputId": "333baf3e-26de-4a21-ecf4-aab1ae4107d9"
      },
      "outputs": [],
      "source": [
        "# return_all_scores 제거\n",
        "pipe = pipeline(\"text-classification\", model=model.cuda(), tokenizer=tokenizer, device=0, max_length=512, function_to_apply='softmax')\n",
        "\n",
        "result = pipe('SK하이닉스가 매출이 급성장하였다')\n",
        "print(result)\n"
      ]
    },
    {
      "cell_type": "code",
      "execution_count": null,
      "metadata": {
        "id": "S5EUGrJBaXTK"
      },
      "outputs": [],
      "source": [
        "label_dict = {'LABEL_0' : '중립', 'LABEL_1' : '긍정', 'LABEL_2' : '부정'}\n",
        "\n",
        "def prediction(text):\n",
        "  result = pipe(text)\n",
        "\n",
        "  return [label_dict[result[0]['label']]]\n"
      ]
    },
    {
      "cell_type": "code",
      "execution_count": null,
      "metadata": {
        "colab": {
          "base_uri": "https://localhost:8080/"
        },
        "id": "OU8KyK3PaYen",
        "outputId": "1ad5a225-b005-4d3d-c3e7-cbf87ed0c776"
      },
      "outputs": [],
      "source": [
        "prediction('SK하이닉스가 매출이 급성장하였다 ')\n"
      ]
    },
    {
      "cell_type": "code",
      "execution_count": null,
      "metadata": {},
      "outputs": [],
      "source": [
        "import pandas as pd\n",
        "\n",
        "\n",
        "df = pd.read_csv('/content/news_headlines.csv', encoding='utf-8')\n",
        "df = df.drop(['글자수', '크롤링시간', '순번'], axis=1)\n",
        "df_head = df['헤드라인']\n",
        "\n",
        "df['감성'] = [prediction(headline)[0] for headline in df_head]\n",
        "\n",
        "df.head(30)"
      ]
    }
  ],
  "metadata": {
    "accelerator": "GPU",
    "colab": {
      "gpuType": "A100",
      "machine_shape": "hm",
      "provenance": []
    },
    "kernelspec": {
      "display_name": "hf_env",
      "language": "python",
      "name": "python3"
    },
    "language_info": {
      "codemirror_mode": {
        "name": "ipython",
        "version": 3
      },
      "file_extension": ".py",
      "mimetype": "text/x-python",
      "name": "python",
      "nbconvert_exporter": "python",
      "pygments_lexer": "ipython3",
      "version": "3.10.18"
    },
    "widgets": {
      "application/vnd.jupyter.widget-state+json": {
        "041a4cf6552f4cd1baa109c4d3666f26": {
          "model_module": "@jupyter-widgets/base",
          "model_module_version": "1.2.0",
          "model_name": "LayoutModel",
          "state": {
            "_model_module": "@jupyter-widgets/base",
            "_model_module_version": "1.2.0",
            "_model_name": "LayoutModel",
            "_view_count": null,
            "_view_module": "@jupyter-widgets/base",
            "_view_module_version": "1.2.0",
            "_view_name": "LayoutView",
            "align_content": null,
            "align_items": null,
            "align_self": null,
            "border": null,
            "bottom": null,
            "display": null,
            "flex": null,
            "flex_flow": null,
            "grid_area": null,
            "grid_auto_columns": null,
            "grid_auto_flow": null,
            "grid_auto_rows": null,
            "grid_column": null,
            "grid_gap": null,
            "grid_row": null,
            "grid_template_areas": null,
            "grid_template_columns": null,
            "grid_template_rows": null,
            "height": null,
            "justify_content": null,
            "justify_items": null,
            "left": null,
            "margin": null,
            "max_height": null,
            "max_width": null,
            "min_height": null,
            "min_width": null,
            "object_fit": null,
            "object_position": null,
            "order": null,
            "overflow": null,
            "overflow_x": null,
            "overflow_y": null,
            "padding": null,
            "right": null,
            "top": null,
            "visibility": null,
            "width": null
          }
        },
        "05847539f05745719c37b40f9efda58e": {
          "model_module": "@jupyter-widgets/controls",
          "model_module_version": "1.5.0",
          "model_name": "HBoxModel",
          "state": {
            "_dom_classes": [],
            "_model_module": "@jupyter-widgets/controls",
            "_model_module_version": "1.5.0",
            "_model_name": "HBoxModel",
            "_view_count": null,
            "_view_module": "@jupyter-widgets/controls",
            "_view_module_version": "1.5.0",
            "_view_name": "HBoxView",
            "box_style": "",
            "children": [
              "IPY_MODEL_7f95efb047054bb6acbb6bd1a27865ca",
              "IPY_MODEL_1f2e517fbbe84a8f926c83cbce3bd787",
              "IPY_MODEL_40b2881e97ec419488967c9297be194c"
            ],
            "layout": "IPY_MODEL_baf7846e02154a409923beecb9fb9d06"
          }
        },
        "061ea6ce64ec4e30950c665e3fecebf3": {
          "model_module": "@jupyter-widgets/controls",
          "model_module_version": "1.5.0",
          "model_name": "DescriptionStyleModel",
          "state": {
            "_model_module": "@jupyter-widgets/controls",
            "_model_module_version": "1.5.0",
            "_model_name": "DescriptionStyleModel",
            "_view_count": null,
            "_view_module": "@jupyter-widgets/base",
            "_view_module_version": "1.2.0",
            "_view_name": "StyleView",
            "description_width": ""
          }
        },
        "07d9a0616d7545f9ad1083c668c19e16": {
          "model_module": "@jupyter-widgets/base",
          "model_module_version": "1.2.0",
          "model_name": "LayoutModel",
          "state": {
            "_model_module": "@jupyter-widgets/base",
            "_model_module_version": "1.2.0",
            "_model_name": "LayoutModel",
            "_view_count": null,
            "_view_module": "@jupyter-widgets/base",
            "_view_module_version": "1.2.0",
            "_view_name": "LayoutView",
            "align_content": null,
            "align_items": null,
            "align_self": null,
            "border": null,
            "bottom": null,
            "display": null,
            "flex": null,
            "flex_flow": null,
            "grid_area": null,
            "grid_auto_columns": null,
            "grid_auto_flow": null,
            "grid_auto_rows": null,
            "grid_column": null,
            "grid_gap": null,
            "grid_row": null,
            "grid_template_areas": null,
            "grid_template_columns": null,
            "grid_template_rows": null,
            "height": null,
            "justify_content": null,
            "justify_items": null,
            "left": null,
            "margin": null,
            "max_height": null,
            "max_width": null,
            "min_height": null,
            "min_width": null,
            "object_fit": null,
            "object_position": null,
            "order": null,
            "overflow": null,
            "overflow_x": null,
            "overflow_y": null,
            "padding": null,
            "right": null,
            "top": null,
            "visibility": null,
            "width": null
          }
        },
        "093dd3918f52475e803669766157c7e8": {
          "model_module": "@jupyter-widgets/base",
          "model_module_version": "1.2.0",
          "model_name": "LayoutModel",
          "state": {
            "_model_module": "@jupyter-widgets/base",
            "_model_module_version": "1.2.0",
            "_model_name": "LayoutModel",
            "_view_count": null,
            "_view_module": "@jupyter-widgets/base",
            "_view_module_version": "1.2.0",
            "_view_name": "LayoutView",
            "align_content": null,
            "align_items": null,
            "align_self": null,
            "border": null,
            "bottom": null,
            "display": null,
            "flex": null,
            "flex_flow": null,
            "grid_area": null,
            "grid_auto_columns": null,
            "grid_auto_flow": null,
            "grid_auto_rows": null,
            "grid_column": null,
            "grid_gap": null,
            "grid_row": null,
            "grid_template_areas": null,
            "grid_template_columns": null,
            "grid_template_rows": null,
            "height": null,
            "justify_content": null,
            "justify_items": null,
            "left": null,
            "margin": null,
            "max_height": null,
            "max_width": null,
            "min_height": null,
            "min_width": null,
            "object_fit": null,
            "object_position": null,
            "order": null,
            "overflow": null,
            "overflow_x": null,
            "overflow_y": null,
            "padding": null,
            "right": null,
            "top": null,
            "visibility": null,
            "width": null
          }
        },
        "0b321e7b6f024248b375d61e60049edb": {
          "model_module": "@jupyter-widgets/base",
          "model_module_version": "1.2.0",
          "model_name": "LayoutModel",
          "state": {
            "_model_module": "@jupyter-widgets/base",
            "_model_module_version": "1.2.0",
            "_model_name": "LayoutModel",
            "_view_count": null,
            "_view_module": "@jupyter-widgets/base",
            "_view_module_version": "1.2.0",
            "_view_name": "LayoutView",
            "align_content": null,
            "align_items": null,
            "align_self": null,
            "border": null,
            "bottom": null,
            "display": null,
            "flex": null,
            "flex_flow": null,
            "grid_area": null,
            "grid_auto_columns": null,
            "grid_auto_flow": null,
            "grid_auto_rows": null,
            "grid_column": null,
            "grid_gap": null,
            "grid_row": null,
            "grid_template_areas": null,
            "grid_template_columns": null,
            "grid_template_rows": null,
            "height": null,
            "justify_content": null,
            "justify_items": null,
            "left": null,
            "margin": null,
            "max_height": null,
            "max_width": null,
            "min_height": null,
            "min_width": null,
            "object_fit": null,
            "object_position": null,
            "order": null,
            "overflow": null,
            "overflow_x": null,
            "overflow_y": null,
            "padding": null,
            "right": null,
            "top": null,
            "visibility": null,
            "width": null
          }
        },
        "0e98b8181a6943b4b623dc4b1af1b1be": {
          "model_module": "@jupyter-widgets/base",
          "model_module_version": "1.2.0",
          "model_name": "LayoutModel",
          "state": {
            "_model_module": "@jupyter-widgets/base",
            "_model_module_version": "1.2.0",
            "_model_name": "LayoutModel",
            "_view_count": null,
            "_view_module": "@jupyter-widgets/base",
            "_view_module_version": "1.2.0",
            "_view_name": "LayoutView",
            "align_content": null,
            "align_items": null,
            "align_self": null,
            "border": null,
            "bottom": null,
            "display": null,
            "flex": null,
            "flex_flow": null,
            "grid_area": null,
            "grid_auto_columns": null,
            "grid_auto_flow": null,
            "grid_auto_rows": null,
            "grid_column": null,
            "grid_gap": null,
            "grid_row": null,
            "grid_template_areas": null,
            "grid_template_columns": null,
            "grid_template_rows": null,
            "height": null,
            "justify_content": null,
            "justify_items": null,
            "left": null,
            "margin": null,
            "max_height": null,
            "max_width": null,
            "min_height": null,
            "min_width": null,
            "object_fit": null,
            "object_position": null,
            "order": null,
            "overflow": null,
            "overflow_x": null,
            "overflow_y": null,
            "padding": null,
            "right": null,
            "top": null,
            "visibility": null,
            "width": null
          }
        },
        "114b4dd39a784d649932ebaf0be89782": {
          "model_module": "@jupyter-widgets/base",
          "model_module_version": "1.2.0",
          "model_name": "LayoutModel",
          "state": {
            "_model_module": "@jupyter-widgets/base",
            "_model_module_version": "1.2.0",
            "_model_name": "LayoutModel",
            "_view_count": null,
            "_view_module": "@jupyter-widgets/base",
            "_view_module_version": "1.2.0",
            "_view_name": "LayoutView",
            "align_content": null,
            "align_items": null,
            "align_self": null,
            "border": null,
            "bottom": null,
            "display": null,
            "flex": null,
            "flex_flow": null,
            "grid_area": null,
            "grid_auto_columns": null,
            "grid_auto_flow": null,
            "grid_auto_rows": null,
            "grid_column": null,
            "grid_gap": null,
            "grid_row": null,
            "grid_template_areas": null,
            "grid_template_columns": null,
            "grid_template_rows": null,
            "height": null,
            "justify_content": null,
            "justify_items": null,
            "left": null,
            "margin": null,
            "max_height": null,
            "max_width": null,
            "min_height": null,
            "min_width": null,
            "object_fit": null,
            "object_position": null,
            "order": null,
            "overflow": null,
            "overflow_x": null,
            "overflow_y": null,
            "padding": null,
            "right": null,
            "top": null,
            "visibility": null,
            "width": null
          }
        },
        "11724522eb904a0f958d908f0ba4dcd2": {
          "model_module": "@jupyter-widgets/base",
          "model_module_version": "1.2.0",
          "model_name": "LayoutModel",
          "state": {
            "_model_module": "@jupyter-widgets/base",
            "_model_module_version": "1.2.0",
            "_model_name": "LayoutModel",
            "_view_count": null,
            "_view_module": "@jupyter-widgets/base",
            "_view_module_version": "1.2.0",
            "_view_name": "LayoutView",
            "align_content": null,
            "align_items": null,
            "align_self": null,
            "border": null,
            "bottom": null,
            "display": null,
            "flex": null,
            "flex_flow": null,
            "grid_area": null,
            "grid_auto_columns": null,
            "grid_auto_flow": null,
            "grid_auto_rows": null,
            "grid_column": null,
            "grid_gap": null,
            "grid_row": null,
            "grid_template_areas": null,
            "grid_template_columns": null,
            "grid_template_rows": null,
            "height": null,
            "justify_content": null,
            "justify_items": null,
            "left": null,
            "margin": null,
            "max_height": null,
            "max_width": null,
            "min_height": null,
            "min_width": null,
            "object_fit": null,
            "object_position": null,
            "order": null,
            "overflow": null,
            "overflow_x": null,
            "overflow_y": null,
            "padding": null,
            "right": null,
            "top": null,
            "visibility": null,
            "width": null
          }
        },
        "191eff21100a4df688bce72520371a4e": {
          "model_module": "@jupyter-widgets/base",
          "model_module_version": "1.2.0",
          "model_name": "LayoutModel",
          "state": {
            "_model_module": "@jupyter-widgets/base",
            "_model_module_version": "1.2.0",
            "_model_name": "LayoutModel",
            "_view_count": null,
            "_view_module": "@jupyter-widgets/base",
            "_view_module_version": "1.2.0",
            "_view_name": "LayoutView",
            "align_content": null,
            "align_items": null,
            "align_self": null,
            "border": null,
            "bottom": null,
            "display": null,
            "flex": null,
            "flex_flow": null,
            "grid_area": null,
            "grid_auto_columns": null,
            "grid_auto_flow": null,
            "grid_auto_rows": null,
            "grid_column": null,
            "grid_gap": null,
            "grid_row": null,
            "grid_template_areas": null,
            "grid_template_columns": null,
            "grid_template_rows": null,
            "height": null,
            "justify_content": null,
            "justify_items": null,
            "left": null,
            "margin": null,
            "max_height": null,
            "max_width": null,
            "min_height": null,
            "min_width": null,
            "object_fit": null,
            "object_position": null,
            "order": null,
            "overflow": null,
            "overflow_x": null,
            "overflow_y": null,
            "padding": null,
            "right": null,
            "top": null,
            "visibility": null,
            "width": "20px"
          }
        },
        "1f2e517fbbe84a8f926c83cbce3bd787": {
          "model_module": "@jupyter-widgets/controls",
          "model_module_version": "1.5.0",
          "model_name": "FloatProgressModel",
          "state": {
            "_dom_classes": [],
            "_model_module": "@jupyter-widgets/controls",
            "_model_module_version": "1.5.0",
            "_model_name": "FloatProgressModel",
            "_view_count": null,
            "_view_module": "@jupyter-widgets/controls",
            "_view_module_version": "1.5.0",
            "_view_name": "ProgressView",
            "bar_style": "success",
            "description": "",
            "description_tooltip": null,
            "layout": "IPY_MODEL_efbd9245ecfd4d83bb562588acb1e29d",
            "max": 1,
            "min": 0,
            "orientation": "horizontal",
            "style": "IPY_MODEL_3b3f6b61ad8c43cda907a0e9a8a0b211",
            "value": 1
          }
        },
        "2041bc3ca7764b7aaae8ee1a8c422d1a": {
          "model_module": "@jupyter-widgets/controls",
          "model_module_version": "1.5.0",
          "model_name": "HBoxModel",
          "state": {
            "_dom_classes": [],
            "_model_module": "@jupyter-widgets/controls",
            "_model_module_version": "1.5.0",
            "_model_name": "HBoxModel",
            "_view_count": null,
            "_view_module": "@jupyter-widgets/controls",
            "_view_module_version": "1.5.0",
            "_view_name": "HBoxView",
            "box_style": "",
            "children": [
              "IPY_MODEL_4ba3148f7a6349fba85d21c9d497bd5d",
              "IPY_MODEL_6ec53ed3c0464cbb9345f1192a8aa98e",
              "IPY_MODEL_b6dfa533200446c2995c59c43b365a32"
            ],
            "layout": "IPY_MODEL_07d9a0616d7545f9ad1083c668c19e16"
          }
        },
        "31c597d4edd64dfcadb6ffdba3de8784": {
          "model_module": "@jupyter-widgets/controls",
          "model_module_version": "1.5.0",
          "model_name": "HBoxModel",
          "state": {
            "_dom_classes": [],
            "_model_module": "@jupyter-widgets/controls",
            "_model_module_version": "1.5.0",
            "_model_name": "HBoxModel",
            "_view_count": null,
            "_view_module": "@jupyter-widgets/controls",
            "_view_module_version": "1.5.0",
            "_view_name": "HBoxView",
            "box_style": "",
            "children": [
              "IPY_MODEL_e6622fe377614dba9ce8df968c071a66",
              "IPY_MODEL_94d9cb7e98194c68bea59d5e3e44dd0c",
              "IPY_MODEL_994ae7877d4946458bef1cc4453ec258"
            ],
            "layout": "IPY_MODEL_0b321e7b6f024248b375d61e60049edb"
          }
        },
        "3225f5e87e164bc1ad28b87d616d29d5": {
          "model_module": "@jupyter-widgets/base",
          "model_module_version": "1.2.0",
          "model_name": "LayoutModel",
          "state": {
            "_model_module": "@jupyter-widgets/base",
            "_model_module_version": "1.2.0",
            "_model_name": "LayoutModel",
            "_view_count": null,
            "_view_module": "@jupyter-widgets/base",
            "_view_module_version": "1.2.0",
            "_view_name": "LayoutView",
            "align_content": null,
            "align_items": null,
            "align_self": null,
            "border": null,
            "bottom": null,
            "display": null,
            "flex": null,
            "flex_flow": null,
            "grid_area": null,
            "grid_auto_columns": null,
            "grid_auto_flow": null,
            "grid_auto_rows": null,
            "grid_column": null,
            "grid_gap": null,
            "grid_row": null,
            "grid_template_areas": null,
            "grid_template_columns": null,
            "grid_template_rows": null,
            "height": null,
            "justify_content": null,
            "justify_items": null,
            "left": null,
            "margin": null,
            "max_height": null,
            "max_width": null,
            "min_height": null,
            "min_width": null,
            "object_fit": null,
            "object_position": null,
            "order": null,
            "overflow": null,
            "overflow_x": null,
            "overflow_y": null,
            "padding": null,
            "right": null,
            "top": null,
            "visibility": null,
            "width": null
          }
        },
        "3441d1a679ef48c0b8b9b2648bc9052e": {
          "model_module": "@jupyter-widgets/controls",
          "model_module_version": "1.5.0",
          "model_name": "HBoxModel",
          "state": {
            "_dom_classes": [],
            "_model_module": "@jupyter-widgets/controls",
            "_model_module_version": "1.5.0",
            "_model_name": "HBoxModel",
            "_view_count": null,
            "_view_module": "@jupyter-widgets/controls",
            "_view_module_version": "1.5.0",
            "_view_name": "HBoxView",
            "box_style": "",
            "children": [
              "IPY_MODEL_8425367ecb0a42b58e0fa770a5f44bc9",
              "IPY_MODEL_4ffd77671b0f4132a64537dd42c3b4b7",
              "IPY_MODEL_6992981425e64d75887f94245c2968c1"
            ],
            "layout": "IPY_MODEL_e935adb1064f481f87a77516427871b8"
          }
        },
        "3b3f6b61ad8c43cda907a0e9a8a0b211": {
          "model_module": "@jupyter-widgets/controls",
          "model_module_version": "1.5.0",
          "model_name": "ProgressStyleModel",
          "state": {
            "_model_module": "@jupyter-widgets/controls",
            "_model_module_version": "1.5.0",
            "_model_name": "ProgressStyleModel",
            "_view_count": null,
            "_view_module": "@jupyter-widgets/base",
            "_view_module_version": "1.2.0",
            "_view_name": "StyleView",
            "bar_color": null,
            "description_width": ""
          }
        },
        "3dd7fd11ce4c46fdade28fdd58244580": {
          "model_module": "@jupyter-widgets/controls",
          "model_module_version": "1.5.0",
          "model_name": "HTMLModel",
          "state": {
            "_dom_classes": [],
            "_model_module": "@jupyter-widgets/controls",
            "_model_module_version": "1.5.0",
            "_model_name": "HTMLModel",
            "_view_count": null,
            "_view_module": "@jupyter-widgets/controls",
            "_view_module_version": "1.5.0",
            "_view_name": "HTMLView",
            "description": "",
            "description_tooltip": null,
            "layout": "IPY_MODEL_0e98b8181a6943b4b623dc4b1af1b1be",
            "placeholder": "​",
            "style": "IPY_MODEL_588ecda294614b70a3be48a534c462fb",
            "value": " 2.83M/? [00:00&lt;00:00, 50.2MB/s]"
          }
        },
        "40b2881e97ec419488967c9297be194c": {
          "model_module": "@jupyter-widgets/controls",
          "model_module_version": "1.5.0",
          "model_name": "HTMLModel",
          "state": {
            "_dom_classes": [],
            "_model_module": "@jupyter-widgets/controls",
            "_model_module_version": "1.5.0",
            "_model_name": "HTMLModel",
            "_view_count": null,
            "_view_module": "@jupyter-widgets/controls",
            "_view_module_version": "1.5.0",
            "_view_name": "HTMLView",
            "description": "",
            "description_tooltip": null,
            "layout": "IPY_MODEL_093dd3918f52475e803669766157c7e8",
            "placeholder": "​",
            "style": "IPY_MODEL_8070aa48445945cd9d7c1599aca38d68",
            "value": " 1.00k/? [00:00&lt;00:00, 81.6kB/s]"
          }
        },
        "4ba3148f7a6349fba85d21c9d497bd5d": {
          "model_module": "@jupyter-widgets/controls",
          "model_module_version": "1.5.0",
          "model_name": "HTMLModel",
          "state": {
            "_dom_classes": [],
            "_model_module": "@jupyter-widgets/controls",
            "_model_module_version": "1.5.0",
            "_model_name": "HTMLModel",
            "_view_count": null,
            "_view_module": "@jupyter-widgets/controls",
            "_view_module_version": "1.5.0",
            "_view_name": "HTMLView",
            "description": "",
            "description_tooltip": null,
            "layout": "IPY_MODEL_3225f5e87e164bc1ad28b87d616d29d5",
            "placeholder": "​",
            "style": "IPY_MODEL_7d9e40fcda2843a7b2112f06adc8433d",
            "value": "pytorch_model.bin: 100%"
          }
        },
        "4c593da6787b43b1aa9f2e74fffe742e": {
          "model_module": "@jupyter-widgets/controls",
          "model_module_version": "1.5.0",
          "model_name": "DescriptionStyleModel",
          "state": {
            "_model_module": "@jupyter-widgets/controls",
            "_model_module_version": "1.5.0",
            "_model_name": "DescriptionStyleModel",
            "_view_count": null,
            "_view_module": "@jupyter-widgets/base",
            "_view_module_version": "1.2.0",
            "_view_name": "StyleView",
            "description_width": ""
          }
        },
        "4d9edcbb4fcd4151a0955750f90d86ac": {
          "model_module": "@jupyter-widgets/controls",
          "model_module_version": "1.5.0",
          "model_name": "DescriptionStyleModel",
          "state": {
            "_model_module": "@jupyter-widgets/controls",
            "_model_module_version": "1.5.0",
            "_model_name": "DescriptionStyleModel",
            "_view_count": null,
            "_view_module": "@jupyter-widgets/base",
            "_view_module_version": "1.2.0",
            "_view_name": "StyleView",
            "description_width": ""
          }
        },
        "4ffd77671b0f4132a64537dd42c3b4b7": {
          "model_module": "@jupyter-widgets/controls",
          "model_module_version": "1.5.0",
          "model_name": "FloatProgressModel",
          "state": {
            "_dom_classes": [],
            "_model_module": "@jupyter-widgets/controls",
            "_model_module_version": "1.5.0",
            "_model_name": "FloatProgressModel",
            "_view_count": null,
            "_view_module": "@jupyter-widgets/controls",
            "_view_module_version": "1.5.0",
            "_view_name": "ProgressView",
            "bar_style": "success",
            "description": "",
            "description_tooltip": null,
            "layout": "IPY_MODEL_191eff21100a4df688bce72520371a4e",
            "max": 1,
            "min": 0,
            "orientation": "horizontal",
            "style": "IPY_MODEL_e4fb8bd0d1a1437a8a8297962419cdff",
            "value": 1
          }
        },
        "51b67fcef8564477a7f8bc190b72d8cc": {
          "model_module": "@jupyter-widgets/base",
          "model_module_version": "1.2.0",
          "model_name": "LayoutModel",
          "state": {
            "_model_module": "@jupyter-widgets/base",
            "_model_module_version": "1.2.0",
            "_model_name": "LayoutModel",
            "_view_count": null,
            "_view_module": "@jupyter-widgets/base",
            "_view_module_version": "1.2.0",
            "_view_name": "LayoutView",
            "align_content": null,
            "align_items": null,
            "align_self": null,
            "border": null,
            "bottom": null,
            "display": null,
            "flex": null,
            "flex_flow": null,
            "grid_area": null,
            "grid_auto_columns": null,
            "grid_auto_flow": null,
            "grid_auto_rows": null,
            "grid_column": null,
            "grid_gap": null,
            "grid_row": null,
            "grid_template_areas": null,
            "grid_template_columns": null,
            "grid_template_rows": null,
            "height": null,
            "justify_content": null,
            "justify_items": null,
            "left": null,
            "margin": null,
            "max_height": null,
            "max_width": null,
            "min_height": null,
            "min_width": null,
            "object_fit": null,
            "object_position": null,
            "order": null,
            "overflow": null,
            "overflow_x": null,
            "overflow_y": null,
            "padding": null,
            "right": null,
            "top": null,
            "visibility": null,
            "width": null
          }
        },
        "523e713dd06c4d519081e61dffd778b6": {
          "model_module": "@jupyter-widgets/controls",
          "model_module_version": "1.5.0",
          "model_name": "HTMLModel",
          "state": {
            "_dom_classes": [],
            "_model_module": "@jupyter-widgets/controls",
            "_model_module_version": "1.5.0",
            "_model_name": "HTMLModel",
            "_view_count": null,
            "_view_module": "@jupyter-widgets/controls",
            "_view_module_version": "1.5.0",
            "_view_name": "HTMLView",
            "description": "",
            "description_tooltip": null,
            "layout": "IPY_MODEL_51b67fcef8564477a7f8bc190b72d8cc",
            "placeholder": "​",
            "style": "IPY_MODEL_d6c6284f616445b9a2a835eb98949ac0",
            "value": "tokenizer.json: "
          }
        },
        "588ecda294614b70a3be48a534c462fb": {
          "model_module": "@jupyter-widgets/controls",
          "model_module_version": "1.5.0",
          "model_name": "DescriptionStyleModel",
          "state": {
            "_model_module": "@jupyter-widgets/controls",
            "_model_module_version": "1.5.0",
            "_model_name": "DescriptionStyleModel",
            "_view_count": null,
            "_view_module": "@jupyter-widgets/base",
            "_view_module_version": "1.2.0",
            "_view_name": "StyleView",
            "description_width": ""
          }
        },
        "5a2fd56acbb342b483539272a2a7240e": {
          "model_module": "@jupyter-widgets/base",
          "model_module_version": "1.2.0",
          "model_name": "LayoutModel",
          "state": {
            "_model_module": "@jupyter-widgets/base",
            "_model_module_version": "1.2.0",
            "_model_name": "LayoutModel",
            "_view_count": null,
            "_view_module": "@jupyter-widgets/base",
            "_view_module_version": "1.2.0",
            "_view_name": "LayoutView",
            "align_content": null,
            "align_items": null,
            "align_self": null,
            "border": null,
            "bottom": null,
            "display": null,
            "flex": null,
            "flex_flow": null,
            "grid_area": null,
            "grid_auto_columns": null,
            "grid_auto_flow": null,
            "grid_auto_rows": null,
            "grid_column": null,
            "grid_gap": null,
            "grid_row": null,
            "grid_template_areas": null,
            "grid_template_columns": null,
            "grid_template_rows": null,
            "height": null,
            "justify_content": null,
            "justify_items": null,
            "left": null,
            "margin": null,
            "max_height": null,
            "max_width": null,
            "min_height": null,
            "min_width": null,
            "object_fit": null,
            "object_position": null,
            "order": null,
            "overflow": null,
            "overflow_x": null,
            "overflow_y": null,
            "padding": null,
            "right": null,
            "top": null,
            "visibility": null,
            "width": null
          }
        },
        "659b62a80a1f4f498d2adac436b2f4c9": {
          "model_module": "@jupyter-widgets/base",
          "model_module_version": "1.2.0",
          "model_name": "LayoutModel",
          "state": {
            "_model_module": "@jupyter-widgets/base",
            "_model_module_version": "1.2.0",
            "_model_name": "LayoutModel",
            "_view_count": null,
            "_view_module": "@jupyter-widgets/base",
            "_view_module_version": "1.2.0",
            "_view_name": "LayoutView",
            "align_content": null,
            "align_items": null,
            "align_self": null,
            "border": null,
            "bottom": null,
            "display": null,
            "flex": null,
            "flex_flow": null,
            "grid_area": null,
            "grid_auto_columns": null,
            "grid_auto_flow": null,
            "grid_auto_rows": null,
            "grid_column": null,
            "grid_gap": null,
            "grid_row": null,
            "grid_template_areas": null,
            "grid_template_columns": null,
            "grid_template_rows": null,
            "height": null,
            "justify_content": null,
            "justify_items": null,
            "left": null,
            "margin": null,
            "max_height": null,
            "max_width": null,
            "min_height": null,
            "min_width": null,
            "object_fit": null,
            "object_position": null,
            "order": null,
            "overflow": null,
            "overflow_x": null,
            "overflow_y": null,
            "padding": null,
            "right": null,
            "top": null,
            "visibility": null,
            "width": null
          }
        },
        "6992981425e64d75887f94245c2968c1": {
          "model_module": "@jupyter-widgets/controls",
          "model_module_version": "1.5.0",
          "model_name": "HTMLModel",
          "state": {
            "_dom_classes": [],
            "_model_module": "@jupyter-widgets/controls",
            "_model_module_version": "1.5.0",
            "_model_name": "HTMLModel",
            "_view_count": null,
            "_view_module": "@jupyter-widgets/controls",
            "_view_module_version": "1.5.0",
            "_view_name": "HTMLView",
            "description": "",
            "description_tooltip": null,
            "layout": "IPY_MODEL_d747c85b796e4392bb9e5ff7b0231277",
            "placeholder": "​",
            "style": "IPY_MODEL_fb461a225c18463f8f2248ac4c200eee",
            "value": " 4846/0 [00:00&lt;00:00, 90731.17 examples/s]"
          }
        },
        "6ec53ed3c0464cbb9345f1192a8aa98e": {
          "model_module": "@jupyter-widgets/controls",
          "model_module_version": "1.5.0",
          "model_name": "FloatProgressModel",
          "state": {
            "_dom_classes": [],
            "_model_module": "@jupyter-widgets/controls",
            "_model_module_version": "1.5.0",
            "_model_name": "FloatProgressModel",
            "_view_count": null,
            "_view_module": "@jupyter-widgets/controls",
            "_view_module_version": "1.5.0",
            "_view_name": "ProgressView",
            "bar_style": "success",
            "description": "",
            "description_tooltip": null,
            "layout": "IPY_MODEL_114b4dd39a784d649932ebaf0be89782",
            "max": 513302779,
            "min": 0,
            "orientation": "horizontal",
            "style": "IPY_MODEL_d921abeadb1f49a0a66d9a827c9f974e",
            "value": 513302779
          }
        },
        "7a38d901d0a249ceb6dae797d2d8c49b": {
          "model_module": "@jupyter-widgets/base",
          "model_module_version": "1.2.0",
          "model_name": "LayoutModel",
          "state": {
            "_model_module": "@jupyter-widgets/base",
            "_model_module_version": "1.2.0",
            "_model_name": "LayoutModel",
            "_view_count": null,
            "_view_module": "@jupyter-widgets/base",
            "_view_module_version": "1.2.0",
            "_view_name": "LayoutView",
            "align_content": null,
            "align_items": null,
            "align_self": null,
            "border": null,
            "bottom": null,
            "display": null,
            "flex": null,
            "flex_flow": null,
            "grid_area": null,
            "grid_auto_columns": null,
            "grid_auto_flow": null,
            "grid_auto_rows": null,
            "grid_column": null,
            "grid_gap": null,
            "grid_row": null,
            "grid_template_areas": null,
            "grid_template_columns": null,
            "grid_template_rows": null,
            "height": null,
            "justify_content": null,
            "justify_items": null,
            "left": null,
            "margin": null,
            "max_height": null,
            "max_width": null,
            "min_height": null,
            "min_width": null,
            "object_fit": null,
            "object_position": null,
            "order": null,
            "overflow": null,
            "overflow_x": null,
            "overflow_y": null,
            "padding": null,
            "right": null,
            "top": null,
            "visibility": null,
            "width": null
          }
        },
        "7b0cb1b684ea4b6ab5b4e90e649cb85d": {
          "model_module": "@jupyter-widgets/base",
          "model_module_version": "1.2.0",
          "model_name": "LayoutModel",
          "state": {
            "_model_module": "@jupyter-widgets/base",
            "_model_module_version": "1.2.0",
            "_model_name": "LayoutModel",
            "_view_count": null,
            "_view_module": "@jupyter-widgets/base",
            "_view_module_version": "1.2.0",
            "_view_name": "LayoutView",
            "align_content": null,
            "align_items": null,
            "align_self": null,
            "border": null,
            "bottom": null,
            "display": null,
            "flex": null,
            "flex_flow": null,
            "grid_area": null,
            "grid_auto_columns": null,
            "grid_auto_flow": null,
            "grid_auto_rows": null,
            "grid_column": null,
            "grid_gap": null,
            "grid_row": null,
            "grid_template_areas": null,
            "grid_template_columns": null,
            "grid_template_rows": null,
            "height": null,
            "justify_content": null,
            "justify_items": null,
            "left": null,
            "margin": null,
            "max_height": null,
            "max_width": null,
            "min_height": null,
            "min_width": null,
            "object_fit": null,
            "object_position": null,
            "order": null,
            "overflow": null,
            "overflow_x": null,
            "overflow_y": null,
            "padding": null,
            "right": null,
            "top": null,
            "visibility": null,
            "width": "20px"
          }
        },
        "7d9e40fcda2843a7b2112f06adc8433d": {
          "model_module": "@jupyter-widgets/controls",
          "model_module_version": "1.5.0",
          "model_name": "DescriptionStyleModel",
          "state": {
            "_model_module": "@jupyter-widgets/controls",
            "_model_module_version": "1.5.0",
            "_model_name": "DescriptionStyleModel",
            "_view_count": null,
            "_view_module": "@jupyter-widgets/base",
            "_view_module_version": "1.2.0",
            "_view_name": "StyleView",
            "description_width": ""
          }
        },
        "7f95efb047054bb6acbb6bd1a27865ca": {
          "model_module": "@jupyter-widgets/controls",
          "model_module_version": "1.5.0",
          "model_name": "HTMLModel",
          "state": {
            "_dom_classes": [],
            "_model_module": "@jupyter-widgets/controls",
            "_model_module_version": "1.5.0",
            "_model_name": "HTMLModel",
            "_view_count": null,
            "_view_module": "@jupyter-widgets/controls",
            "_view_module_version": "1.5.0",
            "_view_name": "HTMLView",
            "description": "",
            "description_tooltip": null,
            "layout": "IPY_MODEL_96c1027352c64974bc87c1ee3c822912",
            "placeholder": "​",
            "style": "IPY_MODEL_e07453f3e12444069fe92a060bbff6ba",
            "value": "config.json: "
          }
        },
        "80123eb327bb46fab0035c696864e441": {
          "model_module": "@jupyter-widgets/controls",
          "model_module_version": "1.5.0",
          "model_name": "FloatProgressModel",
          "state": {
            "_dom_classes": [],
            "_model_module": "@jupyter-widgets/controls",
            "_model_module_version": "1.5.0",
            "_model_name": "FloatProgressModel",
            "_view_count": null,
            "_view_module": "@jupyter-widgets/controls",
            "_view_module_version": "1.5.0",
            "_view_name": "ProgressView",
            "bar_style": "success",
            "description": "",
            "description_tooltip": null,
            "layout": "IPY_MODEL_7b0cb1b684ea4b6ab5b4e90e649cb85d",
            "max": 1,
            "min": 0,
            "orientation": "horizontal",
            "style": "IPY_MODEL_80cd7c5a9ec5432e8012a3171a19d972",
            "value": 1
          }
        },
        "8070aa48445945cd9d7c1599aca38d68": {
          "model_module": "@jupyter-widgets/controls",
          "model_module_version": "1.5.0",
          "model_name": "DescriptionStyleModel",
          "state": {
            "_model_module": "@jupyter-widgets/controls",
            "_model_module_version": "1.5.0",
            "_model_name": "DescriptionStyleModel",
            "_view_count": null,
            "_view_module": "@jupyter-widgets/base",
            "_view_module_version": "1.2.0",
            "_view_name": "StyleView",
            "description_width": ""
          }
        },
        "80cd7c5a9ec5432e8012a3171a19d972": {
          "model_module": "@jupyter-widgets/controls",
          "model_module_version": "1.5.0",
          "model_name": "ProgressStyleModel",
          "state": {
            "_model_module": "@jupyter-widgets/controls",
            "_model_module_version": "1.5.0",
            "_model_name": "ProgressStyleModel",
            "_view_count": null,
            "_view_module": "@jupyter-widgets/base",
            "_view_module_version": "1.2.0",
            "_view_name": "StyleView",
            "bar_color": null,
            "description_width": ""
          }
        },
        "8425367ecb0a42b58e0fa770a5f44bc9": {
          "model_module": "@jupyter-widgets/controls",
          "model_module_version": "1.5.0",
          "model_name": "HTMLModel",
          "state": {
            "_dom_classes": [],
            "_model_module": "@jupyter-widgets/controls",
            "_model_module_version": "1.5.0",
            "_model_name": "HTMLModel",
            "_view_count": null,
            "_view_module": "@jupyter-widgets/controls",
            "_view_module_version": "1.5.0",
            "_view_name": "HTMLView",
            "description": "",
            "description_tooltip": null,
            "layout": "IPY_MODEL_11724522eb904a0f958d908f0ba4dcd2",
            "placeholder": "​",
            "style": "IPY_MODEL_4c593da6787b43b1aa9f2e74fffe742e",
            "value": "Generating train split: "
          }
        },
        "94d9cb7e98194c68bea59d5e3e44dd0c": {
          "model_module": "@jupyter-widgets/controls",
          "model_module_version": "1.5.0",
          "model_name": "FloatProgressModel",
          "state": {
            "_dom_classes": [],
            "_model_module": "@jupyter-widgets/controls",
            "_model_module_version": "1.5.0",
            "_model_name": "FloatProgressModel",
            "_view_count": null,
            "_view_module": "@jupyter-widgets/controls",
            "_view_module_version": "1.5.0",
            "_view_name": "ProgressView",
            "bar_style": "success",
            "description": "",
            "description_tooltip": null,
            "layout": "IPY_MODEL_659b62a80a1f4f498d2adac436b2f4c9",
            "max": 513256494,
            "min": 0,
            "orientation": "horizontal",
            "style": "IPY_MODEL_c931a6e1ffea4b228a4927bf4af719e6",
            "value": 513256494
          }
        },
        "96c1027352c64974bc87c1ee3c822912": {
          "model_module": "@jupyter-widgets/base",
          "model_module_version": "1.2.0",
          "model_name": "LayoutModel",
          "state": {
            "_model_module": "@jupyter-widgets/base",
            "_model_module_version": "1.2.0",
            "_model_name": "LayoutModel",
            "_view_count": null,
            "_view_module": "@jupyter-widgets/base",
            "_view_module_version": "1.2.0",
            "_view_name": "LayoutView",
            "align_content": null,
            "align_items": null,
            "align_self": null,
            "border": null,
            "bottom": null,
            "display": null,
            "flex": null,
            "flex_flow": null,
            "grid_area": null,
            "grid_auto_columns": null,
            "grid_auto_flow": null,
            "grid_auto_rows": null,
            "grid_column": null,
            "grid_gap": null,
            "grid_row": null,
            "grid_template_areas": null,
            "grid_template_columns": null,
            "grid_template_rows": null,
            "height": null,
            "justify_content": null,
            "justify_items": null,
            "left": null,
            "margin": null,
            "max_height": null,
            "max_width": null,
            "min_height": null,
            "min_width": null,
            "object_fit": null,
            "object_position": null,
            "order": null,
            "overflow": null,
            "overflow_x": null,
            "overflow_y": null,
            "padding": null,
            "right": null,
            "top": null,
            "visibility": null,
            "width": null
          }
        },
        "994ae7877d4946458bef1cc4453ec258": {
          "model_module": "@jupyter-widgets/controls",
          "model_module_version": "1.5.0",
          "model_name": "HTMLModel",
          "state": {
            "_dom_classes": [],
            "_model_module": "@jupyter-widgets/controls",
            "_model_module_version": "1.5.0",
            "_model_name": "HTMLModel",
            "_view_count": null,
            "_view_module": "@jupyter-widgets/controls",
            "_view_module_version": "1.5.0",
            "_view_name": "HTMLView",
            "description": "",
            "description_tooltip": null,
            "layout": "IPY_MODEL_ba5a72f09fef4d1b8d43bd32a2745be4",
            "placeholder": "​",
            "style": "IPY_MODEL_c1b0f484bcdd417fac4241c505e7fbb0",
            "value": " 513M/513M [00:01&lt;00:00, 350MB/s]"
          }
        },
        "b6dfa533200446c2995c59c43b365a32": {
          "model_module": "@jupyter-widgets/controls",
          "model_module_version": "1.5.0",
          "model_name": "HTMLModel",
          "state": {
            "_dom_classes": [],
            "_model_module": "@jupyter-widgets/controls",
            "_model_module_version": "1.5.0",
            "_model_name": "HTMLModel",
            "_view_count": null,
            "_view_module": "@jupyter-widgets/controls",
            "_view_module_version": "1.5.0",
            "_view_name": "HTMLView",
            "description": "",
            "description_tooltip": null,
            "layout": "IPY_MODEL_7a38d901d0a249ceb6dae797d2d8c49b",
            "placeholder": "​",
            "style": "IPY_MODEL_061ea6ce64ec4e30950c665e3fecebf3",
            "value": " 513M/513M [00:01&lt;00:00, 525MB/s]"
          }
        },
        "ba5a72f09fef4d1b8d43bd32a2745be4": {
          "model_module": "@jupyter-widgets/base",
          "model_module_version": "1.2.0",
          "model_name": "LayoutModel",
          "state": {
            "_model_module": "@jupyter-widgets/base",
            "_model_module_version": "1.2.0",
            "_model_name": "LayoutModel",
            "_view_count": null,
            "_view_module": "@jupyter-widgets/base",
            "_view_module_version": "1.2.0",
            "_view_name": "LayoutView",
            "align_content": null,
            "align_items": null,
            "align_self": null,
            "border": null,
            "bottom": null,
            "display": null,
            "flex": null,
            "flex_flow": null,
            "grid_area": null,
            "grid_auto_columns": null,
            "grid_auto_flow": null,
            "grid_auto_rows": null,
            "grid_column": null,
            "grid_gap": null,
            "grid_row": null,
            "grid_template_areas": null,
            "grid_template_columns": null,
            "grid_template_rows": null,
            "height": null,
            "justify_content": null,
            "justify_items": null,
            "left": null,
            "margin": null,
            "max_height": null,
            "max_width": null,
            "min_height": null,
            "min_width": null,
            "object_fit": null,
            "object_position": null,
            "order": null,
            "overflow": null,
            "overflow_x": null,
            "overflow_y": null,
            "padding": null,
            "right": null,
            "top": null,
            "visibility": null,
            "width": null
          }
        },
        "baf7846e02154a409923beecb9fb9d06": {
          "model_module": "@jupyter-widgets/base",
          "model_module_version": "1.2.0",
          "model_name": "LayoutModel",
          "state": {
            "_model_module": "@jupyter-widgets/base",
            "_model_module_version": "1.2.0",
            "_model_name": "LayoutModel",
            "_view_count": null,
            "_view_module": "@jupyter-widgets/base",
            "_view_module_version": "1.2.0",
            "_view_name": "LayoutView",
            "align_content": null,
            "align_items": null,
            "align_self": null,
            "border": null,
            "bottom": null,
            "display": null,
            "flex": null,
            "flex_flow": null,
            "grid_area": null,
            "grid_auto_columns": null,
            "grid_auto_flow": null,
            "grid_auto_rows": null,
            "grid_column": null,
            "grid_gap": null,
            "grid_row": null,
            "grid_template_areas": null,
            "grid_template_columns": null,
            "grid_template_rows": null,
            "height": null,
            "justify_content": null,
            "justify_items": null,
            "left": null,
            "margin": null,
            "max_height": null,
            "max_width": null,
            "min_height": null,
            "min_width": null,
            "object_fit": null,
            "object_position": null,
            "order": null,
            "overflow": null,
            "overflow_x": null,
            "overflow_y": null,
            "padding": null,
            "right": null,
            "top": null,
            "visibility": null,
            "width": null
          }
        },
        "c1b0f484bcdd417fac4241c505e7fbb0": {
          "model_module": "@jupyter-widgets/controls",
          "model_module_version": "1.5.0",
          "model_name": "DescriptionStyleModel",
          "state": {
            "_model_module": "@jupyter-widgets/controls",
            "_model_module_version": "1.5.0",
            "_model_name": "DescriptionStyleModel",
            "_view_count": null,
            "_view_module": "@jupyter-widgets/base",
            "_view_module_version": "1.2.0",
            "_view_name": "StyleView",
            "description_width": ""
          }
        },
        "c8ddf2d90cd748f286b9b4ac52d62019": {
          "model_module": "@jupyter-widgets/controls",
          "model_module_version": "1.5.0",
          "model_name": "HBoxModel",
          "state": {
            "_dom_classes": [],
            "_model_module": "@jupyter-widgets/controls",
            "_model_module_version": "1.5.0",
            "_model_name": "HBoxModel",
            "_view_count": null,
            "_view_module": "@jupyter-widgets/controls",
            "_view_module_version": "1.5.0",
            "_view_name": "HBoxView",
            "box_style": "",
            "children": [
              "IPY_MODEL_523e713dd06c4d519081e61dffd778b6",
              "IPY_MODEL_80123eb327bb46fab0035c696864e441",
              "IPY_MODEL_3dd7fd11ce4c46fdade28fdd58244580"
            ],
            "layout": "IPY_MODEL_5a2fd56acbb342b483539272a2a7240e"
          }
        },
        "c931a6e1ffea4b228a4927bf4af719e6": {
          "model_module": "@jupyter-widgets/controls",
          "model_module_version": "1.5.0",
          "model_name": "ProgressStyleModel",
          "state": {
            "_model_module": "@jupyter-widgets/controls",
            "_model_module_version": "1.5.0",
            "_model_name": "ProgressStyleModel",
            "_view_count": null,
            "_view_module": "@jupyter-widgets/base",
            "_view_module_version": "1.2.0",
            "_view_name": "StyleView",
            "bar_color": null,
            "description_width": ""
          }
        },
        "d6c6284f616445b9a2a835eb98949ac0": {
          "model_module": "@jupyter-widgets/controls",
          "model_module_version": "1.5.0",
          "model_name": "DescriptionStyleModel",
          "state": {
            "_model_module": "@jupyter-widgets/controls",
            "_model_module_version": "1.5.0",
            "_model_name": "DescriptionStyleModel",
            "_view_count": null,
            "_view_module": "@jupyter-widgets/base",
            "_view_module_version": "1.2.0",
            "_view_name": "StyleView",
            "description_width": ""
          }
        },
        "d747c85b796e4392bb9e5ff7b0231277": {
          "model_module": "@jupyter-widgets/base",
          "model_module_version": "1.2.0",
          "model_name": "LayoutModel",
          "state": {
            "_model_module": "@jupyter-widgets/base",
            "_model_module_version": "1.2.0",
            "_model_name": "LayoutModel",
            "_view_count": null,
            "_view_module": "@jupyter-widgets/base",
            "_view_module_version": "1.2.0",
            "_view_name": "LayoutView",
            "align_content": null,
            "align_items": null,
            "align_self": null,
            "border": null,
            "bottom": null,
            "display": null,
            "flex": null,
            "flex_flow": null,
            "grid_area": null,
            "grid_auto_columns": null,
            "grid_auto_flow": null,
            "grid_auto_rows": null,
            "grid_column": null,
            "grid_gap": null,
            "grid_row": null,
            "grid_template_areas": null,
            "grid_template_columns": null,
            "grid_template_rows": null,
            "height": null,
            "justify_content": null,
            "justify_items": null,
            "left": null,
            "margin": null,
            "max_height": null,
            "max_width": null,
            "min_height": null,
            "min_width": null,
            "object_fit": null,
            "object_position": null,
            "order": null,
            "overflow": null,
            "overflow_x": null,
            "overflow_y": null,
            "padding": null,
            "right": null,
            "top": null,
            "visibility": null,
            "width": null
          }
        },
        "d921abeadb1f49a0a66d9a827c9f974e": {
          "model_module": "@jupyter-widgets/controls",
          "model_module_version": "1.5.0",
          "model_name": "ProgressStyleModel",
          "state": {
            "_model_module": "@jupyter-widgets/controls",
            "_model_module_version": "1.5.0",
            "_model_name": "ProgressStyleModel",
            "_view_count": null,
            "_view_module": "@jupyter-widgets/base",
            "_view_module_version": "1.2.0",
            "_view_name": "StyleView",
            "bar_color": null,
            "description_width": ""
          }
        },
        "e07453f3e12444069fe92a060bbff6ba": {
          "model_module": "@jupyter-widgets/controls",
          "model_module_version": "1.5.0",
          "model_name": "DescriptionStyleModel",
          "state": {
            "_model_module": "@jupyter-widgets/controls",
            "_model_module_version": "1.5.0",
            "_model_name": "DescriptionStyleModel",
            "_view_count": null,
            "_view_module": "@jupyter-widgets/base",
            "_view_module_version": "1.2.0",
            "_view_name": "StyleView",
            "description_width": ""
          }
        },
        "e4fb8bd0d1a1437a8a8297962419cdff": {
          "model_module": "@jupyter-widgets/controls",
          "model_module_version": "1.5.0",
          "model_name": "ProgressStyleModel",
          "state": {
            "_model_module": "@jupyter-widgets/controls",
            "_model_module_version": "1.5.0",
            "_model_name": "ProgressStyleModel",
            "_view_count": null,
            "_view_module": "@jupyter-widgets/base",
            "_view_module_version": "1.2.0",
            "_view_name": "StyleView",
            "bar_color": null,
            "description_width": ""
          }
        },
        "e6622fe377614dba9ce8df968c071a66": {
          "model_module": "@jupyter-widgets/controls",
          "model_module_version": "1.5.0",
          "model_name": "HTMLModel",
          "state": {
            "_dom_classes": [],
            "_model_module": "@jupyter-widgets/controls",
            "_model_module_version": "1.5.0",
            "_model_name": "HTMLModel",
            "_view_count": null,
            "_view_module": "@jupyter-widgets/controls",
            "_view_module_version": "1.5.0",
            "_view_name": "HTMLView",
            "description": "",
            "description_tooltip": null,
            "layout": "IPY_MODEL_041a4cf6552f4cd1baa109c4d3666f26",
            "placeholder": "​",
            "style": "IPY_MODEL_4d9edcbb4fcd4151a0955750f90d86ac",
            "value": "model.safetensors: 100%"
          }
        },
        "e935adb1064f481f87a77516427871b8": {
          "model_module": "@jupyter-widgets/base",
          "model_module_version": "1.2.0",
          "model_name": "LayoutModel",
          "state": {
            "_model_module": "@jupyter-widgets/base",
            "_model_module_version": "1.2.0",
            "_model_name": "LayoutModel",
            "_view_count": null,
            "_view_module": "@jupyter-widgets/base",
            "_view_module_version": "1.2.0",
            "_view_name": "LayoutView",
            "align_content": null,
            "align_items": null,
            "align_self": null,
            "border": null,
            "bottom": null,
            "display": null,
            "flex": null,
            "flex_flow": null,
            "grid_area": null,
            "grid_auto_columns": null,
            "grid_auto_flow": null,
            "grid_auto_rows": null,
            "grid_column": null,
            "grid_gap": null,
            "grid_row": null,
            "grid_template_areas": null,
            "grid_template_columns": null,
            "grid_template_rows": null,
            "height": null,
            "justify_content": null,
            "justify_items": null,
            "left": null,
            "margin": null,
            "max_height": null,
            "max_width": null,
            "min_height": null,
            "min_width": null,
            "object_fit": null,
            "object_position": null,
            "order": null,
            "overflow": null,
            "overflow_x": null,
            "overflow_y": null,
            "padding": null,
            "right": null,
            "top": null,
            "visibility": null,
            "width": null
          }
        },
        "efbd9245ecfd4d83bb562588acb1e29d": {
          "model_module": "@jupyter-widgets/base",
          "model_module_version": "1.2.0",
          "model_name": "LayoutModel",
          "state": {
            "_model_module": "@jupyter-widgets/base",
            "_model_module_version": "1.2.0",
            "_model_name": "LayoutModel",
            "_view_count": null,
            "_view_module": "@jupyter-widgets/base",
            "_view_module_version": "1.2.0",
            "_view_name": "LayoutView",
            "align_content": null,
            "align_items": null,
            "align_self": null,
            "border": null,
            "bottom": null,
            "display": null,
            "flex": null,
            "flex_flow": null,
            "grid_area": null,
            "grid_auto_columns": null,
            "grid_auto_flow": null,
            "grid_auto_rows": null,
            "grid_column": null,
            "grid_gap": null,
            "grid_row": null,
            "grid_template_areas": null,
            "grid_template_columns": null,
            "grid_template_rows": null,
            "height": null,
            "justify_content": null,
            "justify_items": null,
            "left": null,
            "margin": null,
            "max_height": null,
            "max_width": null,
            "min_height": null,
            "min_width": null,
            "object_fit": null,
            "object_position": null,
            "order": null,
            "overflow": null,
            "overflow_x": null,
            "overflow_y": null,
            "padding": null,
            "right": null,
            "top": null,
            "visibility": null,
            "width": "20px"
          }
        },
        "fb461a225c18463f8f2248ac4c200eee": {
          "model_module": "@jupyter-widgets/controls",
          "model_module_version": "1.5.0",
          "model_name": "DescriptionStyleModel",
          "state": {
            "_model_module": "@jupyter-widgets/controls",
            "_model_module_version": "1.5.0",
            "_model_name": "DescriptionStyleModel",
            "_view_count": null,
            "_view_module": "@jupyter-widgets/base",
            "_view_module_version": "1.2.0",
            "_view_name": "StyleView",
            "description_width": ""
          }
        }
      }
    }
  },
  "nbformat": 4,
  "nbformat_minor": 0
}
