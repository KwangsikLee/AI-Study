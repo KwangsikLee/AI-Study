{
  "cells": [
    {
      "cell_type": "markdown",
      "metadata": {},
      "source": [
        "# 문장 생성(koGPT2 모델이용)\n",
        "\n",
        "### prompt build : prompt에 출력에 대한 설정을 포함시킨다"
      ]
    },
    {
      "cell_type": "code",
      "execution_count": null,
      "metadata": {
        "id": "CyCbIjwfluhW"
      },
      "outputs": [],
      "source": [
        "# 0) 설치 (Colab)\n",
        "!pip -q install transformers==4.42.3 torch --upgrade\n"
      ]
    },
    {
      "cell_type": "code",
      "execution_count": null,
      "metadata": {
        "colab": {
          "base_uri": "https://localhost:8080/",
          "height": 49,
          "referenced_widgets": [
            "2326bca19a7f422d898e78a946c87846",
            "65e11f62ad074ac38965003dd2dc5f32",
            "4f7f082c71aa4df5bab838fa71454e62",
            "8cd192c0a9e34899a5938e175c322696",
            "67ee5ebb12ec4f8490065528035cc0c2",
            "13a0245aafaa4148a7be99ca3cf5667c",
            "27c1653de4c24b59a941381012486ff2",
            "d7dc9a408744402aa098721b45732e12",
            "71e37a35336440a487f4661e106c6628",
            "4c0ba6cc7b3a4429aaadc07e0b58e4bc",
            "d90c39feb74a44cebd02e07a10b98030"
          ]
        },
        "id": "4oS7synnl1xc",
        "outputId": "54a95b02-b1e1-4587-9a61-0adaaf1d3e71"
      },
      "outputs": [
        {
          "data": {
            "application/vnd.jupyter.widget-view+json": {
              "model_id": "2326bca19a7f422d898e78a946c87846",
              "version_major": 2,
              "version_minor": 0
            },
            "text/plain": [
              "pytorch_model.bin:   0%|          | 0.00/513M [00:00<?, ?B/s]"
            ]
          },
          "metadata": {},
          "output_type": "display_data"
        }
      ],
      "source": [
        "# 1) 모델/토크나이저 로딩 (★ KoGPT2는 fast 사용)\n",
        "import torch, re, random\n",
        "from typing import List\n",
        "from transformers import AutoTokenizer, AutoModelForCausalLM, pipeline\n",
        "\n",
        "MODEL_NAME = \"skt/kogpt2-base-v2\"\n",
        "\n",
        "# ★ 핵심: use_fast=True (기본값, 명시해도 됨)\n",
        "tokenizer = AutoTokenizer.from_pretrained(MODEL_NAME, use_fast=True)\n",
        "model     = AutoModelForCausalLM.from_pretrained(MODEL_NAME)\n",
        "\n",
        "# GPT2계열은 pad_token이 없으므로 eos로 대체\n",
        "if tokenizer.pad_token is None:\n",
        "    tokenizer.pad_token = tokenizer.eos_token\n",
        "\n",
        "DEVICE = 0 if torch.cuda.is_available() else -1\n",
        "f\n",
        "generator = pipeline(\n",
        "    \"text-generation\",\n",
        "    model=model,\n",
        "    tokenizer=tokenizer,\n",
        "    device=DEVICE\n",
        ")\n"
      ]
    },
    {
      "cell_type": "code",
      "execution_count": null,
      "metadata": {
        "id": "31yqezFll3Dx"
      },
      "outputs": [],
      "source": [
        "# 2) 프롬프트 템플릿 (톤/길이 옵션)\n",
        "LENGTH_TO_TOKENS = {\"짧게\": 25, \"중간\": 45, \"길게\": 70}\n",
        "\n",
        "TONE_SYSTEM = {\n",
        "    \"친근\": \"따뜻하고 친근한 말투로 존댓말을 사용하고, 쉬운 표현을 쓰며, 자연스럽게 말해주세요.\",\n",
        "    \"격식\": \"격식 있고 전문적인 문체로, 정확하고 간결하게 서술하며, 불필요한 감탄이나 과장을 피하세요.\",\n",
        "    \"마케팅\": \"마케팅 카피처럼 생동감 있게, 장점을 강조하고 행동을 유도하는 문구를 포함해 설득력 있게 작성하세요.\"\n",
        "}\n",
        "\n",
        "def build_prompt(keywords: List[str], tone: str, length_label: str) -> str:\n",
        "    kw_str = \", \".join(keywords)\n",
        "    tone_guide = TONE_SYSTEM.get(tone, TONE_SYSTEM[\"친근\"])\n",
        "    length_guide = f\"문장 길이는 '{length_label}' 수준으로 조절하세요.\"\n",
        "    prompt = (\n",
        "        f\"다음 지침을 따르세요.\\n\"\n",
        "        f\"1) 아래 키워드를 모두 포함해 한 문장만 작성합니다.\\n\"\n",
        "        f\"2) {tone_guide}\\n\"\n",
        "        f\"3) {length_guide}\\n\"\n",
        "        f\"4) 문장은 자연스러운 한국어로 마침표로 끝냅니다.\\n\\n\"\n",
        "        f\"키워드: {kw_str}\\n\"\n",
        "        f\"문장:\"\n",
        "    )\n",
        "    return prompt\n"
      ]
    },
    {
      "cell_type": "code",
      "execution_count": null,
      "metadata": {
        "id": "nUy2rz2Ol6QV"
      },
      "outputs": [],
      "source": [
        "# 3) 생성 함수 (재시도 포함)\n",
        "def _first_sentence_only(text: str) -> str:\n",
        "    text = text.strip()\n",
        "    for end_mark in [\"다.\", \"요.\", \".\", \"!\", \"?\"]:\n",
        "        pos = text.find(end_mark)\n",
        "        if pos != -1:\n",
        "            return text[:pos+len(end_mark)]\n",
        "    return text\n",
        "\n",
        "def _contains_all_keywords(sentence: str, keywords: List[str]) -> bool:\n",
        "    s = sentence.lower()\n",
        "    return all(kw.lower() in s for kw in keywords)\n",
        "\n",
        "def generate_sentence(\n",
        "    keywords: List[str],\n",
        "    tone: str = \"친근\",               # \"친근\" | \"격식\" | \"마케팅\"\n",
        "    length_label: str = \"중간\",       # \"짧게\" | \"중간\" | \"길게\"\n",
        "    temperature: float = 0.9,\n",
        "    top_p: float = 0.9,\n",
        "    repetition_penalty: float = 1.1,\n",
        "    no_repeat_ngram_size: int = 3,\n",
        "    num_return_sequences: int = 5,\n",
        "    max_tries: int = 4,\n",
        "    seed: int = 42\n",
        "):\n",
        "    assert length_label in LENGTH_TO_TOKENS\n",
        "    max_new_tokens = LENGTH_TO_TOKENS[length_label]\n",
        "    prompt = build_prompt(keywords, tone, length_label)\n",
        "\n",
        "    torch.manual_seed(seed)\n",
        "    random.seed(seed)\n",
        "\n",
        "    t, p = temperature, top_p\n",
        "    last_outs = None\n",
        "\n",
        "    for attempt in range(1, max_tries+1):\n",
        "        outs = generator(\n",
        "            prompt,\n",
        "            max_new_tokens=max_new_tokens,\n",
        "            do_sample=True,\n",
        "            temperature=t,\n",
        "            top_p=p,\n",
        "            repetition_penalty=repetition_penalty,\n",
        "            no_repeat_ngram_size=no_repeat_ngram_size,\n",
        "            pad_token_id=tokenizer.eos_token_id,\n",
        "            eos_token_id=tokenizer.eos_token_id,\n",
        "            num_return_sequences=num_return_sequences\n",
        "        )\n",
        "        last_outs = outs\n",
        "\n",
        "        for o in outs:\n",
        "            gen = o[\"generated_text\"][len(prompt):].strip()\n",
        "            sent = _first_sentence_only(gen)\n",
        "            sent = re.sub(r\"\\s+\", \" \", sent).strip()\n",
        "            if _contains_all_keywords(sent, keywords):\n",
        "                return sent, {\"attempt\": attempt, \"temperature\": t, \"top_p\": p}\n",
        "\n",
        "        # 재시도 시 탐색성 ↑\n",
        "        t = min(1.2, t + 0.1)\n",
        "        p = min(0.98, p + 0.05)\n",
        "\n",
        "    # 모든 시도 실패 → 가장 자연스러운 후보 반환(경고 안내)\n",
        "    fallback = _first_sentence_only(last_outs[0][\"generated_text\"][len(prompt):])\n",
        "    fallback = re.sub(r\"\\s+\", \" \", fallback).strip()\n",
        "    return f\"[참고] 일부 키워드가 빠졌을 수 있습니다: {fallback}\", {\"attempt\": attempt, \"temperature\": t, \"top_p\": p}\n"
      ]
    },
    {
      "cell_type": "code",
      "execution_count": null,
      "metadata": {
        "id": "3Q5wvyOhl7aB"
      },
      "outputs": [],
      "source": [
        "# 4) 빔서치(선택)\n",
        "def generate_beam(\n",
        "    keywords: List[str],\n",
        "    tone: str = \"격식\",\n",
        "    length_label: str = \"중간\",\n",
        "    num_beams: int = 5,\n",
        "    repetition_penalty: float = 1.1,\n",
        "    no_repeat_ngram_size: int = 3\n",
        "):\n",
        "    max_new_tokens = LENGTH_TO_TOKENS[length_label]\n",
        "    prompt = build_prompt(keywords, tone, length_label)\n",
        "    outs = generator(\n",
        "        prompt,\n",
        "        max_new_tokens=max_new_tokens,\n",
        "        do_sample=False,\n",
        "        num_beams=num_beams,\n",
        "        early_stopping=True,\n",
        "        repetition_penalty=repetition_penalty,\n",
        "        no_repeat_ngram_size=no_repeat_ngram_size,\n",
        "        pad_token_id=tokenizer.eos_token_id,\n",
        "        eos_token_id=tokenizer.eos_token_id,\n",
        "        num_return_sequences=1\n",
        "    )\n",
        "    gen = outs[0][\"generated_text\"][len(prompt):].strip()\n",
        "    sent = _first_sentence_only(gen)\n",
        "    sent = re.sub(r\"\\s+\", \" \", sent).strip()\n",
        "    return sent\n"
      ]
    },
    {
      "cell_type": "code",
      "execution_count": null,
      "metadata": {
        "colab": {
          "base_uri": "https://localhost:8080/"
        },
        "id": "e88E7-atnWap",
        "outputId": "488366be-963a-4328-fc1b-fa7e11a18da2"
      },
      "outputs": [
        {
          "name": "stdout",
          "output_type": "stream",
          "text": [
            "\n",
            "[톤=친근 | 길이=짧게 | 키워드=['소나기', '여름', '기억']]\n",
            "문장: [참고] 일부 키워드가 빠졌을 수 있습니다: 화재, 폭발 위험 사용 빈도 - 최대 6명 이상 키워드: 소음 및 초더기 : 화염,\n",
            "메타: {'attempt': 4, 'temperature': 1.2, 'top_p': 0.98}\n",
            "\n",
            "[톤=격식 | 길이=중간 | 키워드=['데이터', '모델', '성능']]\n",
            "문장: [참고] 일부 키워드가 빠졌을 수 있습니다: 데이터 등 소프트웨어를 많이 쓰는 사람, 특히 자료 수집의 중요성을 인지하는 사람들을 위한 단어입니다.\n",
            "메타: {'attempt': 4, 'temperature': 1.2, 'top_p': 0.98}\n"
          ]
        },
        {
          "name": "stderr",
          "output_type": "stream",
          "text": [
            "You seem to be using the pipelines sequentially on GPU. In order to maximize efficiency please use a dataset\n"
          ]
        },
        {
          "name": "stdout",
          "output_type": "stream",
          "text": [
            "\n",
            "[톤=마케팅 | 길이=길게 | 키워드=['프리미엄', '혜택', '지금']]\n",
            "문장: 프리미, 혜택 2. 프리미엄(혜택), 현재, 지금, 현재. 한 단어씩 꼭 써야 한다.\n",
            "메타: {'attempt': 2, 'temperature': 1.0, 'top_p': 0.9500000000000001}\n",
            "\n",
            "[빔서치 예시]\n",
            "연구, 결과 의의 내용: 연구결과 의의 자료: 연구결과, 의의 출처: 한국문화콘텐츠진흥원 (www.\n"
          ]
        }
      ],
      "source": [
        "# 5) 사용 예시\n",
        "examples = [\n",
        "    ([\"소나기\", \"여름\", \"기억\"], \"친근\", \"짧게\"),\n",
        "    ([\"데이터\", \"모델\", \"성능\"], \"격식\", \"중간\"),\n",
        "    ([\"프리미엄\", \"혜택\", \"지금\"], \"마케팅\", \"길게\")\n",
        "]\n",
        "\n",
        "for kws, tone, length_label in examples:\n",
        "    sent, meta = generate_sentence(\n",
        "        kws, tone=tone, length_label=length_label,\n",
        "        temperature=0.9, top_p=0.9,\n",
        "        num_return_sequences=6, max_tries=4, seed=42\n",
        "    )\n",
        "    print(f\"\\n[톤={tone} | 길이={length_label} | 키워드={kws}]\")\n",
        "    print(\"문장:\", sent)\n",
        "    print(\"메타:\", meta)\n",
        "\n",
        "print(\"\\n[빔서치 예시]\")\n",
        "print(generate_beam([\"연구\", \"결과\", \"의의\"], tone=\"격식\", length_label=\"중간\"))\n"
      ]
    }
  ],
  "metadata": {
    "accelerator": "GPU",
    "colab": {
      "gpuType": "A100",
      "machine_shape": "hm",
      "provenance": []
    },
    "kernelspec": {
      "display_name": "hf_env",
      "language": "python",
      "name": "python3"
    },
    "language_info": {
      "name": "python",
      "version": "3.10.18"
    },
    "widgets": {
      "application/vnd.jupyter.widget-state+json": {
        "13a0245aafaa4148a7be99ca3cf5667c": {
          "model_module": "@jupyter-widgets/base",
          "model_module_version": "1.2.0",
          "model_name": "LayoutModel",
          "state": {
            "_model_module": "@jupyter-widgets/base",
            "_model_module_version": "1.2.0",
            "_model_name": "LayoutModel",
            "_view_count": null,
            "_view_module": "@jupyter-widgets/base",
            "_view_module_version": "1.2.0",
            "_view_name": "LayoutView",
            "align_content": null,
            "align_items": null,
            "align_self": null,
            "border": null,
            "bottom": null,
            "display": null,
            "flex": null,
            "flex_flow": null,
            "grid_area": null,
            "grid_auto_columns": null,
            "grid_auto_flow": null,
            "grid_auto_rows": null,
            "grid_column": null,
            "grid_gap": null,
            "grid_row": null,
            "grid_template_areas": null,
            "grid_template_columns": null,
            "grid_template_rows": null,
            "height": null,
            "justify_content": null,
            "justify_items": null,
            "left": null,
            "margin": null,
            "max_height": null,
            "max_width": null,
            "min_height": null,
            "min_width": null,
            "object_fit": null,
            "object_position": null,
            "order": null,
            "overflow": null,
            "overflow_x": null,
            "overflow_y": null,
            "padding": null,
            "right": null,
            "top": null,
            "visibility": null,
            "width": null
          }
        },
        "2326bca19a7f422d898e78a946c87846": {
          "model_module": "@jupyter-widgets/controls",
          "model_module_version": "1.5.0",
          "model_name": "HBoxModel",
          "state": {
            "_dom_classes": [],
            "_model_module": "@jupyter-widgets/controls",
            "_model_module_version": "1.5.0",
            "_model_name": "HBoxModel",
            "_view_count": null,
            "_view_module": "@jupyter-widgets/controls",
            "_view_module_version": "1.5.0",
            "_view_name": "HBoxView",
            "box_style": "",
            "children": [
              "IPY_MODEL_65e11f62ad074ac38965003dd2dc5f32",
              "IPY_MODEL_4f7f082c71aa4df5bab838fa71454e62",
              "IPY_MODEL_8cd192c0a9e34899a5938e175c322696"
            ],
            "layout": "IPY_MODEL_67ee5ebb12ec4f8490065528035cc0c2"
          }
        },
        "27c1653de4c24b59a941381012486ff2": {
          "model_module": "@jupyter-widgets/controls",
          "model_module_version": "1.5.0",
          "model_name": "DescriptionStyleModel",
          "state": {
            "_model_module": "@jupyter-widgets/controls",
            "_model_module_version": "1.5.0",
            "_model_name": "DescriptionStyleModel",
            "_view_count": null,
            "_view_module": "@jupyter-widgets/base",
            "_view_module_version": "1.2.0",
            "_view_name": "StyleView",
            "description_width": ""
          }
        },
        "4c0ba6cc7b3a4429aaadc07e0b58e4bc": {
          "model_module": "@jupyter-widgets/base",
          "model_module_version": "1.2.0",
          "model_name": "LayoutModel",
          "state": {
            "_model_module": "@jupyter-widgets/base",
            "_model_module_version": "1.2.0",
            "_model_name": "LayoutModel",
            "_view_count": null,
            "_view_module": "@jupyter-widgets/base",
            "_view_module_version": "1.2.0",
            "_view_name": "LayoutView",
            "align_content": null,
            "align_items": null,
            "align_self": null,
            "border": null,
            "bottom": null,
            "display": null,
            "flex": null,
            "flex_flow": null,
            "grid_area": null,
            "grid_auto_columns": null,
            "grid_auto_flow": null,
            "grid_auto_rows": null,
            "grid_column": null,
            "grid_gap": null,
            "grid_row": null,
            "grid_template_areas": null,
            "grid_template_columns": null,
            "grid_template_rows": null,
            "height": null,
            "justify_content": null,
            "justify_items": null,
            "left": null,
            "margin": null,
            "max_height": null,
            "max_width": null,
            "min_height": null,
            "min_width": null,
            "object_fit": null,
            "object_position": null,
            "order": null,
            "overflow": null,
            "overflow_x": null,
            "overflow_y": null,
            "padding": null,
            "right": null,
            "top": null,
            "visibility": null,
            "width": null
          }
        },
        "4f7f082c71aa4df5bab838fa71454e62": {
          "model_module": "@jupyter-widgets/controls",
          "model_module_version": "1.5.0",
          "model_name": "FloatProgressModel",
          "state": {
            "_dom_classes": [],
            "_model_module": "@jupyter-widgets/controls",
            "_model_module_version": "1.5.0",
            "_model_name": "FloatProgressModel",
            "_view_count": null,
            "_view_module": "@jupyter-widgets/controls",
            "_view_module_version": "1.5.0",
            "_view_name": "ProgressView",
            "bar_style": "success",
            "description": "",
            "description_tooltip": null,
            "layout": "IPY_MODEL_d7dc9a408744402aa098721b45732e12",
            "max": 513302779,
            "min": 0,
            "orientation": "horizontal",
            "style": "IPY_MODEL_71e37a35336440a487f4661e106c6628",
            "value": 513302779
          }
        },
        "65e11f62ad074ac38965003dd2dc5f32": {
          "model_module": "@jupyter-widgets/controls",
          "model_module_version": "1.5.0",
          "model_name": "HTMLModel",
          "state": {
            "_dom_classes": [],
            "_model_module": "@jupyter-widgets/controls",
            "_model_module_version": "1.5.0",
            "_model_name": "HTMLModel",
            "_view_count": null,
            "_view_module": "@jupyter-widgets/controls",
            "_view_module_version": "1.5.0",
            "_view_name": "HTMLView",
            "description": "",
            "description_tooltip": null,
            "layout": "IPY_MODEL_13a0245aafaa4148a7be99ca3cf5667c",
            "placeholder": "​",
            "style": "IPY_MODEL_27c1653de4c24b59a941381012486ff2",
            "value": "pytorch_model.bin: 100%"
          }
        },
        "67ee5ebb12ec4f8490065528035cc0c2": {
          "model_module": "@jupyter-widgets/base",
          "model_module_version": "1.2.0",
          "model_name": "LayoutModel",
          "state": {
            "_model_module": "@jupyter-widgets/base",
            "_model_module_version": "1.2.0",
            "_model_name": "LayoutModel",
            "_view_count": null,
            "_view_module": "@jupyter-widgets/base",
            "_view_module_version": "1.2.0",
            "_view_name": "LayoutView",
            "align_content": null,
            "align_items": null,
            "align_self": null,
            "border": null,
            "bottom": null,
            "display": null,
            "flex": null,
            "flex_flow": null,
            "grid_area": null,
            "grid_auto_columns": null,
            "grid_auto_flow": null,
            "grid_auto_rows": null,
            "grid_column": null,
            "grid_gap": null,
            "grid_row": null,
            "grid_template_areas": null,
            "grid_template_columns": null,
            "grid_template_rows": null,
            "height": null,
            "justify_content": null,
            "justify_items": null,
            "left": null,
            "margin": null,
            "max_height": null,
            "max_width": null,
            "min_height": null,
            "min_width": null,
            "object_fit": null,
            "object_position": null,
            "order": null,
            "overflow": null,
            "overflow_x": null,
            "overflow_y": null,
            "padding": null,
            "right": null,
            "top": null,
            "visibility": null,
            "width": null
          }
        },
        "71e37a35336440a487f4661e106c6628": {
          "model_module": "@jupyter-widgets/controls",
          "model_module_version": "1.5.0",
          "model_name": "ProgressStyleModel",
          "state": {
            "_model_module": "@jupyter-widgets/controls",
            "_model_module_version": "1.5.0",
            "_model_name": "ProgressStyleModel",
            "_view_count": null,
            "_view_module": "@jupyter-widgets/base",
            "_view_module_version": "1.2.0",
            "_view_name": "StyleView",
            "bar_color": null,
            "description_width": ""
          }
        },
        "8cd192c0a9e34899a5938e175c322696": {
          "model_module": "@jupyter-widgets/controls",
          "model_module_version": "1.5.0",
          "model_name": "HTMLModel",
          "state": {
            "_dom_classes": [],
            "_model_module": "@jupyter-widgets/controls",
            "_model_module_version": "1.5.0",
            "_model_name": "HTMLModel",
            "_view_count": null,
            "_view_module": "@jupyter-widgets/controls",
            "_view_module_version": "1.5.0",
            "_view_name": "HTMLView",
            "description": "",
            "description_tooltip": null,
            "layout": "IPY_MODEL_4c0ba6cc7b3a4429aaadc07e0b58e4bc",
            "placeholder": "​",
            "style": "IPY_MODEL_d90c39feb74a44cebd02e07a10b98030",
            "value": " 513M/513M [00:02&lt;00:00, 288MB/s]"
          }
        },
        "d7dc9a408744402aa098721b45732e12": {
          "model_module": "@jupyter-widgets/base",
          "model_module_version": "1.2.0",
          "model_name": "LayoutModel",
          "state": {
            "_model_module": "@jupyter-widgets/base",
            "_model_module_version": "1.2.0",
            "_model_name": "LayoutModel",
            "_view_count": null,
            "_view_module": "@jupyter-widgets/base",
            "_view_module_version": "1.2.0",
            "_view_name": "LayoutView",
            "align_content": null,
            "align_items": null,
            "align_self": null,
            "border": null,
            "bottom": null,
            "display": null,
            "flex": null,
            "flex_flow": null,
            "grid_area": null,
            "grid_auto_columns": null,
            "grid_auto_flow": null,
            "grid_auto_rows": null,
            "grid_column": null,
            "grid_gap": null,
            "grid_row": null,
            "grid_template_areas": null,
            "grid_template_columns": null,
            "grid_template_rows": null,
            "height": null,
            "justify_content": null,
            "justify_items": null,
            "left": null,
            "margin": null,
            "max_height": null,
            "max_width": null,
            "min_height": null,
            "min_width": null,
            "object_fit": null,
            "object_position": null,
            "order": null,
            "overflow": null,
            "overflow_x": null,
            "overflow_y": null,
            "padding": null,
            "right": null,
            "top": null,
            "visibility": null,
            "width": null
          }
        },
        "d90c39feb74a44cebd02e07a10b98030": {
          "model_module": "@jupyter-widgets/controls",
          "model_module_version": "1.5.0",
          "model_name": "DescriptionStyleModel",
          "state": {
            "_model_module": "@jupyter-widgets/controls",
            "_model_module_version": "1.5.0",
            "_model_name": "DescriptionStyleModel",
            "_view_count": null,
            "_view_module": "@jupyter-widgets/base",
            "_view_module_version": "1.2.0",
            "_view_name": "StyleView",
            "description_width": ""
          }
        }
      }
    }
  },
  "nbformat": 4,
  "nbformat_minor": 0
}
