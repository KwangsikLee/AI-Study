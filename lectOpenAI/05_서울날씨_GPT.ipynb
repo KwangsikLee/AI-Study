{
  "cells": [
    {
      "cell_type": "code",
      "execution_count": 2,
      "metadata": {
        "colab": {
          "base_uri": "https://localhost:8080/"
        },
        "id": "6ydeNw-kKjmg",
        "outputId": "60a994d7-7c85-42c6-ccbe-20688bab4484"
      },
      "outputs": [
        {
          "name": "stdout",
          "output_type": "stream",
          "text": [
            "W: Skipping acquire of configured file 'main/source/Sources' as repository 'https://r2u.stat.illinois.edu/ubuntu jammy InRelease' does not seem to provide it (sources.list entry misspelt?)\n",
            "Selecting previously unselected package fonts-nanum.\n",
            "(Reading database ... 126371 files and directories currently installed.)\n",
            "Preparing to unpack .../fonts-nanum_20200506-1_all.deb ...\n",
            "Unpacking fonts-nanum (20200506-1) ...\n",
            "Setting up fonts-nanum (20200506-1) ...\n",
            "Processing triggers for fontconfig (2.13.1-4.2ubuntu5) ...\n",
            "/usr/share/fonts: caching, new cache contents: 0 fonts, 1 dirs\n",
            "/usr/share/fonts/truetype: caching, new cache contents: 0 fonts, 3 dirs\n",
            "/usr/share/fonts/truetype/humor-sans: caching, new cache contents: 1 fonts, 0 dirs\n",
            "/usr/share/fonts/truetype/liberation: caching, new cache contents: 16 fonts, 0 dirs\n",
            "/usr/share/fonts/truetype/nanum: caching, new cache contents: 12 fonts, 0 dirs\n",
            "/usr/local/share/fonts: caching, new cache contents: 0 fonts, 0 dirs\n",
            "/root/.local/share/fonts: skipping, no such directory\n",
            "/root/.fonts: skipping, no such directory\n",
            "/usr/share/fonts/truetype: skipping, looped directory detected\n",
            "/usr/share/fonts/truetype/humor-sans: skipping, looped directory detected\n",
            "/usr/share/fonts/truetype/liberation: skipping, looped directory detected\n",
            "/usr/share/fonts/truetype/nanum: skipping, looped directory detected\n",
            "/var/cache/fontconfig: cleaning cache directory\n",
            "/root/.cache/fontconfig: not cleaning non-existent cache directory\n",
            "/root/.fontconfig: not cleaning non-existent cache directory\n",
            "fc-cache: succeeded\n"
          ]
        }
      ],
      "source": [
        "!pip install --quiet openai requests pandas matplotlib\n",
        "\n",
        "# 나눔고딕 폰트 설치 및 설정\n",
        "!apt-get update -qq\n",
        "!apt-get install fonts-nanum -qq\n",
        "!fc-cache -fv\n",
        "!rm ~/.cache/matplotlib -rf\n"
      ]
    },
    {
      "cell_type": "code",
      "execution_count": null,
      "metadata": {
        "id": "CsVH0h-xKgdy"
      },
      "outputs": [],
      "source": [
        "import requests\n",
        "import pandas as pd\n",
        "import matplotlib.pyplot as plt\n",
        "import json, os\n",
        "from openai import OpenAI\n",
        "import matplotlib.font_manager as fm\n",
        "from dotenv import load_dotenv\n",
        "\n",
        "# 폰트 설정\n",
        "font_path = '/usr/share/fonts/truetype/nanum/NanumGothic.ttf'\n",
        "fontprop = fm.FontProperties(fname=font_path, size=10)\n",
        "plt.rcParams['font.family'] = 'NanumGothic'\n",
        "plt.rcParams['axes.unicode_minus'] = False\n",
        "\n",
        "load_dotenv()\n",
        "\n",
        "# OpenAI API 클라이언트 생성\n",
        "API_KEY = os.getenv(\"API_KEY\")\n",
        "\n",
        "# OpenAI API 클라이언트 생성\n",
        "client = OpenAI(api_key=API_KEY)  # <- 본인 API 키 입력\n"
      ]
    },
    {
      "cell_type": "code",
      "execution_count": 4,
      "metadata": {
        "id": "x0R4U26YK546"
      },
      "outputs": [],
      "source": [
        "# =========================================\n",
        "# 1) 사용자 입력 (자연어로)\n",
        "# =========================================\n",
        "user_query = \"서울의 지난 7일간 일별 날씨(평균기온, 강수량, 풍속)를 알려줘\"\n"
      ]
    },
    {
      "cell_type": "code",
      "execution_count": 5,
      "metadata": {
        "id": "F24jyBMYLM_s"
      },
      "outputs": [],
      "source": [
        "# =========================================\n",
        "# 2) GPT에게 자연어\n",
        "# =========================================\n",
        "tools = [{\n",
        "    \"type\": \"function\",\n",
        "    \"function\": {\n",
        "        \"name\": \"extract_weather_params\",\n",
        "        \"description\": \"날씨 요청에서 위치, 기간, 필요한 지표 추출\",\n",
        "        \"parameters\": {\n",
        "            \"type\": \"object\",\n",
        "            \"properties\": {\n",
        "                \"location\": {\"type\": \"string\"},\n",
        "                \"days\": {\"type\": \"integer\"},\n",
        "                \"metrics\": {\"type\": \"array\", \"items\": {\"type\": \"string\"}}\n",
        "            },\n",
        "            \"required\": [\"location\",\"days\",\"metrics\"]\n",
        "        }\n",
        "    }\n",
        "}]"
      ]
    },
    {
      "cell_type": "code",
      "execution_count": 6,
      "metadata": {
        "id": "15r3l8n9LOw7"
      },
      "outputs": [],
      "source": [
        "resp = client.chat.completions.create(\n",
        "    model=\"gpt-4o-mini\",\n",
        "    messages=[\n",
        "        {\"role\":\"system\",\"content\":\"너는 날씨 요청 파라미터를 뽑는 어시스턴트다.\"},\n",
        "        {\"role\":\"user\",\"content\":user_query}\n",
        "    ],\n",
        "    tools=tools,\n",
        "    tool_choice=\"auto\"\n",
        ")\n"
      ]
    },
    {
      "cell_type": "code",
      "execution_count": 7,
      "metadata": {
        "colab": {
          "base_uri": "https://localhost:8080/"
        },
        "id": "ATyTzre0LrSh",
        "outputId": "6065f5a1-029c-42b2-cda5-8ebf5c47c13b"
      },
      "outputs": [
        {
          "name": "stdout",
          "output_type": "stream",
          "text": [
            " 추출된 파라미터: {'location': '서울', 'days': 7, 'metrics': ['평균기온', '강수량', '풍속']}\n"
          ]
        }
      ],
      "source": [
        "call = resp.choices[0].message.tool_calls[0]\n",
        "args = json.loads(call.function.arguments)\n",
        "print(\" 추출된 파라미터:\", args)\n"
      ]
    },
    {
      "cell_type": "code",
      "execution_count": 8,
      "metadata": {
        "colab": {
          "base_uri": "https://localhost:8080/"
        },
        "id": "Qsu_q9MVMPkt",
        "outputId": "b758a271-c986-47a5-9646-805467bc07f8"
      },
      "outputs": [
        {
          "name": "stdout",
          "output_type": "stream",
          "text": [
            " 날씨 데이터 수신 완료\n"
          ]
        }
      ],
      "source": [
        "# =========================================\n",
        "# 3) Open-Meteo API 호출\n",
        "# =========================================\n",
        "# 서울 위도/경도 (예시)\n",
        "coords = {\"lat\":37.5665,\"lon\":126.9780}\n",
        "days = args.get(\"days\", 7)\n",
        "\n",
        "url = (\n",
        "    f\"https://api.open-meteo.com/v1/forecast?\"\n",
        "    f\"latitude={coords['lat']}&longitude={coords['lon']}\"\n",
        "    f\"&past_days={days}&daily=temperature_2m_max,temperature_2m_min,precipitation_sum,windspeed_10m_max\"\n",
        "    f\"&timezone=Asia%2FSeoul\"\n",
        ")\n",
        "\n",
        "res = requests.get(url)\n",
        "data = res.json()\n",
        "print(\" 날씨 데이터 수신 완료\")"
      ]
    },
    {
      "cell_type": "code",
      "execution_count": 9,
      "metadata": {
        "colab": {
          "base_uri": "https://localhost:8080/"
        },
        "id": "MC7_NFJDMRUG",
        "outputId": "3d228331-e6ca-496e-c80b-2b7a24d4bf1c"
      },
      "outputs": [
        {
          "name": "stdout",
          "output_type": "stream",
          "text": [
            " DataFrame 미리보기:\n",
            "            날짜  최고기온  최저기온   강수량  최대풍속\n",
            "0   2025-08-15  30.0  23.4   1.3   5.1\n",
            "1   2025-08-16  31.1  23.5   0.0   7.3\n",
            "2   2025-08-17  30.1  22.8   0.0   6.0\n",
            "3   2025-08-18  30.0  24.0   0.2   7.0\n",
            "4   2025-08-19  29.9  24.5   1.0   7.2\n",
            "5   2025-08-20  31.0  23.6   0.4   6.0\n",
            "6   2025-08-21  31.6  23.2   0.2   5.4\n",
            "7   2025-08-22  31.2  23.5   0.0   6.6\n",
            "8   2025-08-23  31.6  24.0   0.0   6.0\n",
            "9   2025-08-24  33.6  24.8   0.0   6.5\n",
            "10  2025-08-25  32.0  24.9  16.9  14.7\n",
            "11  2025-08-26  29.7  25.4  17.4  13.4\n",
            "12  2025-08-27  30.8  23.7   0.0  11.2\n",
            "13  2025-08-28  29.4  24.6   0.0  16.0\n"
          ]
        }
      ],
      "source": [
        "# =========================================\n",
        "# 4) DataFrame 변환\n",
        "# =========================================\n",
        "daily = data[\"daily\"]\n",
        "df = pd.DataFrame(daily)\n",
        "df.rename(columns={\n",
        "    \"time\":\"날짜\",\n",
        "    \"temperature_2m_max\":\"최고기온\",\n",
        "    \"temperature_2m_min\":\"최저기온\",\n",
        "    \"precipitation_sum\":\"강수량\",\n",
        "    \"windspeed_10m_max\":\"최대풍속\"\n",
        "}, inplace=True)\n",
        "\n",
        "print(\" DataFrame 미리보기:\")\n",
        "print(df)\n"
      ]
    },
    {
      "cell_type": "code",
      "execution_count": 10,
      "metadata": {
        "colab": {
          "base_uri": "https://localhost:8080/",
          "height": 1000
        },
        "id": "tanmh0cxMq22",
        "outputId": "5a3a921b-b300-42d9-fe8b-1fb742d13f7b"
      },
      "outputs": [
        {
          "name": "stderr",
          "output_type": "stream",
          "text": [
            "WARNING:matplotlib.font_manager:findfont: Font family 'NanumGothic' not found.\n",
            "WARNING:matplotlib.font_manager:findfont: Font family 'NanumGothic' not found.\n",
            "WARNING:matplotlib.font_manager:findfont: Font family 'NanumGothic' not found.\n",
            "WARNING:matplotlib.font_manager:findfont: Font family 'NanumGothic' not found.\n",
            "WARNING:matplotlib.font_manager:findfont: Font family 'NanumGothic' not found.\n",
            "WARNING:matplotlib.font_manager:findfont: Font family 'NanumGothic' not found.\n",
            "WARNING:matplotlib.font_manager:findfont: Font family 'NanumGothic' not found.\n",
            "WARNING:matplotlib.font_manager:findfont: Font family 'NanumGothic' not found.\n",
            "WARNING:matplotlib.font_manager:findfont: Font family 'NanumGothic' not found.\n",
            "WARNING:matplotlib.font_manager:findfont: Font family 'NanumGothic' not found.\n",
            "WARNING:matplotlib.font_manager:findfont: Font family 'NanumGothic' not found.\n",
            "WARNING:matplotlib.font_manager:findfont: Font family 'NanumGothic' not found.\n",
            "WARNING:matplotlib.font_manager:findfont: Font family 'NanumGothic' not found.\n",
            "WARNING:matplotlib.font_manager:findfont: Font family 'NanumGothic' not found.\n",
            "WARNING:matplotlib.font_manager:findfont: Font family 'NanumGothic' not found.\n",
            "WARNING:matplotlib.font_manager:findfont: Font family 'NanumGothic' not found.\n",
            "/tmp/ipython-input-514794591.py:13: UserWarning: Glyph 45216 (\\N{HANGUL SYLLABLE NAL}) missing from font(s) DejaVu Sans.\n",
            "  plt.tight_layout()\n",
            "/tmp/ipython-input-514794591.py:13: UserWarning: Glyph 51676 (\\N{HANGUL SYLLABLE JJA}) missing from font(s) DejaVu Sans.\n",
            "  plt.tight_layout()\n",
            "WARNING:matplotlib.font_manager:findfont: Font family 'NanumGothic' not found.\n",
            "WARNING:matplotlib.font_manager:findfont: Font family 'NanumGothic' not found.\n",
            "WARNING:matplotlib.font_manager:findfont: Font family 'NanumGothic' not found.\n",
            "WARNING:matplotlib.font_manager:findfont: Font family 'NanumGothic' not found.\n",
            "WARNING:matplotlib.font_manager:findfont: Font family 'NanumGothic' not found.\n",
            "WARNING:matplotlib.font_manager:findfont: Font family 'NanumGothic' not found.\n",
            "WARNING:matplotlib.font_manager:findfont: Font family 'NanumGothic' not found.\n",
            "WARNING:matplotlib.font_manager:findfont: Font family 'NanumGothic' not found.\n",
            "WARNING:matplotlib.font_manager:findfont: Font family 'NanumGothic' not found.\n",
            "WARNING:matplotlib.font_manager:findfont: Font family 'NanumGothic' not found.\n",
            "/tmp/ipython-input-514794591.py:13: UserWarning: Glyph 49436 (\\N{HANGUL SYLLABLE SEO}) missing from font(s) DejaVu Sans.\n",
            "  plt.tight_layout()\n",
            "/tmp/ipython-input-514794591.py:13: UserWarning: Glyph 50872 (\\N{HANGUL SYLLABLE UL}) missing from font(s) DejaVu Sans.\n",
            "  plt.tight_layout()\n",
            "/tmp/ipython-input-514794591.py:13: UserWarning: Glyph 52572 (\\N{HANGUL SYLLABLE COE}) missing from font(s) DejaVu Sans.\n",
            "  plt.tight_layout()\n",
            "/tmp/ipython-input-514794591.py:13: UserWarning: Glyph 44540 (\\N{HANGUL SYLLABLE GEUN}) missing from font(s) DejaVu Sans.\n",
            "  plt.tight_layout()\n",
            "/tmp/ipython-input-514794591.py:13: UserWarning: Glyph 51068 (\\N{HANGUL SYLLABLE IL}) missing from font(s) DejaVu Sans.\n",
            "  plt.tight_layout()\n",
            "/tmp/ipython-input-514794591.py:13: UserWarning: Glyph 44036 (\\N{HANGUL SYLLABLE GAN}) missing from font(s) DejaVu Sans.\n",
            "  plt.tight_layout()\n",
            "/tmp/ipython-input-514794591.py:13: UserWarning: Glyph 50472 (\\N{HANGUL SYLLABLE SSI}) missing from font(s) DejaVu Sans.\n",
            "  plt.tight_layout()\n",
            "WARNING:matplotlib.font_manager:findfont: Font family 'NanumGothic' not found.\n",
            "WARNING:matplotlib.font_manager:findfont: Font family 'NanumGothic' not found.\n",
            "/tmp/ipython-input-514794591.py:13: UserWarning: Glyph 44256 (\\N{HANGUL SYLLABLE GO}) missing from font(s) DejaVu Sans.\n",
            "  plt.tight_layout()\n",
            "/tmp/ipython-input-514794591.py:13: UserWarning: Glyph 44592 (\\N{HANGUL SYLLABLE GI}) missing from font(s) DejaVu Sans.\n",
            "  plt.tight_layout()\n",
            "/tmp/ipython-input-514794591.py:13: UserWarning: Glyph 50728 (\\N{HANGUL SYLLABLE ON}) missing from font(s) DejaVu Sans.\n",
            "  plt.tight_layout()\n",
            "WARNING:matplotlib.font_manager:findfont: Font family 'NanumGothic' not found.\n",
            "WARNING:matplotlib.font_manager:findfont: Font family 'NanumGothic' not found.\n",
            "/tmp/ipython-input-514794591.py:13: UserWarning: Glyph 51200 (\\N{HANGUL SYLLABLE JEO}) missing from font(s) DejaVu Sans.\n",
            "  plt.tight_layout()\n",
            "WARNING:matplotlib.font_manager:findfont: Font family 'NanumGothic' not found.\n",
            "WARNING:matplotlib.font_manager:findfont: Font family 'NanumGothic' not found.\n",
            "/tmp/ipython-input-514794591.py:13: UserWarning: Glyph 44053 (\\N{HANGUL SYLLABLE GANG}) missing from font(s) DejaVu Sans.\n",
            "  plt.tight_layout()\n",
            "/tmp/ipython-input-514794591.py:13: UserWarning: Glyph 49688 (\\N{HANGUL SYLLABLE SU}) missing from font(s) DejaVu Sans.\n",
            "  plt.tight_layout()\n",
            "/tmp/ipython-input-514794591.py:13: UserWarning: Glyph 47049 (\\N{HANGUL SYLLABLE RYANG}) missing from font(s) DejaVu Sans.\n",
            "  plt.tight_layout()\n",
            "WARNING:matplotlib.font_manager:findfont: Font family 'NanumGothic' not found.\n",
            "WARNING:matplotlib.font_manager:findfont: Font family 'NanumGothic' not found.\n",
            "WARNING:matplotlib.font_manager:findfont: Font family 'NanumGothic' not found.\n",
            "WARNING:matplotlib.font_manager:findfont: Font family 'NanumGothic' not found.\n",
            "WARNING:matplotlib.font_manager:findfont: Font family 'NanumGothic' not found.\n",
            "WARNING:matplotlib.font_manager:findfont: Font family 'NanumGothic' not found.\n",
            "WARNING:matplotlib.font_manager:findfont: Font family 'NanumGothic' not found.\n",
            "WARNING:matplotlib.font_manager:findfont: Font family 'NanumGothic' not found.\n",
            "WARNING:matplotlib.font_manager:findfont: Font family 'NanumGothic' not found.\n",
            "WARNING:matplotlib.font_manager:findfont: Font family 'NanumGothic' not found.\n",
            "WARNING:matplotlib.font_manager:findfont: Font family 'NanumGothic' not found.\n",
            "WARNING:matplotlib.font_manager:findfont: Font family 'NanumGothic' not found.\n",
            "WARNING:matplotlib.font_manager:findfont: Font family 'NanumGothic' not found.\n",
            "WARNING:matplotlib.font_manager:findfont: Font family 'NanumGothic' not found.\n",
            "WARNING:matplotlib.font_manager:findfont: Font family 'NanumGothic' not found.\n",
            "WARNING:matplotlib.font_manager:findfont: Font family 'NanumGothic' not found.\n",
            "WARNING:matplotlib.font_manager:findfont: Font family 'NanumGothic' not found.\n",
            "WARNING:matplotlib.font_manager:findfont: Font family 'NanumGothic' not found.\n",
            "WARNING:matplotlib.font_manager:findfont: Font family 'NanumGothic' not found.\n",
            "WARNING:matplotlib.font_manager:findfont: Font family 'NanumGothic' not found.\n",
            "WARNING:matplotlib.font_manager:findfont: Font family 'NanumGothic' not found.\n",
            "WARNING:matplotlib.font_manager:findfont: Font family 'NanumGothic' not found.\n",
            "WARNING:matplotlib.font_manager:findfont: Font family 'NanumGothic' not found.\n",
            "WARNING:matplotlib.font_manager:findfont: Font family 'NanumGothic' not found.\n",
            "WARNING:matplotlib.font_manager:findfont: Font family 'NanumGothic' not found.\n",
            "WARNING:matplotlib.font_manager:findfont: Font family 'NanumGothic' not found.\n",
            "WARNING:matplotlib.font_manager:findfont: Font family 'NanumGothic' not found.\n",
            "WARNING:matplotlib.font_manager:findfont: Font family 'NanumGothic' not found.\n",
            "WARNING:matplotlib.font_manager:findfont: Font family 'NanumGothic' not found.\n",
            "/usr/local/lib/python3.12/dist-packages/IPython/core/pylabtools.py:151: UserWarning: Glyph 49436 (\\N{HANGUL SYLLABLE SEO}) missing from font(s) DejaVu Sans.\n",
            "  fig.canvas.print_figure(bytes_io, **kw)\n",
            "/usr/local/lib/python3.12/dist-packages/IPython/core/pylabtools.py:151: UserWarning: Glyph 50872 (\\N{HANGUL SYLLABLE UL}) missing from font(s) DejaVu Sans.\n",
            "  fig.canvas.print_figure(bytes_io, **kw)\n",
            "/usr/local/lib/python3.12/dist-packages/IPython/core/pylabtools.py:151: UserWarning: Glyph 52572 (\\N{HANGUL SYLLABLE COE}) missing from font(s) DejaVu Sans.\n",
            "  fig.canvas.print_figure(bytes_io, **kw)\n",
            "/usr/local/lib/python3.12/dist-packages/IPython/core/pylabtools.py:151: UserWarning: Glyph 44540 (\\N{HANGUL SYLLABLE GEUN}) missing from font(s) DejaVu Sans.\n",
            "  fig.canvas.print_figure(bytes_io, **kw)\n",
            "/usr/local/lib/python3.12/dist-packages/IPython/core/pylabtools.py:151: UserWarning: Glyph 51068 (\\N{HANGUL SYLLABLE IL}) missing from font(s) DejaVu Sans.\n",
            "  fig.canvas.print_figure(bytes_io, **kw)\n",
            "/usr/local/lib/python3.12/dist-packages/IPython/core/pylabtools.py:151: UserWarning: Glyph 44036 (\\N{HANGUL SYLLABLE GAN}) missing from font(s) DejaVu Sans.\n",
            "  fig.canvas.print_figure(bytes_io, **kw)\n",
            "/usr/local/lib/python3.12/dist-packages/IPython/core/pylabtools.py:151: UserWarning: Glyph 45216 (\\N{HANGUL SYLLABLE NAL}) missing from font(s) DejaVu Sans.\n",
            "  fig.canvas.print_figure(bytes_io, **kw)\n",
            "/usr/local/lib/python3.12/dist-packages/IPython/core/pylabtools.py:151: UserWarning: Glyph 50472 (\\N{HANGUL SYLLABLE SSI}) missing from font(s) DejaVu Sans.\n",
            "  fig.canvas.print_figure(bytes_io, **kw)\n",
            "WARNING:matplotlib.font_manager:findfont: Font family 'NanumGothic' not found.\n",
            "WARNING:matplotlib.font_manager:findfont: Font family 'NanumGothic' not found.\n",
            "WARNING:matplotlib.font_manager:findfont: Font family 'NanumGothic' not found.\n",
            "WARNING:matplotlib.font_manager:findfont: Font family 'NanumGothic' not found.\n",
            "WARNING:matplotlib.font_manager:findfont: Font family 'NanumGothic' not found.\n",
            "WARNING:matplotlib.font_manager:findfont: Font family 'NanumGothic' not found.\n",
            "WARNING:matplotlib.font_manager:findfont: Font family 'NanumGothic' not found.\n",
            "WARNING:matplotlib.font_manager:findfont: Font family 'NanumGothic' not found.\n",
            "WARNING:matplotlib.font_manager:findfont: Font family 'NanumGothic' not found.\n",
            "WARNING:matplotlib.font_manager:findfont: Font family 'NanumGothic' not found.\n",
            "WARNING:matplotlib.font_manager:findfont: Font family 'NanumGothic' not found.\n",
            "WARNING:matplotlib.font_manager:findfont: Font family 'NanumGothic' not found.\n",
            "WARNING:matplotlib.font_manager:findfont: Font family 'NanumGothic' not found.\n",
            "WARNING:matplotlib.font_manager:findfont: Font family 'NanumGothic' not found.\n",
            "WARNING:matplotlib.font_manager:findfont: Font family 'NanumGothic' not found.\n",
            "WARNING:matplotlib.font_manager:findfont: Font family 'NanumGothic' not found.\n",
            "WARNING:matplotlib.font_manager:findfont: Font family 'NanumGothic' not found.\n",
            "WARNING:matplotlib.font_manager:findfont: Font family 'NanumGothic' not found.\n",
            "WARNING:matplotlib.font_manager:findfont: Font family 'NanumGothic' not found.\n",
            "WARNING:matplotlib.font_manager:findfont: Font family 'NanumGothic' not found.\n",
            "WARNING:matplotlib.font_manager:findfont: Font family 'NanumGothic' not found.\n",
            "WARNING:matplotlib.font_manager:findfont: Font family 'NanumGothic' not found.\n",
            "WARNING:matplotlib.font_manager:findfont: Font family 'NanumGothic' not found.\n",
            "WARNING:matplotlib.font_manager:findfont: Font family 'NanumGothic' not found.\n",
            "WARNING:matplotlib.font_manager:findfont: Font family 'NanumGothic' not found.\n",
            "WARNING:matplotlib.font_manager:findfont: Font family 'NanumGothic' not found.\n",
            "WARNING:matplotlib.font_manager:findfont: Font family 'NanumGothic' not found.\n",
            "WARNING:matplotlib.font_manager:findfont: Font family 'NanumGothic' not found.\n",
            "WARNING:matplotlib.font_manager:findfont: Font family 'NanumGothic' not found.\n",
            "/usr/local/lib/python3.12/dist-packages/IPython/core/pylabtools.py:151: UserWarning: Glyph 51676 (\\N{HANGUL SYLLABLE JJA}) missing from font(s) DejaVu Sans.\n",
            "  fig.canvas.print_figure(bytes_io, **kw)\n",
            "WARNING:matplotlib.font_manager:findfont: Font family 'NanumGothic' not found.\n",
            "WARNING:matplotlib.font_manager:findfont: Font family 'NanumGothic' not found.\n",
            "WARNING:matplotlib.font_manager:findfont: Font family 'NanumGothic' not found.\n",
            "WARNING:matplotlib.font_manager:findfont: Font family 'NanumGothic' not found.\n",
            "WARNING:matplotlib.font_manager:findfont: Font family 'NanumGothic' not found.\n",
            "WARNING:matplotlib.font_manager:findfont: Font family 'NanumGothic' not found.\n",
            "WARNING:matplotlib.font_manager:findfont: Font family 'NanumGothic' not found.\n",
            "WARNING:matplotlib.font_manager:findfont: Font family 'NanumGothic' not found.\n",
            "WARNING:matplotlib.font_manager:findfont: Font family 'NanumGothic' not found.\n",
            "WARNING:matplotlib.font_manager:findfont: Font family 'NanumGothic' not found.\n",
            "WARNING:matplotlib.font_manager:findfont: Font family 'NanumGothic' not found.\n",
            "WARNING:matplotlib.font_manager:findfont: Font family 'NanumGothic' not found.\n",
            "/usr/local/lib/python3.12/dist-packages/IPython/core/pylabtools.py:151: UserWarning: Glyph 44256 (\\N{HANGUL SYLLABLE GO}) missing from font(s) DejaVu Sans.\n",
            "  fig.canvas.print_figure(bytes_io, **kw)\n",
            "/usr/local/lib/python3.12/dist-packages/IPython/core/pylabtools.py:151: UserWarning: Glyph 44592 (\\N{HANGUL SYLLABLE GI}) missing from font(s) DejaVu Sans.\n",
            "  fig.canvas.print_figure(bytes_io, **kw)\n",
            "/usr/local/lib/python3.12/dist-packages/IPython/core/pylabtools.py:151: UserWarning: Glyph 50728 (\\N{HANGUL SYLLABLE ON}) missing from font(s) DejaVu Sans.\n",
            "  fig.canvas.print_figure(bytes_io, **kw)\n",
            "WARNING:matplotlib.font_manager:findfont: Font family 'NanumGothic' not found.\n",
            "WARNING:matplotlib.font_manager:findfont: Font family 'NanumGothic' not found.\n",
            "/usr/local/lib/python3.12/dist-packages/IPython/core/pylabtools.py:151: UserWarning: Glyph 51200 (\\N{HANGUL SYLLABLE JEO}) missing from font(s) DejaVu Sans.\n",
            "  fig.canvas.print_figure(bytes_io, **kw)\n",
            "WARNING:matplotlib.font_manager:findfont: Font family 'NanumGothic' not found.\n",
            "WARNING:matplotlib.font_manager:findfont: Font family 'NanumGothic' not found.\n",
            "/usr/local/lib/python3.12/dist-packages/IPython/core/pylabtools.py:151: UserWarning: Glyph 44053 (\\N{HANGUL SYLLABLE GANG}) missing from font(s) DejaVu Sans.\n",
            "  fig.canvas.print_figure(bytes_io, **kw)\n",
            "/usr/local/lib/python3.12/dist-packages/IPython/core/pylabtools.py:151: UserWarning: Glyph 49688 (\\N{HANGUL SYLLABLE SU}) missing from font(s) DejaVu Sans.\n",
            "  fig.canvas.print_figure(bytes_io, **kw)\n",
            "/usr/local/lib/python3.12/dist-packages/IPython/core/pylabtools.py:151: UserWarning: Glyph 47049 (\\N{HANGUL SYLLABLE RYANG}) missing from font(s) DejaVu Sans.\n",
            "  fig.canvas.print_figure(bytes_io, **kw)\n",
            "WARNING:matplotlib.font_manager:findfont: Font family 'NanumGothic' not found.\n",
            "WARNING:matplotlib.font_manager:findfont: Font family 'NanumGothic' not found.\n",
            "WARNING:matplotlib.font_manager:findfont: Font family 'NanumGothic' not found.\n",
            "WARNING:matplotlib.font_manager:findfont: Font family 'NanumGothic' not found.\n",
            "WARNING:matplotlib.font_manager:findfont: Font family 'NanumGothic' not found.\n",
            "WARNING:matplotlib.font_manager:findfont: Font family 'NanumGothic' not found.\n",
            "WARNING:matplotlib.font_manager:findfont: Font family 'NanumGothic' not found.\n",
            "WARNING:matplotlib.font_manager:findfont: Font family 'NanumGothic' not found.\n",
            "WARNING:matplotlib.font_manager:findfont: Font family 'NanumGothic' not found.\n",
            "WARNING:matplotlib.font_manager:findfont: Font family 'NanumGothic' not found.\n",
            "WARNING:matplotlib.font_manager:findfont: Font family 'NanumGothic' not found.\n",
            "WARNING:matplotlib.font_manager:findfont: Font family 'NanumGothic' not found.\n",
            "WARNING:matplotlib.font_manager:findfont: Font family 'NanumGothic' not found.\n",
            "WARNING:matplotlib.font_manager:findfont: Font family 'NanumGothic' not found.\n",
            "WARNING:matplotlib.font_manager:findfont: Font family 'NanumGothic' not found.\n"
          ]
        },
        {
          "data": {
            "image/png": "[encoded data removed]",
            "text/plain": [
              "<Figure size 1000x600 with 1 Axes>"
            ]
          },
          "metadata": {},
          "output_type": "display_data"
        }
      ],
      "source": [
        "# =========================================\n",
        "# 5) 그래프 시각화\n",
        "# =========================================\n",
        "plt.figure(figsize=(10,6))\n",
        "plt.plot(df[\"날짜\"], df[\"최고기온\"], marker=\"o\", label=\"최고기온(℃)\")\n",
        "plt.plot(df[\"날짜\"], df[\"최저기온\"], marker=\"o\", label=\"최저기온(℃)\")\n",
        "plt.bar(df[\"날짜\"], df[\"강수량\"], alpha=0.3, label=\"강수량(mm)\")\n",
        "plt.xticks(rotation=45)\n",
        "plt.title(\"서울 최근 7일간 날씨\")\n",
        "plt.xlabel(\"날짜\")\n",
        "plt.legend()\n",
        "plt.grid(True, linestyle=\"--\", alpha=0.6)\n",
        "plt.tight_layout()\n",
        "plt.show()\n"
      ]
    },
    {
      "cell_type": "code",
      "execution_count": 11,
      "metadata": {
        "id": "O-9XFmmsNdpy"
      },
      "outputs": [],
      "source": [
        "# gpt 프롬프팅 >> system > \" 날씨전문가 \" \"df 에 있는 날씨 정보로만 답해라 \" \"간결하고 친근한 답변\"\n",
        "# DF 에서 데이터 찾아서 .. 답변 >> json\n",
        "\n",
        "### \" 코드 내용 \"\" .. system 에 \" 날씨전문가 \" \"df 에 있는 날씨 정보로만 답해라 \" \"간결하고 친근한 답변\""
      ]
    },
    {
      "cell_type": "code",
      "execution_count": 13,
      "metadata": {
        "colab": {
          "base_uri": "https://localhost:8080/"
        },
        "id": "rLEkL4sfPosg",
        "outputId": "448da19e-26e0-4911-a5cd-5976c0c219a0"
      },
      "outputs": [
        {
          "name": "stdout",
          "output_type": "stream",
          "text": [
            "\n",
            " 날씨 데이터에 대해 질문을 입력하세요 (예: '가장 더웠던 날은? 총 강수량은?')\n",
            "> 가장 더운 날은?\n",
            "\n",
            " GPT 응답:\n",
            " 가장 더웠던 날은 2025년 8월 24일로, 최고기온은 33.6℃입니다.\n"
          ]
        }
      ],
      "source": [
        "# =========================================\n",
        "# 6) GPT 요약 & 질의응답 (데이터 기반)\n",
        "# =========================================\n",
        "try:\n",
        "    # 숫자형 보정\n",
        "    for col in [\"최고기온\", \"최저기온\", \"강수량\", \"최대풍속\"]:\n",
        "        if col in df.columns:\n",
        "            df[col] = pd.to_numeric(df[col], errors=\"coerce\")\n",
        "\n",
        "    # 요약 통계\n",
        "    period = f\"{df['날짜'].min()} ~ {df['날짜'].max()}\"\n",
        "    stats = {\n",
        "        \"기간\": period,\n",
        "        \"평균_최고기온_℃\": round(df[\"최고기온\"].mean(), 1) if \"최고기온\" in df else None,\n",
        "        \"평균_최저기온_℃\": round(df[\"최저기온\"].mean(), 1) if \"최저기온\" in df else None,\n",
        "        \"총_강수량_mm\": round(df[\"강수량\"].sum(), 1) if \"강수량\" in df else None,\n",
        "        \"최대_풍속_mps\": round(df[\"최대풍속\"].max(), 1) if \"최대풍속\" in df else None,\n",
        "    }\n",
        "\n",
        "    # 핵심 일자(가장 더움/추움/비 많이 온 날 등)\n",
        "    hi_row = df.loc[df[\"최고기온\"].idxmax()] if \"최고기온\" in df and df[\"최고기온\"].notna().any() else None\n",
        "    lo_row = df.loc[df[\"최저기온\"].idxmin()] if \"최저기온\" in df and df[\"최저기온\"].notna().any() else None\n",
        "    rain_row = df.loc[df[\"강수량\"].idxmax()] if \"강수량\" in df and df[\"강수량\"].notna().any() else None\n",
        "    wind_row = df.loc[df[\"최대풍속\"].idxmax()] if \"최대풍속\" in df and df[\"최대풍속\"].notna().any() else None\n",
        "\n",
        "    highlights = {\n",
        "        \"가장_더웠던_날\": {\"날짜\": hi_row[\"날짜\"], \"최고기온_℃\": hi_row[\"최고기온\"]} if hi_row is not None else None,\n",
        "        \"가장_추웠던_날\": {\"날짜\": lo_row[\"날짜\"], \"최저기온_℃\": lo_row[\"최저기온\"]} if lo_row is not None else None,\n",
        "        \"비가_가장_많이_왔던_날\": {\"날짜\": rain_row[\"날짜\"], \"강수량_mm\": rain_row[\"강수량\"]} if rain_row is not None else None,\n",
        "        \"풍속이_가장_강했던_날\": {\"날짜\": wind_row[\"날짜\"], \"최대풍속_mps\": wind_row[\"최대풍속\"]} if wind_row is not None else None,\n",
        "    }\n",
        "\n",
        "    # 사용자 질문 입력\n",
        "    qa_question = input(\"\\n 날씨 데이터에 대해 질문을 입력하세요 (예: '가장 더웠던 날은? 총 강수량은?')\\n> \").strip()\n",
        "\n",
        "    # 컨텍스트(JSON) 구성 - 7일치라 용량이 작아 그대로 전달\n",
        "    context = {\n",
        "        \"요약통계\": stats,\n",
        "        \"핵심하이라이트\": highlights,\n",
        "        \"일별데이터\": df.to_dict(orient=\"records\")\n",
        "    }\n",
        "    context_json = json.dumps(context, ensure_ascii=False)\n",
        "\n",
        "    # GPT 프롬프트: 데이터 외 추측 금지 + 단위 표기\n",
        "    qa_resp = client.chat.completions.create(\n",
        "        model=\"gpt-4o-mini\",\n",
        "        messages=[\n",
        "            {\n",
        "                \"role\":\"system\",\n",
        "                \"content\": (\n",
        "                    \"너는 기상 데이터 분석가다. 반드시 주어진 JSON 데이터만 근거로 답하라. \"\n",
        "                    \"추측하거나 외부 정보를 추가하지 말라. 수치는 단위를 함께 제시하라. \"\n",
        "                    \"가능하면 2~4문장으로 간결히 답하고\"\n",
        "                )\n",
        "            },\n",
        "            {\n",
        "                \"role\":\"user\",\n",
        "                \"content\": f\"데이터(JSON): {context_json}\\n\\n질문: {qa_question}\"\n",
        "            }\n",
        "        ],\n",
        "        temperature=0.2,\n",
        "        seed=7\n",
        "    )\n",
        "\n",
        "    print(\"\\n GPT 응답:\\n\", qa_resp.choices[0].message.content)\n",
        "\n",
        "except Exception as e:\n",
        "    print(\" GPT 질의응답 처리 중 오류:\", e)\n"
      ]
    }
  ],
  "metadata": {
    "colab": {
      "provenance": []
    },
    "kernelspec": {
      "display_name": "Python 3",
      "name": "python3"
    },
    "language_info": {
      "name": "python"
    }
  },
  "nbformat": 4,
  "nbformat_minor": 0
}
