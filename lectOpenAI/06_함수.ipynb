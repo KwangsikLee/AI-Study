{
  "cells": [
    {
      "cell_type": "code",
      "execution_count": 1,
      "metadata": {
        "colab": {
          "base_uri": "https://localhost:8080/"
        },
        "id": "8zTHyoh99Fm8",
        "outputId": "80bb4d8b-4b23-4ba6-fdda-4a98e037c544"
      },
      "outputs": [
        {
          "name": "stdout",
          "output_type": "stream",
          "text": [
            "Requirement already satisfied: openai in /usr/local/lib/python3.12/dist-packages (1.100.0)\n",
            "Requirement already satisfied: anyio<5,>=3.5.0 in /usr/local/lib/python3.12/dist-packages (from openai) (4.10.0)\n",
            "Requirement already satisfied: distro<2,>=1.7.0 in /usr/local/lib/python3.12/dist-packages (from openai) (1.9.0)\n",
            "Requirement already satisfied: httpx<1,>=0.23.0 in /usr/local/lib/python3.12/dist-packages (from openai) (0.28.1)\n",
            "Requirement already satisfied: jiter<1,>=0.4.0 in /usr/local/lib/python3.12/dist-packages (from openai) (0.10.0)\n",
            "Requirement already satisfied: pydantic<3,>=1.9.0 in /usr/local/lib/python3.12/dist-packages (from openai) (2.11.7)\n",
            "Requirement already satisfied: sniffio in /usr/local/lib/python3.12/dist-packages (from openai) (1.3.1)\n",
            "Requirement already satisfied: tqdm>4 in /usr/local/lib/python3.12/dist-packages (from openai) (4.67.1)\n",
            "Requirement already satisfied: typing-extensions<5,>=4.11 in /usr/local/lib/python3.12/dist-packages (from openai) (4.14.1)\n",
            "Requirement already satisfied: idna>=2.8 in /usr/local/lib/python3.12/dist-packages (from anyio<5,>=3.5.0->openai) (3.10)\n",
            "Requirement already satisfied: certifi in /usr/local/lib/python3.12/dist-packages (from httpx<1,>=0.23.0->openai) (2025.8.3)\n",
            "Requirement already satisfied: httpcore==1.* in /usr/local/lib/python3.12/dist-packages (from httpx<1,>=0.23.0->openai) (1.0.9)\n",
            "Requirement already satisfied: h11>=0.16 in /usr/local/lib/python3.12/dist-packages (from httpcore==1.*->httpx<1,>=0.23.0->openai) (0.16.0)\n",
            "Requirement already satisfied: annotated-types>=0.6.0 in /usr/local/lib/python3.12/dist-packages (from pydantic<3,>=1.9.0->openai) (0.7.0)\n",
            "Requirement already satisfied: pydantic-core==2.33.2 in /usr/local/lib/python3.12/dist-packages (from pydantic<3,>=1.9.0->openai) (2.33.2)\n",
            "Requirement already satisfied: typing-inspection>=0.4.0 in /usr/local/lib/python3.12/dist-packages (from pydantic<3,>=1.9.0->openai) (0.4.1)\n"
          ]
        }
      ],
      "source": [
        "!pip install openai\n",
        "\n",
        "from openai import OpenAI\n"
      ]
    },
    {
      "cell_type": "code",
      "execution_count": null,
      "metadata": {},
      "outputs": [],
      "source": [
        "import os\n",
        "from dotenv import load_dotenv\n",
        "\n",
        "load_dotenv()\n",
        "# OpenAI API 클라이언트 생성\n",
        "API_KEY = os.getenv(\"API_KEY\")\n",
        "\n",
        "# OpenAI API 클라이언트 생성\n",
        "client = OpenAI(api_key=API_KEY)  # <- 본인 API 키 입력"
      ]
    },
    {
      "cell_type": "code",
      "execution_count": null,
      "metadata": {
        "colab": {
          "base_uri": "https://localhost:8080/"
        },
        "id": "dsyClCov9ISw",
        "outputId": "8d3d8d06-ca45-4ff9-8a5b-92271847fc8b"
      },
      "outputs": [
        {
          "name": "stdout",
          "output_type": "stream",
          "text": [
            "🌤️ 날씨 봇 응답:\n",
            "현재 서울의 날씨는 15도이며, 흐림으로 보입니다. 부산은 18도이며, 맑은 날씨를 보이고 있습니다. 추가적인 날씨 정보가 필요하시면 말씀해 주세요!\n"
          ]
        }
      ],
      "source": [
        "import json\n",
        "from datetime import datetime\n",
        "\n",
        "class WeatherBot:\n",
        "    def __init__(self):\n",
        "        self.client = OpenAI(api_key=API_KEY)  # <- 본인 API 키 입력\n",
        "\n",
        "    def get_weather(self, location, unit=\"celsius\"):\n",
        "        \"\"\"실제 날씨 API 대신 더미 데이터 반환\"\"\"\n",
        "        weather_data = {\n",
        "            \"서울\": {\"temp\": 15, \"condition\": \"맑음\"},\n",
        "            \"부산\": {\"temp\": 18, \"condition\": \"흐림\"},\n",
        "            \"제주\": {\"temp\": 20, \"condition\": \"비\"}\n",
        "        }\n",
        "\n",
        "        if location in weather_data:\n",
        "            data = weather_data[location]\n",
        "            if unit == \"fahrenheit\":\n",
        "                data[\"temp\"] = data[\"temp\"] * 9/5 + 32\n",
        "            return json.dumps(data, ensure_ascii=False)\n",
        "        return json.dumps({\"error\": \"위치를 찾을 수 없습니다\"}, ensure_ascii=False)\n",
        "\n",
        "    def chat_with_functions(self, user_message):\n",
        "        \"\"\"함수 호출 기능을 사용한 대화\"\"\"\n",
        "\n",
        "        # 사용 가능한 함수 정의\n",
        "        tools = [\n",
        "            {\n",
        "                \"type\": \"function\",\n",
        "                \"function\": {\n",
        "                    \"name\": \"get_weather\",\n",
        "                    \"description\": \"특정 위치의 날씨 정보를 가져옵니다\",\n",
        "                    \"parameters\": {\n",
        "                        \"type\": \"object\",\n",
        "                        \"properties\": {\n",
        "                            \"location\": {\n",
        "                                \"type\": \"string\",\n",
        "                                \"description\": \"도시 이름 (예: 서울, 부산)\"\n",
        "                            },\n",
        "                            \"unit\": {\n",
        "                                \"type\": \"string\",\n",
        "                                \"enum\": [\"celsius\", \"fahrenheit\"],\n",
        "                                \"description\": \"온도 단위\"\n",
        "                            }\n",
        "                        },\n",
        "                        \"required\": [\"location\"]\n",
        "                    }\n",
        "                }\n",
        "            }\n",
        "        ]\n",
        "\n",
        "        # 첫 번째 API 호출\n",
        "        response = self.client.chat.completions.create(\n",
        "            model=\"gpt-4o-mini\",\n",
        "            messages=[\n",
        "                {\"role\": \"system\", \"content\": \"당신은 날씨 정보를 제공하는 어시스턴트입니다.\"},\n",
        "                {\"role\": \"user\", \"content\": user_message}\n",
        "            ],\n",
        "            tools=tools,\n",
        "            tool_choice=\"auto\"\n",
        "        )\n",
        "\n",
        "        message = response.choices[0].message\n",
        "\n",
        "        # 함수 호출이 필요한 경우\n",
        "        if message.tool_calls:\n",
        "            tool_responses = []\n",
        "            for tool_call in message.tool_calls:\n",
        "                function_name = tool_call.function.name\n",
        "                function_args = json.loads(tool_call.function.arguments)\n",
        "\n",
        "                # 실제 함수 실행\n",
        "                if function_name == \"get_weather\":\n",
        "                    function_response = self.get_weather(**function_args)\n",
        "                    tool_responses.append({\n",
        "                        \"role\": \"tool\",\n",
        "                        \"tool_call_id\": tool_call.id,\n",
        "                        \"content\": function_response\n",
        "                    })\n",
        "\n",
        "            # 함수 결과를 포함하여 다시 API 호출\n",
        "            second_response = self.client.chat.completions.create(\n",
        "                model=\"gpt-4o-mini\",\n",
        "                messages=[\n",
        "                    {\"role\": \"system\", \"content\": \"당신은 날씨 정보를 제공하는 어시스턴트입니다.\"},\n",
        "                    {\"role\": \"user\", \"content\": user_message},\n",
        "                    message,\n",
        "                    *tool_responses # Add all tool responses\n",
        "                ]\n",
        "            )\n",
        "            return second_response.choices[0].message.content\n",
        "\n",
        "        return message.content\n",
        "\n",
        "# 테스트\n",
        "bot = WeatherBot()\n",
        "print(\"🌤️ 날씨 봇 응답:\")\n",
        "print(bot.chat_with_functions(\"서울과 부산의 날씨를 알려주세요\"))"
      ]
    }
  ],
  "metadata": {
    "colab": {
      "provenance": []
    },
    "kernelspec": {
      "display_name": "Python 3",
      "name": "python3"
    },
    "language_info": {
      "name": "python"
    }
  },
  "nbformat": 4,
  "nbformat_minor": 0
}
