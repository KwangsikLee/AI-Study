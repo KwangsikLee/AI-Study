{
  "cells": [
    {
      "cell_type": "code",
      "execution_count": 1,
      "metadata": {
        "id": "6-X-F4jMaEB8"
      },
      "outputs": [],
      "source": [
        "# ==================================\n",
        "# 1) 설치\n",
        "# ==================================\n",
        "!pip install -q openai gradio\n"
      ]
    },
    {
      "cell_type": "code",
      "execution_count": null,
      "metadata": {
        "id": "MsuuHwOGZ-Zd"
      },
      "outputs": [],
      "source": [
        "\n",
        "# ==================================\n",
        "# 2) 라이브러리 임포트\n",
        "# ==================================\n",
        "import gradio as gr\n",
        "from openai import OpenAI\n",
        "import os\n",
        "from dotenv import load_dotenv\n",
        "\n",
        "\n",
        "load_dotenv()\n",
        "# OpenAI API 클라이언트 생성\n",
        "API_KEY = os.getenv(\"API_KEY\")\n",
        "\n",
        "# OpenAI API 클라이언트 생성\n",
        "client = OpenAI(api_key=API_KEY)  # <- 본인 API 키 입력\n"
      ]
    },
    {
      "cell_type": "code",
      "execution_count": 6,
      "metadata": {
        "colab": {
          "base_uri": "https://localhost:8080/",
          "height": 649
        },
        "id": "JQhlGD03Z7zK",
        "outputId": "5919e5a3-1820-4191-edde-565fea881f88"
      },
      "outputs": [
        {
          "name": "stdout",
          "output_type": "stream",
          "text": [
            "It looks like you are running Gradio on a hosted Jupyter notebook, which requires `share=True`. Automatically setting `share=True` (you can turn this off by setting `share=False` in `launch()` explicitly).\n",
            "\n",
            "Colab notebook detected. To show errors in colab notebook, set debug=True in launch()\n",
            "* Running on public URL: https://3826cc99f5600f7acc.gradio.live\n",
            "\n",
            "This share link expires in 1 week. For free permanent hosting and GPU upgrades, run `gradio deploy` from the terminal in the working directory to deploy to Hugging Face Spaces (https://huggingface.co/spaces)\n"
          ]
        },
        {
          "data": {
            "text/html": [
              "<div><iframe src=\"https://3826cc99f5600f7acc.gradio.live\" width=\"100%\" height=\"500\" allow=\"autoplay; camera; microphone; clipboard-read; clipboard-write;\" frameborder=\"0\" allowfullscreen></iframe></div>"
            ],
            "text/plain": [
              "<IPython.core.display.HTML object>"
            ]
          },
          "metadata": {},
          "output_type": "display_data"
        },
        {
          "data": {
            "text/plain": []
          },
          "execution_count": 6,
          "metadata": {},
          "output_type": "execute_result"
        }
      ],
      "source": [
        "# ==================================\n",
        "# 3) 감정 분석 함수\n",
        "# ==================================\n",
        "def analyze_lyrics(lyrics):\n",
        "    if not lyrics.strip():\n",
        "        return \" 가사를 입력하세요.\"\n",
        "\n",
        "    try:\n",
        "        response = client.chat.completions.create(\n",
        "            model=\"gpt-4o-mini\",\n",
        "            messages=[\n",
        "                {\n",
        "                    \"role\": \"system\",\n",
        "                    \"content\": (\n",
        "                        \"너는 노래 가사를 분석하는 감정 분석 전문가다. \"\n",
        "                        \"사용자가 입력한 가사를 읽고, 주된 감정을 1~2개로 분류한 후 \"\n",
        "                        \"간단한 이유를 덧붙여라. 예: '감정: 슬픔, 이유: 이별을 다루고 있음'\"\n",
        "                    )\n",
        "                },\n",
        "                {\"role\": \"user\", \"content\": f\"가사:\\n{lyrics}\"}\n",
        "            ],\n",
        "            temperature=0.3\n",
        "        )\n",
        "        return response.choices[0].message.content\n",
        "    except Exception as e:\n",
        "        return f\" 오류 발생: {e}\"\n",
        "\n",
        "# ==================================\n",
        "# 4) Gradio 인터페이스\n",
        "# ==================================\n",
        "with gr.Blocks(title=\"노래 가사 감정 분석기\") as demo:\n",
        "    gr.Markdown(\"##  GPT 기반 노래 가사 감정 분석기\\n노래 가사를 입력하면 주요 감정을 분석해 드립니다.\")\n",
        "\n",
        "    lyrics_box = gr.Textbox(lines=10, label=\"노래 가사 입력\", placeholder=\"여기에 가사를 붙여 넣으세요.\")\n",
        "    output_box = gr.Textbox(lines=5, label=\"감정 분석 결과\", interactive=False)\n",
        "\n",
        "    btn = gr.Button(\"분석하기\")\n",
        "    btn.click(fn=analyze_lyrics, inputs=lyrics_box, outputs=output_box)\n",
        "\n",
        "    gr.Examples(\n",
        "        examples=[\n",
        "            [\"오늘도 그대 생각에 눈물이 흘러 (이별 발라드 가사 예시)\"],\n",
        "            [\"햇살 가득한 봄날에 너와 걷고 싶어 (밝은 사랑 노래 예시)\"],\n",
        "        ],\n",
        "        inputs=[lyrics_box]\n",
        "    )\n",
        "\n",
        "demo.launch()"
      ]
    }
  ],
  "metadata": {
    "colab": {
      "provenance": []
    },
    "kernelspec": {
      "display_name": "Python 3",
      "name": "python3"
    },
    "language_info": {
      "name": "python"
    }
  },
  "nbformat": 4,
  "nbformat_minor": 0
}
