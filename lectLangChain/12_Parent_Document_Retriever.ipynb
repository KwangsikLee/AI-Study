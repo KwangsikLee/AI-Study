{
  "cells": [
    {
      "cell_type": "code",
      "execution_count": 1,
      "metadata": {
        "colab": {
          "base_uri": "https://localhost:8080/"
        },
        "id": "NAZst8IJfIgK",
        "outputId": "761048a2-9ea7-4e43-cd56-3430793d1670"
      },
      "outputs": [
        {
          "name": "stdout",
          "output_type": "stream",
          "text": [
            "\u001b[2K   \u001b[90m━━━━━━━━━━━━━━━━━━━━━━━━━━━━━━━━━━━━━━━━\u001b[0m \u001b[32m2.5/2.5 MB\u001b[0m \u001b[31m15.1 MB/s\u001b[0m eta \u001b[36m0:00:00\u001b[0m\n",
            "\u001b[2K   \u001b[90m━━━━━━━━━━━━━━━━━━━━━━━━━━━━━━━━━━━━━━━━\u001b[0m \u001b[32m31.4/31.4 MB\u001b[0m \u001b[31m28.0 MB/s\u001b[0m eta \u001b[36m0:00:00\u001b[0m\n",
            "\u001b[2K   \u001b[90m━━━━━━━━━━━━━━━━━━━━━━━━━━━━━━━━━━━━━━━━\u001b[0m \u001b[32m310.5/310.5 kB\u001b[0m \u001b[31m11.6 MB/s\u001b[0m eta \u001b[36m0:00:00\u001b[0m\n",
            "\u001b[2K   \u001b[90m━━━━━━━━━━━━━━━━━━━━━━━━━━━━━━━━━━━━━━━━\u001b[0m \u001b[32m50.9/50.9 kB\u001b[0m \u001b[31m2.9 MB/s\u001b[0m eta \u001b[36m0:00:00\u001b[0m\n",
            "\u001b[?25h"
          ]
        }
      ],
      "source": [
        "# ============================================\n",
        "# 1) 설치\n",
        "# ============================================\n",
        "!pip -q install langchain langchain-community langchain-text-splitters faiss-cpu sentence-transformers pypdf\n"
      ]
    },
    {
      "cell_type": "code",
      "execution_count": null,
      "metadata": {
        "colab": {
          "base_uri": "https://localhost:8080/"
        },
        "id": "J1jB-z-Ter2a",
        "outputId": "7c3b5709-5d1d-45f8-dd6a-ebdb9a1c7214"
      },
      "outputs": [],
      "source": [
        "\n",
        "# ============================================\n",
        "# 2) PDF 다운로드 (요청하신 동일 파일 & 재시도 로직)\n",
        "# ============================================\n",
        "import requests, os, time\n",
        "import urllib.request\n",
        "\n",
        "urllib.request.urlretrieve(\"https://github.com/chatgpt-kr/openai-api-tutorial/raw/main/ch07/2020_%EA%B2%BD%EC%A0%9C%EA%B8%88%EC%9C%B5%EC%9A%A9%EC%96%B4%20700%EC%84%A0_%EA%B2%8C%EC%8B%9C.pdf\", filename=\"2020_경제금융용어 700선_게시.pdf\")\n"
      ]
    },
    {
      "cell_type": "markdown",
      "metadata": {},
      "source": [
        "## Parent Document Retriever 접근방법 요약\n",
        "\n",
        "  🎯 핵심 문제\n",
        "\n",
        "  - 작은 청크: 검색은 정확하지만 컨텍스트 부족\n",
        "  - 큰 청크: 컨텍스트는 풍부하지만 검색 정확도 저하\n",
        "\n",
        "  🔄 해결 전략\n",
        "\n",
        "  이중 분할 구조로 검색 정확도와 컨텍스트 풍부함을 동시 확보\n",
        "\n",
        "  핵심 아키텍처\n",
        "\n",
        "  원본 문서\n",
        "      ↓\n",
        "  Parent 청크 (1200자) ← 실제 반환되는 문서\n",
        "      ↓\n",
        "  Child 청크 (400자)   ← 검색에 사용되는 문서\n",
        "\n",
        "  질문 → vectorstore(자식 검색) → 관련 부모 doc_id 찾기 → docstore에서 부모 청크 꺼내 반환\n",
        "\n",
        "  🛠 구현 메커니즘\n",
        "\n",
        "  1. 이중 분할: Parent(1200자) + Child(400자) 청크 생성\n",
        "  2. 이중 저장소:\n",
        "    - VectorStore: Child 청크 임베딩 저장 (검색용)\n",
        "    - InMemoryStore: Parent 청크 원본 저장 (반환용)\n",
        "  3. 검색 흐름: Child로 검색 → 매칭된 Parent 반환\n",
        "\n",
        "  💡 핵심 장점\n",
        "\n",
        "  - 정확한 검색: 작은 Child 청크로 정밀 검색\n",
        "  - 풍부한 컨텍스트: 큰 Parent 청크로 충분한 정보 제공\n",
        "  - 자동 매핑: Child-Parent 관계 자동 관리"
      ]
    },
    {
      "cell_type": "code",
      "execution_count": 9,
      "metadata": {},
      "outputs": [
        {
          "name": "stdout",
          "output_type": "stream",
          "text": [
            " PDF ready: 2020_경제금융용어 700선_게시.pdf\n",
            " 전체 페이지 수: 371\n"
          ]
        },
        {
          "name": "stderr",
          "output_type": "stream",
          "text": [
            "`embedding_function` is expected to be an Embeddings object, support for passing in a function will soon be removed.\n"
          ]
        },
        {
          "name": "stdout",
          "output_type": "stream",
          "text": [
            "부모-자식 청크 색인 중...\n",
            " 색인 완료\n",
            "\n",
            " Q: 인플레이션의 정의와 원인, 그리고 기준금리와의 관계는 무엇인가요?\n",
            "--- Top-3 부모 문서 ---\n",
            " 1. p.212 | 196 경제금융용어 700선 원리금 연체 등 객관적인 손상(impairment)의 증거가 있는 경우에만 대손충당금 적립을  허용하고 있어 대손충당금에 예상손실을 반영하는 데 어려움이 있었다. 이에 따라 바젤  자본규제는 대손충당금이 예상손실에 미달(shortfall)시 동 금액을 기본자...\n",
            " 2. p.344 | 328 경제금융용어 700선 현재 우리나라 은행권에는 오만원권에 띠형 홀로그램이, 만원과 오천원권에는 패치형  홀로그램이 각각 적용되어 있다. 오만원권의 띠형 홀로그램은 앞면 왼쪽 끝 부분에 부착되 어 있으며 보는 각도에 따라 상･중･하 3곳에서 ① 우리나라 지도 ② 태극 ③ 4괘 무늬...\n",
            " 3. p.336 | 320 경제금융용어 700선 뜻한다. 이는 혁신의 정도에 따라 전통적(traditional) 핀테크와 신흥(emergent) 핀테크로  구분할 수 있다. 전통적 핀테크는 기존 금융서비스의 가치사슬 안에서 그 서비스의  효율을 높이는 역할을 한다. 즉 기존 금융서비스를 자동화하려는 금융회...\n"
          ]
        }
      ],
      "source": [
        "import os\n",
        "\n",
        "pdf_path = \"2020_경제금융용어 700선_게시.pdf\"\n",
        "\n",
        "if not os.path.exists(pdf_path) or os.path.getsize(pdf_path) == 0:\n",
        "    r = requests.get(url, stream=True)\n",
        "    r.raise_for_status()\n",
        "    with open(pdf_path, \"wb\") as f:\n",
        "        for chunk in r.iter_content(chunk_size=8192):\n",
        "            f.write(chunk)\n",
        "print(\" PDF ready:\", pdf_path)\n",
        "\n",
        "# ============================================\n",
        "# 3) PDF 로드 & Parent/Child 청크 분할\n",
        "# ============================================\n",
        "from langchain_community.document_loaders import PyPDFLoader\n",
        "from langchain_text_splitters import RecursiveCharacterTextSplitter\n",
        "\n",
        "loader = PyPDFLoader(pdf_path)\n",
        "docs = loader.load()\n",
        "print(f\" 전체 페이지 수: {len(docs)}\")\n",
        "\n",
        "# Parent = 긴 덩어리, Child = 검색용 작은 덩어리\n",
        "parent_splitter = RecursiveCharacterTextSplitter(chunk_size=1200, chunk_overlap=120)\n",
        "child_splitter  = RecursiveCharacterTextSplitter(chunk_size=400, chunk_overlap=40)\n",
        "\n",
        "# ============================================\n",
        "# 4) 임베딩 & 빈 FAISS 인덱스 생성\n",
        "# ============================================\n",
        "from langchain_community.embeddings import HuggingFaceEmbeddings\n",
        "from langchain.embeddings import OpenAIEmbeddings\n",
        "\n",
        "embedding = HuggingFaceEmbeddings(model_name=\"sentence-transformers/all-MiniLM-L6-v2\")\n",
        "# embedding = OpenAIEmbeddings(model=\"text-embedding-3-small\", chunk_size=100)\n",
        "\n",
        "# 정석: IndexFlatL2로 빈 인덱스 생성\n",
        "from langchain_community.vectorstores.faiss import FAISS, dependable_faiss_import\n",
        "from langchain.docstore import InMemoryDocstore\n",
        "\n",
        "faiss = dependable_faiss_import()\n",
        "dim = len(embedding.embed_query(\"dummy\"))  # 임베딩 차원\n",
        "index = faiss.IndexFlatL2(dim)\n",
        "vectorstore = FAISS(embedding.embed_query, index, InMemoryDocstore(), {})\n",
        "\n",
        "# ============================================\n",
        "# 5) InMemoryStore (부모 문서 저장소)\n",
        "# ============================================\n",
        "try:\n",
        "    from langchain.storage import InMemoryStore\n",
        "except ImportError:\n",
        "    class InMemoryStore(dict):\n",
        "        def mset(self, items):\n",
        "            for k, v in items:\n",
        "                self[k] = v\n",
        "docstore = InMemoryStore()\n",
        "\n",
        "# ============================================\n",
        "# 6) ParentDocumentRetriever 생성\n",
        "# ============================================\n",
        "try:\n",
        "    from langchain.retrievers import ParentDocumentRetriever\n",
        "except ImportError:\n",
        "    from langchain_community.retrievers import ParentDocumentRetriever\n",
        "\n",
        "parent_retriever = ParentDocumentRetriever(\n",
        "    vectorstore=vectorstore,\n",
        "    docstore=docstore,\n",
        "    child_splitter=child_splitter,\n",
        "    parent_splitter=parent_splitter,\n",
        ")\n",
        "\n",
        "# ============================================\n",
        "# 7) 문서 색인\n",
        "# ============================================\n",
        "print(\"부모-자식 청크 색인 중...\")\n",
        "parent_retriever.add_documents(docs)\n",
        "print(\" 색인 완료\")\n",
        "\n",
        "# ============================================\n",
        "# 8) 검색 테스트\n",
        "# ============================================\n",
        "def ask(q, k=3):\n",
        "    hits = parent_retriever.get_relevant_documents(q)\n",
        "    print(f\"\\n Q: {q}\\n--- Top-{min(k,len(hits))} 부모 문서 ---\")\n",
        "    for i, d in enumerate(hits[:k], 1):\n",
        "        page = d.metadata.get(\"page\", \"?\")\n",
        "        context = d.page_content[:160].replace('\\n',' ')\n",
        "        print(f\"{i:>2}. p.{page} | {context}...\")\n",
        "\n",
        "ask(\"인플레이션의 정의와 원인, 그리고 기준금리와의 관계는 무엇인가요?\")\n",
        "# ask(\"환율 변동이 물가에 어떤 영향을 미치나요?\")\n",
        "# ask(\"스태그플레이션이 무엇이며 정책 대응의 어려움은 무엇인가요?\")\n"
      ]
    },
    {
      "cell_type": "code",
      "execution_count": 5,
      "metadata": {},
      "outputs": [
        {
          "name": "stdout",
          "output_type": "stream",
          "text": [
            "\n",
            " Q: 가계신용통계 에 대해 설명해\n",
            "--- Top-3 부모 문서 ---\n",
            " 1. p.213 | 197 ㅇ  옵션매도자에게 프리미엄을 지급하며 반대로 옵션매도자는 프리미엄을 받는 대신 옵션 매입자의 옵션 행사에 따라 발생하는 자신의 의무를 이행할 책임을 부담한다. 옵션거래 의 손익은 행사가격, 현재가격 및 프리미엄에 의해 결정된다. 한편 옵션의 가격이 어떻게  결정되는가에 대해서는...\n",
            " 2. p.271 | 255 ㅈ  제1차 통화조치  한국전쟁의 여파로 산업활동이 크게 위축되고 물가가 급등하는 등 경제가 큰 혼란에  빠짐에 따라 이를 타개하기 위하여 1953년 2월 15일 화폐단위를 ‘원(圓)’에서 ‘환(圜)’으로  변경하고 100대 1로 절하(100圓 → 1圜)하는 긴급통화조치를 단행하...\n",
            " 3. p.116 | 100 경제금융용어 700선  연관검색어 : 조세부담률 레그테크 레그테크(RT; RegTech, Regulatory Technology)는 금융업 등 산업 전반에 걸쳐 혁신  정보기술(IT)과 규제를 결합하여 규제관련 요구사항 및 절차를 향상시키는 기술 또는  회사를 뜻한다. 이는 금융...\n"
          ]
        }
      ],
      "source": [
        "\n",
        "ask(\"가계신용통계 에 대해 설명해\")"
      ]
    },
    {
      "cell_type": "code",
      "execution_count": 3,
      "metadata": {},
      "outputs": [],
      "source": [
        "from langchain_core.tracers.stdout import ConsoleCallbackHandler\n",
        "from langchain.chains import RetrievalQA\n",
        "from langchain.prompts import PromptTemplate\n",
        "from langchain_openai import ChatOpenAI\n",
        "\n",
        "template = \"\"\"당신은 한국은행에서 만든 금융 용어를 설명해주는 금융해설자입니다.\n",
        "주어진 검색 결과를 바탕으로 답변하세요.\n",
        "검색 결과에 없는 내용이라면 답변할 수 없다고 하세요. 반말로 친근하게 답변하세요.\n",
        "{context}\n",
        "\n",
        "Question: {question}\n",
        "Answer:\n",
        "\"\"\"\n",
        "\n",
        "llm = ChatOpenAI(model_name=\"gpt-4o\", temperature=0)\n",
        "\n",
        "prompt = PromptTemplate.from_template(template)\n",
        "\n",
        "qa_chain = RetrievalQA.from_chain_type(\n",
        "    llm=llm,\n",
        "    chain_type_kwargs={\"prompt\": prompt},\n",
        "    retriever=parent_retriever,\n",
        "    return_source_documents=True)"
      ]
    },
    {
      "cell_type": "code",
      "execution_count": null,
      "metadata": {},
      "outputs": [],
      "source": [
        "import gradio as gr\n",
        "\n",
        "# 인터페이스 생성\n",
        "with gr.Blocks() as demo:\n",
        "    chatbot = gr.Chatbot(label=\"경제금융용어 챗봇\") # 챗봇 레이블을 좌측 상단에 구성\n",
        "    msg = gr.Textbox(label=\"질문해주세요!\")  # 하단의 채팅창 레이블\n",
        "    clear = gr.Button(\"대화 초기화\")  # 대화 초기화 버튼\n",
        "\n",
        "    # 챗봇의 답변을 처리하는 함수\n",
        "    def respond(message, chat_history):\n",
        "      result = qa_chain(message, \n",
        "                        callbacks=[ConsoleCallbackHandler()])\n",
        "      bot_message = result['result']\n",
        "\n",
        "      # 채팅 기록에 사용자의 메시지와 봇의 응답을 추가\n",
        "      chat_history.append((message, bot_message))\n",
        "      return \"\", chat_history\n",
        "\n",
        "    # 사용자의 입력을 제출(submit)하면 respond 함수가 호출\n",
        "    msg.submit(respond, [msg, chatbot], [msg, chatbot])\n",
        "\n",
        "    # '초기화' 버튼을 클릭하면 채팅 기록을 초기화\n",
        "    clear.click(lambda: None, None, chatbot, queue=False)\n",
        "\n",
        "# 인터페이스 실행\n",
        "demo.launch(debug=True)"
      ]
    }
  ],
  "metadata": {
    "colab": {
      "provenance": []
    },
    "kernelspec": {
      "display_name": "langchain",
      "language": "python",
      "name": "python3"
    },
    "language_info": {
      "codemirror_mode": {
        "name": "ipython",
        "version": 3
      },
      "file_extension": ".py",
      "mimetype": "text/x-python",
      "name": "python",
      "nbconvert_exporter": "python",
      "pygments_lexer": "ipython3",
      "version": "3.10.18"
    }
  },
  "nbformat": 4,
  "nbformat_minor": 0
}
