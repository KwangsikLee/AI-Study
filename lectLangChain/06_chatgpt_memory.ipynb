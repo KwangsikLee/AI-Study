{
  "cells": [
    {
      "cell_type": "markdown",
      "metadata": {},
      "source": [
        "# LangChain\n",
        "\n",
        "### 메세지 History (Memory)\n",
        "\n",
        "### ConsoleCallbackHandler"
      ]
    },
    {
      "cell_type": "code",
      "execution_count": 1,
      "metadata": {
        "colab": {
          "base_uri": "https://localhost:8080/"
        },
        "collapsed": true,
        "id": "s2ALOCJFdvwa",
        "outputId": "53c426a9-e452-4f67-84b1-4b12db5e9f27"
      },
      "outputs": [
        {
          "name": "stdout",
          "output_type": "stream",
          "text": [
            "Collecting langchain_community\n",
            "  Downloading langchain_community-0.3.27-py3-none-any.whl.metadata (2.9 kB)\n",
            "Collecting langchain_openai\n",
            "  Downloading langchain_openai-0.3.31-py3-none-any.whl.metadata (2.4 kB)\n",
            "Requirement already satisfied: langchain-core<1.0.0,>=0.3.66 in /usr/local/lib/python3.12/dist-packages (from langchain_community) (0.3.74)\n",
            "Requirement already satisfied: langchain<1.0.0,>=0.3.26 in /usr/local/lib/python3.12/dist-packages (from langchain_community) (0.3.27)\n",
            "Requirement already satisfied: SQLAlchemy<3,>=1.4 in /usr/local/lib/python3.12/dist-packages (from langchain_community) (2.0.43)\n",
            "Requirement already satisfied: requests<3,>=2 in /usr/local/lib/python3.12/dist-packages (from langchain_community) (2.32.4)\n",
            "Requirement already satisfied: PyYAML>=5.3 in /usr/local/lib/python3.12/dist-packages (from langchain_community) (6.0.2)\n",
            "Requirement already satisfied: aiohttp<4.0.0,>=3.8.3 in /usr/local/lib/python3.12/dist-packages (from langchain_community) (3.12.15)\n",
            "Requirement already satisfied: tenacity!=8.4.0,<10,>=8.1.0 in /usr/local/lib/python3.12/dist-packages (from langchain_community) (8.5.0)\n",
            "Collecting dataclasses-json<0.7,>=0.5.7 (from langchain_community)\n",
            "  Downloading dataclasses_json-0.6.7-py3-none-any.whl.metadata (25 kB)\n",
            "Requirement already satisfied: pydantic-settings<3.0.0,>=2.4.0 in /usr/local/lib/python3.12/dist-packages (from langchain_community) (2.10.1)\n",
            "Requirement already satisfied: langsmith>=0.1.125 in /usr/local/lib/python3.12/dist-packages (from langchain_community) (0.4.14)\n",
            "Requirement already satisfied: httpx-sse<1.0.0,>=0.4.0 in /usr/local/lib/python3.12/dist-packages (from langchain_community) (0.4.1)\n",
            "Requirement already satisfied: numpy>=1.26.2 in /usr/local/lib/python3.12/dist-packages (from langchain_community) (2.0.2)\n",
            "Requirement already satisfied: openai<2.0.0,>=1.99.9 in /usr/local/lib/python3.12/dist-packages (from langchain_openai) (1.100.0)\n",
            "Requirement already satisfied: tiktoken<1,>=0.7 in /usr/local/lib/python3.12/dist-packages (from langchain_openai) (0.11.0)\n",
            "Requirement already satisfied: aiohappyeyeballs>=2.5.0 in /usr/local/lib/python3.12/dist-packages (from aiohttp<4.0.0,>=3.8.3->langchain_community) (2.6.1)\n",
            "Requirement already satisfied: aiosignal>=1.4.0 in /usr/local/lib/python3.12/dist-packages (from aiohttp<4.0.0,>=3.8.3->langchain_community) (1.4.0)\n",
            "Requirement already satisfied: attrs>=17.3.0 in /usr/local/lib/python3.12/dist-packages (from aiohttp<4.0.0,>=3.8.3->langchain_community) (25.3.0)\n",
            "Requirement already satisfied: frozenlist>=1.1.1 in /usr/local/lib/python3.12/dist-packages (from aiohttp<4.0.0,>=3.8.3->langchain_community) (1.7.0)\n",
            "Requirement already satisfied: multidict<7.0,>=4.5 in /usr/local/lib/python3.12/dist-packages (from aiohttp<4.0.0,>=3.8.3->langchain_community) (6.6.4)\n",
            "Requirement already satisfied: propcache>=0.2.0 in /usr/local/lib/python3.12/dist-packages (from aiohttp<4.0.0,>=3.8.3->langchain_community) (0.3.2)\n",
            "Requirement already satisfied: yarl<2.0,>=1.17.0 in /usr/local/lib/python3.12/dist-packages (from aiohttp<4.0.0,>=3.8.3->langchain_community) (1.20.1)\n",
            "Collecting marshmallow<4.0.0,>=3.18.0 (from dataclasses-json<0.7,>=0.5.7->langchain_community)\n",
            "  Downloading marshmallow-3.26.1-py3-none-any.whl.metadata (7.3 kB)\n",
            "Collecting typing-inspect<1,>=0.4.0 (from dataclasses-json<0.7,>=0.5.7->langchain_community)\n",
            "  Downloading typing_inspect-0.9.0-py3-none-any.whl.metadata (1.5 kB)\n",
            "Requirement already satisfied: langchain-text-splitters<1.0.0,>=0.3.9 in /usr/local/lib/python3.12/dist-packages (from langchain<1.0.0,>=0.3.26->langchain_community) (0.3.9)\n",
            "Requirement already satisfied: pydantic<3.0.0,>=2.7.4 in /usr/local/lib/python3.12/dist-packages (from langchain<1.0.0,>=0.3.26->langchain_community) (2.11.7)\n",
            "Requirement already satisfied: jsonpatch<2.0,>=1.33 in /usr/local/lib/python3.12/dist-packages (from langchain-core<1.0.0,>=0.3.66->langchain_community) (1.33)\n",
            "Requirement already satisfied: typing-extensions>=4.7 in /usr/local/lib/python3.12/dist-packages (from langchain-core<1.0.0,>=0.3.66->langchain_community) (4.14.1)\n",
            "Requirement already satisfied: packaging>=23.2 in /usr/local/lib/python3.12/dist-packages (from langchain-core<1.0.0,>=0.3.66->langchain_community) (25.0)\n",
            "Requirement already satisfied: httpx<1,>=0.23.0 in /usr/local/lib/python3.12/dist-packages (from langsmith>=0.1.125->langchain_community) (0.28.1)\n",
            "Requirement already satisfied: orjson>=3.9.14 in /usr/local/lib/python3.12/dist-packages (from langsmith>=0.1.125->langchain_community) (3.11.2)\n",
            "Requirement already satisfied: requests-toolbelt>=1.0.0 in /usr/local/lib/python3.12/dist-packages (from langsmith>=0.1.125->langchain_community) (1.0.0)\n",
            "Requirement already satisfied: zstandard>=0.23.0 in /usr/local/lib/python3.12/dist-packages (from langsmith>=0.1.125->langchain_community) (0.24.0)\n",
            "Requirement already satisfied: anyio<5,>=3.5.0 in /usr/local/lib/python3.12/dist-packages (from openai<2.0.0,>=1.99.9->langchain_openai) (4.10.0)\n",
            "Requirement already satisfied: distro<2,>=1.7.0 in /usr/local/lib/python3.12/dist-packages (from openai<2.0.0,>=1.99.9->langchain_openai) (1.9.0)\n",
            "Requirement already satisfied: jiter<1,>=0.4.0 in /usr/local/lib/python3.12/dist-packages (from openai<2.0.0,>=1.99.9->langchain_openai) (0.10.0)\n",
            "Requirement already satisfied: sniffio in /usr/local/lib/python3.12/dist-packages (from openai<2.0.0,>=1.99.9->langchain_openai) (1.3.1)\n",
            "Requirement already satisfied: tqdm>4 in /usr/local/lib/python3.12/dist-packages (from openai<2.0.0,>=1.99.9->langchain_openai) (4.67.1)\n",
            "Requirement already satisfied: python-dotenv>=0.21.0 in /usr/local/lib/python3.12/dist-packages (from pydantic-settings<3.0.0,>=2.4.0->langchain_community) (1.1.1)\n",
            "Requirement already satisfied: typing-inspection>=0.4.0 in /usr/local/lib/python3.12/dist-packages (from pydantic-settings<3.0.0,>=2.4.0->langchain_community) (0.4.1)\n",
            "Requirement already satisfied: charset_normalizer<4,>=2 in /usr/local/lib/python3.12/dist-packages (from requests<3,>=2->langchain_community) (3.4.3)\n",
            "Requirement already satisfied: idna<4,>=2.5 in /usr/local/lib/python3.12/dist-packages (from requests<3,>=2->langchain_community) (3.10)\n",
            "Requirement already satisfied: urllib3<3,>=1.21.1 in /usr/local/lib/python3.12/dist-packages (from requests<3,>=2->langchain_community) (2.5.0)\n",
            "Requirement already satisfied: certifi>=2017.4.17 in /usr/local/lib/python3.12/dist-packages (from requests<3,>=2->langchain_community) (2025.8.3)\n",
            "Requirement already satisfied: greenlet>=1 in /usr/local/lib/python3.12/dist-packages (from SQLAlchemy<3,>=1.4->langchain_community) (3.2.4)\n",
            "Requirement already satisfied: regex>=2022.1.18 in /usr/local/lib/python3.12/dist-packages (from tiktoken<1,>=0.7->langchain_openai) (2024.11.6)\n",
            "Requirement already satisfied: httpcore==1.* in /usr/local/lib/python3.12/dist-packages (from httpx<1,>=0.23.0->langsmith>=0.1.125->langchain_community) (1.0.9)\n",
            "Requirement already satisfied: h11>=0.16 in /usr/local/lib/python3.12/dist-packages (from httpcore==1.*->httpx<1,>=0.23.0->langsmith>=0.1.125->langchain_community) (0.16.0)\n",
            "Requirement already satisfied: jsonpointer>=1.9 in /usr/local/lib/python3.12/dist-packages (from jsonpatch<2.0,>=1.33->langchain-core<1.0.0,>=0.3.66->langchain_community) (3.0.0)\n",
            "Requirement already satisfied: annotated-types>=0.6.0 in /usr/local/lib/python3.12/dist-packages (from pydantic<3.0.0,>=2.7.4->langchain<1.0.0,>=0.3.26->langchain_community) (0.7.0)\n",
            "Requirement already satisfied: pydantic-core==2.33.2 in /usr/local/lib/python3.12/dist-packages (from pydantic<3.0.0,>=2.7.4->langchain<1.0.0,>=0.3.26->langchain_community) (2.33.2)\n",
            "Collecting mypy-extensions>=0.3.0 (from typing-inspect<1,>=0.4.0->dataclasses-json<0.7,>=0.5.7->langchain_community)\n",
            "  Downloading mypy_extensions-1.1.0-py3-none-any.whl.metadata (1.1 kB)\n",
            "Downloading langchain_community-0.3.27-py3-none-any.whl (2.5 MB)\n",
            "\u001b[2K   \u001b[90m━━━━━━━━━━━━━━━━━━━━━━━━━━━━━━━━━━━━━━━━\u001b[0m \u001b[32m2.5/2.5 MB\u001b[0m \u001b[31m30.4 MB/s\u001b[0m eta \u001b[36m0:00:00\u001b[0m\n",
            "\u001b[?25hDownloading langchain_openai-0.3.31-py3-none-any.whl (74 kB)\n",
            "\u001b[2K   \u001b[90m━━━━━━━━━━━━━━━━━━━━━━━━━━━━━━━━━━━━━━━━\u001b[0m \u001b[32m74.5/74.5 kB\u001b[0m \u001b[31m4.8 MB/s\u001b[0m eta \u001b[36m0:00:00\u001b[0m\n",
            "\u001b[?25hDownloading dataclasses_json-0.6.7-py3-none-any.whl (28 kB)\n",
            "Downloading marshmallow-3.26.1-py3-none-any.whl (50 kB)\n",
            "\u001b[2K   \u001b[90m━━━━━━━━━━━━━━━━━━━━━━━━━━━━━━━━━━━━━━━━\u001b[0m \u001b[32m50.9/50.9 kB\u001b[0m \u001b[31m4.2 MB/s\u001b[0m eta \u001b[36m0:00:00\u001b[0m\n",
            "\u001b[?25hDownloading typing_inspect-0.9.0-py3-none-any.whl (8.8 kB)\n",
            "Downloading mypy_extensions-1.1.0-py3-none-any.whl (5.0 kB)\n",
            "Installing collected packages: mypy-extensions, marshmallow, typing-inspect, dataclasses-json, langchain_openai, langchain_community\n",
            "Successfully installed dataclasses-json-0.6.7 langchain_community-0.3.27 langchain_openai-0.3.31 marshmallow-3.26.1 mypy-extensions-1.1.0 typing-inspect-0.9.0\n"
          ]
        }
      ],
      "source": [
        "\n",
        "pip install langchain_community langchain_openai"
      ]
    },
    {
      "cell_type": "code",
      "execution_count": 2,
      "metadata": {
        "id": "uwWxrtDUd0TC"
      },
      "outputs": [],
      "source": [
        "\n",
        "import os\n",
        "from langchain_openai import ChatOpenAI\n",
        "from langchain_core.prompts import PromptTemplate\n",
        "from langchain_core.runnables.history import RunnableWithMessageHistory\n",
        "from langchain_community.chat_message_histories import ChatMessageHistory\n",
        "from langchain_core.tracers.stdout import ConsoleCallbackHandler"
      ]
    },
    {
      "cell_type": "code",
      "execution_count": null,
      "metadata": {
        "id": "7pPeo-Znd3yf"
      },
      "outputs": [],
      "source": [
        "\n",
        "from dotenv import load_dotenv\n",
        "\n",
        "# load_dotenv()\n",
        "# OpenAI API 클라이언트 생성\n",
        "# API_KEY = os.getenv(\"OPENAI_API_KEY\")\n",
        "\n",
        "from google.colab import userdata\n",
        "api_key=userdata.get('api_key')\n",
        "os.environ[\"OPENAI_API_KEY\"] = api_key\n",
        "\n",
        "# 객체 생성\n",
        "llm = ChatOpenAI(\n",
        "    temperature=0.1,  # 창의성 (0.0 ~ 2.0)\n",
        "    max_tokens=2048,  # 최대 토큰수\n",
        "    model_name=\"gpt-4o\",  # 모델명\n",
        ")"
      ]
    },
    {
      "cell_type": "code",
      "execution_count": 4,
      "metadata": {
        "colab": {
          "base_uri": "https://localhost:8080/"
        },
        "id": "7RGwH3tjeCEg",
        "outputId": "44368aa5-750b-4759-a96e-d0920612c5f8"
      },
      "outputs": [
        {
          "name": "stdout",
          "output_type": "stream",
          "text": [
            "세종대왕(世宗大王)은 조선의 제4대 왕으로, 본명은 이도(李裪)입니다. 그는 1397년에 태어나 1418년부터 1450년까지 재위하였습니다. 세종대왕은 한국 역사상 가장 존경받는 군주 중 한 명으로, 그의 통치 기간 동안 많은 문화적, 과학적, 정치적 발전이 이루어졌습니다.\n",
            "\n",
            "세종대왕의 가장 큰 업적 중 하나는 한글의 창제입니다. 그는 백성들이 쉽게 읽고 쓸 수 있는 문자를 만들기 위해 훈민정음을 창제하였으며, 이는 오늘날 한국어의 근간이 되는 한글로 발전하였습니다. 이 외에도 세종대왕은 과학기술의 발전을 장려하여 측우기, 해시계 등의 발명을 지원하였고, 농업과 의학 분야에서도 많은 개혁을 추진하였습니다.\n",
            "\n",
            "또한, 세종대왕은 유교 이념을 바탕으로 한 통치 철학을 실현하고자 하였으며, 이를 통해 조선의 중앙 집권 체제를 강화하고 법과 제도를 정비하였습니다. 그의 통치는 조선의 황금기로 불리며, 이후 조선의 발전에 큰 기여를 하였습니다.\n"
          ]
        }
      ],
      "source": [
        "# 질의내용\n",
        "question = \"세종대왕이 누구인지 설명해주세요\"\n",
        "# 질의\n",
        "result = llm.invoke(question)\n",
        "print(result.content)"
      ]
    },
    {
      "cell_type": "code",
      "execution_count": 5,
      "metadata": {
        "colab": {
          "base_uri": "https://localhost:8080/"
        },
        "id": "E7wPW2BneEpW",
        "outputId": "8c1dd029-15ee-4504-e099-9d7a745ce9ba"
      },
      "outputs": [
        {
          "name": "stdout",
          "output_type": "stream",
          "text": [
            "input_variables=['who'] input_types={} partial_variables={} template='{who}가 누구인지 설명해주세요'\n"
          ]
        }
      ],
      "source": [
        "# 질문 템플릿 형식 정의\n",
        "template = \"{who}가 누구인지 설명해주세요\"\n",
        "\n",
        "# 템플릿 완성\n",
        "prompt = PromptTemplate(\n",
        "        template=template, input_variables=['who']\n",
        "    )\n",
        "print(prompt)"
      ]
    },
    {
      "cell_type": "code",
      "execution_count": 6,
      "metadata": {
        "colab": {
          "base_uri": "https://localhost:8080/"
        },
        "id": "7AiphGbNeGR0",
        "outputId": "76fb11df-2559-4e65-9cf8-70b712fe4325"
      },
      "outputs": [
        {
          "name": "stdout",
          "output_type": "stream",
          "text": [
            "오바마가 누구인지 설명해주세요\n"
          ]
        }
      ],
      "source": [
        "\n",
        "print(prompt.format(who=\"오바마\"))"
      ]
    },
    {
      "cell_type": "code",
      "execution_count": 7,
      "metadata": {
        "colab": {
          "base_uri": "https://localhost:8080/"
        },
        "id": "ckRY8d2EeIOf",
        "outputId": "6961d3d2-b9c5-40f4-eef9-bc95b8b67d66"
      },
      "outputs": [
        {
          "name": "stdout",
          "output_type": "stream",
          "text": [
            "이순신 장군은 조선 시대의 유명한 군인으로, 임진왜란 당시 조선 해군을 이끌며 큰 공을 세운 인물입니다. 1545년에 태어나 1598년에 전사한 그는, 특히 한산도 대첩, 명량 해전, 노량 해전 등 여러 해전에서 뛰어난 전략과 용맹함으로 일본군을 물리쳤습니다. 이순신은 그의 탁월한 리더십과 전술적 능력으로 인해 조선의 국난을 극복하는 데 중요한 역할을 했으며, 그의 업적은 오늘날까지도 한국에서 높이 평가받고 있습니다. 또한, 그는 거북선이라는 혁신적인 전함을 활용하여 해전에서 큰 승리를 거두기도 했습니다. 이순신 장군은 충무공이라는 시호를 받았으며, 그의 삶과 업적은 많은 역사적 기록과 문학 작품에서 다루어지고 있습니다.\n"
          ]
        }
      ],
      "source": [
        "# 연결된 체인 생성\n",
        "llm_chain = prompt | llm\n",
        "result = llm_chain.invoke({\"who\":\"이순신 장군\"})\n",
        "print(result.content)"
      ]
    },
    {
      "cell_type": "code",
      "execution_count": 8,
      "metadata": {
        "colab": {
          "base_uri": "https://localhost:8080/"
        },
        "id": "-0n6-8T6eKml",
        "outputId": "20bb01c6-0189-4ad9-ca34-0e9da647b790"
      },
      "outputs": [
        {
          "name": "stdout",
          "output_type": "stream",
          "text": [
            "\u001b[32;1m\u001b[1;3m[chain/start]\u001b[0m \u001b[1m[chain:RunnableSequence] Entering Chain run with input:\n",
            "\u001b[0m{\n",
            "  \"who\": \"이순신 장군\"\n",
            "}\n",
            "\u001b[32;1m\u001b[1;3m[chain/start]\u001b[0m \u001b[1m[chain:RunnableSequence > prompt:PromptTemplate] Entering Prompt run with input:\n",
            "\u001b[0m{\n",
            "  \"who\": \"이순신 장군\"\n",
            "}\n",
            "\u001b[36;1m\u001b[1;3m[chain/end]\u001b[0m \u001b[1m[chain:RunnableSequence > prompt:PromptTemplate] [0ms] Exiting Prompt run with output:\n",
            "\u001b[0m[outputs]\n",
            "\u001b[32;1m\u001b[1;3m[llm/start]\u001b[0m \u001b[1m[chain:RunnableSequence > llm:ChatOpenAI] Entering LLM run with input:\n",
            "\u001b[0m{\n",
            "  \"prompts\": [\n",
            "    \"Human: 이순신 장군가 누구인지 설명해주세요\"\n",
            "  ]\n",
            "}\n",
            "\u001b[36;1m\u001b[1;3m[llm/end]\u001b[0m \u001b[1m[chain:RunnableSequence > llm:ChatOpenAI] [6.05s] Exiting LLM run with output:\n",
            "\u001b[0m{\n",
            "  \"generations\": [\n",
            "    [\n",
            "      {\n",
            "        \"text\": \"이순신 장군은 조선 시대의 유명한 군인이자 해군 제독으로, 임진왜란(1592-1598) 동안 조선을 침략한 일본군에 맞서 싸운 영웅적인 인물입니다. 그는 1545년에 태어나 1598년에 전사하였습니다. 이순신은 특히 해전에서 뛰어난 전략과 전술을 발휘하여 여러 차례의 중요한 승리를 이끌어냈습니다.\\n\\n그의 가장 유명한 업적 중 하나는 한산도 대첩으로, 이 전투에서 이순신은 학익진이라는 전술을 사용하여 일본 해군을 크게 무찌르는 데 성공했습니다. 또한, 명량 해전에서는 열세한 병력으로도 일본군을 상대로 승리를 거두며 그의 지휘 능력을 다시 한번 입증했습니다.\\n\\n이순신은 그의 충성과 용맹, 그리고 뛰어난 전략적 능력으로 인해 오늘날까지도 한국에서 존경받는 인물로 남아 있으며, 그의 삶과 업적은 많은 역사적 연구와 문화적 작품의 주제가 되고 있습니다.\",\n",
            "        \"generation_info\": {\n",
            "          \"finish_reason\": \"stop\",\n",
            "          \"logprobs\": null\n",
            "        },\n",
            "        \"type\": \"ChatGeneration\",\n",
            "        \"message\": {\n",
            "          \"lc\": 1,\n",
            "          \"type\": \"constructor\",\n",
            "          \"id\": [\n",
            "            \"langchain\",\n",
            "            \"schema\",\n",
            "            \"messages\",\n",
            "            \"AIMessage\"\n",
            "          ],\n",
            "          \"kwargs\": {\n",
            "            \"content\": \"이순신 장군은 조선 시대의 유명한 군인이자 해군 제독으로, 임진왜란(1592-1598) 동안 조선을 침략한 일본군에 맞서 싸운 영웅적인 인물입니다. 그는 1545년에 태어나 1598년에 전사하였습니다. 이순신은 특히 해전에서 뛰어난 전략과 전술을 발휘하여 여러 차례의 중요한 승리를 이끌어냈습니다.\\n\\n그의 가장 유명한 업적 중 하나는 한산도 대첩으로, 이 전투에서 이순신은 학익진이라는 전술을 사용하여 일본 해군을 크게 무찌르는 데 성공했습니다. 또한, 명량 해전에서는 열세한 병력으로도 일본군을 상대로 승리를 거두며 그의 지휘 능력을 다시 한번 입증했습니다.\\n\\n이순신은 그의 충성과 용맹, 그리고 뛰어난 전략적 능력으로 인해 오늘날까지도 한국에서 존경받는 인물로 남아 있으며, 그의 삶과 업적은 많은 역사적 연구와 문화적 작품의 주제가 되고 있습니다.\",\n",
            "            \"additional_kwargs\": {\n",
            "              \"refusal\": null\n",
            "            },\n",
            "            \"response_metadata\": {\n",
            "              \"token_usage\": {\n",
            "                \"completion_tokens\": 239,\n",
            "                \"prompt_tokens\": 17,\n",
            "                \"total_tokens\": 256,\n",
            "                \"completion_tokens_details\": {\n",
            "                  \"accepted_prediction_tokens\": 0,\n",
            "                  \"audio_tokens\": 0,\n",
            "                  \"reasoning_tokens\": 0,\n",
            "                  \"rejected_prediction_tokens\": 0\n",
            "                },\n",
            "                \"prompt_tokens_details\": {\n",
            "                  \"audio_tokens\": 0,\n",
            "                  \"cached_tokens\": 0\n",
            "                }\n",
            "              },\n",
            "              \"model_name\": \"gpt-4o-2024-08-06\",\n",
            "              \"system_fingerprint\": \"fp_46bff0e0c8\",\n",
            "              \"id\": \"chatcmpl-C8d1sjRhgoxBaTKNiYOesv7HxrqtF\",\n",
            "              \"service_tier\": \"default\",\n",
            "              \"finish_reason\": \"stop\",\n",
            "              \"logprobs\": null\n",
            "            },\n",
            "            \"type\": \"ai\",\n",
            "            \"id\": \"run--c49075c0-c2ee-4fd7-976a-17d8e989d080-0\",\n",
            "            \"usage_metadata\": {\n",
            "              \"input_tokens\": 17,\n",
            "              \"output_tokens\": 239,\n",
            "              \"total_tokens\": 256,\n",
            "              \"input_token_details\": {\n",
            "                \"audio\": 0,\n",
            "                \"cache_read\": 0\n",
            "              },\n",
            "              \"output_token_details\": {\n",
            "                \"audio\": 0,\n",
            "                \"reasoning\": 0\n",
            "              }\n",
            "            },\n",
            "            \"tool_calls\": [],\n",
            "            \"invalid_tool_calls\": []\n",
            "          }\n",
            "        }\n",
            "      }\n",
            "    ]\n",
            "  ],\n",
            "  \"llm_output\": {\n",
            "    \"token_usage\": {\n",
            "      \"completion_tokens\": 239,\n",
            "      \"prompt_tokens\": 17,\n",
            "      \"total_tokens\": 256,\n",
            "      \"completion_tokens_details\": {\n",
            "        \"accepted_prediction_tokens\": 0,\n",
            "        \"audio_tokens\": 0,\n",
            "        \"reasoning_tokens\": 0,\n",
            "        \"rejected_prediction_tokens\": 0\n",
            "      },\n",
            "      \"prompt_tokens_details\": {\n",
            "        \"audio_tokens\": 0,\n",
            "        \"cached_tokens\": 0\n",
            "      }\n",
            "    },\n",
            "    \"model_name\": \"gpt-4o-2024-08-06\",\n",
            "    \"system_fingerprint\": \"fp_46bff0e0c8\",\n",
            "    \"id\": \"chatcmpl-C8d1sjRhgoxBaTKNiYOesv7HxrqtF\",\n",
            "    \"service_tier\": \"default\"\n",
            "  },\n",
            "  \"run\": null,\n",
            "  \"type\": \"LLMResult\"\n",
            "}\n",
            "\u001b[36;1m\u001b[1;3m[chain/end]\u001b[0m \u001b[1m[chain:RunnableSequence] [6.06s] Exiting Chain run with output:\n",
            "\u001b[0m[outputs]\n"
          ]
        }
      ],
      "source": [
        "\n",
        "result = llm_chain.invoke({\"who\":\"이순신 장군\"},\n",
        "                          config={\"callbacks\": [ConsoleCallbackHandler()]})"
      ]
    },
    {
      "cell_type": "code",
      "execution_count": 9,
      "metadata": {
        "id": "sRYSjRL4eMjw"
      },
      "outputs": [],
      "source": [
        "# 프롬프트 템플릿 생성\n",
        "template = \"\"\"아래는 사람과 AI의 친근한 대화입니다. AI의 이름은 위키독스봇입니다. 대화 문맥을 바탕으로 친절한 답변을 진행하세요.\n",
        "\n",
        "Current Conversation:\n",
        "{history}\n",
        "\n",
        "Human: {input}\n",
        "AI:\"\"\"\n",
        "\n",
        "prompt = PromptTemplate(\n",
        "        template=template, input_variables=['history', 'input']\n",
        "    )\n",
        "\n",
        "# llm 객체를 새로 선언하고, 프롬프트 템플릿과 llm 객체를 연결합니다.\n",
        "llm = ChatOpenAI(model_name=\"gpt-4o\")\n",
        "chain = prompt | llm"
      ]
    },
    {
      "cell_type": "code",
      "execution_count": 10,
      "metadata": {
        "id": "KrBQxq6PeN2z"
      },
      "outputs": [],
      "source": [
        "\n",
        "store = {}\n",
        "session_id = \"test\""
      ]
    },
    {
      "cell_type": "code",
      "execution_count": 11,
      "metadata": {
        "id": "Bxc_RS1iePHG"
      },
      "outputs": [],
      "source": [
        "\n",
        "if session_id not in store:\n",
        "    store[session_id] = ChatMessageHistory()\n",
        "session_history = store[session_id]"
      ]
    },
    {
      "cell_type": "code",
      "execution_count": 12,
      "metadata": {
        "id": "yGEGLhQleQUy"
      },
      "outputs": [],
      "source": [
        "with_message_history = RunnableWithMessageHistory(\n",
        "    chain,\n",
        "    lambda session_id: session_history,\n",
        "    input_messages_key=\"input\",\n",
        "    history_messages_key=\"history\"\n",
        ")"
      ]
    },
    {
      "cell_type": "code",
      "execution_count": 13,
      "metadata": {
        "colab": {
          "base_uri": "https://localhost:8080/"
        },
        "id": "ZuqV8KQKeRpO",
        "outputId": "1983faf7-4ed2-4ff3-e936-60f239d796cc"
      },
      "outputs": [
        {
          "name": "stdout",
          "output_type": "stream",
          "text": [
            "안녕하세요! 저는 OpenAI에서 만들어졌습니다. 저는 여러분에게 정보를 제공하고 대화를 나누기 위해 개발된 AI입니다. 궁금한 점이 있으면 언제든지 물어보세요!\n"
          ]
        }
      ],
      "source": [
        "\n",
        "result = with_message_history.invoke(\n",
        "    {\"input\": \"당신은 어디에서 만들었습니까?\"},\n",
        "    config={\"configurable\": {\"session_id\": \"test\"}},\n",
        ")\n",
        "print(result.content)"
      ]
    },
    {
      "cell_type": "code",
      "execution_count": 14,
      "metadata": {
        "colab": {
          "base_uri": "https://localhost:8080/"
        },
        "id": "RQutdUSyeTKh",
        "outputId": "6c66a158-f041-4a3d-970f-a2c2b50f650d"
      },
      "outputs": [
        {
          "name": "stdout",
          "output_type": "stream",
          "text": [
            "푸른 바다에 마음을 띄워,  \n",
            "끝없이 펼쳐진 파도 속에 꿈을 싣네.  \n",
            "잔잔한 물결의 노래에 귀기울이며,  \n",
            "바람과 함께 자유를 찾아 떠나네.  \n"
          ]
        }
      ],
      "source": [
        "\n",
        "result = with_message_history.invoke(\n",
        "    {\"input\": \"푸른 바다를 주제로 감성적이고 짧은 시를 하나 지어주세요\"},\n",
        "    config={\"configurable\": {\"session_id\": \"test\"}},\n",
        ")\n",
        "print(result.content)"
      ]
    },
    {
      "cell_type": "code",
      "execution_count": 15,
      "metadata": {
        "colab": {
          "base_uri": "https://localhost:8080/"
        },
        "id": "tT28KXXUeUXF",
        "outputId": "5cdb6c02-0536-44e8-edbc-f270259f7428"
      },
      "outputs": [
        {
          "name": "stdout",
          "output_type": "stream",
          "text": [
            "석양 속에 황금빛 물결이 일렁이고,  \n",
            "하늘은 붉은 빛으로 물들어 가네.  \n",
            "저 멀리 사라져가는 태양의 속삭임 속에,  \n",
            "하루의 끝자락에서 새로운 시작을 꿈꾸네.  \n"
          ]
        }
      ],
      "source": [
        "\n",
        "result = with_message_history.invoke(\n",
        "    {\"input\": \"석양을 주제로도 해줘\"},\n",
        "    config={\"configurable\": {\"session_id\": \"test\"}},\n",
        ")\n",
        "print(result.content)"
      ]
    },
    {
      "cell_type": "code",
      "execution_count": 16,
      "metadata": {
        "colab": {
          "base_uri": "https://localhost:8080/"
        },
        "id": "4lOjd0a-eVqu",
        "outputId": "cb55e74b-ba73-4c3d-8fe7-5d6344703beb"
      },
      "outputs": [
        {
          "name": "stdout",
          "output_type": "stream",
          "text": [
            "{'test': InMemoryChatMessageHistory(messages=[HumanMessage(content='당신은 어디에서 만들었습니까?', additional_kwargs={}, response_metadata={}), AIMessage(content='안녕하세요! 저는 OpenAI에서 만들어졌습니다. 저는 여러분에게 정보를 제공하고 대화를 나누기 위해 개발된 AI입니다. 궁금한 점이 있으면 언제든지 물어보세요!', additional_kwargs={'refusal': None}, response_metadata={'token_usage': {'completion_tokens': 43, 'prompt_tokens': 66, 'total_tokens': 109, 'completion_tokens_details': {'accepted_prediction_tokens': 0, 'audio_tokens': 0, 'reasoning_tokens': 0, 'rejected_prediction_tokens': 0}, 'prompt_tokens_details': {'audio_tokens': 0, 'cached_tokens': 0}}, 'model_name': 'gpt-4o-2024-08-06', 'system_fingerprint': 'fp_46bff0e0c8', 'id': 'chatcmpl-C8d1yehLyb9Pr1zuCS2yaXO9IS4Vl', 'service_tier': 'default', 'finish_reason': 'stop', 'logprobs': None}, id='run--bc7da4b1-16f5-44a0-8c47-d7b263787378-0', usage_metadata={'input_tokens': 66, 'output_tokens': 43, 'total_tokens': 109, 'input_token_details': {'audio': 0, 'cache_read': 0}, 'output_token_details': {'audio': 0, 'reasoning': 0}}), HumanMessage(content='푸른 바다를 주제로 감성적이고 짧은 시를 하나 지어주세요', additional_kwargs={}, response_metadata={}), AIMessage(content='푸른 바다에 마음을 띄워,  \\n끝없이 펼쳐진 파도 속에 꿈을 싣네.  \\n잔잔한 물결의 노래에 귀기울이며,  \\n바람과 함께 자유를 찾아 떠나네.  ', additional_kwargs={'refusal': None}, response_metadata={'token_usage': {'completion_tokens': 55, 'prompt_tokens': 414, 'total_tokens': 469, 'completion_tokens_details': {'accepted_prediction_tokens': 0, 'audio_tokens': 0, 'reasoning_tokens': 0, 'rejected_prediction_tokens': 0}, 'prompt_tokens_details': {'audio_tokens': 0, 'cached_tokens': 0}}, 'model_name': 'gpt-4o-2024-08-06', 'system_fingerprint': 'fp_df0f7b956c', 'id': 'chatcmpl-C8d1zBkJujWhQ0u3MuBSx9R1AidLj', 'service_tier': 'default', 'finish_reason': 'stop', 'logprobs': None}, id='run--bbe79d8c-8962-43a1-9b31-4ade666a06c0-0', usage_metadata={'input_tokens': 414, 'output_tokens': 55, 'total_tokens': 469, 'input_token_details': {'audio': 0, 'cache_read': 0}, 'output_token_details': {'audio': 0, 'reasoning': 0}}), HumanMessage(content='석양을 주제로도 해줘', additional_kwargs={}, response_metadata={}), AIMessage(content='석양 속에 황금빛 물결이 일렁이고,  \\n하늘은 붉은 빛으로 물들어 가네.  \\n저 멀리 사라져가는 태양의 속삭임 속에,  \\n하루의 끝자락에서 새로운 시작을 꿈꾸네.  ', additional_kwargs={'refusal': None}, response_metadata={'token_usage': {'completion_tokens': 65, 'prompt_tokens': 766, 'total_tokens': 831, 'completion_tokens_details': {'accepted_prediction_tokens': 0, 'audio_tokens': 0, 'reasoning_tokens': 0, 'rejected_prediction_tokens': 0}, 'prompt_tokens_details': {'audio_tokens': 0, 'cached_tokens': 0}}, 'model_name': 'gpt-4o-2024-08-06', 'system_fingerprint': 'fp_df0f7b956c', 'id': 'chatcmpl-C8d20zj9rL2MmwIQbFm28onwP1HVh', 'service_tier': 'default', 'finish_reason': 'stop', 'logprobs': None}, id='run--64b793ba-07fa-4e1a-9974-d28eb6dff3e3-0', usage_metadata={'input_tokens': 766, 'output_tokens': 65, 'total_tokens': 831, 'input_token_details': {'audio': 0, 'cache_read': 0}, 'output_token_details': {'audio': 0, 'reasoning': 0}})])}\n"
          ]
        }
      ],
      "source": [
        "\n",
        "print(store)"
      ]
    }
  ],
  "metadata": {
    "colab": {
      "provenance": []
    },
    "kernelspec": {
      "display_name": "Python 3",
      "name": "python3"
    },
    "language_info": {
      "name": "python"
    }
  },
  "nbformat": 4,
  "nbformat_minor": 0
}
