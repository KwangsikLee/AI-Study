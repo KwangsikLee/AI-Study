{
 "cells": [
  {
   "cell_type": "code",
   "execution_count": 2,
   "metadata": {
    "colab": {
     "base_uri": "https://localhost:8080/"
    },
    "id": "Hue4QrMJgFwx",
    "outputId": "f4a7377e-63ee-461a-8302-faee053a5f4a"
   },
   "outputs": [],
   "source": [
    "\n",
    "#!pip install langchain_openai langchain_community pypdf chromadb"
   ]
  },
  {
   "cell_type": "code",
   "execution_count": 3,
   "metadata": {
    "id": "fkW9oSqLgJbc"
   },
   "outputs": [],
   "source": [
    "\n",
    "import os\n",
    "from langchain_openai import ChatOpenAI\n",
    "from langchain.prompts import PromptTemplate\n",
    "from langchain.vectorstores import Chroma\n",
    "from langchain.embeddings import OpenAIEmbeddings\n",
    "from langchain.chains import RetrievalQA\n",
    "from langchain.document_loaders import PyPDFLoader\n",
    "import urllib.request\n",
    "import gradio as gr"
   ]
  },
  {
   "cell_type": "markdown",
   "metadata": {},
   "source": []
  },
  {
   "cell_type": "code",
   "execution_count": 4,
   "metadata": {
    "id": "ALckopNugL2-"
   },
   "outputs": [],
   "source": [
    "# OpenAI API 키 설정 (본인의 API 키로 변경)\n",
    "from dotenv import load_dotenv\n",
    "\n",
    "load_dotenv()\n",
    "# OpenAI API 클라이언트 생성\n",
    "API_KEY = os.getenv(\"OPENAI_API_KEY\")\n",
    "\n",
    "# from google.colab import userdata\n",
    "# api_key=userdata.get('api_key')\n",
    "# os.environ[\"OPENAI_API_KEY\"] = api_key\n"
   ]
  },
  {
   "cell_type": "code",
   "execution_count": 5,
   "metadata": {
    "colab": {
     "base_uri": "https://localhost:8080/"
    },
    "id": "vWfXg-whgNoR",
    "outputId": "3cd5d5c0-2069-459e-ebe9-f3557f2ad35a"
   },
   "outputs": [
    {
     "data": {
      "text/plain": [
       "('2020_경제금융용어 700선_게시.pdf', <http.client.HTTPMessage at 0x1156b8b50>)"
      ]
     },
     "execution_count": 5,
     "metadata": {},
     "output_type": "execute_result"
    }
   ],
   "source": [
    "urllib.request.urlretrieve(\"https://github.com/chatgpt-kr/openai-api-tutorial/raw/main/ch07/2020_%EA%B2%BD%EC%A0%9C%EA%B8%88%EC%9C%B5%EC%9A%A9%EC%96%B4%20700%EC%84%A0_%EA%B2%8C%EC%8B%9C.pdf\", filename=\"2020_경제금융용어 700선_게시.pdf\")\n"
   ]
  },
  {
   "cell_type": "code",
   "execution_count": 61,
   "metadata": {
    "colab": {
     "base_uri": "https://localhost:8080/"
    },
    "id": "fVGsIAVTgQrY",
    "outputId": "d6d62688-d851-4e44-aa1d-63105bd1f4fd"
   },
   "outputs": [
    {
     "name": "stdout",
     "output_type": "stream",
     "text": [
      "문서의 수 : 366\n"
     ]
    }
   ],
   "source": [
    "\n",
    "loader = PyPDFLoader(\"2020_경제금융용어 700선_게시.pdf\")\n",
    "texts = loader.load_and_split()\n",
    "print('문서의 수 :', len(texts))"
   ]
  },
  {
   "cell_type": "code",
   "execution_count": 62,
   "metadata": {
    "colab": {
     "base_uri": "https://localhost:8080/"
    },
    "id": "dOoVRUETglxT",
    "outputId": "60a127e6-95c6-4f06-c9e1-760c9b42af56"
   },
   "outputs": [
    {
     "name": "stdout",
     "output_type": "stream",
     "text": [
      "첫번째 청크 출력 : page_content='iii\n",
      "찾아보기\n",
      "한국은행은 국민들이 경제 및 금융에 대한 이해도를 높이고 경제에 관한 합리적인 \n",
      "의사결정 능력을 키울 수 있도록 현장 경제교육, 온라인 경제교육, 경제교육 콘텐츠 \n",
      "개발 등 대국민 경제교육을 다양하게 수행해 오고 있습니다 . \n",
      "이의 일환으로 2018년 \n",
      " 경제금융용어 700선\n",
      " 을 발간하였는데 그간 동 책자에 대한 \n",
      "수요가 꾸준히 늘어남에 따라 이번에 추가로 발간하게 되었습니다 .\n",
      "지난번 내용과 같이 통화정책, 실물경제, 금융안정, 지급결제 등 한국은행 주요 \n",
      "업무를 이해하는데 필요한 전문 용어와 경제·금융 흐름을 이해하는데 도움이 되는 \n",
      "시사 경제금융 용어들을 수록하였습니다. 용어해설은 개념과 도입 배경, 의미, 적용 \n",
      "사례 등을 담아 쉽게 이해할 수 있도록 하였습니다. 또한 e-book으로도 제작하여 \n",
      "독자들의 편의성과 가독성을 높였습니다 . \n",
      "코로나 19로 이전에 경험하지 못한 경제위기를 겪으면서 경제·금융 현상에 대한 \n",
      "일반인들의 관심도가 이전에 비해 높아졌습니다. 아무쪼록 이 책자가 한국은행의 주요 \n",
      "정책과 국내외 경제를 이해하는 데 조금이나마 도움이 되기를 바라겠습니다. 끝으로 \n",
      "경제금융용어 700선\n",
      "  집필에 참여해주신 경제교육실 교수님들과 용어 집필에 좋은 \n",
      "의견을 주신 관련부서 여러분께 감사드립니다 .\n",
      "2020년 8월\n",
      "한국은행 경제교육실장 박 철 원\n",
      "머 리 말' metadata={'producer': 'Smart PDF Imposition 1.0', 'creator': 'Smart PDF Imposition 1.0', 'creationdate': 'January 31, 2018 16:21', 'author': 'INSUNG DATA INC.', 'creationdate--text': 'January 31, 2018 16:21', 'moddate': 'January 31, 2018 16:21', 'moddate--text': 'January 31, 2018 16:21', 'subject': 'CoreImposition PDF 1.0 Output', 'title': '°æÁ¦±ÝÀ¶¿ë¾î 700¼±-ÃÖÁ¾.PDF', 'source': '2020_경제금융용어 700선_게시.pdf', 'total_pages': 371, 'page': 3, 'page_label': '4'}\n",
      "마지막 청크 출력 : page_content='경제금융용어 700선\n",
      "발행인 이주열\n",
      "편집인 박철원\n",
      "발행처 한국은행(www.bok.or.kr)\n",
      "서울특별시 중구 세종대로 67(태평로 2가)\n",
      "발행일 2020년 8월 3일\n",
      "인  쇄 ㈜제일프린테크 \n",
      " 본 자료는 한국은행 홈페이지(http://www.bok.or.kr>경제교육>온라인학습>일반인) 에서 \n",
      "다운로드 받으실 수 있습니다.\n",
      " 이 책자에 대한 문의는 한국은행 경제교육실 경제교육기획팀(02-759-5618)으로 연락 \n",
      "하여 주시기 바랍니다.\n",
      " \n",
      " 경제금융용어 700선\n",
      " 은 \n",
      "① 정부간행물판매센터(☎ 02-734-6818, http://www.gpcbooks.co.kr) \n",
      "② 한국경제서적(☎ 02-737-7498)\n",
      "③ 경제서적(☎ 02-736-0640, http://kj-book.co.kr) 또는 주요 서점 등에서 매권당 \n",
      "8,000원에 판매하고 있습니다.\n",
      "ISBN 979-11-5538-393-3 03320' metadata={'producer': 'Smart PDF Imposition 1.0', 'creator': 'Smart PDF Imposition 1.0', 'creationdate': 'January 31, 2018 16:21', 'author': 'INSUNG DATA INC.', 'creationdate--text': 'January 31, 2018 16:21', 'moddate': 'January 31, 2018 16:21', 'moddate--text': 'January 31, 2018 16:21', 'subject': 'CoreImposition PDF 1.0 Output', 'title': '°æÁ¦±ÝÀ¶¿ë¾î 700¼±-ÃÖÁ¾.PDF', 'source': '2020_경제금융용어 700선_게시.pdf', 'total_pages': 371, 'page': 369, 'page_label': '370'}\n",
      "마지막에서 두번째 청크 출력 : page_content='352\n",
      "경제금융용어 700선\n",
      "와 관련된 다양한 부수업무를 하는 회사를 말한다. 가령 신용카드 거래가 발생하면 \n",
      "VAN사업자는 거래 승인을 위해 신용카드사에 거래내역을 전송하고 승인 및 조회결과를 \n",
      "수신한 후 이를 가맹점에 전송한다. 또한 VAN사업자는 가맹점이 신용카드사에 전표를 \n",
      "제출하여 대금을 청구하는 업무를 대신하기 위하여 가맹점을 방문하여 전표실물을 수거\n",
      "하거나 전표 데이터를 수집한다 . \n",
      " 연관검색어 : 지급결제시스템, 전자금융\n",
      "VaR(Value at Risk) \n",
      "주어진 신뢰수준 하에서 일정 기간 동안 발생할 수 있는 ‘최대 손실금액’으로 금융기관\n",
      "의 잠재적인 손실을 측정하는 지표이다. 예를 들어 목표기간 1년, 신뢰수준 95% 에서 \n",
      "산출된 VaR가 10억 원이라면 이는 1년 동안 발생할 수 있는 손실금액이 10억 원보다 \n",
      "작을 확률이 95%라는 것을 의미한다 . \n",
      " 연관검색어 : 예상손실\n",
      "VIX\n",
      "미국 주식시장의 단기 변동성에 대한 시장의 기대치를 나타내는 지수로 시카고옵션거\n",
      "래소(CBOE)에서 제공되며, 정식명칭은 CBOE Volatility Index이다. VIX는 향후 30 일 \n",
      "동안의 S&P 500 지수의 변동성에 대한 시장의 기대치로서, 지수의 변동성이 클 것으로 \n",
      "예상될 경우 옵션가격이 높아지는 점에 착안하여 CBOE에 상장된 다양한 행사가격의 \n",
      "S&P 500 지수 옵션들의 가격을 활용하여 산출된다. VIX는 일반적으로 기초자산 가격과 \n",
      "음(-)의 상관관계가 있다. 예를 들어 주가지수가 상승할 때 하락하고 주가지수가 하락할 \n",
      "때는 상승한다. 이에 따라 VIX의 상승은 투자자들의 불안심리가 증대하는 것을 의미하므\n",
      "로 공포지수라고도 부른다. 1993년 Robert E. Whaley 교수의 논문에서 처음 소개된 \n",
      "이후 시장의 변동성과 투자자들의 심리를 나타내주는 주요한 지표로 널리 활용되고 \n",
      "있다. 이 외의 대표적인 주식시장 변동성 지수로는 유럽의 VSTOXX 등이 있다. VSTOXX\n",
      "는 유럽의 대표 주가지수인 Euro STOXX의 변동성 지수로 Euro STOXX 50 지수 옵션가격\n",
      "으로부터 산출되며 Euro Exchange에서 편제･발표한다. 우리나라도 KOSPI 200 지수의 \n",
      "변동성지수인 VKOSPI가 2009년 도입되었다.' metadata={'producer': 'Smart PDF Imposition 1.0', 'creator': 'Smart PDF Imposition 1.0', 'creationdate': 'January 31, 2018 16:21', 'author': 'INSUNG DATA INC.', 'creationdate--text': 'January 31, 2018 16:21', 'moddate': 'January 31, 2018 16:21', 'moddate--text': 'January 31, 2018 16:21', 'subject': 'CoreImposition PDF 1.0 Output', 'title': '°æÁ¦±ÝÀ¶¿ë¾î 700¼±-ÃÖÁ¾.PDF', 'source': '2020_경제금융용어 700선_게시.pdf', 'total_pages': 371, 'page': 368, 'page_label': '369'}\n",
      "마지막 데이터 제거 후 청크의 개수: 365\n"
     ]
    }
   ],
   "source": [
    "print('첫번째 청크 출력 :', texts[0])\n",
    "print('마지막 청크 출력 :', texts[-1])\n",
    "print('마지막에서 두번째 청크 출력 :', texts[-2])\n",
    "texts = texts[:-1]\n",
    "print('마지막 데이터 제거 후 청크의 개수:', len(texts))"
   ]
  },
  {
   "cell_type": "code",
   "execution_count": 63,
   "metadata": {
    "colab": {
     "base_uri": "https://localhost:8080/"
    },
    "id": "TSNB6Pf0gq18",
    "outputId": "c9820468-78e5-4f55-8b4a-de3861b1ccf0"
   },
   "outputs": [],
   "source": [
    "# model =text-embedding-ada-002 --> 구형모델\n",
    "\n",
    "embedding = OpenAIEmbeddings(chunk_size=100)\n",
    "\n",
    "\n",
    "# # 소형 (저비용, 속도 빠름)\n",
    "# emb_small = OpenAIEmbeddings(model=\"text-embedding-3-small\", chunk_size=100)\n",
    "# # 대형 (더 정밀)\n",
    "# # emb_large = OpenAIEmbeddings(model=\"text-embedding-3-large\")\n",
    "# embedding = emb_small\n",
    "\n",
    "vectordb = Chroma.from_documents(\n",
    "    documents=texts,\n",
    "    embedding=embedding)"
   ]
  },
  {
   "cell_type": "code",
   "execution_count": 64,
   "metadata": {
    "colab": {
     "base_uri": "https://localhost:8080/"
    },
    "id": "F9_6jKJQgsL3",
    "outputId": "ee081c6e-7652-44f1-aed5-cb00fcf1a734"
   },
   "outputs": [
    {
     "name": "stdout",
     "output_type": "stream",
     "text": [
      "717\n"
     ]
    }
   ],
   "source": [
    "print(vectordb._collection.count())"
   ]
  },
  {
   "cell_type": "code",
   "execution_count": 35,
   "metadata": {
    "colab": {
     "base_uri": "https://localhost:8080/"
    },
    "id": "FudsWZ6RguFp",
    "outputId": "f91a3f51-5b12-4f57-a8ef-8f5664aa7dc6"
   },
   "outputs": [
    {
     "name": "stdout",
     "output_type": "stream",
     "text": [
      "ids\n",
      "embeddings\n",
      "documents\n",
      "uris\n",
      "included\n",
      "data\n",
      "metadatas\n"
     ]
    }
   ],
   "source": [
    "\n",
    "for key in vectordb._collection.get():\n",
    "  print(key)"
   ]
  },
  {
   "cell_type": "code",
   "execution_count": 65,
   "metadata": {
    "colab": {
     "base_uri": "https://localhost:8080/"
    },
    "id": "aykV7vhygvUo",
    "outputId": "9a5c82f5-c233-4e5a-82da-716eca752f43"
   },
   "outputs": [
    {
     "name": "stdout",
     "output_type": "stream",
     "text": [
      "청크의 개수 : 717\n",
      "--------------------------------------------------\n",
      "0번 청크 출력 : 1\n",
      "ㄱ \n",
      "ㄱ\n",
      "가계부실위험지수(HDRI)\n",
      "가구의 소득 흐름은 물론 금융 및 실물 자산까지 종합적으로 고려하여 가계부채의 \n",
      "부실위험을 평가하는 지표로, 가계의 채무상환능력을 소득 측면에서 평가하는 원리금상\n",
      "환비율(DSR; Debt Service Ratio)과 자산 측면에서 평가하는 부채/자산비율(DTA; Debt \n",
      "To Asset Ratio)을 결합하여 산출한 지수이다. 가계부실위험지수는 가구의 DSR과 DTA가 \n",
      "각각 40%, 100%일 때 100의 값을 갖도록 설정되어 있으며, 동 지수가 100을 초과하는 \n",
      "가구를 ‘위험가구’로 분류한다. 위험가구는 소득 및 자산 측면에서 모두 취약한 ‘고위험가구’, \n",
      "자산 측면에서 취약한 ‘고DTA가구’, 소득 측면에서 취약한 ‘고DSR가구’로 구분할 수 있다. \n",
      "다만 위험 및 고위험 가구는 가구의 채무상환능력 취약성 정도를 평가하기 위한 것이며 \n",
      "이들 가구가 당장 채무상환 불이행, 즉 임계상황에 직면한 것을 의미하지 않는다 .\n",
      " 연관검색어 : 총부채원리금상환비율(DSR)\n",
      "가계수지\n",
      "가정에서 일정 기간의 수입(명목소득)과 지출을 비교해서 남았는지 모자랐는지를 \n",
      "표시한 것을 가계수지(household's total income and expenditure)라 한다. 가계수지가 \n",
      "가계수지 ∙\n"
     ]
    }
   ],
   "source": [
    "\n",
    "documents = vectordb._collection.get()['documents']\n",
    "print('청크의 개수 :', len(documents))\n",
    "print('-' * 50)\n",
    "print('0번 청크 출력 :', documents[0])"
   ]
  },
  {
   "cell_type": "code",
   "execution_count": 66,
   "metadata": {
    "colab": {
     "base_uri": "https://localhost:8080/"
    },
    "id": "e9M2vJEegwie",
    "outputId": "e3c9a443-b390-46ae-c95c-c1142e2de6a7"
   },
   "outputs": [
    {
     "name": "stdout",
     "output_type": "stream",
     "text": [
      "임베딩 벡터의 개수 : 717\n"
     ]
    }
   ],
   "source": [
    "embeddings = vectordb._collection.get(include=['embeddings'])['embeddings']\n",
    "print('임베딩 벡터의 개수 :', len(embeddings))"
   ]
  },
  {
   "cell_type": "code",
   "execution_count": 67,
   "metadata": {
    "colab": {
     "base_uri": "https://localhost:8080/"
    },
    "id": "ZXrG2qtegx2Q",
    "outputId": "1c397e1d-2475-4450-c218-5a01271fa86b"
   },
   "outputs": [
    {
     "name": "stdout",
     "output_type": "stream",
     "text": [
      "0번 청크의 임베딩 값 출력 : [0.02719978 0.02220346 0.04836953 ... 0.00474058 0.05228905 0.01140323]\n",
      "0번 청크의 임베딩 값의 길이 : 1536\n"
     ]
    }
   ],
   "source": [
    "\n",
    "print('0번 청크의 임베딩 값 출력 :', embeddings[0])\n",
    "print('0번 청크의 임베딩 값의 길이 :', len(embeddings[0]))"
   ]
  },
  {
   "cell_type": "code",
   "execution_count": 68,
   "metadata": {
    "colab": {
     "base_uri": "https://localhost:8080/"
    },
    "id": "zF17EDfzgzBK",
    "outputId": "54bf2e2d-8447-4064-cb00-6f7d67eac89a"
   },
   "outputs": [
    {
     "name": "stdout",
     "output_type": "stream",
     "text": [
      "metadatas의 개수 : 717\n",
      "0번 청크의 출처 : {'total_pages': 371, 'source': '2020_경제금융용어 700선_게시.pdf', 'moddate': 'January 31, 2018 16:21', 'page': 17, 'page_label': '18', 'title': '°æÁ¦±ÝÀ¶¿ë¾î 700¼±-ÃÖÁ¾.PDF', 'producer': 'Smart PDF Imposition 1.0', 'creationdate': 'January 31, 2018 16:21', 'subject': 'CoreImposition PDF 1.0 Output', 'author': 'INSUNG DATA INC.', 'moddate--text': 'January 31, 2018 16:21', 'creator': 'Smart PDF Imposition 1.0', 'creationdate--text': 'January 31, 2018 16:21'}\n"
     ]
    }
   ],
   "source": [
    "metadatas = vectordb._collection.get()['metadatas']\n",
    "print('metadatas의 개수 :', len(metadatas))\n",
    "print('0번 청크의 출처 :', metadatas[0])"
   ]
  },
  {
   "cell_type": "code",
   "execution_count": 69,
   "metadata": {
    "colab": {
     "base_uri": "https://localhost:8080/"
    },
    "id": "tQEcEFQxg0eH",
    "outputId": "c01daa0b-f131-4cb6-bf4f-ca6ba390b513"
   },
   "outputs": [
    {
     "name": "stdout",
     "output_type": "stream",
     "text": [
      "유사 문서 개수 : 2\n",
      "----------------------------------------\n",
      "첫번째 유사 문서 : page_content='72\n",
      "경제금융용어 700선\n",
      "기축통화\n",
      "기축통화란 여러 국가의 암묵적인 동의하에 국제거래에서 중심적인 역할을 하는 \n",
      "통화를 지칭한다. 구체적으로는 ① 국제무역결제에 사용되는 통화 ② 환율 평가 시의 \n",
      "지표가 되는 통화 ③ 대외준비자산으로 보유되는 통화 등의 의미를 포함한다. 그러므로 \n",
      "어떤 나라의 통화가 기축통화가 되기 위해서는 세계적으로 원활히 유통될 수 있도록 \n",
      "유동성이 풍부하여야 하고 거래당사자들이 믿고 사용할 수 있도록 신뢰성을 갖추어야 \n",
      "하며, 국제적으로 경제력은 물론 정치력･군사력까지 인정받는 국가의 통화여야 한다. \n",
      "20세기 초반까지는 세계 금융경제의 중심이었던 영국의 파운드화가 기축통화로서 국제\n",
      "거래에 주로 이용되었으며, 2차 세계대전 이후에는 전 세계 외환거래 및 외환보유액의 \n",
      "상당 부분을 차지하는 미국 달러화가 기축통화로 인정받고 있다. 한편, 현재 국제거래에\n",
      "서 비교적 자주 사용되는 통화로는 미국 달러화이외에도 유로화, 영국 파운드화, 일본 \n",
      "엔화, 스위스 프랑화 등이 있는데 이들은 흔히 교환성통화라 한다 . \n",
      " 연관검색어 : 교환성 통화\n",
      "기타기본자본(Additional Tier 1)\n",
      "기타기본자본(AT1; Additional Tier 1)은 요건을 충족하는 기타기본자본증권 및 이와 \n",
      "관련된 자본잉여금, 자회사가 발행한 기타기본자본증권의 제3자 보유분 중 일부 금액 \n",
      "등으로 구성된다. 기타기본자본증권으로 인정받기 위해서는 예금자, 일반채권자 및 \n",
      "후순위채권보다 후순위, 영구적, 배당 및 이자지급의 임의성, 중도상환 유인이 없을 \n",
      "것 등 총 14개 요건을 충족해야 한다 .\n",
      "기펜재\n",
      "일반적으로 재화는 수요의 법칙에 따라 가격이 하락하면 수요량이 늘어난다. 그러나 \n",
      "예외적으로 재화의 가격이 하락할 때 수요량이 감소하는 현상을 관찰할 수 있다. 이렇게 \n",
      "가격이 하락할 경우 수요의 법칙에 위배되는 재화를 이를 처음 관찰한 학자의 이름을 \n",
      "따서 기펜재라고 부른다. 기펜재는 열등재의 일종이다. 즉 소득이 증가함에 따라 수요가 \n",
      "감소하는 재화를 열등재라 하는데, 열등재 중에서도 열등성이 매우 커서 소득효과가' metadata={'page_label': '89', 'moddate--text': 'January 31, 2018 16:21', 'source': '2020_경제금융용어 700선_게시.pdf', 'producer': 'Smart PDF Imposition 1.0', 'page': 88, 'creator': 'Smart PDF Imposition 1.0', 'creationdate--text': 'January 31, 2018 16:21', 'title': '°æÁ¦±ÝÀ¶¿ë¾î 700¼±-ÃÖÁ¾.PDF', 'moddate': 'January 31, 2018 16:21', 'author': 'INSUNG DATA INC.', 'total_pages': 371, 'creationdate': 'January 31, 2018 16:21', 'subject': 'CoreImposition PDF 1.0 Output'}\n",
      "두번째 유사 문서 : page_content='237\n",
      "ㅈ \n",
      "자유재\n",
      "희소성이 높지 않고 아무런 대가를 치르지 않아도 무상으로 얻을 수 있는 재화를 \n",
      "말한다. 이는 희소성을 가지며 경제적 거래를 통해 얻을 수 있는 경제재 (economic \n",
      "goods)의 반대 개념이다. 자유재(free goods)는 대가를 치르지 않고서도 얼마든지 원하\n",
      "는 만큼 얻을 수 있기 때문에 경제문제를 일으키지 않으며 희소성의 원칙도 적용되지 \n",
      "않는다. 현실세계에서 자유재는 매우 드물다. 공기, 물, 햇빛 등이 전통적으로 자유재로 \n",
      "고려되었으나 양질의 생수를 높은 비용으로 구매하고, 맑은 공기를 마시기 위하여 휴양림\n",
      "을 찾아가는 등 기존에 자유재로 고려되던 재화들이 상황 변화에 따라 경제재로 변하기도 \n",
      "한다. 일반적으로 재화라고 하면 경제재를 의미하며 통상 경제학은 경제재를 분석대상으\n",
      "로 한다 . \n",
      " 연관검색어 : 기펜재\n",
      "작업증명\n",
      "작업증명(proof-of-work)은 제3자로부터의 서비스 요청(request)이 악의적인 공격\n",
      "(spam 또는 DoS, Denial of Service)이 아님을 증명하기 위해서, 자원이 소모되는 작업을 \n",
      "추가로 수행할 것을 요구하는 것을 의미한다. 대표적인 작업증명으로는 웹사이트 로그인\n",
      "시 특정한 문자 및 그림을 읽고 입력할 것을 요구하는 캡차를 들 수 있다. 작업증명의 \n",
      "특징은 비대칭성인데, 서비스 요청자가 수행하는 데는 어느 정도 자원이 소모되지만 \n",
      "이를 확인하기는 매우 쉬워야 한다. 작업증명은 가상통화인 비트코인 ･이더리움 등을 \n",
      "채굴하는 합의 과정에 활용되고 있다 .\n",
      " 연관검색어 : 비트코인 \n",
      "잠상\n",
      "은행권 위조방지를 위한 장치의 하나로 인쇄된 글자나 문양이 보통상태에서는 잘 \n",
      "보이지 않으나 보는 각도나 빛의 방향에 따라 보이는 장치를 말한다. 잠상(latent image)\n",
      "은 정면에서 볼 때는 보이지 않지만 은행권을 비스듬히 기울여 비춰봤을 때 숨겨놓은 \n",
      "문자나 문양이 나타나는 요판 인쇄기술의 하나다. 위조를 위해 복사를 해도 숨겨진 \n",
      "잠상 ∙' metadata={'creationdate--text': 'January 31, 2018 16:21', 'creationdate': 'January 31, 2018 16:21', 'subject': 'CoreImposition PDF 1.0 Output', 'producer': 'Smart PDF Imposition 1.0', 'page_label': '254', 'title': '°æÁ¦±ÝÀ¶¿ë¾î 700¼±-ÃÖÁ¾.PDF', 'total_pages': 371, 'moddate--text': 'January 31, 2018 16:21', 'author': 'INSUNG DATA INC.', 'page': 253, 'source': '2020_경제금융용어 700선_게시.pdf', 'moddate': 'January 31, 2018 16:21', 'creator': 'Smart PDF Imposition 1.0'}\n"
     ]
    }
   ],
   "source": [
    "retriever = vectordb.as_retriever(search_kwargs={\"k\": 2})\n",
    "\n",
    "docs = retriever.get_relevant_documents(\"가상통화 궁금해\")\n",
    "print('유사 문서 개수 :', len(docs))\n",
    "print('--' * 20)\n",
    "print('첫번째 유사 문서 :', docs[0])\n",
    "print('두번째 유사 문서 :', docs[1])"
   ]
  },
  {
   "cell_type": "code",
   "execution_count": 70,
   "metadata": {
    "id": "CsQQeBUJg26a"
   },
   "outputs": [],
   "source": [
    "\n",
    "template = \"\"\"당신은 한국은행에서 만든 금융 용어를 설명해주는 금융해설자입니다.\n",
    "주어진 검색 결과를 바탕으로 답변하세요.\n",
    "검색 결과에 없는 내용이라면 답변할 수 없다고 하세요. 반말로 친근하게 답변하세요.\n",
    "{context}\n",
    "\n",
    "Question: {question}\n",
    "Answer:\n",
    "\"\"\"\n",
    "\n",
    "prompt = PromptTemplate.from_template(template)"
   ]
  },
  {
   "cell_type": "code",
   "execution_count": 71,
   "metadata": {
    "id": "RsjSVEsfg9Xc"
   },
   "outputs": [],
   "source": [
    "llm = ChatOpenAI(model_name=\"gpt-4o\", temperature=0)"
   ]
  },
  {
   "cell_type": "markdown",
   "metadata": {},
   "source": []
  },
  {
   "cell_type": "code",
   "execution_count": null,
   "metadata": {},
   "outputs": [],
   "source": [
    "# ============================\n",
    "# 5. Ensemble Retriever (BM25+FAISS)\n",
    "# ============================\n",
    "from langchain_community.retrievers import BM25Retriever\n",
    "from langchain.retrievers import EnsembleRetriever # Corrected import\n",
    "\n",
    "vector_retriever = vectordb.as_retriever(search_kwargs={\"k\": 30})\n",
    "\n",
    "bm25 = BM25Retriever.from_documents(texts)\n",
    "bm25.k = 30\n",
    "\n",
    "ensemble_retriever = EnsembleRetriever(retrievers=[bm25, vector_retriever], weights=[0.4, 0.6])\n",
    "\n",
    "docs = ensemble_retriever.invoke(\"인플레이션이 무엇인가요?\")\n",
    "print(\"\\n🔹 Ensemble Retriever 결과:\")\n",
    "for d in docs:\n",
    "    print(\"-\", d.page_content[:120].replace(\"\\n\",\" \",), d.metadata)"
   ]
  },
  {
   "cell_type": "markdown",
   "metadata": {},
   "source": [
    "## ReRanker"
   ]
  },
  {
   "cell_type": "code",
   "execution_count": 96,
   "metadata": {},
   "outputs": [
    {
     "name": "stdout",
     "output_type": "stream",
     "text": [
      "Device: mps\n"
     ]
    }
   ],
   "source": [
    "from sentence_transformers import CrossEncoder\n",
    "import torch\n",
    "\n",
    "def get_device():\n",
    "    # Determine best available device (MPS > CUDA > CPU)\n",
    "    if torch.backends.mps.is_available():\n",
    "        device = torch.device(\"mps\")  # Mac M-series GPU\n",
    "    elif torch.cuda.is_available():\n",
    "        device = torch.device(\"cuda\")  # NVIDIA GPU\n",
    "    else:\n",
    "        device = torch.device(\"cpu\")   # CPU fallback\n",
    "    return device\n",
    "\n",
    "device = get_device()\n",
    "print(\"Device:\", device)\n",
    "\n",
    "# 공개 모델 (한국어 포함 다국어에 강함)\n",
    "# 더 강한 모델: \"BAAI/bge-reranker-large\" (속도/메모리↑)\n",
    "reranker = CrossEncoder(\n",
    "    \"BAAI/bge-reranker-base\",\n",
    "    device=device,\n",
    "    max_length=512\n",
    ")\n",
    "\n",
    "def cross_encoder_rerank(query, docs, top_k=5, batch_size=32):\n",
    "    pairs = [(query, d.page_content) for d in docs]\n",
    "    scores = []\n",
    "    for i in range(0, len(pairs), batch_size):\n",
    "        with torch.inference_mode():\n",
    "            s = reranker.predict(pairs[i:i+batch_size])\n",
    "        # numpy -> list\n",
    "        scores.extend(s.tolist() if hasattr(s, \"tolist\") else list(s))\n",
    "    scored = list(zip(docs, scores))\n",
    "    scored.sort(key=lambda x: x[1], reverse=True)\n",
    "    return scored[:top_k]\n",
    "\n",
    "# ============================================\n",
    "# 6) 통합 질의 함수 (1차 검색 → 2차 재랭킹)\n",
    "# ============================================\n",
    "def ask(query, top_k_first=30, top_k_final=5, show_scores=True):\n",
    "    candidates = ensemble_retriever.invoke(query)\n",
    "    reranked = cross_encoder_rerank(query, candidates, top_k=top_k_final)\n",
    "    print(f\"\\n🔎 Q: {query}\")\n",
    "    print(f\"  1차 후보 {len(candidates)}개 → 2차 상위 {len(reranked)}개\")\n",
    "\n",
    "    print(f\"  1차 후보 상위 {len(reranked)}개\")\n",
    "    for i, d in enumerate(candidates, 0):\n",
    "        page = d.metadata.get(\"page\", \"?\")\n",
    "        preview = d.page_content[:160].replace(\"\\n\",\" \")\n",
    "        if show_scores:\n",
    "            print(f\"{i:>2}. p.{page} | {preview}...\")\n",
    "        else:\n",
    "            print(f\"{i:>2}. p.{page} | {preview}...\")\n",
    "        if i >= top_k_final:\n",
    "            break\n",
    "\n",
    "    print(f\"  2차 후보 상위 {len(reranked)}개\")\n",
    "    for i, (d, s) in enumerate(reranked, 1):\n",
    "        page = d.metadata.get(\"page\", \"?\")\n",
    "        preview = d.page_content[:160].replace(\"\\n\",\" \")\n",
    "        if show_scores:\n",
    "            print(f\"{i:>2}. p.{page} | score={s:.4f} | {preview}...\")\n",
    "        else:\n",
    "            print(f\"{i:>2}. p.{page} | {preview}...\")\n",
    "\n"
   ]
  },
  {
   "cell_type": "code",
   "execution_count": 97,
   "metadata": {},
   "outputs": [
    {
     "name": "stdout",
     "output_type": "stream",
     "text": [
      "\n",
      "🔎 Q: 가상화폐를 설명해줘\n",
      "  1차 후보 58개 → 2차 상위 5개\n",
      "  1차 후보 상위 5개\n",
      " 0. p.133 | 117 ㅁ  따라 자국 통화의 가치가 수동적으로 변동하게 됨으로써 통화의 가치가 자국의 경제상황  또는 수출경쟁력을 적절히 반영되지 못하는 문제점이 발생할 수 있다 .   연관검색어 : 고정환율제도/자유변동환율제도, 복수통화바스켓제도 미발행화폐  미발행화폐란 한국은행이 보유하고 있는 은...\n",
      " 1. p.136 | 120 경제금융용어 700선 발행중지화폐/유통정지화폐 발행중지화폐는 발권기관인 한국은행이 화폐의 원활한 유통 등을 위해 발행을 중지하 기로 한 화폐이다. 발행중지화폐는 비록 화폐 발행은 중단되지만 화폐로서의 강제통용력 도 있고 지급결제수단으로 사용도 가능하다. 또한 발행중지화폐는 한국은...\n",
      " 2. p.345 | 329 ㅎ  화폐의 액면체계 화폐의 액면체계는 한 국가의 화폐를 구성하는 액면금액의 틀을 의미하는데, 보통  액면체계는 일상적인 거래 편의 도모라는 대원칙 아래 국가의 경제 ･사회적 여건과  국민의 화폐사용 습관의 영향을 받는다. 화폐의 액면체계는 대부분 기본수(1･5･10 등)에  1...\n",
      " 3. p.266 | 250 경제금융용어 700선 전자화폐 IC카드 등에 화폐가치를 저장하였다가 상품 등의 구매에 사용할 수 있는 전자지급수단 으로서 범용성과 환금성을 갖춘 것을 말한다. 전자화폐(electronic money)의 유형은  가치저장 매체에 따라 IC카드형과 네트워크형으로 구분할 수 있다. I...\n",
      " 4. p.344 | 328 경제금융용어 700선 현재 우리나라 은행권에는 오만원권에 띠형 홀로그램이, 만원과 오천원권에는 패치형  홀로그램이 각각 적용되어 있다. 오만원권의 띠형 홀로그램은 앞면 왼쪽 끝 부분에 부착되 어 있으며 보는 각도에 따라 상･중･하 3곳에서 ① 우리나라 지도 ② 태극 ③ 4괘 무늬...\n",
      " 5. p.47 | 31 ㄱ  볼 수 있다. 그러나 좁은 의미로는 SDR 가치 산정에 사용되는 바스켓 통화의 요건에  자유사용가능성(freely usable criterion)이 포함되어 있어서 2016년 10월에 바스켓 통화 로 결정된 미 달러화, 유로화, 파운드화, 엔화 및 위안화를 교환성 통화로 볼 ...\n",
      "  2차 후보 상위 5개\n",
      " 1. p.21 | score=0.1542 | 5 ㄱ  가산금리 기준금리에 신용도 등의 차이에 따라 달리 덧붙이는 금리를 가산금리(또는 스프레드,  spread)라고 한다. 예를 들어 은행이 대출금리를 결정할 때 고객의 신용위험에 따라  조달금리에 추가하는 금리를 말한다. 한편 만기가 길어지면 추가로 가산되는 금리를  기간 가산금리...\n",
      " 2. p.182 | score=0.1064 | 166 경제금융용어 700선 있는데, 오만원권에는 신사임당, 만원권에는 세종대왕, 오천원권에는 율곡 이이, 천원권 에는 퇴계 이황이 나타난다 .   연관검색어 : 은선 슈퍼301조 미국의 통상법 301조를 이르는 것으로 이에 따라 관련 당국은 불공정무역 관행에  해당되는 사안을 대상으로...\n",
      " 3. p.88 | score=0.1050 | 72 경제금융용어 700선 기축통화 기축통화란 여러 국가의 암묵적인 동의하에 국제거래에서 중심적인 역할을 하는  통화를 지칭한다. 구체적으로는 ① 국제무역결제에 사용되는 통화 ② 환율 평가 시의  지표가 되는 통화 ③ 대외준비자산으로 보유되는 통화 등의 의미를 포함한다. 그러므로  어떤...\n",
      " 4. p.36 | score=0.0415 | 20 경제금융용어 700선 계좌대체 중앙예탁기관에 계좌를 설정한 계좌 설정자간의 유가증권 수수를 실물증권의 인수도  대신 계좌간 대체하는 방식으로 장부상 처리하는 것을 말한다. 주식․채권 등 증권거래의  결과 매도자의 증권을 매수자에게 이전해야 한다. 그런데 증권의 이전을 위한 실물증권...\n",
      " 5. p.238 | score=0.0396 | 222 경제금융용어 700선 스위스 프랑화로 하는 방식의 채권을 가리킨다. 달러화가 강세인 때에 주로 사용된다.  일본의 경우 저금리 상태가 지속되면서 자국통화 표시 채권의 수익률이 지속적으로  낮아지는 상황에서 채권의 쿠폰을 금리가 높은 통화로 지급하는 방식의 이중통화채가  활발하게 ...\n"
     ]
    }
   ],
   "source": [
    "\n",
    "ask(\"가상화폐를 설명해줘\")"
   ]
  },
  {
   "cell_type": "code",
   "execution_count": 76,
   "metadata": {
    "id": "PCp3T6GKg-iU"
   },
   "outputs": [],
   "source": [
    "# ============================\n",
    "# Cross-Encoder Reranker Retriever 생성\n",
    "# ============================\n",
    "\n",
    "from langchain.schema import BaseRetriever\n",
    "from langchain.schema import Document\n",
    "from typing import List\n",
    "\n",
    "class CrossEncoderRetriever(BaseRetriever):\n",
    "    def __init__(self, ensemble_retriever, reranker_func, top_k_first=30, top_k_final=5):\n",
    "        super().__init__()\n",
    "        self._ensemble_retriever = ensemble_retriever\n",
    "        self._reranker_func = reranker_func\n",
    "        self._top_k_first = top_k_first\n",
    "        self._top_k_final = top_k_final\n",
    "    \n",
    "    def _get_relevant_documents(self, query: str) -> List[Document]:\n",
    "        # 1차: EnsembleRetriever로 후보 문서 검색\n",
    "        candidates = self._ensemble_retriever.invoke(query)\n",
    "        \n",
    "        # 2차: Cross-Encoder로 reranking\n",
    "        reranked = self._reranker_func(query, candidates, top_k=self._top_k_final)\n",
    "        \n",
    "        # 문서만 반환 (점수 제거)\n",
    "        return [doc for doc, score in reranked]\n",
    "\n",
    "# CrossEncoderRetriever 인스턴스 생성\n",
    "cross_encoder_retriever = CrossEncoderRetriever(\n",
    "    ensemble_retriever=ensemble_retriever,\n",
    "    reranker_func=cross_encoder_rerank,\n",
    "    top_k_first=30,\n",
    "    top_k_final=5\n",
    ")\n",
    "\n",
    "# QA Chain 생성 (Cross-Encoder Retriever 사용)\n",
    "qa_chain = RetrievalQA.from_chain_type(\n",
    "    llm=llm,\n",
    "    chain_type_kwargs={\"prompt\": prompt},\n",
    "    retriever=cross_encoder_retriever,\n",
    "    return_source_documents=True)"
   ]
  },
  {
   "cell_type": "code",
   "execution_count": 89,
   "metadata": {
    "colab": {
     "base_uri": "https://localhost:8080/"
    },
    "id": "D_gSFafBg_u4",
    "outputId": "9f93ace5-5abf-4b7e-8d66-232c7db37b3d"
   },
   "outputs": [
    {
     "name": "stdout",
     "output_type": "stream",
     "text": [
      "\n",
      "🔹 ReRanker Retriever 결과:\n",
      "- 20 경제금융용어 700선 계좌대체 중앙예탁기관에 계좌를 설정한 계좌 설정자간의 유가증권 수수를 실물증권의 인수도  대신 계좌간 대체하는 방식으로 장부상 처리하는 것을 말한다. 주식․채권 등 증권거래의  결과 매도자 {'source': '2020_경제금융용어 700선_게시.pdf', 'total_pages': 371, 'creator': 'Smart PDF Imposition 1.0', 'producer': 'Smart PDF Imposition 1.0', 'page_label': '37', 'moddate': 'January 31, 2018 16:21', 'moddate--text': 'January 31, 2018 16:21', 'subject': 'CoreImposition PDF 1.0 Output', 'title': '°æÁ¦±ÝÀ¶¿ë¾î 700¼±-ÃÖÁ¾.PDF', 'creationdate': 'January 31, 2018 16:21', 'author': 'INSUNG DATA INC.', 'creationdate--text': 'January 31, 2018 16:21', 'page': 36}\n",
      "- 325 ㅎ  헤지펀드 개인을 대상으로 모집한 자금을 고수익 또는 위험회피 등을 목적으로 국제증권시장이 나 국제외환시장에 투자하는 사적투자조합 또는 투자계약을 말한다. 헤지란 본래 위험을  회피, 분산시킨다는 의미이지 {'title': '°æÁ¦±ÝÀ¶¿ë¾î 700¼±-ÃÖÁ¾.PDF', 'source': '2020_경제금융용어 700선_게시.pdf', 'total_pages': 371, 'creationdate': 'January 31, 2018 16:21', 'moddate': 'January 31, 2018 16:21', 'creationdate--text': 'January 31, 2018 16:21', 'author': 'INSUNG DATA INC.', 'moddate--text': 'January 31, 2018 16:21', 'page': 341, 'creator': 'Smart PDF Imposition 1.0', 'page_label': '342', 'subject': 'CoreImposition PDF 1.0 Output', 'producer': 'Smart PDF Imposition 1.0'}\n",
      "- 303 ㅌ  통화옵션 통화옵션이란 미래의 특정시점(만기일 또는 만기이전)에 특정통화(기초자산)를 미리  약정한 가격(행사가격)으로 사거나(call option) 팔 수 있는 권리(put option)를 말한다.  통 {'producer': 'Smart PDF Imposition 1.0', 'creator': 'Smart PDF Imposition 1.0', 'creationdate': 'January 31, 2018 16:21', 'author': 'INSUNG DATA INC.', 'creationdate--text': 'January 31, 2018 16:21', 'moddate': 'January 31, 2018 16:21', 'moddate--text': 'January 31, 2018 16:21', 'subject': 'CoreImposition PDF 1.0 Output', 'title': '°æÁ¦±ÝÀ¶¿ë¾î 700¼±-ÃÖÁ¾.PDF', 'source': '2020_경제금융용어 700선_게시.pdf', 'total_pages': 371, 'page': 319, 'page_label': '320'}\n",
      "- 30 경제금융용어 700선 도가 환율안정 및 국제수지 같은 국제균형을 우선시 하는 데 비해서 관리통화제도는  성장과 고용 등 국내균형 우선의 통화제도라고 할 수 있다. 하지만 관리통화제도 하에서 도 환율안정 등 대외 {'producer': 'Smart PDF Imposition 1.0', 'creator': 'Smart PDF Imposition 1.0', 'creationdate': 'January 31, 2018 16:21', 'author': 'INSUNG DATA INC.', 'creationdate--text': 'January 31, 2018 16:21', 'moddate': 'January 31, 2018 16:21', 'moddate--text': 'January 31, 2018 16:21', 'subject': 'CoreImposition PDF 1.0 Output', 'title': '°æÁ¦±ÝÀ¶¿ë¾î 700¼±-ÃÖÁ¾.PDF', 'source': '2020_경제금융용어 700선_게시.pdf', 'total_pages': 371, 'page': 46, 'page_label': '47'}\n",
      "- 72 경제금융용어 700선 기축통화 기축통화란 여러 국가의 암묵적인 동의하에 국제거래에서 중심적인 역할을 하는  통화를 지칭한다. 구체적으로는 ① 국제무역결제에 사용되는 통화 ② 환율 평가 시의  지표가 되는 통화  {'page_label': '89', 'producer': 'Smart PDF Imposition 1.0', 'author': 'INSUNG DATA INC.', 'subject': 'CoreImposition PDF 1.0 Output', 'page': 88, 'creationdate': 'January 31, 2018 16:21', 'total_pages': 371, 'source': '2020_경제금융용어 700선_게시.pdf', 'title': '°æÁ¦±ÝÀ¶¿ë¾î 700¼±-ÃÖÁ¾.PDF', 'creationdate--text': 'January 31, 2018 16:21', 'creator': 'Smart PDF Imposition 1.0', 'moddate': 'January 31, 2018 16:21', 'moddate--text': 'January 31, 2018 16:21'}\n"
     ]
    }
   ],
   "source": [
    "\n",
    "input_text = \"가상화폐는 어디에서 사용될 수 있어?\"\n",
    "\n",
    "docs = cross_encoder_retriever.invoke(input_text)\n",
    "print(\"\\n🔹 ReRanker Retriever 결과:\")\n",
    "for d in docs:\n",
    "    print(\"-\", d.page_content[:120].replace(\"\\n\",\" \",), d.metadata)\n",
    "  "
   ]
  },
  {
   "cell_type": "code",
   "execution_count": 78,
   "metadata": {
    "id": "EMknHe7ehBX2"
   },
   "outputs": [],
   "source": [
    "def get_chatbot_response(input_text):\n",
    "    print(f\"\\n🔍 검색 및 재랭킹 과정:\")\n",
    "    print(f\"질문: {input_text}\")\n",
    "    \n",
    "    # Cross-Encoder Retriever로 문서 검색 및 재랭킹\n",
    "    relevant_docs = cross_encoder_retriever._get_relevant_documents(input_text)\n",
    "    print(f\"재랭킹 후 선택된 문서 수: {len(relevant_docs)}\")\n",
    "    \n",
    "    # QA Chain 실행\n",
    "    chatbot_response = qa_chain(input_text)\n",
    "    return chatbot_response['result'].strip()"
   ]
  },
  {
   "cell_type": "code",
   "execution_count": 82,
   "metadata": {},
   "outputs": [
    {
     "name": "stdout",
     "output_type": "stream",
     "text": [
      "테스트 질문: 가계부실위험지수에 대해 설명해\n",
      "\n",
      "🔍 검색 및 재랭킹 과정:\n",
      "질문: 가계부실위험지수에 대해 설명해\n",
      "재랭킹 후 선택된 문서 수: 5\n",
      "\n",
      "답변: 가계부실위험지수(HDRI)는 가구의 소득 흐름뿐만 아니라 금융 및 실물 자산까지 종합적으로 고려하여 가계부채의 부실위험을 평가하는 지표야. 이 지수는 가계의 채무상환능력을 소득 측면에서 평가하는 원리금상환비율(DSR)과 자산 측면에서 평가하는 부채/자산비율(DTA)을 결합하여 산출해. 가계부실위험지수는 가구의 DSR과 DTA가 각각 40%, 100%일 때 100의 값을 갖도록 설정되어 있어. 이 지수가 100을 초과하는 가구를 '위험가구'로 분류하고, 위험가구는 소득 및 자산 측면에서 모두 취약한 '고위험가구', 자산 측면에서 취약한 '고DTA가구', 소득 측면에서 취약한 '고DSR가구'로 구분할 수 있어. 하지만 이 지수는 가구의 채무상환능력 취약성 정도를 평가하기 위한 것이지, 이들 가구가 당장 채무상환 불이행에 직면한 것을 의미하지는 않아.\n"
     ]
    }
   ],
   "source": [
    "# Cross-Encoder Retriever 테스트\n",
    "test_query = \"가계부실위험지수에 대해 설명해\"\n",
    "print(f\"테스트 질문: {test_query}\")\n",
    "result = get_chatbot_response(test_query)\n",
    "print(f\"\\n답변: {result}\")"
   ]
  },
  {
   "cell_type": "code",
   "execution_count": 84,
   "metadata": {
    "colab": {
     "base_uri": "https://localhost:8080/"
    },
    "id": "s6a9JyjghEVA",
    "outputId": "c782da81-69f4-4ab5-f096-77d3d1e93ba0"
   },
   "outputs": [
    {
     "name": "stdout",
     "output_type": "stream",
     "text": [
      "\n",
      "🔍 검색 및 재랭킹 과정:\n",
      "질문: 경제성장율에 대해서 궁금하당~\n",
      "재랭킹 후 선택된 문서 수: 5\n",
      "경제성장률은 일정 기간 동안 한 나라의 경제 규모, 즉 국민소득 규모가 얼마나 늘어났는지를 백분율로 나타낸 거야. 주로 실질국내총생산(실질GDP)의 증가율을 의미하지. 실질GDP는 각 경제활동 부문에서 창출된 실질 부가가치의 합계로 계산돼. 경제성장률을 계산할 때는 전년도의 실질GDP와 금년도의 실질GDP를 비교해서 구해. 여러 해 동안의 연평균 경제성장률을 계산할 때는 복리 연율의 산식을 사용해. 이게 경제성장률에 대한 기본적인 설명이야!\n"
     ]
    }
   ],
   "source": [
    "input_text = \"경제성장율에 대해서 궁금하당~\"\n",
    "result = get_chatbot_response(input_text)\n",
    "print(result)"
   ]
  },
  {
   "cell_type": "code",
   "execution_count": 88,
   "metadata": {
    "colab": {
     "base_uri": "https://localhost:8080/",
     "height": 727
    },
    "id": "J77YuZh4hF_A",
    "outputId": "90aecf8c-0490-4825-e81d-5b07d4b93ad4"
   },
   "outputs": [
    {
     "name": "stderr",
     "output_type": "stream",
     "text": [
      "/var/folders/xn/w4kqb1715fz7h49tp_h7hbmr0000gn/T/ipykernel_30643/931656514.py:6: UserWarning: You have not specified a value for the `type` parameter. Defaulting to the 'tuples' format for chatbot messages, but this is deprecated and will be removed in a future version of Gradio. Please set type='messages' instead, which uses openai-style dictionaries with 'role' and 'content' keys.\n",
      "  chatbot = gr.Chatbot(label=\"경제금융용어 챗봇\")\n"
     ]
    },
    {
     "name": "stdout",
     "output_type": "stream",
     "text": [
      "* Running on local URL:  http://127.0.0.1:7860\n",
      "* To create a public link, set `share=True` in `launch()`.\n"
     ]
    },
    {
     "data": {
      "text/html": [
       "<div><iframe src=\"http://127.0.0.1:7860/\" width=\"100%\" height=\"500\" allow=\"autoplay; camera; microphone; clipboard-read; clipboard-write;\" frameborder=\"0\" allowfullscreen></iframe></div>"
      ],
      "text/plain": [
       "<IPython.core.display.HTML object>"
      ]
     },
     "metadata": {},
     "output_type": "display_data"
    },
    {
     "name": "stdout",
     "output_type": "stream",
     "text": [
      "\u001b[32;1m\u001b[1;3m[chain/start]\u001b[0m \u001b[1m[chain:RetrievalQA] Entering Chain run with input:\n",
      "\u001b[0m{\n",
      "  \"query\": \"가상화폐는 어디에서 사용될 수 있어?\"\n",
      "}\n",
      "\u001b[32;1m\u001b[1;3m[chain/start]\u001b[0m \u001b[1m[chain:RetrievalQA > chain:StuffDocumentsChain] Entering Chain run with input:\n",
      "\u001b[0m[inputs]\n",
      "\u001b[32;1m\u001b[1;3m[chain/start]\u001b[0m \u001b[1m[chain:RetrievalQA > chain:StuffDocumentsChain > chain:LLMChain] Entering Chain run with input:\n",
      "\u001b[0m{\n",
      "  \"question\": \"가상화폐는 어디에서 사용될 수 있어?\",\n",
      "  \"context\": \"20\\n경제금융용어 700선\\n계좌대체\\n중앙예탁기관에 계좌를 설정한 계좌 설정자간의 유가증권 수수를 실물증권의 인수도 \\n대신 계좌간 대체하는 방식으로 장부상 처리하는 것을 말한다. 주식․채권 등 증권거래의 \\n결과 매도자의 증권을 매수자에게 이전해야 한다. 그런데 증권의 이전을 위한 실물증권\\n의 인도 방식은 자본시장에서 이루어지는 증권의 대량거래와 잦은 소유자 변동 등을 \\n감안하면 사실상 불가능하다. 따라서 대부분의 국가에서는 중앙예탁기관의 계좌대체 \\n방식으로 증권의 소유권을 이전하고 있으며 우리나라도 한국예탁결제원이 계좌간 대체 \\n방식으로 증권결제를 수행하고 있다. 계좌대체는 예탁자의 개별적 청구 또는 시장 참가\\n자간의 사전 약정에 따른 결제기관의 청구에 의해 이루어질 수 있다. 우리나라 ｢상법｣에\\n서는 증권거래에 따른 증권의 소유권 이전을 위해 해당증권을 교부하도록 하고 있고 , \\n｢자본시장법｣에서 예탁자계좌부에 증권의 양도를 목적으로 계좌간 대체의 기재를 한 \\n경우 증권의 교부가 있었던 것으로 본다는 교부의제 규정을 두고 있다 . \\n 연관검색어 : 중앙예탁기관\\n고객확인절차(KYC)\\n고객확인절차(KYC; Know Your Customer)는 고객의 신원을 식별하고 확인하는\\n(verify) 업 무 절 차 를  뜻 한 다 . 모 든  회 사 는  대 리 인･컨설턴트 등과 업무를 시작할 때에도 \\n이 절차를 거쳐야한다. 이는 특히 은행･보험･수출금융 등 금융업무절차나 자금세탁방지\\n(AML; Anti-Money Laundering) 규제에서 자주 거론된다. 이 절차의 목적은 주로 은행이 \\n자금세탁행위 등의 범죄 요소로 악용되는 것을 예방하는 것이다. 은행은 고객과의 금융\\n거래를 더 잘 이해함으로써 고객의 리스크를 더 건전하게 관리할 수 있다 . \\n 연관검색어 : 가상통화, 비트코인 \\n고용률\\n고용률은 통계청에서 매월 작성하고 있는 경제활동인구조사에서 집계된 15세 이상 \\n인구(노동가능인구)에 대해 취업자가 차지하는 비율을 말한다. 한편 실업률은 경제활동\\n인구 중에서 실업자가 차지하는 비율을 말한다. 고용률은 실업률의 문제점을 해소할\\n\\n325\\nㅎ \\n헤지펀드\\n개인을 대상으로 모집한 자금을 고수익 또는 위험회피 등을 목적으로 국제증권시장이\\n나 국제외환시장에 투자하는 사적투자조합 또는 투자계약을 말한다. 헤지란 본래 위험을 \\n회피, 분산시킨다는 의미이지만 헤지펀드는 위험회피보다는 투기적인 성격이 더 강하다. \\n뮤추얼펀드가 다수의 소액투자자를 대상으로 공개모집하는 펀드인 데 반해, 헤지펀드는 \\n소수의 고액투자자를 대상으로 하는 사모 투자자본이다. 또 뮤추얼펀드가 주식, 채권 \\n등 비교적 안전성이 높은 상품에 투자하는 데 반해 해지펀드는 주식, 채권만이 아니라 \\n파생상품 등 고위험, 고수익을 낼 수 있는 상품에도 적극적으로 투자를 한다. 주로 \\n100명 미만의 투자자들로부터 개별적으로 자금을 모아 파트너 쉽(partnership)을 결성한 \\n뒤, 카리브 해의 버뮤다와 같은 조세회피지역에 위장 거점을 설치해 자금을 운영한다 . \\n1백만･5백만 달러의 거액을 최소단위로 해 개인과 금융기관으로부터 자금을 모집하고 \\n모집한 원금의 몇 배에 달하는 자금을 차입하여 선물이나 옵션 등 파생상품에 투자함으로\\n써 투자규모를 몇십 배로 키우는 것이 특징이다. 현재 국제금융시장에서 활동 중인 \\n헤지펀드는 3,000여 개로 추산되며 자산규모 200억 달러가 넘는 퀀텀펀드나 타이거펀드\\n가 그 대표적인 예이다 .\\n현금자동인출기(CD)공동망\\n현금자동인출기(CD)공동망은 금융공동망 중계센터인 금융결제원과 금융기관들의 \\n전산시스템을 상호 연결하여 특정 금융기관 고객이 다른 금융기관의 CD 또는 ATM 을 \\n이용하여 현금인출, 계좌이체, 잔액조회 등의 서비스를 받을 수 있도록 구축된 시스템으\\n로 1988년 7월 가동되었다. CD공동망의 가동으로 금융서비스의 장소적 제약이 제거되어 \\n이용고객은 현금카드만으로 모든 참가기관의 CD/ATM을 이용하여 손쉽게 현금인출 \\n등 각종 서비스를 이용할 수 있게 되었으며, 아울러 금융기관의 무인점포영업이 조기에 \\n도입되는 계기가 마련되었다. CD공동망을 통하여 취급 가능한 업무는 현금인출, 신용카\\n드 현금서비스, 계좌이체, 잔액조회, 지로대금 납부 등이며 이용대상 예금으로는 보통예\\n금, 저축예금, 가계당좌예금, 기업자유예금, 신탁예금, 투자자예탁금 등이 있다 .\\n 연관검색어 : 소액결제시스템\\n현금자동인출기(CD)공동망 ∙\\n\\n303\\nㅌ \\n통화옵션\\n통화옵션이란 미래의 특정시점(만기일 또는 만기이전)에 특정통화(기초자산)를 미리 \\n약정한 가격(행사가격)으로 사거나(call option) 팔 수 있는 권리(put option)를 말한다. \\n통화옵션은 거래소나 장외시장에서 거래된다. 거래소시장은 1980년대 초 필라델피아증\\n권거래소의 현물환 옵션이 효시가 되었으며 이후 시카고상업거래소(CME; Chicago \\nMercantile Exchange)에서 본격적으로 이루어 졌다. 우리나라는 1999년 4월 한국선물거\\n래소(현 한국거래소)에 미 달러 옵션이 처음 상장되었다. 통화옵션 거래 시 통화옵션 \\n매입자는 대상통화를 매매할 수 있는 권리를 사는 대가로 통화옵션 매도자에게 프리미엄\\n(옵션가격)을 지급하고 이후 환율변동에 따라 자유롭게 옵션을 행사하거나 행사하지 \\n않을(권리를 포기할) 수 있다. 반면 옵션 매도자는 옵션매입자가 권리를 행사하는 경우 \\n반드시 계약을 이행해야 하는 의무를 부담한다. 통화옵션은 선물환이나 통화선물과 \\n달리 시장 환율이 옵션 매입자에게 유리한 경우에만 옵션을 행사할 수 있기 때문에 \\n옵션매입자의 손실은 프리미엄에 국한되는 반면 이익은 환율변동에 따라 무제한으로 \\n커질 수 있는 비대칭적 손익구조를 가진다. 아울러 선물환이나 통화선물에 비해 거래비\\n용이 적게 들고 여러 가지 옵션상품 등을 합성하여 고객의 헤지수요에 맞는 다양한 \\n형태의 상품개발이 가능하다는 장점이 있다 .\\n 연관검색어 : 선물환거래\\n통화유통속도\\n통화유통속도(velocity of circulation of money)는 기본적으로 통화 한 단위가 일정 기간 \\n동안 각종 거래를 매개하기 위해 몇 번 유통되었는지를 나타내는 지표를 말한다. 그런데 \\n국민경제 전체의 거래규모를 측정할 수는 없으므로 소득이 거래액과 유사하게 변동한다는 \\n가정 하에 연간 국민소득을 통화량으로 나누어 산출한다. 따라서 동 지표는 그 명칭과는 \\n달리 시중에 돈이 얼마나 ‘유통’ 되고 있는지 보다는 실물경제 활동에 비해 통화량이 얼마만큼 \\n‘존재’ 하는지를 나타내는 지표에 가깝다고 할 수 있다. 통화유통속도는 장기적으로 생산의 \\n우회도, 경제주체의 거래관습 등 경제 구조적인 원인에 의해 결정되나, 단기적으로는 통화보\\n유의 기회비용에 영향을 미치는 시장금리, 예상물가상승률의 변화, 경기 변동 등 거시적 \\n요인과 새로운 예금제도의 도입 등 금융여건 변화에 따라 변동하기도 한다 . \\n 연관검색어 : 마샬의 k\\n통화유통속도 ∙\\n\\n30\\n경제금융용어 700선\\n도가 환율안정 및 국제수지 같은 국제균형을 우선시 하는 데 비해서 관리통화제도는 \\n성장과 고용 등 국내균형 우선의 통화제도라고 할 수 있다. 하지만 관리통화제도 하에서\\n도 환율안정 등 대외균형을 전혀 무시할 수는 없으므로 양자를 어떻게 조화시킬 것인가가 \\n이 제도의 과제가 되고 있다 .\\n 연관검색어 : 금본위제 \\n교환사채(EB)\\n교환사채(EB; Exchangeable Bond)란 사채권자의 의사에 따라 사채를 교환사채 발행\\n기업이 보유하고 있는 타사 주식 등 여타의 유가증권과 교환할 수 있는 선택권이 부여된 \\n사채를 말한다. 발행하는 채권에 주식이 연계되어 있다는 점에서 발행회사의 신주를 \\n일정한 조건으로 매수할 수 있는 신주인수권부사채(BW; Bonds with Warrant)나, 발행회\\n사의 주식으로 전환할 수 있는 권리가 부여된 전환사채(CB; Convertible Bond) 등과 \\n함께 주식연계증권으로 불린다. 발행회사가 보유하는 교환대상 유가증권은 상장유가증\\n권으로 제한되고 있으며 증권예탁원에 의무적으로 예탁되어야 한다. 투자자는 미래의 \\n주식가격 상승에 따른 시세차익을 기대할 수 있고 발행회사는 낮은 이자율로 사채를 \\n발행하여 금융비용 부담을 덜 수 있어 회사채 발행을 통한 기업자금조달을 촉진할 \\n수 있는 장점이 있다. 반면에 투자자의 입장에서도 비교적 안정성과 이익 가능성이 \\n겸비되어 있어 유리한 투자수단이 된다. 교환이 이루어질 때 발행기업의 자산과 부채가 \\n동시에 감소한다. 신규자금 유입이 없다는 점에서 신주인수권부사채(BW)와는 다르고 \\n신주발행에 따른 자본금의 증가가 없다는 점에서 전환사채(CB)와도 다르다 .\\n 연관검색어 : 신주인수권부사채(BW), 전환사채 (CB)\\n교환성 통화\\n국제적인 통용력을 가진 특정국가의 통화를 말한다. 현재는 외환시장에서 미국의 \\n달러화와 자유로이 교환 가능한 통화라는 의미로 사용되고 있다. 현재 국제통화기금\\n(IMF)에서는 IMF 협정에 따라 IMF 회원은 자국통화에 교환성을 부여할 의무를 부여받고 \\n있다. 이 의무는 제8조에 규정되어 있기 때문에 이에 따라 자국통화의 교환성을 유지하는 \\n국가를 ‘IMF 8조국’이라 하며 동 국가의 통화를 교환성 통화(convertible currency)로\\n\\n72\\n경제금융용어 700선\\n기축통화\\n기축통화란 여러 국가의 암묵적인 동의하에 국제거래에서 중심적인 역할을 하는 \\n통화를 지칭한다. 구체적으로는 ① 국제무역결제에 사용되는 통화 ② 환율 평가 시의 \\n지표가 되는 통화 ③ 대외준비자산으로 보유되는 통화 등의 의미를 포함한다. 그러므로 \\n어떤 나라의 통화가 기축통화가 되기 위해서는 세계적으로 원활히 유통될 수 있도록 \\n유동성이 풍부하여야 하고 거래당사자들이 믿고 사용할 수 있도록 신뢰성을 갖추어야 \\n하며, 국제적으로 경제력은 물론 정치력･군사력까지 인정받는 국가의 통화여야 한다. \\n20세기 초반까지는 세계 금융경제의 중심이었던 영국의 파운드화가 기축통화로서 국제\\n거래에 주로 이용되었으며, 2차 세계대전 이후에는 전 세계 외환거래 및 외환보유액의 \\n상당 부분을 차지하는 미국 달러화가 기축통화로 인정받고 있다. 한편, 현재 국제거래에\\n서 비교적 자주 사용되는 통화로는 미국 달러화이외에도 유로화, 영국 파운드화, 일본 \\n엔화, 스위스 프랑화 등이 있는데 이들은 흔히 교환성통화라 한다 . \\n 연관검색어 : 교환성 통화\\n기타기본자본(Additional Tier 1)\\n기타기본자본(AT1; Additional Tier 1)은 요건을 충족하는 기타기본자본증권 및 이와 \\n관련된 자본잉여금, 자회사가 발행한 기타기본자본증권의 제3자 보유분 중 일부 금액 \\n등으로 구성된다. 기타기본자본증권으로 인정받기 위해서는 예금자, 일반채권자 및 \\n후순위채권보다 후순위, 영구적, 배당 및 이자지급의 임의성, 중도상환 유인이 없을 \\n것 등 총 14개 요건을 충족해야 한다 .\\n기펜재\\n일반적으로 재화는 수요의 법칙에 따라 가격이 하락하면 수요량이 늘어난다. 그러나 \\n예외적으로 재화의 가격이 하락할 때 수요량이 감소하는 현상을 관찰할 수 있다. 이렇게 \\n가격이 하락할 경우 수요의 법칙에 위배되는 재화를 이를 처음 관찰한 학자의 이름을 \\n따서 기펜재라고 부른다. 기펜재는 열등재의 일종이다. 즉 소득이 증가함에 따라 수요가 \\n감소하는 재화를 열등재라 하는데, 열등재 중에서도 열등성이 매우 커서 소득효과가\"\n",
      "}\n",
      "\u001b[32;1m\u001b[1;3m[llm/start]\u001b[0m \u001b[1m[chain:RetrievalQA > chain:StuffDocumentsChain > chain:LLMChain > llm:ChatOpenAI] Entering LLM run with input:\n",
      "\u001b[0m{\n",
      "  \"prompts\": [\n",
      "    \"Human: 당신은 한국은행에서 만든 금융 용어를 설명해주는 금융해설자입니다.\\n주어진 검색 결과를 바탕으로 답변하세요.\\n검색 결과에 없는 내용이라면 답변할 수 없다고 하세요. 반말로 친근하게 답변하세요.\\n20\\n경제금융용어 700선\\n계좌대체\\n중앙예탁기관에 계좌를 설정한 계좌 설정자간의 유가증권 수수를 실물증권의 인수도 \\n대신 계좌간 대체하는 방식으로 장부상 처리하는 것을 말한다. 주식․채권 등 증권거래의 \\n결과 매도자의 증권을 매수자에게 이전해야 한다. 그런데 증권의 이전을 위한 실물증권\\n의 인도 방식은 자본시장에서 이루어지는 증권의 대량거래와 잦은 소유자 변동 등을 \\n감안하면 사실상 불가능하다. 따라서 대부분의 국가에서는 중앙예탁기관의 계좌대체 \\n방식으로 증권의 소유권을 이전하고 있으며 우리나라도 한국예탁결제원이 계좌간 대체 \\n방식으로 증권결제를 수행하고 있다. 계좌대체는 예탁자의 개별적 청구 또는 시장 참가\\n자간의 사전 약정에 따른 결제기관의 청구에 의해 이루어질 수 있다. 우리나라 ｢상법｣에\\n서는 증권거래에 따른 증권의 소유권 이전을 위해 해당증권을 교부하도록 하고 있고 , \\n｢자본시장법｣에서 예탁자계좌부에 증권의 양도를 목적으로 계좌간 대체의 기재를 한 \\n경우 증권의 교부가 있었던 것으로 본다는 교부의제 규정을 두고 있다 . \\n 연관검색어 : 중앙예탁기관\\n고객확인절차(KYC)\\n고객확인절차(KYC; Know Your Customer)는 고객의 신원을 식별하고 확인하는\\n(verify) 업 무 절 차 를  뜻 한 다 . 모 든  회 사 는  대 리 인･컨설턴트 등과 업무를 시작할 때에도 \\n이 절차를 거쳐야한다. 이는 특히 은행･보험･수출금융 등 금융업무절차나 자금세탁방지\\n(AML; Anti-Money Laundering) 규제에서 자주 거론된다. 이 절차의 목적은 주로 은행이 \\n자금세탁행위 등의 범죄 요소로 악용되는 것을 예방하는 것이다. 은행은 고객과의 금융\\n거래를 더 잘 이해함으로써 고객의 리스크를 더 건전하게 관리할 수 있다 . \\n 연관검색어 : 가상통화, 비트코인 \\n고용률\\n고용률은 통계청에서 매월 작성하고 있는 경제활동인구조사에서 집계된 15세 이상 \\n인구(노동가능인구)에 대해 취업자가 차지하는 비율을 말한다. 한편 실업률은 경제활동\\n인구 중에서 실업자가 차지하는 비율을 말한다. 고용률은 실업률의 문제점을 해소할\\n\\n325\\nㅎ \\n헤지펀드\\n개인을 대상으로 모집한 자금을 고수익 또는 위험회피 등을 목적으로 국제증권시장이\\n나 국제외환시장에 투자하는 사적투자조합 또는 투자계약을 말한다. 헤지란 본래 위험을 \\n회피, 분산시킨다는 의미이지만 헤지펀드는 위험회피보다는 투기적인 성격이 더 강하다. \\n뮤추얼펀드가 다수의 소액투자자를 대상으로 공개모집하는 펀드인 데 반해, 헤지펀드는 \\n소수의 고액투자자를 대상으로 하는 사모 투자자본이다. 또 뮤추얼펀드가 주식, 채권 \\n등 비교적 안전성이 높은 상품에 투자하는 데 반해 해지펀드는 주식, 채권만이 아니라 \\n파생상품 등 고위험, 고수익을 낼 수 있는 상품에도 적극적으로 투자를 한다. 주로 \\n100명 미만의 투자자들로부터 개별적으로 자금을 모아 파트너 쉽(partnership)을 결성한 \\n뒤, 카리브 해의 버뮤다와 같은 조세회피지역에 위장 거점을 설치해 자금을 운영한다 . \\n1백만･5백만 달러의 거액을 최소단위로 해 개인과 금융기관으로부터 자금을 모집하고 \\n모집한 원금의 몇 배에 달하는 자금을 차입하여 선물이나 옵션 등 파생상품에 투자함으로\\n써 투자규모를 몇십 배로 키우는 것이 특징이다. 현재 국제금융시장에서 활동 중인 \\n헤지펀드는 3,000여 개로 추산되며 자산규모 200억 달러가 넘는 퀀텀펀드나 타이거펀드\\n가 그 대표적인 예이다 .\\n현금자동인출기(CD)공동망\\n현금자동인출기(CD)공동망은 금융공동망 중계센터인 금융결제원과 금융기관들의 \\n전산시스템을 상호 연결하여 특정 금융기관 고객이 다른 금융기관의 CD 또는 ATM 을 \\n이용하여 현금인출, 계좌이체, 잔액조회 등의 서비스를 받을 수 있도록 구축된 시스템으\\n로 1988년 7월 가동되었다. CD공동망의 가동으로 금융서비스의 장소적 제약이 제거되어 \\n이용고객은 현금카드만으로 모든 참가기관의 CD/ATM을 이용하여 손쉽게 현금인출 \\n등 각종 서비스를 이용할 수 있게 되었으며, 아울러 금융기관의 무인점포영업이 조기에 \\n도입되는 계기가 마련되었다. CD공동망을 통하여 취급 가능한 업무는 현금인출, 신용카\\n드 현금서비스, 계좌이체, 잔액조회, 지로대금 납부 등이며 이용대상 예금으로는 보통예\\n금, 저축예금, 가계당좌예금, 기업자유예금, 신탁예금, 투자자예탁금 등이 있다 .\\n 연관검색어 : 소액결제시스템\\n현금자동인출기(CD)공동망 ∙\\n\\n303\\nㅌ \\n통화옵션\\n통화옵션이란 미래의 특정시점(만기일 또는 만기이전)에 특정통화(기초자산)를 미리 \\n약정한 가격(행사가격)으로 사거나(call option) 팔 수 있는 권리(put option)를 말한다. \\n통화옵션은 거래소나 장외시장에서 거래된다. 거래소시장은 1980년대 초 필라델피아증\\n권거래소의 현물환 옵션이 효시가 되었으며 이후 시카고상업거래소(CME; Chicago \\nMercantile Exchange)에서 본격적으로 이루어 졌다. 우리나라는 1999년 4월 한국선물거\\n래소(현 한국거래소)에 미 달러 옵션이 처음 상장되었다. 통화옵션 거래 시 통화옵션 \\n매입자는 대상통화를 매매할 수 있는 권리를 사는 대가로 통화옵션 매도자에게 프리미엄\\n(옵션가격)을 지급하고 이후 환율변동에 따라 자유롭게 옵션을 행사하거나 행사하지 \\n않을(권리를 포기할) 수 있다. 반면 옵션 매도자는 옵션매입자가 권리를 행사하는 경우 \\n반드시 계약을 이행해야 하는 의무를 부담한다. 통화옵션은 선물환이나 통화선물과 \\n달리 시장 환율이 옵션 매입자에게 유리한 경우에만 옵션을 행사할 수 있기 때문에 \\n옵션매입자의 손실은 프리미엄에 국한되는 반면 이익은 환율변동에 따라 무제한으로 \\n커질 수 있는 비대칭적 손익구조를 가진다. 아울러 선물환이나 통화선물에 비해 거래비\\n용이 적게 들고 여러 가지 옵션상품 등을 합성하여 고객의 헤지수요에 맞는 다양한 \\n형태의 상품개발이 가능하다는 장점이 있다 .\\n 연관검색어 : 선물환거래\\n통화유통속도\\n통화유통속도(velocity of circulation of money)는 기본적으로 통화 한 단위가 일정 기간 \\n동안 각종 거래를 매개하기 위해 몇 번 유통되었는지를 나타내는 지표를 말한다. 그런데 \\n국민경제 전체의 거래규모를 측정할 수는 없으므로 소득이 거래액과 유사하게 변동한다는 \\n가정 하에 연간 국민소득을 통화량으로 나누어 산출한다. 따라서 동 지표는 그 명칭과는 \\n달리 시중에 돈이 얼마나 ‘유통’ 되고 있는지 보다는 실물경제 활동에 비해 통화량이 얼마만큼 \\n‘존재’ 하는지를 나타내는 지표에 가깝다고 할 수 있다. 통화유통속도는 장기적으로 생산의 \\n우회도, 경제주체의 거래관습 등 경제 구조적인 원인에 의해 결정되나, 단기적으로는 통화보\\n유의 기회비용에 영향을 미치는 시장금리, 예상물가상승률의 변화, 경기 변동 등 거시적 \\n요인과 새로운 예금제도의 도입 등 금융여건 변화에 따라 변동하기도 한다 . \\n 연관검색어 : 마샬의 k\\n통화유통속도 ∙\\n\\n30\\n경제금융용어 700선\\n도가 환율안정 및 국제수지 같은 국제균형을 우선시 하는 데 비해서 관리통화제도는 \\n성장과 고용 등 국내균형 우선의 통화제도라고 할 수 있다. 하지만 관리통화제도 하에서\\n도 환율안정 등 대외균형을 전혀 무시할 수는 없으므로 양자를 어떻게 조화시킬 것인가가 \\n이 제도의 과제가 되고 있다 .\\n 연관검색어 : 금본위제 \\n교환사채(EB)\\n교환사채(EB; Exchangeable Bond)란 사채권자의 의사에 따라 사채를 교환사채 발행\\n기업이 보유하고 있는 타사 주식 등 여타의 유가증권과 교환할 수 있는 선택권이 부여된 \\n사채를 말한다. 발행하는 채권에 주식이 연계되어 있다는 점에서 발행회사의 신주를 \\n일정한 조건으로 매수할 수 있는 신주인수권부사채(BW; Bonds with Warrant)나, 발행회\\n사의 주식으로 전환할 수 있는 권리가 부여된 전환사채(CB; Convertible Bond) 등과 \\n함께 주식연계증권으로 불린다. 발행회사가 보유하는 교환대상 유가증권은 상장유가증\\n권으로 제한되고 있으며 증권예탁원에 의무적으로 예탁되어야 한다. 투자자는 미래의 \\n주식가격 상승에 따른 시세차익을 기대할 수 있고 발행회사는 낮은 이자율로 사채를 \\n발행하여 금융비용 부담을 덜 수 있어 회사채 발행을 통한 기업자금조달을 촉진할 \\n수 있는 장점이 있다. 반면에 투자자의 입장에서도 비교적 안정성과 이익 가능성이 \\n겸비되어 있어 유리한 투자수단이 된다. 교환이 이루어질 때 발행기업의 자산과 부채가 \\n동시에 감소한다. 신규자금 유입이 없다는 점에서 신주인수권부사채(BW)와는 다르고 \\n신주발행에 따른 자본금의 증가가 없다는 점에서 전환사채(CB)와도 다르다 .\\n 연관검색어 : 신주인수권부사채(BW), 전환사채 (CB)\\n교환성 통화\\n국제적인 통용력을 가진 특정국가의 통화를 말한다. 현재는 외환시장에서 미국의 \\n달러화와 자유로이 교환 가능한 통화라는 의미로 사용되고 있다. 현재 국제통화기금\\n(IMF)에서는 IMF 협정에 따라 IMF 회원은 자국통화에 교환성을 부여할 의무를 부여받고 \\n있다. 이 의무는 제8조에 규정되어 있기 때문에 이에 따라 자국통화의 교환성을 유지하는 \\n국가를 ‘IMF 8조국’이라 하며 동 국가의 통화를 교환성 통화(convertible currency)로\\n\\n72\\n경제금융용어 700선\\n기축통화\\n기축통화란 여러 국가의 암묵적인 동의하에 국제거래에서 중심적인 역할을 하는 \\n통화를 지칭한다. 구체적으로는 ① 국제무역결제에 사용되는 통화 ② 환율 평가 시의 \\n지표가 되는 통화 ③ 대외준비자산으로 보유되는 통화 등의 의미를 포함한다. 그러므로 \\n어떤 나라의 통화가 기축통화가 되기 위해서는 세계적으로 원활히 유통될 수 있도록 \\n유동성이 풍부하여야 하고 거래당사자들이 믿고 사용할 수 있도록 신뢰성을 갖추어야 \\n하며, 국제적으로 경제력은 물론 정치력･군사력까지 인정받는 국가의 통화여야 한다. \\n20세기 초반까지는 세계 금융경제의 중심이었던 영국의 파운드화가 기축통화로서 국제\\n거래에 주로 이용되었으며, 2차 세계대전 이후에는 전 세계 외환거래 및 외환보유액의 \\n상당 부분을 차지하는 미국 달러화가 기축통화로 인정받고 있다. 한편, 현재 국제거래에\\n서 비교적 자주 사용되는 통화로는 미국 달러화이외에도 유로화, 영국 파운드화, 일본 \\n엔화, 스위스 프랑화 등이 있는데 이들은 흔히 교환성통화라 한다 . \\n 연관검색어 : 교환성 통화\\n기타기본자본(Additional Tier 1)\\n기타기본자본(AT1; Additional Tier 1)은 요건을 충족하는 기타기본자본증권 및 이와 \\n관련된 자본잉여금, 자회사가 발행한 기타기본자본증권의 제3자 보유분 중 일부 금액 \\n등으로 구성된다. 기타기본자본증권으로 인정받기 위해서는 예금자, 일반채권자 및 \\n후순위채권보다 후순위, 영구적, 배당 및 이자지급의 임의성, 중도상환 유인이 없을 \\n것 등 총 14개 요건을 충족해야 한다 .\\n기펜재\\n일반적으로 재화는 수요의 법칙에 따라 가격이 하락하면 수요량이 늘어난다. 그러나 \\n예외적으로 재화의 가격이 하락할 때 수요량이 감소하는 현상을 관찰할 수 있다. 이렇게 \\n가격이 하락할 경우 수요의 법칙에 위배되는 재화를 이를 처음 관찰한 학자의 이름을 \\n따서 기펜재라고 부른다. 기펜재는 열등재의 일종이다. 즉 소득이 증가함에 따라 수요가 \\n감소하는 재화를 열등재라 하는데, 열등재 중에서도 열등성이 매우 커서 소득효과가\\n\\nQuestion: 가상화폐는 어디에서 사용될 수 있어?\\nAnswer:\"\n",
      "  ]\n",
      "}\n",
      "\u001b[36;1m\u001b[1;3m[llm/end]\u001b[0m \u001b[1m[chain:RetrievalQA > chain:StuffDocumentsChain > chain:LLMChain > llm:ChatOpenAI] [1.39s] Exiting LLM run with output:\n",
      "\u001b[0m{\n",
      "  \"generations\": [\n",
      "    [\n",
      "      {\n",
      "        \"text\": \"검색 결과에 가상화폐의 사용에 대한 정보가 없어서 답변할 수 없어. 미안!\",\n",
      "        \"generation_info\": {\n",
      "          \"finish_reason\": \"stop\",\n",
      "          \"logprobs\": null\n",
      "        },\n",
      "        \"type\": \"ChatGeneration\",\n",
      "        \"message\": {\n",
      "          \"lc\": 1,\n",
      "          \"type\": \"constructor\",\n",
      "          \"id\": [\n",
      "            \"langchain\",\n",
      "            \"schema\",\n",
      "            \"messages\",\n",
      "            \"AIMessage\"\n",
      "          ],\n",
      "          \"kwargs\": {\n",
      "            \"content\": \"검색 결과에 가상화폐의 사용에 대한 정보가 없어서 답변할 수 없어. 미안!\",\n",
      "            \"additional_kwargs\": {\n",
      "              \"refusal\": null\n",
      "            },\n",
      "            \"response_metadata\": {\n",
      "              \"token_usage\": {\n",
      "                \"completion_tokens\": 24,\n",
      "                \"prompt_tokens\": 3500,\n",
      "                \"total_tokens\": 3524,\n",
      "                \"completion_tokens_details\": {\n",
      "                  \"accepted_prediction_tokens\": 0,\n",
      "                  \"audio_tokens\": 0,\n",
      "                  \"reasoning_tokens\": 0,\n",
      "                  \"rejected_prediction_tokens\": 0\n",
      "                },\n",
      "                \"prompt_tokens_details\": {\n",
      "                  \"audio_tokens\": 0,\n",
      "                  \"cached_tokens\": 0\n",
      "                }\n",
      "              },\n",
      "              \"model_name\": \"gpt-4o-2024-08-06\",\n",
      "              \"system_fingerprint\": \"fp_46bff0e0c8\",\n",
      "              \"id\": \"chatcmpl-C9508uFu5xyAd0WddS10zoMgsXvlg\",\n",
      "              \"service_tier\": \"default\",\n",
      "              \"finish_reason\": \"stop\",\n",
      "              \"logprobs\": null\n",
      "            },\n",
      "            \"type\": \"ai\",\n",
      "            \"id\": \"run--2f4199e0-424b-4087-99a3-9dc8f860cca1-0\",\n",
      "            \"usage_metadata\": {\n",
      "              \"input_tokens\": 3500,\n",
      "              \"output_tokens\": 24,\n",
      "              \"total_tokens\": 3524,\n",
      "              \"input_token_details\": {\n",
      "                \"audio\": 0,\n",
      "                \"cache_read\": 0\n",
      "              },\n",
      "              \"output_token_details\": {\n",
      "                \"audio\": 0,\n",
      "                \"reasoning\": 0\n",
      "              }\n",
      "            },\n",
      "            \"tool_calls\": [],\n",
      "            \"invalid_tool_calls\": []\n",
      "          }\n",
      "        }\n",
      "      }\n",
      "    ]\n",
      "  ],\n",
      "  \"llm_output\": {\n",
      "    \"token_usage\": {\n",
      "      \"completion_tokens\": 24,\n",
      "      \"prompt_tokens\": 3500,\n",
      "      \"total_tokens\": 3524,\n",
      "      \"completion_tokens_details\": {\n",
      "        \"accepted_prediction_tokens\": 0,\n",
      "        \"audio_tokens\": 0,\n",
      "        \"reasoning_tokens\": 0,\n",
      "        \"rejected_prediction_tokens\": 0\n",
      "      },\n",
      "      \"prompt_tokens_details\": {\n",
      "        \"audio_tokens\": 0,\n",
      "        \"cached_tokens\": 0\n",
      "      }\n",
      "    },\n",
      "    \"model_name\": \"gpt-4o-2024-08-06\",\n",
      "    \"system_fingerprint\": \"fp_46bff0e0c8\",\n",
      "    \"id\": \"chatcmpl-C9508uFu5xyAd0WddS10zoMgsXvlg\",\n",
      "    \"service_tier\": \"default\"\n",
      "  },\n",
      "  \"run\": null,\n",
      "  \"type\": \"LLMResult\"\n",
      "}\n",
      "\u001b[36;1m\u001b[1;3m[chain/end]\u001b[0m \u001b[1m[chain:RetrievalQA > chain:StuffDocumentsChain > chain:LLMChain] [1.40s] Exiting Chain run with output:\n",
      "\u001b[0m{\n",
      "  \"text\": \"검색 결과에 가상화폐의 사용에 대한 정보가 없어서 답변할 수 없어. 미안!\"\n",
      "}\n",
      "\u001b[36;1m\u001b[1;3m[chain/end]\u001b[0m \u001b[1m[chain:RetrievalQA > chain:StuffDocumentsChain] [1.40s] Exiting Chain run with output:\n",
      "\u001b[0m{\n",
      "  \"output_text\": \"검색 결과에 가상화폐의 사용에 대한 정보가 없어서 답변할 수 없어. 미안!\"\n",
      "}\n",
      "\u001b[36;1m\u001b[1;3m[chain/end]\u001b[0m \u001b[1m[chain:RetrievalQA] [4.47s] Exiting Chain run with output:\n",
      "\u001b[0m[outputs]\n",
      "Keyboard interruption in main thread... closing server.\n"
     ]
    },
    {
     "data": {
      "text/plain": []
     },
     "execution_count": 88,
     "metadata": {},
     "output_type": "execute_result"
    }
   ],
   "source": [
    "from langchain_core.tracers.stdout import ConsoleCallbackHandler\n",
    "\n",
    "# 인터페이스 생성\n",
    "with gr.Blocks() as demo:\n",
    "    # 챗봇 레이블을 좌측 상단에 구성\n",
    "    chatbot = gr.Chatbot(label=\"경제금융용어 챗봇\")\n",
    "    msg = gr.Textbox(label=\"질문해주세요!\")  # 하단의 채팅창 레이블\n",
    "    clear = gr.Button(\"대화 초기화\")  # 대화 초기화 버튼\n",
    "\n",
    "    # 챗봇의 답변을 처리하는 함수\n",
    "    def respond(message, chat_history):\n",
    "      result = qa_chain(message, \n",
    "                        callbacks=[ConsoleCallbackHandler()])\n",
    "      bot_message = result['result']\n",
    "\n",
    "      # 채팅 기록에 사용자의 메시지와 봇의 응답을 추가\n",
    "      chat_history.append([message, bot_message])  # tuple 대신 list 사용\n",
    "      return \"\", chat_history\n",
    "\n",
    "    # 사용자의 입력을 제출(submit)하면 respond 함수가 호출\n",
    "    msg.submit(respond, [msg, chatbot], [msg, chatbot])\n",
    "\n",
    "    # '초기화' 버튼을 클릭하면 채팅 기록을 초기화\n",
    "    clear.click(lambda: [], None, chatbot, queue=False)  # 빈 리스트 반환\n",
    "\n",
    "# 인터페이스 실행\n",
    "demo.launch(debug=True)"
   ]
  },
  {
   "cell_type": "code",
   "execution_count": 98,
   "metadata": {},
   "outputs": [
    {
     "name": "stdout",
     "output_type": "stream",
     "text": [
      "Closing server running on port: 7860\n"
     ]
    }
   ],
   "source": [
    "demo.close()"
   ]
  }
 ],
 "metadata": {
  "accelerator": "GPU",
  "colab": {
   "gpuType": "A100",
   "machine_shape": "hm",
   "provenance": []
  },
  "kernelspec": {
   "display_name": "langchain",
   "language": "python",
   "name": "python3"
  },
  "language_info": {
   "codemirror_mode": {
    "name": "ipython",
    "version": 3
   },
   "file_extension": ".py",
   "mimetype": "text/x-python",
   "name": "python",
   "nbconvert_exporter": "python",
   "pygments_lexer": "ipython3",
   "version": "3.10.18"
  }
 },
 "nbformat": 4,
 "nbformat_minor": 0
}
