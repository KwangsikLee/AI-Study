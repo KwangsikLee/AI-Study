{
  "cells": [
    {
      "cell_type": "code",
      "execution_count": 1,
      "metadata": {
        "colab": {
          "base_uri": "https://localhost:8080/"
        },
        "id": "Hue4QrMJgFwx",
        "outputId": "f4a7377e-63ee-461a-8302-faee053a5f4a"
      },
      "outputs": [
        {
          "name": "stdout",
          "output_type": "stream",
          "text": [
            "Collecting langchain_openai\n",
            "  Downloading langchain_openai-0.3.31-py3-none-any.whl.metadata (2.4 kB)\n",
            "Collecting langchain_community\n",
            "  Downloading langchain_community-0.3.27-py3-none-any.whl.metadata (2.9 kB)\n",
            "Collecting pypdf\n",
            "  Downloading pypdf-6.0.0-py3-none-any.whl.metadata (7.1 kB)\n",
            "Collecting chromadb\n",
            "  Downloading chromadb-1.0.20-cp39-abi3-manylinux_2_17_x86_64.manylinux2014_x86_64.whl.metadata (7.3 kB)\n",
            "Requirement already satisfied: langchain-core<1.0.0,>=0.3.74 in /usr/local/lib/python3.12/dist-packages (from langchain_openai) (0.3.74)\n",
            "Requirement already satisfied: openai<2.0.0,>=1.99.9 in /usr/local/lib/python3.12/dist-packages (from langchain_openai) (1.100.0)\n",
            "Requirement already satisfied: tiktoken<1,>=0.7 in /usr/local/lib/python3.12/dist-packages (from langchain_openai) (0.11.0)\n",
            "Requirement already satisfied: langchain<1.0.0,>=0.3.26 in /usr/local/lib/python3.12/dist-packages (from langchain_community) (0.3.27)\n",
            "Requirement already satisfied: SQLAlchemy<3,>=1.4 in /usr/local/lib/python3.12/dist-packages (from langchain_community) (2.0.43)\n",
            "Requirement already satisfied: requests<3,>=2 in /usr/local/lib/python3.12/dist-packages (from langchain_community) (2.32.4)\n",
            "Requirement already satisfied: PyYAML>=5.3 in /usr/local/lib/python3.12/dist-packages (from langchain_community) (6.0.2)\n",
            "Requirement already satisfied: aiohttp<4.0.0,>=3.8.3 in /usr/local/lib/python3.12/dist-packages (from langchain_community) (3.12.15)\n",
            "Requirement already satisfied: tenacity!=8.4.0,<10,>=8.1.0 in /usr/local/lib/python3.12/dist-packages (from langchain_community) (8.5.0)\n",
            "Collecting dataclasses-json<0.7,>=0.5.7 (from langchain_community)\n",
            "  Downloading dataclasses_json-0.6.7-py3-none-any.whl.metadata (25 kB)\n",
            "Requirement already satisfied: pydantic-settings<3.0.0,>=2.4.0 in /usr/local/lib/python3.12/dist-packages (from langchain_community) (2.10.1)\n",
            "Requirement already satisfied: langsmith>=0.1.125 in /usr/local/lib/python3.12/dist-packages (from langchain_community) (0.4.14)\n",
            "Requirement already satisfied: httpx-sse<1.0.0,>=0.4.0 in /usr/local/lib/python3.12/dist-packages (from langchain_community) (0.4.1)\n",
            "Requirement already satisfied: numpy>=1.26.2 in /usr/local/lib/python3.12/dist-packages (from langchain_community) (2.0.2)\n",
            "Requirement already satisfied: build>=1.0.3 in /usr/local/lib/python3.12/dist-packages (from chromadb) (1.3.0)\n",
            "Requirement already satisfied: pydantic>=1.9 in /usr/local/lib/python3.12/dist-packages (from chromadb) (2.11.7)\n",
            "Collecting pybase64>=1.4.1 (from chromadb)\n",
            "  Downloading pybase64-1.4.2-cp312-cp312-manylinux1_x86_64.manylinux2014_x86_64.manylinux_2_17_x86_64.manylinux_2_5_x86_64.whl.metadata (8.7 kB)\n",
            "Requirement already satisfied: uvicorn>=0.18.3 in /usr/local/lib/python3.12/dist-packages (from uvicorn[standard]>=0.18.3->chromadb) (0.35.0)\n",
            "Collecting posthog<6.0.0,>=2.4.0 (from chromadb)\n",
            "  Downloading posthog-5.4.0-py3-none-any.whl.metadata (5.7 kB)\n",
            "Requirement already satisfied: typing-extensions>=4.5.0 in /usr/local/lib/python3.12/dist-packages (from chromadb) (4.14.1)\n",
            "Collecting onnxruntime>=1.14.1 (from chromadb)\n",
            "  Downloading onnxruntime-1.22.1-cp312-cp312-manylinux_2_27_x86_64.manylinux_2_28_x86_64.whl.metadata (4.9 kB)\n",
            "Requirement already satisfied: opentelemetry-api>=1.2.0 in /usr/local/lib/python3.12/dist-packages (from chromadb) (1.36.0)\n",
            "Collecting opentelemetry-exporter-otlp-proto-grpc>=1.2.0 (from chromadb)\n",
            "  Downloading opentelemetry_exporter_otlp_proto_grpc-1.36.0-py3-none-any.whl.metadata (2.4 kB)\n",
            "Requirement already satisfied: opentelemetry-sdk>=1.2.0 in /usr/local/lib/python3.12/dist-packages (from chromadb) (1.36.0)\n",
            "Requirement already satisfied: tokenizers>=0.13.2 in /usr/local/lib/python3.12/dist-packages (from chromadb) (0.21.4)\n",
            "Collecting pypika>=0.48.9 (from chromadb)\n",
            "  Downloading PyPika-0.48.9.tar.gz (67 kB)\n",
            "\u001b[2K     \u001b[90m━━━━━━━━━━━━━━━━━━━━━━━━━━━━━━━━━━━━━━━━\u001b[0m \u001b[32m67.3/67.3 kB\u001b[0m \u001b[31m3.6 MB/s\u001b[0m eta \u001b[36m0:00:00\u001b[0m\n",
            "\u001b[?25h  Installing build dependencies ... \u001b[?25l\u001b[?25hdone\n",
            "  Getting requirements to build wheel ... \u001b[?25l\u001b[?25hdone\n",
            "  Preparing metadata (pyproject.toml) ... \u001b[?25l\u001b[?25hdone\n",
            "Requirement already satisfied: tqdm>=4.65.0 in /usr/local/lib/python3.12/dist-packages (from chromadb) (4.67.1)\n",
            "Collecting overrides>=7.3.1 (from chromadb)\n",
            "  Downloading overrides-7.7.0-py3-none-any.whl.metadata (5.8 kB)\n",
            "Requirement already satisfied: importlib-resources in /usr/local/lib/python3.12/dist-packages (from chromadb) (6.5.2)\n",
            "Requirement already satisfied: grpcio>=1.58.0 in /usr/local/lib/python3.12/dist-packages (from chromadb) (1.74.0)\n",
            "Collecting bcrypt>=4.0.1 (from chromadb)\n",
            "  Downloading bcrypt-4.3.0-cp39-abi3-manylinux_2_34_x86_64.whl.metadata (10 kB)\n",
            "Requirement already satisfied: typer>=0.9.0 in /usr/local/lib/python3.12/dist-packages (from chromadb) (0.16.0)\n",
            "Collecting kubernetes>=28.1.0 (from chromadb)\n",
            "  Downloading kubernetes-33.1.0-py2.py3-none-any.whl.metadata (1.7 kB)\n",
            "Collecting mmh3>=4.0.1 (from chromadb)\n",
            "  Downloading mmh3-5.2.0-cp312-cp312-manylinux1_x86_64.manylinux_2_28_x86_64.manylinux_2_5_x86_64.whl.metadata (14 kB)\n",
            "Requirement already satisfied: orjson>=3.9.12 in /usr/local/lib/python3.12/dist-packages (from chromadb) (3.11.2)\n",
            "Requirement already satisfied: httpx>=0.27.0 in /usr/local/lib/python3.12/dist-packages (from chromadb) (0.28.1)\n",
            "Requirement already satisfied: rich>=10.11.0 in /usr/local/lib/python3.12/dist-packages (from chromadb) (13.9.4)\n",
            "Requirement already satisfied: jsonschema>=4.19.0 in /usr/local/lib/python3.12/dist-packages (from chromadb) (4.25.1)\n",
            "Requirement already satisfied: aiohappyeyeballs>=2.5.0 in /usr/local/lib/python3.12/dist-packages (from aiohttp<4.0.0,>=3.8.3->langchain_community) (2.6.1)\n",
            "Requirement already satisfied: aiosignal>=1.4.0 in /usr/local/lib/python3.12/dist-packages (from aiohttp<4.0.0,>=3.8.3->langchain_community) (1.4.0)\n",
            "Requirement already satisfied: attrs>=17.3.0 in /usr/local/lib/python3.12/dist-packages (from aiohttp<4.0.0,>=3.8.3->langchain_community) (25.3.0)\n",
            "Requirement already satisfied: frozenlist>=1.1.1 in /usr/local/lib/python3.12/dist-packages (from aiohttp<4.0.0,>=3.8.3->langchain_community) (1.7.0)\n",
            "Requirement already satisfied: multidict<7.0,>=4.5 in /usr/local/lib/python3.12/dist-packages (from aiohttp<4.0.0,>=3.8.3->langchain_community) (6.6.4)\n",
            "Requirement already satisfied: propcache>=0.2.0 in /usr/local/lib/python3.12/dist-packages (from aiohttp<4.0.0,>=3.8.3->langchain_community) (0.3.2)\n",
            "Requirement already satisfied: yarl<2.0,>=1.17.0 in /usr/local/lib/python3.12/dist-packages (from aiohttp<4.0.0,>=3.8.3->langchain_community) (1.20.1)\n",
            "Requirement already satisfied: packaging>=19.1 in /usr/local/lib/python3.12/dist-packages (from build>=1.0.3->chromadb) (25.0)\n",
            "Requirement already satisfied: pyproject_hooks in /usr/local/lib/python3.12/dist-packages (from build>=1.0.3->chromadb) (1.2.0)\n",
            "Collecting marshmallow<4.0.0,>=3.18.0 (from dataclasses-json<0.7,>=0.5.7->langchain_community)\n",
            "  Downloading marshmallow-3.26.1-py3-none-any.whl.metadata (7.3 kB)\n",
            "Collecting typing-inspect<1,>=0.4.0 (from dataclasses-json<0.7,>=0.5.7->langchain_community)\n",
            "  Downloading typing_inspect-0.9.0-py3-none-any.whl.metadata (1.5 kB)\n",
            "Requirement already satisfied: anyio in /usr/local/lib/python3.12/dist-packages (from httpx>=0.27.0->chromadb) (4.10.0)\n",
            "Requirement already satisfied: certifi in /usr/local/lib/python3.12/dist-packages (from httpx>=0.27.0->chromadb) (2025.8.3)\n",
            "Requirement already satisfied: httpcore==1.* in /usr/local/lib/python3.12/dist-packages (from httpx>=0.27.0->chromadb) (1.0.9)\n",
            "Requirement already satisfied: idna in /usr/local/lib/python3.12/dist-packages (from httpx>=0.27.0->chromadb) (3.10)\n",
            "Requirement already satisfied: h11>=0.16 in /usr/local/lib/python3.12/dist-packages (from httpcore==1.*->httpx>=0.27.0->chromadb) (0.16.0)\n",
            "Requirement already satisfied: jsonschema-specifications>=2023.03.6 in /usr/local/lib/python3.12/dist-packages (from jsonschema>=4.19.0->chromadb) (2025.4.1)\n",
            "Requirement already satisfied: referencing>=0.28.4 in /usr/local/lib/python3.12/dist-packages (from jsonschema>=4.19.0->chromadb) (0.36.2)\n",
            "Requirement already satisfied: rpds-py>=0.7.1 in /usr/local/lib/python3.12/dist-packages (from jsonschema>=4.19.0->chromadb) (0.27.0)\n",
            "Requirement already satisfied: six>=1.9.0 in /usr/local/lib/python3.12/dist-packages (from kubernetes>=28.1.0->chromadb) (1.17.0)\n",
            "Requirement already satisfied: python-dateutil>=2.5.3 in /usr/local/lib/python3.12/dist-packages (from kubernetes>=28.1.0->chromadb) (2.9.0.post0)\n",
            "Requirement already satisfied: google-auth>=1.0.1 in /usr/local/lib/python3.12/dist-packages (from kubernetes>=28.1.0->chromadb) (2.38.0)\n",
            "Requirement already satisfied: websocket-client!=0.40.0,!=0.41.*,!=0.42.*,>=0.32.0 in /usr/local/lib/python3.12/dist-packages (from kubernetes>=28.1.0->chromadb) (1.8.0)\n",
            "Requirement already satisfied: requests-oauthlib in /usr/local/lib/python3.12/dist-packages (from kubernetes>=28.1.0->chromadb) (2.0.0)\n",
            "Requirement already satisfied: oauthlib>=3.2.2 in /usr/local/lib/python3.12/dist-packages (from kubernetes>=28.1.0->chromadb) (3.3.1)\n",
            "Requirement already satisfied: urllib3>=1.24.2 in /usr/local/lib/python3.12/dist-packages (from kubernetes>=28.1.0->chromadb) (2.5.0)\n",
            "Collecting durationpy>=0.7 (from kubernetes>=28.1.0->chromadb)\n",
            "  Downloading durationpy-0.10-py3-none-any.whl.metadata (340 bytes)\n",
            "Requirement already satisfied: langchain-text-splitters<1.0.0,>=0.3.9 in /usr/local/lib/python3.12/dist-packages (from langchain<1.0.0,>=0.3.26->langchain_community) (0.3.9)\n",
            "Requirement already satisfied: jsonpatch<2.0,>=1.33 in /usr/local/lib/python3.12/dist-packages (from langchain-core<1.0.0,>=0.3.74->langchain_openai) (1.33)\n",
            "Requirement already satisfied: requests-toolbelt>=1.0.0 in /usr/local/lib/python3.12/dist-packages (from langsmith>=0.1.125->langchain_community) (1.0.0)\n",
            "Requirement already satisfied: zstandard>=0.23.0 in /usr/local/lib/python3.12/dist-packages (from langsmith>=0.1.125->langchain_community) (0.24.0)\n",
            "Collecting coloredlogs (from onnxruntime>=1.14.1->chromadb)\n",
            "  Downloading coloredlogs-15.0.1-py2.py3-none-any.whl.metadata (12 kB)\n",
            "Requirement already satisfied: flatbuffers in /usr/local/lib/python3.12/dist-packages (from onnxruntime>=1.14.1->chromadb) (25.2.10)\n",
            "Requirement already satisfied: protobuf in /usr/local/lib/python3.12/dist-packages (from onnxruntime>=1.14.1->chromadb) (5.29.5)\n",
            "Requirement already satisfied: sympy in /usr/local/lib/python3.12/dist-packages (from onnxruntime>=1.14.1->chromadb) (1.13.3)\n",
            "Requirement already satisfied: distro<2,>=1.7.0 in /usr/local/lib/python3.12/dist-packages (from openai<2.0.0,>=1.99.9->langchain_openai) (1.9.0)\n",
            "Requirement already satisfied: jiter<1,>=0.4.0 in /usr/local/lib/python3.12/dist-packages (from openai<2.0.0,>=1.99.9->langchain_openai) (0.10.0)\n",
            "Requirement already satisfied: sniffio in /usr/local/lib/python3.12/dist-packages (from openai<2.0.0,>=1.99.9->langchain_openai) (1.3.1)\n",
            "Requirement already satisfied: importlib-metadata<8.8.0,>=6.0 in /usr/local/lib/python3.12/dist-packages (from opentelemetry-api>=1.2.0->chromadb) (8.7.0)\n",
            "Requirement already satisfied: googleapis-common-protos~=1.57 in /usr/local/lib/python3.12/dist-packages (from opentelemetry-exporter-otlp-proto-grpc>=1.2.0->chromadb) (1.70.0)\n",
            "Collecting opentelemetry-exporter-otlp-proto-common==1.36.0 (from opentelemetry-exporter-otlp-proto-grpc>=1.2.0->chromadb)\n",
            "  Downloading opentelemetry_exporter_otlp_proto_common-1.36.0-py3-none-any.whl.metadata (1.8 kB)\n",
            "Collecting opentelemetry-proto==1.36.0 (from opentelemetry-exporter-otlp-proto-grpc>=1.2.0->chromadb)\n",
            "  Downloading opentelemetry_proto-1.36.0-py3-none-any.whl.metadata (2.3 kB)\n",
            "Requirement already satisfied: opentelemetry-semantic-conventions==0.57b0 in /usr/local/lib/python3.12/dist-packages (from opentelemetry-sdk>=1.2.0->chromadb) (0.57b0)\n",
            "Collecting backoff>=1.10.0 (from posthog<6.0.0,>=2.4.0->chromadb)\n",
            "  Downloading backoff-2.2.1-py3-none-any.whl.metadata (14 kB)\n",
            "Requirement already satisfied: annotated-types>=0.6.0 in /usr/local/lib/python3.12/dist-packages (from pydantic>=1.9->chromadb) (0.7.0)\n",
            "Requirement already satisfied: pydantic-core==2.33.2 in /usr/local/lib/python3.12/dist-packages (from pydantic>=1.9->chromadb) (2.33.2)\n",
            "Requirement already satisfied: typing-inspection>=0.4.0 in /usr/local/lib/python3.12/dist-packages (from pydantic>=1.9->chromadb) (0.4.1)\n",
            "Requirement already satisfied: python-dotenv>=0.21.0 in /usr/local/lib/python3.12/dist-packages (from pydantic-settings<3.0.0,>=2.4.0->langchain_community) (1.1.1)\n",
            "Requirement already satisfied: charset_normalizer<4,>=2 in /usr/local/lib/python3.12/dist-packages (from requests<3,>=2->langchain_community) (3.4.3)\n",
            "Requirement already satisfied: markdown-it-py>=2.2.0 in /usr/local/lib/python3.12/dist-packages (from rich>=10.11.0->chromadb) (4.0.0)\n",
            "Requirement already satisfied: pygments<3.0.0,>=2.13.0 in /usr/local/lib/python3.12/dist-packages (from rich>=10.11.0->chromadb) (2.19.2)\n",
            "Requirement already satisfied: greenlet>=1 in /usr/local/lib/python3.12/dist-packages (from SQLAlchemy<3,>=1.4->langchain_community) (3.2.4)\n",
            "Requirement already satisfied: regex>=2022.1.18 in /usr/local/lib/python3.12/dist-packages (from tiktoken<1,>=0.7->langchain_openai) (2024.11.6)\n",
            "Requirement already satisfied: huggingface-hub<1.0,>=0.16.4 in /usr/local/lib/python3.12/dist-packages (from tokenizers>=0.13.2->chromadb) (0.34.4)\n",
            "Requirement already satisfied: click>=8.0.0 in /usr/local/lib/python3.12/dist-packages (from typer>=0.9.0->chromadb) (8.2.1)\n",
            "Requirement already satisfied: shellingham>=1.3.0 in /usr/local/lib/python3.12/dist-packages (from typer>=0.9.0->chromadb) (1.5.4)\n",
            "Collecting httptools>=0.6.3 (from uvicorn[standard]>=0.18.3->chromadb)\n",
            "  Downloading httptools-0.6.4-cp312-cp312-manylinux_2_5_x86_64.manylinux1_x86_64.manylinux_2_17_x86_64.manylinux2014_x86_64.whl.metadata (3.6 kB)\n",
            "Collecting uvloop>=0.15.1 (from uvicorn[standard]>=0.18.3->chromadb)\n",
            "  Downloading uvloop-0.21.0-cp312-cp312-manylinux_2_17_x86_64.manylinux2014_x86_64.whl.metadata (4.9 kB)\n",
            "Collecting watchfiles>=0.13 (from uvicorn[standard]>=0.18.3->chromadb)\n",
            "  Downloading watchfiles-1.1.0-cp312-cp312-manylinux_2_17_x86_64.manylinux2014_x86_64.whl.metadata (4.9 kB)\n",
            "Requirement already satisfied: websockets>=10.4 in /usr/local/lib/python3.12/dist-packages (from uvicorn[standard]>=0.18.3->chromadb) (15.0.1)\n",
            "Requirement already satisfied: cachetools<6.0,>=2.0.0 in /usr/local/lib/python3.12/dist-packages (from google-auth>=1.0.1->kubernetes>=28.1.0->chromadb) (5.5.2)\n",
            "Requirement already satisfied: pyasn1-modules>=0.2.1 in /usr/local/lib/python3.12/dist-packages (from google-auth>=1.0.1->kubernetes>=28.1.0->chromadb) (0.4.2)\n",
            "Requirement already satisfied: rsa<5,>=3.1.4 in /usr/local/lib/python3.12/dist-packages (from google-auth>=1.0.1->kubernetes>=28.1.0->chromadb) (4.9.1)\n",
            "Requirement already satisfied: filelock in /usr/local/lib/python3.12/dist-packages (from huggingface-hub<1.0,>=0.16.4->tokenizers>=0.13.2->chromadb) (3.19.1)\n",
            "Requirement already satisfied: fsspec>=2023.5.0 in /usr/local/lib/python3.12/dist-packages (from huggingface-hub<1.0,>=0.16.4->tokenizers>=0.13.2->chromadb) (2025.3.0)\n",
            "Requirement already satisfied: hf-xet<2.0.0,>=1.1.3 in /usr/local/lib/python3.12/dist-packages (from huggingface-hub<1.0,>=0.16.4->tokenizers>=0.13.2->chromadb) (1.1.7)\n",
            "Requirement already satisfied: zipp>=3.20 in /usr/local/lib/python3.12/dist-packages (from importlib-metadata<8.8.0,>=6.0->opentelemetry-api>=1.2.0->chromadb) (3.23.0)\n",
            "Requirement already satisfied: jsonpointer>=1.9 in /usr/local/lib/python3.12/dist-packages (from jsonpatch<2.0,>=1.33->langchain-core<1.0.0,>=0.3.74->langchain_openai) (3.0.0)\n",
            "Requirement already satisfied: mdurl~=0.1 in /usr/local/lib/python3.12/dist-packages (from markdown-it-py>=2.2.0->rich>=10.11.0->chromadb) (0.1.2)\n",
            "Collecting mypy-extensions>=0.3.0 (from typing-inspect<1,>=0.4.0->dataclasses-json<0.7,>=0.5.7->langchain_community)\n",
            "  Downloading mypy_extensions-1.1.0-py3-none-any.whl.metadata (1.1 kB)\n",
            "Collecting humanfriendly>=9.1 (from coloredlogs->onnxruntime>=1.14.1->chromadb)\n",
            "  Downloading humanfriendly-10.0-py2.py3-none-any.whl.metadata (9.2 kB)\n",
            "Requirement already satisfied: mpmath<1.4,>=1.1.0 in /usr/local/lib/python3.12/dist-packages (from sympy->onnxruntime>=1.14.1->chromadb) (1.3.0)\n",
            "Requirement already satisfied: pyasn1<0.7.0,>=0.6.1 in /usr/local/lib/python3.12/dist-packages (from pyasn1-modules>=0.2.1->google-auth>=1.0.1->kubernetes>=28.1.0->chromadb) (0.6.1)\n",
            "Downloading langchain_openai-0.3.31-py3-none-any.whl (74 kB)\n",
            "\u001b[2K   \u001b[90m━━━━━━━━━━━━━━━━━━━━━━━━━━━━━━━━━━━━━━━━\u001b[0m \u001b[32m74.5/74.5 kB\u001b[0m \u001b[31m6.7 MB/s\u001b[0m eta \u001b[36m0:00:00\u001b[0m\n",
            "\u001b[?25hDownloading langchain_community-0.3.27-py3-none-any.whl (2.5 MB)\n",
            "\u001b[2K   \u001b[90m━━━━━━━━━━━━━━━━━━━━━━━━━━━━━━━━━━━━━━━━\u001b[0m \u001b[32m2.5/2.5 MB\u001b[0m \u001b[31m43.2 MB/s\u001b[0m eta \u001b[36m0:00:00\u001b[0m\n",
            "\u001b[?25hDownloading pypdf-6.0.0-py3-none-any.whl (310 kB)\n",
            "\u001b[2K   \u001b[90m━━━━━━━━━━━━━━━━━━━━━━━━━━━━━━━━━━━━━━━━\u001b[0m \u001b[32m310.5/310.5 kB\u001b[0m \u001b[31m30.4 MB/s\u001b[0m eta \u001b[36m0:00:00\u001b[0m\n",
            "\u001b[?25hDownloading chromadb-1.0.20-cp39-abi3-manylinux_2_17_x86_64.manylinux2014_x86_64.whl (19.8 MB)\n",
            "\u001b[2K   \u001b[90m━━━━━━━━━━━━━━━━━━━━━━━━━━━━━━━━━━━━━━━━\u001b[0m \u001b[32m19.8/19.8 MB\u001b[0m \u001b[31m115.9 MB/s\u001b[0m eta \u001b[36m0:00:00\u001b[0m\n",
            "\u001b[?25hDownloading bcrypt-4.3.0-cp39-abi3-manylinux_2_34_x86_64.whl (284 kB)\n",
            "\u001b[2K   \u001b[90m━━━━━━━━━━━━━━━━━━━━━━━━━━━━━━━━━━━━━━━━\u001b[0m \u001b[32m284.2/284.2 kB\u001b[0m \u001b[31m28.4 MB/s\u001b[0m eta \u001b[36m0:00:00\u001b[0m\n",
            "\u001b[?25hDownloading dataclasses_json-0.6.7-py3-none-any.whl (28 kB)\n",
            "Downloading kubernetes-33.1.0-py2.py3-none-any.whl (1.9 MB)\n",
            "\u001b[2K   \u001b[90m━━━━━━━━━━━━━━━━━━━━━━━━━━━━━━━━━━━━━━━━\u001b[0m \u001b[32m1.9/1.9 MB\u001b[0m \u001b[31m99.4 MB/s\u001b[0m eta \u001b[36m0:00:00\u001b[0m\n",
            "\u001b[?25hDownloading mmh3-5.2.0-cp312-cp312-manylinux1_x86_64.manylinux_2_28_x86_64.manylinux_2_5_x86_64.whl (103 kB)\n",
            "\u001b[2K   \u001b[90m━━━━━━━━━━━━━━━━━━━━━━━━━━━━━━━━━━━━━━━━\u001b[0m \u001b[32m103.3/103.3 kB\u001b[0m \u001b[31m11.7 MB/s\u001b[0m eta \u001b[36m0:00:00\u001b[0m\n",
            "\u001b[?25hDownloading onnxruntime-1.22.1-cp312-cp312-manylinux_2_27_x86_64.manylinux_2_28_x86_64.whl (16.5 MB)\n",
            "\u001b[2K   \u001b[90m━━━━━━━━━━━━━━━━━━━━━━━━━━━━━━━━━━━━━━━━\u001b[0m \u001b[32m16.5/16.5 MB\u001b[0m \u001b[31m121.5 MB/s\u001b[0m eta \u001b[36m0:00:00\u001b[0m\n",
            "\u001b[?25hDownloading opentelemetry_exporter_otlp_proto_grpc-1.36.0-py3-none-any.whl (18 kB)\n",
            "Downloading opentelemetry_exporter_otlp_proto_common-1.36.0-py3-none-any.whl (18 kB)\n",
            "Downloading opentelemetry_proto-1.36.0-py3-none-any.whl (72 kB)\n",
            "\u001b[2K   \u001b[90m━━━━━━━━━━━━━━━━━━━━━━━━━━━━━━━━━━━━━━━━\u001b[0m \u001b[32m72.5/72.5 kB\u001b[0m \u001b[31m7.6 MB/s\u001b[0m eta \u001b[36m0:00:00\u001b[0m\n",
            "\u001b[?25hDownloading overrides-7.7.0-py3-none-any.whl (17 kB)\n",
            "Downloading posthog-5.4.0-py3-none-any.whl (105 kB)\n",
            "\u001b[2K   \u001b[90m━━━━━━━━━━━━━━━━━━━━━━━━━━━━━━━━━━━━━━━━\u001b[0m \u001b[32m105.4/105.4 kB\u001b[0m \u001b[31m11.6 MB/s\u001b[0m eta \u001b[36m0:00:00\u001b[0m\n",
            "\u001b[?25hDownloading pybase64-1.4.2-cp312-cp312-manylinux1_x86_64.manylinux2014_x86_64.manylinux_2_17_x86_64.manylinux_2_5_x86_64.whl (71 kB)\n",
            "\u001b[2K   \u001b[90m━━━━━━━━━━━━━━━━━━━━━━━━━━━━━━━━━━━━━━━━\u001b[0m \u001b[32m71.6/71.6 kB\u001b[0m \u001b[31m6.9 MB/s\u001b[0m eta \u001b[36m0:00:00\u001b[0m\n",
            "\u001b[?25hDownloading backoff-2.2.1-py3-none-any.whl (15 kB)\n",
            "Downloading durationpy-0.10-py3-none-any.whl (3.9 kB)\n",
            "Downloading httptools-0.6.4-cp312-cp312-manylinux_2_5_x86_64.manylinux1_x86_64.manylinux_2_17_x86_64.manylinux2014_x86_64.whl (510 kB)\n",
            "\u001b[2K   \u001b[90m━━━━━━━━━━━━━━━━━━━━━━━━━━━━━━━━━━━━━━━━\u001b[0m \u001b[32m510.8/510.8 kB\u001b[0m \u001b[31m34.2 MB/s\u001b[0m eta \u001b[36m0:00:00\u001b[0m\n",
            "\u001b[?25hDownloading marshmallow-3.26.1-py3-none-any.whl (50 kB)\n",
            "\u001b[2K   \u001b[90m━━━━━━━━━━━━━━━━━━━━━━━━━━━━━━━━━━━━━━━━\u001b[0m \u001b[32m50.9/50.9 kB\u001b[0m \u001b[31m5.3 MB/s\u001b[0m eta \u001b[36m0:00:00\u001b[0m\n",
            "\u001b[?25hDownloading typing_inspect-0.9.0-py3-none-any.whl (8.8 kB)\n",
            "Downloading uvloop-0.21.0-cp312-cp312-manylinux_2_17_x86_64.manylinux2014_x86_64.whl (4.7 MB)\n",
            "\u001b[2K   \u001b[90m━━━━━━━━━━━━━━━━━━━━━━━━━━━━━━━━━━━━━━━━\u001b[0m \u001b[32m4.7/4.7 MB\u001b[0m \u001b[31m125.5 MB/s\u001b[0m eta \u001b[36m0:00:00\u001b[0m\n",
            "\u001b[?25hDownloading watchfiles-1.1.0-cp312-cp312-manylinux_2_17_x86_64.manylinux2014_x86_64.whl (452 kB)\n",
            "\u001b[2K   \u001b[90m━━━━━━━━━━━━━━━━━━━━━━━━━━━━━━━━━━━━━━━━\u001b[0m \u001b[32m452.2/452.2 kB\u001b[0m \u001b[31m39.5 MB/s\u001b[0m eta \u001b[36m0:00:00\u001b[0m\n",
            "\u001b[?25hDownloading coloredlogs-15.0.1-py2.py3-none-any.whl (46 kB)\n",
            "\u001b[2K   \u001b[90m━━━━━━━━━━━━━━━━━━━━━━━━━━━━━━━━━━━━━━━━\u001b[0m \u001b[32m46.0/46.0 kB\u001b[0m \u001b[31m4.4 MB/s\u001b[0m eta \u001b[36m0:00:00\u001b[0m\n",
            "\u001b[?25hDownloading humanfriendly-10.0-py2.py3-none-any.whl (86 kB)\n",
            "\u001b[2K   \u001b[90m━━━━━━━━━━━━━━━━━━━━━━━━━━━━━━━━━━━━━━━━\u001b[0m \u001b[32m86.8/86.8 kB\u001b[0m \u001b[31m8.1 MB/s\u001b[0m eta \u001b[36m0:00:00\u001b[0m\n",
            "\u001b[?25hDownloading mypy_extensions-1.1.0-py3-none-any.whl (5.0 kB)\n",
            "Building wheels for collected packages: pypika\n",
            "  Building wheel for pypika (pyproject.toml) ... \u001b[?25l\u001b[?25hdone\n",
            "  Created wheel for pypika: filename=pypika-0.48.9-py2.py3-none-any.whl size=53803 sha256=4376f9e36a73de4145212b838b1232b08493e21211903b6f1ea5c0c989c8d946\n",
            "  Stored in directory: /root/.cache/pip/wheels/d5/3d/69/8d68d249cd3de2584f226e27fd431d6344f7d70fd856ebd01b\n",
            "Successfully built pypika\n",
            "Installing collected packages: pypika, durationpy, uvloop, pypdf, pybase64, overrides, opentelemetry-proto, mypy-extensions, mmh3, marshmallow, humanfriendly, httptools, bcrypt, backoff, watchfiles, typing-inspect, posthog, opentelemetry-exporter-otlp-proto-common, coloredlogs, onnxruntime, kubernetes, dataclasses-json, opentelemetry-exporter-otlp-proto-grpc, langchain_openai, chromadb, langchain_community\n",
            "Successfully installed backoff-2.2.1 bcrypt-4.3.0 chromadb-1.0.20 coloredlogs-15.0.1 dataclasses-json-0.6.7 durationpy-0.10 httptools-0.6.4 humanfriendly-10.0 kubernetes-33.1.0 langchain_community-0.3.27 langchain_openai-0.3.31 marshmallow-3.26.1 mmh3-5.2.0 mypy-extensions-1.1.0 onnxruntime-1.22.1 opentelemetry-exporter-otlp-proto-common-1.36.0 opentelemetry-exporter-otlp-proto-grpc-1.36.0 opentelemetry-proto-1.36.0 overrides-7.7.0 posthog-5.4.0 pybase64-1.4.2 pypdf-6.0.0 pypika-0.48.9 typing-inspect-0.9.0 uvloop-0.21.0 watchfiles-1.1.0\n"
          ]
        }
      ],
      "source": [
        "\n",
        "!pip install langchain_openai langchain_community pypdf chromadb"
      ]
    },
    {
      "cell_type": "code",
      "execution_count": 2,
      "metadata": {
        "id": "fkW9oSqLgJbc"
      },
      "outputs": [],
      "source": [
        "\n",
        "import os\n",
        "from langchain_openai import ChatOpenAI\n",
        "from langchain.prompts import PromptTemplate\n",
        "from langchain.vectorstores import Chroma\n",
        "from langchain.embeddings import OpenAIEmbeddings\n",
        "from langchain.chains import RetrievalQA\n",
        "from langchain.document_loaders import PyPDFLoader\n",
        "import urllib.request\n",
        "import gradio as gr"
      ]
    },
    {
      "cell_type": "code",
      "execution_count": 3,
      "metadata": {
        "id": "ALckopNugL2-"
      },
      "outputs": [],
      "source": [
        "# OpenAI API 키 설정 (본인의 API 키로 변경)\n",
        "from dotenv import load_dotenv\n",
        "\n",
        "load_dotenv()\n",
        "# OpenAI API 클라이언트 생성\n",
        "API_KEY = os.getenv(\"OPENAI_API_KEY\")\n",
        "\n",
        "# from google.colab import userdata\n",
        "# api_key=userdata.get('api_key')\n",
        "# os.environ[\"OPENAI_API_KEY\"] = api_key\n"
      ]
    },
    {
      "cell_type": "code",
      "execution_count": 4,
      "metadata": {
        "colab": {
          "base_uri": "https://localhost:8080/"
        },
        "id": "vWfXg-whgNoR",
        "outputId": "3cd5d5c0-2069-459e-ebe9-f3557f2ad35a"
      },
      "outputs": [
        {
          "data": {
            "text/plain": [
              "('2020_경제금융용어 700선_게시.pdf', <http.client.HTTPMessage at 0x12c1b0fa0>)"
            ]
          },
          "execution_count": 4,
          "metadata": {},
          "output_type": "execute_result"
        }
      ],
      "source": [
        "urllib.request.urlretrieve(\"https://github.com/chatgpt-kr/openai-api-tutorial/raw/main/ch07/2020_%EA%B2%BD%EC%A0%9C%EA%B8%88%EC%9C%B5%EC%9A%A9%EC%96%B4%20700%EC%84%A0_%EA%B2%8C%EC%8B%9C.pdf\", filename=\"2020_경제금융용어 700선_게시.pdf\")\n"
      ]
    },
    {
      "cell_type": "code",
      "execution_count": 5,
      "metadata": {
        "colab": {
          "base_uri": "https://localhost:8080/"
        },
        "id": "fVGsIAVTgQrY",
        "outputId": "d6d62688-d851-4e44-aa1d-63105bd1f4fd"
      },
      "outputs": [
        {
          "name": "stdout",
          "output_type": "stream",
          "text": [
            "문서의 수 : 366\n"
          ]
        }
      ],
      "source": [
        "\n",
        "loader = PyPDFLoader(\"2020_경제금융용어 700선_게시.pdf\")\n",
        "texts = loader.load_and_split()\n",
        "print('문서의 수 :', len(texts))"
      ]
    },
    {
      "cell_type": "code",
      "execution_count": 6,
      "metadata": {
        "colab": {
          "base_uri": "https://localhost:8080/"
        },
        "id": "zaoX8K7HgSAf",
        "outputId": "b0907e90-74e7-49f3-c14d-f61a9e50603f"
      },
      "outputs": [
        {
          "data": {
            "text/plain": [
              "Document(metadata={'producer': 'Smart PDF Imposition 1.0', 'creator': 'Smart PDF Imposition 1.0', 'creationdate': 'January 31, 2018 16:21', 'author': 'INSUNG DATA INC.', 'creationdate--text': 'January 31, 2018 16:21', 'moddate': 'January 31, 2018 16:21', 'moddate--text': 'January 31, 2018 16:21', 'subject': 'CoreImposition PDF 1.0 Output', 'title': '°æÁ¦±ÝÀ¶¿ë¾î 700¼±-ÃÖÁ¾.PDF', 'source': '2020_경제금융용어 700선_게시.pdf', 'total_pages': 371, 'page': 19, 'page_label': '20'}, page_content='3\\nㄱ \\n신용을 모두 포괄하는 것으로 크게 가계대출과 판매신용으로 구분된다. 현재 가계신용통\\n계는 2002년 말 잔액부터 분기별로 제공되고 있다. 가계신용통계는 우리나라 가계부문의 \\n부채 규모 및 변동 등을 파악하는 데 널리 활용되고 있다 .\\n가계처분가능소득 \\n가계처분가능소득(PDI; Personal Disposable Income)은 가계가 맘대로 소비와 저축\\n으로 처분할 수 있는 소득을 의미한다. 흔히 국민들의 생활수준을 파악해 볼 수 있는 \\n지표로 1인당 GNI가 널리 쓰이고 있으나 국민총소득에는 가계 뿐 아니라 기업 금융기관 \\n정부가 벌어 들인 소득이 모두 포함되어 있다. 따라서 기업과 금융기관 등이 가계부문 \\n보다 더 많은 소득을 벌어 1인당 국민총소득(GNI)이 높아진 경우에는 가계가 느끼는 \\n체감경기는 전체 경기와 괴리가 있게 된다. 1인당 가계총처분가능소득(PGDI; Personal \\nGross Disposable Income)은 가계부문의 총처분가능소득을 연앙인구로 나누어 계산한 \\n지표로 가계의 구매력을 가장 정확히 가늠해 볼 수 있는 소득지표이다 . \\n 연관검색어 : 국민총소득 (GNI)\\n가교은행\\n청산 대상 금융기관의 자산, 부채를 임시로 넘겨받아 예금, 출금 등의 업무를 대행하고 \\n합병, 채권채무관계 조정 등 후속조치를 수행하는 은행을 말한다. 금융기관이 파산한 경우 \\n예금보험제도는 청산, 매각, 자산부채승계, 가교은행을 통한 인수 등의 수단을 통해 부실 \\n금융기관을 처리한다. 이 중 가교은행을 통한 인수방식은 파산은행의 처리에 상당한 시간이 \\n소요될 것으로 예상할 경우 사용되며 새로운 은행을 설립하여 자산, 부채를 포괄승계하도록 \\n하고, 인수 희망자를 물색하는 등의 조치를 취하게 된다. 가교은행을 이용한 처리방식은 \\n금융기관 파산에 따른 충격을 완화하고 시간적인 여유를 확보할 수 있는 것이 장점이다. \\n임무를 마치면 정리대상 금융기관과 마찬가지로 없어지는 한시적 기관이다.\\n가동률\\n생산능력 대비 생산실적의 백분율(생산실적/생산능력×100)로, 생산설비가 어느 정도 \\n가동률 ∙')"
            ]
          },
          "execution_count": 6,
          "metadata": {},
          "output_type": "execute_result"
        }
      ],
      "source": [
        "\n",
        "texts[15]"
      ]
    },
    {
      "cell_type": "code",
      "execution_count": 7,
      "metadata": {
        "colab": {
          "base_uri": "https://localhost:8080/"
        },
        "id": "WTS3U6C_gT4m",
        "outputId": "59615784-8579-4548-887f-8fc1f8e7c613"
      },
      "outputs": [
        {
          "name": "stdout",
          "output_type": "stream",
          "text": [
            "3\n",
            "ㄱ \n",
            "신용을 모두 포괄하는 것으로 크게 가계대출과 판매신용으로 구분된다. 현재 가계신용통\n",
            "계는 2002년 말 잔액부터 분기별로 제공되고 있다. 가계신용통계는 우리나라 가계부문의 \n",
            "부채 규모 및 변동 등을 파악하는 데 널리 활용되고 있다 .\n",
            "가계처분가능소득 \n",
            "가계처분가능소득(PDI; Personal Disposable Income)은 가계가 맘대로 소비와 저축\n",
            "으로 처분할 수 있는 소득을 의미한다. 흔히 국민들의 생활수준을 파악해 볼 수 있는 \n",
            "지표로 1인당 GNI가 널리 쓰이고 있으나 국민총소득에는 가계 뿐 아니라 기업 금융기관 \n",
            "정부가 벌어 들인 소득이 모두 포함되어 있다. 따라서 기업과 금융기관 등이 가계부문 \n",
            "보다 더 많은 소득을 벌어 1인당 국민총소득(GNI)이 높아진 경우에는 가계가 느끼는 \n",
            "체감경기는 전체 경기와 괴리가 있게 된다. 1인당 가계총처분가능소득(PGDI; Personal \n",
            "Gross Disposable Income)은 가계부문의 총처분가능소득을 연앙인구로 나누어 계산한 \n",
            "지표로 가계의 구매력을 가장 정확히 가늠해 볼 수 있는 소득지표이다 . \n",
            " 연관검색어 : 국민총소득 (GNI)\n",
            "가교은행\n",
            "청산 대상 금융기관의 자산, 부채를 임시로 넘겨받아 예금, 출금 등의 업무를 대행하고 \n",
            "합병, 채권채무관계 조정 등 후속조치를 수행하는 은행을 말한다. 금융기관이 파산한 경우 \n",
            "예금보험제도는 청산, 매각, 자산부채승계, 가교은행을 통한 인수 등의 수단을 통해 부실 \n",
            "금융기관을 처리한다. 이 중 가교은행을 통한 인수방식은 파산은행의 처리에 상당한 시간이 \n",
            "소요될 것으로 예상할 경우 사용되며 새로운 은행을 설립하여 자산, 부채를 포괄승계하도록 \n",
            "하고, 인수 희망자를 물색하는 등의 조치를 취하게 된다. 가교은행을 이용한 처리방식은 \n",
            "금융기관 파산에 따른 충격을 완화하고 시간적인 여유를 확보할 수 있는 것이 장점이다. \n",
            "임무를 마치면 정리대상 금융기관과 마찬가지로 없어지는 한시적 기관이다.\n",
            "가동률\n",
            "생산능력 대비 생산실적의 백분율(생산실적/생산능력×100)로, 생산설비가 어느 정도 \n",
            "가동률 ∙\n"
          ]
        }
      ],
      "source": [
        "print(texts[15].page_content)"
      ]
    },
    {
      "cell_type": "code",
      "execution_count": 8,
      "metadata": {
        "colab": {
          "base_uri": "https://localhost:8080/"
        },
        "id": "TlYrcVABgZak",
        "outputId": "ce6986d4-f3b9-4948-dfd4-6a8029ff3c94"
      },
      "outputs": [
        {
          "name": "stdout",
          "output_type": "stream",
          "text": [
            "iii\n",
            "찾아보기\n",
            "한국은행은 국민들이 경제 및 금융에 대한 이해도를 높이고 경제에 관한 합리적인 \n",
            "의사결정 능력을 키울 수 있도록 현장 경제교육, 온라인 경제교육, 경제교육 콘텐츠 \n",
            "개발 등 대국민 경제교육을 다양하게 수행해 오고 있습니다 . \n",
            "이의 일환으로 2018년 \n",
            " 경제금융용어 700선\n",
            " 을 발간하였는데 그간 동 책자에 대한 \n",
            "수요가 꾸준히 늘어남에 따라 이번에 추가로 발간하게 되었습니다 .\n",
            "지난번 내용과 같이 통화정책, 실물경제, 금융안정, 지급결제 등 한국은행 주요 \n",
            "업무를 이해하는데 필요한 전문 용어와 경제·금융 흐름을 이해하는데 도움이 되는 \n",
            "시사 경제금융 용어들을 수록하였습니다. 용어해설은 개념과 도입 배경, 의미, 적용 \n",
            "사례 등을 담아 쉽게 이해할 수 있도록 하였습니다. 또한 e-book으로도 제작하여 \n",
            "독자들의 편의성과 가독성을 높였습니다 . \n",
            "코로나 19로 이전에 경험하지 못한 경제위기를 겪으면서 경제·금융 현상에 대한 \n",
            "일반인들의 관심도가 이전에 비해 높아졌습니다. 아무쪼록 이 책자가 한국은행의 주요 \n",
            "정책과 국내외 경제를 이해하는 데 조금이나마 도움이 되기를 바라겠습니다. 끝으로 \n",
            "경제금융용어 700선\n",
            "  집필에 참여해주신 경제교육실 교수님들과 용어 집필에 좋은 \n",
            "의견을 주신 관련부서 여러분께 감사드립니다 .\n",
            "2020년 8월\n",
            "한국은행 경제교육실장 박 철 원\n",
            "머 리 말\n"
          ]
        }
      ],
      "source": [
        "print(texts[0].page_content)"
      ]
    },
    {
      "cell_type": "code",
      "execution_count": 8,
      "metadata": {
        "colab": {
          "base_uri": "https://localhost:8080/"
        },
        "id": "1EtjuwCggbtW",
        "outputId": "8233a0be-1dc6-46de-c525-d719cc6466a6"
      },
      "outputs": [
        {
          "name": "stdout",
          "output_type": "stream",
          "text": [
            "vi\n",
            "경제금융용어 700선\n",
            "ㅂ\n",
            "바이오인증 ・ ・ ・ ・ ・ ・ ・ ・ ・ ・ ・ ・ ・ ・ ・ ・ ・ ・ ・ ・ ・ ・ ・ ・ ・ ・ ・ ・ ・ ・ ・ ・ ・ ・ ・ ・ ・ ・ ・ ・ ・ ・118\n",
            "바젤은행감독위원회/\n",
            "바젤위원회(BCBS) ・ ・ ・ ・ ・ ・ ・ ・ ・ ・ ・ ・ ・ ・ ・ ・ ・ ・ ・ ・ ・ ・ ・ ・ ・ ・118\n",
            "발행시장 ・・・・・・・・・・・・・・・・・・・・・・・・・・・・・・・・・・・・・・・・・・・・・・119\n",
            "발행중지화폐/유통정지화폐 ・・・・・・・・・・・・・・・120\n",
            "방카슈랑스 ・ ・ ・ ・ ・ ・ ・ ・ ・ ・ ・ ・ ・ ・ ・ ・ ・ ・ ・ ・ ・ ・ ・ ・ ・ ・ ・ ・ ・ ・ ・ ・ ・ ・ ・ ・ ・ ・ ・ ・ ・ ・120\n",
            "배당할인모형 ・・・・・・・・・・・・・・・・・・・・・・・・・・・・・・・・・・・・・・・121\n",
            "밴드웨건효과 ・・・・・・・・・・・・・・・・・・・・・・・・・・・・・・・・・・・・・・・121\n",
            "뱅 크 런 ・・・・・・・・・・・・・・・・・・・・・・・・・・・・・・・・・・・・・・・・・・・・・・・・・・122\n",
            "범위의 경제 ・ ・ ・ ・ ・ ・ ・ ・ ・ ・ ・ ・ ・ ・ ・ ・ ・ ・ ・ ・ ・ ・ ・ ・ ・ ・ ・ ・ ・ ・ ・ ・ ・ ・ ・ ・ ・ ・ ・ ・122\n",
            "법률리스크 ・ ・ ・ ・ ・ ・ ・ ・ ・ ・ ・ ・ ・ ・ ・ ・ ・ ・ ・ ・ ・ ・ ・ ・ ・ ・ ・ ・ ・ ・ ・ ・ ・ ・ ・ ・ ・ ・ ・ ・ ・ ・122\n",
            "베블런효과 ・ ・ ・ ・ ・ ・ ・ ・ ・ ・ ・ ・ ・ ・ ・ ・ ・ ・ ・ ・ ・ ・ ・ ・ ・ ・ ・ ・ ・ ・ ・ ・ ・ ・ ・ ・ ・ ・ ・ ・ ・ ・123\n",
            "변동금리 ・・・・・・・・・・・・・・・・・・・・・・・・・・・・・・・・・・・・・・・・・・・・・・123\n",
            "변동금리부채권(FRN) ・ ・ ・・・・・・・・・・・・・・・・・・・・・・・123\n",
            "보기화폐(견양화폐) ・ ・ ・ ・ ・ ・ ・ ・ ・ ・ ・ ・ ・ ・ ・ ・ ・ ・ ・ ・ ・ ・ ・ ・ ・ ・ ・ ・ ・124\n",
            "보완자본(Tier 2) ・・・・・・・・・・・・・・・・・・・・・・・・・・・・・・・・124\n",
            "보 완 재 ・・・・・・・・・・・・・・・・・・・・・・・・・・・・・・・・・・・・・・・・・・・・・・・・・・125\n",
            "보통주자본\n",
            "( C o m m o n  E q u i t y  T i e r  1 ) ・・・・・・・・・・・・125\n",
            "보호무역주의 ・・・・・・・・・・・・・・・・・・・・・・・・・・・・・・・・・・・・・・・125\n",
            "복수통화바스켓제도 ・ ・・・・・・・・・・・・・・・・・・・・・・・・・・・126\n",
            "본원소득 ・・・・・・・・・・・・・・・・・・・・・・・・・・・・・・・・・・・・・・・・・・・・・・127\n",
            "본원소득수지 ・・・・・・・・・・・・・・・・・・・・・・・・・・・・・・・・・・・・・・・127\n",
            "본원통화 ・・・・・・・・・・・・・・・・・・・・・・・・・・・・・・・・・・・・・・・・・・・・・・127\n",
            "볼 커 룰 ・・・・・・・・・・・・・・・・・・・・・・・・・・・・・・・・・・・・・・・・・・・・・・・・・・128\n",
            "부가가치 ・・・・・・・・・・・・・・・・・・・・・・・・・・・・・・・・・・・・・・・・・・・・・・128\n",
            "부가가치기준 무역(TiVA) ・ ・ ・ ・ ・ ・ ・ ・ ・ ・ ・ ・ ・ ・ ・ ・ ・ ・ ・129\n",
            "부가가치유발계수/부가가치계수 ・ ・・・・・・・129\n",
            "부동화/무권화 ・ ・ ・ ・ ・ ・ ・ ・ ・ ・ ・ ・ ・ ・ ・ ・ ・ ・ ・ ・ ・ ・ ・ ・ ・ ・ ・ ・ ・ ・ ・ ・ ・ ・ ・ ・ ・130\n",
            "부실채권정리기금 ・ ・ ・ ・・・・・・・・・・・・・・・・・・・・・・・・・・・・130\n",
            "부채담보부증권(CDO) ・・・・・・・・・・・・・・・・・・・・・・・・・130\n",
            "부채비율 ・・・・・・・・・・・・・・・・・・・・・・・・・・・・・・・・・・・・・・・・・・・・・・131\n",
            "북미자유무역협정(NAFTA) ・ ・ ・ ・ ・ ・ ・ ・ ・ ・ ・ ・ ・ ・ ・ ・ ・131\n",
            "분리결제 ・・・・・・・・・・・・・・・・・・・・・・・・・・・・・・・・・・・・・・・・・・・・・・132\n",
            "분산원장기술 ・ ・・・・・・・・・・・・・・・・・・・・・・・・・・・・・・・・・・・・・・132\n",
            "분수효과 ・・・・・・・・・・・・・・・・・・・・・・・・・・・・・・・・・・・・・・・・・・・・・・133\n",
            "불완전경쟁시장 ・・・・・・・・・・・・・・・・・・・・・・・・・・・・・・・・・・・133\n",
            "불태화정책 ・ ・ ・ ・ ・ ・ ・ ・ ・ ・ ・ ・ ・ ・ ・ ・ ・ ・ ・ ・ ・ ・ ・ ・ ・ ・ ・ ・ ・ ・ ・ ・ ・ ・ ・ ・ ・ ・ ・ ・ ・ ・134\n",
            "브레튼우즈체제 ・・・・・・・・・・・・・・・・・・・・・・・・・・・・・・・・・・・134\n",
            "브렉시트(Brexit) ・ ・ ・ ・ ・ ・ ・ ・ ・ ・ ・ ・ ・ ・ ・ ・ ・ ・ ・ ・ ・ ・ ・ ・ ・ ・ ・ ・ ・ ・ ・ ・ ・135\n",
            "브 릭 스 ・・・・・・・・・・・・・・・・・・・・・・・・・・・・・・・・・・・・・・・・・・・・・・・・・・135\n",
            "블록체인 ・・・・・・・・・・・・・・・・・・・・・・・・・・・・・・・・・・・・・・・・・・・・・・136\n",
            "블록체인과 탈중앙화 ・・・・・・・・・・・・・・・・・・・・・・・・・・136\n",
            "비관측경제(NOE) ・ ・ ・ ・ ・ ・ ・ ・ ・ ・ ・ ・ ・ ・ ・ ・ ・ ・ ・ ・ ・ ・ ・ ・ ・ ・ ・ ・ ・ ・ ・ ・137\n",
            "비교우위 ・・・・・・・・・・・・・・・・・・・・・・・・・・・・・・・・・・・・・・・・・・・・・・138\n",
            "비용인상 인플레이션 ・・・・・・・・・・・・・・・・・・・・・・・・・・138\n",
            "비트코인 ・・・・・・・・・・・・・・・・・・・・・・・・・・・・・・・・・・・・・・・・・・・・・・139\n",
            "빅데이터 ・・・・・・・・・・・・・・・・・・・・・・・・・・・・・・・・・・・・・・・・・・・・・・139\n",
            "빅맥지수 ・・・・・・・・・・・・・・・・・・・・・・・・・・・・・・・・・・・・・・・・・・・・・・140\n",
            "ㅅ\n",
            "사이버리스크 ・ ・・・・・・・・・・・・・・・・・・・・・・・・・・・・・・・・・・・・・・141\n",
            "사전담보제 ・ ・ ・ ・ ・ ・ ・ ・ ・ ・ ・ ・ ・ ・ ・ ・ ・ ・ ・ ・ ・ ・ ・ ・ ・ ・ ・ ・ ・ ・ ・ ・ ・ ・ ・ ・ ・ ・ ・ ・ ・ ・141\n",
            "사전적 정책방향 제시\n",
            "( f o r w a r d  g u i d a n c e ) ・・・・・・・・・・・・・・・・・・・・・・142\n",
            "4차 산업혁명 ・・・・・・・・・・・・・・・・・・・・・・・・・・・・・・・・・・・・・・143\n",
            "사회보장제도 ・ ・・・・・・・・・・・・・・・・・・・・・・・・・・・・・・・・・・・・・・143\n",
            "사회보험 ・・・・・・・・・・・・・・・・・・・・・・・・・・・・・・・・・・・・・・・・・・・・・・144\n",
            "산업연관표(I/O Tables) ・ ・ ・・・・・・・・・・・・・・・・・・・144\n",
            "삼불원칙 ・・・・・・・・・・・・・・・・・・・・・・・・・・・・・・・・・・・・・・・・・・・・・・145\n",
            "상계관세 ・・・・・・・・・・・・・・・・・・・・・・・・・・・・・・・・・・・・・・・・・・・・・・145\n",
            "상대적 빈곤율 ・・・・・・・・・・・・・・・・・・・・・・・・・・・・・・・・・・・・・146\n",
            "상시감시제도/상시감시전담데스크 ・・ ・・ 146\n"
          ]
        }
      ],
      "source": [
        "\n",
        "print(texts[5].page_content)"
      ]
    },
    {
      "cell_type": "code",
      "execution_count": 10,
      "metadata": {
        "colab": {
          "base_uri": "https://localhost:8080/"
        },
        "id": "53-6sLXygfIy",
        "outputId": "48f4b21d-dd92-48e4-fb27-f909a0598ad8"
      },
      "outputs": [
        {
          "name": "stdout",
          "output_type": "stream",
          "text": [
            "xiii\n",
            "찾아보기❙\n",
            "환매조건부매매/RP/Repo ・ ・ ・ ・ ・ ・ ・ ・ ・ ・ ・ ・ ・ ・ ・ ・ ・ ・331\n",
            "환 어 음 ・・・・・・・・・・・・・・・・・・・・・・・・・・・・・・・・・・・・・・・・・・・・・・・・・・332\n",
            "환율조작국 ・ ・ ・ ・ ・ ・ ・ ・ ・ ・ ・ ・ ・ ・ ・ ・ ・ ・ ・ ・ ・ ・ ・ ・ ・ ・ ・ ・ ・ ・ ・ ・ ・ ・ ・ ・ ・ ・ ・ ・ ・ ・332\n",
            "환전영업자(환전상) ・ ・ ・ ・ ・ ・ ・ ・ ・ ・ ・ ・ ・ ・ ・ ・ ・ ・ ・ ・ ・ ・ ・ ・ ・ ・ ・ ・ ・333\n",
            "환차손/환차익 ・ ・ ・ ・ ・ ・ ・ ・ ・ ・ ・ ・ ・ ・ ・ ・ ・ ・ ・ ・ ・ ・ ・ ・ ・ ・ ・ ・ ・ ・ ・ ・ ・ ・ ・ ・ ・333\n",
            "황금낙하산 ・ ・ ・ ・ ・ ・ ・ ・ ・ ・ ・ ・ ・ ・ ・ ・ ・ ・ ・ ・ ・ ・ ・ ・ ・ ・ ・ ・ ・ ・ ・ ・ ・ ・ ・ ・ ・ ・ ・ ・ ・ ・334\n",
            "회 사 채 ・・・・・・・・・・・・・・・・・・・・・・・・・・・・・・・・・・・・・・・・・・・・・・・・・・334\n",
            "회수의문 ・・・・・・・・・・・・・・・・・・・・・・・・・・・・・・・・・・・・・・・・・・・・・・335\n",
            "후방연쇄효과 ・・・・・・・・・・・・・・・・・・・・・・・・・・・・・・・・・・・・・・・335\n",
            "후순위금융채 ・・・・・・・・・・・・・・・・・・・・・・・・・・・・・・・・・・・・・・・335\n",
            "후행종합지수 ・・・・・・・・・・・・・・・・・・・・・・・・・・・・・・・・・・・・・・・336\n",
            "ABC\n",
            "B e y o n d  G D P ・・・・・・・・・・・・・・・・・・・・・・・・・・・・・・・・・・・・・・337\n",
            "BIS 자기자본비율 ・・・・・・・・・・・・・・・・・・・・・・・・・・・・・・・338\n",
            "CAMEL-R시스템/ROCA시스템/\n",
            "C A C R E L 시 스 템 ・・・・・・・・・・・・・・・・・・・・・・・・・・・・・・・338\n",
            "C L S 은 행 ・・・・・・・・・・・・・・・・・・・・・・・・・・・・・・・・・・・・・・・・・・・・・・339\n",
            "C M O ・・・・・・・・・・・・・・・・・・・・・・・・・・・・・・・・・・・・・・・・・・・・・・・・・・・・339\n",
            "D e b t R a n k ・・・・・・・・・・・・・・・・・・・・・・・・・・・・・・・・・・・・・・・・・・・340\n",
            "E C 방 식 ・・・・・・・・・・・・・・・・・・・・・・・・・・・・・・・・・・・・・・・・・・・・・・・・340\n",
            "F T S E  지 수 ・・・・・・・・・・・・・・・・・・・・・・・・・・・・・・・・・・・・・・・・・・341\n",
            "G 2 ( G r o u p  o f  T w o ) ・・・・・・・・・・・・・・・・・・・・・・・・・・・341\n",
            "G 2 0 ( G r o u p  o f  2 0 ) ・・・・・・・・・・・・・・・・・・・・・・・・・・・・342\n",
            "G 7 ( G r o u p  o f  S e v e n ) ・・・・・・・・・・・・・・・・・・・・・・・・342\n",
            "G D P 갭 ・・・・・・・・・・・・・・・・・・・・・・・・・・・・・・・・・・・・・・・・・・・・・・・・・343\n",
            "GDP디플레이터 ・・・・・・・・・・・・・・・・・・・・・・・・・・・・・・・・・・・343\n",
            "H e r s t a t t  리 스 크 ・・・・・・・・・・・・・・・・・・・・・・・・・・・・・・・・・344\n",
            "I C  카 드 ・・・・・・・・・・・・・・・・・・・・・・・・・・・・・・・・・・・・・・・・・・・・・・・・344\n",
            "IMF 스탠드바이협약 ・・・・・・・・・・・・・・・・・・・・・・・・・・・345\n",
            "I M F  쿼 타 ・・・・・・・・・・・・・・・・・・・・・・・・・・・・・・・・・・・・・・・・・・・・・345\n",
            "I M F  포 지 션 ・・・・・・・・・・・・・・・・・・・・・・・・・・・・・・・・・・・・・・・・・346\n",
            "J커브효과 ・・・・・・・・・・・・・・・・・・・・・・・・・・・・・・・・・・・・・・・・・・・・346\n",
            "K I K O ・・・・・・・・・・・・・・・・・・・・・・・・・・・・・・・・・・・・・・・・・・・・・・・・・・・・346\n",
            "L I B O R ・・・・・・・・・・・・・・・・・・・・・・・・・・・・・・・・・・・・・・・・・・・・・・・・・・347\n",
            "M & A ・・・・・・・・・・・・・・・・・・・・・・・・・・・・・・・・・・・・・・・・・・・・・・・・・・・・348\n",
            "M S C I  지 수 ・・・・・・・・・・・・・・・・・・・・・・・・・・・・・・・・・・・・・・・・・・348\n",
            "N - B  S R S ・・・・・・・・・・・・・・・・・・・・・・・・・・・・・・・・・・・・・・・・・・・・・348\n",
            "P 2 P 대 출 ・・・・・・・・・・・・・・・・・・・・・・・・・・・・・・・・・・・・・・・・・・・・・・349\n",
            "P F - A B C P ・・・・・・・・・・・・・・・・・・・・・・・・・・・・・・・・・・・・・・・・・・・・・349\n",
            "S W I F T ・・・・・・・・・・・・・・・・・・・・・・・・・・・・・・・・・・・・・・・・・・・・・・・・・350\n",
            "TED 스프레드 ・・・・・・・・・・・・・・・・・・・・・・・・・・・・・・・・・・・・・350\n",
            "T r e a s u r y  B i l l ( T / B ) ・・・・・・・・・・・・・・・・・・・・・・・・・・・・・351\n",
            "V A N 사 업 자 ・・・・・・・・・・・・・・・・・・・・・・・・・・・・・・・・・・・・・・・・・・351\n",
            "V a R ( V a l u e  a t  R i s k ) ・・・・・・・・・・・・・・・・・・・・・・・・・・352\n",
            "V I X ・・・・・・・・・・・・・・・・・・・・・・・・・・・・・・・・・・・・・・・・・・・・・・・・・・・・・・・352\n"
          ]
        }
      ],
      "source": [
        "print(texts[12].page_content)"
      ]
    },
    {
      "cell_type": "code",
      "execution_count": 11,
      "metadata": {
        "colab": {
          "base_uri": "https://localhost:8080/"
        },
        "id": "VmPXaQA1ggm4",
        "outputId": "aaa9eb68-eb7f-40a3-b242-4a19aa16f56d"
      },
      "outputs": [
        {
          "name": "stdout",
          "output_type": "stream",
          "text": [
            "1\n",
            "ㄱ \n",
            "ㄱ\n",
            "가계부실위험지수(HDRI)\n",
            "가구의 소득 흐름은 물론 금융 및 실물 자산까지 종합적으로 고려하여 가계부채의 \n",
            "부실위험을 평가하는 지표로, 가계의 채무상환능력을 소득 측면에서 평가하는 원리금상\n",
            "환비율(DSR; Debt Service Ratio)과 자산 측면에서 평가하는 부채/자산비율(DTA; Debt \n",
            "To Asset Ratio)을 결합하여 산출한 지수이다. 가계부실위험지수는 가구의 DSR과 DTA가 \n",
            "각각 40%, 100%일 때 100의 값을 갖도록 설정되어 있으며, 동 지수가 100을 초과하는 \n",
            "가구를 ‘위험가구’로 분류한다. 위험가구는 소득 및 자산 측면에서 모두 취약한 ‘고위험가구’, \n",
            "자산 측면에서 취약한 ‘고DTA가구’, 소득 측면에서 취약한 ‘고DSR가구’로 구분할 수 있다. \n",
            "다만 위험 및 고위험 가구는 가구의 채무상환능력 취약성 정도를 평가하기 위한 것이며 \n",
            "이들 가구가 당장 채무상환 불이행, 즉 임계상황에 직면한 것을 의미하지 않는다 .\n",
            " 연관검색어 : 총부채원리금상환비율(DSR)\n",
            "가계수지\n",
            "가정에서 일정 기간의 수입(명목소득)과 지출을 비교해서 남았는지 모자랐는지를 \n",
            "표시한 것을 가계수지(household's total income and expenditure)라 한다. 가계수지가 \n",
            "가계수지 ∙\n"
          ]
        }
      ],
      "source": [
        "print(texts[13].page_content)"
      ]
    },
    {
      "cell_type": "code",
      "execution_count": 9,
      "metadata": {
        "colab": {
          "base_uri": "https://localhost:8080/"
        },
        "id": "-NURUQLSghs8",
        "outputId": "61494fea-21bd-47fd-9f2a-aa7b1c16f5bd"
      },
      "outputs": [
        {
          "name": "stdout",
          "output_type": "stream",
          "text": [
            "줄어든 청크의 개수: 353\n"
          ]
        }
      ],
      "source": [
        "\n",
        "texts = texts[13:]\n",
        "print('줄어든 청크의 개수:', len(texts))"
      ]
    },
    {
      "cell_type": "code",
      "execution_count": 10,
      "metadata": {
        "colab": {
          "base_uri": "https://localhost:8080/"
        },
        "id": "8vWSk7gTgi6i",
        "outputId": "767bc3b5-73e7-4a35-8ac9-4cfd755df9b2"
      },
      "outputs": [
        {
          "name": "stdout",
          "output_type": "stream",
          "text": [
            "첫번째 청크 출력 : page_content='1\n",
            "ㄱ \n",
            "ㄱ\n",
            "가계부실위험지수(HDRI)\n",
            "가구의 소득 흐름은 물론 금융 및 실물 자산까지 종합적으로 고려하여 가계부채의 \n",
            "부실위험을 평가하는 지표로, 가계의 채무상환능력을 소득 측면에서 평가하는 원리금상\n",
            "환비율(DSR; Debt Service Ratio)과 자산 측면에서 평가하는 부채/자산비율(DTA; Debt \n",
            "To Asset Ratio)을 결합하여 산출한 지수이다. 가계부실위험지수는 가구의 DSR과 DTA가 \n",
            "각각 40%, 100%일 때 100의 값을 갖도록 설정되어 있으며, 동 지수가 100을 초과하는 \n",
            "가구를 ‘위험가구’로 분류한다. 위험가구는 소득 및 자산 측면에서 모두 취약한 ‘고위험가구’, \n",
            "자산 측면에서 취약한 ‘고DTA가구’, 소득 측면에서 취약한 ‘고DSR가구’로 구분할 수 있다. \n",
            "다만 위험 및 고위험 가구는 가구의 채무상환능력 취약성 정도를 평가하기 위한 것이며 \n",
            "이들 가구가 당장 채무상환 불이행, 즉 임계상황에 직면한 것을 의미하지 않는다 .\n",
            " 연관검색어 : 총부채원리금상환비율(DSR)\n",
            "가계수지\n",
            "가정에서 일정 기간의 수입(명목소득)과 지출을 비교해서 남았는지 모자랐는지를 \n",
            "표시한 것을 가계수지(household's total income and expenditure)라 한다. 가계수지가 \n",
            "가계수지 ∙' metadata={'producer': 'Smart PDF Imposition 1.0', 'creator': 'Smart PDF Imposition 1.0', 'creationdate': 'January 31, 2018 16:21', 'author': 'INSUNG DATA INC.', 'creationdate--text': 'January 31, 2018 16:21', 'moddate': 'January 31, 2018 16:21', 'moddate--text': 'January 31, 2018 16:21', 'subject': 'CoreImposition PDF 1.0 Output', 'title': '°æÁ¦±ÝÀ¶¿ë¾î 700¼±-ÃÖÁ¾.PDF', 'source': '2020_경제금융용어 700선_게시.pdf', 'total_pages': 371, 'page': 17, 'page_label': '18'}\n"
          ]
        }
      ],
      "source": [
        "\n",
        "print('첫번째 청크 출력 :', texts[0])\n"
      ]
    },
    {
      "cell_type": "code",
      "execution_count": 14,
      "metadata": {
        "colab": {
          "base_uri": "https://localhost:8080/"
        },
        "id": "q0heVhANgkWs",
        "outputId": "f0ac94df-904d-48ad-c8dc-6cf8e7ffe832"
      },
      "outputs": [
        {
          "name": "stdout",
          "output_type": "stream",
          "text": [
            "마지막 청크 출력 : page_content='경제금융용어 700선\n",
            "발행인 이주열\n",
            "편집인 박철원\n",
            "발행처 한국은행(www.bok.or.kr)\n",
            "서울특별시 중구 세종대로 67(태평로 2가)\n",
            "발행일 2020년 8월 3일\n",
            "인  쇄 ㈜제일프린테크 \n",
            " 본 자료는 한국은행 홈페이지(http://www.bok.or.kr>경제교육>온라인학습>일반인) 에서 \n",
            "다운로드 받으실 수 있습니다.\n",
            " 이 책자에 대한 문의는 한국은행 경제교육실 경제교육기획팀(02-759-5618)으로 연락 \n",
            "하여 주시기 바랍니다.\n",
            " \n",
            " 경제금융용어 700선\n",
            " 은 \n",
            "① 정부간행물판매센터(☎ 02-734-6818, http://www.gpcbooks.co.kr) \n",
            "② 한국경제서적(☎ 02-737-7498)\n",
            "③ 경제서적(☎ 02-736-0640, http://kj-book.co.kr) 또는 주요 서점 등에서 매권당 \n",
            "8,000원에 판매하고 있습니다.\n",
            "ISBN 979-11-5538-393-3 03320' metadata={'producer': 'Smart PDF Imposition 1.0', 'creator': 'Smart PDF Imposition 1.0', 'creationdate': 'January 31, 2018 16:21', 'author': 'INSUNG DATA INC.', 'creationdate--text': 'January 31, 2018 16:21', 'moddate': 'January 31, 2018 16:21', 'moddate--text': 'January 31, 2018 16:21', 'subject': 'CoreImposition PDF 1.0 Output', 'title': '°æÁ¦±ÝÀ¶¿ë¾î 700¼±-ÃÖÁ¾.PDF', 'source': '2020_경제금융용어 700선_게시.pdf', 'total_pages': 371, 'page': 369, 'page_label': '370'}\n"
          ]
        }
      ],
      "source": [
        "print('마지막 청크 출력 :', texts[-1])"
      ]
    },
    {
      "cell_type": "code",
      "execution_count": 15,
      "metadata": {
        "colab": {
          "base_uri": "https://localhost:8080/"
        },
        "id": "dOoVRUETglxT",
        "outputId": "60a127e6-95c6-4f06-c9e1-760c9b42af56"
      },
      "outputs": [
        {
          "name": "stdout",
          "output_type": "stream",
          "text": [
            "마지막에서 두번째 청크 출력 : page_content='352\n",
            "경제금융용어 700선\n",
            "와 관련된 다양한 부수업무를 하는 회사를 말한다. 가령 신용카드 거래가 발생하면 \n",
            "VAN사업자는 거래 승인을 위해 신용카드사에 거래내역을 전송하고 승인 및 조회결과를 \n",
            "수신한 후 이를 가맹점에 전송한다. 또한 VAN사업자는 가맹점이 신용카드사에 전표를 \n",
            "제출하여 대금을 청구하는 업무를 대신하기 위하여 가맹점을 방문하여 전표실물을 수거\n",
            "하거나 전표 데이터를 수집한다 . \n",
            " 연관검색어 : 지급결제시스템, 전자금융\n",
            "VaR(Value at Risk) \n",
            "주어진 신뢰수준 하에서 일정 기간 동안 발생할 수 있는 ‘최대 손실금액’으로 금융기관\n",
            "의 잠재적인 손실을 측정하는 지표이다. 예를 들어 목표기간 1년, 신뢰수준 95% 에서 \n",
            "산출된 VaR가 10억 원이라면 이는 1년 동안 발생할 수 있는 손실금액이 10억 원보다 \n",
            "작을 확률이 95%라는 것을 의미한다 . \n",
            " 연관검색어 : 예상손실\n",
            "VIX\n",
            "미국 주식시장의 단기 변동성에 대한 시장의 기대치를 나타내는 지수로 시카고옵션거\n",
            "래소(CBOE)에서 제공되며, 정식명칭은 CBOE Volatility Index이다. VIX는 향후 30 일 \n",
            "동안의 S&P 500 지수의 변동성에 대한 시장의 기대치로서, 지수의 변동성이 클 것으로 \n",
            "예상될 경우 옵션가격이 높아지는 점에 착안하여 CBOE에 상장된 다양한 행사가격의 \n",
            "S&P 500 지수 옵션들의 가격을 활용하여 산출된다. VIX는 일반적으로 기초자산 가격과 \n",
            "음(-)의 상관관계가 있다. 예를 들어 주가지수가 상승할 때 하락하고 주가지수가 하락할 \n",
            "때는 상승한다. 이에 따라 VIX의 상승은 투자자들의 불안심리가 증대하는 것을 의미하므\n",
            "로 공포지수라고도 부른다. 1993년 Robert E. Whaley 교수의 논문에서 처음 소개된 \n",
            "이후 시장의 변동성과 투자자들의 심리를 나타내주는 주요한 지표로 널리 활용되고 \n",
            "있다. 이 외의 대표적인 주식시장 변동성 지수로는 유럽의 VSTOXX 등이 있다. VSTOXX\n",
            "는 유럽의 대표 주가지수인 Euro STOXX의 변동성 지수로 Euro STOXX 50 지수 옵션가격\n",
            "으로부터 산출되며 Euro Exchange에서 편제･발표한다. 우리나라도 KOSPI 200 지수의 \n",
            "변동성지수인 VKOSPI가 2009년 도입되었다.' metadata={'producer': 'Smart PDF Imposition 1.0', 'creator': 'Smart PDF Imposition 1.0', 'creationdate': 'January 31, 2018 16:21', 'author': 'INSUNG DATA INC.', 'creationdate--text': 'January 31, 2018 16:21', 'moddate': 'January 31, 2018 16:21', 'moddate--text': 'January 31, 2018 16:21', 'subject': 'CoreImposition PDF 1.0 Output', 'title': '°æÁ¦±ÝÀ¶¿ë¾î 700¼±-ÃÖÁ¾.PDF', 'source': '2020_경제금융용어 700선_게시.pdf', 'total_pages': 371, 'page': 368, 'page_label': '369'}\n"
          ]
        }
      ],
      "source": [
        "\n",
        "print('마지막에서 두번째 청크 출력 :', texts[-2])"
      ]
    },
    {
      "cell_type": "code",
      "execution_count": 12,
      "metadata": {
        "colab": {
          "base_uri": "https://localhost:8080/"
        },
        "id": "NtD4Dwx3go-8",
        "outputId": "0f91a59d-c99b-4c9a-ae24-34af571e3862"
      },
      "outputs": [
        {
          "name": "stdout",
          "output_type": "stream",
          "text": [
            "마지막 데이터 제거 후 청크의 개수: 352\n"
          ]
        }
      ],
      "source": [
        "texts = texts[:-1]\n",
        "print('마지막 데이터 제거 후 청크의 개수:', len(texts))"
      ]
    },
    {
      "cell_type": "code",
      "execution_count": 13,
      "metadata": {
        "colab": {
          "base_uri": "https://localhost:8080/"
        },
        "id": "TSNB6Pf0gq18",
        "outputId": "c9820468-78e5-4f55-8b4a-de3861b1ccf0"
      },
      "outputs": [],
      "source": [
        "embedding = OpenAIEmbeddings(chunk_size=100)\n",
        "\n",
        "vectordb = Chroma.from_documents(\n",
        "    documents=texts,\n",
        "    embedding=embedding)"
      ]
    },
    {
      "cell_type": "code",
      "execution_count": 14,
      "metadata": {
        "colab": {
          "base_uri": "https://localhost:8080/"
        },
        "id": "F9_6jKJQgsL3",
        "outputId": "ee081c6e-7652-44f1-aed5-cb00fcf1a734"
      },
      "outputs": [
        {
          "name": "stdout",
          "output_type": "stream",
          "text": [
            "705\n"
          ]
        }
      ],
      "source": [
        "print(vectordb._collection.count())"
      ]
    },
    {
      "cell_type": "code",
      "execution_count": 15,
      "metadata": {
        "colab": {
          "base_uri": "https://localhost:8080/"
        },
        "id": "FudsWZ6RguFp",
        "outputId": "f91a3f51-5b12-4f57-a8ef-8f5664aa7dc6"
      },
      "outputs": [
        {
          "name": "stdout",
          "output_type": "stream",
          "text": [
            "ids\n",
            "embeddings\n",
            "documents\n",
            "uris\n",
            "included\n",
            "data\n",
            "metadatas\n"
          ]
        }
      ],
      "source": [
        "\n",
        "for key in vectordb._collection.get():\n",
        "  print(key)"
      ]
    },
    {
      "cell_type": "code",
      "execution_count": 16,
      "metadata": {
        "colab": {
          "base_uri": "https://localhost:8080/"
        },
        "id": "aykV7vhygvUo",
        "outputId": "9a5c82f5-c233-4e5a-82da-716eca752f43"
      },
      "outputs": [
        {
          "name": "stdout",
          "output_type": "stream",
          "text": [
            "청크의 개수 : 705\n",
            "--------------------------------------------------\n",
            "0번 청크 출력 : 1\n",
            "ㄱ \n",
            "ㄱ\n",
            "가계부실위험지수(HDRI)\n",
            "가구의 소득 흐름은 물론 금융 및 실물 자산까지 종합적으로 고려하여 가계부채의 \n",
            "부실위험을 평가하는 지표로, 가계의 채무상환능력을 소득 측면에서 평가하는 원리금상\n",
            "환비율(DSR; Debt Service Ratio)과 자산 측면에서 평가하는 부채/자산비율(DTA; Debt \n",
            "To Asset Ratio)을 결합하여 산출한 지수이다. 가계부실위험지수는 가구의 DSR과 DTA가 \n",
            "각각 40%, 100%일 때 100의 값을 갖도록 설정되어 있으며, 동 지수가 100을 초과하는 \n",
            "가구를 ‘위험가구’로 분류한다. 위험가구는 소득 및 자산 측면에서 모두 취약한 ‘고위험가구’, \n",
            "자산 측면에서 취약한 ‘고DTA가구’, 소득 측면에서 취약한 ‘고DSR가구’로 구분할 수 있다. \n",
            "다만 위험 및 고위험 가구는 가구의 채무상환능력 취약성 정도를 평가하기 위한 것이며 \n",
            "이들 가구가 당장 채무상환 불이행, 즉 임계상황에 직면한 것을 의미하지 않는다 .\n",
            " 연관검색어 : 총부채원리금상환비율(DSR)\n",
            "가계수지\n",
            "가정에서 일정 기간의 수입(명목소득)과 지출을 비교해서 남았는지 모자랐는지를 \n",
            "표시한 것을 가계수지(household's total income and expenditure)라 한다. 가계수지가 \n",
            "가계수지 ∙\n"
          ]
        }
      ],
      "source": [
        "\n",
        "documents = vectordb._collection.get()['documents']\n",
        "print('청크의 개수 :', len(documents))\n",
        "print('-' * 50)\n",
        "print('0번 청크 출력 :', documents[0])"
      ]
    },
    {
      "cell_type": "code",
      "execution_count": 17,
      "metadata": {
        "colab": {
          "base_uri": "https://localhost:8080/"
        },
        "id": "e9M2vJEegwie",
        "outputId": "e3c9a443-b390-46ae-c95c-c1142e2de6a7"
      },
      "outputs": [
        {
          "name": "stdout",
          "output_type": "stream",
          "text": [
            "임베딩 벡터의 개수 : 705\n"
          ]
        }
      ],
      "source": [
        "embeddings = vectordb._collection.get(include=['embeddings'])['embeddings']\n",
        "print('임베딩 벡터의 개수 :', len(embeddings))"
      ]
    },
    {
      "cell_type": "code",
      "execution_count": 22,
      "metadata": {
        "colab": {
          "base_uri": "https://localhost:8080/"
        },
        "id": "ZXrG2qtegx2Q",
        "outputId": "1c397e1d-2475-4450-c218-5a01271fa86b"
      },
      "outputs": [
        {
          "name": "stdout",
          "output_type": "stream",
          "text": [
            "0번 청크의 임베딩 값 출력 : [-0.00759038 -0.00721978  0.01452192 ... -0.01861221 -0.00679428\n",
            " -0.0088257 ]\n",
            "0번 청크의 임베딩 값의 길이 : 1536\n"
          ]
        }
      ],
      "source": [
        "\n",
        "print('0번 청크의 임베딩 값 출력 :', embeddings[0])\n",
        "print('0번 청크의 임베딩 값의 길이 :', len(embeddings[0]))"
      ]
    },
    {
      "cell_type": "code",
      "execution_count": 18,
      "metadata": {
        "colab": {
          "base_uri": "https://localhost:8080/"
        },
        "id": "zF17EDfzgzBK",
        "outputId": "54bf2e2d-8447-4064-cb00-6f7d67eac89a"
      },
      "outputs": [
        {
          "name": "stdout",
          "output_type": "stream",
          "text": [
            "metadatas의 개수 : 705\n",
            "0번 청크의 출처 : {'title': '°æÁ¦±ÝÀ¶¿ë¾î 700¼±-ÃÖÁ¾.PDF', 'creationdate': 'January 31, 2018 16:21', 'producer': 'Smart PDF Imposition 1.0', 'subject': 'CoreImposition PDF 1.0 Output', 'page_label': '18', 'moddate': 'January 31, 2018 16:21', 'source': '2020_경제금융용어 700선_게시.pdf', 'moddate--text': 'January 31, 2018 16:21', 'total_pages': 371, 'page': 17, 'creationdate--text': 'January 31, 2018 16:21', 'author': 'INSUNG DATA INC.', 'creator': 'Smart PDF Imposition 1.0'}\n"
          ]
        }
      ],
      "source": [
        "metadatas = vectordb._collection.get()['metadatas']\n",
        "print('metadatas의 개수 :', len(metadatas))\n",
        "print('0번 청크의 출처 :', metadatas[0])"
      ]
    },
    {
      "cell_type": "code",
      "execution_count": 48,
      "metadata": {
        "colab": {
          "base_uri": "https://localhost:8080/"
        },
        "id": "tQEcEFQxg0eH",
        "outputId": "c01daa0b-f131-4cb6-bf4f-ca6ba390b513"
      },
      "outputs": [
        {
          "name": "stdout",
          "output_type": "stream",
          "text": [
            "유사 문서 개수 : 2\n",
            "----------------------------------------\n",
            "첫번째 유사 문서 : page_content='72\n",
            "경제금융용어 700선\n",
            "기축통화\n",
            "기축통화란 여러 국가의 암묵적인 동의하에 국제거래에서 중심적인 역할을 하는 \n",
            "통화를 지칭한다. 구체적으로는 ① 국제무역결제에 사용되는 통화 ② 환율 평가 시의 \n",
            "지표가 되는 통화 ③ 대외준비자산으로 보유되는 통화 등의 의미를 포함한다. 그러므로 \n",
            "어떤 나라의 통화가 기축통화가 되기 위해서는 세계적으로 원활히 유통될 수 있도록 \n",
            "유동성이 풍부하여야 하고 거래당사자들이 믿고 사용할 수 있도록 신뢰성을 갖추어야 \n",
            "하며, 국제적으로 경제력은 물론 정치력･군사력까지 인정받는 국가의 통화여야 한다. \n",
            "20세기 초반까지는 세계 금융경제의 중심이었던 영국의 파운드화가 기축통화로서 국제\n",
            "거래에 주로 이용되었으며, 2차 세계대전 이후에는 전 세계 외환거래 및 외환보유액의 \n",
            "상당 부분을 차지하는 미국 달러화가 기축통화로 인정받고 있다. 한편, 현재 국제거래에\n",
            "서 비교적 자주 사용되는 통화로는 미국 달러화이외에도 유로화, 영국 파운드화, 일본 \n",
            "엔화, 스위스 프랑화 등이 있는데 이들은 흔히 교환성통화라 한다 . \n",
            " 연관검색어 : 교환성 통화\n",
            "기타기본자본(Additional Tier 1)\n",
            "기타기본자본(AT1; Additional Tier 1)은 요건을 충족하는 기타기본자본증권 및 이와 \n",
            "관련된 자본잉여금, 자회사가 발행한 기타기본자본증권의 제3자 보유분 중 일부 금액 \n",
            "등으로 구성된다. 기타기본자본증권으로 인정받기 위해서는 예금자, 일반채권자 및 \n",
            "후순위채권보다 후순위, 영구적, 배당 및 이자지급의 임의성, 중도상환 유인이 없을 \n",
            "것 등 총 14개 요건을 충족해야 한다 .\n",
            "기펜재\n",
            "일반적으로 재화는 수요의 법칙에 따라 가격이 하락하면 수요량이 늘어난다. 그러나 \n",
            "예외적으로 재화의 가격이 하락할 때 수요량이 감소하는 현상을 관찰할 수 있다. 이렇게 \n",
            "가격이 하락할 경우 수요의 법칙에 위배되는 재화를 이를 처음 관찰한 학자의 이름을 \n",
            "따서 기펜재라고 부른다. 기펜재는 열등재의 일종이다. 즉 소득이 증가함에 따라 수요가 \n",
            "감소하는 재화를 열등재라 하는데, 열등재 중에서도 열등성이 매우 커서 소득효과가' metadata={'moddate--text': 'January 31, 2018 16:21', 'total_pages': 371, 'moddate': 'January 31, 2018 16:21', 'source': '2020_경제금융용어 700선_게시.pdf', 'creator': 'Smart PDF Imposition 1.0', 'author': 'INSUNG DATA INC.', 'subject': 'CoreImposition PDF 1.0 Output', 'page_label': '89', 'producer': 'Smart PDF Imposition 1.0', 'creationdate--text': 'January 31, 2018 16:21', 'title': '°æÁ¦±ÝÀ¶¿ë¾î 700¼±-ÃÖÁ¾.PDF', 'creationdate': 'January 31, 2018 16:21', 'page': 88}\n",
            "두번째 유사 문서 : page_content='72\n",
            "경제금융용어 700선\n",
            "기축통화\n",
            "기축통화란 여러 국가의 암묵적인 동의하에 국제거래에서 중심적인 역할을 하는 \n",
            "통화를 지칭한다. 구체적으로는 ① 국제무역결제에 사용되는 통화 ② 환율 평가 시의 \n",
            "지표가 되는 통화 ③ 대외준비자산으로 보유되는 통화 등의 의미를 포함한다. 그러므로 \n",
            "어떤 나라의 통화가 기축통화가 되기 위해서는 세계적으로 원활히 유통될 수 있도록 \n",
            "유동성이 풍부하여야 하고 거래당사자들이 믿고 사용할 수 있도록 신뢰성을 갖추어야 \n",
            "하며, 국제적으로 경제력은 물론 정치력･군사력까지 인정받는 국가의 통화여야 한다. \n",
            "20세기 초반까지는 세계 금융경제의 중심이었던 영국의 파운드화가 기축통화로서 국제\n",
            "거래에 주로 이용되었으며, 2차 세계대전 이후에는 전 세계 외환거래 및 외환보유액의 \n",
            "상당 부분을 차지하는 미국 달러화가 기축통화로 인정받고 있다. 한편, 현재 국제거래에\n",
            "서 비교적 자주 사용되는 통화로는 미국 달러화이외에도 유로화, 영국 파운드화, 일본 \n",
            "엔화, 스위스 프랑화 등이 있는데 이들은 흔히 교환성통화라 한다 . \n",
            " 연관검색어 : 교환성 통화\n",
            "기타기본자본(Additional Tier 1)\n",
            "기타기본자본(AT1; Additional Tier 1)은 요건을 충족하는 기타기본자본증권 및 이와 \n",
            "관련된 자본잉여금, 자회사가 발행한 기타기본자본증권의 제3자 보유분 중 일부 금액 \n",
            "등으로 구성된다. 기타기본자본증권으로 인정받기 위해서는 예금자, 일반채권자 및 \n",
            "후순위채권보다 후순위, 영구적, 배당 및 이자지급의 임의성, 중도상환 유인이 없을 \n",
            "것 등 총 14개 요건을 충족해야 한다 .\n",
            "기펜재\n",
            "일반적으로 재화는 수요의 법칙에 따라 가격이 하락하면 수요량이 늘어난다. 그러나 \n",
            "예외적으로 재화의 가격이 하락할 때 수요량이 감소하는 현상을 관찰할 수 있다. 이렇게 \n",
            "가격이 하락할 경우 수요의 법칙에 위배되는 재화를 이를 처음 관찰한 학자의 이름을 \n",
            "따서 기펜재라고 부른다. 기펜재는 열등재의 일종이다. 즉 소득이 증가함에 따라 수요가 \n",
            "감소하는 재화를 열등재라 하는데, 열등재 중에서도 열등성이 매우 커서 소득효과가' metadata={'creationdate--text': 'January 31, 2018 16:21', 'page_label': '89', 'source': '2020_경제금융용어 700선_게시.pdf', 'author': 'INSUNG DATA INC.', 'creationdate': 'January 31, 2018 16:21', 'title': '°æÁ¦±ÝÀ¶¿ë¾î 700¼±-ÃÖÁ¾.PDF', 'total_pages': 371, 'page': 88, 'subject': 'CoreImposition PDF 1.0 Output', 'moddate': 'January 31, 2018 16:21', 'producer': 'Smart PDF Imposition 1.0', 'moddate--text': 'January 31, 2018 16:21', 'creator': 'Smart PDF Imposition 1.0'}\n"
          ]
        }
      ],
      "source": [
        "retriever = vectordb.as_retriever(search_kwargs={\"k\": 2})\n",
        "\n",
        "docs = retriever.get_relevant_documents(\"가상통화 궁금해\")\n",
        "print('유사 문서 개수 :', len(docs))\n",
        "print('--' * 20)\n",
        "print('첫번째 유사 문서 :', docs[0])\n",
        "print('두번째 유사 문서 :', docs[1])"
      ]
    },
    {
      "cell_type": "code",
      "execution_count": 20,
      "metadata": {
        "id": "CsQQeBUJg26a"
      },
      "outputs": [],
      "source": [
        "\n",
        "template = \"\"\"당신은 한국은행에서 만든 금융 용어를 설명해주는 금융해설자입니다.\n",
        "주어진 검색 결과를 바탕으로 답변하세요.\n",
        "검색 결과에 없는 내용이라면 답변할 수 없다고 하세요. 반말로 친근하게 답변하세요.\n",
        "{context}\n",
        "\n",
        "Question: {question}\n",
        "Answer:\n",
        "\"\"\"\n",
        "\n",
        "prompt = PromptTemplate.from_template(template)"
      ]
    },
    {
      "cell_type": "code",
      "execution_count": 21,
      "metadata": {
        "id": "RsjSVEsfg9Xc"
      },
      "outputs": [],
      "source": [
        "llm = ChatOpenAI(model_name=\"gpt-4o\", temperature=0)"
      ]
    },
    {
      "cell_type": "markdown",
      "metadata": {},
      "source": []
    },
    {
      "cell_type": "code",
      "execution_count": 49,
      "metadata": {},
      "outputs": [
        {
          "name": "stdout",
          "output_type": "stream",
          "text": [
            "\n",
            "🔹 Ensemble Retriever 결과:\n",
            "- 225 ㅇ  인터넷전문은행 점포없이 또는 소수의 영업점만을 두고 인터넷, 모바일, ATM 등 전자매체를 주된  영업채널로 활용하는 온라인 기반의 은행으로서, 이는 은행서비스를 인터넷으로 제공하 는 영업방식을 뜻하는  {'author': 'INSUNG DATA INC.', 'subject': 'CoreImposition PDF 1.0 Output', 'page_label': '242', 'total_pages': 371, 'title': '°æÁ¦±ÝÀ¶¿ë¾î 700¼±-ÃÖÁ¾.PDF', 'creationdate--text': 'January 31, 2018 16:21', 'producer': 'Smart PDF Imposition 1.0', 'moddate': 'January 31, 2018 16:21', 'creationdate': 'January 31, 2018 16:21', 'source': '2020_경제금융용어 700선_게시.pdf', 'moddate--text': 'January 31, 2018 16:21', 'page': 241, 'creator': 'Smart PDF Imposition 1.0'}\n",
            "- 66 경제금융용어 700선 핵심지표중 하나이다. 기대인플레이션은 임금협상, 가격설정, 투자결정 등 경제주체의  의사결정에 반영되면서 최종적으로 실제 인플레이션에 영향을 미친다. 구체적인 경로를  살펴보면 기대인플레이 {'title': '°æÁ¦±ÝÀ¶¿ë¾î 700¼±-ÃÖÁ¾.PDF', 'moddate--text': 'January 31, 2018 16:21', 'page': 82, 'total_pages': 371, 'creator': 'Smart PDF Imposition 1.0', 'page_label': '83', 'producer': 'Smart PDF Imposition 1.0', 'creationdate--text': 'January 31, 2018 16:21', 'source': '2020_경제금융용어 700선_게시.pdf', 'author': 'INSUNG DATA INC.', 'moddate': 'January 31, 2018 16:21', 'creationdate': 'January 31, 2018 16:21', 'subject': 'CoreImposition PDF 1.0 Output'}\n",
            "- 169 ㅅ  스태그플레이션 제2차 세계대전 이전까지 경기침체기에는 물가가 하락하고 경기호황기에는 물가가  상승하는 것이 일반적 현상이었다. 그러나 제2차 세계대전 이후 특히 1970년대 들어  두 번의 유가파동을 겪 {'producer': 'Smart PDF Imposition 1.0', 'creator': 'Smart PDF Imposition 1.0', 'creationdate': 'January 31, 2018 16:21', 'author': 'INSUNG DATA INC.', 'creationdate--text': 'January 31, 2018 16:21', 'moddate': 'January 31, 2018 16:21', 'moddate--text': 'January 31, 2018 16:21', 'subject': 'CoreImposition PDF 1.0 Output', 'title': '°æÁ¦±ÝÀ¶¿ë¾î 700¼±-ÃÖÁ¾.PDF', 'source': '2020_경제금융용어 700선_게시.pdf', 'total_pages': 371, 'page': 185, 'page_label': '186'}\n",
            "- 236 경제금융용어 700선 실업률과 인플레이션의 관계는 통화론자와 케인즈학파간 오랜 논쟁거리 중의 하나로,  통화론자인 프리드먼은 예상치 못한 인플레이션이 발생하는 경우 일시적으로 실업률이  하락할 수는 있으나 장 {'producer': 'Smart PDF Imposition 1.0', 'creator': 'Smart PDF Imposition 1.0', 'creationdate': 'January 31, 2018 16:21', 'author': 'INSUNG DATA INC.', 'creationdate--text': 'January 31, 2018 16:21', 'moddate': 'January 31, 2018 16:21', 'moddate--text': 'January 31, 2018 16:21', 'subject': 'CoreImposition PDF 1.0 Output', 'title': '°æÁ¦±ÝÀ¶¿ë¾î 700¼±-ÃÖÁ¾.PDF', 'source': '2020_경제금융용어 700선_게시.pdf', 'total_pages': 371, 'page': 252, 'page_label': '253'}\n",
            "- 343 ABC  있다. 정상회담은 각국 대통령과 총리가 참가하는 가운데 1년에 한번 개최되며 세계의  주요 의제 등을 논의한다. 이 모임은 당초에는 세계 경제의 당면과제 해결방안 모색에  주안점을 두고 있었으나 소련 {'producer': 'Smart PDF Imposition 1.0', 'creator': 'Smart PDF Imposition 1.0', 'creationdate': 'January 31, 2018 16:21', 'author': 'INSUNG DATA INC.', 'creationdate--text': 'January 31, 2018 16:21', 'moddate': 'January 31, 2018 16:21', 'moddate--text': 'January 31, 2018 16:21', 'subject': 'CoreImposition PDF 1.0 Output', 'title': '°æÁ¦±ÝÀ¶¿ë¾î 700¼±-ÃÖÁ¾.PDF', 'source': '2020_경제금융용어 700선_게시.pdf', 'total_pages': 371, 'page': 359, 'page_label': '360'}\n"
          ]
        }
      ],
      "source": [
        "# ============================\n",
        "# 5. Ensemble Retriever (BM25+FAISS)\n",
        "# ============================\n",
        "from langchain_community.retrievers import BM25Retriever\n",
        "from langchain.retrievers import EnsembleRetriever # Corrected import\n",
        "\n",
        "vector_retriever = vectordb.as_retriever(search_kwargs={\"k\": 3})\n",
        "\n",
        "bm25 = BM25Retriever.from_documents(texts)\n",
        "bm25.k = 3\n",
        "\n",
        "ensemble_retriever = EnsembleRetriever(retrievers=[bm25, vector_retriever], weights=[0.4, 0.6])\n",
        "\n",
        "docs = ensemble_retriever.get_relevant_documents(\"인플레이션이 무엇인가요?\")\n",
        "print(\"\\n🔹 Ensemble Retriever 결과:\")\n",
        "for d in docs:\n",
        "    print(\"-\", d.page_content[:120].replace(\"\\n\",\" \",), d.metadata)"
      ]
    },
    {
      "cell_type": "code",
      "execution_count": null,
      "metadata": {
        "id": "PCp3T6GKg-iU"
      },
      "outputs": [],
      "source": [
        "\n",
        "from langchain_core.tracers.stdout import ConsoleCallbackHandler\n",
        "\n",
        "\n",
        "qa_chain = RetrievalQA.from_chain_type(\n",
        "    llm=llm,\n",
        "    chain_type_kwargs={\"prompt\": prompt},\n",
        "    retriever=ensemble_retriever,\n",
        "    return_source_documents=True)"
      ]
    },
    {
      "cell_type": "code",
      "execution_count": 51,
      "metadata": {
        "colab": {
          "base_uri": "https://localhost:8080/"
        },
        "id": "D_gSFafBg_u4",
        "outputId": "9f93ace5-5abf-4b7e-8d66-232c7db37b3d"
      },
      "outputs": [
        {
          "name": "stdout",
          "output_type": "stream",
          "text": [
            "\n",
            "🔹 Ensemble Retriever 결과:\n",
            "- 250 경제금융용어 700선 전자화폐 IC카드 등에 화폐가치를 저장하였다가 상품 등의 구매에 사용할 수 있는 전자지급수단 으로서 범용성과 환금성을 갖춘 것을 말한다. 전자화폐(electronic money)의 유형은 {'creationdate--text': 'January 31, 2018 16:21', 'moddate--text': 'January 31, 2018 16:21', 'producer': 'Smart PDF Imposition 1.0', 'moddate': 'January 31, 2018 16:21', 'page_label': '267', 'creator': 'Smart PDF Imposition 1.0', 'author': 'INSUNG DATA INC.', 'title': '°æÁ¦±ÝÀ¶¿ë¾î 700¼±-ÃÖÁ¾.PDF', 'total_pages': 371, 'creationdate': 'January 31, 2018 16:21', 'source': '2020_경제금융용어 700선_게시.pdf', 'page': 266, 'subject': 'CoreImposition PDF 1.0 Output'}\n",
            "- 6 경제금융용어 700선 가상통화공개(ICO)  가상통화(ICO; Initial Coin Offering) 공개는 주로 혁신적인 신생기업(startup)이 암호 화화폐(cryptocurrency) 또는 디지털 토큰( {'subject': 'CoreImposition PDF 1.0 Output', 'title': '°æÁ¦±ÝÀ¶¿ë¾î 700¼±-ÃÖÁ¾.PDF', 'creator': 'Smart PDF Imposition 1.0', 'page': 22, 'source': '2020_경제금융용어 700선_게시.pdf', 'moddate': 'January 31, 2018 16:21', 'page_label': '23', 'moddate--text': 'January 31, 2018 16:21', 'creationdate--text': 'January 31, 2018 16:21', 'total_pages': 371, 'producer': 'Smart PDF Imposition 1.0', 'author': 'INSUNG DATA INC.', 'creationdate': 'January 31, 2018 16:21'}\n",
            "- 221 ㅇ  상품으로 수쿠크(Sukuk, 이슬람채권) 등이 있다 .  연관검색어 : 수쿠크 이자보상배율 영업이익을 이자비용으로 나눈 값으로 측정하는 지표이다. 이는 영업활동에 의한  이익으로 이자비용을 어느 정도나  {'producer': 'Smart PDF Imposition 1.0', 'creator': 'Smart PDF Imposition 1.0', 'creationdate': 'January 31, 2018 16:21', 'author': 'INSUNG DATA INC.', 'creationdate--text': 'January 31, 2018 16:21', 'moddate': 'January 31, 2018 16:21', 'moddate--text': 'January 31, 2018 16:21', 'subject': 'CoreImposition PDF 1.0 Output', 'title': '°æÁ¦±ÝÀ¶¿ë¾î 700¼±-ÃÖÁ¾.PDF', 'source': '2020_경제금융용어 700선_게시.pdf', 'total_pages': 371, 'page': 237, 'page_label': '238'}\n",
            "- 222 경제금융용어 700선 스위스 프랑화로 하는 방식의 채권을 가리킨다. 달러화가 강세인 때에 주로 사용된다.  일본의 경우 저금리 상태가 지속되면서 자국통화 표시 채권의 수익률이 지속적으로  낮아지는 상황에서 채 {'producer': 'Smart PDF Imposition 1.0', 'creator': 'Smart PDF Imposition 1.0', 'creationdate': 'January 31, 2018 16:21', 'author': 'INSUNG DATA INC.', 'creationdate--text': 'January 31, 2018 16:21', 'moddate': 'January 31, 2018 16:21', 'moddate--text': 'January 31, 2018 16:21', 'subject': 'CoreImposition PDF 1.0 Output', 'title': '°æÁ¦±ÝÀ¶¿ë¾î 700¼±-ÃÖÁ¾.PDF', 'source': '2020_경제금융용어 700선_게시.pdf', 'total_pages': 371, 'page': 238, 'page_label': '239'}\n",
            "- 352 경제금융용어 700선 와 관련된 다양한 부수업무를 하는 회사를 말한다. 가령 신용카드 거래가 발생하면  VAN사업자는 거래 승인을 위해 신용카드사에 거래내역을 전송하고 승인 및 조회결과를  수신한 후 이를 가 {'producer': 'Smart PDF Imposition 1.0', 'creator': 'Smart PDF Imposition 1.0', 'creationdate': 'January 31, 2018 16:21', 'author': 'INSUNG DATA INC.', 'creationdate--text': 'January 31, 2018 16:21', 'moddate': 'January 31, 2018 16:21', 'moddate--text': 'January 31, 2018 16:21', 'subject': 'CoreImposition PDF 1.0 Output', 'title': '°æÁ¦±ÝÀ¶¿ë¾î 700¼±-ÃÖÁ¾.PDF', 'source': '2020_경제금융용어 700선_게시.pdf', 'total_pages': 371, 'page': 368, 'page_label': '369'}\n",
            "{'query': 'virtual currency 무엇인가?', 'result': '미안한데, 검색 결과에 \"virtual currency\"에 대한 정보가 없어서 설명해줄 수가 없어. 다른 질문 있으면 해줘!', 'source_documents': [Document(metadata={'creationdate--text': 'January 31, 2018 16:21', 'creator': 'Smart PDF Imposition 1.0', 'page_label': '267', 'moddate--text': 'January 31, 2018 16:21', 'moddate': 'January 31, 2018 16:21', 'subject': 'CoreImposition PDF 1.0 Output', 'creationdate': 'January 31, 2018 16:21', 'source': '2020_경제금융용어 700선_게시.pdf', 'producer': 'Smart PDF Imposition 1.0', 'title': '°æÁ¦±ÝÀ¶¿ë¾î 700¼±-ÃÖÁ¾.PDF', 'page': 266, 'author': 'INSUNG DATA INC.', 'total_pages': 371}, page_content='250\\n경제금융용어 700선\\n전자화폐\\nIC카드 등에 화폐가치를 저장하였다가 상품 등의 구매에 사용할 수 있는 전자지급수단\\n으로서 범용성과 환금성을 갖춘 것을 말한다. 전자화폐(electronic money)의 유형은 \\n가치저장 매체에 따라 IC카드형과 네트워크형으로 구분할 수 있다. IC카드형은 플라스틱 \\n카드 위에 부착된 IC칩에 화폐가치를 저장하였다가 상품이나 서비스를 구매한 후 가맹점\\n용 단말기 등을 통하여 대금을 지급하는 형태의 전자화폐로 국내에는 K-Cash, VisaCash, \\nMYbi 등이 있다. 인터넷 네트워크를 통하여 구매대금을 지급하는 형태의 네트워크형 \\n전자화폐는 현재는 발행되지 않고 있다 .\\n 연관검색어 : 전자상거래,  전자금융\\n전자화폐공동망\\n전자화폐공동망은 금융기관이 공동으로 개발한 한국형 전자화폐(K-CASH) 이용시 \\n발생한 금융기관간 정산금액을 결제하기 위한 시스템으로 2000년 7월 가동되었다 . \\nK-CASH 이용자가 본인의 예금을 기반으로 전자화폐에 가치를 저장하면, 발행은행은 \\n고객의 예금계좌에서 전자화폐 구매금액을 인출하여 선불계정에 예치한다. 구매거래가 \\n발생하여 금융결제원으로부터 결제 및 정산내역을 전송받으면, 결제할 금액을 선불계정\\n에서 인출하여 한국은행과의 차액결제를 통해 매입은행에 지불한다. 한편 2013년 3월 \\n국내은행들과 금융결제원이 공동개발한 모바일지갑 서비스인 뱅크월렛(BankWallet)의 \\n선불전자지급수단인 뱅크머니(BankMoney)도 전자화폐공동망을 이용하여 개인간 송금 \\n서비스를 제공하고 있다. 전자화폐의 결제과정에는 발행은행, 매입은행, VAN 사업자 \\n및 전자화폐공동망센터(금융결제원)가 참여하고 있으며, 은행간 거래차액의 결제는 한\\n은금융망을 통해 완결된다 .\\n 연관검색어 : 소액결제시스템, 전자화폐\\n전환사채(CB)\\n전환사채(Convertible Bond)란 사채로 발행되었지만, 일정 기간이 지난 후 소유자의 \\n청구에 의하여 발행회사의 주식(보통주)으로 전환할 수 있는 권리가 부여된 사채를'), Document(metadata={'producer': 'Smart PDF Imposition 1.0', 'creator': 'Smart PDF Imposition 1.0', 'creationdate': 'January 31, 2018 16:21', 'author': 'INSUNG DATA INC.', 'creationdate--text': 'January 31, 2018 16:21', 'moddate': 'January 31, 2018 16:21', 'moddate--text': 'January 31, 2018 16:21', 'subject': 'CoreImposition PDF 1.0 Output', 'title': '°æÁ¦±ÝÀ¶¿ë¾î 700¼±-ÃÖÁ¾.PDF', 'source': '2020_경제금융용어 700선_게시.pdf', 'total_pages': 371, 'page': 237, 'page_label': '238'}, page_content='221\\nㅇ \\n상품으로 수쿠크(Sukuk, 이슬람채권) 등이 있다 .\\n 연관검색어 : 수쿠크\\n이자보상배율\\n영업이익을 이자비용으로 나눈 값으로 측정하는 지표이다. 이는 영업활동에 의한 \\n이익으로 이자비용을 어느 정도나 부담할 수 있는 지, 즉 기업의 이자부담능력을 평가하\\n는 지표로 이용된다. 동 지표가 높을수록 이자부담능력이 좋다고 할 수 있으며, 동 \\n지표가 1보다 작으면 영업이익 전체로도 금융비용을 충당할 수 없는 상태를 의미한다. \\n다만 우리나라와 같이 기업의 이자수익이 상당한 규모에 이르는 경우 기업의 실질적인 \\n금융비용 부담능력이 과소평가될 가능성이 높으므로 이자비용에서 영업외이익으로 분\\n류되는 수입이자를 차감한 순금융비용을 이용하여 산출한 순이자보상배율을 보조지표\\n로 활용하는 것이 좋다. 한편 같은 개념으로 이자보상비율이 있는데 이는 이자보상배율\\n에 100을 곱하여 %로 표시한 것이다 .\\n이전소득수지\\n이전소득수지는 국제수지표상 경상수지를 구성하는 항목 중의 하나로 거주자와 비거\\n주자 사이에 무상으로 주고받는 거래의 수지를 말한다. 이러한 거래에는 재외교포가 \\n국내 친지에게 보내는 개인송금, 국외 자선단체의 기부금이나 구호물자, 국제기구 출연금 \\n등이 포함된다. \\n 연관검색어 : 경상수지, 국제수지 (BOP)\\n이중통화채(dual currency bond)\\n국제간 환율 및 금리 전망을 바탕으로 채권발행 통화와 상환 통화를 달리하여 발행하\\n는 채권을 말한다. 발행방식은 기본적으로 채권의 발행은 저금리통화(강세통화)로, 상환\\n은 고금리통화(약세통화)로 한다. 이중통화채의 발행으로 발행자는 금리부담을 경감할 \\n수 있고 투자자는 상환통화가 미리 정한 환율보다 강세가 될 경우 환차익을 기대할 \\n수 있는 장점이 있다. 예컨대 액면과 이자는 미 달러화로 표시되고, 상환은 엔화나 \\n이중통화채(dual currency bond) ∙'), Document(metadata={'producer': 'Smart PDF Imposition 1.0', 'creator': 'Smart PDF Imposition 1.0', 'creationdate': 'January 31, 2018 16:21', 'author': 'INSUNG DATA INC.', 'creationdate--text': 'January 31, 2018 16:21', 'moddate': 'January 31, 2018 16:21', 'moddate--text': 'January 31, 2018 16:21', 'subject': 'CoreImposition PDF 1.0 Output', 'title': '°æÁ¦±ÝÀ¶¿ë¾î 700¼±-ÃÖÁ¾.PDF', 'source': '2020_경제금융용어 700선_게시.pdf', 'total_pages': 371, 'page': 238, 'page_label': '239'}, page_content='222\\n경제금융용어 700선\\n스위스 프랑화로 하는 방식의 채권을 가리킨다. 달러화가 강세인 때에 주로 사용된다. \\n일본의 경우 저금리 상태가 지속되면서 자국통화 표시 채권의 수익률이 지속적으로 \\n낮아지는 상황에서 채권의 쿠폰을 금리가 높은 통화로 지급하는 방식의 이중통화채가 \\n활발하게 발행되었다. 최근에는 역이중통화채(reverse dual currency bond)라는 발행 \\n형태가 등장하였는데 이는 기채통화와 상환통화는 같으나 이자 지급은 발행 당시의 \\n고금리통화로 이루어지는 형태를 말한다. 이밖에 채권의 원금은 두 나라 통화로 수수되\\n고 이자지급은 두 나라 환율에 연결되어 있는 혼합이중통합채권도 있다 . \\n이표채\\n국채 금융채 회사채 등의 채권은 이자지급 방법에 따라 할인채(discount bond), 이표\\n채(coupon bond), 복리채(compound interest bond) 등으로 구분되는데 이표채는 채권\\n의 권면에 이표(쿠폰 coupon)가 붙어 있어 이자지급일에 이를 떼어 제시함으로써 이자를 \\n지급받는 채권을 말한다. 통상적으로 만기까지 일정 기간마다 이자를 지급하고 만기에는 \\n원금을 지급하는 가장 일반적인 형태의 채권을 지칭한다. 이표채처럼 일정한 간격을 \\n두고 주기적으로 수취하는 채권이자는 투자자의 입장에서 볼 때는 원래의 채권 투자자금 \\n원본의 회수기간이 일부 앞당겨지는 효과를 얻게 된다. 이처럼 이표의 이자수취 만큼 \\n투자자금 회수기간이 단축되는 효과를 감안하여 채권의 만기를 정밀하게 산출한 것을 \\n듀레이션, 즉 평균만기라고 한다. 금리가 1% 변동할 때 채권의 가격은 듀레이션의 배율만\\n큼 증폭되어 변동하기 때문에 유가증권투자에 있어서 매우 중요한 분석도구이다. 한편 \\n이표채와 대비되는 개념으로 할인채와 복리채가 있다. 할인채는 이자의 지급 없이 만기\\n에 원금을 지급하는 채권으로 액면보다 할인된 가격으로 발행되는데, 쿠폰 없이 발행되기 \\n때문에 무이표채 또는 제로쿠폰채(zero-coupon bond)라고 한다. 복리채는 이자를 중간\\n에 지급하지 않고 만기에 원금과 함께 일시에 지급하는 채권을 말한다 .\\n익스포저\\n리스크에 노출되어 있는 금액을 의미하며 리스크 유형에 따라 시장리스크 익스포저, \\n신용리스크 익스포저 등으로 구분된다. 시장리스크 익스포저는 금리, 환율, 주가 등의 \\n변동에 따른 가치 변동에 따른 손실 가능성에 노출된 금액을, 신용리스크 익스포저는'), Document(metadata={'producer': 'Smart PDF Imposition 1.0', 'creator': 'Smart PDF Imposition 1.0', 'creationdate': 'January 31, 2018 16:21', 'author': 'INSUNG DATA INC.', 'creationdate--text': 'January 31, 2018 16:21', 'moddate': 'January 31, 2018 16:21', 'moddate--text': 'January 31, 2018 16:21', 'subject': 'CoreImposition PDF 1.0 Output', 'title': '°æÁ¦±ÝÀ¶¿ë¾î 700¼±-ÃÖÁ¾.PDF', 'source': '2020_경제금융용어 700선_게시.pdf', 'total_pages': 371, 'page': 368, 'page_label': '369'}, page_content='352\\n경제금융용어 700선\\n와 관련된 다양한 부수업무를 하는 회사를 말한다. 가령 신용카드 거래가 발생하면 \\nVAN사업자는 거래 승인을 위해 신용카드사에 거래내역을 전송하고 승인 및 조회결과를 \\n수신한 후 이를 가맹점에 전송한다. 또한 VAN사업자는 가맹점이 신용카드사에 전표를 \\n제출하여 대금을 청구하는 업무를 대신하기 위하여 가맹점을 방문하여 전표실물을 수거\\n하거나 전표 데이터를 수집한다 . \\n 연관검색어 : 지급결제시스템, 전자금융\\nVaR(Value at Risk) \\n주어진 신뢰수준 하에서 일정 기간 동안 발생할 수 있는 ‘최대 손실금액’으로 금융기관\\n의 잠재적인 손실을 측정하는 지표이다. 예를 들어 목표기간 1년, 신뢰수준 95% 에서 \\n산출된 VaR가 10억 원이라면 이는 1년 동안 발생할 수 있는 손실금액이 10억 원보다 \\n작을 확률이 95%라는 것을 의미한다 . \\n 연관검색어 : 예상손실\\nVIX\\n미국 주식시장의 단기 변동성에 대한 시장의 기대치를 나타내는 지수로 시카고옵션거\\n래소(CBOE)에서 제공되며, 정식명칭은 CBOE Volatility Index이다. VIX는 향후 30 일 \\n동안의 S&P 500 지수의 변동성에 대한 시장의 기대치로서, 지수의 변동성이 클 것으로 \\n예상될 경우 옵션가격이 높아지는 점에 착안하여 CBOE에 상장된 다양한 행사가격의 \\nS&P 500 지수 옵션들의 가격을 활용하여 산출된다. VIX는 일반적으로 기초자산 가격과 \\n음(-)의 상관관계가 있다. 예를 들어 주가지수가 상승할 때 하락하고 주가지수가 하락할 \\n때는 상승한다. 이에 따라 VIX의 상승은 투자자들의 불안심리가 증대하는 것을 의미하므\\n로 공포지수라고도 부른다. 1993년 Robert E. Whaley 교수의 논문에서 처음 소개된 \\n이후 시장의 변동성과 투자자들의 심리를 나타내주는 주요한 지표로 널리 활용되고 \\n있다. 이 외의 대표적인 주식시장 변동성 지수로는 유럽의 VSTOXX 등이 있다. VSTOXX\\n는 유럽의 대표 주가지수인 Euro STOXX의 변동성 지수로 Euro STOXX 50 지수 옵션가격\\n으로부터 산출되며 Euro Exchange에서 편제･발표한다. 우리나라도 KOSPI 200 지수의 \\n변동성지수인 VKOSPI가 2009년 도입되었다.')]}\n"
          ]
        }
      ],
      "source": [
        "\n",
        "input_text = \"virtual currency 무엇인가?\"\n",
        "\n",
        "\n",
        "docs = ensemble_retriever.get_relevant_documents(input_text)\n",
        "print(\"\\n🔹 Ensemble Retriever 결과:\")\n",
        "for d in docs:\n",
        "    print(\"-\", d.page_content[:120].replace(\"\\n\",\" \",), d.metadata)\n",
        "\n",
        "chatbot_response = qa_chain(input_text)\n",
        "print(chatbot_response)    "
      ]
    },
    {
      "cell_type": "code",
      "execution_count": 33,
      "metadata": {
        "id": "EMknHe7ehBX2"
      },
      "outputs": [],
      "source": [
        "def get_chatbot_response(input_text):\n",
        "    chatbot_response = qa_chain(input_text)\n",
        "    return chatbot_response['result'].strip()"
      ]
    },
    {
      "cell_type": "code",
      "execution_count": 34,
      "metadata": {
        "colab": {
          "base_uri": "https://localhost:8080/"
        },
        "id": "0zAIp4xJhCwx",
        "outputId": "6ce0b1b6-d0f5-46a7-eec9-0b67f115a7ce"
      },
      "outputs": [
        {
          "name": "stdout",
          "output_type": "stream",
          "text": [
            "미안하지만, 너의 질문에 대한 답변은 제공할 수 없어. 다른 금융 용어에 대해 궁금한 게 있으면 물어봐!\n"
          ]
        }
      ],
      "source": [
        "input_text = \"너는 뭘하는 챗봇이니?\"\n",
        "result = get_chatbot_response(input_text)\n",
        "print(result)"
      ]
    },
    {
      "cell_type": "code",
      "execution_count": 37,
      "metadata": {
        "colab": {
          "base_uri": "https://localhost:8080/"
        },
        "id": "s6a9JyjghEVA",
        "outputId": "c782da81-69f4-4ab5-f096-77d3d1e93ba0"
      },
      "outputs": [
        {
          "name": "stdout",
          "output_type": "stream",
          "text": [
            "가상통화는 중앙은행이나 금융기관이 아닌 민간에서 블록체인 기술을 기반으로 발행되고 유통되는 '가치의 전자적 표시'야. 비트코인이 가장 대표적인 가상통화로, 중앙운영기관 없이 P2P 거래가 가능한 분산형 시스템을 통해 발행되고 유통돼. 기존의 사이버머니나 멤버십 포인트와는 다르게 중앙에서 발행이나 유통을 통제하지 않는다는 점이 특징이지. 최근에는 비트코인 외에도 다양한 신종코인들이 등장하면서, 이들을 암호통화라고 부르기도 해.\n"
          ]
        }
      ],
      "source": [
        "input_text = \"가상통화 대해서 궁금하당~\"\n",
        "result = get_chatbot_response(input_text)\n",
        "print(result)"
      ]
    },
    {
      "cell_type": "code",
      "execution_count": 42,
      "metadata": {
        "colab": {
          "base_uri": "https://localhost:8080/",
          "height": 727
        },
        "id": "J77YuZh4hF_A",
        "outputId": "90aecf8c-0490-4825-e81d-5b07d4b93ad4"
      },
      "outputs": [
        {
          "name": "stderr",
          "output_type": "stream",
          "text": [
            "/var/folders/xn/w4kqb1715fz7h49tp_h7hbmr0000gn/T/ipykernel_12774/1335127311.py:3: UserWarning: You have not specified a value for the `type` parameter. Defaulting to the 'tuples' format for chatbot messages, but this is deprecated and will be removed in a future version of Gradio. Please set type='messages' instead, which uses openai-style dictionaries with 'role' and 'content' keys.\n",
            "  chatbot = gr.Chatbot(label=\"경제금융용어 챗봇\") # 챗봇 레이블을 좌측 상단에 구성\n"
          ]
        },
        {
          "name": "stdout",
          "output_type": "stream",
          "text": [
            "* Running on local URL:  http://127.0.0.1:7860\n",
            "* To create a public link, set `share=True` in `launch()`.\n"
          ]
        },
        {
          "data": {
            "text/html": [
              "<div><iframe src=\"http://127.0.0.1:7860/\" width=\"100%\" height=\"500\" allow=\"autoplay; camera; microphone; clipboard-read; clipboard-write;\" frameborder=\"0\" allowfullscreen></iframe></div>"
            ],
            "text/plain": [
              "<IPython.core.display.HTML object>"
            ]
          },
          "metadata": {},
          "output_type": "display_data"
        },
        {
          "name": "stdout",
          "output_type": "stream",
          "text": [
            "\u001b[32;1m\u001b[1;3m[chain/start]\u001b[0m \u001b[1m[chain:RetrievalQA] Entering Chain run with input:\n",
            "\u001b[0m{\n",
            "  \"query\": \"가상통화란\"\n",
            "}\n",
            "\u001b[32;1m\u001b[1;3m[chain/start]\u001b[0m \u001b[1m[chain:RetrievalQA > chain:StuffDocumentsChain] Entering Chain run with input:\n",
            "\u001b[0m[inputs]\n",
            "\u001b[32;1m\u001b[1;3m[chain/start]\u001b[0m \u001b[1m[chain:RetrievalQA > chain:StuffDocumentsChain > chain:LLMChain] Entering Chain run with input:\n",
            "\u001b[0m{\n",
            "  \"question\": \"가상통화란\",\n",
            "  \"context\": \"72\\n경제금융용어 700선\\n기축통화\\n기축통화란 여러 국가의 암묵적인 동의하에 국제거래에서 중심적인 역할을 하는 \\n통화를 지칭한다. 구체적으로는 ① 국제무역결제에 사용되는 통화 ② 환율 평가 시의 \\n지표가 되는 통화 ③ 대외준비자산으로 보유되는 통화 등의 의미를 포함한다. 그러므로 \\n어떤 나라의 통화가 기축통화가 되기 위해서는 세계적으로 원활히 유통될 수 있도록 \\n유동성이 풍부하여야 하고 거래당사자들이 믿고 사용할 수 있도록 신뢰성을 갖추어야 \\n하며, 국제적으로 경제력은 물론 정치력･군사력까지 인정받는 국가의 통화여야 한다. \\n20세기 초반까지는 세계 금융경제의 중심이었던 영국의 파운드화가 기축통화로서 국제\\n거래에 주로 이용되었으며, 2차 세계대전 이후에는 전 세계 외환거래 및 외환보유액의 \\n상당 부분을 차지하는 미국 달러화가 기축통화로 인정받고 있다. 한편, 현재 국제거래에\\n서 비교적 자주 사용되는 통화로는 미국 달러화이외에도 유로화, 영국 파운드화, 일본 \\n엔화, 스위스 프랑화 등이 있는데 이들은 흔히 교환성통화라 한다 . \\n 연관검색어 : 교환성 통화\\n기타기본자본(Additional Tier 1)\\n기타기본자본(AT1; Additional Tier 1)은 요건을 충족하는 기타기본자본증권 및 이와 \\n관련된 자본잉여금, 자회사가 발행한 기타기본자본증권의 제3자 보유분 중 일부 금액 \\n등으로 구성된다. 기타기본자본증권으로 인정받기 위해서는 예금자, 일반채권자 및 \\n후순위채권보다 후순위, 영구적, 배당 및 이자지급의 임의성, 중도상환 유인이 없을 \\n것 등 총 14개 요건을 충족해야 한다 .\\n기펜재\\n일반적으로 재화는 수요의 법칙에 따라 가격이 하락하면 수요량이 늘어난다. 그러나 \\n예외적으로 재화의 가격이 하락할 때 수요량이 감소하는 현상을 관찰할 수 있다. 이렇게 \\n가격이 하락할 경우 수요의 법칙에 위배되는 재화를 이를 처음 관찰한 학자의 이름을 \\n따서 기펜재라고 부른다. 기펜재는 열등재의 일종이다. 즉 소득이 증가함에 따라 수요가 \\n감소하는 재화를 열등재라 하는데, 열등재 중에서도 열등성이 매우 커서 소득효과가\\n\\n352\\n경제금융용어 700선\\n와 관련된 다양한 부수업무를 하는 회사를 말한다. 가령 신용카드 거래가 발생하면 \\nVAN사업자는 거래 승인을 위해 신용카드사에 거래내역을 전송하고 승인 및 조회결과를 \\n수신한 후 이를 가맹점에 전송한다. 또한 VAN사업자는 가맹점이 신용카드사에 전표를 \\n제출하여 대금을 청구하는 업무를 대신하기 위하여 가맹점을 방문하여 전표실물을 수거\\n하거나 전표 데이터를 수집한다 . \\n 연관검색어 : 지급결제시스템, 전자금융\\nVaR(Value at Risk) \\n주어진 신뢰수준 하에서 일정 기간 동안 발생할 수 있는 ‘최대 손실금액’으로 금융기관\\n의 잠재적인 손실을 측정하는 지표이다. 예를 들어 목표기간 1년, 신뢰수준 95% 에서 \\n산출된 VaR가 10억 원이라면 이는 1년 동안 발생할 수 있는 손실금액이 10억 원보다 \\n작을 확률이 95%라는 것을 의미한다 . \\n 연관검색어 : 예상손실\\nVIX\\n미국 주식시장의 단기 변동성에 대한 시장의 기대치를 나타내는 지수로 시카고옵션거\\n래소(CBOE)에서 제공되며, 정식명칭은 CBOE Volatility Index이다. VIX는 향후 30 일 \\n동안의 S&P 500 지수의 변동성에 대한 시장의 기대치로서, 지수의 변동성이 클 것으로 \\n예상될 경우 옵션가격이 높아지는 점에 착안하여 CBOE에 상장된 다양한 행사가격의 \\nS&P 500 지수 옵션들의 가격을 활용하여 산출된다. VIX는 일반적으로 기초자산 가격과 \\n음(-)의 상관관계가 있다. 예를 들어 주가지수가 상승할 때 하락하고 주가지수가 하락할 \\n때는 상승한다. 이에 따라 VIX의 상승은 투자자들의 불안심리가 증대하는 것을 의미하므\\n로 공포지수라고도 부른다. 1993년 Robert E. Whaley 교수의 논문에서 처음 소개된 \\n이후 시장의 변동성과 투자자들의 심리를 나타내주는 주요한 지표로 널리 활용되고 \\n있다. 이 외의 대표적인 주식시장 변동성 지수로는 유럽의 VSTOXX 등이 있다. VSTOXX\\n는 유럽의 대표 주가지수인 Euro STOXX의 변동성 지수로 Euro STOXX 50 지수 옵션가격\\n으로부터 산출되며 Euro Exchange에서 편제･발표한다. 우리나라도 KOSPI 200 지수의 \\n변동성지수인 VKOSPI가 2009년 도입되었다.\\n\\n351\\nABC \\n는데 1bp는 0.01% 포인트를 의미한다. 예를 들어 TED 스프레드는 T-Bill의 금리가 \\n3.2%이고 ED금리가 3.5%이면 TED 스프레드는 30bp이다. 글로벌 금융위기가 최고조에 \\n달했던 2008년 10월 사상 최고인 463bp를 기록한바 있으며 그 이후에는 20~50bp 의 \\n안정적인 수준에 머물고 있으며 2017년 11월 현재는 19bp를 나타내고 있다 . \\n 연관검색어 : LI BOR, Treasury Bill(T/B) \\nTreasury Bill(T/B)\\nTreasury Bill(T/B)은 미국 재무성이 발행하는 만기 4주(1개월), 13주(3개월), 26주(6개\\n월), 52주(1년) 등 1년 이하의 국채로서 이자지급이 없는 할인채(zero coupon bond)의 \\n형태로 발행된다. 단기금융시장의 여타 투자대상보다 수익률은 다소 낮지만, 이자소득에 \\n대한 주세(州稅)가 면제되며, 파산위험이 거의 없고 공급량도 많은 데다 상환기간도 다양하\\n여 단기금융시장(money market)에서 투자자들에게 가장 안전하고 유동성이 높은 투자수\\n단의 하나로 이용되고 있다. T/B의 유통은 이자의 지급 없이 발행당시에 할인되었던 \\n가격으로 매매되고, 만기에 액면가격을 지급받는 방식으로 이루어진다. 금융시장의 조건\\n에 의해 할인율이 결정되므로 T/B의 할인율은 시장금리를 나타내는 지표로 이용되며, \\n여타 채권의 벤치마크 기능, 위험 헤지 수단, 국제채권시장 동향지표 등으로 널리 활용되고 \\n있다. T/B 이외의 미국 정부채로는 T-Notes, T-Bonds, 물가연동채, 변동금리채 등이 있다.\\nVAN사업자\\n통신사업자로부터 회선을 대여 받아 고도의 통신처리기능으로 부가가치를 높여 서비\\n스를 제공하는 통신회사를 말한다. 부가가치 통신망(VAN; Value Added Network) 의 \\n본래 의미는 전화 또는 텔렉스통신 서비스 기능을 첨가한 데이터 통신망을 지칭하는 \\n개념으로 창출되는 부가가치는 일반적으로 프로토콜, 부호, 형태, 미디어, 속도 등의 \\n변환을 전송에 부가하여 행하는 통신처리에 있다. 지급결제분야에서 VAN사업자는 부가\\n가치 통신망을 이용하여 금융회사 또는 전자금융회사를 위하여 전자금융거래를 보조하\\n는 업무를 하거나 결제중계시스템을 운영하는 자를 말하며 신용카드 VAN 사업자가 \\n대표적이다. 신용카드 VAN사업자는 신용카드 가맹점에 단말기를 구축하고 통신망을 \\n통해 신용카드 거래의 승인 및 조회, 매출전표의 수집 및 청구 대행 등 신용카드 지급결제\\nVAN사업자 ∙\\n\\n112\\n경제금융용어 700선\\n회수하는 것을 말한다. 주택저당채권은 주택의 구입 또는 건축에 소요되는 대출자금 \\n등에 대한 채권으로서 당해 주택에 설정된 저당권에 의하여 담보된 채권을 지칭한다 . \\n주택저당증권(MBS; Mortgage–Backed Securities)은 주택저당채권(mortgage)을 기초로 \\n발행되는 자산유동화증권(ABS; Asset-Backed Securities)이다. MBS시장은 1차 시장 , \\n2차 시장 및 자본시장으로 구성된다. 1차 시장은 모기지 차입자와 상업은행 등 모기지 \\n대출기관 사이에 모기지대출(주택담보대출)이 이루어지는 시장이다. 2차 시장은 모기지 \\n대출기관이 보유하고 있는 주택저당채권을 유동화(증권화)하는 시장이다. 자본시장은 \\n유동화된 주택저당증권이 기관투자자들에게 매각되고 유통되는 시장을 말한다. 우리나라에\\n서 MBS는 주로 한국주택금융공사가 발행하고 있으며, 주택저당채권을 가지고 있는 일부 \\n금융기관도 유동화전문회사(SPC; Special Purpose Company)를 설립하여 발행하고 있다.\\n 연관검색어 : 주택저당증권(MBS), 자산유동화 \\n모바일뱅킹\\n모바일뱅킹 서비스는 고객이 휴대전화 등 모바일기기를 수단으로 무선인터넷을 통하\\n여 금융기관에 접속하여 이용할 수 있는 금융서비스이다. 동 서비스는 은행이 이동통신회\\n사의 무선인터넷망을 통해 고객의 자금이체 및 계좌조회 등 금융거래과정 전반을 관리하\\n는 것을 기본구조로 하고 있다. 1999년 농협은행 등이 제공하기 시작한 국내 모바일뱅킹 \\n서비스는 2009년 스마트폰기반 모바일뱅킹 서비스가 개시된 이후에는 주로 스마트폰을 \\n통해 제공되고 있다. 모바일뱅킹을 통해 제공되고 있는 서비스에는 예금조회, 거래명세조\\n회, 자금이체 등이 있으며, 일부 은행에서는 현금서비스, 대출, 환율조회, 수표조회, 사고신\\n고 등의 서비스까지 제공하고 있다. 모바일뱅킹 서비스는 수출입은행을 제외한 대부분의 \\n국내은행 및 우체국, 신용협동조합 및 새마을금고중앙회 등에서 제공되고 있다 .\\n 연관검색어 : 인터넷뱅킹, 텔레뱅킹(폰뱅킹 )\\n모집\\n자본시장에서 불특정 다수로부터 동일한 조건으로 유가증권 취득의 청약을 권유하는 \\n것을 말한다. 금융시장은 크게 은행의 예대업무를 중심으로 한 간접금융시장과 유가증권\\n의 발행 유통을 위주로 하는 직접금융시장으로 대별된다. 이때 간접금융시장의 경우\"\n",
            "}\n",
            "\u001b[32;1m\u001b[1;3m[llm/start]\u001b[0m \u001b[1m[chain:RetrievalQA > chain:StuffDocumentsChain > chain:LLMChain > llm:ChatOpenAI] Entering LLM run with input:\n",
            "\u001b[0m{\n",
            "  \"prompts\": [\n",
            "    \"Human: 당신은 한국은행에서 만든 금융 용어를 설명해주는 금융해설자입니다.\\n주어진 검색 결과를 바탕으로 답변하세요.\\n검색 결과에 없는 내용이라면 답변할 수 없다고 하세요. 반말로 친근하게 답변하세요.\\n72\\n경제금융용어 700선\\n기축통화\\n기축통화란 여러 국가의 암묵적인 동의하에 국제거래에서 중심적인 역할을 하는 \\n통화를 지칭한다. 구체적으로는 ① 국제무역결제에 사용되는 통화 ② 환율 평가 시의 \\n지표가 되는 통화 ③ 대외준비자산으로 보유되는 통화 등의 의미를 포함한다. 그러므로 \\n어떤 나라의 통화가 기축통화가 되기 위해서는 세계적으로 원활히 유통될 수 있도록 \\n유동성이 풍부하여야 하고 거래당사자들이 믿고 사용할 수 있도록 신뢰성을 갖추어야 \\n하며, 국제적으로 경제력은 물론 정치력･군사력까지 인정받는 국가의 통화여야 한다. \\n20세기 초반까지는 세계 금융경제의 중심이었던 영국의 파운드화가 기축통화로서 국제\\n거래에 주로 이용되었으며, 2차 세계대전 이후에는 전 세계 외환거래 및 외환보유액의 \\n상당 부분을 차지하는 미국 달러화가 기축통화로 인정받고 있다. 한편, 현재 국제거래에\\n서 비교적 자주 사용되는 통화로는 미국 달러화이외에도 유로화, 영국 파운드화, 일본 \\n엔화, 스위스 프랑화 등이 있는데 이들은 흔히 교환성통화라 한다 . \\n 연관검색어 : 교환성 통화\\n기타기본자본(Additional Tier 1)\\n기타기본자본(AT1; Additional Tier 1)은 요건을 충족하는 기타기본자본증권 및 이와 \\n관련된 자본잉여금, 자회사가 발행한 기타기본자본증권의 제3자 보유분 중 일부 금액 \\n등으로 구성된다. 기타기본자본증권으로 인정받기 위해서는 예금자, 일반채권자 및 \\n후순위채권보다 후순위, 영구적, 배당 및 이자지급의 임의성, 중도상환 유인이 없을 \\n것 등 총 14개 요건을 충족해야 한다 .\\n기펜재\\n일반적으로 재화는 수요의 법칙에 따라 가격이 하락하면 수요량이 늘어난다. 그러나 \\n예외적으로 재화의 가격이 하락할 때 수요량이 감소하는 현상을 관찰할 수 있다. 이렇게 \\n가격이 하락할 경우 수요의 법칙에 위배되는 재화를 이를 처음 관찰한 학자의 이름을 \\n따서 기펜재라고 부른다. 기펜재는 열등재의 일종이다. 즉 소득이 증가함에 따라 수요가 \\n감소하는 재화를 열등재라 하는데, 열등재 중에서도 열등성이 매우 커서 소득효과가\\n\\n352\\n경제금융용어 700선\\n와 관련된 다양한 부수업무를 하는 회사를 말한다. 가령 신용카드 거래가 발생하면 \\nVAN사업자는 거래 승인을 위해 신용카드사에 거래내역을 전송하고 승인 및 조회결과를 \\n수신한 후 이를 가맹점에 전송한다. 또한 VAN사업자는 가맹점이 신용카드사에 전표를 \\n제출하여 대금을 청구하는 업무를 대신하기 위하여 가맹점을 방문하여 전표실물을 수거\\n하거나 전표 데이터를 수집한다 . \\n 연관검색어 : 지급결제시스템, 전자금융\\nVaR(Value at Risk) \\n주어진 신뢰수준 하에서 일정 기간 동안 발생할 수 있는 ‘최대 손실금액’으로 금융기관\\n의 잠재적인 손실을 측정하는 지표이다. 예를 들어 목표기간 1년, 신뢰수준 95% 에서 \\n산출된 VaR가 10억 원이라면 이는 1년 동안 발생할 수 있는 손실금액이 10억 원보다 \\n작을 확률이 95%라는 것을 의미한다 . \\n 연관검색어 : 예상손실\\nVIX\\n미국 주식시장의 단기 변동성에 대한 시장의 기대치를 나타내는 지수로 시카고옵션거\\n래소(CBOE)에서 제공되며, 정식명칭은 CBOE Volatility Index이다. VIX는 향후 30 일 \\n동안의 S&P 500 지수의 변동성에 대한 시장의 기대치로서, 지수의 변동성이 클 것으로 \\n예상될 경우 옵션가격이 높아지는 점에 착안하여 CBOE에 상장된 다양한 행사가격의 \\nS&P 500 지수 옵션들의 가격을 활용하여 산출된다. VIX는 일반적으로 기초자산 가격과 \\n음(-)의 상관관계가 있다. 예를 들어 주가지수가 상승할 때 하락하고 주가지수가 하락할 \\n때는 상승한다. 이에 따라 VIX의 상승은 투자자들의 불안심리가 증대하는 것을 의미하므\\n로 공포지수라고도 부른다. 1993년 Robert E. Whaley 교수의 논문에서 처음 소개된 \\n이후 시장의 변동성과 투자자들의 심리를 나타내주는 주요한 지표로 널리 활용되고 \\n있다. 이 외의 대표적인 주식시장 변동성 지수로는 유럽의 VSTOXX 등이 있다. VSTOXX\\n는 유럽의 대표 주가지수인 Euro STOXX의 변동성 지수로 Euro STOXX 50 지수 옵션가격\\n으로부터 산출되며 Euro Exchange에서 편제･발표한다. 우리나라도 KOSPI 200 지수의 \\n변동성지수인 VKOSPI가 2009년 도입되었다.\\n\\n351\\nABC \\n는데 1bp는 0.01% 포인트를 의미한다. 예를 들어 TED 스프레드는 T-Bill의 금리가 \\n3.2%이고 ED금리가 3.5%이면 TED 스프레드는 30bp이다. 글로벌 금융위기가 최고조에 \\n달했던 2008년 10월 사상 최고인 463bp를 기록한바 있으며 그 이후에는 20~50bp 의 \\n안정적인 수준에 머물고 있으며 2017년 11월 현재는 19bp를 나타내고 있다 . \\n 연관검색어 : LI BOR, Treasury Bill(T/B) \\nTreasury Bill(T/B)\\nTreasury Bill(T/B)은 미국 재무성이 발행하는 만기 4주(1개월), 13주(3개월), 26주(6개\\n월), 52주(1년) 등 1년 이하의 국채로서 이자지급이 없는 할인채(zero coupon bond)의 \\n형태로 발행된다. 단기금융시장의 여타 투자대상보다 수익률은 다소 낮지만, 이자소득에 \\n대한 주세(州稅)가 면제되며, 파산위험이 거의 없고 공급량도 많은 데다 상환기간도 다양하\\n여 단기금융시장(money market)에서 투자자들에게 가장 안전하고 유동성이 높은 투자수\\n단의 하나로 이용되고 있다. T/B의 유통은 이자의 지급 없이 발행당시에 할인되었던 \\n가격으로 매매되고, 만기에 액면가격을 지급받는 방식으로 이루어진다. 금융시장의 조건\\n에 의해 할인율이 결정되므로 T/B의 할인율은 시장금리를 나타내는 지표로 이용되며, \\n여타 채권의 벤치마크 기능, 위험 헤지 수단, 국제채권시장 동향지표 등으로 널리 활용되고 \\n있다. T/B 이외의 미국 정부채로는 T-Notes, T-Bonds, 물가연동채, 변동금리채 등이 있다.\\nVAN사업자\\n통신사업자로부터 회선을 대여 받아 고도의 통신처리기능으로 부가가치를 높여 서비\\n스를 제공하는 통신회사를 말한다. 부가가치 통신망(VAN; Value Added Network) 의 \\n본래 의미는 전화 또는 텔렉스통신 서비스 기능을 첨가한 데이터 통신망을 지칭하는 \\n개념으로 창출되는 부가가치는 일반적으로 프로토콜, 부호, 형태, 미디어, 속도 등의 \\n변환을 전송에 부가하여 행하는 통신처리에 있다. 지급결제분야에서 VAN사업자는 부가\\n가치 통신망을 이용하여 금융회사 또는 전자금융회사를 위하여 전자금융거래를 보조하\\n는 업무를 하거나 결제중계시스템을 운영하는 자를 말하며 신용카드 VAN 사업자가 \\n대표적이다. 신용카드 VAN사업자는 신용카드 가맹점에 단말기를 구축하고 통신망을 \\n통해 신용카드 거래의 승인 및 조회, 매출전표의 수집 및 청구 대행 등 신용카드 지급결제\\nVAN사업자 ∙\\n\\n112\\n경제금융용어 700선\\n회수하는 것을 말한다. 주택저당채권은 주택의 구입 또는 건축에 소요되는 대출자금 \\n등에 대한 채권으로서 당해 주택에 설정된 저당권에 의하여 담보된 채권을 지칭한다 . \\n주택저당증권(MBS; Mortgage–Backed Securities)은 주택저당채권(mortgage)을 기초로 \\n발행되는 자산유동화증권(ABS; Asset-Backed Securities)이다. MBS시장은 1차 시장 , \\n2차 시장 및 자본시장으로 구성된다. 1차 시장은 모기지 차입자와 상업은행 등 모기지 \\n대출기관 사이에 모기지대출(주택담보대출)이 이루어지는 시장이다. 2차 시장은 모기지 \\n대출기관이 보유하고 있는 주택저당채권을 유동화(증권화)하는 시장이다. 자본시장은 \\n유동화된 주택저당증권이 기관투자자들에게 매각되고 유통되는 시장을 말한다. 우리나라에\\n서 MBS는 주로 한국주택금융공사가 발행하고 있으며, 주택저당채권을 가지고 있는 일부 \\n금융기관도 유동화전문회사(SPC; Special Purpose Company)를 설립하여 발행하고 있다.\\n 연관검색어 : 주택저당증권(MBS), 자산유동화 \\n모바일뱅킹\\n모바일뱅킹 서비스는 고객이 휴대전화 등 모바일기기를 수단으로 무선인터넷을 통하\\n여 금융기관에 접속하여 이용할 수 있는 금융서비스이다. 동 서비스는 은행이 이동통신회\\n사의 무선인터넷망을 통해 고객의 자금이체 및 계좌조회 등 금융거래과정 전반을 관리하\\n는 것을 기본구조로 하고 있다. 1999년 농협은행 등이 제공하기 시작한 국내 모바일뱅킹 \\n서비스는 2009년 스마트폰기반 모바일뱅킹 서비스가 개시된 이후에는 주로 스마트폰을 \\n통해 제공되고 있다. 모바일뱅킹을 통해 제공되고 있는 서비스에는 예금조회, 거래명세조\\n회, 자금이체 등이 있으며, 일부 은행에서는 현금서비스, 대출, 환율조회, 수표조회, 사고신\\n고 등의 서비스까지 제공하고 있다. 모바일뱅킹 서비스는 수출입은행을 제외한 대부분의 \\n국내은행 및 우체국, 신용협동조합 및 새마을금고중앙회 등에서 제공되고 있다 .\\n 연관검색어 : 인터넷뱅킹, 텔레뱅킹(폰뱅킹 )\\n모집\\n자본시장에서 불특정 다수로부터 동일한 조건으로 유가증권 취득의 청약을 권유하는 \\n것을 말한다. 금융시장은 크게 은행의 예대업무를 중심으로 한 간접금융시장과 유가증권\\n의 발행 유통을 위주로 하는 직접금융시장으로 대별된다. 이때 간접금융시장의 경우\\n\\nQuestion: 가상통화란\\nAnswer:\"\n",
            "  ]\n",
            "}\n",
            "\u001b[36;1m\u001b[1;3m[llm/end]\u001b[0m \u001b[1m[chain:RetrievalQA > chain:StuffDocumentsChain > chain:LLMChain > llm:ChatOpenAI] [1.77s] Exiting LLM run with output:\n",
            "\u001b[0m{\n",
            "  \"generations\": [\n",
            "    [\n",
            "      {\n",
            "        \"text\": \"미안한데, 가상통화에 대한 정보는 제공된 검색 결과에 없어서 설명해줄 수가 없어. 다른 질문 있으면 해줘!\",\n",
            "        \"generation_info\": {\n",
            "          \"finish_reason\": \"stop\",\n",
            "          \"logprobs\": null\n",
            "        },\n",
            "        \"type\": \"ChatGeneration\",\n",
            "        \"message\": {\n",
            "          \"lc\": 1,\n",
            "          \"type\": \"constructor\",\n",
            "          \"id\": [\n",
            "            \"langchain\",\n",
            "            \"schema\",\n",
            "            \"messages\",\n",
            "            \"AIMessage\"\n",
            "          ],\n",
            "          \"kwargs\": {\n",
            "            \"content\": \"미안한데, 가상통화에 대한 정보는 제공된 검색 결과에 없어서 설명해줄 수가 없어. 다른 질문 있으면 해줘!\",\n",
            "            \"additional_kwargs\": {\n",
            "              \"refusal\": null\n",
            "            },\n",
            "            \"response_metadata\": {\n",
            "              \"token_usage\": {\n",
            "                \"completion_tokens\": 34,\n",
            "                \"prompt_tokens\": 2804,\n",
            "                \"total_tokens\": 2838,\n",
            "                \"completion_tokens_details\": {\n",
            "                  \"accepted_prediction_tokens\": 0,\n",
            "                  \"audio_tokens\": 0,\n",
            "                  \"reasoning_tokens\": 0,\n",
            "                  \"rejected_prediction_tokens\": 0\n",
            "                },\n",
            "                \"prompt_tokens_details\": {\n",
            "                  \"audio_tokens\": 0,\n",
            "                  \"cached_tokens\": 0\n",
            "                }\n",
            "              },\n",
            "              \"model_name\": \"gpt-4o-2024-08-06\",\n",
            "              \"system_fingerprint\": \"fp_80956533cb\",\n",
            "              \"id\": \"chatcmpl-C8jQrDsrYc0ESh1eNVlzfPwubkfuq\",\n",
            "              \"service_tier\": \"default\",\n",
            "              \"finish_reason\": \"stop\",\n",
            "              \"logprobs\": null\n",
            "            },\n",
            "            \"type\": \"ai\",\n",
            "            \"id\": \"run--7dc2cb93-c94c-4219-bdde-fab7c2755ba5-0\",\n",
            "            \"usage_metadata\": {\n",
            "              \"input_tokens\": 2804,\n",
            "              \"output_tokens\": 34,\n",
            "              \"total_tokens\": 2838,\n",
            "              \"input_token_details\": {\n",
            "                \"audio\": 0,\n",
            "                \"cache_read\": 0\n",
            "              },\n",
            "              \"output_token_details\": {\n",
            "                \"audio\": 0,\n",
            "                \"reasoning\": 0\n",
            "              }\n",
            "            },\n",
            "            \"tool_calls\": [],\n",
            "            \"invalid_tool_calls\": []\n",
            "          }\n",
            "        }\n",
            "      }\n",
            "    ]\n",
            "  ],\n",
            "  \"llm_output\": {\n",
            "    \"token_usage\": {\n",
            "      \"completion_tokens\": 34,\n",
            "      \"prompt_tokens\": 2804,\n",
            "      \"total_tokens\": 2838,\n",
            "      \"completion_tokens_details\": {\n",
            "        \"accepted_prediction_tokens\": 0,\n",
            "        \"audio_tokens\": 0,\n",
            "        \"reasoning_tokens\": 0,\n",
            "        \"rejected_prediction_tokens\": 0\n",
            "      },\n",
            "      \"prompt_tokens_details\": {\n",
            "        \"audio_tokens\": 0,\n",
            "        \"cached_tokens\": 0\n",
            "      }\n",
            "    },\n",
            "    \"model_name\": \"gpt-4o-2024-08-06\",\n",
            "    \"system_fingerprint\": \"fp_80956533cb\",\n",
            "    \"id\": \"chatcmpl-C8jQrDsrYc0ESh1eNVlzfPwubkfuq\",\n",
            "    \"service_tier\": \"default\"\n",
            "  },\n",
            "  \"run\": null,\n",
            "  \"type\": \"LLMResult\"\n",
            "}\n",
            "\u001b[36;1m\u001b[1;3m[chain/end]\u001b[0m \u001b[1m[chain:RetrievalQA > chain:StuffDocumentsChain > chain:LLMChain] [1.78s] Exiting Chain run with output:\n",
            "\u001b[0m{\n",
            "  \"text\": \"미안한데, 가상통화에 대한 정보는 제공된 검색 결과에 없어서 설명해줄 수가 없어. 다른 질문 있으면 해줘!\"\n",
            "}\n",
            "\u001b[36;1m\u001b[1;3m[chain/end]\u001b[0m \u001b[1m[chain:RetrievalQA > chain:StuffDocumentsChain] [1.78s] Exiting Chain run with output:\n",
            "\u001b[0m{\n",
            "  \"output_text\": \"미안한데, 가상통화에 대한 정보는 제공된 검색 결과에 없어서 설명해줄 수가 없어. 다른 질문 있으면 해줘!\"\n",
            "}\n",
            "\u001b[36;1m\u001b[1;3m[chain/end]\u001b[0m \u001b[1m[chain:RetrievalQA] [2.23s] Exiting Chain run with output:\n",
            "\u001b[0m[outputs]\n",
            "Keyboard interruption in main thread... closing server.\n"
          ]
        },
        {
          "data": {
            "text/plain": []
          },
          "execution_count": 42,
          "metadata": {},
          "output_type": "execute_result"
        }
      ],
      "source": [
        "# 인터페이스 생성\n",
        "with gr.Blocks() as demo:\n",
        "    chatbot = gr.Chatbot(label=\"경제금융용어 챗봇\") # 챗봇 레이블을 좌측 상단에 구성\n",
        "    msg = gr.Textbox(label=\"질문해주세요!\")  # 하단의 채팅창 레이블\n",
        "    clear = gr.Button(\"대화 초기화\")  # 대화 초기화 버튼\n",
        "\n",
        "    # 챗봇의 답변을 처리하는 함수\n",
        "    def respond(message, chat_history):\n",
        "      result = qa_chain(message, \n",
        "                        callbacks=[ConsoleCallbackHandler()])\n",
        "      bot_message = result['result']\n",
        "\n",
        "      # 채팅 기록에 사용자의 메시지와 봇의 응답을 추가\n",
        "      chat_history.append((message, bot_message))\n",
        "      return \"\", chat_history\n",
        "\n",
        "    # 사용자의 입력을 제출(submit)하면 respond 함수가 호출\n",
        "    msg.submit(respond, [msg, chatbot], [msg, chatbot])\n",
        "\n",
        "    # '초기화' 버튼을 클릭하면 채팅 기록을 초기화\n",
        "    clear.click(lambda: None, None, chatbot, queue=False)\n",
        "\n",
        "# 인터페이스 실행\n",
        "demo.launch(debug=True)"
      ]
    },
    {
      "cell_type": "code",
      "execution_count": 44,
      "metadata": {},
      "outputs": [],
      "source": [
        "demo.close()"
      ]
    }
  ],
  "metadata": {
    "accelerator": "GPU",
    "colab": {
      "gpuType": "A100",
      "machine_shape": "hm",
      "provenance": []
    },
    "kernelspec": {
      "display_name": "langchain",
      "language": "python",
      "name": "python3"
    },
    "language_info": {
      "codemirror_mode": {
        "name": "ipython",
        "version": 3
      },
      "file_extension": ".py",
      "mimetype": "text/x-python",
      "name": "python",
      "nbconvert_exporter": "python",
      "pygments_lexer": "ipython3",
      "version": "3.10.18"
    }
  },
  "nbformat": 4,
  "nbformat_minor": 0
}
