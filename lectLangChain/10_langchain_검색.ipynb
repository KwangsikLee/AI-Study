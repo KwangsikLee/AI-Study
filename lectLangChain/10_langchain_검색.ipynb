{
  "nbformat": 4,
  "nbformat_minor": 0,
  "metadata": {
    "colab": {
      "provenance": [],
      "machine_shape": "hm",
      "gpuType": "L4"
    },
    "kernelspec": {
      "name": "python3",
      "display_name": "Python 3"
    },
    "language_info": {
      "name": "python"
    },
    "accelerator": "GPU"
  },
  "cells": [
    {
      "cell_type": "code",
      "source": [
        "# ============================\n",
        "# 1. 필수 라이브러리 설치\n",
        "# ============================\n",
        "!pip -q install langchain langchain-community langchain-text-splitters faiss-cpu chromadb sentence-transformers pypdf rank_bm25 lark"
      ],
      "metadata": {
        "id": "F2GeNcnKI-hA"
      },
      "execution_count": 1,
      "outputs": []
    },
    {
      "cell_type": "code",
      "source": [
        "# ============================\n",
        "# 2. GitHub에서 PDF 다운로드\n",
        "# ============================\n",
        "import requests, os\n",
        "import time\n",
        "\n",
        "url = \"https://github.com/chatgpt-kr/openai-api-tutorial/raw/main/ch07/2020_%EA%B2%BD%EC%A0%9C%EA%B8%88%EC%9C%B5%EC%9A%90%EC%96%B4%20700%EC%84%A0_%EA%B2%8C%EC%8B%9C.pdf\"\n",
        "pdf_path = \"2020_경제금융용어 700선_게시.pdf\"\n",
        "\n",
        "# Add retry mechanism for downloading the PDF\n",
        "max_retries = 3\n",
        "for attempt in range(max_retries):\n",
        "    if not os.path.exists(pdf_path) or os.path.getsize(pdf_path) == 0: # Check if file exists or is empty\n",
        "        try:\n",
        "            print(f\"Downloading PDF (Attempt {attempt + 1}/{max_retries}):\", url)\n",
        "            r = requests.get(url, stream=True)\n",
        "            r.raise_for_status() # Raise an exception for bad status codes\n",
        "            with open(pdf_path, \"wb\") as f:\n",
        "                for chunk in r.iter_content(chunk_size=8192):\n",
        "                    f.write(chunk)\n",
        "            if os.path.exists(pdf_path) and os.path.getsize(pdf_path) > 0:\n",
        "                print(\" PDF downloaded successfully:\", pdf_path)\n",
        "                break # Exit loop if download is successful\n",
        "        except requests.exceptions.RequestException as e:\n",
        "            print(f\" Download failed: {e}\")\n",
        "            time.sleep(2) # Wait before retrying\n",
        "    else:\n",
        "        print(\" PDF already exists and is not empty:\", pdf_path)\n",
        "        break # Exit loop if file already exists and is not empty\n",
        "else:\n",
        "    print(f\" Failed to download PDF after {max_retries} attempts.\")\n",
        "    # You might want to exit or raise an error here if the download is critical\n",
        "    # For now, we'll continue with the potentially incomplete/corrupted file\n",
        "\n",
        "# ============================\n",
        "# 3. PDF 로드 & 청크 분할\n",
        "# ============================\n",
        "from langchain_community.document_loaders import PyPDFLoader\n",
        "from langchain_text_splitters import RecursiveCharacterTextSplitter\n",
        "\n",
        "loader = PyPDFLoader(pdf_path)\n",
        "docs = loader.load()\n",
        "\n",
        "splitter = RecursiveCharacterTextSplitter(chunk_size=500, chunk_overlap=50)\n",
        "chunks = splitter.split_documents(docs)\n",
        "\n",
        "print(\" 전체 문서 수:\", len(docs))\n",
        "print(\" 청크 분할 후:\", len(chunks))\n",
        "print(\"샘플 청크:\\n\", chunks[0].page_content[:300])\n",
        "\n",
        "# ============================\n",
        "# 4. Embedding + VectorStore\n",
        "# ============================\n",
        "from langchain_community.embeddings import HuggingFaceEmbeddings\n",
        "from langchain_community.vectorstores import FAISS\n",
        "\n",
        "embedding = HuggingFaceEmbeddings(model_name=\"sentence-transformers/all-MiniLM-L6-v2\")\n",
        "faiss_store = FAISS.from_documents(chunks, embedding=embedding)\n",
        "\n",
        "vector_retriever = faiss_store.as_retriever(search_type=\"similarity\", search_kwargs={\"k\": 3})\n",
        "\n",
        "query = \"인플레이션이 무엇인가요?\"\n",
        "docs = vector_retriever.get_relevant_documents(query)\n",
        "\n",
        "print(\"\\n🔹 VectorStore 결과:\")\n",
        "for d in docs:\n",
        "    print(\"-\", d.page_content[:120].replace(\"\\n\",\" \"), d.metadata)\n",
        "\n",
        "# ============================\n",
        "# 5. Ensemble Retriever (BM25+FAISS)\n",
        "# ============================\n",
        "from langchain_community.retrievers import BM25Retriever\n",
        "from langchain.retrievers import EnsembleRetriever # Corrected import\n",
        "\n",
        "bm25 = BM25Retriever.from_documents(chunks)\n",
        "bm25.k = 3\n",
        "\n",
        "ensemble_retriever = EnsembleRetriever(retrievers=[bm25, vector_retriever], weights=[0.4, 0.6])\n",
        "\n",
        "docs = ensemble_retriever.get_relevant_documents(\"인플레이션이 무엇인가요?\")\n",
        "print(\"\\n🔹 Ensemble Retriever 결과:\")\n",
        "for d in docs:\n",
        "    print(\"-\", d.page_content[:120].replace(\"\\n\",\" \",), d.metadata)\n"
      ],
      "metadata": {
        "colab": {
          "base_uri": "https://localhost:8080/"
        },
        "id": "Y9xHgbAiI7Z5",
        "outputId": "edd095bf-e4a6-4f1a-cae4-34d1cbf4da8b"
      },
      "execution_count": 5,
      "outputs": [
        {
          "output_type": "stream",
          "name": "stdout",
          "text": [
            " PDF already exists and is not empty: 2020_경제금융용어 700선_게시.pdf\n",
            " 전체 문서 수: 371\n",
            " 청크 분할 후: 1117\n",
            "샘플 청크:\n",
            " iii\n",
            "찾아보기\n",
            "한국은행은 국민들이 경제 및 금융에 대한 이해도를 높이고 경제에 관한 합리적인 \n",
            "의사결정 능력을 키울 수 있도록 현장 경제교육, 온라인 경제교육, 경제교육 콘텐츠 \n",
            "개발 등 대국민 경제교육을 다양하게 수행해 오고 있습니다 . \n",
            "이의 일환으로 2018년 \n",
            " 경제금융용어 700선\n",
            " 을 발간하였는데 그간 동 책자에 대한 \n",
            "수요가 꾸준히 늘어남에 따라 이번에 추가로 발간하게 되었습니다 .\n",
            "지난번 내용과 같이 통화정책, 실물경제, 금융안정, 지급결제 등 한국은행 주요 \n",
            "업무를 이해하는데 필요한 전문 용어와 경제·금융 흐름을 \n",
            "\n",
            "🔹 VectorStore 결과:\n",
            "- 예대금리차는 간단히 표현하면 대출금리(수입이자/대출금)에서 예금금리(지급이자/예 수금)를 차감한 것으로, 분석목적에 따라 신규취급액 또는 잔액을 기준으로 측정할 {'producer': 'Smart PDF Imposition 1.0', 'creator': 'Smart PDF Imposition 1.0', 'creationdate': 'January 31, 2018 16:21', 'author': 'INSUNG DATA INC.', 'creationdate--text': 'January 31, 2018 16:21', 'moddate': 'January 31, 2018 16:21', 'moddate--text': 'January 31, 2018 16:21', 'subject': 'CoreImposition PDF 1.0 Output', 'title': '°æÁ¦±ÝÀ¶¿ë¾î 700¼±-ÃÖÁ¾.PDF', 'source': '2020_경제금융용어 700선_게시.pdf', 'total_pages': 371, 'page': 210, 'page_label': '211'}\n",
            "- 를 하는 수입국은 해당 물품의 수출국에 적절한 보상을 해줄 것을 권고하고 있다 .   연관검색어 : 상계관세, 슈퍼301조 긴급수입제한조치 ∙ {'producer': 'Smart PDF Imposition 1.0', 'creator': 'Smart PDF Imposition 1.0', 'creationdate': 'January 31, 2018 16:21', 'author': 'INSUNG DATA INC.', 'creationdate--text': 'January 31, 2018 16:21', 'moddate': 'January 31, 2018 16:21', 'moddate--text': 'January 31, 2018 16:21', 'subject': 'CoreImposition PDF 1.0 Output', 'title': '°æÁ¦±ÝÀ¶¿ë¾î 700¼±-ÃÖÁ¾.PDF', 'source': '2020_경제금융용어 700선_게시.pdf', 'total_pages': 371, 'page': 89, 'page_label': '90'}\n",
            "- 당시 유가 상승으로 인해 생산비가 증가하면서 생산활동이 위축되고 이로 인해 경기가  둔화되었다.   연관검색어 : 수요견인 인플레이션 {'producer': 'Smart PDF Imposition 1.0', 'creator': 'Smart PDF Imposition 1.0', 'creationdate': 'January 31, 2018 16:21', 'author': 'INSUNG DATA INC.', 'creationdate--text': 'January 31, 2018 16:21', 'moddate': 'January 31, 2018 16:21', 'moddate--text': 'January 31, 2018 16:21', 'subject': 'CoreImposition PDF 1.0 Output', 'title': '°æÁ¦±ÝÀ¶¿ë¾î 700¼±-ÃÖÁ¾.PDF', 'source': '2020_경제금융용어 700선_게시.pdf', 'total_pages': 371, 'page': 154, 'page_label': '155'}\n",
            "\n",
            "🔹 Ensemble Retriever 결과:\n",
            "- 예대금리차는 간단히 표현하면 대출금리(수입이자/대출금)에서 예금금리(지급이자/예 수금)를 차감한 것으로, 분석목적에 따라 신규취급액 또는 잔액을 기준으로 측정할 {'producer': 'Smart PDF Imposition 1.0', 'creator': 'Smart PDF Imposition 1.0', 'creationdate': 'January 31, 2018 16:21', 'author': 'INSUNG DATA INC.', 'creationdate--text': 'January 31, 2018 16:21', 'moddate': 'January 31, 2018 16:21', 'moddate--text': 'January 31, 2018 16:21', 'subject': 'CoreImposition PDF 1.0 Output', 'title': '°æÁ¦±ÝÀ¶¿ë¾î 700¼±-ÃÖÁ¾.PDF', 'source': '2020_경제금융용어 700선_게시.pdf', 'total_pages': 371, 'page': 210, 'page_label': '211'}\n",
            "- 를 하는 수입국은 해당 물품의 수출국에 적절한 보상을 해줄 것을 권고하고 있다 .   연관검색어 : 상계관세, 슈퍼301조 긴급수입제한조치 ∙ {'producer': 'Smart PDF Imposition 1.0', 'creator': 'Smart PDF Imposition 1.0', 'creationdate': 'January 31, 2018 16:21', 'author': 'INSUNG DATA INC.', 'creationdate--text': 'January 31, 2018 16:21', 'moddate': 'January 31, 2018 16:21', 'moddate--text': 'January 31, 2018 16:21', 'subject': 'CoreImposition PDF 1.0 Output', 'title': '°æÁ¦±ÝÀ¶¿ë¾î 700¼±-ÃÖÁ¾.PDF', 'source': '2020_경제금융용어 700선_게시.pdf', 'total_pages': 371, 'page': 89, 'page_label': '90'}\n",
            "- 당시 유가 상승으로 인해 생산비가 증가하면서 생산활동이 위축되고 이로 인해 경기가  둔화되었다.   연관검색어 : 수요견인 인플레이션 {'producer': 'Smart PDF Imposition 1.0', 'creator': 'Smart PDF Imposition 1.0', 'creationdate': 'January 31, 2018 16:21', 'author': 'INSUNG DATA INC.', 'creationdate--text': 'January 31, 2018 16:21', 'moddate': 'January 31, 2018 16:21', 'moddate--text': 'January 31, 2018 16:21', 'subject': 'CoreImposition PDF 1.0 Output', 'title': '°æÁ¦±ÝÀ¶¿ë¾î 700¼±-ÃÖÁ¾.PDF', 'source': '2020_경제금융용어 700선_게시.pdf', 'total_pages': 371, 'page': 154, 'page_label': '155'}\n",
            "- 169 ㅅ  스태그플레이션 제2차 세계대전 이전까지 경기침체기에는 물가가 하락하고 경기호황기에는 물가가  상승하는 것이 일반적 현상이었다. 그러나 제2차 세계대전 이후 특히 1970년대 들어  두 번의 유가파동을 겪 {'producer': 'Smart PDF Imposition 1.0', 'creator': 'Smart PDF Imposition 1.0', 'creationdate': 'January 31, 2018 16:21', 'author': 'INSUNG DATA INC.', 'creationdate--text': 'January 31, 2018 16:21', 'moddate': 'January 31, 2018 16:21', 'moddate--text': 'January 31, 2018 16:21', 'subject': 'CoreImposition PDF 1.0 Output', 'title': '°æÁ¦±ÝÀ¶¿ë¾î 700¼±-ÃÖÁ¾.PDF', 'source': '2020_경제금융용어 700선_게시.pdf', 'total_pages': 371, 'page': 185, 'page_label': '186'}\n",
            "- 236 경제금융용어 700선 실업률과 인플레이션의 관계는 통화론자와 케인즈학파간 오랜 논쟁거리 중의 하나로,  통화론자인 프리드먼은 예상치 못한 인플레이션이 발생하는 경우 일시적으로 실업률이  하락할 수는 있으나 장 {'producer': 'Smart PDF Imposition 1.0', 'creator': 'Smart PDF Imposition 1.0', 'creationdate': 'January 31, 2018 16:21', 'author': 'INSUNG DATA INC.', 'creationdate--text': 'January 31, 2018 16:21', 'moddate': 'January 31, 2018 16:21', 'moddate--text': 'January 31, 2018 16:21', 'subject': 'CoreImposition PDF 1.0 Output', 'title': '°æÁ¦±ÝÀ¶¿ë¾î 700¼±-ÃÖÁ¾.PDF', 'source': '2020_경제금융용어 700선_게시.pdf', 'total_pages': 371, 'page': 252, 'page_label': '253'}\n",
            "- 연관검색어 : 규모의 경제 자연실업률 1968년 프리드먼(M. Friedman)이 처음 제시한 개념으로, 경제의 균형상태에서 상품시 장과 노동시장 등의 구조적 요인에 의해 결정되는 실업률을 말한다. 이는 노동시장의  {'producer': 'Smart PDF Imposition 1.0', 'creator': 'Smart PDF Imposition 1.0', 'creationdate': 'January 31, 2018 16:21', 'author': 'INSUNG DATA INC.', 'creationdate--text': 'January 31, 2018 16:21', 'moddate': 'January 31, 2018 16:21', 'moddate--text': 'January 31, 2018 16:21', 'subject': 'CoreImposition PDF 1.0 Output', 'title': '°æÁ¦±ÝÀ¶¿ë¾î 700¼±-ÃÖÁ¾.PDF', 'source': '2020_경제금융용어 700선_게시.pdf', 'total_pages': 371, 'page': 251, 'page_label': '252'}\n"
          ]
        }
      ]
    }
  ]
}