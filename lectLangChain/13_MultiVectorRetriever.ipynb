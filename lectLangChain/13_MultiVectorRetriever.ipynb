{
  "cells": [
    {
      "cell_type": "code",
      "execution_count": 5,
      "metadata": {
        "id": "uNrASrLBlCK-"
      },
      "outputs": [],
      "source": [
        "# ============================================\n",
        "# 1) 설치\n",
        "# ============================================\n",
        "!pip -q install langchain langchain-community langchain-text-splitters faiss-cpu sentence-transformers pypdf\n"
      ]
    },
    {
      "cell_type": "markdown",
      "metadata": {
        "id": "sVr1HFIAJ_Xb"
      },
      "source": [
        "**MultiVectorRetriever**\n",
        "\n",
        "원문에서\n",
        "   > child를 여러 부분(예, 목차, 본문, 키워드 등) 에서 찾아서\n",
        "     \n",
        "    parent 청크에 연결해. 부모 chunk 내용을 결과로 도출\n",
        "\n",
        "    Parent <> Child 연결은 \"doc_id\"로 되어 있음\n"
      ]
    },
    {
      "cell_type": "code",
      "execution_count": null,
      "metadata": {
        "colab": {
          "base_uri": "https://localhost:8080/"
        },
        "id": "rzjySWNZfRGH",
        "outputId": "9363e885-9c21-4168-9051-6faa809bc8dd"
      },
      "outputs": [
        {
          "name": "stdout",
          "output_type": "stream",
          "text": [
            "✅ PDF ready: 2020_경제금융용어 700선_게시.pdf\n",
            "📄 전체 페이지 수: 371\n",
            "🧩 부모 청크 수: 466\n"
          ]
        },
        {
          "name": "stderr",
          "output_type": "stream",
          "text": [
            "WARNING:langchain_community.vectorstores.faiss:`embedding_function` is expected to be an Embeddings object, support for passing in a function will soon be removed.\n"
          ]
        },
        {
          "name": "stdout",
          "output_type": "stream",
          "text": [
            "⏳ 부모-자식 매핑 중...\n",
            "✅ 색인 완료\n",
            "부모 문서 수: 466 | 자식 청크 수: 1378\n",
            "\n",
            "🔎 Q: 인플레이션의 정의와 원인, 그리고 기준금리와의 관계는 무엇인가요?\n",
            "--- Top-3 부모 문서 ---\n",
            " 1. p.334 | 318 경제금융용어 700선 여 매매할 때 이용된다. 과거에 프로그램매매는 지수차익거래 위주로 이루어졌으나 최근에 는 비차익거래가 대부분(2016년 상반기 중 거래대금 기준으로 98.3%)을 차지하고 있다.  이는 공모펀드 및 연기금(2010년)과 우정사업본부(2013년)에 대한 증권거...\n",
            " 2. p.131 | 115 ㅁ  물가지수 시장에서 거래되는 여러 가지 상품과 서비스의 가격을 경제생활에서 차지하는 중요도 를 고려하여 평균한 종합적인 가격수준을 물가라고 하는데, 이 같은 물가의 변화를  한 눈에 알아볼 수 있도록 기준연도의 물가수준을 100으로 놓고 비교되는 다른 시점의  물가를 지수의 ...\n",
            " 3. p.82 | 66 경제금융용어 700선 핵심지표중 하나이다. 기대인플레이션은 임금협상, 가격설정, 투자결정 등 경제주체의  의사결정에 반영되면서 최종적으로 실제 인플레이션에 영향을 미친다. 구체적인 경로를  살펴보면 기대인플레이션 상승 시 가계는 구매력 하락을 우려하여 명목임금 상승을  요구하게 되...\n"
          ]
        },
        {
          "name": "stderr",
          "output_type": "stream",
          "text": [
            "/tmp/ipython-input-3960166090.py:124: LangChainDeprecationWarning: The method `BaseRetriever.get_relevant_documents` was deprecated in langchain-core 0.1.46 and will be removed in 1.0. Use :meth:`~invoke` instead.\n",
            "  hits = retriever.get_relevant_documents(q)\n"
          ]
        },
        {
          "name": "stdout",
          "output_type": "stream",
          "text": [
            "\n",
            "🔎 Q: 환율 변동이 물가에 어떤 영향을 미치나요?\n",
            "--- Top-3 부모 문서 ---\n",
            " 1. p.197 | 181 ㅅ  인플레이션압력을 높일 가능성이 큰 상황으로 볼 수 있다. 따라서 물가안정을 주된  정책목표로 하는 중앙은행의 경우 실업률갭은 노동시장을 통한 인플레이션 상승압력을  평가하거나, 통화정책 기조가 노동시장 수급불균형 해소에 어느 정도 부합하는지 등을  살펴보는데 유용하게 활용할...\n",
            " 2. p.131 | 115 ㅁ  물가지수 시장에서 거래되는 여러 가지 상품과 서비스의 가격을 경제생활에서 차지하는 중요도 를 고려하여 평균한 종합적인 가격수준을 물가라고 하는데, 이 같은 물가의 변화를  한 눈에 알아볼 수 있도록 기준연도의 물가수준을 100으로 놓고 비교되는 다른 시점의  물가를 지수의 ...\n",
            " 3. p.332 | 316 경제금융용어 700선 자유변동환율제도중 어느 환율제도를 채택하느냐에 따라 구분된다. 즉 평가절상(또는 평가 절하)은 고정환율제도하에서 정부가 정책적 목적 등으로 자국통화의 대외가치인 환율을  인위적으로 일시에 조정하였을 경우 사용되며, 절상(또는 절하)은 일반적으로 자유변동환 율...\n",
            "\n",
            "🔎 Q: 스태그플레이션의 의미와 정책 대응상의 어려움은 무엇인가요?\n",
            "--- Top-3 부모 문서 ---\n",
            " 1. p.185 | 169 ㅅ  스태그플레이션 제2차 세계대전 이전까지 경기침체기에는 물가가 하락하고 경기호황기에는 물가가  상승하는 것이 일반적 현상이었다. 그러나 제2차 세계대전 이후 특히 1970년대 들어  두 번의 유가파동을 겪으면서 실업이 늘어나는 침체기에도 인플레이션이 지속되는 현상 이 나타나기...\n",
            " 2. p.158 | 부정적인 영향을 줄 가능성이 있다. 또한 사전적 정책방향의 제시내용이 지나치게 복잡 하고 이해하기 어려울 경우 오히려 정책운영 방식의 명료성을 제약하고 정책 불확실성이  다시 높아지는 문제가 발생할 수도 있다 .  연관검색어 : 양적완화정책, 제로금리정책, 통화정책 커뮤니케이션...\n",
            " 3. p.125 | 109 ㅁ  매출액영업이익률  매출액 영업손익 ×  매출액 매출총손익  × 매출총손익 영업손익  ×      * 매출총손익 = 매출액-매출원가     ** 영업손익 = 매출총손익 - 판매비와관리비 머니마켓펀드(MMF) 머니마켓펀드(MMF; Money Mark...\n"
          ]
        }
      ],
      "source": [
        "\n",
        "# ============================================\n",
        "# 2) PDF 다운로드 (경제금융용어 700선)\n",
        "# ============================================\n",
        "import os, requests, urllib.request\n",
        "\n",
        "url = \"https://github.com/chatgpt-kr/openai-api-tutorial/raw/main/ch07/2020_%EA%B2%BD%EC%A0%9C%EA%B8%88%EC%9C%B5%EC%9A%A9%EC%96%B4%20700%EC%84%A0_%EA%B2%8C%EC%8B%9C.pdf\"\n",
        "\n",
        "\n",
        "pdf_path = \"2020_경제금융용어 700선_게시.pdf\"\n",
        "\n",
        "# 우선 urlretrieve 시도\n",
        "try:\n",
        "    urllib.request.urlretrieve(url, filename=pdf_path)\n",
        "except Exception:\n",
        "    pass\n",
        "\n",
        "# 비어있으면 requests로 재시도\n",
        "if not os.path.exists(pdf_path) or os.path.getsize(pdf_path) == 0:\n",
        "    r = requests.get(url, stream=True, timeout=60)\n",
        "    r.raise_for_status()\n",
        "    with open(pdf_path, \"wb\") as f:\n",
        "        for chunk in r.iter_content(chunk_size=8192):\n",
        "            if chunk:\n",
        "                f.write(chunk)\n",
        "print(\"✅ PDF ready:\", pdf_path)\n",
        "\n",
        "# ============================================\n",
        "# 3) PDF 로드 & Parent/Child 청크 분할\n",
        "#    (community 네임스페이스 사용)\n",
        "# ============================================\n",
        "from langchain_community.document_loaders import PyPDFLoader\n",
        "from langchain_text_splitters import RecursiveCharacterTextSplitter\n",
        "\n",
        "loader = PyPDFLoader(pdf_path)\n",
        "docs = loader.load()\n",
        "print(f\"📄 전체 페이지 수: {len(docs)}\")\n",
        "\n",
        "parent_splitter = RecursiveCharacterTextSplitter(chunk_size=1200, chunk_overlap=120)\n",
        "child_splitter  = RecursiveCharacterTextSplitter(chunk_size=400, chunk_overlap=40)\n",
        "\n",
        "parent_docs = parent_splitter.split_documents(docs)\n",
        "print(f\"🧩 부모 청크 수: {len(parent_docs)}\")\n",
        "\n",
        "# ============================================\n",
        "# 4) 한국어 임베딩 준비 (community 네임스페이스)\n",
        "# ============================================\n",
        "from langchain_community.embeddings import HuggingFaceEmbeddings\n",
        "embedding = HuggingFaceEmbeddings(model_name=\"jhgan/ko-sroberta-multitask\")\n",
        "\n",
        "# ============================================\n",
        "# 5) 빈 FAISS 인덱스 + InMemoryStore 생성\n",
        "#    (community 네임스페이스 + dependable_faiss_import)\n",
        "# ============================================\n",
        "from langchain_community.vectorstores import FAISS\n",
        "from langchain_community.vectorstores.faiss import dependable_faiss_import\n",
        "from langchain.docstore import InMemoryDocstore  # 여기는 core 경로 유지\n",
        "\n",
        "faiss = dependable_faiss_import()\n",
        "dim = len(embedding.embed_query(\"테스트\"))  # 임베딩 차원 확인\n",
        "index = faiss.IndexFlatL2(dim)\n",
        "vectorstore = FAISS(embedding.embed_query, index, InMemoryDocstore(), {})\n",
        "\n",
        "# 부모 문서 저장소 (KV 스토어)\n",
        "try:\n",
        "    from langchain.storage import InMemoryStore   # 최신\n",
        "except ImportError:\n",
        "    class InMemoryStore(dict):                    # 폴백\n",
        "        def mset(self, items):\n",
        "            for k, v in items:\n",
        "                self[k] = v\n",
        "docstore = InMemoryStore()\n",
        "\n",
        "# ============================================\n",
        "# 6) MultiVectorRetriever 생성\n",
        "#    (최신: langchain.retrievers, 폴백: community)\n",
        "# ============================================\n",
        "try:\n",
        "    from langchain.retrievers import MultiVectorRetriever\n",
        "except ImportError:\n",
        "    from langchain_community.retrievers import MultiVectorRetriever\n",
        "\n",
        "from uuid import uuid4\n",
        "from langchain.schema import Document\n",
        "\n",
        "retriever = MultiVectorRetriever(\n",
        "    vectorstore=vectorstore,\n",
        "    docstore=docstore,\n",
        "    id_key=\"doc_id\",\n",
        ")\n",
        "\n",
        "# ============================================\n",
        "# 7) 부모-자식 매핑 (Child 청크만 색인)\n",
        "# ============================================\n",
        "print(\" 부모-자식 매핑 중...\")\n",
        "\n",
        "parent_id_to_doc = []\n",
        "child_texts, child_metas = [], []\n",
        "\n",
        "for pdoc in parent_docs:\n",
        "    pid = str(uuid4())\n",
        "\n",
        "    # 부모 문서 저장\n",
        "    parent_doc = Document(page_content=pdoc.page_content, metadata=pdoc.metadata | {\"doc_id\": pid})\n",
        "    parent_id_to_doc.append((pid, parent_doc))\n",
        "\n",
        "    # 자식 청크 생성 & 벡터 색인용 데이터 수집\n",
        "    child_chunks = child_splitter.split_documents([pdoc])\n",
        "    for c in child_chunks:\n",
        "        child_texts.append(c.page_content)\n",
        "        child_metas.append({\"doc_id\": pid, **(c.metadata or {})})\n",
        "\n",
        "# 부모 저장\n",
        "docstore.mset(parent_id_to_doc)\n",
        "\n",
        "# 자식 벡터 색인\n",
        "if child_texts:\n",
        "    retriever.vectorstore.add_texts(texts=child_texts, metadatas=child_metas)\n",
        "\n",
        "print(\"✅ 색인 완료\")\n",
        "print(f\"부모 문서 수: {len(parent_id_to_doc)} | 자식 청크 수: {len(child_texts)}\")\n",
        "\n",
        "# ============================================\n",
        "# 8) 검색 테스트\n",
        "# ============================================\n",
        "def ask(q, k=3):\n",
        "    hits = retriever.get_relevant_documents(q)\n",
        "    print(f\"\\n🔎 Q: {q}\\n--- Top-{min(k,len(hits))} 부모 문서 ---\")\n",
        "    for i, d in enumerate(hits[:k], 1):\n",
        "        page = d.metadata.get(\"page\", \"?\")\n",
        "        preview = d.page_content[:160].replace(\"\\n\",\" \")\n",
        "        print(f\"{i:>2}. p.{page} | {preview}...\")\n",
        "\n",
        "# 테스트 질문\n",
        "ask(\"인플레이션의 정의와 원인, 그리고 기준금리와의 관계는 무엇인가요?\")\n",
        "ask(\"환율 변동이 물가에 어떤 영향을 미치나요?\")\n",
        "ask(\"스태그플레이션의 의미와 정책 대응상의 어려움은 무엇인가요?\")\n"
      ]
    },
    {
      "cell_type": "code",
      "execution_count": null,
      "metadata": {},
      "outputs": [],
      "source": [
        "import gradio as gr\n",
        "\n",
        "# 인터페이스 생성\n",
        "with gr.Blocks() as demo:\n",
        "    chatbot = gr.Chatbot(label=\"경제금융용어 챗봇\") # 챗봇 레이블을 좌측 상단에 구성\n",
        "    msg = gr.Textbox(label=\"질문해주세요!\")  # 하단의 채팅창 레이블\n",
        "    clear = gr.Button(\"대화 초기화\")  # 대화 초기화 버튼\n",
        "\n",
        "    # 챗봇의 답변을 처리하는 함수\n",
        "    def respond(message, chat_history):\n",
        "      result = qa_chain(message, \n",
        "                        callbacks=[ConsoleCallbackHandler()])\n",
        "      bot_message = result['result']\n",
        "\n",
        "      # 채팅 기록에 사용자의 메시지와 봇의 응답을 추가\n",
        "      chat_history.append((message, bot_message))\n",
        "      return \"\", chat_history\n",
        "\n",
        "    # 사용자의 입력을 제출(submit)하면 respond 함수가 호출\n",
        "    msg.submit(respond, [msg, chatbot], [msg, chatbot])\n",
        "\n",
        "    # '초기화' 버튼을 클릭하면 채팅 기록을 초기화\n",
        "    clear.click(lambda: None, None, chatbot, queue=False)\n",
        "\n",
        "# 인터페이스 실행\n",
        "demo.launch(debug=True)"
      ]
    }
  ],
  "metadata": {
    "colab": {
      "provenance": []
    },
    "kernelspec": {
      "display_name": "Python 3",
      "name": "python3"
    },
    "language_info": {
      "name": "python"
    }
  },
  "nbformat": 4,
  "nbformat_minor": 0
}
