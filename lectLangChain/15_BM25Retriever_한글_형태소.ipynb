{
  "cells": [
    {
      "cell_type": "code",
      "execution_count": null,
      "metadata": {
        "colab": {
          "base_uri": "https://localhost:8080/"
        },
        "id": "Dx9kjRLtjJ-c",
        "outputId": "0995423b-6758-4adc-ed4d-8543385365c9"
      },
      "outputs": [
        {
          "name": "stdout",
          "output_type": "stream",
          "text": [
            "\u001b[2K   \u001b[90m━━━━━━━━━━━━━━━━━━━━━━━━━━━━━━━━━━━━━━━━\u001b[0m \u001b[32m2.5/2.5 MB\u001b[0m \u001b[31m21.5 MB/s\u001b[0m eta \u001b[36m0:00:00\u001b[0m\n",
            "\u001b[2K   \u001b[90m━━━━━━━━━━━━━━━━━━━━━━━━━━━━━━━━━━━━━━━━\u001b[0m \u001b[32m310.5/310.5 kB\u001b[0m \u001b[31m12.3 MB/s\u001b[0m eta \u001b[36m0:00:00\u001b[0m\n",
            "\u001b[2K   \u001b[90m━━━━━━━━━━━━━━━━━━━━━━━━━━━━━━━━━━━━━━━━\u001b[0m \u001b[32m19.4/19.4 MB\u001b[0m \u001b[31m48.8 MB/s\u001b[0m eta \u001b[36m0:00:00\u001b[0m\n",
            "\u001b[2K   \u001b[90m━━━━━━━━━━━━━━━━━━━━━━━━━━━━━━━━━━━━━━━━\u001b[0m \u001b[32m495.9/495.9 kB\u001b[0m \u001b[31m17.9 MB/s\u001b[0m eta \u001b[36m0:00:00\u001b[0m\n",
            "\u001b[2K   \u001b[90m━━━━━━━━━━━━━━━━━━━━━━━━━━━━━━━━━━━━━━━━\u001b[0m \u001b[32m50.9/50.9 kB\u001b[0m \u001b[31m2.8 MB/s\u001b[0m eta \u001b[36m0:00:00\u001b[0m\n",
            "\u001b[?25h"
          ]
        }
      ],
      "source": [
        "# ============================================\n",
        "# 1) 설치\n",
        "# ============================================\n",
        "!pip -q install langchain langchain-community langchain-text-splitters pypdf rank-bm25 konlpy\n",
        "\n",
        "!pip -q install python-mecab-ko\n"
      ]
    },
    {
      "cell_type": "code",
      "execution_count": null,
      "metadata": {
        "colab": {
          "base_uri": "https://localhost:8080/"
        },
        "id": "mQIf6Myain90",
        "outputId": "fe6342dc-0e6e-42dd-baa6-53172b4a221b"
      },
      "outputs": [
        {
          "name": "stdout",
          "output_type": "stream",
          "text": [
            "✅ PDF ready: 2020_경제금융용어 700선_게시.pdf\n",
            "📄 페이지 수: 371, 🧩 청크 수: 1117\n",
            "형태소 분석 예시: ['인플레이션', '은', '물가', '가', '오르는', '현상', '을', '말', '합니다', '.']\n",
            "\n",
            "🔎 Q: 인플레이션의 정의와 원인은 무엇인가요?\n",
            "--- 검색 결과 ---\n",
            " 1. p.241 | 경쟁 촉진 등으로 인한 국민후생 증진 등이 기대된다  연관검색어 : 핀테크 인플레이션 물가수준이 지속적으로 상승하는 현상을 인플레이션이라고 한다. 여기서 물가는 개별 상품의 가격을 평균하여 산출한 물가지수를 의미한다. 인플레이션은 물가상승 지속기간  및 상승폭, 제품의...\n",
            " 2. p.154 | 특성을 지닌 상품이 다수 생산되고 있어 생산비용의 상대적 차이만으로 무역의 발생  원인을 설명하는 데는 한계가 있는 것으로 보인다 .  연관검색어 : 현시비교우위지수 (RCA) 비용인상 인플레이션 재화나 서비스의 생산과 관련하여 투입요소의 비용 상승에 의해 물가가 지속...\n",
            " 3. p.334 | 개발계획의 입안 및 사업성 검토, 입찰준비, 신용보강 등에 광범위하게 참여하고 다양한  유형의 직간접 금융기법을 결합시키는 투자금융서비스도 제공하게 된다. 유럽 미국 등지 에서는 1960년대부터 많이 사용되어 왔고 우리나라에서는 지난 2000년대 이후 사회간접 자본(S...\n",
            " 4. p.359 | 343 ABC  있다. 정상회담은 각국 대통령과 총리가 참가하는 가운데 1년에 한번 개최되며 세계의  주요 의제 등을 논의한다. 이 모임은 당초에는 세계 경제의 당면과제 해결방안 모색에  주안점을 두고 있었으나 소련-아프카니스탄 전쟁 발발(1979.12월) 후 1980...\n",
            " 5. p.117 | 레버리지는 ‘양날의 칼’에 비유되기도 한다. 1997년말 한국에 외환위기가 닥쳤을 때  많은 사업자와 기업이 파산하게 된 원인 중 하나가 높은 부채비율로 인한 레버리지였다.  그러므로 투자를 할 때는 감내할 만한 수준 이내로 부채를 적절하게 사용하는 것이  바람직하다....\n",
            "\n",
            "🔎 Q: 환율 변동이 물가에 미치는 영향은?\n",
            "--- 검색 결과 ---\n",
            " 1. p.197 | 측정하기 위해 명목임금을 소비자물가지수로 나눈 것을 실질임금이라고 한다. 물가상승률 이 명목상승률보다 더 높으면 실질임금은 오히려 줄어들어 실제 구매력은 감소하게 된다.   연관검색어 : 소비자물가지수(CPI), 인플레이션 실효환율 환율은 양 통화 간의 교환비율이기 때...\n",
            " 2. p.165 | 149 ㅅ  등 다른 원료의 생산이 필요하게 된다. 이와 같이 자동차의 생산은 아무 관련이 없는  것처럼 보이는 많은 산업에 까지 영향을 주게 되는데 이러한 생산유발효과는 산업간의  수급균형이 이루어질 때까지 무한히 계속된다. 생산유발효과는 생산유발계수의 크기로  측정...\n",
            " 3. p.178 | 수출입물가지수 수출입 물가지수는 수출 및 수입상품의 가격변동을 측정하는 지표로서 동 지수는  대외의존도가 높은 우리나라의 경우 수출입 상품의 가격변동이 국내물가, 생산활동  및 대외 경쟁 등에 미치는 효과를 사전에 측정하기 위해 작성되며 주로 수출입관련업체들 의 수출채...\n",
            " 4. p.270 | 254 경제금융용어 700선 나면 총수요에 직접적인 영향을 미치기 때문이다. 한편, 통화정책의 경우는 재정정책과 는 달리 내부시차는 짧지만, 생산, 물가 등 실물변수에 영향을 미치는 데는 상당한  시간이 걸리는 등 외부시차가 상대적으로 길다. 예컨대 통화정책으로 기준금...\n",
            " 5. p.322 | 높은 달러화 표시 금융자산을 매입하고자 하게 되며 원화를 팔고 달러를 사게 된다 .  이 때 달러화에 대한 초과수요로 원화가치가 하락(환율 상승)하면 수출이 증가하고  수입이 감소하여 경상수지가 개선되고 이는 생산 증대 및 물가 상승으로 이어지게  된다. 기대경로의 경...\n",
            "\n",
            "🔎 Q: 스태그플레이션이란 무엇인가요?\n",
            "--- 검색 결과 ---\n",
            " 1. p.185 | 169 ㅅ  스태그플레이션 제2차 세계대전 이전까지 경기침체기에는 물가가 하락하고 경기호황기에는 물가가  상승하는 것이 일반적 현상이었다. 그러나 제2차 세계대전 이후 특히 1970년대 들어  두 번의 유가파동을 겪으면서 실업이 늘어나는 침체기에도 인플레이션이 지속되는...\n",
            " 2. p.9 | 스왑레이트 ・ ・ ・ ・ ・ ・ ・ ・ ・ ・ ・ ・ ・ ・ ・ ・ ・ ・ ・ ・ ・ ・ ・ ・ ・ ・ ・ ・ ・ ・ ・ ・ ・ ・ ・ ・ ・ ・ ・ ・ ・ ・168 스태그플레이션 ・・・・・・・・・・・・・・・・・・・・・・・・・・・・・・・・・・・169 스탠더드 & 푸어스...\n",
            " 3. p.224 | 208 경제금융용어 700선 우발전환사채(코코본드) 우발전환사채(Contingent Convertible Bond)는 발행기관이 경영개선명령을 받거나  부실금융기관으로 지정될 경우 상각되거나 보통주로 전환되는 조건이 부가되어 있는  채권(조건부자본증권)을 말한다. 이러...\n",
            " 4. p.123 | 연관검색어 : 이표채  매매보호 서비스(escrow) 판매자와 구매자 사이의 신용관계가 불확실한 전자상거래 시 신뢰할 수 있는 중립적인  제삼자가 중개역할을 하여 상거래가 원활히 이루어질 수 있도록 하는 서비스를 말한다.  구체적으로는 전자상거래 시 소비자가 물품을 구...\n",
            " 5. p.196 | 180 경제금융용어 700선 않는 내구성이 있는 귀금속, 특히 금 또는 은이 주로 실물화폐로 쓰여졌다. 이러한  실물화폐는 경제규모가 커짐에 따라 필요한 양만큼 보관과 운반이 불편하여 소재가치와  교환가치가 다른 무엇을 화폐로 사용하게 되는데 이를 명목화폐라고 한다. ...\n"
          ]
        },
        {
          "name": "stderr",
          "output_type": "stream",
          "text": [
            "/tmp/ipython-input-134101655.py:58: LangChainDeprecationWarning: The method `BaseRetriever.get_relevant_documents` was deprecated in langchain-core 0.1.46 and will be removed in 1.0. Use :meth:`~invoke` instead.\n",
            "  docs = bm25.get_relevant_documents(q)\n"
          ]
        }
      ],
      "source": [
        "\n",
        "# ============================================\n",
        "# 2) PDF 다운로드 (경제금융용어 700선)\n",
        "# ============================================\n",
        "import requests, os\n",
        "import urllib.request\n",
        "\n",
        "urllib.request.urlretrieve(\"https://github.com/chatgpt-kr/openai-api-tutorial/raw/main/ch07/2020_%EA%B2%BD%EC%A0%9C%EA%B8%88%EC%9C%B5%EC%9A%A9%EC%96%B4%20700%EC%84%A0_%EA%B2%8C%EC%8B%9C.pdf\", filename=\"2020_경제금융용어 700선_게시.pdf\")\n",
        "\n",
        "pdf_path = \"2020_경제금융용어 700선_게시.pdf\"\n",
        "\n",
        "if not os.path.exists(pdf_path) or os.path.getsize(pdf_path) == 0:\n",
        "    r = requests.get(url, stream=True)\n",
        "    r.raise_for_status()\n",
        "    with open(pdf_path, \"wb\") as f:\n",
        "        for chunk in r.iter_content(chunk_size=8192):\n",
        "            f.write(chunk)\n",
        "print(\"✅ PDF ready:\", pdf_path)\n",
        "\n",
        "# ============================================\n",
        "# 3) PDF 로드 & 청크 분할\n",
        "# ============================================\n",
        "from langchain_community.document_loaders import PyPDFLoader\n",
        "from langchain_text_splitters import RecursiveCharacterTextSplitter\n",
        "\n",
        "loader = PyPDFLoader(pdf_path)\n",
        "docs = loader.load()\n",
        "\n",
        "splitter = RecursiveCharacterTextSplitter(chunk_size=500, chunk_overlap=50)\n",
        "chunks = splitter.split_documents(docs)\n",
        "print(f\"📄 페이지 수: {len(docs)}, 🧩 청크 수: {len(chunks)}\")\n",
        "\n",
        "# ============================================\n",
        "# 4) 한글 형태소 분석기 (Okt) 적용\n",
        "# ============================================\n",
        "from konlpy.tag import Okt\n",
        "okt = Okt()\n",
        "mecab = MeCab()\n",
        "\n",
        "def tokenize_korean(text: str):\n",
        "    # 형태소 단위로 쪼개고, 불필요한 조사/기호 제거\n",
        "    return [tok for tok in okt.morphs(text) if tok.strip()]\n",
        "    #return [w for w in mecab.morphs(text) if w.strip()]\n",
        "\n",
        "\n",
        "# 테스트\n",
        "print(\"형태소 분석 예시:\", tokenize_korean(\"인플레이션은 물가가 오르는 현상을 말합니다.\"))\n",
        "\n",
        "# ============================================\n",
        "# 5) BM25Retriever 구성\n",
        "# ============================================\n",
        "from langchain_community.retrievers import BM25Retriever\n",
        "\n",
        "# BM25Retriever에 사용자 정의 tokenizer를 넘길 수 있음\n",
        "bm25 = BM25Retriever.from_documents(chunks, preprocess_func=tokenize_korean)\n",
        "bm25.k = 5  # 상위 5개 문서 검색\n",
        "\n",
        "# ============================================\n",
        "# 6) 검색 테스트\n",
        "# ============================================\n",
        "def ask(q):\n",
        "    docs = bm25.get_relevant_documents(q)\n",
        "    print(f\"\\n🔎 Q: {q}\\n--- 검색 결과 ---\")\n",
        "    for i, d in enumerate(docs, 1):\n",
        "        page = d.metadata.get(\"page\", \"?\")\n",
        "        txt = d.page_content[:150].replace(\"\\n\",\" \")\n",
        "        print(f\"{i:>2}. p.{page} | {txt}...\")\n",
        "\n",
        "# 테스트 질의\n",
        "ask(\"인플레이션의 정의와 원인은 무엇인가요?\")\n",
        "ask(\"환율 변동이 물가에 미치는 영향은?\")\n",
        "ask(\"스태그플레이션이란 무엇인가요?\")\n"
      ]
    }
  ],
  "metadata": {
    "colab": {
      "provenance": []
    },
    "kernelspec": {
      "display_name": "Python 3",
      "name": "python3"
    },
    "language_info": {
      "name": "python"
    }
  },
  "nbformat": 4,
  "nbformat_minor": 0
}
