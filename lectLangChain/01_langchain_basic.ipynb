{
  "cells": [
    {
      "cell_type": "markdown",
      "metadata": {},
      "source": [
        "# LangChain\n",
        "\n",
        "- ChatPromptTemplate\n",
        "## LCEL chaining\n",
        "chain = prompt | llm | output_parser"
      ]
    },
    {
      "cell_type": "code",
      "execution_count": 1,
      "metadata": {
        "colab": {
          "base_uri": "https://localhost:8080/"
        },
        "id": "KzgGcPlJ6TDl",
        "outputId": "a261478e-db55-493a-c834-df2a6fa23235"
      },
      "outputs": [
        {
          "name": "stdout",
          "output_type": "stream",
          "text": [
            "\u001b[?25l   \u001b[90m━━━━━━━━━━━━━━━━━━━━━━━━━━━━━━━━━━━━━━━━\u001b[0m \u001b[32m0.0/74.5 kB\u001b[0m \u001b[31m?\u001b[0m eta \u001b[36m-:--:--\u001b[0m\r\u001b[2K   \u001b[91m━━━━━━━━━━━━━━━━━━━━━━\u001b[0m\u001b[90m╺\u001b[0m\u001b[90m━━━━━━━━━━━━━━━━━\u001b[0m \u001b[32m41.0/74.5 kB\u001b[0m \u001b[31m991.7 kB/s\u001b[0m eta \u001b[36m0:00:01\u001b[0m\r\u001b[2K   \u001b[91m━━━━━━━━━━━━━━━━━━━━━━━━━━━━━━━━━━━━━━\u001b[0m\u001b[91m╸\u001b[0m\u001b[90m━\u001b[0m \u001b[32m71.7/74.5 kB\u001b[0m \u001b[31m1.1 MB/s\u001b[0m eta \u001b[36m0:00:01\u001b[0m\r\u001b[2K   \u001b[90m━━━━━━━━━━━━━━━━━━━━━━━━━━━━━━━━━━━━━━━━\u001b[0m \u001b[32m74.5/74.5 kB\u001b[0m \u001b[31m837.6 kB/s\u001b[0m eta \u001b[36m0:00:00\u001b[0m\n",
            "\u001b[?25h"
          ]
        }
      ],
      "source": [
        "\n",
        "!pip install -q langchain langchain-openai tiktoken"
      ]
    },
    {
      "cell_type": "code",
      "execution_count": null,
      "metadata": {
        "id": "PmcVPiQe6Wco"
      },
      "outputs": [],
      "source": [
        "import os\n",
        "from dotenv import load_dotenv\n",
        "\n",
        "load_dotenv()\n",
        "# OpenAI API 클라이언트 생성\n",
        "API_KEY = os.getenv(\"OPENAI_API_KEY\")\n",
        "\n",
        "# # OpenAI API 키 설정 (실제 사용 시 본인의 API 키로 변경)\n",
        "# os.environ[\"OPENAI_API_KEY\"] = \"your key\"\n"
      ]
    },
    {
      "cell_type": "code",
      "execution_count": 2,
      "metadata": {
        "id": "A0jtLWQ66aqr"
      },
      "outputs": [],
      "source": [
        "\n",
        "from langchain_openai import ChatOpenAI\n",
        "\n",
        "# model\n",
        "llm = ChatOpenAI(model=\"gpt-3.5-turbo-0125\")\n",
        "\n",
        "# chain 실행\n",
        "result = llm.invoke(\"지구의 자전 주기는?\")"
      ]
    },
    {
      "cell_type": "code",
      "execution_count": 3,
      "metadata": {
        "colab": {
          "base_uri": "https://localhost:8080/",
          "height": 54
        },
        "id": "h76FRqlr6cOn",
        "outputId": "1b44a89e-ad99-4d1a-c572-3c3b9a03372b"
      },
      "outputs": [
        {
          "data": {
            "text/plain": [
              "'지구의 자전 주기는 약 24시간입니다. 즉, 지구는 한 번의 자전 주기를 완료하기 위해 약 24시간이 걸립니다.'"
            ]
          },
          "execution_count": 3,
          "metadata": {},
          "output_type": "execute_result"
        }
      ],
      "source": [
        "result.content"
      ]
    },
    {
      "cell_type": "code",
      "execution_count": 5,
      "metadata": {
        "colab": {
          "base_uri": "https://localhost:8080/"
        },
        "id": "auN1sO7C6ffl",
        "outputId": "b67fd897-b2be-492b-83fe-34cdeefb5258"
      },
      "outputs": [
        {
          "data": {
            "text/plain": [
              "ChatPromptTemplate(input_variables=['input'], input_types={}, partial_variables={}, messages=[HumanMessagePromptTemplate(prompt=PromptTemplate(input_variables=['input'], input_types={}, partial_variables={}, template='You are an expert in astronomy. Answer the question. : {input}'), additional_kwargs={})])"
            ]
          },
          "execution_count": 5,
          "metadata": {},
          "output_type": "execute_result"
        }
      ],
      "source": [
        "\n",
        "from langchain_core.prompts import ChatPromptTemplate\n",
        "\n",
        "prompt = ChatPromptTemplate.from_template(\"You are an expert in astronomy. Answer the question. : {input}\")\n",
        "prompt"
      ]
    },
    {
      "cell_type": "code",
      "execution_count": 6,
      "metadata": {
        "colab": {
          "base_uri": "https://localhost:8080/"
        },
        "id": "GxPWV2Qs6g_R",
        "outputId": "aa52ad5a-4de5-4aac-f05f-729f8649e026"
      },
      "outputs": [
        {
          "data": {
            "text/plain": [
              "AIMessage(content='지구의 자전 주기는 약 24시간으로, 하루 동안 지구가 자기 축 주위를 한 바퀴 도는 시간을 말합니다.', additional_kwargs={'refusal': None}, response_metadata={'token_usage': {'completion_tokens': 48, 'prompt_tokens': 28, 'total_tokens': 76, 'completion_tokens_details': {'accepted_prediction_tokens': 0, 'audio_tokens': 0, 'reasoning_tokens': 0, 'rejected_prediction_tokens': 0}, 'prompt_tokens_details': {'audio_tokens': 0, 'cached_tokens': 0}}, 'model_name': 'gpt-3.5-turbo-0125', 'system_fingerprint': None, 'id': 'chatcmpl-C8L03RCOVqTzeESFwE4ckAhnLLCbs', 'service_tier': 'default', 'finish_reason': 'stop', 'logprobs': None}, id='run--113d6d4f-c93d-4589-96c5-98a7e89577b0-0', usage_metadata={'input_tokens': 28, 'output_tokens': 48, 'total_tokens': 76, 'input_token_details': {'audio': 0, 'cache_read': 0}, 'output_token_details': {'audio': 0, 'reasoning': 0}})"
            ]
          },
          "execution_count": 6,
          "metadata": {},
          "output_type": "execute_result"
        }
      ],
      "source": [
        "from langchain_openai import ChatOpenAI\n",
        "llm = ChatOpenAI(model=\"gpt-3.5-turbo-0125\")\n",
        "\n",
        "# chain 연결 (LCEL)\n",
        "chain = prompt | llm\n",
        "\n",
        "# chain 호출\n",
        "chain.invoke({\"input\": \"지구의 자전 주기는?\"})"
      ]
    },
    {
      "cell_type": "code",
      "execution_count": 7,
      "metadata": {
        "colab": {
          "base_uri": "https://localhost:8080/",
          "height": 54
        },
        "id": "UjN6LhQF6iUu",
        "outputId": "f5267180-902d-486a-b271-76e72a129fd6"
      },
      "outputs": [
        {
          "data": {
            "application/vnd.google.colaboratory.intrinsic+json": {
              "type": "string"
            },
            "text/plain": [
              "'지구의 자전 주기는 약 24시간입니다. 이는 하루가 지나면 지구가 한 바퀴를 돌게 되는 시간을 의미합니다. 이것이 하루 밤과 낮이 나뉘는 이유이기도 합니다.'"
            ]
          },
          "execution_count": 7,
          "metadata": {},
          "output_type": "execute_result"
        }
      ],
      "source": [
        "from langchain_openai import ChatOpenAI\n",
        "from langchain_core.prompts import ChatPromptTemplate\n",
        "from langchain_core.output_parsers import StrOutputParser\n",
        "\n",
        "# prompt + model + output parser\n",
        "prompt = ChatPromptTemplate.from_template(\"You are an expert in astronomy. Answer the question. : {input}\")\n",
        "llm = ChatOpenAI(model=\"gpt-3.5-turbo-0125\")\n",
        "output_parser = StrOutputParser()\n",
        "\n",
        "# LCEL chaining\n",
        "chain = prompt | llm | output_parser\n",
        "\n",
        "# chain 호출\n",
        "chain.invoke({\"input\": \"지구의 자전 주기는?\"})"
      ]
    },
    {
      "cell_type": "markdown",
      "metadata": {
        "id": "J3JHT9cO7GDP"
      },
      "source": [
        "# 멀티체인"
      ]
    },
    {
      "cell_type": "code",
      "execution_count": 8,
      "metadata": {
        "colab": {
          "base_uri": "https://localhost:8080/",
          "height": 36
        },
        "id": "bCo0e8qR7H_0",
        "outputId": "621114b8-2e45-459c-f9a9-7978b5afc5f3"
      },
      "outputs": [
        {
          "data": {
            "application/vnd.google.colaboratory.intrinsic+json": {
              "type": "string"
            },
            "text/plain": [
              "'The Korean word \"미래\" translates to \"future\" in English.'"
            ]
          },
          "execution_count": 8,
          "metadata": {},
          "output_type": "execute_result"
        }
      ],
      "source": [
        "prompt1 = ChatPromptTemplate.from_template(\"translates {korean_word} to English.\")\n",
        "prompt2 = ChatPromptTemplate.from_template(\n",
        "    \"explain {english_word} using oxford dictionary to me in Korean.\"\n",
        ")\n",
        "\n",
        "llm = ChatOpenAI(model=\"gpt-4o-mini\")\n",
        "\n",
        "chain1 = prompt1 | llm | StrOutputParser()\n",
        "\n",
        "chain1.invoke({\"korean_word\":\"미래\"})\n"
      ]
    },
    {
      "cell_type": "code",
      "execution_count": 10,
      "metadata": {
        "colab": {
          "base_uri": "https://localhost:8080/",
          "height": 73
        },
        "id": "SDOetxof7KVT",
        "outputId": "18227031-41f9-4ab4-f4a3-a42e77d68bb2"
      },
      "outputs": [
        {
          "data": {
            "application/vnd.google.colaboratory.intrinsic+json": {
              "type": "string"
            },
            "text/plain": [
              "'\"미래\"는 영어로 \"future\"를 의미합니다. 옥스포드 사전에 따르면, \"future\"는 \\'어떤 사건이나 상황이 발생할 것으로 예상되는 시간\\' 또는 \\'앞으로 올 시간\\'을 가리킵니다. 즉, \"미래\"는 우리가 아직 경험하지 않았지만 앞으로 일어날 수 있는 일들을 의미하는 단어입니다.'"
            ]
          },
          "execution_count": 10,
          "metadata": {},
          "output_type": "execute_result"
        }
      ],
      "source": [
        "chain2 = (\n",
        "    {\"english_word\": chain1}\n",
        "    | prompt2\n",
        "    | llm\n",
        "    | StrOutputParser()\n",
        ")\n",
        "\n",
        "chain2.invoke({\"korean_word\":\"미래\"})\n"
      ]
    },
    {
      "cell_type": "markdown",
      "metadata": {
        "id": "_I7CRUgT83-N"
      },
      "source": [
        "# Runnable"
      ]
    },
    {
      "cell_type": "code",
      "execution_count": 12,
      "metadata": {
        "colab": {
          "base_uri": "https://localhost:8080/"
        },
        "id": "iJRxGyXp85KH",
        "outputId": "42c9972e-cd48-4244-bbbf-4ed6eb57ad2a"
      },
      "outputs": [
        {
          "name": "stdout",
          "output_type": "stream",
          "text": [
            "invoke 결과: 지구 자전은 지구가 자신의 축을 중심으로 회전하는 과정을 말합니다. 이 회전은 지구의 자전축이 북극과 남극을 잇는 가상의 선을 기준으로 이루어지며, 약 24시간에 한 바퀴를 돈다. 지구 자전의 결과로 낮과 밤이 생기며, 일주일 주기와 계절의 변화에도 영향을 미칩니다. \n",
            "\n",
            "지구 자전은 또한 지구의 기후와 날씨 패턴, 조수 현상 등에도 중요한 역할을 하며, 자전 방향은 서쪽에서 동쪽으로 이루어집니다. 이로 인해 태양은 동쪽에서 떠서 서쪽으로 지는 것처럼 보입니다. 자전은 지구의 형성 초기부터 시작되어 현재까지 계속되고 있습니다.\n"
          ]
        }
      ],
      "source": [
        "from langchain.prompts import ChatPromptTemplate\n",
        "from langchain_openai import ChatOpenAI # Changed import\n",
        "from langchain.schema.output_parser import StrOutputParser\n",
        "\n",
        "# 1. 컴포넌트 정의\n",
        "prompt = ChatPromptTemplate.from_template(\"지구과학에서 {topic}에 대해 간단히 설명해주세요.\")\n",
        "model = ChatOpenAI(model=\"gpt-4o-mini\")\n",
        "output_parser = StrOutputParser()\n",
        "\n",
        "# 2. 체인 생성\n",
        "chain = prompt | model | output_parser\n",
        "\n",
        "# 3. invoke 메소드 사용\n",
        "result = chain.invoke({\"topic\": \"지구 자전\"})\n",
        "print(\"invoke 결과:\", result)"
      ]
    },
    {
      "cell_type": "code",
      "execution_count": 13,
      "metadata": {
        "colab": {
          "base_uri": "https://localhost:8080/"
        },
        "id": "oegfWss_87uN",
        "outputId": "195d691e-8b7b-4ed1-a624-34764b582bf6"
      },
      "outputs": [
        {
          "name": "stdout",
          "output_type": "stream",
          "text": [
            "지구 공전 설명: 지구 공전(地球公轉)은 지구가 태양 주위를 타원형 궤도로 도는 운동을 의미합니다. 지구는 ...\n",
            "화산 활동 설명: 화산 활동은 지구 내부의 마그마가 지각을 뚫고 나와 표면에 분출되는 현상을 말합니다. 화산...\n",
            "대륙 이동 설명: 대륙 이동 이론은 지구의 대륙들이 시간이 지남에 따라 이동해왔다는 개념입니다. 이 이론은 ...\n"
          ]
        }
      ],
      "source": [
        "# batch 메소드 사용\n",
        "topics = [\"지구 공전\", \"화산 활동\", \"대륙 이동\"]\n",
        "results = chain.batch([{\"topic\": t} for t in topics])\n",
        "for topic, result in zip(topics, results):\n",
        "    print(f\"{topic} 설명: {result[:50]}...\")  # 결과의 처음 50자만 출력\n"
      ]
    },
    {
      "cell_type": "code",
      "execution_count": 14,
      "metadata": {
        "colab": {
          "base_uri": "https://localhost:8080/"
        },
        "id": "66NoYzoM89YN",
        "outputId": "7b85cd91-acba-4a31-dae4-1ef9449ea6d8"
      },
      "outputs": [
        {
          "name": "stdout",
          "output_type": "stream",
          "text": [
            "stream 결과:\n",
            "지진은 지구 내부에서 발생하는 에너지 방출로 인해 지표면이 흔들리는 현상입니다. 주로 지각의 판이 움직이거나 서로 충돌, 분리, 스치면서 발생합니다. 이러한 판의 움직임은 응력(스트레스)을 축적하고, 이 응력이 한계를 넘어가게 되면 갑작스럽게 해소되면서 지진이 발생하게 됩니다.\n",
            "\n",
            "지진의 발생 위치는 진원(지진의 발생 지점)과 지표에서의 위치인 진앙(진원의 수직선 위 위치)으로 구분됩니다. 지진의 강도는 리히터 규모나 모멘트 규모로 측정되며, 지진이 발생할 때 발생하는 파동은 주로 P파(압축파)와 S파(전단파)로 나뉩니다.\n",
            "\n",
            "지진은 가끔 큰 피해를 초래할 수 있으며, 해저에서 발생하는 지진은 쓰나미를 유발할 수도 있습니다. 지진의 예측과 연구는 지구과학의 중요한 분야입니다.\n"
          ]
        }
      ],
      "source": [
        "# stream 메소드 사용\n",
        "stream = chain.stream({\"topic\": \"지진\"})\n",
        "print(\"stream 결과:\")\n",
        "for chunk in stream:\n",
        "    print(chunk, end=\"\", flush=True)\n",
        "print()\n"
      ]
    },
    {
      "cell_type": "code",
      "execution_count": 15,
      "metadata": {
        "colab": {
          "base_uri": "https://localhost:8080/"
        },
        "id": "AsdA_7478_cg",
        "outputId": "c301a555-d6e1-4c4e-812f-062f8a2ff67a"
      },
      "outputs": [
        {
          "name": "stdout",
          "output_type": "stream",
          "text": [
            "ainvoke 결과: 해류는 바다의 물이 지속적으로 흐르는 현상을 말합니다. 해류는 여러 요인에 의해 발생하며, ...\n"
          ]
        }
      ],
      "source": [
        "import nest_asyncio\n",
        "import asyncio\n",
        "\n",
        "# nest_asyncio 적용 (구글 코랩 등 주피터 노트북에서 실행 필요)\n",
        "nest_asyncio.apply()\n",
        "\n",
        "# 비동기 메소드 사용 (async/await 구문 필요)\n",
        "async def run_async():\n",
        "    result = await chain.ainvoke({\"topic\": \"해류\"})\n",
        "    print(\"ainvoke 결과:\", result[:50], \"...\")\n",
        "\n",
        "asyncio.run(run_async())\n"
      ]
    },
    {
      "cell_type": "markdown",
      "metadata": {},
      "source": []
    },
    {
      "cell_type": "code",
      "execution_count": 4,
      "metadata": {},
      "outputs": [
        {
          "data": {
            "text/plain": [
              "'안녕하세요, 제 이름은 홍길동이고, 나이는 30살입니다.'"
            ]
          },
          "execution_count": 4,
          "metadata": {},
          "output_type": "execute_result"
        }
      ],
      "source": [
        "from langchain_core.prompts import PromptTemplate\n",
        "\n",
        "# 'name'과 'age'라는 두 개의 변수를 사용하는 프롬프트 템플릿을 정의\n",
        "template_text = \"안녕하세요, 제 이름은 {name}이고, 나이는 {age}살입니다.\"\n",
        "\n",
        "# PromptTemplate 인스턴스를 생성\n",
        "prompt_template = PromptTemplate.from_template(template_text)\n",
        "\n",
        "# 템플릿에 값을 채워서 프롬프트를 완성\n",
        "filled_prompt = prompt_template.format(name=\"홍길동\", age=30)\n",
        "\n",
        "filled_prompt"
      ]
    },
    {
      "cell_type": "code",
      "execution_count": null,
      "metadata": {},
      "outputs": [
        {
          "data": {
            "text/plain": [
              "PromptTemplate(input_variables=['age', 'language', 'name'], input_types={}, partial_variables={}, template='안녕하세요, 제 이름은 {name}이고, 나이는 {age}살입니다.\\n\\n아버지를 아버지라 부를 수 없습니다.\\n\\n{language}로 번역해주세요.')"
            ]
          },
          "execution_count": 6,
          "metadata": {},
          "output_type": "execute_result"
        }
      ],
      "source": [
        "# 문자열 템플릿 결합 (PromptTemplate + PromptTemplate + 문자열)\n",
        "combined_prompt = (\n",
        "              prompt_template\n",
        "              + PromptTemplate.from_template(\"\\n\\n아버지를 아버지라 부를 수 없습니다.\")\n",
        "              + \"\\n\\n{language}로 번역해주세요.\"\n",
        ")\n",
        "\n",
        "combined_prompt\n",
        "combined_prompt.format(name=\"홍길동\", age=30, language=\"영어\")"
      ]
    }
  ],
  "metadata": {
    "colab": {
      "provenance": []
    },
    "kernelspec": {
      "display_name": "langchain",
      "language": "python",
      "name": "python3"
    },
    "language_info": {
      "codemirror_mode": {
        "name": "ipython",
        "version": 3
      },
      "file_extension": ".py",
      "mimetype": "text/x-python",
      "name": "python",
      "nbconvert_exporter": "python",
      "pygments_lexer": "ipython3",
      "version": "3.10.18"
    }
  },
  "nbformat": 4,
  "nbformat_minor": 0
}
