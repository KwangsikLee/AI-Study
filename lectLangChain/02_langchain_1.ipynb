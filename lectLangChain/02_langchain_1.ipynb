{
  "cells": [
    {
      "cell_type": "markdown",
      "metadata": {},
      "source": [
        "# LangChain\n",
        "\n",
        "- SequentialChain\n",
        "- PromptTemplate\n"
      ]
    },
    {
      "cell_type": "code",
      "execution_count": 4,
      "metadata": {
        "colab": {
          "base_uri": "https://localhost:8080/"
        },
        "collapsed": true,
        "id": "L27T7whSuUVO",
        "outputId": "34317d6b-bd67-4d95-bda0-f745558086ed"
      },
      "outputs": [
        {
          "name": "stdout",
          "output_type": "stream",
          "text": [
            "Requirement already satisfied: langchain in /usr/local/lib/python3.12/dist-packages (0.3.27)\n",
            "Collecting langchain-openai\n",
            "  Downloading langchain_openai-0.3.31-py3-none-any.whl.metadata (2.4 kB)\n",
            "Requirement already satisfied: python-dotenv in /usr/local/lib/python3.12/dist-packages (1.1.1)\n",
            "Requirement already satisfied: langchain-core<1.0.0,>=0.3.72 in /usr/local/lib/python3.12/dist-packages (from langchain) (0.3.74)\n",
            "Requirement already satisfied: langchain-text-splitters<1.0.0,>=0.3.9 in /usr/local/lib/python3.12/dist-packages (from langchain) (0.3.9)\n",
            "Requirement already satisfied: langsmith>=0.1.17 in /usr/local/lib/python3.12/dist-packages (from langchain) (0.4.14)\n",
            "Requirement already satisfied: pydantic<3.0.0,>=2.7.4 in /usr/local/lib/python3.12/dist-packages (from langchain) (2.11.7)\n",
            "Requirement already satisfied: SQLAlchemy<3,>=1.4 in /usr/local/lib/python3.12/dist-packages (from langchain) (2.0.43)\n",
            "Requirement already satisfied: requests<3,>=2 in /usr/local/lib/python3.12/dist-packages (from langchain) (2.32.4)\n",
            "Requirement already satisfied: PyYAML>=5.3 in /usr/local/lib/python3.12/dist-packages (from langchain) (6.0.2)\n",
            "Requirement already satisfied: openai<2.0.0,>=1.99.9 in /usr/local/lib/python3.12/dist-packages (from langchain-openai) (1.100.0)\n",
            "Requirement already satisfied: tiktoken<1,>=0.7 in /usr/local/lib/python3.12/dist-packages (from langchain-openai) (0.11.0)\n",
            "Requirement already satisfied: tenacity!=8.4.0,<10.0.0,>=8.1.0 in /usr/local/lib/python3.12/dist-packages (from langchain-core<1.0.0,>=0.3.72->langchain) (8.5.0)\n",
            "Requirement already satisfied: jsonpatch<2.0,>=1.33 in /usr/local/lib/python3.12/dist-packages (from langchain-core<1.0.0,>=0.3.72->langchain) (1.33)\n",
            "Requirement already satisfied: typing-extensions>=4.7 in /usr/local/lib/python3.12/dist-packages (from langchain-core<1.0.0,>=0.3.72->langchain) (4.14.1)\n",
            "Requirement already satisfied: packaging>=23.2 in /usr/local/lib/python3.12/dist-packages (from langchain-core<1.0.0,>=0.3.72->langchain) (25.0)\n",
            "Requirement already satisfied: httpx<1,>=0.23.0 in /usr/local/lib/python3.12/dist-packages (from langsmith>=0.1.17->langchain) (0.28.1)\n",
            "Requirement already satisfied: orjson>=3.9.14 in /usr/local/lib/python3.12/dist-packages (from langsmith>=0.1.17->langchain) (3.11.2)\n",
            "Requirement already satisfied: requests-toolbelt>=1.0.0 in /usr/local/lib/python3.12/dist-packages (from langsmith>=0.1.17->langchain) (1.0.0)\n",
            "Requirement already satisfied: zstandard>=0.23.0 in /usr/local/lib/python3.12/dist-packages (from langsmith>=0.1.17->langchain) (0.24.0)\n",
            "Requirement already satisfied: anyio<5,>=3.5.0 in /usr/local/lib/python3.12/dist-packages (from openai<2.0.0,>=1.99.9->langchain-openai) (4.10.0)\n",
            "Requirement already satisfied: distro<2,>=1.7.0 in /usr/local/lib/python3.12/dist-packages (from openai<2.0.0,>=1.99.9->langchain-openai) (1.9.0)\n",
            "Requirement already satisfied: jiter<1,>=0.4.0 in /usr/local/lib/python3.12/dist-packages (from openai<2.0.0,>=1.99.9->langchain-openai) (0.10.0)\n",
            "Requirement already satisfied: sniffio in /usr/local/lib/python3.12/dist-packages (from openai<2.0.0,>=1.99.9->langchain-openai) (1.3.1)\n",
            "Requirement already satisfied: tqdm>4 in /usr/local/lib/python3.12/dist-packages (from openai<2.0.0,>=1.99.9->langchain-openai) (4.67.1)\n",
            "Requirement already satisfied: annotated-types>=0.6.0 in /usr/local/lib/python3.12/dist-packages (from pydantic<3.0.0,>=2.7.4->langchain) (0.7.0)\n",
            "Requirement already satisfied: pydantic-core==2.33.2 in /usr/local/lib/python3.12/dist-packages (from pydantic<3.0.0,>=2.7.4->langchain) (2.33.2)\n",
            "Requirement already satisfied: typing-inspection>=0.4.0 in /usr/local/lib/python3.12/dist-packages (from pydantic<3.0.0,>=2.7.4->langchain) (0.4.1)\n",
            "Requirement already satisfied: charset_normalizer<4,>=2 in /usr/local/lib/python3.12/dist-packages (from requests<3,>=2->langchain) (3.4.3)\n",
            "Requirement already satisfied: idna<4,>=2.5 in /usr/local/lib/python3.12/dist-packages (from requests<3,>=2->langchain) (3.10)\n",
            "Requirement already satisfied: urllib3<3,>=1.21.1 in /usr/local/lib/python3.12/dist-packages (from requests<3,>=2->langchain) (2.5.0)\n",
            "Requirement already satisfied: certifi>=2017.4.17 in /usr/local/lib/python3.12/dist-packages (from requests<3,>=2->langchain) (2025.8.3)\n",
            "Requirement already satisfied: greenlet>=1 in /usr/local/lib/python3.12/dist-packages (from SQLAlchemy<3,>=1.4->langchain) (3.2.4)\n",
            "Requirement already satisfied: regex>=2022.1.18 in /usr/local/lib/python3.12/dist-packages (from tiktoken<1,>=0.7->langchain-openai) (2024.11.6)\n",
            "Requirement already satisfied: httpcore==1.* in /usr/local/lib/python3.12/dist-packages (from httpx<1,>=0.23.0->langsmith>=0.1.17->langchain) (1.0.9)\n",
            "Requirement already satisfied: h11>=0.16 in /usr/local/lib/python3.12/dist-packages (from httpcore==1.*->httpx<1,>=0.23.0->langsmith>=0.1.17->langchain) (0.16.0)\n",
            "Requirement already satisfied: jsonpointer>=1.9 in /usr/local/lib/python3.12/dist-packages (from jsonpatch<2.0,>=1.33->langchain-core<1.0.0,>=0.3.72->langchain) (3.0.0)\n",
            "Downloading langchain_openai-0.3.31-py3-none-any.whl (74 kB)\n",
            "\u001b[2K   \u001b[90m━━━━━━━━━━━━━━━━━━━━━━━━━━━━━━━━━━━━━━━━\u001b[0m \u001b[32m74.5/74.5 kB\u001b[0m \u001b[31m3.5 MB/s\u001b[0m eta \u001b[36m0:00:00\u001b[0m\n",
            "\u001b[?25hInstalling collected packages: langchain-openai\n",
            "Successfully installed langchain-openai-0.3.31\n"
          ]
        }
      ],
      "source": [
        "\n",
        "# Colab에서 실행하기 위한 설치\n",
        "!pip install langchain langchain-openai python-dotenv\n"
      ]
    },
    {
      "cell_type": "code",
      "execution_count": 1,
      "metadata": {
        "colab": {
          "base_uri": "https://localhost:8080/"
        },
        "id": "XhYRLB-7uRsE",
        "outputId": "347f17d9-9439-4ef7-f847-49d3741e8cda"
      },
      "outputs": [
        {
          "name": "stderr",
          "output_type": "stream",
          "text": [
            "/var/folders/xn/w4kqb1715fz7h49tp_h7hbmr0000gn/T/ipykernel_63862/3863108832.py:15: LangChainDeprecationWarning: The class `OpenAI` was deprecated in LangChain 0.0.10 and will be removed in 1.0. An updated version of the class exists in the :class:`~langchain-openai package and should be used instead. To use it run `pip install -U :class:`~langchain-openai` and import as `from :class:`~langchain_openai import OpenAI``.\n",
            "  llm = OpenAI(temperature=0.7)\n",
            "/var/folders/xn/w4kqb1715fz7h49tp_h7hbmr0000gn/T/ipykernel_63862/3863108832.py:47: LangChainDeprecationWarning: The class `LLMChain` was deprecated in LangChain 0.1.17 and will be removed in 1.0. Use :meth:`~RunnableSequence, e.g., `prompt | llm`` instead.\n",
            "  summary_chain = LLMChain(\n",
            "/var/folders/xn/w4kqb1715fz7h49tp_h7hbmr0000gn/T/ipykernel_63862/3863108832.py:77: LangChainDeprecationWarning: The method `Chain.__call__` was deprecated in langchain 0.1.0 and will be removed in 1.0. Use :meth:`~invoke` instead.\n",
            "  result = overall_chain({\n"
          ]
        },
        {
          "name": "stdout",
          "output_type": "stream",
          "text": [
            "=== 원본 텍스트 ===\n",
            "\n",
            "오늘 새로운 카페에 갔는데 정말 실망스러웠습니다.\n",
            "커피 맛도 별로였고 직원들의 서비스도 불친절했어요.\n",
            "가격은 비싼데 음식 퀄리티는 형편없었습니다.\n",
            "특히 아메리카노가 너무 쓰고 신맛이 강해서 마시기 힘들었어요.\n",
            "다시는 가고 싶지 않은 곳이네요.\n",
            "친구들에게도 추천하지 않을 것 같아요.\n",
            "\n",
            "\n",
            "=== 요약 결과 ===\n",
            "\n",
            "새로운 카페에 갔는데 실망스러웠다. 커피 맛도 별로고 직원들의 서비스도 불친절했다. 비싼 가격에 음식 퀄리티도 형편없었다. 특히 아메리카노가 쓰고 신맛이 강해서 마시기 힘들었다. 다시는 가고 싶지 않고 친구들에게도 추천하지 않을 것 같다.\n",
            "\n",
            "=== 감정 분석 결과 ===\n",
            "부정\n",
            "텍스트에서 언급된 내용들(커피 맛, 서비스, 가격, 음식 퀄리티)이 모두 부정적인 평가를 받았고, 마지막으로는 친구들에게도 추천하지 않을 것이라는 결론을 내리는 부정적인 문장이 포함되어 있어서 부정적인 감정으로 분류할 수 있습니다. \n"
          ]
        }
      ],
      "source": [
        "\n",
        "import os\n",
        "from langchain.llms import OpenAI\n",
        "from langchain.chains import LLMChain, SequentialChain\n",
        "from langchain.prompts import PromptTemplate\n",
        "from langchain.schema import BaseOutputParser\n",
        "\n",
        "from dotenv import load_dotenv\n",
        "\n",
        "load_dotenv()\n",
        "# OpenAI API 클라이언트 생성\n",
        "API_KEY = os.getenv(\"OPENAI_API_KEY\")\n",
        "\n",
        "\n",
        "# LLM 초기화\n",
        "llm = OpenAI(temperature=0.7)\n",
        "\n",
        "# 1단계: 텍스트 요약을 위한 프롬프트\n",
        "summary_template = \"\"\"\n",
        "다음 한글 텍스트를 3-4문장으로 요약해주세요:\n",
        "\n",
        "텍스트: {text}\n",
        "\n",
        "요약:\n",
        "\"\"\"\n",
        "summary_prompt = PromptTemplate(\n",
        "    input_variables=[\"text\"],\n",
        "    template=summary_template\n",
        ")\n",
        "\n",
        "# 2단계: 감정 분석을 위한 프롬프트\n",
        "sentiment_template = \"\"\"\n",
        "다음 텍스트의 감정을 분석하고 긍정, 부정, 중립 중 하나로 분류해주세요.\n",
        "또한 그 이유도 간단히 설명해주세요.\n",
        "\n",
        "텍스트: {summary}\n",
        "\n",
        "감정 분석 결과:\n",
        "감정:\n",
        "이유:\n",
        "\"\"\"\n",
        "sentiment_prompt = PromptTemplate(\n",
        "    input_variables=[\"summary\"],\n",
        "    template=sentiment_template\n",
        ")\n",
        "\n",
        "# 체인 생성\n",
        "summary_chain = LLMChain(\n",
        "    llm=llm,\n",
        "    prompt=summary_prompt,\n",
        "    output_key=\"summary\"\n",
        ")\n",
        "\n",
        "sentiment_chain = LLMChain(\n",
        "    llm=llm,\n",
        "    prompt=sentiment_prompt,\n",
        "    output_key=\"sentiment\"\n",
        ")\n",
        "\n",
        "# 순차적 체인 생성\n",
        "overall_chain = SequentialChain(\n",
        "    chains=[summary_chain, sentiment_chain],\n",
        "    input_variables=[\"text\"],\n",
        "    output_variables=[\"summary\", \"sentiment\"]\n",
        ")\n",
        "\n",
        "# 테스트 데이터 (한글)\n",
        "sample_text = \"\"\"\n",
        "오늘 새로운 카페에 갔는데 정말 실망스러웠습니다.\n",
        "커피 맛도 별로였고 직원들의 서비스도 불친절했어요.\n",
        "가격은 비싼데 음식 퀄리티는 형편없었습니다.\n",
        "특히 아메리카노가 너무 쓰고 신맛이 강해서 마시기 힘들었어요.\n",
        "다시는 가고 싶지 않은 곳이네요.\n",
        "친구들에게도 추천하지 않을 것 같아요.\n",
        "\"\"\"\n",
        "\n",
        "# 체인 실행\n",
        "result = overall_chain({\n",
        "    \"text\": sample_text\n",
        "})\n",
        "\n",
        "print(\"=== 원본 텍스트 ===\")\n",
        "print(sample_text)\n",
        "print(\"\\n=== 요약 결과 ===\")\n",
        "print(result[\"summary\"])\n",
        "print(\"\\n=== 감정 분석 결과 ===\")\n",
        "print(result[\"sentiment\"])"
      ]
    }
  ],
  "metadata": {
    "accelerator": "GPU",
    "colab": {
      "gpuType": "T4",
      "provenance": []
    },
    "kernelspec": {
      "display_name": "langchain",
      "language": "python",
      "name": "python3"
    },
    "language_info": {
      "codemirror_mode": {
        "name": "ipython",
        "version": 3
      },
      "file_extension": ".py",
      "mimetype": "text/x-python",
      "name": "python",
      "nbconvert_exporter": "python",
      "pygments_lexer": "ipython3",
      "version": "3.10.18"
    }
  },
  "nbformat": 4,
  "nbformat_minor": 0
}
