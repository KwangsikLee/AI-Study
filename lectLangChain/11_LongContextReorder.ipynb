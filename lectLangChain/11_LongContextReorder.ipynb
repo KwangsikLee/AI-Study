{
 "cells": [
  {
   "cell_type": "markdown",
   "metadata": {
    "id": "Xlgvj6BHxmHd"
   },
   "source": [
    "**LongContextReorder**\n",
    "\n",
    "모델의 아키텍처와 상관없이, 10개 이상의 검색된 문서를 포함할 경우 성능이\n",
    "\n",
    "상당히 저하됨.\n",
    "\n",
    "간단히 말해, 모델이 긴 컨텍스트 중간에 있는 관련 정보에 접근해야 할 때,\n",
    "\n",
    "제공된 문서를 무시하는 경향이 있음.\n",
    "\n",
    "이 문제를 피하기 위해, 검색 후 문서의 순서를 재배열하여 성능 저하를\n",
    "\n",
    "방지할 수 있음."
   ]
  },
  {
   "cell_type": "code",
   "execution_count": 1,
   "metadata": {
    "colab": {
     "base_uri": "https://localhost:8080/"
    },
    "id": "DKAvyN2meg5z",
    "outputId": "ef0d08be-1855-4f3d-e634-383423b60a1d"
   },
   "outputs": [
    {
     "name": "stdout",
     "output_type": "stream",
     "text": [
      "\u001b[2K   \u001b[90m━━━━━━━━━━━━━━━━━━━━━━━━━━━━━━━━━━━━━━━━\u001b[0m \u001b[32m2.5/2.5 MB\u001b[0m \u001b[31m20.6 MB/s\u001b[0m eta \u001b[36m0:00:00\u001b[0m\n",
      "\u001b[2K   \u001b[90m━━━━━━━━━━━━━━━━━━━━━━━━━━━━━━━━━━━━━━━━\u001b[0m \u001b[32m31.4/31.4 MB\u001b[0m \u001b[31m20.1 MB/s\u001b[0m eta \u001b[36m0:00:00\u001b[0m\n",
      "\u001b[2K   \u001b[90m━━━━━━━━━━━━━━━━━━━━━━━━━━━━━━━━━━━━━━━━\u001b[0m \u001b[32m310.5/310.5 kB\u001b[0m \u001b[31m11.4 MB/s\u001b[0m eta \u001b[36m0:00:00\u001b[0m\n",
      "\u001b[2K   \u001b[90m━━━━━━━━━━━━━━━━━━━━━━━━━━━━━━━━━━━━━━━━\u001b[0m \u001b[32m50.9/50.9 kB\u001b[0m \u001b[31m3.0 MB/s\u001b[0m eta \u001b[36m0:00:00\u001b[0m\n",
      "\u001b[?25h"
     ]
    }
   ],
   "source": [
    "# ============================\n",
    "# 1) 설치\n",
    "# ============================\n",
    "!pip -q install langchain langchain-community langchain-text-splitters faiss-cpu sentence-transformers pypdf\n"
   ]
  },
  {
   "cell_type": "code",
   "execution_count": 1,
   "metadata": {
    "colab": {
     "base_uri": "https://localhost:8080/"
    },
    "id": "yG4QRpR6ecew",
    "outputId": "d5103961-c74b-4c23-c896-caeee5b6223f"
   },
   "outputs": [],
   "source": [
    "\n",
    "# ============================\n",
    "# 2) PDF 다운로드 (재시도 포함)\n",
    "# ============================\n",
    "import requests, os, time\n",
    "import urllib.request\n"
   ]
  },
  {
   "cell_type": "code",
   "execution_count": null,
   "metadata": {},
   "outputs": [],
   "source": [
    "\n",
    "urllib.request.urlretrieve(\"https://github.com/chatgpt-kr/openai-api-tutorial/raw/main/ch07/2020_%EA%B2%BD%EC%A0%9C%EA%B8%88%EC%9C%B5%EC%9A%A9%EC%96%B4%20700%EC%84%A0_%EA%B2%8C%EC%8B%9C.pdf\", filename=\"2020_경제금융용어 700선_게시.pdf\")\n"
   ]
  },
  {
   "cell_type": "code",
   "execution_count": 6,
   "metadata": {},
   "outputs": [
    {
     "name": "stdout",
     "output_type": "stream",
     "text": [
      " PDF already exists: 2020_경제금융용어 700선_게시.pdf\n",
      " 전체 페이지 수: 371\n",
      " 청크 수: 1117\n",
      "샘플 청크: iii 찾아보기 한국은행은 국민들이 경제 및 금융에 대한 이해도를 높이고 경제에 관한 합리적인  의사결정 능력을 키울 수 있도록 현장 경제교육, 온라인 경제교육, 경제교육 콘텐츠  개발 등 대국민 경제교육을 다양하게 수행해 오고 있습니다 .  이의 일환으로 2018년 \n"
     ]
    },
    {
     "data": {
      "application/vnd.jupyter.widget-view+json": {
       "model_id": "695e1f011d264804bc08acccad5ba079",
       "version_major": 2,
       "version_minor": 0
      },
      "text/plain": [
       "modules.json:   0%|          | 0.00/349 [00:00<?, ?B/s]"
      ]
     },
     "metadata": {},
     "output_type": "display_data"
    },
    {
     "data": {
      "application/vnd.jupyter.widget-view+json": {
       "model_id": "3777cbccef4c480ba9823ee3c2a6729c",
       "version_major": 2,
       "version_minor": 0
      },
      "text/plain": [
       "config_sentence_transformers.json:   0%|          | 0.00/116 [00:00<?, ?B/s]"
      ]
     },
     "metadata": {},
     "output_type": "display_data"
    },
    {
     "data": {
      "application/vnd.jupyter.widget-view+json": {
       "model_id": "40c9f645a05645ba91657990080e1b38",
       "version_major": 2,
       "version_minor": 0
      },
      "text/plain": [
       "README.md: 0.00B [00:00, ?B/s]"
      ]
     },
     "metadata": {},
     "output_type": "display_data"
    },
    {
     "data": {
      "application/vnd.jupyter.widget-view+json": {
       "model_id": "c1dbccb8adfe4c75bf5aff2b49a8fa31",
       "version_major": 2,
       "version_minor": 0
      },
      "text/plain": [
       "sentence_bert_config.json:   0%|          | 0.00/53.0 [00:00<?, ?B/s]"
      ]
     },
     "metadata": {},
     "output_type": "display_data"
    },
    {
     "data": {
      "application/vnd.jupyter.widget-view+json": {
       "model_id": "1887f2ed76f64466859c62049a3263b9",
       "version_major": 2,
       "version_minor": 0
      },
      "text/plain": [
       "config.json:   0%|          | 0.00/612 [00:00<?, ?B/s]"
      ]
     },
     "metadata": {},
     "output_type": "display_data"
    },
    {
     "data": {
      "application/vnd.jupyter.widget-view+json": {
       "model_id": "7f2d5ecdf04e4077b7d8b3bc7a95c564",
       "version_major": 2,
       "version_minor": 0
      },
      "text/plain": [
       "model.safetensors:   0%|          | 0.00/90.9M [00:00<?, ?B/s]"
      ]
     },
     "metadata": {},
     "output_type": "display_data"
    },
    {
     "data": {
      "application/vnd.jupyter.widget-view+json": {
       "model_id": "3dc5c659462d4c87b6c92976eb4d0a4f",
       "version_major": 2,
       "version_minor": 0
      },
      "text/plain": [
       "tokenizer_config.json:   0%|          | 0.00/350 [00:00<?, ?B/s]"
      ]
     },
     "metadata": {},
     "output_type": "display_data"
    },
    {
     "data": {
      "application/vnd.jupyter.widget-view+json": {
       "model_id": "647597c2a779495b815368241a30c205",
       "version_major": 2,
       "version_minor": 0
      },
      "text/plain": [
       "vocab.txt: 0.00B [00:00, ?B/s]"
      ]
     },
     "metadata": {},
     "output_type": "display_data"
    },
    {
     "data": {
      "application/vnd.jupyter.widget-view+json": {
       "model_id": "f25dcb46616b4707b01e6fadc335329c",
       "version_major": 2,
       "version_minor": 0
      },
      "text/plain": [
       "tokenizer.json: 0.00B [00:00, ?B/s]"
      ]
     },
     "metadata": {},
     "output_type": "display_data"
    },
    {
     "data": {
      "application/vnd.jupyter.widget-view+json": {
       "model_id": "d0fefe7d166d4354b17f3daffd1f4ad7",
       "version_major": 2,
       "version_minor": 0
      },
      "text/plain": [
       "special_tokens_map.json:   0%|          | 0.00/112 [00:00<?, ?B/s]"
      ]
     },
     "metadata": {},
     "output_type": "display_data"
    },
    {
     "data": {
      "application/vnd.jupyter.widget-view+json": {
       "model_id": "2c71a672c11244a396179a3009e8540e",
       "version_major": 2,
       "version_minor": 0
      },
      "text/plain": [
       "config.json:   0%|          | 0.00/190 [00:00<?, ?B/s]"
      ]
     },
     "metadata": {},
     "output_type": "display_data"
    }
   ],
   "source": [
    "\n",
    "pdf_path = \"2020_경제금융용어 700선_게시.pdf\"\n",
    "\n",
    "max_retries = 3\n",
    "for attempt in range(max_retries):\n",
    "    if not os.path.exists(pdf_path) or os.path.getsize(pdf_path) == 0:\n",
    "        try:\n",
    "            print(f\" Downloading PDF (Attempt {attempt+1}/{max_retries})\")\n",
    "            r = requests.get(url, stream=True, timeout=30)\n",
    "            r.raise_for_status()\n",
    "            with open(pdf_path, \"wb\") as f:\n",
    "                for chunk in r.iter_content(chunk_size=8192):\n",
    "                    if chunk:\n",
    "                        f.write(chunk)\n",
    "            if os.path.exists(pdf_path) and os.path.getsize(pdf_path) > 0:\n",
    "                print(\" PDF downloaded:\", pdf_path)\n",
    "                break\n",
    "        except requests.exceptions.RequestException as e:\n",
    "            print(\" Download failed:\", e)\n",
    "            time.sleep(2)\n",
    "    else:\n",
    "        print(\" PDF already exists:\", pdf_path)\n",
    "        break\n",
    "else:\n",
    "    raise RuntimeError(\" Failed to download PDF after retries.\")\n",
    "\n",
    "# ============================\n",
    "# 3) PDF 로드 & 청크 분할\n",
    "# ============================\n",
    "from langchain_community.document_loaders import PyPDFLoader\n",
    "from langchain_text_splitters import RecursiveCharacterTextSplitter\n",
    "\n",
    "loader = PyPDFLoader(pdf_path)\n",
    "docs = loader.load()\n",
    "\n",
    "splitter = RecursiveCharacterTextSplitter(chunk_size=500, chunk_overlap=50)\n",
    "chunks = splitter.split_documents(docs)\n",
    "\n",
    "print(f\" 전체 페이지 수: {len(docs)}\")\n",
    "print(f\" 청크 수: {len(chunks)}\")\n",
    "print(\"샘플 청크:\", chunks[0].page_content[:150].replace(\"\\n\",\" \"))\n",
    "\n",
    "# ============================\n",
    "# 4) 임베딩 + FAISS 벡터스토어\n",
    "# ============================\n",
    "from langchain_community.embeddings import HuggingFaceEmbeddings\n",
    "from langchain_community.vectorstores import FAISS\n",
    "\n",
    "embedding = HuggingFaceEmbeddings(model_name=\"sentence-transformers/all-MiniLM-L6-v2\")\n",
    "faiss_store = FAISS.from_documents(chunks, embedding=embedding)\n"
   ]
  },
  {
   "cell_type": "code",
   "execution_count": 21,
   "metadata": {},
   "outputs": [
    {
     "name": "stdout",
     "output_type": "stream",
     "text": [
      "\n",
      " 기본 검색 결과:\n",
      " 1. p.338, score=0.739 | 유의하는 것으로 규정하고 있다 .   연관검색어 : 중앙은행, 금융안정, 물가안정목표제...\n",
      " 2. p.281, score=0.731 | 장외거래의 경우 금융위원회로부터 금융투자상품거래청산업 인가를 받은 한국거래소와  한국예탁결제원이 각각 장외파...\n",
      " 3. p.154, score=0.722 | 당시 유가 상승으로 인해 생산비가 증가하면서 생산활동이 위축되고 이로 인해 경기가  둔화되었다.   연관검색...\n",
      " 4. p.348, score=0.714 | 2017년 10월까지 환율관찰대상국으로 분류된 바 있다 .  연관검색어 : 스무딩오퍼레이션...\n",
      " 5. p.89, score=0.709 | 를 하는 수입국은 해당 물품의 수출국에 적절한 보상을 해줄 것을 권고하고 있다 .   연관검색어 : 상계관세...\n",
      " 6. p.23, score=0.707 | 기관의 영업활동이 전 세계적으로 이루어지고 있는데 반해 규제 ･감독이 금융기관의  국적 또는 지역기반을 중심...\n",
      " 7. p.299, score=0.689 | 경제활동은 해당연도의 이익만을 위한 것이 아니고 미래의 지속적인 수입의 보장 등  장기적인 안목에서 이루어진...\n",
      " 8. p.143, score=0.649 | 공급된 자금은 상당부분이 금융기관에 예금 등으로 다시 유입되고, 금융기관은 그 가운데  필요 지급준비금을 제...\n",
      "\n",
      "LongContextReorder 적용 후 순서:\n",
      " 1. p.281, orig_score=0.731 | 장외거래의 경우 금융위원회로부터 금융투자상품거래청산업 인가를 받은 한국거래소와  한국예탁결제원이 각각 장외파생상품거래(원화 이자율스왑거래)와 주...\n",
      " 2. p.348, orig_score=0.714 | 2017년 10월까지 환율관찰대상국으로 분류된 바 있다 .  연관검색어 : 스무딩오퍼레이션...\n",
      " 3. p.23, orig_score=0.707 | 기관의 영업활동이 전 세계적으로 이루어지고 있는데 반해 규제 ･감독이 금융기관의  국적 또는 지역기반을 중심으로 이루어지고 있는 한계를 극복하기...\n",
      " 4. p.143, orig_score=0.649 | 공급된 자금은 상당부분이 금융기관에 예금 등으로 다시 유입되고, 금융기관은 그 가운데  필요 지급준비금을 제외한 나머지를 또다시 민간에 공급한다...\n",
      " 5. p.299, orig_score=0.689 | 경제활동은 해당연도의 이익만을 위한 것이 아니고 미래의 지속적인 수입의 보장 등  장기적인 안목에서 이루어진다. 이렇게 여러 회계연도에 걸쳐 생...\n",
      " 6. p.89, orig_score=0.709 | 를 하는 수입국은 해당 물품의 수출국에 적절한 보상을 해줄 것을 권고하고 있다 .   연관검색어 : 상계관세, 슈퍼301조 긴급수입제한조치 ∙...\n",
      " 7. p.154, orig_score=0.722 | 당시 유가 상승으로 인해 생산비가 증가하면서 생산활동이 위축되고 이로 인해 경기가  둔화되었다.   연관검색어 : 수요견인 인플레이션...\n",
      " 8. p.338, orig_score=0.739 | 유의하는 것으로 규정하고 있다 .   연관검색어 : 중앙은행, 금융안정, 물가안정목표제...\n",
      "\n",
      " 비교 요약\n",
      "기본 순서: ['p.338:유의하는 것으로 규정하고 있다 .', 'p.281:장외거래의 경우 금융위원회로부터 ', 'p.154:당시 유가 상승으로 인해 생산비가', 'p.348:2017년 10월까지 환율관찰대상', 'p.89:를 하는 수입국은 해당 물품의 수', 'p.23:기관의 영업활동이 전 세계적으로 ', 'p.299:경제활동은 해당연도의 이익만을 위', 'p.143:공급된 자금은 상당부분이 금융기관']\n",
      "재배치  : ['p.281:장외거래의 경우 금융위원회로부터 ', 'p.348:2017년 10월까지 환율관찰대상', 'p.23:기관의 영업활동이 전 세계적으로 ', 'p.143:공급된 자금은 상당부분이 금융기관', 'p.299:경제활동은 해당연도의 이익만을 위', 'p.89:를 하는 수입국은 해당 물품의 수', 'p.154:당시 유가 상승으로 인해 생산비가', 'p.338:유의하는 것으로 규정하고 있다 .']\n"
     ]
    }
   ],
   "source": [
    "# ============================\n",
    "# 5) 검색 (Top-8)\n",
    "# ============================\n",
    "query = \"인플레이션의 정의와 원인, 금리 정책과의 관계는?\"\n",
    "baseline = faiss_store.similarity_search_with_relevance_scores(query, k=8)\n",
    "\n",
    "print(\"\\n 기본 검색 결과:\")\n",
    "for i, (d, s) in enumerate(baseline, 1):\n",
    "    content = d.page_content[:60].replace('\\n', ' ')\n",
    "    print(f\"{i:>2}. p.{d.metadata.get('page','?')}, score={s:.3f} | {content}...\")\n",
    "\n",
    "# ============================\n",
    "# 6) LongContextReorder 적용\n",
    "# ============================\n",
    "try:\n",
    "    from langchain_community.document_transformers import LongContextReorder\n",
    "    reorder = LongContextReorder()\n",
    "    reordered_docs = reorder.transform_documents([d for d, _ in baseline])\n",
    "except Exception:\n",
    "    from langchain.retrievers.document_compressors import LongContextReorder\n",
    "    reorder = LongContextReorder()\n",
    "    reordered_docs = reorder.compress_documents(documents=[d for d, _ in baseline], query=query)\n",
    "\n",
    "# ============================\n",
    "# 7) 전후 비교 출력\n",
    "# ============================\n",
    "id2score = {(d.metadata.get(\"page\",\"?\"), d.page_content[:50]): s for d, s in baseline}\n",
    "\n",
    "print(\"\\nLongContextReorder 적용 후 순서:\")\n",
    "for i, d in enumerate(reordered_docs, 1):\n",
    "    key = (d.metadata.get(\"page\",\"?\"), d.page_content[:50])\n",
    "    s = id2score.get(key, None)\n",
    "    txt = d.page_content[:80].replace(\"\\n\", \" \")\n",
    "    score_str = f\"{s:.3f}\" if s is not None else \"nan\"\n",
    "    print(f\"{i:>2}. p.{d.metadata.get('page','?')}, orig_score={score_str} | {txt}...\")\n",
    "\n",
    "# ============================\n",
    "# 8) 전/후 순서 비교 요약\n",
    "# ============================\n",
    "def label(d):\n",
    "    content = d.page_content[:18].replace('\\n', ' ')\n",
    "    return f\"p.{d.metadata.get('page','?')}:{content}\"\n",
    "\n",
    "print(\"\\n 비교 요약\")\n",
    "print(\"기본 순서:\", [label(d) for d, _ in baseline])\n",
    "print(\"재배치  :\", [label(d) for d in reordered_docs])"
   ]
  }
 ],
 "metadata": {
  "colab": {
   "provenance": []
  },
  "kernelspec": {
   "display_name": "langchain",
   "language": "python",
   "name": "python3"
  },
  "language_info": {
   "codemirror_mode": {
    "name": "ipython",
    "version": 3
   },
   "file_extension": ".py",
   "mimetype": "text/x-python",
   "name": "python",
   "nbconvert_exporter": "python",
   "pygments_lexer": "ipython3",
   "version": "3.10.18"
  }
 },
 "nbformat": 4,
 "nbformat_minor": 0
}
