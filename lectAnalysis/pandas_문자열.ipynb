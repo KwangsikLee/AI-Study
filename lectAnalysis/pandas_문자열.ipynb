{
  "cells": [
    {
      "cell_type": "markdown",
      "metadata": {
        "id": "Gv04C90mLD-G"
      },
      "source": [
        "# 판다스 문자열"
      ]
    },
    {
      "cell_type": "code",
      "execution_count": 55,
      "metadata": {
        "colab": {
          "base_uri": "https://localhost:8080/",
          "height": 206
        },
        "id": "LW7FRKerK7mB",
        "outputId": "dfbf1f3b-dfe9-4ba5-ae06-31e85ec3353a"
      },
      "outputs": [
        {
          "data": {
            "text/html": [
              "<div>\n",
              "<style scoped>\n",
              "    .dataframe tbody tr th:only-of-type {\n",
              "        vertical-align: middle;\n",
              "    }\n",
              "\n",
              "    .dataframe tbody tr th {\n",
              "        vertical-align: top;\n",
              "    }\n",
              "\n",
              "    .dataframe thead th {\n",
              "        text-align: right;\n",
              "    }\n",
              "</style>\n",
              "<table border=\"1\" class=\"dataframe\">\n",
              "  <thead>\n",
              "    <tr style=\"text-align: right;\">\n",
              "      <th></th>\n",
              "      <th>0</th>\n",
              "    </tr>\n",
              "  </thead>\n",
              "  <tbody>\n",
              "    <tr>\n",
              "      <th>0</th>\n",
              "      <td>김예찬, m, 부장, 010-1234-5678, 서울시 강남구 삼성동</td>\n",
              "    </tr>\n",
              "    <tr>\n",
              "      <th>1</th>\n",
              "      <td>이하은, f, 인턴, 010-8765-4321, 부산시 해운대구 우동</td>\n",
              "    </tr>\n",
              "    <tr>\n",
              "      <th>2</th>\n",
              "      <td>박지현, f, 과장, 010-1357-2468, 대구시 수성구 범어동</td>\n",
              "    </tr>\n",
              "    <tr>\n",
              "      <th>3</th>\n",
              "      <td>최준호, m, 임시, 010-1928-3746, 인천시 연수구 송도동</td>\n",
              "    </tr>\n",
              "    <tr>\n",
              "      <th>4</th>\n",
              "      <td>김예서, f, 과장, 010-2846-5937, 천안시 서북구 두정동</td>\n",
              "    </tr>\n",
              "  </tbody>\n",
              "</table>\n",
              "</div>"
            ],
            "text/plain": [
              "                                        0\n",
              "0  김예찬, m, 부장, 010-1234-5678, 서울시 강남구 삼성동\n",
              "1  이하은, f, 인턴, 010-8765-4321, 부산시 해운대구 우동\n",
              "2  박지현, f, 과장, 010-1357-2468, 대구시 수성구 범어동\n",
              "3  최준호, m, 임시, 010-1928-3746, 인천시 연수구 송도동\n",
              "4  김예서, f, 과장, 010-2846-5937, 천안시 서북구 두정동"
            ]
          },
          "execution_count": 55,
          "metadata": {},
          "output_type": "execute_result"
        }
      ],
      "source": [
        "import pandas as pd\n",
        "\n",
        "data = ['김예찬, m, 부장, 010-1234-5678, 서울시 강남구 삼성동',\n",
        "        '이하은, f, 인턴, 010-8765-4321, 부산시 해운대구 우동',\n",
        "        '박지현, f, 과장, 010-1357-2468, 대구시 수성구 범어동',\n",
        "        '최준호, m, 임시, 010-1928-3746, 인천시 연수구 송도동',\n",
        "        '김예서, f, 과장, 010-2846-5937, 천안시 서북구 두정동']\n",
        "\n",
        "data\n",
        "pd.DataFrame(data)\n"
      ]
    },
    {
      "cell_type": "code",
      "execution_count": 56,
      "metadata": {
        "colab": {
          "base_uri": "https://localhost:8080/",
          "height": 206
        },
        "id": "M_A5MkfVLIia",
        "outputId": "2e262d53-4f94-4da9-9d4e-9b25d8ac217d"
      },
      "outputs": [
        {
          "data": {
            "text/html": [
              "<div>\n",
              "<style scoped>\n",
              "    .dataframe tbody tr th:only-of-type {\n",
              "        vertical-align: middle;\n",
              "    }\n",
              "\n",
              "    .dataframe tbody tr th {\n",
              "        vertical-align: top;\n",
              "    }\n",
              "\n",
              "    .dataframe thead th {\n",
              "        text-align: right;\n",
              "    }\n",
              "</style>\n",
              "<table border=\"1\" class=\"dataframe\">\n",
              "  <thead>\n",
              "    <tr style=\"text-align: right;\">\n",
              "      <th></th>\n",
              "      <th>직원데이터</th>\n",
              "    </tr>\n",
              "  </thead>\n",
              "  <tbody>\n",
              "    <tr>\n",
              "      <th>0</th>\n",
              "      <td>김예찬, m, 부장, 010-1234-5678, 서울시 강남구 삼성동</td>\n",
              "    </tr>\n",
              "    <tr>\n",
              "      <th>1</th>\n",
              "      <td>이하은, f, 인턴, 010-8765-4321, 부산시 해운대구 우동</td>\n",
              "    </tr>\n",
              "    <tr>\n",
              "      <th>2</th>\n",
              "      <td>박지현, f, 과장, 010-1357-2468, 대구시 수성구 범어동</td>\n",
              "    </tr>\n",
              "    <tr>\n",
              "      <th>3</th>\n",
              "      <td>최준호, m, 임시, 010-1928-3746, 인천시 연수구 송도동</td>\n",
              "    </tr>\n",
              "    <tr>\n",
              "      <th>4</th>\n",
              "      <td>김예서, f, 과장, 010-2846-5937, 천안시 서북구 두정동</td>\n",
              "    </tr>\n",
              "  </tbody>\n",
              "</table>\n",
              "</div>"
            ],
            "text/plain": [
              "                                    직원데이터\n",
              "0  김예찬, m, 부장, 010-1234-5678, 서울시 강남구 삼성동\n",
              "1  이하은, f, 인턴, 010-8765-4321, 부산시 해운대구 우동\n",
              "2  박지현, f, 과장, 010-1357-2468, 대구시 수성구 범어동\n",
              "3  최준호, m, 임시, 010-1928-3746, 인천시 연수구 송도동\n",
              "4  김예서, f, 과장, 010-2846-5937, 천안시 서북구 두정동"
            ]
          },
          "execution_count": 56,
          "metadata": {},
          "output_type": "execute_result"
        }
      ],
      "source": [
        "df = pd.DataFrame(data, columns=['직원데이터'])\n",
        "df\n"
      ]
    },
    {
      "cell_type": "markdown",
      "metadata": {
        "id": "Lp5Bv1UOLbYu"
      },
      "source": [
        ".str.split() 메서드는 '직원데이터' 컬럼의 각 문자열을\n",
        "\n",
        "쉼표로 분할(split)하고 결과를 각각의 열에 저장"
      ]
    },
    {
      "cell_type": "code",
      "execution_count": 57,
      "metadata": {
        "id": "ZiQyJI3GLOdh"
      },
      "outputs": [],
      "source": [
        "df = df['직원데이터'].str.split(',', expand=True)\n"
      ]
    },
    {
      "cell_type": "code",
      "execution_count": 58,
      "metadata": {
        "colab": {
          "base_uri": "https://localhost:8080/",
          "height": 206
        },
        "id": "tRFgecIILQGx",
        "outputId": "5cb7a046-6717-40f8-d539-62886ae141cf"
      },
      "outputs": [
        {
          "data": {
            "text/html": [
              "<div>\n",
              "<style scoped>\n",
              "    .dataframe tbody tr th:only-of-type {\n",
              "        vertical-align: middle;\n",
              "    }\n",
              "\n",
              "    .dataframe tbody tr th {\n",
              "        vertical-align: top;\n",
              "    }\n",
              "\n",
              "    .dataframe thead th {\n",
              "        text-align: right;\n",
              "    }\n",
              "</style>\n",
              "<table border=\"1\" class=\"dataframe\">\n",
              "  <thead>\n",
              "    <tr style=\"text-align: right;\">\n",
              "      <th></th>\n",
              "      <th>성명</th>\n",
              "      <th>성별</th>\n",
              "      <th>직급</th>\n",
              "      <th>전화번호</th>\n",
              "      <th>주소</th>\n",
              "    </tr>\n",
              "  </thead>\n",
              "  <tbody>\n",
              "    <tr>\n",
              "      <th>0</th>\n",
              "      <td>김예찬</td>\n",
              "      <td>m</td>\n",
              "      <td>부장</td>\n",
              "      <td>010-1234-5678</td>\n",
              "      <td>서울시 강남구 삼성동</td>\n",
              "    </tr>\n",
              "    <tr>\n",
              "      <th>1</th>\n",
              "      <td>이하은</td>\n",
              "      <td>f</td>\n",
              "      <td>인턴</td>\n",
              "      <td>010-8765-4321</td>\n",
              "      <td>부산시 해운대구 우동</td>\n",
              "    </tr>\n",
              "    <tr>\n",
              "      <th>2</th>\n",
              "      <td>박지현</td>\n",
              "      <td>f</td>\n",
              "      <td>과장</td>\n",
              "      <td>010-1357-2468</td>\n",
              "      <td>대구시 수성구 범어동</td>\n",
              "    </tr>\n",
              "    <tr>\n",
              "      <th>3</th>\n",
              "      <td>최준호</td>\n",
              "      <td>m</td>\n",
              "      <td>임시</td>\n",
              "      <td>010-1928-3746</td>\n",
              "      <td>인천시 연수구 송도동</td>\n",
              "    </tr>\n",
              "    <tr>\n",
              "      <th>4</th>\n",
              "      <td>김예서</td>\n",
              "      <td>f</td>\n",
              "      <td>과장</td>\n",
              "      <td>010-2846-5937</td>\n",
              "      <td>천안시 서북구 두정동</td>\n",
              "    </tr>\n",
              "  </tbody>\n",
              "</table>\n",
              "</div>"
            ],
            "text/plain": [
              "    성명  성별   직급            전화번호            주소\n",
              "0  김예찬   m   부장   010-1234-5678   서울시 강남구 삼성동\n",
              "1  이하은   f   인턴   010-8765-4321   부산시 해운대구 우동\n",
              "2  박지현   f   과장   010-1357-2468   대구시 수성구 범어동\n",
              "3  최준호   m   임시   010-1928-3746   인천시 연수구 송도동\n",
              "4  김예서   f   과장   010-2846-5937   천안시 서북구 두정동"
            ]
          },
          "execution_count": 58,
          "metadata": {},
          "output_type": "execute_result"
        }
      ],
      "source": [
        "df.columns = ['성명', '성별', '직급', '전화번호', '주소']\n",
        "df"
      ]
    },
    {
      "cell_type": "markdown",
      "metadata": {
        "id": "7K_baaRPLjTT"
      },
      "source": [
        "대문자로 변경 : df['성별'].str.upper()\n",
        "\n",
        "소문자로 변경 : df['성별'].str.lower()\n",
        "\n",
        "첫글자만 대문자로 변경 : df['성별'].str.capitalize()\n",
        "\n",
        "소문자는 대문자, 대문자는 소문자로 변경 : df['성별'].str.swapcase()"
      ]
    },
    {
      "cell_type": "code",
      "execution_count": 59,
      "metadata": {
        "id": "N4KZ0nZSMFa9"
      },
      "outputs": [],
      "source": [
        "df['성별'] = df['성별'].str.upper()\n"
      ]
    },
    {
      "cell_type": "code",
      "execution_count": 60,
      "metadata": {
        "id": "9wNRHP-cLUSW"
      },
      "outputs": [],
      "source": [
        "df['성별'] = df['성별'].str.replace('M', 'Male')\n",
        "df['성별'] = df['성별'].str.replace('F', 'Female')\n"
      ]
    },
    {
      "cell_type": "markdown",
      "metadata": {
        "id": "m-GtqVsaLrIf"
      },
      "source": [
        "특정 문자 바꾸기 : 'Male' -> '남성', 'Female' -> '여성'"
      ]
    },
    {
      "cell_type": "code",
      "execution_count": 61,
      "metadata": {
        "colab": {
          "base_uri": "https://localhost:8080/",
          "height": 206
        },
        "id": "yVYLBOjeLV9m",
        "outputId": "b348e039-284f-4174-c74b-f70a9d3e5e9d"
      },
      "outputs": [
        {
          "data": {
            "text/html": [
              "<div>\n",
              "<style scoped>\n",
              "    .dataframe tbody tr th:only-of-type {\n",
              "        vertical-align: middle;\n",
              "    }\n",
              "\n",
              "    .dataframe tbody tr th {\n",
              "        vertical-align: top;\n",
              "    }\n",
              "\n",
              "    .dataframe thead th {\n",
              "        text-align: right;\n",
              "    }\n",
              "</style>\n",
              "<table border=\"1\" class=\"dataframe\">\n",
              "  <thead>\n",
              "    <tr style=\"text-align: right;\">\n",
              "      <th></th>\n",
              "      <th>성명</th>\n",
              "      <th>성별</th>\n",
              "      <th>직급</th>\n",
              "      <th>전화번호</th>\n",
              "      <th>주소</th>\n",
              "    </tr>\n",
              "  </thead>\n",
              "  <tbody>\n",
              "    <tr>\n",
              "      <th>0</th>\n",
              "      <td>김예찬</td>\n",
              "      <td>남성</td>\n",
              "      <td>부장</td>\n",
              "      <td>010-1234-5678</td>\n",
              "      <td>서울시 강남구 삼성동</td>\n",
              "    </tr>\n",
              "    <tr>\n",
              "      <th>1</th>\n",
              "      <td>이하은</td>\n",
              "      <td>여성</td>\n",
              "      <td>인턴</td>\n",
              "      <td>010-8765-4321</td>\n",
              "      <td>부산시 해운대구 우동</td>\n",
              "    </tr>\n",
              "    <tr>\n",
              "      <th>2</th>\n",
              "      <td>박지현</td>\n",
              "      <td>여성</td>\n",
              "      <td>과장</td>\n",
              "      <td>010-1357-2468</td>\n",
              "      <td>대구시 수성구 범어동</td>\n",
              "    </tr>\n",
              "    <tr>\n",
              "      <th>3</th>\n",
              "      <td>최준호</td>\n",
              "      <td>남성</td>\n",
              "      <td>임시</td>\n",
              "      <td>010-1928-3746</td>\n",
              "      <td>인천시 연수구 송도동</td>\n",
              "    </tr>\n",
              "    <tr>\n",
              "      <th>4</th>\n",
              "      <td>김예서</td>\n",
              "      <td>여성</td>\n",
              "      <td>과장</td>\n",
              "      <td>010-2846-5937</td>\n",
              "      <td>천안시 서북구 두정동</td>\n",
              "    </tr>\n",
              "  </tbody>\n",
              "</table>\n",
              "</div>"
            ],
            "text/plain": [
              "    성명   성별   직급            전화번호            주소\n",
              "0  김예찬   남성   부장   010-1234-5678   서울시 강남구 삼성동\n",
              "1  이하은   여성   인턴   010-8765-4321   부산시 해운대구 우동\n",
              "2  박지현   여성   과장   010-1357-2468   대구시 수성구 범어동\n",
              "3  최준호   남성   임시   010-1928-3746   인천시 연수구 송도동\n",
              "4  김예서   여성   과장   010-2846-5937   천안시 서북구 두정동"
            ]
          },
          "execution_count": 61,
          "metadata": {},
          "output_type": "execute_result"
        }
      ],
      "source": [
        "df['성별'] = df['성별'].str.replace('Male','남성').str.replace('Female','여성')\n",
        "df"
      ]
    },
    {
      "cell_type": "markdown",
      "metadata": {
        "id": "IpiahwG8LyHj"
      },
      "source": [
        ".str.replace('^LG', '엘지', regex=True) 'LG'로 시작하는 부분을 '엘지'로 대체한다.\n",
        "\n",
        ".str.replace('대학$', '대학교', regex=True) '대학'으로 끝나는 부분을 '대학교'로 대체한다.\n",
        "\n",
        ".str.replace('부산*', '부산시', regex=True) '부산'으로 시작하는 부분을 '부산시'로 대체한다.\n",
        "\n",
        ".str.replace('부산+', '부산광역시', regex=True) '부산' 뒤에 한 글자가 존재하는 문자를 '부산광역시'로 대체한다.\n",
        "\n",
        ".str.replace('부산?', '부산광역시', regex=True) '부산' 뒤에 0 글자 또는 한 글자가 존재하는 문자를 '부산광역시'로 대체한다."
      ]
    },
    {
      "cell_type": "code",
      "execution_count": 62,
      "metadata": {
        "id": "I0xbBagoLujV"
      },
      "outputs": [],
      "source": [
        "df['직급'] = df['직급'].str.replace('인턴|임시','사원', regex=True)\n"
      ]
    },
    {
      "cell_type": "code",
      "execution_count": 63,
      "metadata": {
        "colab": {
          "base_uri": "https://localhost:8080/",
          "height": 143
        },
        "id": "FeerG5IaL3hT",
        "outputId": "a89cfdd6-c0b5-48b9-9fe7-40e63063066f"
      },
      "outputs": [
        {
          "data": {
            "text/html": [
              "<div>\n",
              "<style scoped>\n",
              "    .dataframe tbody tr th:only-of-type {\n",
              "        vertical-align: middle;\n",
              "    }\n",
              "\n",
              "    .dataframe tbody tr th {\n",
              "        vertical-align: top;\n",
              "    }\n",
              "\n",
              "    .dataframe thead th {\n",
              "        text-align: right;\n",
              "    }\n",
              "</style>\n",
              "<table border=\"1\" class=\"dataframe\">\n",
              "  <thead>\n",
              "    <tr style=\"text-align: right;\">\n",
              "      <th></th>\n",
              "      <th>성명</th>\n",
              "      <th>성별</th>\n",
              "      <th>직급</th>\n",
              "      <th>전화번호</th>\n",
              "      <th>주소</th>\n",
              "    </tr>\n",
              "  </thead>\n",
              "  <tbody>\n",
              "    <tr>\n",
              "      <th>1</th>\n",
              "      <td>이하은</td>\n",
              "      <td>여성</td>\n",
              "      <td>사원</td>\n",
              "      <td>010-8765-4321</td>\n",
              "      <td>부산시 해운대구 우동</td>\n",
              "    </tr>\n",
              "    <tr>\n",
              "      <th>2</th>\n",
              "      <td>박지현</td>\n",
              "      <td>여성</td>\n",
              "      <td>과장</td>\n",
              "      <td>010-1357-2468</td>\n",
              "      <td>대구시 수성구 범어동</td>\n",
              "    </tr>\n",
              "    <tr>\n",
              "      <th>4</th>\n",
              "      <td>김예서</td>\n",
              "      <td>여성</td>\n",
              "      <td>과장</td>\n",
              "      <td>010-2846-5937</td>\n",
              "      <td>천안시 서북구 두정동</td>\n",
              "    </tr>\n",
              "  </tbody>\n",
              "</table>\n",
              "</div>"
            ],
            "text/plain": [
              "    성명   성별   직급            전화번호            주소\n",
              "1  이하은   여성   사원   010-8765-4321   부산시 해운대구 우동\n",
              "2  박지현   여성   과장   010-1357-2468   대구시 수성구 범어동\n",
              "4  김예서   여성   과장   010-2846-5937   천안시 서북구 두정동"
            ]
          },
          "execution_count": 63,
          "metadata": {},
          "output_type": "execute_result"
        }
      ],
      "source": [
        "df[df['성별'].str.contains('여성')]\n"
      ]
    },
    {
      "cell_type": "code",
      "execution_count": 64,
      "metadata": {
        "id": "RhE4GNSDMNFq"
      },
      "outputs": [],
      "source": [
        "df['관리자'] = df['직급'].str.contains('과장')\n"
      ]
    },
    {
      "cell_type": "code",
      "execution_count": 65,
      "metadata": {
        "colab": {
          "base_uri": "https://localhost:8080/",
          "height": 112
        },
        "id": "8B-KJMDvMOLw",
        "outputId": "fe69db5b-22c6-4767-a53a-02e9fa1bdcc0"
      },
      "outputs": [
        {
          "data": {
            "text/html": [
              "<div>\n",
              "<style scoped>\n",
              "    .dataframe tbody tr th:only-of-type {\n",
              "        vertical-align: middle;\n",
              "    }\n",
              "\n",
              "    .dataframe tbody tr th {\n",
              "        vertical-align: top;\n",
              "    }\n",
              "\n",
              "    .dataframe thead th {\n",
              "        text-align: right;\n",
              "    }\n",
              "</style>\n",
              "<table border=\"1\" class=\"dataframe\">\n",
              "  <thead>\n",
              "    <tr style=\"text-align: right;\">\n",
              "      <th></th>\n",
              "      <th>성명</th>\n",
              "      <th>성별</th>\n",
              "      <th>직급</th>\n",
              "      <th>전화번호</th>\n",
              "      <th>주소</th>\n",
              "      <th>관리자</th>\n",
              "    </tr>\n",
              "  </thead>\n",
              "  <tbody>\n",
              "    <tr>\n",
              "      <th>2</th>\n",
              "      <td>박지현</td>\n",
              "      <td>여성</td>\n",
              "      <td>과장</td>\n",
              "      <td>010-1357-2468</td>\n",
              "      <td>대구시 수성구 범어동</td>\n",
              "      <td>True</td>\n",
              "    </tr>\n",
              "    <tr>\n",
              "      <th>4</th>\n",
              "      <td>김예서</td>\n",
              "      <td>여성</td>\n",
              "      <td>과장</td>\n",
              "      <td>010-2846-5937</td>\n",
              "      <td>천안시 서북구 두정동</td>\n",
              "      <td>True</td>\n",
              "    </tr>\n",
              "  </tbody>\n",
              "</table>\n",
              "</div>"
            ],
            "text/plain": [
              "    성명   성별   직급            전화번호            주소   관리자\n",
              "2  박지현   여성   과장   010-1357-2468   대구시 수성구 범어동  True\n",
              "4  김예서   여성   과장   010-2846-5937   천안시 서북구 두정동  True"
            ]
          },
          "execution_count": 65,
          "metadata": {},
          "output_type": "execute_result"
        }
      ],
      "source": [
        "df[df['관리자'] == True]\n"
      ]
    },
    {
      "cell_type": "code",
      "execution_count": 66,
      "metadata": {},
      "outputs": [
        {
          "data": {
            "text/html": [
              "<div>\n",
              "<style scoped>\n",
              "    .dataframe tbody tr th:only-of-type {\n",
              "        vertical-align: middle;\n",
              "    }\n",
              "\n",
              "    .dataframe tbody tr th {\n",
              "        vertical-align: top;\n",
              "    }\n",
              "\n",
              "    .dataframe thead th {\n",
              "        text-align: right;\n",
              "    }\n",
              "</style>\n",
              "<table border=\"1\" class=\"dataframe\">\n",
              "  <thead>\n",
              "    <tr style=\"text-align: right;\">\n",
              "      <th></th>\n",
              "      <th>성명</th>\n",
              "      <th>성별</th>\n",
              "      <th>직급</th>\n",
              "      <th>전화번호</th>\n",
              "      <th>주소</th>\n",
              "      <th>관리자</th>\n",
              "      <th>도시</th>\n",
              "      <th>시</th>\n",
              "      <th>구</th>\n",
              "      <th>동</th>\n",
              "    </tr>\n",
              "  </thead>\n",
              "  <tbody>\n",
              "    <tr>\n",
              "      <th>0</th>\n",
              "      <td>김예찬</td>\n",
              "      <td>남성</td>\n",
              "      <td>부장</td>\n",
              "      <td>010-1234-5678</td>\n",
              "      <td>서울시 강남구 삼성동</td>\n",
              "      <td>False</td>\n",
              "      <td>서울시</td>\n",
              "      <td>서울시</td>\n",
              "      <td>강남구</td>\n",
              "      <td>삼성동</td>\n",
              "    </tr>\n",
              "    <tr>\n",
              "      <th>1</th>\n",
              "      <td>이하은</td>\n",
              "      <td>여성</td>\n",
              "      <td>사원</td>\n",
              "      <td>010-8765-4321</td>\n",
              "      <td>부산시 해운대구 우동</td>\n",
              "      <td>False</td>\n",
              "      <td>부산시</td>\n",
              "      <td>부산시</td>\n",
              "      <td>해운대구</td>\n",
              "      <td>우동</td>\n",
              "    </tr>\n",
              "    <tr>\n",
              "      <th>2</th>\n",
              "      <td>박지현</td>\n",
              "      <td>여성</td>\n",
              "      <td>과장</td>\n",
              "      <td>010-1357-2468</td>\n",
              "      <td>대구시 수성구 범어동</td>\n",
              "      <td>True</td>\n",
              "      <td>대구시</td>\n",
              "      <td>대구시</td>\n",
              "      <td>수성구</td>\n",
              "      <td>범어동</td>\n",
              "    </tr>\n",
              "    <tr>\n",
              "      <th>3</th>\n",
              "      <td>최준호</td>\n",
              "      <td>남성</td>\n",
              "      <td>사원</td>\n",
              "      <td>010-1928-3746</td>\n",
              "      <td>인천시 연수구 송도동</td>\n",
              "      <td>False</td>\n",
              "      <td>인천시</td>\n",
              "      <td>인천시</td>\n",
              "      <td>연수구</td>\n",
              "      <td>송도동</td>\n",
              "    </tr>\n",
              "    <tr>\n",
              "      <th>4</th>\n",
              "      <td>김예서</td>\n",
              "      <td>여성</td>\n",
              "      <td>과장</td>\n",
              "      <td>010-2846-5937</td>\n",
              "      <td>천안시 서북구 두정동</td>\n",
              "      <td>True</td>\n",
              "      <td>천안시</td>\n",
              "      <td>천안시</td>\n",
              "      <td>서북구</td>\n",
              "      <td>두정동</td>\n",
              "    </tr>\n",
              "  </tbody>\n",
              "</table>\n",
              "</div>"
            ],
            "text/plain": [
              "    성명   성별   직급            전화번호           주소    관리자    도시    시     구    동\n",
              "0  김예찬   남성   부장   010-1234-5678  서울시 강남구 삼성동  False  서울시   서울시   강남구  삼성동\n",
              "1  이하은   여성   사원   010-8765-4321  부산시 해운대구 우동  False  부산시   부산시  해운대구   우동\n",
              "2  박지현   여성   과장   010-1357-2468  대구시 수성구 범어동   True  대구시   대구시   수성구  범어동\n",
              "3  최준호   남성   사원   010-1928-3746  인천시 연수구 송도동  False  인천시   인천시   연수구  송도동\n",
              "4  김예서   여성   과장   010-2846-5937  천안시 서북구 두정동   True  천안시   천안시   서북구  두정동"
            ]
          },
          "execution_count": 66,
          "metadata": {},
          "output_type": "execute_result"
        }
      ],
      "source": [
        "df['주소'] = df['주소'].str.strip()\n",
        "df['도시'] = df['주소'].str[:4]\n",
        "# # df['도시'] = df['주소'].str.split('시', expand=True)[0] + '시'\n",
        "df[['시', '구', '동']] = df['주소'].str.split(' ', expand=True)\n",
        "\n",
        "df"
      ]
    },
    {
      "cell_type": "code",
      "execution_count": null,
      "metadata": {},
      "outputs": [
        {
          "data": {
            "text/html": [
              "<div>\n",
              "<style scoped>\n",
              "    .dataframe tbody tr th:only-of-type {\n",
              "        vertical-align: middle;\n",
              "    }\n",
              "\n",
              "    .dataframe tbody tr th {\n",
              "        vertical-align: top;\n",
              "    }\n",
              "\n",
              "    .dataframe thead th {\n",
              "        text-align: right;\n",
              "    }\n",
              "</style>\n",
              "<table border=\"1\" class=\"dataframe\">\n",
              "  <thead>\n",
              "    <tr style=\"text-align: right;\">\n",
              "      <th></th>\n",
              "      <th>성명</th>\n",
              "      <th>성별</th>\n",
              "      <th>직급</th>\n",
              "      <th>전화번호</th>\n",
              "      <th>주소</th>\n",
              "      <th>관리자</th>\n",
              "      <th>도시</th>\n",
              "      <th>시</th>\n",
              "      <th>구</th>\n",
              "      <th>동</th>\n",
              "      <th>전화번호1</th>\n",
              "      <th>전화번호2</th>\n",
              "      <th>전화번호3</th>\n",
              "    </tr>\n",
              "  </thead>\n",
              "  <tbody>\n",
              "    <tr>\n",
              "      <th>0</th>\n",
              "      <td>김예찬</td>\n",
              "      <td>남성</td>\n",
              "      <td>부장</td>\n",
              "      <td>010-1234-5678</td>\n",
              "      <td>서울시 강남구 삼성동</td>\n",
              "      <td>False</td>\n",
              "      <td>서울시</td>\n",
              "      <td>서울시</td>\n",
              "      <td>강남구</td>\n",
              "      <td>삼성동</td>\n",
              "      <td>010</td>\n",
              "      <td>1234</td>\n",
              "      <td>5678</td>\n",
              "    </tr>\n",
              "    <tr>\n",
              "      <th>1</th>\n",
              "      <td>이하은</td>\n",
              "      <td>여성</td>\n",
              "      <td>사원</td>\n",
              "      <td>010-8765-4321</td>\n",
              "      <td>부산시 해운대구 우동</td>\n",
              "      <td>False</td>\n",
              "      <td>부산시</td>\n",
              "      <td>부산시</td>\n",
              "      <td>해운대구</td>\n",
              "      <td>우동</td>\n",
              "      <td>010</td>\n",
              "      <td>8765</td>\n",
              "      <td>4321</td>\n",
              "    </tr>\n",
              "    <tr>\n",
              "      <th>2</th>\n",
              "      <td>박지현</td>\n",
              "      <td>여성</td>\n",
              "      <td>과장</td>\n",
              "      <td>010-1357-2468</td>\n",
              "      <td>대구시 수성구 범어동</td>\n",
              "      <td>True</td>\n",
              "      <td>대구시</td>\n",
              "      <td>대구시</td>\n",
              "      <td>수성구</td>\n",
              "      <td>범어동</td>\n",
              "      <td>010</td>\n",
              "      <td>1357</td>\n",
              "      <td>2468</td>\n",
              "    </tr>\n",
              "    <tr>\n",
              "      <th>3</th>\n",
              "      <td>최준호</td>\n",
              "      <td>남성</td>\n",
              "      <td>사원</td>\n",
              "      <td>010-1928-3746</td>\n",
              "      <td>인천시 연수구 송도동</td>\n",
              "      <td>False</td>\n",
              "      <td>인천시</td>\n",
              "      <td>인천시</td>\n",
              "      <td>연수구</td>\n",
              "      <td>송도동</td>\n",
              "      <td>010</td>\n",
              "      <td>1928</td>\n",
              "      <td>3746</td>\n",
              "    </tr>\n",
              "    <tr>\n",
              "      <th>4</th>\n",
              "      <td>김예서</td>\n",
              "      <td>여성</td>\n",
              "      <td>과장</td>\n",
              "      <td>010-2846-5937</td>\n",
              "      <td>천안시 서북구 두정동</td>\n",
              "      <td>True</td>\n",
              "      <td>천안시</td>\n",
              "      <td>천안시</td>\n",
              "      <td>서북구</td>\n",
              "      <td>두정동</td>\n",
              "      <td>010</td>\n",
              "      <td>2846</td>\n",
              "      <td>5937</td>\n",
              "    </tr>\n",
              "  </tbody>\n",
              "</table>\n",
              "</div>"
            ],
            "text/plain": [
              "    성명   성별   직급            전화번호           주소    관리자    도시    시     구    동  \\\n",
              "0  김예찬   남성   부장   010-1234-5678  서울시 강남구 삼성동  False  서울시   서울시   강남구  삼성동   \n",
              "1  이하은   여성   사원   010-8765-4321  부산시 해운대구 우동  False  부산시   부산시  해운대구   우동   \n",
              "2  박지현   여성   과장   010-1357-2468  대구시 수성구 범어동   True  대구시   대구시   수성구  범어동   \n",
              "3  최준호   남성   사원   010-1928-3746  인천시 연수구 송도동  False  인천시   인천시   연수구  송도동   \n",
              "4  김예서   여성   과장   010-2846-5937  천안시 서북구 두정동   True  천안시   천안시   서북구  두정동   \n",
              "\n",
              "  전화번호1 전화번호2 전화번호3  \n",
              "0   010  1234  5678  \n",
              "1   010  8765  4321  \n",
              "2   010  1357  2468  \n",
              "3   010  1928  3746  \n",
              "4   010  2846  5937  "
            ]
          },
          "execution_count": 68,
          "metadata": {},
          "output_type": "execute_result"
        }
      ],
      "source": [
        "df[['전화번호1', '전화번호2', '전화번호3']] = df['전화번호'].str.split('-', expand=True)\n",
        "\n",
        "df"
      ]
    },
    {
      "cell_type": "code",
      "execution_count": null,
      "metadata": {},
      "outputs": [
        {
          "data": {
            "text/html": [
              "<div>\n",
              "<style scoped>\n",
              "    .dataframe tbody tr th:only-of-type {\n",
              "        vertical-align: middle;\n",
              "    }\n",
              "\n",
              "    .dataframe tbody tr th {\n",
              "        vertical-align: top;\n",
              "    }\n",
              "\n",
              "    .dataframe thead th {\n",
              "        text-align: right;\n",
              "    }\n",
              "</style>\n",
              "<table border=\"1\" class=\"dataframe\">\n",
              "  <thead>\n",
              "    <tr style=\"text-align: right;\">\n",
              "      <th></th>\n",
              "      <th>성명</th>\n",
              "      <th>성별</th>\n",
              "      <th>직급</th>\n",
              "      <th>전화번호</th>\n",
              "      <th>주소</th>\n",
              "      <th>시</th>\n",
              "      <th>구</th>\n",
              "      <th>동</th>\n",
              "      <th>전화번호1</th>\n",
              "      <th>전화번호2</th>\n",
              "      <th>전화번호3</th>\n",
              "    </tr>\n",
              "  </thead>\n",
              "  <tbody>\n",
              "    <tr>\n",
              "      <th>0</th>\n",
              "      <td>김예찬</td>\n",
              "      <td>남성</td>\n",
              "      <td>부장</td>\n",
              "      <td>010-1234-5678</td>\n",
              "      <td>서울시 강남구 삼성동</td>\n",
              "      <td>서울시</td>\n",
              "      <td>강남구</td>\n",
              "      <td>삼성동</td>\n",
              "      <td>010</td>\n",
              "      <td>1234</td>\n",
              "      <td>5678</td>\n",
              "    </tr>\n",
              "    <tr>\n",
              "      <th>1</th>\n",
              "      <td>이하은</td>\n",
              "      <td>여성</td>\n",
              "      <td>사원</td>\n",
              "      <td>010-8765-4321</td>\n",
              "      <td>부산시 해운대구 우동</td>\n",
              "      <td>부산시</td>\n",
              "      <td>해운대구</td>\n",
              "      <td>우동</td>\n",
              "      <td>010</td>\n",
              "      <td>8765</td>\n",
              "      <td>4321</td>\n",
              "    </tr>\n",
              "    <tr>\n",
              "      <th>2</th>\n",
              "      <td>박지현</td>\n",
              "      <td>여성</td>\n",
              "      <td>과장</td>\n",
              "      <td>010-1357-2468</td>\n",
              "      <td>대구시 수성구 범어동</td>\n",
              "      <td>대구시</td>\n",
              "      <td>수성구</td>\n",
              "      <td>범어동</td>\n",
              "      <td>010</td>\n",
              "      <td>1357</td>\n",
              "      <td>2468</td>\n",
              "    </tr>\n",
              "    <tr>\n",
              "      <th>4</th>\n",
              "      <td>김예서</td>\n",
              "      <td>여성</td>\n",
              "      <td>과장</td>\n",
              "      <td>010-2846-5937</td>\n",
              "      <td>천안시 서북구 두정동</td>\n",
              "      <td>천안시</td>\n",
              "      <td>서북구</td>\n",
              "      <td>두정동</td>\n",
              "      <td>010</td>\n",
              "      <td>2846</td>\n",
              "      <td>5937</td>\n",
              "    </tr>\n",
              "  </tbody>\n",
              "</table>\n",
              "</div>"
            ],
            "text/plain": [
              "    성명   성별   직급            전화번호           주소    시     구    동 전화번호1 전화번호2  \\\n",
              "0  김예찬   남성   부장   010-1234-5678  서울시 강남구 삼성동  서울시   강남구  삼성동   010  1234   \n",
              "1  이하은   여성   사원   010-8765-4321  부산시 해운대구 우동  부산시  해운대구   우동   010  8765   \n",
              "2  박지현   여성   과장   010-1357-2468  대구시 수성구 범어동  대구시   수성구  범어동   010  1357   \n",
              "4  김예서   여성   과장   010-2846-5937  천안시 서북구 두정동  천안시   서북구  두정동   010  2846   \n",
              "\n",
              "  전화번호3  \n",
              "0  5678  \n",
              "1  4321  \n",
              "2  2468  \n",
              "4  5937  "
            ]
          },
          "execution_count": 72,
          "metadata": {},
          "output_type": "execute_result"
        }
      ],
      "source": [
        "\n",
        "# df = df.drop(columns=['관리자'], axis=1)\n",
        "df = df.drop(3) # 3번 행 삭제\n",
        "df"
      ]
    },
    {
      "cell_type": "code",
      "execution_count": 75,
      "metadata": {},
      "outputs": [
        {
          "data": {
            "text/html": [
              "<div>\n",
              "<style scoped>\n",
              "    .dataframe tbody tr th:only-of-type {\n",
              "        vertical-align: middle;\n",
              "    }\n",
              "\n",
              "    .dataframe tbody tr th {\n",
              "        vertical-align: top;\n",
              "    }\n",
              "\n",
              "    .dataframe thead th {\n",
              "        text-align: right;\n",
              "    }\n",
              "</style>\n",
              "<table border=\"1\" class=\"dataframe\">\n",
              "  <thead>\n",
              "    <tr style=\"text-align: right;\">\n",
              "      <th></th>\n",
              "      <th>성명</th>\n",
              "      <th>성별</th>\n",
              "      <th>직급</th>\n",
              "      <th>전화번호</th>\n",
              "      <th>주소</th>\n",
              "      <th>시</th>\n",
              "      <th>구</th>\n",
              "      <th>동</th>\n",
              "      <th>전화번호1</th>\n",
              "      <th>전화번호2</th>\n",
              "      <th>전화번호3</th>\n",
              "    </tr>\n",
              "  </thead>\n",
              "  <tbody>\n",
              "    <tr>\n",
              "      <th>0</th>\n",
              "      <td>김예찬</td>\n",
              "      <td>남성</td>\n",
              "      <td>부장</td>\n",
              "      <td>010-1234-5678</td>\n",
              "      <td>서울시 강남구 삼성동</td>\n",
              "      <td>서울시</td>\n",
              "      <td>강남구</td>\n",
              "      <td>삼성동</td>\n",
              "      <td>010</td>\n",
              "      <td>1234</td>\n",
              "      <td>5678</td>\n",
              "    </tr>\n",
              "  </tbody>\n",
              "</table>\n",
              "</div>"
            ],
            "text/plain": [
              "    성명   성별   직급            전화번호           주소    시    구    동 전화번호1 전화번호2 전화번호3\n",
              "0  김예찬   남성   부장   010-1234-5678  서울시 강남구 삼성동  서울시  강남구  삼성동   010  1234  5678"
            ]
          },
          "execution_count": 75,
          "metadata": {},
          "output_type": "execute_result"
        }
      ],
      "source": [
        "df['시'].str.contains('서울')\n",
        "df[df['시'].str.contains('서울')] # 서울시 데이터만 선택"
      ]
    }
  ],
  "metadata": {
    "colab": {
      "provenance": []
    },
    "kernelspec": {
      "display_name": "venv",
      "language": "python",
      "name": "python3"
    },
    "language_info": {
      "codemirror_mode": {
        "name": "ipython",
        "version": 3
      },
      "file_extension": ".py",
      "mimetype": "text/x-python",
      "name": "python",
      "nbconvert_exporter": "python",
      "pygments_lexer": "ipython3",
      "version": "3.9.6"
    }
  },
  "nbformat": 4,
  "nbformat_minor": 0
}
