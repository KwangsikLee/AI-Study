{
  "cells": [
    {
      "cell_type": "markdown",
      "metadata": {
        "id": "_LsDoSykTREU"
      },
      "source": [
        "# 검색"
      ]
    },
    {
      "cell_type": "markdown",
      "metadata": {
        "id": "sRqqohHO3htL"
      },
      "source": [
        "배열에서 짝수 데이터에 대한 인덱스를 찾아준다."
      ]
    },
    {
      "cell_type": "code",
      "execution_count": 1,
      "metadata": {
        "colab": {
          "base_uri": "https://localhost:8080/"
        },
        "id": "-VPyx6hvTWBh",
        "outputId": "31928fef-f960-4ddf-ddd7-dd4c2d0cb8c0"
      },
      "outputs": [
        {
          "name": "stdout",
          "output_type": "stream",
          "text": [
            "(array([1, 3, 5, 7]),)\n"
          ]
        }
      ],
      "source": [
        "import numpy as np\n",
        "a = np.array([1, 2, 3, 4, 5, 6, 7, 8])\n",
        "\n",
        "x = np.where(a % 2 == 0)\n",
        "print(x)      # 출력 : array([1, 3, 5, 7])\n"
      ]
    },
    {
      "cell_type": "markdown",
      "metadata": {
        "id": "weLv83bT3nlO"
      },
      "source": [
        "배열에서 홀수 데이터에 대한 인덱스를 찾아준다."
      ]
    },
    {
      "cell_type": "code",
      "execution_count": 7,
      "metadata": {
        "colab": {
          "base_uri": "https://localhost:8080/"
        },
        "id": "Pg8IQHBOTXH8",
        "outputId": "c68d8914-d6de-4dde-da0a-0236cbab3879"
      },
      "outputs": [
        {
          "name": "stdout",
          "output_type": "stream",
          "text": [
            "(array([1, 4, 5, 6, 7]),)\n"
          ]
        }
      ],
      "source": [
        "import numpy as np\n",
        "a = np.array([12, 21, 34, 44, 55, 65, 75, 85])\n",
        "\n",
        "x = np.where(a % 2 == 1)\n",
        "print(x)      # 출력 : array([0, 2, 4, 6])\n"
      ]
    },
    {
      "cell_type": "code",
      "execution_count": 3,
      "metadata": {
        "colab": {
          "base_uri": "https://localhost:8080/"
        },
        "id": "xn-mJrE7TaBo",
        "outputId": "616e8670-d8cf-4719-ce09-c8a2910d8e59"
      },
      "outputs": [
        {
          "name": "stdout",
          "output_type": "stream",
          "text": [
            "7\n",
            "------------\n",
            "0\n"
          ]
        }
      ],
      "source": [
        "import numpy as np\n",
        "a = [[11, 12, 13, 14, 15],\n",
        "     [21, 22, 30, 24, 25]]\n",
        "\n",
        "print(np.argmax(a))             # 출력 : 7\n",
        "\n",
        "print('------------')\n",
        "print(np.argmin(a))             # 출력 : 0\n",
        "\n"
      ]
    },
    {
      "cell_type": "code",
      "execution_count": null,
      "metadata": {
        "colab": {
          "base_uri": "https://localhost:8080/"
        },
        "id": "_Q4WmUEQTbmu",
        "outputId": "9c8ebea6-b5d1-4cd5-90a3-8dcbeb021b8c"
      },
      "outputs": [
        {
          "name": "stdout",
          "output_type": "stream",
          "text": [
            "[[0 2]]\n",
            "(array([0]), array([2]))\n",
            "[31 33 35]\n"
          ]
        }
      ],
      "source": [
        "import numpy as np\n",
        "a = np.array([[31, 12, 33, 14, 35],\n",
        "              [21, 22, 23, 24, 25]])\n",
        "\n",
        "print(np.argwhere(a == 33))     # 출력 : [[0 2]] → 조건을 만족하는 값의 위치(인덱스)를 반환\n",
        "print(np.where(a == 33))     # 출력 : (array([0]), array([2])) → 조건을 만족하는 값의 위치(인덱스)를 반환\n",
        "print(np.extract(a > 30, a))    # 출력 : [31 33 35] → 조건을 만족하는 값만을 추출\n"
      ]
    },
    {
      "cell_type": "code",
      "execution_count": 5,
      "metadata": {
        "colab": {
          "base_uri": "https://localhost:8080/"
        },
        "id": "TkkEnnfsTdBu",
        "outputId": "3f3535a5-0a78-4140-c48e-54d37018f59e"
      },
      "outputs": [
        {
          "name": "stdout",
          "output_type": "stream",
          "text": [
            "학생별 점수:\n",
            "[[85 92 78 95 88]\n",
            " [76 89 94 82 91]\n",
            " [90 85 87 93 86]]\n",
            "\n",
            "90점 이상인 점수의 위치 (행, 열):\n",
            "[[0 1]\n",
            " [0 3]\n",
            " [1 2]\n",
            " [1 4]\n",
            " [2 0]\n",
            " [2 3]]\n",
            "90점 이상인 점수들:\n",
            "[92 95 94 91 90 93]\n",
            "\n",
            "94점인 위치:\n",
            "[[1 2]]\n"
          ]
        }
      ],
      "source": [
        "import numpy as np\n",
        "\n",
        "# 학생 시험 점수 데이터\n",
        "scores = np.array([[85, 92, 78, 95, 88],\n",
        "                   [76, 89, 94, 82, 91],\n",
        "                   [90, 85, 87, 93, 86]])\n",
        "\n",
        "print(\"학생별 점수:\")\n",
        "print(scores)\n",
        "print()\n",
        "\n",
        "# 90점 이상인 점수의 위치 찾기\n",
        "high_score_positions = np.argwhere(scores >= 90)\n",
        "print(\"90점 이상인 점수의 위치 (행, 열):\")\n",
        "print(high_score_positions)\n",
        "\n",
        "# 90점 이상인 점수만 추출\n",
        "high_scores = np.extract(scores >= 90, scores)\n",
        "print(\"90점 이상인 점수들:\")\n",
        "print(high_scores)\n",
        "\n",
        "# 특정 점수 찾기\n",
        "target_score = 94\n",
        "target_positions = np.argwhere(scores == target_score)\n",
        "print(f\"\\n{target_score}점인 위치:\")\n",
        "print(target_positions)"
      ]
    },
    {
      "cell_type": "code",
      "execution_count": 6,
      "metadata": {
        "colab": {
          "base_uri": "https://localhost:8080/"
        },
        "id": "hV7jJfmg5evS",
        "outputId": "3c4305c7-bd74-47be-f00a-0687953b58f3"
      },
      "outputs": [
        {
          "name": "stdout",
          "output_type": "stream",
          "text": [
            "월별 지역별 판매량:\n",
            "[[120 150 180 200 175]\n",
            " [135 165 190 210 185]\n",
            " [145 175 200 220 195]\n",
            " [160 180 215 235 205]\n",
            " [155 185 205 225 200]\n",
            " [170 195 220 245 215]]\n",
            "\n",
            "200개 이상 판매 실적:\n",
            "  1월 광주: 200개\n",
            "  2월 광주: 210개\n",
            "  3월 대구: 200개\n",
            "  3월 광주: 220개\n",
            "  4월 대구: 215개\n",
            "  4월 광주: 235개\n",
            "  4월 대전: 205개\n",
            "  5월 대구: 205개\n",
            "  5월 광주: 225개\n",
            "  5월 대전: 200개\n",
            "  6월 대구: 220개\n",
            "  6월 광주: 245개\n",
            "  6월 대전: 215개\n",
            "\n",
            "최고 판매량 위치: 6월 광주\n",
            "최고 판매량: 245개\n",
            "\n",
            "평균(188.5) 이하 판매 실적 14건:\n",
            "해당 판매량들: [120 150 180 175 135 165 185 145 175 160 180 155 185 170]\n"
          ]
        }
      ],
      "source": [
        "# 월별 지역별 판매량 데이터\n",
        "sales_data = np.array([\n",
        "    [120, 150, 180, 200, 175],  # 1월: 서울, 부산, 대구, 광주, 대전\n",
        "    [135, 165, 190, 210, 185],  # 2월\n",
        "    [145, 175, 200, 220, 195],  # 3월\n",
        "    [160, 180, 215, 235, 205],  # 4월\n",
        "    [155, 185, 205, 225, 200],  # 5월\n",
        "    [170, 195, 220, 245, 215]   # 6월\n",
        "])\n",
        "\n",
        "months = ['1월', '2월', '3월', '4월', '5월', '6월']\n",
        "cities = ['서울', '부산', '대구', '광주', '대전']\n",
        "\n",
        "print(\"월별 지역별 판매량:\")\n",
        "print(sales_data)\n",
        "print()\n",
        "\n",
        "# 200개 이상 판매한 경우 찾기\n",
        "high_sales_pos = np.argwhere(sales_data >= 200)\n",
        "high_sales_values = np.extract(sales_data >= 200, sales_data)\n",
        "\n",
        "print(\"200개 이상 판매 실적:\")\n",
        "for i, pos in enumerate(high_sales_pos):\n",
        "    month_idx, city_idx = pos\n",
        "    value = high_sales_values[i]\n",
        "    print(f\"  {months[month_idx]} {cities[city_idx]}: {value}개\")\n",
        "\n",
        "# 최고 판매량 위치\n",
        "max_pos = np.argwhere(sales_data == np.max(sales_data))\n",
        "print(f\"\\n최고 판매량 위치: {months[max_pos[0][0]]} {cities[max_pos[0][1]]}\")\n",
        "print(f\"최고 판매량: {np.max(sales_data)}개\")\n",
        "\n",
        "# 평균 이하 판매량\n",
        "avg_sales = np.mean(sales_data)\n",
        "below_avg_pos = np.argwhere(sales_data < avg_sales)\n",
        "below_avg_values = np.extract(sales_data < avg_sales, sales_data)\n",
        "print(f\"\\n평균({avg_sales:.1f}) 이하 판매 실적 {len(below_avg_values)}건:\")\n",
        "print(f\"해당 판매량들: {below_avg_values}\")"
      ]
    }
  ],
  "metadata": {
    "colab": {
      "provenance": []
    },
    "kernelspec": {
      "display_name": "venv",
      "language": "python",
      "name": "python3"
    },
    "language_info": {
      "codemirror_mode": {
        "name": "ipython",
        "version": 3
      },
      "file_extension": ".py",
      "mimetype": "text/x-python",
      "name": "python",
      "nbconvert_exporter": "python",
      "pygments_lexer": "ipython3",
      "version": "3.9.6"
    }
  },
  "nbformat": 4,
  "nbformat_minor": 0
}
