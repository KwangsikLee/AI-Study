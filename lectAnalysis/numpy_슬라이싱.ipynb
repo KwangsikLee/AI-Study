{
  "cells": [
    {
      "cell_type": "markdown",
      "metadata": {
        "id": "416x3yaYSd7S"
      },
      "source": [
        "# 슬라이싱"
      ]
    },
    {
      "cell_type": "code",
      "execution_count": 5,
      "metadata": {
        "colab": {
          "base_uri": "https://localhost:8080/"
        },
        "id": "pTWhMymjSYmL",
        "outputId": "6e72358e-5d07-43c8-d19f-18c58d3b6870"
      },
      "outputs": [
        {
          "data": {
            "text/plain": [
              "array([2, 3, 4, 5])"
            ]
          },
          "execution_count": 5,
          "metadata": {},
          "output_type": "execute_result"
        }
      ],
      "source": [
        "import numpy as np\n",
        "arr = np.array([1, 2, 3, 4, 5, 6, 7])\n",
        "arr[1:5]      # 출력 : [2, 3, 4, 5]\n"
      ]
    },
    {
      "cell_type": "code",
      "execution_count": 6,
      "metadata": {
        "colab": {
          "base_uri": "https://localhost:8080/"
        },
        "id": "rNGLyW7hSkUM",
        "outputId": "88515c0a-144b-4e9e-ea3d-8d409fa2622a"
      },
      "outputs": [
        {
          "data": {
            "text/plain": [
              "array([5, 6, 7])"
            ]
          },
          "execution_count": 6,
          "metadata": {},
          "output_type": "execute_result"
        }
      ],
      "source": [
        "import numpy as np\n",
        "arr = np.array([1, 2, 3, 4, 5, 6, 7])\n",
        "arr[4:]      # 출력 : [5, 6, 7]\n"
      ]
    },
    {
      "cell_type": "code",
      "execution_count": 7,
      "metadata": {
        "colab": {
          "base_uri": "https://localhost:8080/"
        },
        "id": "LakFS9dASlFu",
        "outputId": "64e5620b-11a2-4f8b-8146-f4061ee7a428"
      },
      "outputs": [
        {
          "data": {
            "text/plain": [
              "array([1, 2, 3, 4])"
            ]
          },
          "execution_count": 7,
          "metadata": {},
          "output_type": "execute_result"
        }
      ],
      "source": [
        "import numpy as np\n",
        "arr = np.array([1, 2, 3, 4, 5, 6, 7])\n",
        "arr[:4]      # 출력 : [1, 2, 3, 4]\n"
      ]
    },
    {
      "cell_type": "markdown",
      "metadata": {
        "id": "ynitQdKMSndU"
      },
      "source": [
        "# 네거티브 슬라이싱"
      ]
    },
    {
      "cell_type": "code",
      "execution_count": 8,
      "metadata": {
        "colab": {
          "base_uri": "https://localhost:8080/"
        },
        "id": "uvO2VYiWStLR",
        "outputId": "76f3e967-3010-4527-97d0-c06741eb31f4"
      },
      "outputs": [
        {
          "name": "stdout",
          "output_type": "stream",
          "text": [
            "[5 6]\n",
            "[7 6 5 4 3 2 1]\n"
          ]
        }
      ],
      "source": [
        "import numpy as np\n",
        "arr = np.array([1, 2, 3, 4, 5, 6, 7])\n",
        "\n",
        "print(arr[-3:-1])       # 출력 : [5, 6]\n",
        "print(arr[-1:-8:-1])    # 출력 : [7, 6, 5, 4, 3, 2, 1]\n"
      ]
    },
    {
      "cell_type": "markdown",
      "metadata": {
        "id": "YVq4M-9zSvEO"
      },
      "source": [
        "# 단계별 슬라이싱"
      ]
    },
    {
      "cell_type": "code",
      "execution_count": 9,
      "metadata": {
        "colab": {
          "base_uri": "https://localhost:8080/"
        },
        "id": "wICG-nDCSxCQ",
        "outputId": "e619f4c0-4718-4259-bb4c-329aefb19c3b"
      },
      "outputs": [
        {
          "data": {
            "text/plain": [
              "array([2, 4])"
            ]
          },
          "execution_count": 9,
          "metadata": {},
          "output_type": "execute_result"
        }
      ],
      "source": [
        "import numpy as np\n",
        "arr = np.array([1, 2, 3, 4, 5, 6, 7])\n",
        "arr[1:5:2]     # 출력 : [2, 4]\n"
      ]
    },
    {
      "cell_type": "code",
      "execution_count": 10,
      "metadata": {
        "colab": {
          "base_uri": "https://localhost:8080/"
        },
        "id": "z2Ubg1yZSzMi",
        "outputId": "48d16506-b414-4be9-80bb-db42a975c678"
      },
      "outputs": [
        {
          "data": {
            "text/plain": [
              "array([1, 3, 5, 7])"
            ]
          },
          "execution_count": 10,
          "metadata": {},
          "output_type": "execute_result"
        }
      ],
      "source": [
        "import numpy as np\n",
        "arr = np.array([1, 2, 3, 4, 5, 6, 7])   # 처음부터 2씩 증가하며 슬라이싱 한다.\n",
        "arr[::2]     #  출력 : [1, 3, 5, 7]\n"
      ]
    },
    {
      "cell_type": "markdown",
      "metadata": {
        "id": "ZfDJ72BqSzpd"
      },
      "source": [
        "# 2-차원 배열 슬라이싱"
      ]
    },
    {
      "cell_type": "code",
      "execution_count": 11,
      "metadata": {
        "colab": {
          "base_uri": "https://localhost:8080/"
        },
        "id": "vLVKoYjwS5Ff",
        "outputId": "c34d3b16-b12c-40f1-c3c7-06aa0ed26b6a"
      },
      "outputs": [
        {
          "data": {
            "text/plain": [
              "array([7, 8, 9])"
            ]
          },
          "execution_count": 11,
          "metadata": {},
          "output_type": "execute_result"
        }
      ],
      "source": [
        "import numpy as np\n",
        "arr = np.array([[1, 2, 3, 4, 5], [6, 7, 8, 9, 10]])\n",
        "arr[1, 1:4]      # 출력 : [7, 8, 9]\n"
      ]
    },
    {
      "cell_type": "code",
      "execution_count": 12,
      "metadata": {
        "colab": {
          "base_uri": "https://localhost:8080/"
        },
        "id": "nfasM9lyS7pi",
        "outputId": "6557643b-26cf-4d63-fc25-51aac0e4c732"
      },
      "outputs": [
        {
          "data": {
            "text/plain": [
              "array([3, 8])"
            ]
          },
          "execution_count": 12,
          "metadata": {},
          "output_type": "execute_result"
        }
      ],
      "source": [
        "import numpy as np\n",
        "arr = np.array([[1, 2, 3, 4, 5], [6, 7, 8, 9, 10]])\n",
        "arr[0:2, 2]     # 출력 : [3, 8]\n"
      ]
    },
    {
      "cell_type": "markdown",
      "metadata": {
        "id": "O_IBWrsSS9GD"
      },
      "source": [
        "# 예제"
      ]
    },
    {
      "cell_type": "code",
      "execution_count": 13,
      "metadata": {
        "id": "YFk9613XS_mg"
      },
      "outputs": [],
      "source": [
        "import numpy as np\n",
        "arr =np.array([['20251147', '박세은', 88, 94, 69],\n",
        "              ['20241129', '이하늘', 69, 69, 89],\n",
        "              ['20232458', '박서연', 52, 93, 73],\n",
        "              ['20231244', '최수빈', 79, 97, 95],\n",
        "              ['20251002', '김예린', 55, 74, 61],\n",
        "              ['20242387', '정민수', 76, 80, 70],\n",
        "              ['20232499', '장도윤', 67, 89, 55],\n",
        "              ['20251236', '윤지우', 98, 65, 86],\n",
        "              ['20242569', '강하늘', 60, 97, 83],\n",
        "              ['20231288', '조지민', 79, 62, 93]])\n"
      ]
    },
    {
      "cell_type": "code",
      "execution_count": 14,
      "metadata": {
        "colab": {
          "base_uri": "https://localhost:8080/"
        },
        "id": "29jS6HIuTC90",
        "outputId": "9a451890-2b2e-4576-cbd4-035e334d1e08"
      },
      "outputs": [
        {
          "name": "stdout",
          "output_type": "stream",
          "text": [
            "723 \n",
            "\n",
            "820 \n",
            "\n",
            "13.070577645995606 \n",
            "\n",
            "[251 227 218 271 190 226 211 249 240 234] \n",
            "\n",
            "[84. 76. 73. 90. 63. 75. 70. 83. 80. 78.] \n",
            "\n"
          ]
        }
      ],
      "source": [
        "kor = arr[:, 2].astype(int)\n",
        "eng = arr[:, 3].astype(int)\n",
        "mat = arr[:, 4].astype(int)\n",
        "# 1. 국어 성적의 합계\n",
        "print(np.sum(kor), '\\n')    # 출력 : 723\n",
        "# 2. 영어 성적의 평균\n",
        "print(np.sum(eng), '\\n')    # 출력 : 820\n",
        "# 3. 수학 성적의 표준편차\n",
        "print(np.std(mat), '\\n')    # 출력 : 13.070577645995606\n",
        "# 4. 국어, 영어, 수학 점수의 합계(학생별)\n",
        "# np.add() 함수는 두 개의 배열 입력 가능 → np.add()를 2단계로 중첩 사용\n",
        "total =  np.add(np.add(kor, eng), mat)\n",
        "print(total, '\\n')          # 출력 : [251 227 218 271 190 226 211 249 240 234]\n",
        "\n",
        "# 5. 국어, 영어, 수학 점수의 평균(학생별)\n",
        "avg = np.round(total / 3)\n",
        "print(avg, '\\n')            # 출력 : [84. 76. 73. 90. 63. 75. 70. 83. 80. 78.]\n"
      ]
    },
    {
      "cell_type": "code",
      "execution_count": 15,
      "metadata": {
        "colab": {
          "base_uri": "https://localhost:8080/",
          "height": 1000
        },
        "id": "14-4VV-KTE9W",
        "outputId": "a4ab7fd8-2bba-4e9a-d5fb-ca13d8c21529"
      },
      "outputs": [
        {
          "name": "stdout",
          "output_type": "stream",
          "text": [
            "[['20251147' '박세은' '88' '94' '69' '251']\n",
            " ['20241129' '이하늘' '69' '69' '89' '227']\n",
            " ['20232458' '박서연' '52' '93' '73' '218']\n",
            " ['20231244' '최수빈' '79' '97' '95' '271']\n",
            " ['20251002' '김예린' '55' '74' '61' '190']\n",
            " ['20242387' '정민수' '76' '80' '70' '226']\n",
            " ['20232499' '장도윤' '67' '89' '55' '211']\n",
            " ['20251236' '윤지우' '98' '65' '86' '249']\n",
            " ['20242569' '강하늘' '60' '97' '83' '240']\n",
            " ['20231288' '조지민' '79' '62' '93' '234']] \n",
            "\n",
            "[['20251147' '박세은' '88' '94' '69' '83.7']\n",
            " ['20241129' '이하늘' '69' '69' '89' '75.7']\n",
            " ['20232458' '박서연' '52' '93' '73' '72.7']\n",
            " ['20231244' '최수빈' '79' '97' '95' '90.3']\n",
            " ['20251002' '김예린' '55' '74' '61' '63.3']\n",
            " ['20242387' '정민수' '76' '80' '70' '75.3']\n",
            " ['20232499' '장도윤' '67' '89' '55' '70.3']\n",
            " ['20251236' '윤지우' '98' '65' '86' '83.0']\n",
            " ['20242569' '강하늘' '60' '97' '83' '80.0']\n",
            " ['20231288' '조지민' '79' '62' '93' '78.0']] \n",
            "\n",
            "[['20251147' '박세은' '88' '94' '69' '251' '83.7']\n",
            " ['20241129' '이하늘' '69' '69' '89' '227' '75.7']\n",
            " ['20232458' '박서연' '52' '93' '73' '218' '72.7']\n",
            " ['20231244' '최수빈' '79' '97' '95' '271' '90.3']\n",
            " ['20251002' '김예린' '55' '74' '61' '190' '63.3']\n",
            " ['20242387' '정민수' '76' '80' '70' '226' '75.3']\n",
            " ['20232499' '장도윤' '67' '89' '55' '211' '70.3']\n",
            " ['20251236' '윤지우' '98' '65' '86' '249' '83.0']\n",
            " ['20242569' '강하늘' '60' '97' '83' '240' '80.0']\n",
            " ['20231288' '조지민' '79' '62' '93' '234' '78.0']] \n",
            "\n",
            "[['20231244' '최수빈' '79' '97' '95' '271' '90.3']\n",
            " ['20251147' '박세은' '88' '94' '69' '251' '83.7']\n",
            " ['20251236' '윤지우' '98' '65' '86' '249' '83.0']\n",
            " ['20242569' '강하늘' '60' '97' '83' '240' '80.0']\n",
            " ['20231288' '조지민' '79' '62' '93' '234' '78.0']\n",
            " ['20241129' '이하늘' '69' '69' '89' '227' '75.7']\n",
            " ['20242387' '정민수' '76' '80' '70' '226' '75.3']\n",
            " ['20232458' '박서연' '52' '93' '73' '218' '72.7']\n",
            " ['20232499' '장도윤' '67' '89' '55' '211' '70.3']\n",
            " ['20251002' '김예린' '55' '74' '61' '190' '63.3']] \n",
            "\n",
            "[['번호' '이름' '국어' '영어' '수학' '총점' '평균']\n",
            " ['20231244' '최수빈' '79' '97' '95' '271' '90.3']\n",
            " ['20251147' '박세은' '88' '94' '69' '251' '83.7']\n",
            " ['20251236' '윤지우' '98' '65' '86' '249' '83.0']\n",
            " ['20242569' '강하늘' '60' '97' '83' '240' '80.0']\n",
            " ['20231288' '조지민' '79' '62' '93' '234' '78.0']\n",
            " ['20241129' '이하늘' '69' '69' '89' '227' '75.7']\n",
            " ['20242387' '정민수' '76' '80' '70' '226' '75.3']\n",
            " ['20232458' '박서연' '52' '93' '73' '218' '72.7']\n",
            " ['20232499' '장도윤' '67' '89' '55' '211' '70.3']\n",
            " ['20251002' '김예린' '55' '74' '61' '190' '63.3']] \n",
            "\n",
            "--------------------------------\n",
            "평균 최고점자 =  최수빈 (90.3점)\n",
            "평균 최저점자 =  김예린 (63.3점)\n"
          ]
        }
      ],
      "source": [
        "# 1. 국영수 점수 추출 및 int 변환\n",
        "kor = arr[:, 2].astype(int)\n",
        "eng = arr[:, 3].astype(int)\n",
        "mat = arr[:, 4].astype(int)\n",
        "# 2. 총점 및 평균 계산\n",
        "total = kor + eng + mat\n",
        "avg = np.round(total / 3, 1)  # 소수 첫째자리까지 반올림\n",
        "# 3. 총점을 원본 배열에 추가\n",
        "arr_total = np.hstack((arr, total.reshape(-1, 1)))\n",
        "print(arr_total, '\\n')\n",
        "# 4. 평균을 원본 배열에 추가\n",
        "arr_avg = np.hstack((arr, avg.reshape(-1, 1)))\n",
        "print(arr_avg, '\\n')\n",
        "# 5. 총점과 평균을 함께 원본 배열에 추가\n",
        "arr_score = np.hstack((arr, total.reshape(-1, 1), avg.reshape(-1, 1)))\n",
        "print(arr_score, '\\n')\n",
        "# 6. 평균 기준으로 내림차순 정렬\n",
        "arr_sort = arr_score[avg.argsort()[::-1]]\n",
        "print(arr_sort, '\\n')\n",
        "# 7. 필드명(제목 행)을 추가하기\n",
        "header = np.array([\"번호\", \"이름\", \"국어\", \"영어\", \"수학\", \"총점\", \"평균\"])  # 2차원 배열로 변환 (1행 7열)\n",
        "arr_header = np.vstack((header, arr_sort))\n",
        "print(arr_header, '\\n')\n",
        "# 8. 최고점자와 최저점자\n",
        "student_high = arr_sort[0]\n",
        "student_low = arr_sort[-1]\n",
        "\n",
        "print('--------------------------------')\n",
        "print('평균 최고점자 = ', student_high[1], f'({student_high[6]}점)')\n",
        "print('평균 최저점자 = ', student_low[1], f'({student_low[6]}점)')\n"
      ]
    }
  ],
  "metadata": {
    "colab": {
      "provenance": []
    },
    "kernelspec": {
      "display_name": "venv",
      "language": "python",
      "name": "python3"
    },
    "language_info": {
      "codemirror_mode": {
        "name": "ipython",
        "version": 3
      },
      "file_extension": ".py",
      "mimetype": "text/x-python",
      "name": "python",
      "nbconvert_exporter": "python",
      "pygments_lexer": "ipython3",
      "version": "3.9.6"
    }
  },
  "nbformat": 4,
  "nbformat_minor": 0
}
