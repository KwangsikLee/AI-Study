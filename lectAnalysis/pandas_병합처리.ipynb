{
  "cells": [
    {
      "cell_type": "code",
      "execution_count": 1,
      "metadata": {
        "id": "9LorU-hZQJt9"
      },
      "outputs": [],
      "source": [
        "import pandas as pd\n",
        "import numpy as np"
      ]
    },
    {
      "cell_type": "code",
      "execution_count": 2,
      "metadata": {
        "colab": {
          "base_uri": "https://localhost:8080/",
          "height": 434
        },
        "id": "C-2Esle8QMtQ",
        "outputId": "c826d211-0a6e-42fa-d279-bf308f0821ba"
      },
      "outputs": [
        {
          "name": "stdout",
          "output_type": "stream",
          "text": [
            " 원본 데이터:\n",
            "          날짜    온도    습도\n",
            "0 2024-03-01  22.5  65.0\n",
            "1 2024-03-02   NaN  70.0\n",
            "2 2024-03-03  25.1   NaN\n",
            "3 2024-03-04  23.8  68.0\n",
            "4 2024-03-05   NaN  72.0\n",
            "5 2024-03-06  26.2   NaN\n",
            "6 2024-03-07  24.0  69.0\n"
          ]
        },
        {
          "data": {
            "text/html": [
              "<div>\n",
              "<style scoped>\n",
              "    .dataframe tbody tr th:only-of-type {\n",
              "        vertical-align: middle;\n",
              "    }\n",
              "\n",
              "    .dataframe tbody tr th {\n",
              "        vertical-align: top;\n",
              "    }\n",
              "\n",
              "    .dataframe thead th {\n",
              "        text-align: right;\n",
              "    }\n",
              "</style>\n",
              "<table border=\"1\" class=\"dataframe\">\n",
              "  <thead>\n",
              "    <tr style=\"text-align: right;\">\n",
              "      <th></th>\n",
              "      <th>날짜</th>\n",
              "      <th>온도</th>\n",
              "      <th>습도</th>\n",
              "    </tr>\n",
              "  </thead>\n",
              "  <tbody>\n",
              "    <tr>\n",
              "      <th>0</th>\n",
              "      <td>2024-03-01</td>\n",
              "      <td>22.5</td>\n",
              "      <td>65.0</td>\n",
              "    </tr>\n",
              "    <tr>\n",
              "      <th>1</th>\n",
              "      <td>2024-03-02</td>\n",
              "      <td>NaN</td>\n",
              "      <td>70.0</td>\n",
              "    </tr>\n",
              "    <tr>\n",
              "      <th>2</th>\n",
              "      <td>2024-03-03</td>\n",
              "      <td>25.1</td>\n",
              "      <td>NaN</td>\n",
              "    </tr>\n",
              "    <tr>\n",
              "      <th>3</th>\n",
              "      <td>2024-03-04</td>\n",
              "      <td>23.8</td>\n",
              "      <td>68.0</td>\n",
              "    </tr>\n",
              "    <tr>\n",
              "      <th>4</th>\n",
              "      <td>2024-03-05</td>\n",
              "      <td>NaN</td>\n",
              "      <td>72.0</td>\n",
              "    </tr>\n",
              "    <tr>\n",
              "      <th>5</th>\n",
              "      <td>2024-03-06</td>\n",
              "      <td>26.2</td>\n",
              "      <td>NaN</td>\n",
              "    </tr>\n",
              "    <tr>\n",
              "      <th>6</th>\n",
              "      <td>2024-03-07</td>\n",
              "      <td>24.0</td>\n",
              "      <td>69.0</td>\n",
              "    </tr>\n",
              "  </tbody>\n",
              "</table>\n",
              "</div>"
            ],
            "text/plain": [
              "          날짜    온도    습도\n",
              "0 2024-03-01  22.5  65.0\n",
              "1 2024-03-02   NaN  70.0\n",
              "2 2024-03-03  25.1   NaN\n",
              "3 2024-03-04  23.8  68.0\n",
              "4 2024-03-05   NaN  72.0\n",
              "5 2024-03-06  26.2   NaN\n",
              "6 2024-03-07  24.0  69.0"
            ]
          },
          "execution_count": 2,
          "metadata": {},
          "output_type": "execute_result"
        }
      ],
      "source": [
        "dates = pd.date_range('2024-03-01', periods=7, freq='D')\n",
        "temperatures = [22.5, None, 25.1, 23.8, None, 26.2, 24.0]  # None = 결측치\n",
        "humidity = [65, 70, None, 68, 72, None, 69]\n",
        "\n",
        "# 데이터프레임 만들기\n",
        "df = pd.DataFrame({\n",
        "    '날짜': dates,\n",
        "    '온도': temperatures,\n",
        "    '습도': humidity\n",
        "})\n",
        "\n",
        "print(\" 원본 데이터:\")\n",
        "print(df)\n",
        "df"
      ]
    },
    {
      "cell_type": "code",
      "execution_count": 3,
      "metadata": {
        "colab": {
          "base_uri": "https://localhost:8080/",
          "height": 508
        },
        "id": "pp3Mi19QQU2j",
        "outputId": "92e84bf3-6c46-476f-c471-2155d52f396d"
      },
      "outputs": [
        {
          "name": "stdout",
          "output_type": "stream",
          "text": [
            " 결측치 확인:\n",
            "결측치 개수:\n",
            "날짜    0\n",
            "온도    2\n",
            "습도    2\n",
            "dtype: int64\n",
            "\n",
            "결측치가 있는 행:\n",
            "          날짜    온도    습도\n",
            "1 2024-03-02   NaN  70.0\n",
            "2 2024-03-03  25.1   NaN\n",
            "4 2024-03-05   NaN  72.0\n",
            "5 2024-03-06  26.2   NaN\n"
          ]
        },
        {
          "data": {
            "text/html": [
              "<div>\n",
              "<style scoped>\n",
              "    .dataframe tbody tr th:only-of-type {\n",
              "        vertical-align: middle;\n",
              "    }\n",
              "\n",
              "    .dataframe tbody tr th {\n",
              "        vertical-align: top;\n",
              "    }\n",
              "\n",
              "    .dataframe thead th {\n",
              "        text-align: right;\n",
              "    }\n",
              "</style>\n",
              "<table border=\"1\" class=\"dataframe\">\n",
              "  <thead>\n",
              "    <tr style=\"text-align: right;\">\n",
              "      <th></th>\n",
              "      <th>날짜</th>\n",
              "      <th>온도</th>\n",
              "      <th>습도</th>\n",
              "    </tr>\n",
              "  </thead>\n",
              "  <tbody>\n",
              "    <tr>\n",
              "      <th>0</th>\n",
              "      <td>2024-03-01</td>\n",
              "      <td>22.5</td>\n",
              "      <td>65.0</td>\n",
              "    </tr>\n",
              "    <tr>\n",
              "      <th>1</th>\n",
              "      <td>2024-03-02</td>\n",
              "      <td>NaN</td>\n",
              "      <td>70.0</td>\n",
              "    </tr>\n",
              "    <tr>\n",
              "      <th>2</th>\n",
              "      <td>2024-03-03</td>\n",
              "      <td>25.1</td>\n",
              "      <td>NaN</td>\n",
              "    </tr>\n",
              "    <tr>\n",
              "      <th>3</th>\n",
              "      <td>2024-03-04</td>\n",
              "      <td>23.8</td>\n",
              "      <td>68.0</td>\n",
              "    </tr>\n",
              "    <tr>\n",
              "      <th>4</th>\n",
              "      <td>2024-03-05</td>\n",
              "      <td>NaN</td>\n",
              "      <td>72.0</td>\n",
              "    </tr>\n",
              "    <tr>\n",
              "      <th>5</th>\n",
              "      <td>2024-03-06</td>\n",
              "      <td>26.2</td>\n",
              "      <td>NaN</td>\n",
              "    </tr>\n",
              "    <tr>\n",
              "      <th>6</th>\n",
              "      <td>2024-03-07</td>\n",
              "      <td>24.0</td>\n",
              "      <td>69.0</td>\n",
              "    </tr>\n",
              "  </tbody>\n",
              "</table>\n",
              "</div>"
            ],
            "text/plain": [
              "          날짜    온도    습도\n",
              "0 2024-03-01  22.5  65.0\n",
              "1 2024-03-02   NaN  70.0\n",
              "2 2024-03-03  25.1   NaN\n",
              "3 2024-03-04  23.8  68.0\n",
              "4 2024-03-05   NaN  72.0\n",
              "5 2024-03-06  26.2   NaN\n",
              "6 2024-03-07  24.0  69.0"
            ]
          },
          "execution_count": 3,
          "metadata": {},
          "output_type": "execute_result"
        }
      ],
      "source": [
        "# 결측치 확인하기\n",
        "print(\" 결측치 확인:\")\n",
        "print(\"결측치 개수:\")\n",
        "print(df.isnull().sum())\n",
        "print()\n",
        "\n",
        "print(\"결측치가 있는 행:\")\n",
        "print(df[df.isnull().any(axis=1)])\n",
        "df\n"
      ]
    },
    {
      "cell_type": "code",
      "execution_count": 4,
      "metadata": {
        "colab": {
          "base_uri": "https://localhost:8080/"
        },
        "id": "g7B7M1O8QZbW",
        "outputId": "60007d5d-8ac9-4f9f-9eca-286701f87384"
      },
      "outputs": [
        {
          "name": "stdout",
          "output_type": "stream",
          "text": [
            "방법 : 평균값으로 채우기\n",
            "온도 평균: 24.3도\n",
            "습도 평균: 68.8%\n",
            "          날짜     온도    습도\n",
            "0 2024-03-01  22.50  65.0\n",
            "1 2024-03-02  24.32  70.0\n",
            "2 2024-03-03  25.10  68.8\n",
            "3 2024-03-04  23.80  68.0\n",
            "4 2024-03-05  24.32  72.0\n",
            "5 2024-03-06  26.20  68.8\n",
            "6 2024-03-07  24.00  69.0\n",
            "\n",
            "방법 : 앞뒤 값의 평균(선형 보간)으로 채우기\n",
            "          날짜    온도    습도\n",
            "0 2024-03-01  22.5  65.0\n",
            "1 2024-03-02  23.8  70.0\n",
            "2 2024-03-03  25.1  69.0\n",
            "3 2024-03-04  23.8  68.0\n",
            "4 2024-03-05  25.0  72.0\n",
            "5 2024-03-06  26.2  70.5\n",
            "6 2024-03-07  24.0  69.0\n"
          ]
        }
      ],
      "source": [
        "# 방법 : 평균값으로 채우기\n",
        "df_mean = df.copy()\n",
        "df_mean['온도'] = df_mean['온도'].fillna(df_mean['온도'].mean())\n",
        "df_mean['습도'] = df_mean['습도'].fillna(df_mean['습도'].mean())\n",
        "\n",
        "print(\"방법 : 평균값으로 채우기\")\n",
        "print(f\"온도 평균: {df['온도'].mean():.1f}도\")\n",
        "print(f\"습도 평균: {df['습도'].mean():.1f}%\")\n",
        "print(df_mean)\n",
        "print()\n",
        "\n",
        "# ...existing code...\n",
        "df_interp = df.copy()\n",
        "df_interp['온도'] = df_interp['온도'].interpolate(method='linear')\n",
        "df_interp['습도'] = df_interp['습도'].interpolate(method='linear')\n",
        "\n",
        "print(\"방법 : 앞뒤 값의 평균(선형 보간)으로 채우기\")\n",
        "print(df_interp)\n",
        "# ...existing code..."
      ]
    },
    {
      "cell_type": "markdown",
      "metadata": {
        "id": "pknf5LuxQjmH"
      },
      "source": [
        "데이터 병합하기"
      ]
    },
    {
      "cell_type": "code",
      "execution_count": 5,
      "metadata": {
        "id": "cdCUUTYBQgxG"
      },
      "outputs": [],
      "source": [
        "# 서울 온도 데이터\n",
        "seoul_data = pd.DataFrame({\n",
        "    '날짜': ['2024-03-01', '2024-03-02', '2024-03-03'],\n",
        "    '서울_온도': [20, 22, 21],\n",
        "    '서울_습도': [65, 70, 68]\n",
        "})\n"
      ]
    },
    {
      "cell_type": "code",
      "execution_count": 6,
      "metadata": {
        "id": "c_MqVxNoQiAS"
      },
      "outputs": [],
      "source": [
        "# 부산 온도 데이터\n",
        "busan_data = pd.DataFrame({\n",
        "    '날짜': ['2024-03-01', '2024-03-02', '2024-03-04'],  # 3일은 없고 4일은 있음\n",
        "    '부산_온도': [25, 27, 26],\n",
        "    '부산_습도': [75, 80, 78]\n",
        "})"
      ]
    },
    {
      "cell_type": "code",
      "execution_count": 7,
      "metadata": {
        "colab": {
          "base_uri": "https://localhost:8080/"
        },
        "id": "0IbcaHnyQnKF",
        "outputId": "fe0896a2-c885-4935-99ac-ccef3896e368"
      },
      "outputs": [
        {
          "name": "stdout",
          "output_type": "stream",
          "text": [
            "서울 데이터:\n",
            "           날짜  서울_온도  서울_습도\n",
            "0  2024-03-01     20     65\n",
            "1  2024-03-02     22     70\n",
            "2  2024-03-03     21     68\n",
            "\n",
            " 부산 데이터:\n",
            "           날짜  부산_온도  부산_습도\n",
            "0  2024-03-01     25     75\n",
            "1  2024-03-02     27     80\n",
            "2  2024-03-04     26     78\n",
            "\n"
          ]
        }
      ],
      "source": [
        "print(\"서울 데이터:\")\n",
        "print(seoul_data)\n",
        "print()\n",
        "\n",
        "print(\" 부산 데이터:\")\n",
        "print(busan_data)\n",
        "print()"
      ]
    },
    {
      "cell_type": "code",
      "execution_count": 8,
      "metadata": {
        "colab": {
          "base_uri": "https://localhost:8080/"
        },
        "id": "riusAzcKQuAI",
        "outputId": "56b8d94e-5baa-40a4-8b48-da723d02f0b8"
      },
      "outputs": [
        {
          "name": "stdout",
          "output_type": "stream",
          "text": [
            "방법 : Inner Join (둘 다 있는 날짜만)\n",
            "           날짜  서울_온도  서울_습도  부산_온도  부산_습도\n",
            "0  2024-03-01     20     65     25     75\n",
            "1  2024-03-02     22     70     27     80\n",
            "\n"
          ]
        }
      ],
      "source": [
        "# 병합 방법 : inner join (둘 다 있는 날짜만)\n",
        "merged_inner = pd.merge(seoul_data, busan_data, on='날짜', how='inner')\n",
        "print(\"방법 : Inner Join (둘 다 있는 날짜만)\")\n",
        "print(merged_inner)\n",
        "print()"
      ]
    },
    {
      "cell_type": "code",
      "execution_count": 9,
      "metadata": {
        "colab": {
          "base_uri": "https://localhost:8080/"
        },
        "id": "AZ85RDkVQ0dA",
        "outputId": "c3585682-e2d9-4507-bd62-8d15cb0f4959"
      },
      "outputs": [
        {
          "name": "stdout",
          "output_type": "stream",
          "text": [
            "방법 : Outer Join (모든 날짜 포함)\n",
            "           날짜  서울_온도  서울_습도  부산_온도  부산_습도\n",
            "0  2024-03-01   20.0   65.0   25.0   75.0\n",
            "1  2024-03-02   22.0   70.0   27.0   80.0\n",
            "2  2024-03-03   21.0   68.0    NaN    NaN\n",
            "3  2024-03-04    NaN    NaN   26.0   78.0\n",
            "\n"
          ]
        }
      ],
      "source": [
        "# 병합 방법 : outer join (모든 날짜 포함)\n",
        "merged_outer = pd.merge(seoul_data, busan_data, on='날짜', how='outer')\n",
        "print(\"방법 : Outer Join (모든 날짜 포함)\")\n",
        "print(merged_outer)\n",
        "print()"
      ]
    },
    {
      "cell_type": "code",
      "execution_count": 10,
      "metadata": {
        "colab": {
          "base_uri": "https://localhost:8080/"
        },
        "id": "1cz4JpjdQ-WK",
        "outputId": "2b2ba7af-dc9d-4a7a-84e6-5178e119d24c"
      },
      "outputs": [
        {
          "name": "stdout",
          "output_type": "stream",
          "text": [
            "병합 후 결측치를 0으로 채우기:\n",
            "           날짜  서울_온도  서울_습도  부산_온도  부산_습도\n",
            "0  2024-03-01   20.0   65.0   25.0   75.0\n",
            "1  2024-03-02   22.0   70.0   27.0   80.0\n",
            "2  2024-03-03   21.0   68.0    0.0    0.0\n",
            "3  2024-03-04    0.0    0.0   26.0   78.0\n"
          ]
        }
      ],
      "source": [
        "# 병합 후 결측치 처리\n",
        "merged_filled = merged_outer.fillna(0)  # 결측치를 0으로 채우기\n",
        "print(\"병합 후 결측치를 0으로 채우기:\")\n",
        "print(merged_filled)"
      ]
    }
  ],
  "metadata": {
    "colab": {
      "provenance": []
    },
    "kernelspec": {
      "display_name": "venv",
      "language": "python",
      "name": "python3"
    },
    "language_info": {
      "codemirror_mode": {
        "name": "ipython",
        "version": 3
      },
      "file_extension": ".py",
      "mimetype": "text/x-python",
      "name": "python",
      "nbconvert_exporter": "python",
      "pygments_lexer": "ipython3",
      "version": "3.9.6"
    }
  },
  "nbformat": 4,
  "nbformat_minor": 0
}
