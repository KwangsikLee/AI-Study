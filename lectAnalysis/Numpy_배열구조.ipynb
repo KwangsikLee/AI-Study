{
  "cells": [
    {
      "cell_type": "markdown",
      "metadata": {
        "id": "btfobu-NFCw1"
      },
      "source": [
        "# shape : 배열의 크기 확인"
      ]
    },
    {
      "cell_type": "markdown",
      "metadata": {
        "id": "C0nBCtfOFG74"
      },
      "source": [
        "넘파이에서 배열의 구조(행과 열의 개수)를 알고 싶을 때는 shape 속성을 사용한다.\n",
        "\n",
        "shape 속성은 배열의 차원별 크기를 튜플 형태로 반환한다."
      ]
    },
    {
      "cell_type": "code",
      "execution_count": 1,
      "metadata": {
        "colab": {
          "base_uri": "https://localhost:8080/"
        },
        "id": "smYrqplZE6sy",
        "outputId": "f5535a66-5afa-4970-b6da-c456ce016b76"
      },
      "outputs": [
        {
          "name": "stdout",
          "output_type": "stream",
          "text": [
            "(3, 4)\n",
            "(3, 4)\n"
          ]
        }
      ],
      "source": [
        "import numpy as np\n",
        "\n",
        "arr = np.array([\n",
        "    [1, 2, 3, 4],\n",
        "    [5, 6, 7, 8],\n",
        "    [9, 10, 11, 12]\n",
        "])\n",
        "\n",
        "print(arr.shape)        # 출력 : (3, 4)\n",
        "print(np.shape(arr))    # 출력 : (3, 4)\n"
      ]
    },
    {
      "cell_type": "markdown",
      "metadata": {
        "id": "p3CTqeanFIEX"
      },
      "source": [
        "# ndim : 배열의 차원 확인"
      ]
    },
    {
      "cell_type": "markdown",
      "metadata": {
        "id": "LYSvOO6-FPFw"
      },
      "source": [
        "ndim 은 넘파이 배열이 몇 차원(몇 개의 축)인지 알려주는 속성이다.\n",
        "\n",
        "shape는 배열의 각 차원이 몇 개의 요소를 갖고 있는지 구조(모양) 를 튜플로 반환한다.\n",
        "\n",
        "예를 들어 (4, 3)은 4행 3열 구조이고, ndim은 이것이 2차원 배열이라는 사실만 알려준다."
      ]
    },
    {
      "cell_type": "code",
      "execution_count": 12,
      "metadata": {
        "colab": {
          "base_uri": "https://localhost:8080/"
        },
        "id": "CLpux9rOFKO4",
        "outputId": "8842239f-a41c-4464-cec8-7c3e95b3f8f7"
      },
      "outputs": [
        {
          "name": "stdout",
          "output_type": "stream",
          "text": [
            "0\n",
            "1\n",
            "2\n",
            "3\n"
          ]
        }
      ],
      "source": [
        "import numpy as np\n",
        "\n",
        "arr1 = np.array(7)                    # 0차원\n",
        "arr2 = np.array([1, 2, 3])            # 1차원\n",
        "arr3 = np.array([[1, 2], [3, 4]])     # 2차원\n",
        "arr4 = np.array([[[111, 112, 113],\n",
        "                 [121, 122, 123]],\n",
        "                [[211, 212, 213],\n",
        "                 [221, 222, 223]]])\n",
        "\n",
        "print(arr1.ndim)    # 출력 : 0\n",
        "print(arr2.ndim)    # 출력 : 1\n",
        "print(arr3.ndim)    # 출력 : 2\n",
        "print(arr4.ndim)    # 출력 : 3\n"
      ]
    },
    {
      "cell_type": "code",
      "execution_count": 15,
      "metadata": {
        "colab": {
          "base_uri": "https://localhost:8080/"
        },
        "id": "Ug74Z65EFMck",
        "outputId": "dc4b59c5-78fd-43ac-8677-7da632ec7af0"
      },
      "outputs": [
        {
          "name": "stdout",
          "output_type": "stream",
          "text": [
            "[[ 1  2  3  4]\n",
            " [ 5  6  7  8]\n",
            " [ 9 10 11 12]] \n",
            "\n",
            "[[ 1  2]\n",
            " [ 3  4]\n",
            " [ 5  6]\n",
            " [ 7  8]\n",
            " [ 9 10]\n",
            " [11 12]] \n",
            "\n",
            "2\n",
            "(6, 2)\n"
          ]
        }
      ],
      "source": [
        "import numpy as np\n",
        "arr = np.array([1, 2, 3, 4, 5, 6, 7, 8, 9, 10, 11, 12])\n",
        "\n",
        "new1 = arr.reshape(3, 4)    # 2차원 : 4행 3열\n",
        "new2 = arr.reshape(6, 2)    # 2차원 : 2행 6열\n",
        "\n",
        "print(new1, '\\n')     # 출력 : 4행 3열 데이터\n",
        "print(new2, '\\n')     # 출력 : 2행 6열 데이터\n",
        "\n",
        "print(new1.ndim)      # 출력 : 2\n",
        "print(new2.shape)     # 출력 : (2, 6)\n"
      ]
    },
    {
      "cell_type": "markdown",
      "metadata": {
        "id": "nVvEtSweFRHU"
      },
      "source": [
        "# reshape() : 배열 모양 변경"
      ]
    },
    {
      "cell_type": "markdown",
      "metadata": {
        "id": "ATsPlGHSFZCW"
      },
      "source": [
        "배열 재구성(reshape)은 데이터를 변경하지 않고 배열의 크기를 변경하는 것을 말한다.\n",
        "\n",
        "reshape 는 배열의 차원과 구조를 원하는 모양으로 재구성하는 속성이다.\n",
        "원소 개수는 유지되어야 하며, 자동 계산을 위해 -1을 사용할 수도 있다."
      ]
    },
    {
      "cell_type": "code",
      "execution_count": 21,
      "metadata": {
        "colab": {
          "base_uri": "https://localhost:8080/"
        },
        "id": "P3xd54pnFSVG",
        "outputId": "3ab4436b-f83f-4d40-cb20-26d79f2dfa98"
      },
      "outputs": [
        {
          "name": "stdout",
          "output_type": "stream",
          "text": [
            "[1 2 3 4]\n",
            ">>>>>>>>>>>>>>>\n",
            "[[ 1  2  3]\n",
            " [ 4  5  6]\n",
            " [ 7  8  9]\n",
            " [10 11 12]]\n",
            "[[ 1  2]\n",
            " [ 3  4]\n",
            " [ 5  6]\n",
            " [ 7  8]\n",
            " [ 9 10]\n",
            " [11 12]]\n",
            "[[ 1  2  3  4]\n",
            " [ 5  6  7  8]\n",
            " [ 9 10 11 12]]\n"
          ]
        }
      ],
      "source": [
        "import numpy as np\n",
        "arr = np.array([1, 2, 3, 4, 5, 6, 7, 8, 9, 10, 11, 12])\n",
        "arr_2d = np.array([[1, 2], [3, 4]])     # 2차원\n",
        "\n",
        "arr_cv1 = arr_2d.reshape(-1)\n",
        "print(arr_cv1)\n",
        "print('>>>>>>>>>>>>>>>')\n",
        "\n",
        "arr1 = arr.reshape(4, -1)\n",
        "print(arr1)         # 출력 : 2행, 3열의 2차원 배열로 변경\n",
        "# 출력:\n",
        "# [[1 2 3]\n",
        "#  [4 5 6]]\n",
        "\n",
        "arr2 = arr.reshape(-1, 2)    # -1은 자동으로 계산하라는 의미\n",
        "print(arr2)    # 출력 : (?, 2)에서 ? 자리에 알맞은 수가 자동으로 채워짐\n",
        "# 출력:\n",
        "# [[1 2]\n",
        "#  [3 4]\n",
        "#  [5 6]]\n",
        "\n",
        "arr3 = arr.reshape(-1, 4)    # -1은 자동으로 계산하라는 의미\n",
        "print(arr3)    # 출력 : (?, 2)에서 ? 자리에 알맞은 수가 자동으로 채워짐\n"
      ]
    },
    {
      "cell_type": "code",
      "execution_count": 25,
      "metadata": {
        "colab": {
          "base_uri": "https://localhost:8080/"
        },
        "id": "ShL1oQOT9DOR",
        "outputId": "75fb1a78-8838-4ce3-8de5-480df050cac2"
      },
      "outputs": [
        {
          "name": "stdout",
          "output_type": "stream",
          "text": [
            "흑백 64픽셀 데이터 :  [ 1  2  3  4  5  6  7  8  9 10 11 12 13 14 15 16 17 18 19 20 21 22 23 24\n",
            " 25 26 27 28 29 30 31 32 33 34 35 36 37 38 39 40 41 42 43 44 45 46 47 48\n",
            " 49 50 51 52 53 54 55 56 57 58 59 60 61 62 63]\n",
            "3채널 64픽셀 데이터 :  [[ 1  2  3]\n",
            " [ 4  5  6]\n",
            " [ 7  8  9]\n",
            " [10 11 12]\n",
            " [13 14 15]\n",
            " [16 17 18]\n",
            " [19 20 21]\n",
            " [22 23 24]\n",
            " [25 26 27]\n",
            " [28 29 30]\n",
            " [31 32 33]\n",
            " [34 35 36]\n",
            " [37 38 39]\n",
            " [40 41 42]\n",
            " [43 44 45]\n",
            " [46 47 48]\n",
            " [49 50 51]\n",
            " [52 53 54]\n",
            " [55 56 57]\n",
            " [58 59 60]\n",
            " [61 62 63]]\n"
          ]
        }
      ],
      "source": [
        "img_rd_data = np.arange(1, 64)\n",
        "print (\"흑백 64픽셀 데이터 : \", img_rd_data)\n",
        "\n",
        "rgb_data = img_rd_data.reshape(-1,3)\n",
        "print (\"3채널 64픽셀 데이터 : \", rgb_data)"
      ]
    },
    {
      "cell_type": "code",
      "execution_count": 29,
      "metadata": {
        "colab": {
          "base_uri": "https://localhost:8080/"
        },
        "id": "JnWZKDZ6-oDK",
        "outputId": "e9d402a5-055a-41c9-e2ac-a6878f28f15a"
      },
      "outputs": [
        {
          "name": "stdout",
          "output_type": "stream",
          "text": [
            "주별 내역 :  [[10 20 40 29 84 19 23]\n",
            " [10 20 40 29 84 19 23]\n",
            " [10 20 40 29 84 19 23]\n",
            " [10 20 40 29 84 19 23]]\n",
            "평균 :  [32.14285714 32.14285714 32.14285714 32.14285714]\n"
          ]
        }
      ],
      "source": [
        "daily_cnt = np.array([\n",
        "    10, 20, 40, 29, 84,19, 23, 10, 20, 40, 29, 84,19, 23, 10, 20, 40, 29, 84,19, 23,10, 20, 40, 29, 84,19, 23\n",
        "])\n",
        "weekly_cnt = daily_cnt.reshape(-1,7)\n",
        "print('주별 내역 : ', weekly_cnt)\n",
        "\n",
        "weekly_avg = weekly_cnt.mean(axis=1)\n",
        "print('평균 : ', weekly_avg)\n"
      ]
    },
    {
      "cell_type": "markdown",
      "metadata": {
        "id": "AGuv3S4bFbcc"
      },
      "source": [
        "데이터 12개가 저장된 1차원 배열을 (4, 3) 형태 또는 (2, 6) 형태의 2차원 배열로 재구성한다.\n",
        "\n",
        "방법 1 : 넘파이 배열로 변환 후 reshape"
      ]
    },
    {
      "cell_type": "code",
      "execution_count": 5,
      "metadata": {
        "colab": {
          "base_uri": "https://localhost:8080/"
        },
        "id": "aNKLT0SBFUZ7",
        "outputId": "1fe0ab35-c0dd-4d8c-f4df-ce393be7bbf1"
      },
      "outputs": [
        {
          "name": "stdout",
          "output_type": "stream",
          "text": [
            "[[ 1  2  3]\n",
            " [ 4  5  6]\n",
            " [ 7  8  9]\n",
            " [10 11 12]] \n",
            "\n",
            "[[ 1  2  3  4  5  6]\n",
            " [ 7  8  9 10 11 12]]\n"
          ]
        }
      ],
      "source": [
        "import numpy as np\n",
        "arr = np.array([1, 2, 3, 4, 5, 6, 7, 8, 9, 10, 11, 12])\n",
        "\n",
        "new1 = arr.reshape(4, 3)\n",
        "new2 = arr.reshape(2, 6)\n",
        "\n",
        "print(new1, '\\n')   # 출력 : 4행 3열 데이터\n",
        "print(new2)         # 출력 : 2행 6열 데이터\n"
      ]
    },
    {
      "cell_type": "markdown",
      "metadata": {
        "id": "gyNVYvnRFde9"
      },
      "source": [
        "방법 2 : 리스트를 reshape에 바로 넣기"
      ]
    },
    {
      "cell_type": "code",
      "execution_count": 6,
      "metadata": {
        "colab": {
          "base_uri": "https://localhost:8080/"
        },
        "id": "gixCvYjaFV_W",
        "outputId": "9cad60c6-abe3-4800-87bd-943ac6512b09"
      },
      "outputs": [
        {
          "name": "stdout",
          "output_type": "stream",
          "text": [
            "[[ 1  2  3]\n",
            " [ 4  5  6]\n",
            " [ 7  8  9]\n",
            " [10 11 12]] \n",
            "\n",
            "[[ 1  2  3  4  5  6]\n",
            " [ 7  8  9 10 11 12]]\n"
          ]
        }
      ],
      "source": [
        "a = [1, 2, 3, 4, 5, 6, 7, 8, 9, 10, 11, 12]     # 리스트 형태\n",
        "\n",
        "new1 = np.reshape(a, (4, 3))\n",
        "new2 = np.reshape(a, (2, 6))\n",
        "\n",
        "print(new1, '\\n')   # 출력 : 4행 3열 데이터\n",
        "print(new2)         # 출력 : 2행 6열 데이터\n"
      ]
    },
    {
      "cell_type": "markdown",
      "metadata": {
        "id": "arUehxD8FfA9"
      },
      "source": [
        "데이터 12개가 저장된 1차원 배열을 (2, 3, 2) 형태의 3차원 배열로 재구성한다."
      ]
    },
    {
      "cell_type": "code",
      "execution_count": 7,
      "metadata": {
        "colab": {
          "base_uri": "https://localhost:8080/"
        },
        "id": "hY2SMLUwFXFm",
        "outputId": "b24d33cf-fc7e-435c-bb99-089aec0665f8"
      },
      "outputs": [
        {
          "data": {
            "text/plain": [
              "array([[[ 1,  2],\n",
              "        [ 3,  4],\n",
              "        [ 5,  6]],\n",
              "\n",
              "       [[ 7,  8],\n",
              "        [ 9, 10],\n",
              "        [11, 12]]])"
            ]
          },
          "execution_count": 7,
          "metadata": {},
          "output_type": "execute_result"
        }
      ],
      "source": [
        "import numpy as np\n",
        "arr = np.array([1, 2, 3, 4, 5, 6, 7, 8, 9, 10, 11, 12])\n",
        "\n",
        "newarr = arr.reshape(2, 3, 2)\n",
        "newarr      # 출력 : 3차원 배열 데이터\n"
      ]
    },
    {
      "cell_type": "markdown",
      "metadata": {
        "id": "q_Kgf1z-Fmqu"
      },
      "source": [
        "# flatten() : 배열을 1차원으로 펼치기"
      ]
    },
    {
      "cell_type": "code",
      "execution_count": 8,
      "metadata": {
        "colab": {
          "base_uri": "https://localhost:8080/"
        },
        "id": "x-xMnjk2Fn-M",
        "outputId": "e52c6fc7-de95-4571-b70b-80e27c536fc2"
      },
      "outputs": [
        {
          "name": "stdout",
          "output_type": "stream",
          "text": [
            "[1 2 3 4]\n"
          ]
        }
      ],
      "source": [
        "arr = np.array([[1, 2], [3, 4]])\n",
        "\n",
        "dap = arr.flatten()\n",
        "print(dap)    # 출력 : [1 2 3 4]\n"
      ]
    },
    {
      "cell_type": "markdown",
      "metadata": {
        "id": "227ZF9qlFpKS"
      },
      "source": [
        "# transpose() : 전치 (행 ↔ 열 교환)"
      ]
    },
    {
      "cell_type": "code",
      "execution_count": 9,
      "metadata": {
        "colab": {
          "base_uri": "https://localhost:8080/"
        },
        "id": "a1Qv5BBdFpC3",
        "outputId": "5a774138-b198-4dc1-e3bd-6d24d25c095b"
      },
      "outputs": [
        {
          "name": "stdout",
          "output_type": "stream",
          "text": [
            "[[1 4]\n",
            " [2 5]\n",
            " [3 6]]\n"
          ]
        }
      ],
      "source": [
        "arr = np.array([[1, 2, 3], [4, 5, 6]])\n",
        "\n",
        "dap = arr.transpose()\n",
        "print(dap)\n",
        "# 출력 :\n",
        "# [[1 4]\n",
        "#  [2 5]\n",
        "#  [3 6]]\n"
      ]
    },
    {
      "cell_type": "markdown",
      "metadata": {
        "id": "yIQgevmCFvLI"
      },
      "source": [
        "# 배열의 차원 수를 확장하기"
      ]
    },
    {
      "cell_type": "code",
      "execution_count": 10,
      "metadata": {
        "colab": {
          "base_uri": "https://localhost:8080/"
        },
        "id": "OXjOmNTBFxAy",
        "outputId": "99fc720a-aea5-4812-d68a-dc8e7478fdb7"
      },
      "outputs": [
        {
          "name": "stdout",
          "output_type": "stream",
          "text": [
            "(6,)\n",
            "(6, 1)\n"
          ]
        }
      ],
      "source": [
        "import numpy as np\n",
        "\n",
        "arr = np.array([1, 2, 3, 4, 5, 6])\n",
        "print(arr.shape)              # 출력 : (6,) → 1차원\n",
        "\n",
        "arr_col = arr[:, np.newaxis]  # np.newaxis가 뒤에 있으므로 → 열 차원을 추가\n",
        "print(arr_col.shape)          # 출력 : (6, 1) → 열 벡터 (2차원)\n",
        "\n",
        "# arr.reshape(-1, 1)은 동일한 결과를 얻을 수 있다.\n",
        "# 가상 출력 :\n",
        "# [[1]\n",
        "#  [2]\n",
        "#  [3]\n",
        "#  [4]\n",
        "#  [5]\n",
        "#  [6]]\n"
      ]
    },
    {
      "cell_type": "code",
      "execution_count": 2,
      "metadata": {
        "colab": {
          "base_uri": "https://localhost:8080/"
        },
        "id": "f7Wtd_-sFyMM",
        "outputId": "0251bdd9-dc87-41de-efc2-048a5c058a35"
      },
      "outputs": [
        {
          "ename": "NameError",
          "evalue": "name 'arr' is not defined",
          "output_type": "error",
          "traceback": [
            "\u001b[0;31m---------------------------------------------------------------------------\u001b[0m",
            "\u001b[0;31mNameError\u001b[0m                                 Traceback (most recent call last)",
            "Cell \u001b[0;32mIn[2], line 3\u001b[0m\n\u001b[1;32m      1\u001b[0m \u001b[38;5;28;01mimport\u001b[39;00m\u001b[38;5;250m \u001b[39m\u001b[38;5;21;01mnumpy\u001b[39;00m\u001b[38;5;250m \u001b[39m\u001b[38;5;28;01mas\u001b[39;00m\u001b[38;5;250m \u001b[39m\u001b[38;5;21;01mnp\u001b[39;00m\n\u001b[0;32m----> 3\u001b[0m arr_row \u001b[38;5;241m=\u001b[39m \u001b[43marr\u001b[49m[np\u001b[38;5;241m.\u001b[39mnewaxis, :]  \u001b[38;5;66;03m# np.newaxis가 앞에 있으므로 → 행 차원을 추가\u001b[39;00m\n\u001b[1;32m      4\u001b[0m \u001b[38;5;28mprint\u001b[39m(arr_row\u001b[38;5;241m.\u001b[39mshape)          \u001b[38;5;66;03m# 출력 : (1, 6) → 행 벡터 (2차원)\u001b[39;00m\n\u001b[1;32m      6\u001b[0m \u001b[38;5;66;03m# arr.reshape(1, -1)은 동일한 결과를 얻을 수 있다.\u001b[39;00m\n\u001b[1;32m      7\u001b[0m \u001b[38;5;66;03m# 가상 출력 : [1 2 3 4 5 6]\u001b[39;00m\n",
            "\u001b[0;31mNameError\u001b[0m: name 'arr' is not defined"
          ]
        }
      ],
      "source": [
        "import numpy as np\n",
        "\n",
        "arr_row = arr[np.newaxis, :]  # np.newaxis가 앞에 있으므로 → 행 차원을 추가\n",
        "print(arr_row.shape)          # 출력 : (1, 6) → 행 벡터 (2차원)\n",
        "\n",
        "# arr.reshape(1, -1)은 동일한 결과를 얻을 수 있다.\n",
        "# 가상 출력 : [1 2 3 4 5 6]\n"
      ]
    },
    {
      "cell_type": "code",
      "execution_count": null,
      "metadata": {},
      "outputs": [
        {
          "name": "stdout",
          "output_type": "stream",
          "text": [
            "학생별 점수 (행: 학생, 열: 과목):\n",
            "[[90 85 88]\n",
            " [78 92 85]\n",
            " [88 79 91]\n",
            " [95 88 87]\n",
            " [82 90 93]]\n",
            "Shape: (5, 3)\n",
            "\n",
            "과목별 점수 (행: 과목, 열: 학생):\n",
            "[[90 78 88 95 82]\n",
            " [85 92 79 88 90]\n",
            " [88 85 91 87 93]]\n",
            "Shape: (3, 5)\n",
            "수학 평균: 86.6\n",
            "영어 평균: 86.8\n",
            "과학 평균: 88.8\n",
            "학생1 평균: 87.7\n",
            "학생2 평균: 85.0\n",
            "학생3 평균: 86.0\n",
            "학생4 평균: 90.0\n",
            "학생5 평균: 88.3\n"
          ]
        }
      ],
      "source": [
        "import numpy as np\n",
        "# 학생별 과목 점수 데이터\n",
        "students_scores = np.array([\n",
        "    [90, 85, 88],  # 학생1: 수학, 영어, 과학\n",
        "    [78, 92, 85],  # 학생2\n",
        "    [88, 79, 91],  # 학생3\n",
        "    [95, 88, 87],  # 학생4\n",
        "    [82, 90, 93]   # 학생5\n",
        "])\n",
        "\n",
        "print(\"학생별 점수 (행: 학생, 열: 과목):\")\n",
        "print(students_scores)\n",
        "print(\"Shape:\", students_scores.shape)  # (5, 3)\n",
        "\n",
        "# 과목별 점수로 변환\n",
        "subjects_scores = students_scores.T #students_scores.transpose()\n",
        "print(\"\\n과목별 점수 (행: 과목, 열: 학생):\")\n",
        "print(subjects_scores)\n",
        "print(\"Shape:\", subjects_scores.shape)  # (3, 5)\n",
        "\n",
        "# 과목별 평균 계산\n",
        "subject_means = np.mean(subjects_scores, axis=1)\n",
        "subjects = ['수학', '영어', '과학']\n",
        "for i, subject in enumerate(subjects):\n",
        "    print(f\"{subject} 평균: {subject_means[i]:.1f}\")\n",
        "\n",
        "# 학생별 평균 계산\n",
        "student_means = np.mean(students_scores, axis=1)\n",
        "for i, mean in enumerate(student_means):\n",
        "    print(f\"학생{i+1} 평균: {mean:.1f}\")"
      ]
    },
    {
      "cell_type": "code",
      "execution_count": 4,
      "metadata": {},
      "outputs": [
        {
          "name": "stdout",
          "output_type": "stream",
          "text": [
            "월별 제품 판매량:\n",
            "1월: [100 120 110 130]\n",
            "2월: [110 130 120 140]\n",
            "3월: [120 125 130 145]\n",
            "4월: [130 135 125 150]\n",
            "5월: [125 140 135 155]\n",
            "6월: [135 145 140 160]\n",
            "\n",
            "제품별 월간 판매량:\n",
            "제품A: [100 110 120 130 125 135]\n",
            "제품B: [120 130 125 135 140 145]\n",
            "제품C: [110 120 130 125 135 140]\n",
            "제품D: [130 140 145 150 155 160]\n",
            "\n",
            "제품별 통계:\n",
            "제품A: 총 720개, 평균 120.0개/월\n",
            "제품B: 총 795개, 평균 132.5개/월\n",
            "제품C: 총 760개, 평균 126.7개/월\n",
            "제품D: 총 880개, 평균 146.7개/월\n"
          ]
        }
      ],
      "source": [
        "# 판매 데이터 (월별 제품 판매량)\n",
        "sales_data = np.array([\n",
        "    [100, 120, 110, 130],  # 1월: 제품A,B,C,D\n",
        "    [110, 130, 120, 140],  # 2월\n",
        "    [120, 125, 130, 145],  # 3월\n",
        "    [130, 135, 125, 150],  # 4월\n",
        "    [125, 140, 135, 155],  # 5월\n",
        "    [135, 145, 140, 160]   # 6월\n",
        "])\n",
        "\n",
        "months = ['1월', '2월', '3월', '4월', '5월', '6월']\n",
        "products = ['제품A', '제품B', '제품C', '제품D']\n",
        "\n",
        "print(\"월별 제품 판매량:\")\n",
        "for i, month in enumerate(months):\n",
        "    print(f\"{month}: {sales_data[i]}\")\n",
        "\n",
        "# 제품별 월간 판매량으로 전환\n",
        "product_sales = sales_data.T\n",
        "print(\"\\n제품별 월간 판매량:\")\n",
        "for i, product in enumerate(products):\n",
        "    print(f\"{product}: {product_sales[i]}\")\n",
        "    \n",
        "# 제품별 총 판매량과 평균\n",
        "print(\"\\n제품별 통계:\")\n",
        "for i, product in enumerate(products):\n",
        "    total = np.sum(product_sales[i])\n",
        "    avg = np.mean(product_sales[i])\n",
        "    print(f\"{product}: 총 {total}개, 평균 {avg:.1f}개/월\")"
      ]
    }
  ],
  "metadata": {
    "colab": {
      "provenance": []
    },
    "kernelspec": {
      "display_name": "venv",
      "language": "python",
      "name": "python3"
    },
    "language_info": {
      "codemirror_mode": {
        "name": "ipython",
        "version": 3
      },
      "file_extension": ".py",
      "mimetype": "text/x-python",
      "name": "python",
      "nbconvert_exporter": "python",
      "pygments_lexer": "ipython3",
      "version": "3.9.6"
    }
  },
  "nbformat": 4,
  "nbformat_minor": 0
}
