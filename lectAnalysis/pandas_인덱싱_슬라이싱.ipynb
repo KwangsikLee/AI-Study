{
  "cells": [
    {
      "cell_type": "markdown",
      "metadata": {
        "id": "8i6PbUZzJdIJ"
      },
      "source": [
        "# 특정컬럼\n"
      ]
    },
    {
      "cell_type": "code",
      "execution_count": 1,
      "metadata": {
        "colab": {
          "base_uri": "https://localhost:8080/",
          "height": 268
        },
        "id": "-Phh9kvMJA6W",
        "outputId": "b98dad32-06d3-46c3-8461-4951a236cacc"
      },
      "outputs": [
        {
          "data": {
            "text/html": [
              "<div>\n",
              "<style scoped>\n",
              "    .dataframe tbody tr th:only-of-type {\n",
              "        vertical-align: middle;\n",
              "    }\n",
              "\n",
              "    .dataframe tbody tr th {\n",
              "        vertical-align: top;\n",
              "    }\n",
              "\n",
              "    .dataframe thead th {\n",
              "        text-align: right;\n",
              "    }\n",
              "</style>\n",
              "<table border=\"1\" class=\"dataframe\">\n",
              "  <thead>\n",
              "    <tr style=\"text-align: right;\">\n",
              "      <th></th>\n",
              "      <th>성명</th>\n",
              "      <th>나이</th>\n",
              "      <th>몸무게</th>\n",
              "      <th>급여</th>\n",
              "    </tr>\n",
              "  </thead>\n",
              "  <tbody>\n",
              "    <tr>\n",
              "      <th>0</th>\n",
              "      <td>김민재</td>\n",
              "      <td>27</td>\n",
              "      <td>75</td>\n",
              "      <td>5428000</td>\n",
              "    </tr>\n",
              "    <tr>\n",
              "      <th>1</th>\n",
              "      <td>이강인</td>\n",
              "      <td>22</td>\n",
              "      <td>57</td>\n",
              "      <td>3428000</td>\n",
              "    </tr>\n",
              "    <tr>\n",
              "      <th>2</th>\n",
              "      <td>박찬호</td>\n",
              "      <td>50</td>\n",
              "      <td>91</td>\n",
              "      <td>8428000</td>\n",
              "    </tr>\n",
              "    <tr>\n",
              "      <th>3</th>\n",
              "      <td>차범근</td>\n",
              "      <td>70</td>\n",
              "      <td>80</td>\n",
              "      <td>4428000</td>\n",
              "    </tr>\n",
              "    <tr>\n",
              "      <th>4</th>\n",
              "      <td>추신수</td>\n",
              "      <td>43</td>\n",
              "      <td>100</td>\n",
              "      <td>4528000</td>\n",
              "    </tr>\n",
              "    <tr>\n",
              "      <th>5</th>\n",
              "      <td>손흥민</td>\n",
              "      <td>31</td>\n",
              "      <td>72</td>\n",
              "      <td>7028000</td>\n",
              "    </tr>\n",
              "    <tr>\n",
              "      <th>6</th>\n",
              "      <td>황희찬</td>\n",
              "      <td>28</td>\n",
              "      <td>69</td>\n",
              "      <td>2528000</td>\n",
              "    </tr>\n",
              "  </tbody>\n",
              "</table>\n",
              "</div>"
            ],
            "text/plain": [
              "    성명  나이  몸무게       급여\n",
              "0  김민재  27   75  5428000\n",
              "1  이강인  22   57  3428000\n",
              "2  박찬호  50   91  8428000\n",
              "3  차범근  70   80  4428000\n",
              "4  추신수  43  100  4528000\n",
              "5  손흥민  31   72  7028000\n",
              "6  황희찬  28   69  2528000"
            ]
          },
          "execution_count": 1,
          "metadata": {},
          "output_type": "execute_result"
        }
      ],
      "source": [
        "import pandas as pd\n",
        "data = [['김민재', 27, 75, 5428000],\n",
        "        ['이강인', 22, 57, 3428000],\n",
        "        ['박찬호', 50, 91, 8428000],\n",
        "        ['차범근', 70, 80, 4428000],\n",
        "        ['추신수', 43, 100, 4528000],\n",
        "        ['손흥민', 31, 72, 7028000],\n",
        "        ['황희찬', 28, 69, 2528000]]\n",
        "\n",
        "df = pd.DataFrame(data, columns=['성명', '나이', '몸무게', '급여'])\n",
        "df\n"
      ]
    },
    {
      "cell_type": "markdown",
      "metadata": {
        "id": "NhkUKkq5JLo3"
      },
      "source": [
        "특정 컬럼만 표시"
      ]
    },
    {
      "cell_type": "code",
      "execution_count": 2,
      "metadata": {
        "colab": {
          "base_uri": "https://localhost:8080/",
          "height": 268
        },
        "id": "F3lPicJSJQqh",
        "outputId": "a64476e4-aa21-49d1-9992-65c49ca14045"
      },
      "outputs": [
        {
          "data": {
            "text/html": [
              "<div>\n",
              "<style scoped>\n",
              "    .dataframe tbody tr th:only-of-type {\n",
              "        vertical-align: middle;\n",
              "    }\n",
              "\n",
              "    .dataframe tbody tr th {\n",
              "        vertical-align: top;\n",
              "    }\n",
              "\n",
              "    .dataframe thead th {\n",
              "        text-align: right;\n",
              "    }\n",
              "</style>\n",
              "<table border=\"1\" class=\"dataframe\">\n",
              "  <thead>\n",
              "    <tr style=\"text-align: right;\">\n",
              "      <th></th>\n",
              "      <th>성명</th>\n",
              "      <th>나이</th>\n",
              "      <th>급여</th>\n",
              "    </tr>\n",
              "  </thead>\n",
              "  <tbody>\n",
              "    <tr>\n",
              "      <th>0</th>\n",
              "      <td>김민재</td>\n",
              "      <td>27</td>\n",
              "      <td>5428000</td>\n",
              "    </tr>\n",
              "    <tr>\n",
              "      <th>1</th>\n",
              "      <td>이강인</td>\n",
              "      <td>22</td>\n",
              "      <td>3428000</td>\n",
              "    </tr>\n",
              "    <tr>\n",
              "      <th>2</th>\n",
              "      <td>박찬호</td>\n",
              "      <td>50</td>\n",
              "      <td>8428000</td>\n",
              "    </tr>\n",
              "    <tr>\n",
              "      <th>3</th>\n",
              "      <td>차범근</td>\n",
              "      <td>70</td>\n",
              "      <td>4428000</td>\n",
              "    </tr>\n",
              "    <tr>\n",
              "      <th>4</th>\n",
              "      <td>추신수</td>\n",
              "      <td>43</td>\n",
              "      <td>4528000</td>\n",
              "    </tr>\n",
              "    <tr>\n",
              "      <th>5</th>\n",
              "      <td>손흥민</td>\n",
              "      <td>31</td>\n",
              "      <td>7028000</td>\n",
              "    </tr>\n",
              "    <tr>\n",
              "      <th>6</th>\n",
              "      <td>황희찬</td>\n",
              "      <td>28</td>\n",
              "      <td>2528000</td>\n",
              "    </tr>\n",
              "  </tbody>\n",
              "</table>\n",
              "</div>"
            ],
            "text/plain": [
              "    성명  나이       급여\n",
              "0  김민재  27  5428000\n",
              "1  이강인  22  3428000\n",
              "2  박찬호  50  8428000\n",
              "3  차범근  70  4428000\n",
              "4  추신수  43  4528000\n",
              "5  손흥민  31  7028000\n",
              "6  황희찬  28  2528000"
            ]
          },
          "execution_count": 2,
          "metadata": {},
          "output_type": "execute_result"
        }
      ],
      "source": [
        "df[['성명', '나이', '급여']]\n"
      ]
    },
    {
      "cell_type": "code",
      "execution_count": 3,
      "metadata": {
        "colab": {
          "base_uri": "https://localhost:8080/",
          "height": 268
        },
        "id": "J3JfKNurJRWo",
        "outputId": "e7b0d3ac-c437-42da-8eba-fbf2f03c0cb0"
      },
      "outputs": [
        {
          "data": {
            "text/html": [
              "<div>\n",
              "<style scoped>\n",
              "    .dataframe tbody tr th:only-of-type {\n",
              "        vertical-align: middle;\n",
              "    }\n",
              "\n",
              "    .dataframe tbody tr th {\n",
              "        vertical-align: top;\n",
              "    }\n",
              "\n",
              "    .dataframe thead th {\n",
              "        text-align: right;\n",
              "    }\n",
              "</style>\n",
              "<table border=\"1\" class=\"dataframe\">\n",
              "  <thead>\n",
              "    <tr style=\"text-align: right;\">\n",
              "      <th></th>\n",
              "      <th>성명</th>\n",
              "    </tr>\n",
              "  </thead>\n",
              "  <tbody>\n",
              "    <tr>\n",
              "      <th>0</th>\n",
              "      <td>김민재</td>\n",
              "    </tr>\n",
              "    <tr>\n",
              "      <th>1</th>\n",
              "      <td>이강인</td>\n",
              "    </tr>\n",
              "    <tr>\n",
              "      <th>2</th>\n",
              "      <td>박찬호</td>\n",
              "    </tr>\n",
              "    <tr>\n",
              "      <th>3</th>\n",
              "      <td>차범근</td>\n",
              "    </tr>\n",
              "    <tr>\n",
              "      <th>4</th>\n",
              "      <td>추신수</td>\n",
              "    </tr>\n",
              "    <tr>\n",
              "      <th>5</th>\n",
              "      <td>손흥민</td>\n",
              "    </tr>\n",
              "    <tr>\n",
              "      <th>6</th>\n",
              "      <td>황희찬</td>\n",
              "    </tr>\n",
              "  </tbody>\n",
              "</table>\n",
              "</div>"
            ],
            "text/plain": [
              "    성명\n",
              "0  김민재\n",
              "1  이강인\n",
              "2  박찬호\n",
              "3  차범근\n",
              "4  추신수\n",
              "5  손흥민\n",
              "6  황희찬"
            ]
          },
          "execution_count": 3,
          "metadata": {},
          "output_type": "execute_result"
        }
      ],
      "source": [
        "df[['성명']]\n"
      ]
    },
    {
      "cell_type": "code",
      "execution_count": 4,
      "metadata": {
        "colab": {
          "base_uri": "https://localhost:8080/",
          "height": 268
        },
        "id": "lnC7M4LVJShg",
        "outputId": "2e8a0adb-ef46-4cf3-fa52-7260ad3d8bd1"
      },
      "outputs": [
        {
          "data": {
            "text/html": [
              "<div>\n",
              "<style scoped>\n",
              "    .dataframe tbody tr th:only-of-type {\n",
              "        vertical-align: middle;\n",
              "    }\n",
              "\n",
              "    .dataframe tbody tr th {\n",
              "        vertical-align: top;\n",
              "    }\n",
              "\n",
              "    .dataframe thead th {\n",
              "        text-align: right;\n",
              "    }\n",
              "</style>\n",
              "<table border=\"1\" class=\"dataframe\">\n",
              "  <thead>\n",
              "    <tr style=\"text-align: right;\">\n",
              "      <th></th>\n",
              "      <th>성명</th>\n",
              "      <th>급여</th>\n",
              "    </tr>\n",
              "  </thead>\n",
              "  <tbody>\n",
              "    <tr>\n",
              "      <th>0</th>\n",
              "      <td>김민재</td>\n",
              "      <td>5428000</td>\n",
              "    </tr>\n",
              "    <tr>\n",
              "      <th>1</th>\n",
              "      <td>이강인</td>\n",
              "      <td>3428000</td>\n",
              "    </tr>\n",
              "    <tr>\n",
              "      <th>2</th>\n",
              "      <td>박찬호</td>\n",
              "      <td>8428000</td>\n",
              "    </tr>\n",
              "    <tr>\n",
              "      <th>3</th>\n",
              "      <td>차범근</td>\n",
              "      <td>4428000</td>\n",
              "    </tr>\n",
              "    <tr>\n",
              "      <th>4</th>\n",
              "      <td>추신수</td>\n",
              "      <td>4528000</td>\n",
              "    </tr>\n",
              "    <tr>\n",
              "      <th>5</th>\n",
              "      <td>손흥민</td>\n",
              "      <td>7028000</td>\n",
              "    </tr>\n",
              "    <tr>\n",
              "      <th>6</th>\n",
              "      <td>황희찬</td>\n",
              "      <td>2528000</td>\n",
              "    </tr>\n",
              "  </tbody>\n",
              "</table>\n",
              "</div>"
            ],
            "text/plain": [
              "    성명       급여\n",
              "0  김민재  5428000\n",
              "1  이강인  3428000\n",
              "2  박찬호  8428000\n",
              "3  차범근  4428000\n",
              "4  추신수  4528000\n",
              "5  손흥민  7028000\n",
              "6  황희찬  2528000"
            ]
          },
          "execution_count": 4,
          "metadata": {},
          "output_type": "execute_result"
        }
      ],
      "source": [
        "df[['성명', '급여']]\n"
      ]
    },
    {
      "cell_type": "markdown",
      "metadata": {
        "id": "ZG3pt0a9JggP"
      },
      "source": [
        "# 특정 행만"
      ]
    },
    {
      "cell_type": "code",
      "execution_count": 5,
      "metadata": {
        "colab": {
          "base_uri": "https://localhost:8080/",
          "height": 209
        },
        "id": "wrfRI9_LJjNW",
        "outputId": "2b12d6a7-1af6-495f-bf55-709415d58ef4"
      },
      "outputs": [
        {
          "data": {
            "text/plain": [
              "성명         김민재\n",
              "나이          27\n",
              "몸무게         75\n",
              "급여     5428000\n",
              "Name: 0, dtype: object"
            ]
          },
          "execution_count": 5,
          "metadata": {},
          "output_type": "execute_result"
        }
      ],
      "source": [
        "df.loc[0]     # 시리즈 형태로 표시한다.\n"
      ]
    },
    {
      "cell_type": "code",
      "execution_count": 6,
      "metadata": {
        "colab": {
          "base_uri": "https://localhost:8080/",
          "height": 143
        },
        "id": "7WKCsbDkJp2G",
        "outputId": "41dc1716-557e-4a4a-add7-18587b0c2450"
      },
      "outputs": [
        {
          "data": {
            "text/html": [
              "<div>\n",
              "<style scoped>\n",
              "    .dataframe tbody tr th:only-of-type {\n",
              "        vertical-align: middle;\n",
              "    }\n",
              "\n",
              "    .dataframe tbody tr th {\n",
              "        vertical-align: top;\n",
              "    }\n",
              "\n",
              "    .dataframe thead th {\n",
              "        text-align: right;\n",
              "    }\n",
              "</style>\n",
              "<table border=\"1\" class=\"dataframe\">\n",
              "  <thead>\n",
              "    <tr style=\"text-align: right;\">\n",
              "      <th></th>\n",
              "      <th>성명</th>\n",
              "      <th>나이</th>\n",
              "      <th>몸무게</th>\n",
              "      <th>급여</th>\n",
              "    </tr>\n",
              "  </thead>\n",
              "  <tbody>\n",
              "    <tr>\n",
              "      <th>1</th>\n",
              "      <td>이강인</td>\n",
              "      <td>22</td>\n",
              "      <td>57</td>\n",
              "      <td>3428000</td>\n",
              "    </tr>\n",
              "    <tr>\n",
              "      <th>3</th>\n",
              "      <td>차범근</td>\n",
              "      <td>70</td>\n",
              "      <td>80</td>\n",
              "      <td>4428000</td>\n",
              "    </tr>\n",
              "    <tr>\n",
              "      <th>6</th>\n",
              "      <td>황희찬</td>\n",
              "      <td>28</td>\n",
              "      <td>69</td>\n",
              "      <td>2528000</td>\n",
              "    </tr>\n",
              "  </tbody>\n",
              "</table>\n",
              "</div>"
            ],
            "text/plain": [
              "    성명  나이  몸무게       급여\n",
              "1  이강인  22   57  3428000\n",
              "3  차범근  70   80  4428000\n",
              "6  황희찬  28   69  2528000"
            ]
          },
          "execution_count": 6,
          "metadata": {},
          "output_type": "execute_result"
        }
      ],
      "source": [
        "df.loc[[1,3,6]]     # 데이터프레임 형태로 표시한다.\n"
      ]
    },
    {
      "cell_type": "code",
      "execution_count": 7,
      "metadata": {
        "colab": {
          "base_uri": "https://localhost:8080/",
          "height": 143
        },
        "id": "Y500eMTIJrPQ",
        "outputId": "4929ac1c-be69-4bb4-cdc7-1039bb99c875"
      },
      "outputs": [
        {
          "data": {
            "text/html": [
              "<div>\n",
              "<style scoped>\n",
              "    .dataframe tbody tr th:only-of-type {\n",
              "        vertical-align: middle;\n",
              "    }\n",
              "\n",
              "    .dataframe tbody tr th {\n",
              "        vertical-align: top;\n",
              "    }\n",
              "\n",
              "    .dataframe thead th {\n",
              "        text-align: right;\n",
              "    }\n",
              "</style>\n",
              "<table border=\"1\" class=\"dataframe\">\n",
              "  <thead>\n",
              "    <tr style=\"text-align: right;\">\n",
              "      <th></th>\n",
              "      <th>성명</th>\n",
              "      <th>나이</th>\n",
              "      <th>몸무게</th>\n",
              "      <th>급여</th>\n",
              "    </tr>\n",
              "  </thead>\n",
              "  <tbody>\n",
              "    <tr>\n",
              "      <th>0</th>\n",
              "      <td>김민재</td>\n",
              "      <td>27</td>\n",
              "      <td>75</td>\n",
              "      <td>5428000</td>\n",
              "    </tr>\n",
              "    <tr>\n",
              "      <th>1</th>\n",
              "      <td>이강인</td>\n",
              "      <td>22</td>\n",
              "      <td>57</td>\n",
              "      <td>3428000</td>\n",
              "    </tr>\n",
              "    <tr>\n",
              "      <th>2</th>\n",
              "      <td>박찬호</td>\n",
              "      <td>50</td>\n",
              "      <td>91</td>\n",
              "      <td>8428000</td>\n",
              "    </tr>\n",
              "  </tbody>\n",
              "</table>\n",
              "</div>"
            ],
            "text/plain": [
              "    성명  나이  몸무게       급여\n",
              "0  김민재  27   75  5428000\n",
              "1  이강인  22   57  3428000\n",
              "2  박찬호  50   91  8428000"
            ]
          },
          "execution_count": 7,
          "metadata": {},
          "output_type": "execute_result"
        }
      ],
      "source": [
        "df.loc[[0,1,2]]     # 지정한 대로 여러 행을 한꺼번에 보려면 대괄호를 포함해야 한다.\n"
      ]
    },
    {
      "cell_type": "code",
      "execution_count": 8,
      "metadata": {
        "colab": {
          "base_uri": "https://localhost:8080/",
          "height": 143
        },
        "id": "FGAC6AOGJs9a",
        "outputId": "fb267414-3be4-444c-daf3-96546b1c7de1"
      },
      "outputs": [
        {
          "data": {
            "text/html": [
              "<div>\n",
              "<style scoped>\n",
              "    .dataframe tbody tr th:only-of-type {\n",
              "        vertical-align: middle;\n",
              "    }\n",
              "\n",
              "    .dataframe tbody tr th {\n",
              "        vertical-align: top;\n",
              "    }\n",
              "\n",
              "    .dataframe thead th {\n",
              "        text-align: right;\n",
              "    }\n",
              "</style>\n",
              "<table border=\"1\" class=\"dataframe\">\n",
              "  <thead>\n",
              "    <tr style=\"text-align: right;\">\n",
              "      <th></th>\n",
              "      <th>성명</th>\n",
              "      <th>나이</th>\n",
              "      <th>몸무게</th>\n",
              "      <th>급여</th>\n",
              "    </tr>\n",
              "  </thead>\n",
              "  <tbody>\n",
              "    <tr>\n",
              "      <th>2</th>\n",
              "      <td>박찬호</td>\n",
              "      <td>50</td>\n",
              "      <td>91</td>\n",
              "      <td>8428000</td>\n",
              "    </tr>\n",
              "    <tr>\n",
              "      <th>3</th>\n",
              "      <td>차범근</td>\n",
              "      <td>70</td>\n",
              "      <td>80</td>\n",
              "      <td>4428000</td>\n",
              "    </tr>\n",
              "    <tr>\n",
              "      <th>4</th>\n",
              "      <td>추신수</td>\n",
              "      <td>43</td>\n",
              "      <td>100</td>\n",
              "      <td>4528000</td>\n",
              "    </tr>\n",
              "  </tbody>\n",
              "</table>\n",
              "</div>"
            ],
            "text/plain": [
              "    성명  나이  몸무게       급여\n",
              "2  박찬호  50   91  8428000\n",
              "3  차범근  70   80  4428000\n",
              "4  추신수  43  100  4528000"
            ]
          },
          "execution_count": 8,
          "metadata": {},
          "output_type": "execute_result"
        }
      ],
      "source": [
        "# 인덱스 0번 행에서 인덱스 3번 행 까지의 데이터 4개를 표시한다.\n",
        "df.loc[2:4]\n"
      ]
    },
    {
      "cell_type": "markdown",
      "metadata": {
        "id": "9KjoLR9uJxOb"
      },
      "source": [
        "# 행, 열 형태로 표시"
      ]
    },
    {
      "cell_type": "code",
      "execution_count": 9,
      "metadata": {
        "colab": {
          "base_uri": "https://localhost:8080/",
          "height": 35
        },
        "id": "BgU_HfBPJyR7",
        "outputId": "3105be03-c9fe-41d3-8a16-2d94daba7b1f"
      },
      "outputs": [
        {
          "data": {
            "text/plain": [
              "'김민재'"
            ]
          },
          "execution_count": 9,
          "metadata": {},
          "output_type": "execute_result"
        }
      ],
      "source": [
        "df.loc[0, '성명']     # 시리즈 형태로 '김민재' 를 표시한다.\n"
      ]
    },
    {
      "cell_type": "code",
      "execution_count": 10,
      "metadata": {
        "colab": {
          "base_uri": "https://localhost:8080/",
          "height": 80
        },
        "id": "JaCQWJXBJ0zc",
        "outputId": "03e5c412-2bcb-442b-cc2d-815e822f6dc5"
      },
      "outputs": [
        {
          "data": {
            "text/html": [
              "<div>\n",
              "<style scoped>\n",
              "    .dataframe tbody tr th:only-of-type {\n",
              "        vertical-align: middle;\n",
              "    }\n",
              "\n",
              "    .dataframe tbody tr th {\n",
              "        vertical-align: top;\n",
              "    }\n",
              "\n",
              "    .dataframe thead th {\n",
              "        text-align: right;\n",
              "    }\n",
              "</style>\n",
              "<table border=\"1\" class=\"dataframe\">\n",
              "  <thead>\n",
              "    <tr style=\"text-align: right;\">\n",
              "      <th></th>\n",
              "      <th>성명</th>\n",
              "    </tr>\n",
              "  </thead>\n",
              "  <tbody>\n",
              "    <tr>\n",
              "      <th>0</th>\n",
              "      <td>김민재</td>\n",
              "    </tr>\n",
              "  </tbody>\n",
              "</table>\n",
              "</div>"
            ],
            "text/plain": [
              "    성명\n",
              "0  김민재"
            ]
          },
          "execution_count": 10,
          "metadata": {},
          "output_type": "execute_result"
        }
      ],
      "source": [
        "df.loc[[0], ['성명']]     # 데이터프레임 형태로 '김민재' 를 표시한다.\n"
      ]
    },
    {
      "cell_type": "code",
      "execution_count": 11,
      "metadata": {
        "colab": {
          "base_uri": "https://localhost:8080/",
          "height": 112
        },
        "id": "MtN830P4J3WF",
        "outputId": "8222dc16-67a1-4511-e5f2-ff98eda891bc"
      },
      "outputs": [
        {
          "data": {
            "text/html": [
              "<div>\n",
              "<style scoped>\n",
              "    .dataframe tbody tr th:only-of-type {\n",
              "        vertical-align: middle;\n",
              "    }\n",
              "\n",
              "    .dataframe tbody tr th {\n",
              "        vertical-align: top;\n",
              "    }\n",
              "\n",
              "    .dataframe thead th {\n",
              "        text-align: right;\n",
              "    }\n",
              "</style>\n",
              "<table border=\"1\" class=\"dataframe\">\n",
              "  <thead>\n",
              "    <tr style=\"text-align: right;\">\n",
              "      <th></th>\n",
              "      <th>성명</th>\n",
              "    </tr>\n",
              "  </thead>\n",
              "  <tbody>\n",
              "    <tr>\n",
              "      <th>0</th>\n",
              "      <td>김민재</td>\n",
              "    </tr>\n",
              "    <tr>\n",
              "      <th>1</th>\n",
              "      <td>이강인</td>\n",
              "    </tr>\n",
              "  </tbody>\n",
              "</table>\n",
              "</div>"
            ],
            "text/plain": [
              "    성명\n",
              "0  김민재\n",
              "1  이강인"
            ]
          },
          "execution_count": 11,
          "metadata": {},
          "output_type": "execute_result"
        }
      ],
      "source": [
        "df.loc[[0,1], ['성명']]     # 데이터프레임 형태로 표시한다.\n"
      ]
    },
    {
      "cell_type": "code",
      "execution_count": 12,
      "metadata": {
        "colab": {
          "base_uri": "https://localhost:8080/",
          "height": 112
        },
        "id": "QeX5Nt8WJ5Gl",
        "outputId": "a198321b-33e7-46e8-fd2f-10e0bb0aa0df"
      },
      "outputs": [
        {
          "data": {
            "text/html": [
              "<div>\n",
              "<style scoped>\n",
              "    .dataframe tbody tr th:only-of-type {\n",
              "        vertical-align: middle;\n",
              "    }\n",
              "\n",
              "    .dataframe tbody tr th {\n",
              "        vertical-align: top;\n",
              "    }\n",
              "\n",
              "    .dataframe thead th {\n",
              "        text-align: right;\n",
              "    }\n",
              "</style>\n",
              "<table border=\"1\" class=\"dataframe\">\n",
              "  <thead>\n",
              "    <tr style=\"text-align: right;\">\n",
              "      <th></th>\n",
              "      <th>성명</th>\n",
              "      <th>나이</th>\n",
              "    </tr>\n",
              "  </thead>\n",
              "  <tbody>\n",
              "    <tr>\n",
              "      <th>0</th>\n",
              "      <td>김민재</td>\n",
              "      <td>27</td>\n",
              "    </tr>\n",
              "    <tr>\n",
              "      <th>2</th>\n",
              "      <td>박찬호</td>\n",
              "      <td>50</td>\n",
              "    </tr>\n",
              "  </tbody>\n",
              "</table>\n",
              "</div>"
            ],
            "text/plain": [
              "    성명  나이\n",
              "0  김민재  27\n",
              "2  박찬호  50"
            ]
          },
          "execution_count": 12,
          "metadata": {},
          "output_type": "execute_result"
        }
      ],
      "source": [
        "df.loc[[0,2], ['성명','나이']]\n"
      ]
    },
    {
      "cell_type": "code",
      "execution_count": 13,
      "metadata": {
        "colab": {
          "base_uri": "https://localhost:8080/",
          "height": 174
        },
        "id": "FtBN5x9lJ76P",
        "outputId": "dd0754a9-aa1c-43d0-c1bc-4054eea54950"
      },
      "outputs": [
        {
          "data": {
            "text/html": [
              "<div>\n",
              "<style scoped>\n",
              "    .dataframe tbody tr th:only-of-type {\n",
              "        vertical-align: middle;\n",
              "    }\n",
              "\n",
              "    .dataframe tbody tr th {\n",
              "        vertical-align: top;\n",
              "    }\n",
              "\n",
              "    .dataframe thead th {\n",
              "        text-align: right;\n",
              "    }\n",
              "</style>\n",
              "<table border=\"1\" class=\"dataframe\">\n",
              "  <thead>\n",
              "    <tr style=\"text-align: right;\">\n",
              "      <th></th>\n",
              "      <th>성명</th>\n",
              "      <th>나이</th>\n",
              "      <th>몸무게</th>\n",
              "      <th>급여</th>\n",
              "    </tr>\n",
              "  </thead>\n",
              "  <tbody>\n",
              "    <tr>\n",
              "      <th>0</th>\n",
              "      <td>김민재</td>\n",
              "      <td>27</td>\n",
              "      <td>75</td>\n",
              "      <td>5428000</td>\n",
              "    </tr>\n",
              "    <tr>\n",
              "      <th>1</th>\n",
              "      <td>이강인</td>\n",
              "      <td>22</td>\n",
              "      <td>57</td>\n",
              "      <td>3428000</td>\n",
              "    </tr>\n",
              "    <tr>\n",
              "      <th>2</th>\n",
              "      <td>박찬호</td>\n",
              "      <td>50</td>\n",
              "      <td>91</td>\n",
              "      <td>8428000</td>\n",
              "    </tr>\n",
              "    <tr>\n",
              "      <th>3</th>\n",
              "      <td>차범근</td>\n",
              "      <td>70</td>\n",
              "      <td>80</td>\n",
              "      <td>4428000</td>\n",
              "    </tr>\n",
              "  </tbody>\n",
              "</table>\n",
              "</div>"
            ],
            "text/plain": [
              "    성명  나이  몸무게       급여\n",
              "0  김민재  27   75  5428000\n",
              "1  이강인  22   57  3428000\n",
              "2  박찬호  50   91  8428000\n",
              "3  차범근  70   80  4428000"
            ]
          },
          "execution_count": 13,
          "metadata": {},
          "output_type": "execute_result"
        }
      ],
      "source": [
        "df.loc[0:3, '성명':'급여']\n"
      ]
    },
    {
      "cell_type": "markdown",
      "metadata": {
        "id": "VpzuN4UbJ93j"
      },
      "source": [
        "# 숫자로 인덱싱과 슬라이싱"
      ]
    },
    {
      "cell_type": "code",
      "execution_count": 14,
      "metadata": {
        "colab": {
          "base_uri": "https://localhost:8080/"
        },
        "id": "ixZFnJVmKAPN",
        "outputId": "8cf40294-c180-4ebf-d71d-57887640e8e6"
      },
      "outputs": [
        {
          "data": {
            "text/plain": [
              "np.int64(5428000)"
            ]
          },
          "execution_count": 14,
          "metadata": {},
          "output_type": "execute_result"
        }
      ],
      "source": [
        "df.loc[0, '급여']     # .loc는 인덱싱할 컬럼을 '급여'로 입력해야 한다.\n"
      ]
    },
    {
      "cell_type": "code",
      "execution_count": 15,
      "metadata": {
        "colab": {
          "base_uri": "https://localhost:8080/"
        },
        "id": "3j5XorxiKEFM",
        "outputId": "4be8c7db-a46e-4d32-ee07-0ec436496aa5"
      },
      "outputs": [
        {
          "data": {
            "text/plain": [
              "np.int64(5428000)"
            ]
          },
          "execution_count": 15,
          "metadata": {},
          "output_type": "execute_result"
        }
      ],
      "source": [
        "df.iloc[0, 3]     # .iloc는 인덱싱할 컬럼을 숫자로 입력한다.\n"
      ]
    },
    {
      "cell_type": "code",
      "execution_count": 16,
      "metadata": {
        "colab": {
          "base_uri": "https://localhost:8080/",
          "height": 143
        },
        "id": "S5o0vdNPKGhB",
        "outputId": "abb31efb-227e-4f6d-d56d-1ba15ce0fcfe"
      },
      "outputs": [
        {
          "data": {
            "text/html": [
              "<div>\n",
              "<style scoped>\n",
              "    .dataframe tbody tr th:only-of-type {\n",
              "        vertical-align: middle;\n",
              "    }\n",
              "\n",
              "    .dataframe tbody tr th {\n",
              "        vertical-align: top;\n",
              "    }\n",
              "\n",
              "    .dataframe thead th {\n",
              "        text-align: right;\n",
              "    }\n",
              "</style>\n",
              "<table border=\"1\" class=\"dataframe\">\n",
              "  <thead>\n",
              "    <tr style=\"text-align: right;\">\n",
              "      <th></th>\n",
              "      <th>성명</th>\n",
              "      <th>급여</th>\n",
              "    </tr>\n",
              "  </thead>\n",
              "  <tbody>\n",
              "    <tr>\n",
              "      <th>0</th>\n",
              "      <td>김민재</td>\n",
              "      <td>5428000</td>\n",
              "    </tr>\n",
              "    <tr>\n",
              "      <th>1</th>\n",
              "      <td>이강인</td>\n",
              "      <td>3428000</td>\n",
              "    </tr>\n",
              "    <tr>\n",
              "      <th>2</th>\n",
              "      <td>박찬호</td>\n",
              "      <td>8428000</td>\n",
              "    </tr>\n",
              "  </tbody>\n",
              "</table>\n",
              "</div>"
            ],
            "text/plain": [
              "    성명       급여\n",
              "0  김민재  5428000\n",
              "1  이강인  3428000\n",
              "2  박찬호  8428000"
            ]
          },
          "execution_count": 16,
          "metadata": {},
          "output_type": "execute_result"
        }
      ],
      "source": [
        "df.loc[[0,1,2], ['성명','급여']]\n"
      ]
    },
    {
      "cell_type": "code",
      "execution_count": 17,
      "metadata": {
        "colab": {
          "base_uri": "https://localhost:8080/",
          "height": 268
        },
        "id": "wUIk4msvKJ1o",
        "outputId": "b6251871-4b97-4087-c3ef-6d49569e939b"
      },
      "outputs": [
        {
          "data": {
            "text/html": [
              "<div>\n",
              "<style scoped>\n",
              "    .dataframe tbody tr th:only-of-type {\n",
              "        vertical-align: middle;\n",
              "    }\n",
              "\n",
              "    .dataframe tbody tr th {\n",
              "        vertical-align: top;\n",
              "    }\n",
              "\n",
              "    .dataframe thead th {\n",
              "        text-align: right;\n",
              "    }\n",
              "</style>\n",
              "<table border=\"1\" class=\"dataframe\">\n",
              "  <thead>\n",
              "    <tr style=\"text-align: right;\">\n",
              "      <th></th>\n",
              "      <th>성명</th>\n",
              "      <th>나이</th>\n",
              "      <th>몸무게</th>\n",
              "    </tr>\n",
              "  </thead>\n",
              "  <tbody>\n",
              "    <tr>\n",
              "      <th>0</th>\n",
              "      <td>김민재</td>\n",
              "      <td>27</td>\n",
              "      <td>75</td>\n",
              "    </tr>\n",
              "    <tr>\n",
              "      <th>1</th>\n",
              "      <td>이강인</td>\n",
              "      <td>22</td>\n",
              "      <td>57</td>\n",
              "    </tr>\n",
              "    <tr>\n",
              "      <th>2</th>\n",
              "      <td>박찬호</td>\n",
              "      <td>50</td>\n",
              "      <td>91</td>\n",
              "    </tr>\n",
              "    <tr>\n",
              "      <th>3</th>\n",
              "      <td>차범근</td>\n",
              "      <td>70</td>\n",
              "      <td>80</td>\n",
              "    </tr>\n",
              "    <tr>\n",
              "      <th>4</th>\n",
              "      <td>추신수</td>\n",
              "      <td>43</td>\n",
              "      <td>100</td>\n",
              "    </tr>\n",
              "    <tr>\n",
              "      <th>5</th>\n",
              "      <td>손흥민</td>\n",
              "      <td>31</td>\n",
              "      <td>72</td>\n",
              "    </tr>\n",
              "    <tr>\n",
              "      <th>6</th>\n",
              "      <td>황희찬</td>\n",
              "      <td>28</td>\n",
              "      <td>69</td>\n",
              "    </tr>\n",
              "  </tbody>\n",
              "</table>\n",
              "</div>"
            ],
            "text/plain": [
              "    성명  나이  몸무게\n",
              "0  김민재  27   75\n",
              "1  이강인  22   57\n",
              "2  박찬호  50   91\n",
              "3  차범근  70   80\n",
              "4  추신수  43  100\n",
              "5  손흥민  31   72\n",
              "6  황희찬  28   69"
            ]
          },
          "execution_count": 17,
          "metadata": {},
          "output_type": "execute_result"
        }
      ],
      "source": [
        "df.iloc[::1, 0:3]\n"
      ]
    },
    {
      "cell_type": "code",
      "execution_count": 18,
      "metadata": {
        "colab": {
          "base_uri": "https://localhost:8080/",
          "height": 268
        },
        "id": "SJ_-yY2eKLz8",
        "outputId": "5e4cf579-9fe2-4e79-c16e-8645a26dcb42"
      },
      "outputs": [
        {
          "data": {
            "text/html": [
              "<div>\n",
              "<style scoped>\n",
              "    .dataframe tbody tr th:only-of-type {\n",
              "        vertical-align: middle;\n",
              "    }\n",
              "\n",
              "    .dataframe tbody tr th {\n",
              "        vertical-align: top;\n",
              "    }\n",
              "\n",
              "    .dataframe thead th {\n",
              "        text-align: right;\n",
              "    }\n",
              "</style>\n",
              "<table border=\"1\" class=\"dataframe\">\n",
              "  <thead>\n",
              "    <tr style=\"text-align: right;\">\n",
              "      <th></th>\n",
              "      <th>성명</th>\n",
              "      <th>나이</th>\n",
              "      <th>몸무게</th>\n",
              "      <th>급여</th>\n",
              "    </tr>\n",
              "  </thead>\n",
              "  <tbody>\n",
              "    <tr>\n",
              "      <th>0</th>\n",
              "      <td>김민재</td>\n",
              "      <td>27</td>\n",
              "      <td>75</td>\n",
              "      <td>5428000</td>\n",
              "    </tr>\n",
              "    <tr>\n",
              "      <th>1</th>\n",
              "      <td>이강인</td>\n",
              "      <td>22</td>\n",
              "      <td>57</td>\n",
              "      <td>3428000</td>\n",
              "    </tr>\n",
              "    <tr>\n",
              "      <th>2</th>\n",
              "      <td>박찬호</td>\n",
              "      <td>50</td>\n",
              "      <td>91</td>\n",
              "      <td>8428000</td>\n",
              "    </tr>\n",
              "    <tr>\n",
              "      <th>3</th>\n",
              "      <td>차범근</td>\n",
              "      <td>70</td>\n",
              "      <td>80</td>\n",
              "      <td>4428000</td>\n",
              "    </tr>\n",
              "    <tr>\n",
              "      <th>4</th>\n",
              "      <td>추신수</td>\n",
              "      <td>43</td>\n",
              "      <td>100</td>\n",
              "      <td>4528000</td>\n",
              "    </tr>\n",
              "    <tr>\n",
              "      <th>5</th>\n",
              "      <td>손흥민</td>\n",
              "      <td>31</td>\n",
              "      <td>72</td>\n",
              "      <td>7028000</td>\n",
              "    </tr>\n",
              "    <tr>\n",
              "      <th>6</th>\n",
              "      <td>황희찬</td>\n",
              "      <td>28</td>\n",
              "      <td>69</td>\n",
              "      <td>2528000</td>\n",
              "    </tr>\n",
              "  </tbody>\n",
              "</table>\n",
              "</div>"
            ],
            "text/plain": [
              "    성명  나이  몸무게       급여\n",
              "0  김민재  27   75  5428000\n",
              "1  이강인  22   57  3428000\n",
              "2  박찬호  50   91  8428000\n",
              "3  차범근  70   80  4428000\n",
              "4  추신수  43  100  4528000\n",
              "5  손흥민  31   72  7028000\n",
              "6  황희찬  28   69  2528000"
            ]
          },
          "execution_count": 18,
          "metadata": {},
          "output_type": "execute_result"
        }
      ],
      "source": [
        "df.iloc[:, :]\n"
      ]
    },
    {
      "cell_type": "markdown",
      "metadata": {
        "id": "xxEmsitJKPqC"
      },
      "source": [
        "# 조건에 맞는 데이터 표시"
      ]
    },
    {
      "cell_type": "markdown",
      "metadata": {
        "id": "VikVAsPrKbSu"
      },
      "source": [
        "조건문으로 True/False"
      ]
    },
    {
      "cell_type": "code",
      "execution_count": 19,
      "metadata": {
        "colab": {
          "base_uri": "https://localhost:8080/",
          "height": 303
        },
        "id": "yiW1D0wiKPHX",
        "outputId": "15da7a59-63ec-48f4-fc15-0c3c5f5098b6"
      },
      "outputs": [
        {
          "data": {
            "text/plain": [
              "0     True\n",
              "1    False\n",
              "2     True\n",
              "3    False\n",
              "4    False\n",
              "5     True\n",
              "6    False\n",
              "Name: 급여, dtype: bool"
            ]
          },
          "execution_count": 19,
          "metadata": {},
          "output_type": "execute_result"
        }
      ],
      "source": [
        "(df['급여'] >= 5000000)\n"
      ]
    },
    {
      "cell_type": "code",
      "execution_count": 20,
      "metadata": {
        "colab": {
          "base_uri": "https://localhost:8080/",
          "height": 303
        },
        "id": "DKSIgPc2KTqP",
        "outputId": "d15c61cf-d16b-47af-e574-eac2594387c2"
      },
      "outputs": [
        {
          "data": {
            "text/plain": [
              "0     True\n",
              "1     True\n",
              "2     True\n",
              "3    False\n",
              "4    False\n",
              "5     True\n",
              "6     True\n",
              "dtype: bool"
            ]
          },
          "execution_count": 20,
          "metadata": {},
          "output_type": "execute_result"
        }
      ],
      "source": [
        "(df['급여'] >= 5000000) | (df['나이'] < 40)\n"
      ]
    },
    {
      "cell_type": "code",
      "execution_count": 21,
      "metadata": {
        "colab": {
          "base_uri": "https://localhost:8080/",
          "height": 303
        },
        "id": "EtTFSkaHKWFM",
        "outputId": "db342431-5277-481d-c8f9-3bb99d78bb90"
      },
      "outputs": [
        {
          "data": {
            "text/plain": [
              "0     True\n",
              "1    False\n",
              "2    False\n",
              "3    False\n",
              "4    False\n",
              "5     True\n",
              "6    False\n",
              "dtype: bool"
            ]
          },
          "execution_count": 21,
          "metadata": {},
          "output_type": "execute_result"
        }
      ],
      "source": [
        "(df['급여'] >= 5000000) & (df['몸무게'] > 70) & (df['나이'] < 50)\n"
      ]
    },
    {
      "cell_type": "markdown",
      "metadata": {
        "id": "LSKeONBjKe7k"
      },
      "source": [
        "조건에 맞는 행, 열만 표시"
      ]
    },
    {
      "cell_type": "code",
      "execution_count": 22,
      "metadata": {
        "colab": {
          "base_uri": "https://localhost:8080/",
          "height": 303
        },
        "id": "NNyu3btVtIBQ",
        "outputId": "5d26225f-913c-4c9c-8777-3a6a28b45f54"
      },
      "outputs": [
        {
          "data": {
            "text/plain": [
              "0     True\n",
              "1    False\n",
              "2     True\n",
              "3    False\n",
              "4    False\n",
              "5     True\n",
              "6    False\n",
              "Name: 급여, dtype: bool"
            ]
          },
          "execution_count": 22,
          "metadata": {},
          "output_type": "execute_result"
        }
      ],
      "source": [
        "(df['급여'] >= 5000000)"
      ]
    },
    {
      "cell_type": "code",
      "execution_count": 23,
      "metadata": {
        "colab": {
          "base_uri": "https://localhost:8080/",
          "height": 143
        },
        "id": "0q5HQHcqKglG",
        "outputId": "40e21be3-8a2b-4d96-c9e7-b7982a6b0aa5"
      },
      "outputs": [
        {
          "data": {
            "text/html": [
              "<div>\n",
              "<style scoped>\n",
              "    .dataframe tbody tr th:only-of-type {\n",
              "        vertical-align: middle;\n",
              "    }\n",
              "\n",
              "    .dataframe tbody tr th {\n",
              "        vertical-align: top;\n",
              "    }\n",
              "\n",
              "    .dataframe thead th {\n",
              "        text-align: right;\n",
              "    }\n",
              "</style>\n",
              "<table border=\"1\" class=\"dataframe\">\n",
              "  <thead>\n",
              "    <tr style=\"text-align: right;\">\n",
              "      <th></th>\n",
              "      <th>성명</th>\n",
              "      <th>나이</th>\n",
              "      <th>몸무게</th>\n",
              "      <th>급여</th>\n",
              "    </tr>\n",
              "  </thead>\n",
              "  <tbody>\n",
              "    <tr>\n",
              "      <th>0</th>\n",
              "      <td>김민재</td>\n",
              "      <td>27</td>\n",
              "      <td>75</td>\n",
              "      <td>5428000</td>\n",
              "    </tr>\n",
              "    <tr>\n",
              "      <th>2</th>\n",
              "      <td>박찬호</td>\n",
              "      <td>50</td>\n",
              "      <td>91</td>\n",
              "      <td>8428000</td>\n",
              "    </tr>\n",
              "    <tr>\n",
              "      <th>5</th>\n",
              "      <td>손흥민</td>\n",
              "      <td>31</td>\n",
              "      <td>72</td>\n",
              "      <td>7028000</td>\n",
              "    </tr>\n",
              "  </tbody>\n",
              "</table>\n",
              "</div>"
            ],
            "text/plain": [
              "    성명  나이  몸무게       급여\n",
              "0  김민재  27   75  5428000\n",
              "2  박찬호  50   91  8428000\n",
              "5  손흥민  31   72  7028000"
            ]
          },
          "execution_count": 23,
          "metadata": {},
          "output_type": "execute_result"
        }
      ],
      "source": [
        "\n",
        "df.loc[df['급여'] >= 5000000]\n"
      ]
    },
    {
      "cell_type": "code",
      "execution_count": 24,
      "metadata": {
        "colab": {
          "base_uri": "https://localhost:8080/",
          "height": 268
        },
        "id": "qHFiIYpMt6hK",
        "outputId": "372152e1-6035-4bf9-dfeb-5b3855df467a"
      },
      "outputs": [
        {
          "data": {
            "text/html": [
              "<div>\n",
              "<style scoped>\n",
              "    .dataframe tbody tr th:only-of-type {\n",
              "        vertical-align: middle;\n",
              "    }\n",
              "\n",
              "    .dataframe tbody tr th {\n",
              "        vertical-align: top;\n",
              "    }\n",
              "\n",
              "    .dataframe thead th {\n",
              "        text-align: right;\n",
              "    }\n",
              "</style>\n",
              "<table border=\"1\" class=\"dataframe\">\n",
              "  <thead>\n",
              "    <tr style=\"text-align: right;\">\n",
              "      <th></th>\n",
              "      <th>성명</th>\n",
              "      <th>나이</th>\n",
              "      <th>몸무게</th>\n",
              "      <th>급여</th>\n",
              "    </tr>\n",
              "  </thead>\n",
              "  <tbody>\n",
              "    <tr>\n",
              "      <th>0</th>\n",
              "      <td>김민재</td>\n",
              "      <td>27</td>\n",
              "      <td>75</td>\n",
              "      <td>5428000</td>\n",
              "    </tr>\n",
              "    <tr>\n",
              "      <th>1</th>\n",
              "      <td>이강인</td>\n",
              "      <td>22</td>\n",
              "      <td>57</td>\n",
              "      <td>3428000</td>\n",
              "    </tr>\n",
              "    <tr>\n",
              "      <th>2</th>\n",
              "      <td>박찬호</td>\n",
              "      <td>50</td>\n",
              "      <td>91</td>\n",
              "      <td>8428000</td>\n",
              "    </tr>\n",
              "    <tr>\n",
              "      <th>3</th>\n",
              "      <td>차범근</td>\n",
              "      <td>70</td>\n",
              "      <td>80</td>\n",
              "      <td>4428000</td>\n",
              "    </tr>\n",
              "    <tr>\n",
              "      <th>4</th>\n",
              "      <td>추신수</td>\n",
              "      <td>43</td>\n",
              "      <td>100</td>\n",
              "      <td>4528000</td>\n",
              "    </tr>\n",
              "    <tr>\n",
              "      <th>5</th>\n",
              "      <td>손흥민</td>\n",
              "      <td>31</td>\n",
              "      <td>72</td>\n",
              "      <td>7028000</td>\n",
              "    </tr>\n",
              "    <tr>\n",
              "      <th>6</th>\n",
              "      <td>황희찬</td>\n",
              "      <td>28</td>\n",
              "      <td>69</td>\n",
              "      <td>2528000</td>\n",
              "    </tr>\n",
              "  </tbody>\n",
              "</table>\n",
              "</div>"
            ],
            "text/plain": [
              "    성명  나이  몸무게       급여\n",
              "0  김민재  27   75  5428000\n",
              "1  이강인  22   57  3428000\n",
              "2  박찬호  50   91  8428000\n",
              "3  차범근  70   80  4428000\n",
              "4  추신수  43  100  4528000\n",
              "5  손흥민  31   72  7028000\n",
              "6  황희찬  28   69  2528000"
            ]
          },
          "execution_count": 24,
          "metadata": {},
          "output_type": "execute_result"
        }
      ],
      "source": [
        "df"
      ]
    },
    {
      "cell_type": "code",
      "execution_count": 25,
      "metadata": {
        "colab": {
          "base_uri": "https://localhost:8080/",
          "height": 112
        },
        "id": "DWXsPsmpKiJj",
        "outputId": "87602a1d-6075-46a2-a3ab-dd13a2e3955d"
      },
      "outputs": [
        {
          "data": {
            "text/html": [
              "<div>\n",
              "<style scoped>\n",
              "    .dataframe tbody tr th:only-of-type {\n",
              "        vertical-align: middle;\n",
              "    }\n",
              "\n",
              "    .dataframe tbody tr th {\n",
              "        vertical-align: top;\n",
              "    }\n",
              "\n",
              "    .dataframe thead th {\n",
              "        text-align: right;\n",
              "    }\n",
              "</style>\n",
              "<table border=\"1\" class=\"dataframe\">\n",
              "  <thead>\n",
              "    <tr style=\"text-align: right;\">\n",
              "      <th></th>\n",
              "      <th>성명</th>\n",
              "      <th>나이</th>\n",
              "      <th>몸무게</th>\n",
              "      <th>급여</th>\n",
              "    </tr>\n",
              "  </thead>\n",
              "  <tbody>\n",
              "    <tr>\n",
              "      <th>0</th>\n",
              "      <td>김민재</td>\n",
              "      <td>27</td>\n",
              "      <td>75</td>\n",
              "      <td>5428000</td>\n",
              "    </tr>\n",
              "    <tr>\n",
              "      <th>6</th>\n",
              "      <td>황희찬</td>\n",
              "      <td>28</td>\n",
              "      <td>69</td>\n",
              "      <td>2528000</td>\n",
              "    </tr>\n",
              "  </tbody>\n",
              "</table>\n",
              "</div>"
            ],
            "text/plain": [
              "    성명  나이  몸무게       급여\n",
              "0  김민재  27   75  5428000\n",
              "6  황희찬  28   69  2528000"
            ]
          },
          "execution_count": 25,
          "metadata": {},
          "output_type": "execute_result"
        }
      ],
      "source": [
        "df.loc[(df['나이'] >= 25) & (df['나이'] <= 30)]\n"
      ]
    },
    {
      "cell_type": "code",
      "execution_count": 26,
      "metadata": {
        "colab": {
          "base_uri": "https://localhost:8080/",
          "height": 143
        },
        "id": "I-EUYELQKkc3",
        "outputId": "6679f0f7-5eca-497e-8919-681767258041"
      },
      "outputs": [
        {
          "data": {
            "text/html": [
              "<div>\n",
              "<style scoped>\n",
              "    .dataframe tbody tr th:only-of-type {\n",
              "        vertical-align: middle;\n",
              "    }\n",
              "\n",
              "    .dataframe tbody tr th {\n",
              "        vertical-align: top;\n",
              "    }\n",
              "\n",
              "    .dataframe thead th {\n",
              "        text-align: right;\n",
              "    }\n",
              "</style>\n",
              "<table border=\"1\" class=\"dataframe\">\n",
              "  <thead>\n",
              "    <tr style=\"text-align: right;\">\n",
              "      <th></th>\n",
              "      <th>성명</th>\n",
              "    </tr>\n",
              "  </thead>\n",
              "  <tbody>\n",
              "    <tr>\n",
              "      <th>0</th>\n",
              "      <td>김민재</td>\n",
              "    </tr>\n",
              "    <tr>\n",
              "      <th>2</th>\n",
              "      <td>박찬호</td>\n",
              "    </tr>\n",
              "    <tr>\n",
              "      <th>5</th>\n",
              "      <td>손흥민</td>\n",
              "    </tr>\n",
              "  </tbody>\n",
              "</table>\n",
              "</div>"
            ],
            "text/plain": [
              "    성명\n",
              "0  김민재\n",
              "2  박찬호\n",
              "5  손흥민"
            ]
          },
          "execution_count": 26,
          "metadata": {},
          "output_type": "execute_result"
        }
      ],
      "source": [
        "df.loc[df['급여'] > 5000000, ['성명']]\n"
      ]
    },
    {
      "cell_type": "code",
      "execution_count": 27,
      "metadata": {
        "colab": {
          "base_uri": "https://localhost:8080/",
          "height": 268
        },
        "id": "X7YqHjOhKqap",
        "outputId": "34a035f2-7add-4a9c-dad4-bb940155df66"
      },
      "outputs": [
        {
          "data": {
            "text/html": [
              "<div>\n",
              "<style scoped>\n",
              "    .dataframe tbody tr th:only-of-type {\n",
              "        vertical-align: middle;\n",
              "    }\n",
              "\n",
              "    .dataframe tbody tr th {\n",
              "        vertical-align: top;\n",
              "    }\n",
              "\n",
              "    .dataframe thead th {\n",
              "        text-align: right;\n",
              "    }\n",
              "</style>\n",
              "<table border=\"1\" class=\"dataframe\">\n",
              "  <thead>\n",
              "    <tr style=\"text-align: right;\">\n",
              "      <th></th>\n",
              "      <th>성명</th>\n",
              "      <th>나이</th>\n",
              "      <th>몸무게</th>\n",
              "      <th>급여</th>\n",
              "      <th>비고</th>\n",
              "    </tr>\n",
              "  </thead>\n",
              "  <tbody>\n",
              "    <tr>\n",
              "      <th>0</th>\n",
              "      <td>김민재</td>\n",
              "      <td>27</td>\n",
              "      <td>75</td>\n",
              "      <td>5428000</td>\n",
              "      <td></td>\n",
              "    </tr>\n",
              "    <tr>\n",
              "      <th>1</th>\n",
              "      <td>이강인</td>\n",
              "      <td>22</td>\n",
              "      <td>57</td>\n",
              "      <td>3428000</td>\n",
              "      <td></td>\n",
              "    </tr>\n",
              "    <tr>\n",
              "      <th>2</th>\n",
              "      <td>박찬호</td>\n",
              "      <td>50</td>\n",
              "      <td>91</td>\n",
              "      <td>8428000</td>\n",
              "      <td></td>\n",
              "    </tr>\n",
              "    <tr>\n",
              "      <th>3</th>\n",
              "      <td>차범근</td>\n",
              "      <td>70</td>\n",
              "      <td>80</td>\n",
              "      <td>4428000</td>\n",
              "      <td></td>\n",
              "    </tr>\n",
              "    <tr>\n",
              "      <th>4</th>\n",
              "      <td>추신수</td>\n",
              "      <td>43</td>\n",
              "      <td>100</td>\n",
              "      <td>4528000</td>\n",
              "      <td></td>\n",
              "    </tr>\n",
              "    <tr>\n",
              "      <th>5</th>\n",
              "      <td>손흥민</td>\n",
              "      <td>31</td>\n",
              "      <td>72</td>\n",
              "      <td>7028000</td>\n",
              "      <td></td>\n",
              "    </tr>\n",
              "    <tr>\n",
              "      <th>6</th>\n",
              "      <td>황희찬</td>\n",
              "      <td>28</td>\n",
              "      <td>69</td>\n",
              "      <td>2528000</td>\n",
              "      <td></td>\n",
              "    </tr>\n",
              "  </tbody>\n",
              "</table>\n",
              "</div>"
            ],
            "text/plain": [
              "    성명  나이  몸무게       급여 비고\n",
              "0  김민재  27   75  5428000   \n",
              "1  이강인  22   57  3428000   \n",
              "2  박찬호  50   91  8428000   \n",
              "3  차범근  70   80  4428000   \n",
              "4  추신수  43  100  4528000   \n",
              "5  손흥민  31   72  7028000   \n",
              "6  황희찬  28   69  2528000   "
            ]
          },
          "execution_count": 27,
          "metadata": {},
          "output_type": "execute_result"
        }
      ],
      "source": [
        "df['비고'] = ' '    # 새로운 컬럼에 데이터를 입력 df['비고'] = '정상'\n",
        "df\n"
      ]
    },
    {
      "cell_type": "code",
      "execution_count": 28,
      "metadata": {
        "colab": {
          "base_uri": "https://localhost:8080/",
          "height": 112
        },
        "id": "2xh0ZsU5KnXY",
        "outputId": "bde40757-548c-4b16-e476-fd59568e88fa"
      },
      "outputs": [
        {
          "data": {
            "text/html": [
              "<div>\n",
              "<style scoped>\n",
              "    .dataframe tbody tr th:only-of-type {\n",
              "        vertical-align: middle;\n",
              "    }\n",
              "\n",
              "    .dataframe tbody tr th {\n",
              "        vertical-align: top;\n",
              "    }\n",
              "\n",
              "    .dataframe thead th {\n",
              "        text-align: right;\n",
              "    }\n",
              "</style>\n",
              "<table border=\"1\" class=\"dataframe\">\n",
              "  <thead>\n",
              "    <tr style=\"text-align: right;\">\n",
              "      <th></th>\n",
              "      <th>비고</th>\n",
              "    </tr>\n",
              "  </thead>\n",
              "  <tbody>\n",
              "    <tr>\n",
              "      <th>2</th>\n",
              "      <td></td>\n",
              "    </tr>\n",
              "    <tr>\n",
              "      <th>4</th>\n",
              "      <td></td>\n",
              "    </tr>\n",
              "  </tbody>\n",
              "</table>\n",
              "</div>"
            ],
            "text/plain": [
              "  비고\n",
              "2   \n",
              "4   "
            ]
          },
          "execution_count": 28,
          "metadata": {},
          "output_type": "execute_result"
        }
      ],
      "source": [
        "df.loc[df['몸무게'] > 80, ['비고']]\n"
      ]
    },
    {
      "cell_type": "markdown",
      "metadata": {},
      "source": [
        "새로운 '체질량' 컬럼을 추가하고 특정 조건에는 특정 값을 지정"
      ]
    },
    {
      "cell_type": "code",
      "execution_count": 29,
      "metadata": {
        "colab": {
          "base_uri": "https://localhost:8080/",
          "height": 268
        },
        "id": "UNLkzwqOKuGD",
        "outputId": "6ee84c08-3f50-4a72-af26-a186925873e6"
      },
      "outputs": [
        {
          "data": {
            "text/html": [
              "<div>\n",
              "<style scoped>\n",
              "    .dataframe tbody tr th:only-of-type {\n",
              "        vertical-align: middle;\n",
              "    }\n",
              "\n",
              "    .dataframe tbody tr th {\n",
              "        vertical-align: top;\n",
              "    }\n",
              "\n",
              "    .dataframe thead th {\n",
              "        text-align: right;\n",
              "    }\n",
              "</style>\n",
              "<table border=\"1\" class=\"dataframe\">\n",
              "  <thead>\n",
              "    <tr style=\"text-align: right;\">\n",
              "      <th></th>\n",
              "      <th>성명</th>\n",
              "      <th>나이</th>\n",
              "      <th>몸무게</th>\n",
              "      <th>급여</th>\n",
              "      <th>비고</th>\n",
              "      <th>체질량</th>\n",
              "    </tr>\n",
              "  </thead>\n",
              "  <tbody>\n",
              "    <tr>\n",
              "      <th>0</th>\n",
              "      <td>김민재</td>\n",
              "      <td>27</td>\n",
              "      <td>75</td>\n",
              "      <td>5428000</td>\n",
              "      <td></td>\n",
              "      <td>NaN</td>\n",
              "    </tr>\n",
              "    <tr>\n",
              "      <th>1</th>\n",
              "      <td>이강인</td>\n",
              "      <td>22</td>\n",
              "      <td>57</td>\n",
              "      <td>3428000</td>\n",
              "      <td></td>\n",
              "      <td>NaN</td>\n",
              "    </tr>\n",
              "    <tr>\n",
              "      <th>2</th>\n",
              "      <td>박찬호</td>\n",
              "      <td>50</td>\n",
              "      <td>91</td>\n",
              "      <td>8428000</td>\n",
              "      <td></td>\n",
              "      <td>비만</td>\n",
              "    </tr>\n",
              "    <tr>\n",
              "      <th>3</th>\n",
              "      <td>차범근</td>\n",
              "      <td>70</td>\n",
              "      <td>80</td>\n",
              "      <td>4428000</td>\n",
              "      <td></td>\n",
              "      <td>NaN</td>\n",
              "    </tr>\n",
              "    <tr>\n",
              "      <th>4</th>\n",
              "      <td>추신수</td>\n",
              "      <td>43</td>\n",
              "      <td>100</td>\n",
              "      <td>4528000</td>\n",
              "      <td></td>\n",
              "      <td>비만</td>\n",
              "    </tr>\n",
              "    <tr>\n",
              "      <th>5</th>\n",
              "      <td>손흥민</td>\n",
              "      <td>31</td>\n",
              "      <td>72</td>\n",
              "      <td>7028000</td>\n",
              "      <td></td>\n",
              "      <td>NaN</td>\n",
              "    </tr>\n",
              "    <tr>\n",
              "      <th>6</th>\n",
              "      <td>황희찬</td>\n",
              "      <td>28</td>\n",
              "      <td>69</td>\n",
              "      <td>2528000</td>\n",
              "      <td></td>\n",
              "      <td>NaN</td>\n",
              "    </tr>\n",
              "  </tbody>\n",
              "</table>\n",
              "</div>"
            ],
            "text/plain": [
              "    성명  나이  몸무게       급여 비고  체질량\n",
              "0  김민재  27   75  5428000     NaN\n",
              "1  이강인  22   57  3428000     NaN\n",
              "2  박찬호  50   91  8428000      비만\n",
              "3  차범근  70   80  4428000     NaN\n",
              "4  추신수  43  100  4528000      비만\n",
              "5  손흥민  31   72  7028000     NaN\n",
              "6  황희찬  28   69  2528000     NaN"
            ]
          },
          "execution_count": 29,
          "metadata": {},
          "output_type": "execute_result"
        }
      ],
      "source": [
        "df.loc[df['몸무게'] > 80, ['체질량']] = '비만'\n",
        "df\n"
      ]
    },
    {
      "cell_type": "markdown",
      "metadata": {
        "id": "JHyKixHWKwrK"
      },
      "source": []
    }
  ],
  "metadata": {
    "colab": {
      "provenance": []
    },
    "kernelspec": {
      "display_name": "venv",
      "language": "python",
      "name": "python3"
    },
    "language_info": {
      "codemirror_mode": {
        "name": "ipython",
        "version": 3
      },
      "file_extension": ".py",
      "mimetype": "text/x-python",
      "name": "python",
      "nbconvert_exporter": "python",
      "pygments_lexer": "ipython3",
      "version": "3.9.6"
    }
  },
  "nbformat": 4,
  "nbformat_minor": 0
}
