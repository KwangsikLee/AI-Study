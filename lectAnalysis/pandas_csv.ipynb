{
  "cells": [
    {
      "cell_type": "code",
      "execution_count": 2,
      "metadata": {
        "colab": {
          "base_uri": "https://localhost:8080/",
          "height": 489
        },
        "id": "-_U2NVW4M_J_",
        "outputId": "19ebed53-778a-4295-cddd-6f511f2b2811"
      },
      "outputs": [
        {
          "name": "stdout",
          "output_type": "stream",
          "text": [
            "<class 'pandas.core.frame.DataFrame'>\n",
            "RangeIndex: 7 entries, 0 to 6\n",
            "Data columns (total 5 columns):\n",
            " #   Column  Non-Null Count  Dtype  \n",
            "---  ------  --------------  -----  \n",
            " 0   번호      7 non-null      int64  \n",
            " 1   성명      7 non-null      object \n",
            " 2   나이      7 non-null      int64  \n",
            " 3   몸무게     6 non-null      float64\n",
            " 4   급여      6 non-null      float64\n",
            "dtypes: float64(2), int64(2), object(1)\n",
            "memory usage: 408.0+ bytes\n"
          ]
        },
        {
          "data": {
            "text/html": [
              "<div>\n",
              "<style scoped>\n",
              "    .dataframe tbody tr th:only-of-type {\n",
              "        vertical-align: middle;\n",
              "    }\n",
              "\n",
              "    .dataframe tbody tr th {\n",
              "        vertical-align: top;\n",
              "    }\n",
              "\n",
              "    .dataframe thead th {\n",
              "        text-align: right;\n",
              "    }\n",
              "</style>\n",
              "<table border=\"1\" class=\"dataframe\">\n",
              "  <thead>\n",
              "    <tr style=\"text-align: right;\">\n",
              "      <th></th>\n",
              "      <th>번호</th>\n",
              "      <th>성명</th>\n",
              "      <th>나이</th>\n",
              "      <th>몸무게</th>\n",
              "      <th>급여</th>\n",
              "    </tr>\n",
              "  </thead>\n",
              "  <tbody>\n",
              "    <tr>\n",
              "      <th>0</th>\n",
              "      <td>100</td>\n",
              "      <td>김민재</td>\n",
              "      <td>27</td>\n",
              "      <td>75.0</td>\n",
              "      <td>5428000.0</td>\n",
              "    </tr>\n",
              "    <tr>\n",
              "      <th>1</th>\n",
              "      <td>101</td>\n",
              "      <td>이강인</td>\n",
              "      <td>22</td>\n",
              "      <td>57.0</td>\n",
              "      <td>NaN</td>\n",
              "    </tr>\n",
              "    <tr>\n",
              "      <th>2</th>\n",
              "      <td>102</td>\n",
              "      <td>박찬호</td>\n",
              "      <td>50</td>\n",
              "      <td>91.0</td>\n",
              "      <td>8428000.0</td>\n",
              "    </tr>\n",
              "    <tr>\n",
              "      <th>3</th>\n",
              "      <td>103</td>\n",
              "      <td>차범근</td>\n",
              "      <td>70</td>\n",
              "      <td>NaN</td>\n",
              "      <td>4428000.0</td>\n",
              "    </tr>\n",
              "    <tr>\n",
              "      <th>4</th>\n",
              "      <td>104</td>\n",
              "      <td>추신수</td>\n",
              "      <td>43</td>\n",
              "      <td>100.0</td>\n",
              "      <td>4528000.0</td>\n",
              "    </tr>\n",
              "    <tr>\n",
              "      <th>5</th>\n",
              "      <td>105</td>\n",
              "      <td>손흥민</td>\n",
              "      <td>31</td>\n",
              "      <td>72.0</td>\n",
              "      <td>7028000.0</td>\n",
              "    </tr>\n",
              "    <tr>\n",
              "      <th>6</th>\n",
              "      <td>106</td>\n",
              "      <td>황희찬</td>\n",
              "      <td>28</td>\n",
              "      <td>69.0</td>\n",
              "      <td>2528000.0</td>\n",
              "    </tr>\n",
              "  </tbody>\n",
              "</table>\n",
              "</div>"
            ],
            "text/plain": [
              "    번호   성명  나이    몸무게         급여\n",
              "0  100  김민재  27   75.0  5428000.0\n",
              "1  101  이강인  22   57.0        NaN\n",
              "2  102  박찬호  50   91.0  8428000.0\n",
              "3  103  차범근  70    NaN  4428000.0\n",
              "4  104  추신수  43  100.0  4528000.0\n",
              "5  105  손흥민  31   72.0  7028000.0\n",
              "6  106  황희찬  28   69.0  2528000.0"
            ]
          },
          "execution_count": 2,
          "metadata": {},
          "output_type": "execute_result"
        }
      ],
      "source": [
        "import pandas as pd\n",
        "df =  pd.read_csv('./pandas.csv', encoding='CP949')\n",
        "df.info()\n",
        "df\n"
      ]
    },
    {
      "cell_type": "code",
      "execution_count": 3,
      "metadata": {
        "colab": {
          "base_uri": "https://localhost:8080/"
        },
        "id": "BGpoSkpeNG94",
        "outputId": "70d24154-395a-422f-8d58-6ef27eaf106d"
      },
      "outputs": [
        {
          "data": {
            "text/plain": [
              "Index(['번호', '성명', '나이', '몸무게', '급여'], dtype='object')"
            ]
          },
          "execution_count": 3,
          "metadata": {},
          "output_type": "execute_result"
        }
      ],
      "source": [
        "df.columns\n"
      ]
    },
    {
      "cell_type": "code",
      "execution_count": 4,
      "metadata": {
        "colab": {
          "base_uri": "https://localhost:8080/"
        },
        "id": "0uR-xoBlNL76",
        "outputId": "3e4d0814-8078-4ff7-f851-1af2a15ec7b5"
      },
      "outputs": [
        {
          "name": "stdout",
          "output_type": "stream",
          "text": [
            "<class 'pandas.core.frame.DataFrame'>\n",
            "RangeIndex: 7 entries, 0 to 6\n",
            "Data columns (total 5 columns):\n",
            " #   Column  Non-Null Count  Dtype  \n",
            "---  ------  --------------  -----  \n",
            " 0   번호      7 non-null      int64  \n",
            " 1   성명      7 non-null      object \n",
            " 2   나이      7 non-null      int64  \n",
            " 3   몸무게     6 non-null      Int64  \n",
            " 4   급여      6 non-null      float64\n",
            "dtypes: Int64(1), float64(1), int64(2), object(1)\n",
            "memory usage: 415.0+ bytes\n"
          ]
        }
      ],
      "source": [
        "df['몸무게'] = df['몸무게'].astype('Int64')\n",
        "df.info()     # 각 컬럼의 데이터 형식을 확인할 수 있다.\n"
      ]
    },
    {
      "cell_type": "code",
      "execution_count": 5,
      "metadata": {
        "colab": {
          "base_uri": "https://localhost:8080/",
          "height": 175
        },
        "id": "Uz2Kv1-HNOWE",
        "outputId": "3864b0e8-f0a5-4d21-881c-b48694ab5361"
      },
      "outputs": [
        {
          "data": {
            "text/html": [
              "<div>\n",
              "<style scoped>\n",
              "    .dataframe tbody tr th:only-of-type {\n",
              "        vertical-align: middle;\n",
              "    }\n",
              "\n",
              "    .dataframe tbody tr th {\n",
              "        vertical-align: top;\n",
              "    }\n",
              "\n",
              "    .dataframe thead th {\n",
              "        text-align: right;\n",
              "    }\n",
              "</style>\n",
              "<table border=\"1\" class=\"dataframe\">\n",
              "  <thead>\n",
              "    <tr style=\"text-align: right;\">\n",
              "      <th></th>\n",
              "      <th>성명</th>\n",
              "      <th>급여</th>\n",
              "    </tr>\n",
              "  </thead>\n",
              "  <tbody>\n",
              "    <tr>\n",
              "      <th>0</th>\n",
              "      <td>김민재</td>\n",
              "      <td>5428000.0</td>\n",
              "    </tr>\n",
              "    <tr>\n",
              "      <th>1</th>\n",
              "      <td>이강인</td>\n",
              "      <td>NaN</td>\n",
              "    </tr>\n",
              "    <tr>\n",
              "      <th>2</th>\n",
              "      <td>박찬호</td>\n",
              "      <td>8428000.0</td>\n",
              "    </tr>\n",
              "    <tr>\n",
              "      <th>3</th>\n",
              "      <td>차범근</td>\n",
              "      <td>4428000.0</td>\n",
              "    </tr>\n",
              "  </tbody>\n",
              "</table>\n",
              "</div>"
            ],
            "text/plain": [
              "    성명         급여\n",
              "0  김민재  5428000.0\n",
              "1  이강인        NaN\n",
              "2  박찬호  8428000.0\n",
              "3  차범근  4428000.0"
            ]
          },
          "execution_count": 5,
          "metadata": {},
          "output_type": "execute_result"
        }
      ],
      "source": [
        "df.loc[0:3, ['성명','급여']]\n"
      ]
    },
    {
      "cell_type": "code",
      "execution_count": 6,
      "metadata": {
        "colab": {
          "base_uri": "https://localhost:8080/",
          "height": 143
        },
        "id": "EWJUFXATNRfM",
        "outputId": "73887342-1b24-4557-8abc-43cc2be14c75"
      },
      "outputs": [
        {
          "data": {
            "text/html": [
              "<div>\n",
              "<style scoped>\n",
              "    .dataframe tbody tr th:only-of-type {\n",
              "        vertical-align: middle;\n",
              "    }\n",
              "\n",
              "    .dataframe tbody tr th {\n",
              "        vertical-align: top;\n",
              "    }\n",
              "\n",
              "    .dataframe thead th {\n",
              "        text-align: right;\n",
              "    }\n",
              "</style>\n",
              "<table border=\"1\" class=\"dataframe\">\n",
              "  <thead>\n",
              "    <tr style=\"text-align: right;\">\n",
              "      <th></th>\n",
              "      <th>번호</th>\n",
              "      <th>성명</th>\n",
              "      <th>나이</th>\n",
              "      <th>몸무게</th>\n",
              "      <th>급여</th>\n",
              "    </tr>\n",
              "  </thead>\n",
              "  <tbody>\n",
              "    <tr>\n",
              "      <th>0</th>\n",
              "      <td>100</td>\n",
              "      <td>김민재</td>\n",
              "      <td>27</td>\n",
              "      <td>75</td>\n",
              "      <td>5428000.0</td>\n",
              "    </tr>\n",
              "    <tr>\n",
              "      <th>2</th>\n",
              "      <td>102</td>\n",
              "      <td>박찬호</td>\n",
              "      <td>50</td>\n",
              "      <td>91</td>\n",
              "      <td>8428000.0</td>\n",
              "    </tr>\n",
              "    <tr>\n",
              "      <th>5</th>\n",
              "      <td>105</td>\n",
              "      <td>손흥민</td>\n",
              "      <td>31</td>\n",
              "      <td>72</td>\n",
              "      <td>7028000.0</td>\n",
              "    </tr>\n",
              "  </tbody>\n",
              "</table>\n",
              "</div>"
            ],
            "text/plain": [
              "    번호   성명  나이  몸무게         급여\n",
              "0  100  김민재  27   75  5428000.0\n",
              "2  102  박찬호  50   91  8428000.0\n",
              "5  105  손흥민  31   72  7028000.0"
            ]
          },
          "execution_count": 6,
          "metadata": {},
          "output_type": "execute_result"
        }
      ],
      "source": [
        "df[df['급여']>=5000000]\n"
      ]
    },
    {
      "cell_type": "code",
      "execution_count": null,
      "metadata": {
        "colab": {
          "base_uri": "https://localhost:8080/",
          "height": 143
        },
        "id": "8Q4QYVVkNTCp",
        "outputId": "d5493103-d499-4449-924a-ef408ee2be12"
      },
      "outputs": [
        {
          "data": {
            "text/html": [
              "<div>\n",
              "<style scoped>\n",
              "    .dataframe tbody tr th:only-of-type {\n",
              "        vertical-align: middle;\n",
              "    }\n",
              "\n",
              "    .dataframe tbody tr th {\n",
              "        vertical-align: top;\n",
              "    }\n",
              "\n",
              "    .dataframe thead th {\n",
              "        text-align: right;\n",
              "    }\n",
              "</style>\n",
              "<table border=\"1\" class=\"dataframe\">\n",
              "  <thead>\n",
              "    <tr style=\"text-align: right;\">\n",
              "      <th></th>\n",
              "      <th>번호</th>\n",
              "      <th>성명</th>\n",
              "      <th>나이</th>\n",
              "      <th>몸무게</th>\n",
              "      <th>급여</th>\n",
              "    </tr>\n",
              "  </thead>\n",
              "  <tbody>\n",
              "    <tr>\n",
              "      <th>0</th>\n",
              "      <td>100</td>\n",
              "      <td>김민재</td>\n",
              "      <td>27</td>\n",
              "      <td>75</td>\n",
              "      <td>5428000.0</td>\n",
              "    </tr>\n",
              "    <tr>\n",
              "      <th>2</th>\n",
              "      <td>102</td>\n",
              "      <td>박찬호</td>\n",
              "      <td>50</td>\n",
              "      <td>91</td>\n",
              "      <td>8428000.0</td>\n",
              "    </tr>\n",
              "    <tr>\n",
              "      <th>5</th>\n",
              "      <td>105</td>\n",
              "      <td>손흥민</td>\n",
              "      <td>31</td>\n",
              "      <td>72</td>\n",
              "      <td>7028000.0</td>\n",
              "    </tr>\n",
              "  </tbody>\n",
              "</table>\n",
              "</div>"
            ],
            "text/plain": [
              "    번호   성명  나이  몸무게         급여\n",
              "0  100  김민재  27   75  5428000.0\n",
              "2  102  박찬호  50   91  8428000.0\n",
              "5  105  손흥민  31   72  7028000.0"
            ]
          },
          "execution_count": 12,
          "metadata": {},
          "output_type": "execute_result"
        }
      ],
      "source": [
        "df.loc[df['급여']>=5000000, ['번호','성명','급여']] # 특정 조건을 만족하는 행에서 여러 컬럼을 선택할 수 있다.\n",
        "\n",
        "df.loc[df['급여']>=5000000, '번호':'급여'] # 슬라이싱을 사용하여 특정 범위의 컬럼을 선택할 수 있다."
      ]
    },
    {
      "cell_type": "code",
      "execution_count": null,
      "metadata": {
        "colab": {
          "base_uri": "https://localhost:8080/",
          "height": 269
        },
        "id": "czpixa6WNXd_",
        "outputId": "3a8b7425-f470-45c6-9e13-0c24c78e3d77"
      },
      "outputs": [
        {
          "data": {
            "text/html": [
              "<div>\n",
              "<style scoped>\n",
              "    .dataframe tbody tr th:only-of-type {\n",
              "        vertical-align: middle;\n",
              "    }\n",
              "\n",
              "    .dataframe tbody tr th {\n",
              "        vertical-align: top;\n",
              "    }\n",
              "\n",
              "    .dataframe thead th {\n",
              "        text-align: right;\n",
              "    }\n",
              "</style>\n",
              "<table border=\"1\" class=\"dataframe\">\n",
              "  <thead>\n",
              "    <tr style=\"text-align: right;\">\n",
              "      <th></th>\n",
              "      <th>번호</th>\n",
              "      <th>성명</th>\n",
              "      <th>나이</th>\n",
              "      <th>몸무게</th>\n",
              "      <th>급여</th>\n",
              "    </tr>\n",
              "  </thead>\n",
              "  <tbody>\n",
              "    <tr>\n",
              "      <th>4</th>\n",
              "      <td>104</td>\n",
              "      <td>추신수</td>\n",
              "      <td>43</td>\n",
              "      <td>100</td>\n",
              "      <td>4528000.0</td>\n",
              "    </tr>\n",
              "    <tr>\n",
              "      <th>2</th>\n",
              "      <td>102</td>\n",
              "      <td>박찬호</td>\n",
              "      <td>50</td>\n",
              "      <td>91</td>\n",
              "      <td>8428000.0</td>\n",
              "    </tr>\n",
              "    <tr>\n",
              "      <th>0</th>\n",
              "      <td>100</td>\n",
              "      <td>김민재</td>\n",
              "      <td>27</td>\n",
              "      <td>75</td>\n",
              "      <td>5428000.0</td>\n",
              "    </tr>\n",
              "    <tr>\n",
              "      <th>5</th>\n",
              "      <td>105</td>\n",
              "      <td>손흥민</td>\n",
              "      <td>31</td>\n",
              "      <td>72</td>\n",
              "      <td>7028000.0</td>\n",
              "    </tr>\n",
              "    <tr>\n",
              "      <th>6</th>\n",
              "      <td>106</td>\n",
              "      <td>황희찬</td>\n",
              "      <td>28</td>\n",
              "      <td>69</td>\n",
              "      <td>2528000.0</td>\n",
              "    </tr>\n",
              "    <tr>\n",
              "      <th>1</th>\n",
              "      <td>101</td>\n",
              "      <td>이강인</td>\n",
              "      <td>22</td>\n",
              "      <td>57</td>\n",
              "      <td>NaN</td>\n",
              "    </tr>\n",
              "    <tr>\n",
              "      <th>3</th>\n",
              "      <td>103</td>\n",
              "      <td>차범근</td>\n",
              "      <td>70</td>\n",
              "      <td>&lt;NA&gt;</td>\n",
              "      <td>4428000.0</td>\n",
              "    </tr>\n",
              "  </tbody>\n",
              "</table>\n",
              "</div>"
            ],
            "text/plain": [
              "    번호   성명  나이   몸무게         급여\n",
              "4  104  추신수  43   100  4528000.0\n",
              "2  102  박찬호  50    91  8428000.0\n",
              "0  100  김민재  27    75  5428000.0\n",
              "5  105  손흥민  31    72  7028000.0\n",
              "6  106  황희찬  28    69  2528000.0\n",
              "1  101  이강인  22    57        NaN\n",
              "3  103  차범근  70  <NA>  4428000.0"
            ]
          },
          "execution_count": 18,
          "metadata": {},
          "output_type": "execute_result"
        }
      ],
      "source": [
        "# '나이' 컬럼을 기준으로 데이터를 정렬한다.\n",
        "df.sort_values(by='나이', ascending=False) # '몸무게' 컬럼을 기준으로 데이터를 내림차순으로 정렬한다.\n",
        "df.sort_values(['몸무게', '나이'], ascending=False)     # 여러 컬럼을 기준으로 정렬할 수도 있다.\n"
      ]
    },
    {
      "cell_type": "markdown",
      "metadata": {
        "id": "6XP0VVQ6NaD9"
      },
      "source": [
        "# 데이터 결측치"
      ]
    },
    {
      "cell_type": "code",
      "execution_count": 9,
      "metadata": {
        "colab": {
          "base_uri": "https://localhost:8080/",
          "height": 269
        },
        "id": "b8hLWpT-NcQR",
        "outputId": "34644afa-fe82-48e2-be89-b65f17d9e91e"
      },
      "outputs": [
        {
          "data": {
            "text/html": [
              "<div>\n",
              "<style scoped>\n",
              "    .dataframe tbody tr th:only-of-type {\n",
              "        vertical-align: middle;\n",
              "    }\n",
              "\n",
              "    .dataframe tbody tr th {\n",
              "        vertical-align: top;\n",
              "    }\n",
              "\n",
              "    .dataframe thead th {\n",
              "        text-align: right;\n",
              "    }\n",
              "</style>\n",
              "<table border=\"1\" class=\"dataframe\">\n",
              "  <thead>\n",
              "    <tr style=\"text-align: right;\">\n",
              "      <th></th>\n",
              "      <th>번호</th>\n",
              "      <th>성명</th>\n",
              "      <th>나이</th>\n",
              "      <th>몸무게</th>\n",
              "      <th>급여</th>\n",
              "    </tr>\n",
              "  </thead>\n",
              "  <tbody>\n",
              "    <tr>\n",
              "      <th>0</th>\n",
              "      <td>False</td>\n",
              "      <td>False</td>\n",
              "      <td>False</td>\n",
              "      <td>False</td>\n",
              "      <td>False</td>\n",
              "    </tr>\n",
              "    <tr>\n",
              "      <th>1</th>\n",
              "      <td>False</td>\n",
              "      <td>False</td>\n",
              "      <td>False</td>\n",
              "      <td>False</td>\n",
              "      <td>True</td>\n",
              "    </tr>\n",
              "    <tr>\n",
              "      <th>2</th>\n",
              "      <td>False</td>\n",
              "      <td>False</td>\n",
              "      <td>False</td>\n",
              "      <td>False</td>\n",
              "      <td>False</td>\n",
              "    </tr>\n",
              "    <tr>\n",
              "      <th>3</th>\n",
              "      <td>False</td>\n",
              "      <td>False</td>\n",
              "      <td>False</td>\n",
              "      <td>True</td>\n",
              "      <td>False</td>\n",
              "    </tr>\n",
              "    <tr>\n",
              "      <th>4</th>\n",
              "      <td>False</td>\n",
              "      <td>False</td>\n",
              "      <td>False</td>\n",
              "      <td>False</td>\n",
              "      <td>False</td>\n",
              "    </tr>\n",
              "    <tr>\n",
              "      <th>5</th>\n",
              "      <td>False</td>\n",
              "      <td>False</td>\n",
              "      <td>False</td>\n",
              "      <td>False</td>\n",
              "      <td>False</td>\n",
              "    </tr>\n",
              "    <tr>\n",
              "      <th>6</th>\n",
              "      <td>False</td>\n",
              "      <td>False</td>\n",
              "      <td>False</td>\n",
              "      <td>False</td>\n",
              "      <td>False</td>\n",
              "    </tr>\n",
              "  </tbody>\n",
              "</table>\n",
              "</div>"
            ],
            "text/plain": [
              "      번호     성명     나이    몸무게     급여\n",
              "0  False  False  False  False  False\n",
              "1  False  False  False  False   True\n",
              "2  False  False  False  False  False\n",
              "3  False  False  False   True  False\n",
              "4  False  False  False  False  False\n",
              "5  False  False  False  False  False\n",
              "6  False  False  False  False  False"
            ]
          },
          "execution_count": 9,
          "metadata": {},
          "output_type": "execute_result"
        }
      ],
      "source": [
        "df.isna()     # 결측치가 존재하는 곳에 True를 표시한다.\n",
        "df.isnull()   # .isna() 메서드와 같이 결측치가 존재하는곳에 True를 표시한다.\n"
      ]
    },
    {
      "cell_type": "code",
      "execution_count": 20,
      "metadata": {
        "colab": {
          "base_uri": "https://localhost:8080/",
          "height": 241
        },
        "id": "kYvrZdLtNfNt",
        "outputId": "718310ec-c798-4ee5-9263-f92ceba50d64"
      },
      "outputs": [
        {
          "data": {
            "text/plain": [
              "번호     0\n",
              "성명     0\n",
              "나이     0\n",
              "몸무게    1\n",
              "급여     1\n",
              "dtype: int64"
            ]
          },
          "execution_count": 20,
          "metadata": {},
          "output_type": "execute_result"
        }
      ],
      "source": [
        "df.isna().sum()   # 전체 데이터에서 각 컬럼마다 존재하는 결측치를 더한 결과를 표시한다\n"
      ]
    },
    {
      "cell_type": "markdown",
      "metadata": {
        "id": "AuJ7Ol8yNrAG"
      },
      "source": [
        "결측치(NaN)가 포함된 행(row) 전체를 삭제한 다음, df 에 삭제된 결과를 저장"
      ]
    },
    {
      "cell_type": "code",
      "execution_count": 21,
      "metadata": {
        "colab": {
          "base_uri": "https://localhost:8080/",
          "height": 206
        },
        "id": "hFm_XjK-Nro4",
        "outputId": "3814f574-4be9-4f85-fd27-1c5586b8ca17"
      },
      "outputs": [
        {
          "data": {
            "text/html": [
              "<div>\n",
              "<style scoped>\n",
              "    .dataframe tbody tr th:only-of-type {\n",
              "        vertical-align: middle;\n",
              "    }\n",
              "\n",
              "    .dataframe tbody tr th {\n",
              "        vertical-align: top;\n",
              "    }\n",
              "\n",
              "    .dataframe thead th {\n",
              "        text-align: right;\n",
              "    }\n",
              "</style>\n",
              "<table border=\"1\" class=\"dataframe\">\n",
              "  <thead>\n",
              "    <tr style=\"text-align: right;\">\n",
              "      <th></th>\n",
              "      <th>번호</th>\n",
              "      <th>성명</th>\n",
              "      <th>나이</th>\n",
              "      <th>몸무게</th>\n",
              "      <th>급여</th>\n",
              "    </tr>\n",
              "  </thead>\n",
              "  <tbody>\n",
              "    <tr>\n",
              "      <th>0</th>\n",
              "      <td>100</td>\n",
              "      <td>김민재</td>\n",
              "      <td>27</td>\n",
              "      <td>75.0</td>\n",
              "      <td>5428000.0</td>\n",
              "    </tr>\n",
              "    <tr>\n",
              "      <th>2</th>\n",
              "      <td>102</td>\n",
              "      <td>박찬호</td>\n",
              "      <td>50</td>\n",
              "      <td>91.0</td>\n",
              "      <td>8428000.0</td>\n",
              "    </tr>\n",
              "    <tr>\n",
              "      <th>4</th>\n",
              "      <td>104</td>\n",
              "      <td>추신수</td>\n",
              "      <td>43</td>\n",
              "      <td>100.0</td>\n",
              "      <td>4528000.0</td>\n",
              "    </tr>\n",
              "    <tr>\n",
              "      <th>5</th>\n",
              "      <td>105</td>\n",
              "      <td>손흥민</td>\n",
              "      <td>31</td>\n",
              "      <td>72.0</td>\n",
              "      <td>7028000.0</td>\n",
              "    </tr>\n",
              "    <tr>\n",
              "      <th>6</th>\n",
              "      <td>106</td>\n",
              "      <td>황희찬</td>\n",
              "      <td>28</td>\n",
              "      <td>69.0</td>\n",
              "      <td>2528000.0</td>\n",
              "    </tr>\n",
              "  </tbody>\n",
              "</table>\n",
              "</div>"
            ],
            "text/plain": [
              "    번호   성명  나이    몸무게         급여\n",
              "0  100  김민재  27   75.0  5428000.0\n",
              "2  102  박찬호  50   91.0  8428000.0\n",
              "4  104  추신수  43  100.0  4528000.0\n",
              "5  105  손흥민  31   72.0  7028000.0\n",
              "6  106  황희찬  28   69.0  2528000.0"
            ]
          },
          "execution_count": 21,
          "metadata": {},
          "output_type": "execute_result"
        }
      ],
      "source": [
        "import pandas as pd\n",
        "df =  pd.read_csv('./pandas.csv', encoding='CP949')\n",
        "\n",
        "# 방법 1: 결과를 다시 변수에 저장\n",
        "df = df.dropna()\n",
        "\n",
        "# 방법 2: 원본 DataFrame에 직접 적용\n",
        "df.dropna(inplace=True)\n",
        "\n",
        "df\n"
      ]
    }
  ],
  "metadata": {
    "colab": {
      "provenance": []
    },
    "kernelspec": {
      "display_name": "venv",
      "language": "python",
      "name": "python3"
    },
    "language_info": {
      "codemirror_mode": {
        "name": "ipython",
        "version": 3
      },
      "file_extension": ".py",
      "mimetype": "text/x-python",
      "name": "python",
      "nbconvert_exporter": "python",
      "pygments_lexer": "ipython3",
      "version": "3.9.6"
    }
  },
  "nbformat": 4,
  "nbformat_minor": 0
}
