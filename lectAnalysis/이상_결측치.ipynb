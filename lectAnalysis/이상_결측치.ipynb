{
  "cells": [
    {
      "cell_type": "markdown",
      "metadata": {
        "id": "ZYaBJxOVIcrF"
      },
      "source": [
        "# example1_missing_value_summary"
      ]
    },
    {
      "cell_type": "code",
      "execution_count": null,
      "metadata": {
        "colab": {
          "base_uri": "https://localhost:8080/"
        },
        "id": "f_TTwz2SFs_p",
        "outputId": "06542d99-1460-4338-e783-c35cfcab6816"
      },
      "outputs": [],
      "source": [
        "# example1_missing_value_summary\n",
        "\n",
        "import pandas as pd\n",
        "import numpy as np\n",
        "\n",
        "def main():\n",
        "    # 샘플 데이터프레임 생성\n",
        "    data = {\n",
        "        'A': [1, 2, np.nan, 4, 5],\n",
        "        'B': [np.nan, 2, 3, 4, np.nan],\n",
        "        'C': ['foo', 'bar', 'baz', None, 'qux']\n",
        "    }\n",
        "    df = pd.DataFrame(data)\n",
        "\n",
        "    # 기본 정보 출력\n",
        "    print(\"=== DataFrame Info ===\")\n",
        "    print(df.info(), \"\\n\")\n",
        "\n",
        "    ### 결측치 최대인 부분 삭제\n",
        "    nan_cnt = df.isnull().sum()\n",
        "    nan_max_id = nan_cnt.idxmax() # 결측치가 가장 많은 컬럼의 이름\n",
        "    print(f\"=== Column with Maximum Missing Values: {nan_max_id} ===\")\n",
        "    df_max_nan = df.drop(nan_max_id, axis=1)  # 해당 컬럼 삭제\n",
        "    print(df_max_nan, \"\\n\")\n",
        "\n",
        "\n",
        "    # 결측치 개수 요약\n",
        "    print(\"=== Missing Value Count ===\")\n",
        "    print(df.isnull().sum(), \"\\n\")\n",
        "\n",
        "    # 비율로도 확인\n",
        "    print(\"=== Missing Value Ratio ===\")\n",
        "    print((df.isnull().mean() * 100).round(2))\n",
        "\n",
        "if __name__ == \"__main__\":\n",
        "    main()\n"
      ]
    },
    {
      "cell_type": "markdown",
      "metadata": {
        "id": "2JL115bdIjOh"
      },
      "source": [
        "# example2_missing_value_drop"
      ]
    },
    {
      "cell_type": "code",
      "execution_count": null,
      "metadata": {
        "colab": {
          "base_uri": "https://localhost:8080/"
        },
        "id": "4Vjt3obfIbYV",
        "outputId": "ac2e896e-83be-4bb2-ac02-f060cf39204c"
      },
      "outputs": [],
      "source": [
        "\n",
        "\n",
        "import pandas as pd\n",
        "import numpy as np\n",
        "\n",
        "def main():\n",
        "    data = {\n",
        "        'A': [1, np.nan, 3, 4],\n",
        "        'B': [5, 6, np.nan, 8],\n",
        "        'C': [9, 10, 11, 12]\n",
        "    }\n",
        "    df = pd.DataFrame(data)\n",
        "    print(\"=== Original DataFrame ===\")\n",
        "    print(df, \"\\n\")\n",
        "\n",
        "    # 행 단위로 결측치가 있는 모든 행 제거\n",
        "    df_drop_rows = df.dropna(axis=0)\n",
        "    print(\"=== Drop Rows with any NaN ===\")\n",
        "    print(df_drop_rows, \"\\n\")\n",
        "\n",
        "    # 열 단위로 결측치가 있는 모든 열 제거\n",
        "    df_drop_cols = df.dropna(axis=1)\n",
        "    print(\"=== Drop Columns with any NaN ===\")\n",
        "    print(df_drop_cols)\n",
        "\n",
        "if __name__ == \"__main__\":\n",
        "    main()\n"
      ]
    },
    {
      "cell_type": "markdown",
      "metadata": {
        "id": "L_pJGuKWIozu"
      },
      "source": [
        "# example3_missing_value_imputation"
      ]
    },
    {
      "cell_type": "code",
      "execution_count": null,
      "metadata": {
        "colab": {
          "base_uri": "https://localhost:8080/"
        },
        "id": "9VXFoswDIn_M",
        "outputId": "4bac0b5c-3d35-4d54-92f4-553932048948"
      },
      "outputs": [],
      "source": [
        "\n",
        "\n",
        "import pandas as pd\n",
        "import numpy as np\n",
        "from sklearn.impute import SimpleImputer\n",
        "\n",
        "def main():\n",
        "    data = {\n",
        "        'Height': [150, 160, np.nan, 170, 180],\n",
        "        'Weight': [50, np.nan, 65, 70, 75]\n",
        "    }\n",
        "    df = pd.DataFrame(data)\n",
        "    print(\"=== Before Imputation ===\")\n",
        "    print(df, \"\\n\")\n",
        "\n",
        "    # 1) Pandas fillna로 평균 대체\n",
        "    df_mean = df.fillna(df.mean())\n",
        "    print(\"=== Mean Imputation (pandas) ===\")\n",
        "    print(df_mean, \"\\n\")\n",
        "\n",
        "    # 2) sklearn SimpleImputer (중앙값)\n",
        "    imp_median = SimpleImputer(strategy='median')\n",
        "    df_med = pd.DataFrame(imp_median.fit_transform(df), columns=df.columns)\n",
        "    print(\"=== Median Imputation (sklearn) ===\")\n",
        "    print(df_med)\n",
        "\n",
        "if __name__ == \"__main__\":\n",
        "    main()\n"
      ]
    },
    {
      "cell_type": "markdown",
      "metadata": {
        "id": "eNfByPdzIvko"
      },
      "source": [
        "# example4_outlier_detection_zscore"
      ]
    },
    {
      "cell_type": "code",
      "execution_count": null,
      "metadata": {
        "colab": {
          "base_uri": "https://localhost:8080/"
        },
        "id": "ZkTgMbosIwHz",
        "outputId": "3af40b2e-4529-439e-f524-9021d1d163e7"
      },
      "outputs": [],
      "source": [
        "\n",
        "\n",
        "import pandas as pd\n",
        "import numpy as np\n",
        "from scipy import stats\n",
        "\n",
        "def main():\n",
        "    # 정규 분포 + 이상치 추가\n",
        "    np.random.seed(0)\n",
        "    data = np.concatenate([np.random.normal(50, 5, 100), [100, 110, 120]])\n",
        "    df = pd.DataFrame({'Value': data})\n",
        "\n",
        "    # Z-Score 계산\n",
        "    df['z_score'] = np.abs(stats.zscore(df['Value']))\n",
        "\n",
        "    # 임계값 3을 넘는 값 탐지\n",
        "    outliers = df[df['z_score'] > 3]\n",
        "\n",
        "    print(\"=== All Data ===\")\n",
        "    print(df.head(), \"...\", df.tail(), \"\\n\")\n",
        "    print(\"=== Detected Outliers (|z| > 3) ===\")\n",
        "    print(outliers)\n",
        "\n",
        "if __name__ == \"__main__\":\n",
        "    main()\n"
      ]
    },
    {
      "cell_type": "markdown",
      "metadata": {
        "id": "2z8UDGQJI7kd"
      },
      "source": [
        "# example5_outlier_detection_iqr"
      ]
    },
    {
      "cell_type": "code",
      "execution_count": null,
      "metadata": {
        "colab": {
          "base_uri": "https://localhost:8080/"
        },
        "id": "J_wVvo5rI60K",
        "outputId": "4c3bee3d-cab2-49cd-d7ec-ef7bf04843ce"
      },
      "outputs": [],
      "source": [
        "\n",
        "\n",
        "import pandas as pd\n",
        "import numpy as np\n",
        "\n",
        "def main():\n",
        "    # 예제 데이터 생성\n",
        "    np.random.seed(1)\n",
        "    data = np.concatenate([np.random.normal(100, 10, 200), [30, 30, 200, 220]])\n",
        "    df = pd.DataFrame({'Measure': data})\n",
        "\n",
        "    # IQR 계산\n",
        "    Q1 = df['Measure'].quantile(0.25)\n",
        "    Q3 = df['Measure'].quantile(0.75)\n",
        "    IQR = Q3 - Q1\n",
        "\n",
        "    print(f\"q1: {Q1:.2f}, q3: {Q3:.2f}, IQR: {IQR:.2f}\\n\")\n",
        "\n",
        "    # 이상치 조건\n",
        "    lower_bound = Q1 - 1.5 * IQR\n",
        "    upper_bound = Q3 + 1.5 * IQR\n",
        "    outliers = df[(df['Measure'] < lower_bound) | (df['Measure'] > upper_bound)]\n",
        "\n",
        "    print(f\"IQR: {IQR:.2f}, Lower: {lower_bound:.2f}, Upper: {upper_bound:.2f}\\n\")\n",
        "    print(\"=== Detected Outliers by IQR ===\")\n",
        "    print(outliers)\n",
        "    print(outliers.index)\n",
        "\n",
        "    outliers_drop = df.drop(outliers.index)\n",
        "\n",
        "if __name__ == \"__main__\":\n",
        "    main()\n"
      ]
    },
    {
      "cell_type": "markdown",
      "metadata": {
        "id": "_UBa4nHhJB5u"
      },
      "source": [
        "# example6_missing_outlier_visualization"
      ]
    },
    {
      "cell_type": "code",
      "execution_count": null,
      "metadata": {
        "colab": {
          "base_uri": "https://localhost:8080/",
          "height": 1000
        },
        "id": "0YVNuc2yJBEq",
        "outputId": "c603cf56-6523-4b52-8012-0e5b2492b6c7"
      },
      "outputs": [
        {
          "data": {
            "image/png": "[encoded data removed]",
            "text/plain": [
              "<Figure size 800x400 with 1 Axes>"
            ]
          },
          "metadata": {},
          "output_type": "display_data"
        },
        {
          "data": {
            "image/png": "[encoded data removed]",
            "text/plain": [
              "<Figure size 600x400 with 1 Axes>"
            ]
          },
          "metadata": {},
          "output_type": "display_data"
        },
        {
          "name": "stdout",
          "output_type": "stream",
          "text": [
            "        A      B\n",
            "5    True  False\n",
            "6   False  False\n",
            "7   False  False\n",
            "8   False  False\n",
            "9   False  False\n",
            "..    ...    ...\n",
            "95  False  False\n",
            "96  False  False\n",
            "97  False  False\n",
            "98  False  False\n",
            "99  False  False\n",
            "\n",
            "[95 rows x 2 columns]\n"
          ]
        },
        {
          "ename": "InvalidIndexError",
          "evalue": "(slice(None, None, None), 0)",
          "output_type": "error",
          "traceback": [
            "\u001b[0;31m---------------------------------------------------------------------------\u001b[0m",
            "\u001b[0;31mTypeError\u001b[0m                                 Traceback (most recent call last)",
            "File \u001b[0;32m~/work/AICamp/mywork/venv/lib/python3.9/site-packages/pandas/core/indexes/base.py:3812\u001b[0m, in \u001b[0;36mIndex.get_loc\u001b[0;34m(self, key)\u001b[0m\n\u001b[1;32m   3811\u001b[0m \u001b[38;5;28;01mtry\u001b[39;00m:\n\u001b[0;32m-> 3812\u001b[0m     \u001b[38;5;28;01mreturn\u001b[39;00m \u001b[38;5;28;43mself\u001b[39;49m\u001b[38;5;241;43m.\u001b[39;49m\u001b[43m_engine\u001b[49m\u001b[38;5;241;43m.\u001b[39;49m\u001b[43mget_loc\u001b[49m\u001b[43m(\u001b[49m\u001b[43mcasted_key\u001b[49m\u001b[43m)\u001b[49m\n\u001b[1;32m   3813\u001b[0m \u001b[38;5;28;01mexcept\u001b[39;00m \u001b[38;5;167;01mKeyError\u001b[39;00m \u001b[38;5;28;01mas\u001b[39;00m err:\n",
            "File \u001b[0;32mpandas/_libs/index.pyx:167\u001b[0m, in \u001b[0;36mpandas._libs.index.IndexEngine.get_loc\u001b[0;34m()\u001b[0m\n",
            "File \u001b[0;32mpandas/_libs/index.pyx:173\u001b[0m, in \u001b[0;36mpandas._libs.index.IndexEngine.get_loc\u001b[0;34m()\u001b[0m\n",
            "\u001b[0;31mTypeError\u001b[0m: '(slice(None, None, None), 0)' is an invalid key",
            "\nDuring handling of the above exception, another exception occurred:\n",
            "\u001b[0;31mInvalidIndexError\u001b[0m                         Traceback (most recent call last)",
            "Cell \u001b[0;32mIn[17], line 73\u001b[0m\n\u001b[1;32m     70\u001b[0m     plt\u001b[38;5;241m.\u001b[39mshow()\n\u001b[1;32m     72\u001b[0m \u001b[38;5;28;01mif\u001b[39;00m \u001b[38;5;18m__name__\u001b[39m \u001b[38;5;241m==\u001b[39m \u001b[38;5;124m\"\u001b[39m\u001b[38;5;124m__main__\u001b[39m\u001b[38;5;124m\"\u001b[39m:\n\u001b[0;32m---> 73\u001b[0m     \u001b[43mmain\u001b[49m\u001b[43m(\u001b[49m\u001b[43m)\u001b[49m\n",
            "Cell \u001b[0;32mIn[17], line 49\u001b[0m, in \u001b[0;36mmain\u001b[0;34m()\u001b[0m\n\u001b[1;32m     46\u001b[0m \u001b[38;5;28mprint\u001b[39m(outlier_mask[:])\n\u001b[1;32m     48\u001b[0m \u001b[38;5;66;03m# 플래그 컬럼 추가\u001b[39;00m\n\u001b[0;32m---> 49\u001b[0m df[\u001b[38;5;124m'\u001b[39m\u001b[38;5;124mA_outlier\u001b[39m\u001b[38;5;124m'\u001b[39m] \u001b[38;5;241m=\u001b[39m \u001b[43moutlier_mask\u001b[49m\u001b[43m[\u001b[49m\u001b[43m:\u001b[49m\u001b[43m,\u001b[49m\u001b[43m \u001b[49m\u001b[38;5;241;43m0\u001b[39;49m\u001b[43m]\u001b[49m\n\u001b[1;32m     50\u001b[0m df[\u001b[38;5;124m'\u001b[39m\u001b[38;5;124mB_outlier\u001b[39m\u001b[38;5;124m'\u001b[39m] \u001b[38;5;241m=\u001b[39m outlier_mask[:, \u001b[38;5;241m1\u001b[39m]\n\u001b[1;32m     52\u001b[0m \u001b[38;5;66;03m# 5) 박스플롯으로 이상치 시각화\u001b[39;00m\n",
            "File \u001b[0;32m~/work/AICamp/mywork/venv/lib/python3.9/site-packages/pandas/core/frame.py:4107\u001b[0m, in \u001b[0;36mDataFrame.__getitem__\u001b[0;34m(self, key)\u001b[0m\n\u001b[1;32m   4105\u001b[0m \u001b[38;5;28;01mif\u001b[39;00m \u001b[38;5;28mself\u001b[39m\u001b[38;5;241m.\u001b[39mcolumns\u001b[38;5;241m.\u001b[39mnlevels \u001b[38;5;241m>\u001b[39m \u001b[38;5;241m1\u001b[39m:\n\u001b[1;32m   4106\u001b[0m     \u001b[38;5;28;01mreturn\u001b[39;00m \u001b[38;5;28mself\u001b[39m\u001b[38;5;241m.\u001b[39m_getitem_multilevel(key)\n\u001b[0;32m-> 4107\u001b[0m indexer \u001b[38;5;241m=\u001b[39m \u001b[38;5;28;43mself\u001b[39;49m\u001b[38;5;241;43m.\u001b[39;49m\u001b[43mcolumns\u001b[49m\u001b[38;5;241;43m.\u001b[39;49m\u001b[43mget_loc\u001b[49m\u001b[43m(\u001b[49m\u001b[43mkey\u001b[49m\u001b[43m)\u001b[49m\n\u001b[1;32m   4108\u001b[0m \u001b[38;5;28;01mif\u001b[39;00m is_integer(indexer):\n\u001b[1;32m   4109\u001b[0m     indexer \u001b[38;5;241m=\u001b[39m [indexer]\n",
            "File \u001b[0;32m~/work/AICamp/mywork/venv/lib/python3.9/site-packages/pandas/core/indexes/base.py:3824\u001b[0m, in \u001b[0;36mIndex.get_loc\u001b[0;34m(self, key)\u001b[0m\n\u001b[1;32m   3819\u001b[0m     \u001b[38;5;28;01mraise\u001b[39;00m \u001b[38;5;167;01mKeyError\u001b[39;00m(key) \u001b[38;5;28;01mfrom\u001b[39;00m\u001b[38;5;250m \u001b[39m\u001b[38;5;21;01merr\u001b[39;00m\n\u001b[1;32m   3820\u001b[0m \u001b[38;5;28;01mexcept\u001b[39;00m \u001b[38;5;167;01mTypeError\u001b[39;00m:\n\u001b[1;32m   3821\u001b[0m     \u001b[38;5;66;03m# If we have a listlike key, _check_indexing_error will raise\u001b[39;00m\n\u001b[1;32m   3822\u001b[0m     \u001b[38;5;66;03m#  InvalidIndexError. Otherwise we fall through and re-raise\u001b[39;00m\n\u001b[1;32m   3823\u001b[0m     \u001b[38;5;66;03m#  the TypeError.\u001b[39;00m\n\u001b[0;32m-> 3824\u001b[0m     \u001b[38;5;28;43mself\u001b[39;49m\u001b[38;5;241;43m.\u001b[39;49m\u001b[43m_check_indexing_error\u001b[49m\u001b[43m(\u001b[49m\u001b[43mkey\u001b[49m\u001b[43m)\u001b[49m\n\u001b[1;32m   3825\u001b[0m     \u001b[38;5;28;01mraise\u001b[39;00m\n",
            "File \u001b[0;32m~/work/AICamp/mywork/venv/lib/python3.9/site-packages/pandas/core/indexes/base.py:6072\u001b[0m, in \u001b[0;36mIndex._check_indexing_error\u001b[0;34m(self, key)\u001b[0m\n\u001b[1;32m   6068\u001b[0m \u001b[38;5;28;01mdef\u001b[39;00m\u001b[38;5;250m \u001b[39m\u001b[38;5;21m_check_indexing_error\u001b[39m(\u001b[38;5;28mself\u001b[39m, key):\n\u001b[1;32m   6069\u001b[0m     \u001b[38;5;28;01mif\u001b[39;00m \u001b[38;5;129;01mnot\u001b[39;00m is_scalar(key):\n\u001b[1;32m   6070\u001b[0m         \u001b[38;5;66;03m# if key is not a scalar, directly raise an error (the code below\u001b[39;00m\n\u001b[1;32m   6071\u001b[0m         \u001b[38;5;66;03m# would convert to numpy arrays and raise later any way) - GH29926\u001b[39;00m\n\u001b[0;32m-> 6072\u001b[0m         \u001b[38;5;28;01mraise\u001b[39;00m InvalidIndexError(key)\n",
            "\u001b[0;31mInvalidIndexError\u001b[0m: (slice(None, None, None), 0)"
          ]
        }
      ],
      "source": [
        "\n",
        "\n",
        "import pandas as pd\n",
        "import numpy as np\n",
        "import matplotlib.pyplot as plt\n",
        "\n",
        "def main():\n",
        "    # 1) 샘플 데이터 생성\n",
        "    np.random.seed(42)\n",
        "    n = 100\n",
        "    # A, B 컬럼에 정규분포 데이터 + 일부 이상치 추가\n",
        "    A = np.random.normal(loc=10, scale=2, size=n)\n",
        "    B = np.random.normal(loc=5, scale=1, size=n)\n",
        "    A[[5, 15, 25]] = [20, 22, 25]    # A에 이상치\n",
        "    B[[10, 20, 30]] = [0, 100, 95]   # B에 이상치\n",
        "    # C 컬럼에 5개 결측치\n",
        "    C = np.random.rand(n)\n",
        "    C[[0, 1, 2, 3, 4]] = np.nan\n",
        "\n",
        "    df = pd.DataFrame({'A': A, 'B': B, 'C': C})\n",
        "\n",
        "    # 2) 결측치 시각화: Heatmap\n",
        "    plt.figure(figsize=(8, 4))\n",
        "    plt.imshow(df.isnull(), aspect='auto', cmap='gray_r')\n",
        "    plt.yticks([])\n",
        "    plt.xticks(range(len(df.columns)), df.columns)\n",
        "    plt.title('Missing Value Heatmap')\n",
        "    plt.xlabel('Columns')\n",
        "    plt.show()\n",
        "\n",
        "    # 3) 결측치 비율 막대그래프\n",
        "    miss_ratio = df.isnull().mean() * 100\n",
        "    plt.figure(figsize=(6, 4))\n",
        "    plt.bar(miss_ratio.index, miss_ratio.values)\n",
        "    for i, v in enumerate(miss_ratio.values):\n",
        "        plt.text(i, v + 1, f'{v:.1f}%', ha='center')\n",
        "    plt.ylim(0, miss_ratio.max() + 10)\n",
        "    plt.title('Missing Value Percentage by Column')\n",
        "    plt.ylabel('Percentage (%)')\n",
        "    plt.show()\n",
        "\n",
        "\n",
        "\n",
        "    # 4) 이상치 탐지 (Z-score 기준)\n",
        "    from scipy import stats\n",
        "    z_scores = np.abs(stats.zscore(df[['A', 'B']]))\n",
        "    outlier_mask = (z_scores > 3)\n",
        "    print(outlier_mask[:])\n",
        "\n",
        "    # 플래그 컬럼 추가\n",
        "    df['A_outlier'] = outlier_mask[:, 0]\n",
        "    df['B_outlier'] = outlier_mask[:, 1]\n",
        "\n",
        "    # 5) 박스플롯으로 이상치 시각화\n",
        "    plt.figure(figsize=(6, 4))\n",
        "    plt.boxplot([df['A'], df['B']], labels=['A', 'B'], showfliers=True)\n",
        "    plt.title('Outlier Boxplot for A and B')\n",
        "    plt.show()\n",
        "\n",
        "    # 6) 산점도로 이상치 강조\n",
        "    plt.figure(figsize=(6, 4))\n",
        "    # 정상치\n",
        "    normal = df[~(df['A_outlier'] | df['B_outlier'])]\n",
        "    plt.scatter(normal['A'], normal['B'], label='Normal', alpha=0.6)\n",
        "    # 이상치\n",
        "    outliers = df[df['A_outlier'] | df['B_outlier']]\n",
        "    plt.scatter(outliers['A'], outliers['B'], color='red', label='Outlier')\n",
        "    plt.xlabel('A')\n",
        "    plt.ylabel('B')\n",
        "    plt.title('Scatter Plot with Outliers Highlighted')\n",
        "    plt.legend()\n",
        "    plt.show()\n",
        "\n",
        "if __name__ == \"__main__\":\n",
        "    main()\n"
      ]
    },
    {
      "cell_type": "markdown",
      "metadata": {
        "id": "g1SpfzghJHu3"
      },
      "source": [
        "# example7_advanced_imputation"
      ]
    },
    {
      "cell_type": "code",
      "execution_count": null,
      "metadata": {
        "colab": {
          "base_uri": "https://localhost:8080/"
        },
        "id": "thKLGbWoJGuO",
        "outputId": "a4a9ef87-5271-4f6c-ec25-884836a232d3"
      },
      "outputs": [],
      "source": [
        "\n",
        "\n",
        "import pandas as pd\n",
        "import numpy as np\n",
        "from sklearn.experimental import enable_iterative_imputer\n",
        "from sklearn.impute import IterativeImputer\n",
        "\n",
        "def main():\n",
        "    # 다변량 결측치 예제\n",
        "    np.random.seed(0)\n",
        "    X = np.random.normal(size=(100, 3))\n",
        "    # 일부러 결측치 삽입\n",
        "    mask = np.random.rand(*X.shape) < 0.1\n",
        "    X[mask] = np.nan\n",
        "    df = pd.DataFrame(X, columns=['Feat1','Feat2','Feat3'])\n",
        "\n",
        "    print(\"=== Before Imputation ===\")\n",
        "    print(df.isnull().sum(), \"\\n\")\n",
        "\n",
        "    # Iterative Imputer 적용\n",
        "    imp = IterativeImputer(random_state=0)\n",
        "    X_imp = imp.fit_transform(df)\n",
        "    df_imp = pd.DataFrame(X_imp, columns=df.columns)\n",
        "\n",
        "    print(\"=== After Imputation ===\")\n",
        "    print(df_imp.isnull().sum())\n",
        "\n",
        "if __name__ == \"__main__\":\n",
        "    main()\n"
      ]
    }
  ],
  "metadata": {
    "colab": {
      "provenance": []
    },
    "kernelspec": {
      "display_name": "venv",
      "language": "python",
      "name": "python3"
    },
    "language_info": {
      "codemirror_mode": {
        "name": "ipython",
        "version": 3
      },
      "file_extension": ".py",
      "mimetype": "text/x-python",
      "name": "python",
      "nbconvert_exporter": "python",
      "pygments_lexer": "ipython3",
      "version": "3.9.6"
    }
  },
  "nbformat": 4,
  "nbformat_minor": 0
}
